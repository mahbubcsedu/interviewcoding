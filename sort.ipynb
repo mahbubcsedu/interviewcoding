{
  "nbformat": 4,
  "nbformat_minor": 0,
  "metadata": {
    "colab": {
      "name": "sort.ipynb",
      "provenance": [],
      "authorship_tag": "ABX9TyPlJ98s0Ed+otRqJaWR/OHc",
      "include_colab_link": true
    },
    "kernelspec": {
      "name": "python3",
      "display_name": "Python 3"
    },
    "language_info": {
      "name": "python"
    }
  },
  "cells": [
    {
      "cell_type": "markdown",
      "metadata": {
        "id": "view-in-github",
        "colab_type": "text"
      },
      "source": [
        "<a href=\"https://colab.research.google.com/github/mahbubcsedu/interviewcoding/blob/main/sort.ipynb\" target=\"_parent\"><img src=\"https://colab.research.google.com/assets/colab-badge.svg\" alt=\"Open In Colab\"/></a>"
      ]
    },
    {
      "cell_type": "markdown",
      "metadata": {
        "id": "_TM80ni8CuUs"
      },
      "source": [
        "How bisect work in python\n",
        "* bisect.bisect_left(A,x, lo=0, hi=len(A)) returns the left most insertion points for x in A. if x is already present in a, the insertion point will be before (to the left of) any existing entries. \n",
        "* for details, here is a link https://docs.python.org/3/library/bisect.html\n",
        "\n"
      ]
    },
    {
      "cell_type": "code",
      "metadata": {
        "colab": {
          "base_uri": "https://localhost:8080/"
        },
        "id": "d1WvYXqcI-a-",
        "outputId": "7b9893ad-e06e-4c4c-e43a-f9652403689e"
      },
      "source": [
        "import bisect\n",
        "A = [2,3,7,9, 10, 10, 14]\n",
        "print(bisect.bisect_left(A,4)) # index 2 will be the left most insertion point for 4, \n",
        "print(bisect.bisect_left(A,10)) # index 2 will be the left most insertion point for 4\n",
        "print(bisect.bisect_right(A,4)) # index 2 will be the left most insertion point for 6\n",
        "print(bisect.bisect_right(A,10)) # index 2 will be the left most insertion point for 6\n",
        "print(bisect.bisect(A,10)) # index 2 will be the left most insertion point for 6\n"
      ],
      "execution_count": null,
      "outputs": [
        {
          "output_type": "stream",
          "name": "stdout",
          "text": [
            "2\n",
            "4\n",
            "2\n",
            "6\n",
            "6\n"
          ]
        }
      ]
    },
    {
      "cell_type": "code",
      "metadata": {
        "colab": {
          "base_uri": "https://localhost:8080/"
        },
        "id": "RhukBlROXva3",
        "outputId": "05cf17cc-3970-4066-9cb2-240bb2a4548e"
      },
      "source": [
        "from operator import itemgetter, attrgetter\n",
        "\n",
        "class Student:\n",
        "  def __init__(self, name, gpa):\n",
        "    self.name = name\n",
        "    self.gpa = gpa\n",
        "  def __repr__(self):\n",
        "    return ' '.join(map(repr, (self.name, self.gpa)))\n",
        "students = [\n",
        "    Student('mahbub', 97.5), Student('tazima',99), Student('aarish', 100), Student('ram',55), Student('karim', 99)          \n",
        "]\n",
        "# we can use attrgetter to sort based on any instance variable of student class\n",
        "# we can also write comparator method `__lt__` which is written in the EPI book\n",
        "st_sorted_by_name = sorted(students, key=attrgetter('gpa','name'))\n",
        "print(st_sorted_by_name)"
      ],
      "execution_count": null,
      "outputs": [
        {
          "output_type": "stream",
          "name": "stdout",
          "text": [
            "['ram' 55, 'mahbub' 97.5, 'karim' 99, 'tazima' 99, 'aarish' 100]\n"
          ]
        }
      ]
    },
    {
      "cell_type": "code",
      "metadata": {
        "id": "ETlgvAM4ZXCT",
        "colab": {
          "base_uri": "https://localhost:8080/"
        },
        "outputId": "e4b7e6b0-6a2f-4911-fee2-adade9e2aa76"
      },
      "source": [
        "import bisect\n",
        "\n",
        "def insersect_two_sorted_arrays2(A,B):\n",
        "  def is_present(k):\n",
        "    i = bisect.bisect_left(B, k)\n",
        "    return i < len(B) and B[i] == k\n",
        "  return [\n",
        "          a for i, a in enumerate(A)\n",
        "          if (i==0 or a != A[i-1]) and is_present(a)\n",
        "  ]\n",
        "print(insersect_two_sorted_arrays2([2,3,7,9, 10, 14], [1, 4, 10, 11]))\n",
        "\n",
        "def intersect_two_sorted_arrays3(A,B):\n",
        "  i,j, write_indx = 0, 0, 0\n",
        "  result = []\n",
        "  while i < len(A) and j < len(B):\n",
        "    if A[i] == B[j]:\n",
        "      if (i==0 or  A[i] != A[i-1]):\n",
        "        result.append(A[i])\n",
        "        i = i +1\n",
        "        j = j + 1\n",
        "    elif A[i] < B[j]:\n",
        "      i = i+1\n",
        "    else:\n",
        "       j = j+1\n",
        "  return result\n",
        "\n",
        "print(intersect_two_sorted_arrays3([2,3,7,9, 10, 14], [1, 4, 10, 11, 14]))"
      ],
      "execution_count": null,
      "outputs": [
        {
          "output_type": "stream",
          "text": [
            "[10]\n",
            "[10, 14]\n"
          ],
          "name": "stdout"
        }
      ]
    },
    {
      "cell_type": "code",
      "metadata": {
        "colab": {
          "base_uri": "https://localhost:8080/"
        },
        "id": "175ZvEE9V3_w",
        "outputId": "12a660dd-5ee4-478a-aef2-3ef6887a199c"
      },
      "source": [
        "def merge_two_sorted_arrays(A,B):\n",
        "  i_a, i_b, i_ab = len(A)-1, len(B)-1, len(A)+len(B)-1\n",
        "  # if A is already has the length initialized to i_ab then we can avoid last part and also can avoid use extra results array\n",
        "  \n",
        "  result = [None] * (i_ab+1)\n",
        "  print(i_a + i_b)\n",
        "  while i_a >=0 and i_b >= 0:\n",
        "    if A[i_a] > B[i_b]:\n",
        "      result[i_ab] = A[i_a]\n",
        "      i_a -= 1\n",
        "    else:\n",
        "      result[i_ab] = B[i_b]\n",
        "      i_b -= 1\n",
        "    i_ab -=1\n",
        "\n",
        "  while i_b >=0:\n",
        "     result[i_ab] = B[i_b]\n",
        "     i_b -=1\n",
        "     i_ab -= 1\n",
        "  while i_a >=0:\n",
        "    result[i_ab] = A[i_a]\n",
        "    i_a -= 1\n",
        "    i_ab -= 1\n",
        "  return result\n",
        "\n",
        "print(merge_two_sorted_arrays([1,2,6, 10, 12], [6, 7, 9, 11, 15]))\n",
        "    \n"
      ],
      "execution_count": null,
      "outputs": [
        {
          "output_type": "stream",
          "text": [
            "8\n",
            "[1, 2, 6, 6, 7, 9, 10, 11, 12, 15]\n"
          ],
          "name": "stdout"
        }
      ]
    },
    {
      "cell_type": "code",
      "metadata": {
        "colab": {
          "base_uri": "https://localhost:8080/"
        },
        "id": "JbfI2LHs-_YI",
        "outputId": "185f4c0e-75ec-40e5-e787-47bf3c907cd5"
      },
      "source": [
        "import collections\n",
        "\n",
        "Event = collections.namedtuple('Event', ('start', 'finish'))\n",
        "Endpoint = collections.namedtuple('Endpoint', ('time', 'is_start'))\n",
        "def sort_tuples(A):\n",
        "  E = ([Endpoint(event.start, True) for event in A] + [Endpoint(event.finish, False) for event in A])\n",
        "  # definitly need to ask question regarding this\n",
        "  E.sort(key = lambda e: (e.time,  e.is_start)) \n",
        " \n",
        "  num_sim_events, max_sim_events = 0, 0\n",
        "  for e in E:\n",
        "    if e.is_start:\n",
        "      num_sim_events +=1\n",
        "      max_sim_events = max(num_sim_events, max_sim_events)\n",
        "    else:\n",
        "      num_sim_events -=1\n",
        "   \n",
        "  return max_sim_events\n",
        "\n",
        "A = [\n",
        "        Event(1, 5), Event(2, 7), Event(4, 5), Event(6, 10), Event(8, 9),\n",
        "        Event(9, 17),Event(9,10), Event(11, 13), Event(12, 15), Event(14, 15)\n",
        "    ]\n",
        "\n",
        "print(sort_tuples(A), sep='')\n"
      ],
      "execution_count": null,
      "outputs": [
        {
          "output_type": "stream",
          "text": [
            "3\n"
          ],
          "name": "stdout"
        }
      ]
    },
    {
      "cell_type": "code",
      "metadata": {
        "colab": {
          "base_uri": "https://localhost:8080/"
        },
        "id": "_bcibHkDmcFd",
        "outputId": "bd1e6da5-65fe-464c-caad-0c0ae3d68fcc"
      },
      "source": [
        "import collections\n",
        "\n",
        "Person = collections.namedtuple('Person', ('age','name'))\n",
        "\n",
        "def group_by_age(people):\n",
        "  age_to_count = collections.Counter([person.age for person in people])\n",
        "  age_to_offset, offset = {}, 0\n",
        "  for age, count in age_to_count.items():\n",
        "    age_to_offset[age] = offset\n",
        "    offset += count\n",
        "  # print(age_to_offset)\n",
        " \n",
        "  i=0\n",
        "  while age_to_offset:\n",
        "    # print(people)\n",
        "    # print(age_to_count)\n",
        "    # the behavior of the next(iter) is the most complex one here. every time the iterator starts, so we will delete once the count reaches to 0\n",
        "    new_iterator = iter(age_to_offset)\n",
        "    from_age = next(new_iterator) \n",
        "    from_idx = age_to_offset[from_age]\n",
        "    # print(from_age, from_idx)\n",
        "\n",
        "    to_age = people[from_idx].age\n",
        "    to_idx = age_to_offset[people[from_idx].age]\n",
        "    # print(to_age, to_idx)\n",
        "    people[from_idx], people[to_idx] = people[to_idx], people[from_idx]\n",
        "    age_to_count[to_age] -=1\n",
        "    \n",
        "\n",
        "    if age_to_count[to_age]:\n",
        "      age_to_offset[to_age] = to_idx+1\n",
        "    else:\n",
        "      del age_to_offset[to_age]\n",
        "    \n",
        "    # print(age_to_offset)\n",
        "\n",
        "    \n",
        "A = [Person(14,\"Greg\"),Person(12,\"John\"),Person(11,\"Andy\"),Person(13,\"Jim\"),Person(12,\"Phil\"),Person(13,\"Bob\"),Person(13,\"Chip\"),Person(14,\"Tim\"),]\n",
        "\n",
        "group_by_age(A)\n",
        "print(A)"
      ],
      "execution_count": null,
      "outputs": [
        {
          "output_type": "stream",
          "text": [
            "{14: 0, 12: 2, 11: 4, 13: 5}\n",
            "[Person(age=14, name='Greg'), Person(age=14, name='Tim'), Person(age=12, name='John'), Person(age=12, name='Phil'), Person(age=11, name='Andy'), Person(age=13, name='Jim'), Person(age=13, name='Bob'), Person(age=13, name='Chip')]\n"
          ],
          "name": "stdout"
        }
      ]
    },
    {
      "cell_type": "code",
      "metadata": {
        "id": "UvM5UkcXjwMi"
      },
      "source": [
        "#look the explantion for boolean comparator in python 3: https://clojure.org/guides/comparators\n",
        "# lots of clarifying question needed here\n",
        "\n",
        "Endpoint = collections.namedtuple('Endpoint', ('is_closed', 'val'))\n",
        "\n",
        "class Interval:\n",
        "  def __init__(self, left, right):\n",
        "    self.left = left\n",
        "    self.right = right\n",
        "  #if left point of both are the same, the left closed will be the first\n",
        "  def __lt__(self, other):\n",
        "    if self.left.val != other.left.val:\n",
        "      return self.left.val < other.left.val\n",
        "    return self.left.is_closed and not other.left.is_closed\n",
        "\n",
        "  def union_of_intervals(intervals):\n",
        "    if not intervals:\n",
        "      return []\n",
        "    \n",
        "    intervals.sort()\n",
        "    result = [intervals[0]]\n",
        "\n",
        "    for i in intervals:\n",
        "      if intervals and (i.left.val < result[-1].right.val or\n",
        "                        i.left.val == result[-1].right.val and (i.left.is_closed or result[-1].right.is_closed)):\n",
        "        if(i.right.val > result[-1].right.val or\n",
        "           (i.right.val == result[-1].right.val and i.right.is_closed)):\n",
        "          result[-1].right = i.right\n",
        "      else:\n",
        "        result.append(i)\n",
        "    return result\n",
        "\n",
        "\n",
        "\n"
      ],
      "execution_count": null,
      "outputs": []
    }
  ]
}