{
  "nbformat": 4,
  "nbformat_minor": 0,
  "metadata": {
    "colab": {
      "provenance": [],
      "authorship_tag": "ABX9TyMHSc5FiNE3Lwfwe5twEveo",
      "include_colab_link": true
    },
    "kernelspec": {
      "name": "python3",
      "display_name": "Python 3"
    },
    "language_info": {
      "name": "python"
    }
  },
  "cells": [
    {
      "cell_type": "markdown",
      "metadata": {
        "id": "view-in-github",
        "colab_type": "text"
      },
      "source": [
        "<a href=\"https://colab.research.google.com/github/mahbubcsedu/interviewcoding/blob/main/graph_algorithm.ipynb\" target=\"_parent\"><img src=\"https://colab.research.google.com/assets/colab-badge.svg\" alt=\"Open In Colab\"/></a>"
      ]
    },
    {
      "cell_type": "markdown",
      "source": [
        "# Graph Algorithms"
      ],
      "metadata": {
        "id": "XaAB2vUK_Exm"
      }
    },
    {
      "cell_type": "markdown",
      "source": [
        ">[Graph Algorithms](#scrollTo=XaAB2vUK_Exm)\n",
        "\n",
        ">>[Tarjans Algorithm](#scrollTo=_WnM7f1uZtwT)\n",
        "\n",
        ">>[Kosaraju algorithm to find SCC](#scrollTo=idTZEpIu15KO)\n",
        "\n",
        ">>[Dijkstraj algorithm](#scrollTo=qln5ngw88kvj)\n",
        "\n",
        ">>[Prims MST algorithm](#scrollTo=_2ss_5cj9Jha)\n",
        "\n",
        ">>[Kruskal algorithm](#scrollTo=-VeYcqZB9r3U)\n",
        "\n",
        ">>[Bellman ford algorithm](#scrollTo=Et0iBRcE-JnM)\n",
        "\n",
        ">>[Floyd warshal](#scrollTo=qaIRa2ZB-1oY)\n",
        "\n",
        ">>[Articulation edges](#scrollTo=GPDnX3QJ_1wq)\n",
        "\n",
        ">>[Articulation point](#scrollTo=6QKT9wpl7f2o)\n",
        "\n"
      ],
      "metadata": {
        "colab_type": "toc",
        "id": "gajG8nC4_AMa"
      }
    },
    {
      "cell_type": "markdown",
      "source": [
        "## Tarjans Algorithm\n",
        "- Article on the algorithm https://www.baeldung.com/cs/scc-tarjans-algorithm\n",
        "- Video link [Articulation Points Graph Algorithm](https://www.youtube.com/watch?v=2kREIkF9UAs&t=282s)\n",
        "- LeetCode to practice\n",
        "    * [1489. Find Critical and Pseudo-Critical Edges in Minimum Spanning Tree](https://leetcode.com/problems/find-critical-and-pseudo-critical-edges-in-minimum-spanning-tree/)"
      ],
      "metadata": {
        "id": "_WnM7f1uZtwT"
      }
    },
    {
      "cell_type": "markdown",
      "source": [
        "Tarjan's algorithm is a popular algorithm for finding strongly connected components (SCCs) in a directed graph. Here's a Python implementation of Tarjan's algorithm:\n",
        "\n",
        "\n",
        "In this code:\n",
        "\n",
        "- TarjanSCC is a class that encapsulates the Tarjan's algorithm.\n",
        "find_sccs is the main method to find strongly connected components in the provided directed graph.\n",
        " tarjan is a recursive function that performs the actual SCC detection.\n",
        "- The example at the end demonstrates how to use the TarjanSCC class to find SCCs in a sample directed graph.\n",
        "- Make sure to adapt the graph variable to represent your own directed graph as needed."
      ],
      "metadata": {
        "id": "qv1t7ACFyGwe"
      }
    },
    {
      "cell_type": "code",
      "source": [
        "class TarjanSCC:\n",
        "    def __init__(self, graph):\n",
        "        self.graph = graph\n",
        "        self.indx = 0\n",
        "        self.stack = []\n",
        "        self.sccs = []\n",
        "\n",
        "    def find_sccs(self):\n",
        "        self.index = 0\n",
        "        self.stack = []\n",
        "        self.sccs = []\n",
        "        self.visited = {}\n",
        "        self.lowlink = {}\n",
        "        self.index = {}\n",
        "\n",
        "        for node in self.graph:\n",
        "            if node not in self.visited:\n",
        "                self.tarjan(node)\n",
        "\n",
        "        return self.sccs\n",
        "\n",
        "    def tarjan(self, v):\n",
        "        self.visited[v] = True\n",
        "        self.lowlink[v] = self.indx\n",
        "        self.index[v] = self.indx\n",
        "        self.indx = self.indx + 1\n",
        "        self.stack.append(v)\n",
        "\n",
        "        for neighbor in self.graph[v]:\n",
        "            if neighbor not in self.visited:\n",
        "                self.tarjan(neighbor)\n",
        "                self.lowlink[v] = min(self.lowlink[v], self.lowlink[neighbor])\n",
        "            elif neighbor in self.stack:\n",
        "                self.lowlink[v] = min(self.lowlink[v], self.index[neighbor])\n",
        "\n",
        "        if self.lowlink[v] == self.index[v]:\n",
        "            scc = []\n",
        "            while True:\n",
        "                node = self.stack.pop()\n",
        "                scc.append(node)\n",
        "                if node == v:\n",
        "                    break\n",
        "            self.sccs.append(scc)\n",
        "\n",
        "# Example usage:\n",
        "if __name__ == \"__main__\":\n",
        "    graph = {\n",
        "        0: [1],\n",
        "        1: [2],\n",
        "        2: [0, 3],\n",
        "        3: [4],\n",
        "        4: [5, 7],\n",
        "        5: [6],\n",
        "        6: [4],\n",
        "        7: [8],\n",
        "        8: [7]\n",
        "    }\n",
        "\n",
        "    tarjan = TarjanSCC(graph)\n",
        "    sccs = tarjan.find_sccs()\n",
        "    print(\"Strongly Connected Components:\")\n",
        "    for scc in sccs:\n",
        "        print(scc)"
      ],
      "metadata": {
        "id": "nYtSwbF7aRQ1",
        "colab": {
          "base_uri": "https://localhost:8080/"
        },
        "outputId": "672c7967-b3e8-4ec6-809c-20dec07950e1"
      },
      "execution_count": null,
      "outputs": [
        {
          "output_type": "stream",
          "name": "stdout",
          "text": [
            "Strongly Connected Components:\n",
            "[8, 7]\n",
            "[6, 5, 4]\n",
            "[3]\n",
            "[2, 1, 0]\n"
          ]
        }
      ]
    },
    {
      "cell_type": "markdown",
      "source": [
        "## Kosaraju algorithm to find SCC\n",
        "Kosaraju's algorithm is another popular algorithm for finding strongly connected components (SCCs) in a directed graph. Here's a\n",
        "\n",
        "An article on this https://www.baeldung.com/cs/kosaraju-algorithm-scc\n",
        "\n",
        "Python implementation of Kosaraju's algorithm:\n",
        "\n"
      ],
      "metadata": {
        "id": "idTZEpIu15KO"
      }
    },
    {
      "cell_type": "code",
      "source": [
        "from collections import defaultdict\n",
        "\n",
        "class Graph:\n",
        "    def __init__(self, vertices):\n",
        "        self.graph = defaultdict(list)\n",
        "        self.V = vertices\n",
        "\n",
        "    def add_edge(self, u, v):\n",
        "        self.graph[u].append(v)\n",
        "\n",
        "    def dfs(self, v, visited, stack):\n",
        "        visited[v] = True\n",
        "        for i in self.graph[v]:\n",
        "            if not visited[i]:\n",
        "                self.dfs(i, visited, stack)\n",
        "        stack.append(v)\n",
        "\n",
        "    def transpose(self):\n",
        "        g = Graph(self.V)\n",
        "        for i in self.graph:\n",
        "            for j in self.graph[i]:\n",
        "                g.add_edge(j, i)\n",
        "        return g\n",
        "\n",
        "    def kosaraju_scc(self):\n",
        "        stack = []\n",
        "        visited = [False] * self.V\n",
        "        for i in range(self.V):\n",
        "            if not visited[i]:\n",
        "                self.dfs(i, visited, stack)\n",
        "\n",
        "        gr = self.transpose()\n",
        "\n",
        "        visited = [False] * self.V\n",
        "        sccs = []\n",
        "        while stack:\n",
        "            i = stack.pop()\n",
        "            if not visited[i]:\n",
        "                scc = []\n",
        "                gr.dfs(i, visited, scc)\n",
        "                sccs.append(scc)\n",
        "        return sccs\n",
        "\n",
        "# Example usage:\n",
        "if __name__ == \"__main__\":\n",
        "    g = Graph(8)\n",
        "    g.add_edge(0, 1)\n",
        "    g.add_edge(1, 2)\n",
        "    g.add_edge(2, 0)\n",
        "    g.add_edge(2, 3)\n",
        "    g.add_edge(3, 4)\n",
        "    g.add_edge(4, 5)\n",
        "    g.add_edge(5, 3)\n",
        "    g.add_edge(6, 7)\n",
        "\n",
        "    sccs = g.kosaraju_scc()\n",
        "    print(\"Strongly Connected Components:\")\n",
        "    for scc in sccs:\n",
        "        print(scc)"
      ],
      "metadata": {
        "colab": {
          "base_uri": "https://localhost:8080/"
        },
        "id": "bGamWTo919yX",
        "outputId": "a98ecadb-b182-438a-ba45-8b260c6181ea"
      },
      "execution_count": null,
      "outputs": [
        {
          "output_type": "stream",
          "name": "stdout",
          "text": [
            "Strongly Connected Components:\n",
            "[6]\n",
            "[7]\n",
            "[1, 2, 0]\n",
            "[4, 5, 3]\n"
          ]
        }
      ]
    },
    {
      "cell_type": "markdown",
      "source": [
        "## Dijkstraj algorithm\n",
        "Dijkstra's algorithm is used to find the shortest path between nodes in a weighted graph. Here's a Python implementation of Dijkstra's\n",
        "\n",
        "algorithm using a priority queue:"
      ],
      "metadata": {
        "id": "qln5ngw88kvj"
      }
    },
    {
      "cell_type": "code",
      "source": [
        "import heapq\n",
        "from collections import defaultdict\n",
        "\n",
        "class Graph:\n",
        "    def __init__(self):\n",
        "        self.graph = defaultdict(list)\n",
        "\n",
        "    def add_edge(self, u, v, w):\n",
        "        self.graph[u].append((v, w))\n",
        "\n",
        "    def dijkstra(self, start):\n",
        "        # Create a dictionary to store the distance to each node.\n",
        "        distances = {node: float('inf') for node in self.graph}\n",
        "        distances[start] = 0\n",
        "\n",
        "        # Create a priority queue to store nodes to be explored.\n",
        "        priority_queue = [(0, start)]\n",
        "\n",
        "        while priority_queue:\n",
        "            current_distance, current_node = heapq.heappop(priority_queue)\n",
        "\n",
        "            # Skip nodes that have already been processed.\n",
        "            if current_distance > distances[current_node]:\n",
        "                continue\n",
        "\n",
        "            for neighbor, weight in self.graph[current_node]:\n",
        "                distance = current_distance + weight\n",
        "\n",
        "                # If this path is shorter than the current known distance, update it.\n",
        "                if distance < distances[neighbor]:\n",
        "                    distances[neighbor] = distance\n",
        "                    heapq.heappush(priority_queue, (distance, neighbor))\n",
        "\n",
        "        return distances\n",
        "\n",
        "# Example usage:\n",
        "if __name__ == \"__main__\":\n",
        "    g = Graph()\n",
        "    g.add_edge('A', 'B', 4)\n",
        "    g.add_edge('A', 'C', 2)\n",
        "    g.add_edge('B', 'C', 5)\n",
        "    g.add_edge('B', 'D', 10)\n",
        "    g.add_edge('C', 'D', 3)\n",
        "    g.add_edge('D', 'E', 7)\n",
        "    g.add_edge('E', 'A', 3)\n",
        "\n",
        "    start_node = 'A'\n",
        "    shortest_distances = g.dijkstra(start_node)\n",
        "\n",
        "    print(\"Shortest distances from node\", start_node)\n",
        "    for node, distance in shortest_distances.items():\n",
        "        print(f\"To {node}: {distance}\")\n"
      ],
      "metadata": {
        "id": "TLTlh45a8o3k",
        "colab": {
          "base_uri": "https://localhost:8080/"
        },
        "outputId": "022899ee-954b-4387-e169-a68b52700347"
      },
      "execution_count": 2,
      "outputs": [
        {
          "output_type": "stream",
          "name": "stdout",
          "text": [
            "Shortest distances from node A\n",
            "To A: 0\n",
            "To B: 4\n",
            "To C: 2\n",
            "To D: 5\n",
            "To E: 12\n"
          ]
        }
      ]
    },
    {
      "cell_type": "markdown",
      "source": [
        "## Prims MST algorithm\n",
        "Prim's algorithm is used to find a minimum spanning tree (MST) in a connected, undirected graph with weighted edges. Here's a Python implementation of Prim's algorithm using a priority queue:"
      ],
      "metadata": {
        "id": "_2ss_5cj9Jha"
      }
    },
    {
      "cell_type": "code",
      "source": [
        "import heapq\n",
        "import collections\n",
        "\n",
        "class Graph:\n",
        "    def __init__(self):\n",
        "        self.graph = collections.defaultdict(list)\n",
        "\n",
        "    def add_edge(self, u, v, weight):\n",
        "        self.graph[u].append((v, weight))\n",
        "        self.graph[v].append((u, weight))\n",
        "\n",
        "    def prim_mst(self, start_node):\n",
        "        mst = []\n",
        "        visited = set()\n",
        "        priority_queue = [(0, start_node)]\n",
        "\n",
        "        while priority_queue:\n",
        "            cost, node = heapq.heappop(priority_queue)\n",
        "\n",
        "            if node in visited:\n",
        "                continue\n",
        "\n",
        "            visited.add(node)\n",
        "            mst.append((node, cost))\n",
        "\n",
        "            for neighbor, weight in self.graph[node]:\n",
        "                if neighbor not in visited:\n",
        "                    heapq.heappush(priority_queue, (weight, neighbor))\n",
        "\n",
        "        return mst\n",
        "\n",
        "# Example usage:\n",
        "if __name__ == \"__main__\":\n",
        "    g = Graph()\n",
        "    g.add_edge('A', 'B', 2)\n",
        "    g.add_edge('A', 'C', 3)\n",
        "    g.add_edge('B', 'C', 1)\n",
        "    g.add_edge('B', 'D', 4)\n",
        "    g.add_edge('C', 'D', 5)\n",
        "    g.add_edge('D', 'E', 7)\n",
        "    g.add_edge('E', 'A', 6)\n",
        "\n",
        "    start_node = 'A'\n",
        "    minimum_spanning_tree = g.prim_mst(start_node)\n",
        "\n",
        "    print(\"Minimum Spanning Tree (Prim's Algorithm):\")\n",
        "    for node, cost in minimum_spanning_tree:\n",
        "        print(f\"{node} - Cost: {cost}\")\n"
      ],
      "metadata": {
        "colab": {
          "base_uri": "https://localhost:8080/"
        },
        "id": "Cf5z6_7P9OL-",
        "outputId": "d40a6127-ea5d-49cb-cdc8-dc29a147b7c5"
      },
      "execution_count": null,
      "outputs": [
        {
          "output_type": "stream",
          "name": "stdout",
          "text": [
            "Minimum Spanning Tree (Prim's Algorithm):\n",
            "A - Cost: 0\n",
            "B - Cost: 2\n",
            "C - Cost: 1\n",
            "D - Cost: 4\n",
            "E - Cost: 6\n"
          ]
        }
      ]
    },
    {
      "cell_type": "markdown",
      "source": [
        "## Kruskal algorithm\n",
        "Kruskal's algorithm is used to find the Minimum Spanning Tree (MST) of a connected, undirected graph with weighted edges. Here's a Python implementation of Kruskal's algorithm using a union-find data structure:"
      ],
      "metadata": {
        "id": "-VeYcqZB9r3U"
      }
    },
    {
      "cell_type": "code",
      "source": [
        "class Graph:\n",
        "    def __init__(self, vertices):\n",
        "        self.V = vertices\n",
        "        self.graph = []\n",
        "\n",
        "    def add_edge(self, u, v, w):\n",
        "        self.graph.append((u, v, w))\n",
        "\n",
        "    def kruskal_mst(self):\n",
        "        self.graph.sort(key=lambda edge: edge[2])  # Sort edges by weight in ascending order\n",
        "        parent = [-1] * self.V\n",
        "        mst = []\n",
        "\n",
        "        def find(v):\n",
        "            if parent[v] == -1:\n",
        "                return v\n",
        "            return find(parent[v])\n",
        "\n",
        "        def union(x, y):\n",
        "            root_x = find(x)\n",
        "            root_y = find(y)\n",
        "            parent[root_x] = root_y\n",
        "\n",
        "        for u, v, w in self.graph:\n",
        "            if find(u) != find(v):\n",
        "                mst.append((u, v, w))\n",
        "                union(u, v)\n",
        "\n",
        "        return mst\n",
        "\n",
        "# Example usage:\n",
        "if __name__ == \"__main__\":\n",
        "    g = Graph(6)\n",
        "    g.add_edge(0, 1, 4)\n",
        "    g.add_edge(0, 2, 4)\n",
        "    g.add_edge(1, 2, 2)\n",
        "    g.add_edge(1, 0, 4)\n",
        "    g.add_edge(2, 0, 4)\n",
        "    g.add_edge(2, 1, 2)\n",
        "    g.add_edge(2, 3, 3)\n",
        "    g.add_edge(2, 5, 2)\n",
        "    g.add_edge(2, 4, 4)\n",
        "    g.add_edge(3, 2, 3)\n",
        "    g.add_edge(3, 4, 3)\n",
        "    g.add_edge(4, 2, 4)\n",
        "    g.add_edge(4, 3, 3)\n",
        "    g.add_edge(5, 2, 2)\n",
        "    g.add_edge(5, 4, 3)\n",
        "\n",
        "    minimum_spanning_tree = g.kruskal_mst()\n",
        "\n",
        "    print(\"Minimum Spanning Tree (Kruskal's Algorithm):\")\n",
        "    for u, v, w in minimum_spanning_tree:\n",
        "        print(f\"{u} - {v} : {w}\")\n"
      ],
      "metadata": {
        "id": "Pm6zCFAc9uu3",
        "colab": {
          "base_uri": "https://localhost:8080/"
        },
        "outputId": "97029858-a776-4eb9-db14-ff4fc1eb337e"
      },
      "execution_count": null,
      "outputs": [
        {
          "output_type": "stream",
          "name": "stdout",
          "text": [
            "Minimum Spanning Tree (Kruskal's Algorithm):\n",
            "1 - 2 : 2\n",
            "2 - 5 : 2\n",
            "2 - 3 : 3\n",
            "3 - 4 : 3\n",
            "0 - 1 : 4\n"
          ]
        }
      ]
    },
    {
      "cell_type": "markdown",
      "source": [
        "## Bellman ford algorithm\n",
        "The Bellman-Ford algorithm is used to find the shortest paths from a single source vertex to all other vertices in a weighted directed graph, including graphs with negative-weight edges (as long as there are no negative-weight cycles). Here's a Python implementation of the Bellman-Ford algorithm:"
      ],
      "metadata": {
        "id": "Et0iBRcE-JnM"
      }
    },
    {
      "cell_type": "code",
      "source": [
        "class Graph:\n",
        "    def __init__(self, vertices):\n",
        "        self.V = vertices\n",
        "        self.graph = []\n",
        "\n",
        "    def add_edge(self, u, v, w):\n",
        "        self.graph.append((u, v, w))\n",
        "\n",
        "    def bellman_ford(self, start_vertex):\n",
        "        # Initialize distance array with infinity for all vertices except the start vertex\n",
        "        distances = [float('inf')] * self.V\n",
        "        distances[start_vertex] = 0\n",
        "\n",
        "        # Relax edges |V-1| times\n",
        "        for _ in range(self.V - 1):\n",
        "            for u, v, w in self.graph:\n",
        "                if distances[u] != float('inf') and distances[u] + w < distances[v]:\n",
        "                    distances[v] = distances[u] + w\n",
        "\n",
        "        # Check for negative-weight cycles\n",
        "        for u, v, w in self.graph:\n",
        "            if distances[u] != float('inf') and distances[u] + w < distances[v]:\n",
        "                raise Exception(\"Graph contains a negative-weight cycle\")\n",
        "\n",
        "        return distances\n",
        "\n",
        "# Example usage:\n",
        "if __name__ == \"__main__\":\n",
        "    g = Graph(5)\n",
        "    g.add_edge(0, 1, -1)\n",
        "    g.add_edge(0, 2, 4)\n",
        "    g.add_edge(1, 2, 3)\n",
        "    g.add_edge(1, 3, 2)\n",
        "    g.add_edge(1, 4, 2)\n",
        "    g.add_edge(3, 2, 5)\n",
        "    g.add_edge(3, 1, 1)\n",
        "    g.add_edge(4, 3, -3)\n",
        "\n",
        "    start_vertex = 0\n",
        "    shortest_distances = g.bellman_ford(start_vertex)\n",
        "\n",
        "    print(\"Shortest distances from vertex\", start_vertex)\n",
        "    for vertex, distance in enumerate(shortest_distances):\n",
        "        print(f\"To {vertex}: {distance}\")\n"
      ],
      "metadata": {
        "id": "Wun5D7mF-Moo"
      },
      "execution_count": null,
      "outputs": []
    },
    {
      "cell_type": "markdown",
      "source": [
        "## Floyd warshal\n",
        "The Floyd-Warshall algorithm is used to find the shortest paths between all pairs of vertices in a weighted directed graph, even when the graph contains negative-weight edges (but not negative-weight cycles). Here's a Python implementation of the Floyd-Warshall algorithm:"
      ],
      "metadata": {
        "id": "qaIRa2ZB-1oY"
      }
    },
    {
      "cell_type": "code",
      "source": [
        "def floyd_warshall(graph):\n",
        "    V = len(graph)\n",
        "    dist = [[float('inf')] * V for _ in range(V)]\n",
        "\n",
        "    # Initialize the distance matrix with edge weights\n",
        "    for i in range(V):\n",
        "        for j in range(V):\n",
        "            if i == j:\n",
        "                dist[i][j] = 0\n",
        "            elif graph[i][j] != 0:\n",
        "                dist[i][j] = graph[i][j]\n",
        "\n",
        "    # Find shortest paths for all pairs using dynamic programming\n",
        "    for k in range(V):\n",
        "        for i in range(V):\n",
        "            for j in range(V):\n",
        "                if dist[i][k] != float('inf') and dist[k][j] != float('inf') \\\n",
        "                        and dist[i][k] + dist[k][j] < dist[i][j]:\n",
        "                    dist[i][j] = dist[i][k] + dist[k][j]\n",
        "\n",
        "    return dist\n",
        "\n",
        "# Example usage:\n",
        "if __name__ == \"__main__\":\n",
        "    # Example graph represented as an adjacency matrix\n",
        "    graph = [\n",
        "        [0, 5, float('inf'), 10],\n",
        "        [float('inf'), 0, 3, float('inf')],\n",
        "        [float('inf'), float('inf'), 0, 1],\n",
        "        [float('inf'), float('inf'), float('inf'), 0]\n",
        "    ]\n",
        "\n",
        "    shortest_paths = floyd_warshall(graph)\n",
        "\n",
        "    print(\"Shortest distances between all pairs:\")\n",
        "    for row in shortest_paths:\n",
        "        print(row)\n"
      ],
      "metadata": {
        "colab": {
          "base_uri": "https://localhost:8080/"
        },
        "id": "sFEMw9I4_hI0",
        "outputId": "39dc520a-0508-4d7a-bd29-598c2cead6b1"
      },
      "execution_count": null,
      "outputs": [
        {
          "output_type": "stream",
          "name": "stdout",
          "text": [
            "Shortest distances between all pairs:\n",
            "[0, 5, 8, 9]\n",
            "[inf, 0, 3, 4]\n",
            "[inf, inf, 0, 1]\n",
            "[inf, inf, inf, 0]\n"
          ]
        }
      ]
    },
    {
      "cell_type": "markdown",
      "source": [
        "## Articulation edges\n",
        "Articulation edges (also known as bridge edges) are edges in a graph that, if removed, would increase the number of connected components in the graph. Identifying articulation edges is important in various applications, such as network design and connectivity analysis. Here's a Python implementation to find articulation edges in an undirected graph using depth-first search (DFS):"
      ],
      "metadata": {
        "id": "GPDnX3QJ_1wq"
      }
    },
    {
      "cell_type": "code",
      "source": [
        "import collections\n",
        "class Graph:\n",
        "    def __init__(self, vertices):\n",
        "        self.V = vertices\n",
        "        self.graph = defaultdict(list)\n",
        "\n",
        "    def add_edge(self, u, v):\n",
        "        self.graph[u].append(v)\n",
        "        self.graph[v].append(u)\n",
        "\n",
        "    def find_articulation_edges(self):\n",
        "        visited = set()\n",
        "        parent = {}\n",
        "        disc = {}\n",
        "        low = {}\n",
        "        time = 0\n",
        "        articulation_edges = []\n",
        "\n",
        "        def dfs(u):\n",
        "            nonlocal time\n",
        "            visited.add(u)\n",
        "            disc[u] = time\n",
        "            low[u] = time\n",
        "            time += 1\n",
        "\n",
        "            for v in self.graph[u]:\n",
        "                if v not in visited:\n",
        "                    parent[v] = u\n",
        "                    dfs(v)\n",
        "\n",
        "                    low[u] = min(low[u], low[v])\n",
        "\n",
        "                    if low[v] > disc[u]:\n",
        "                        articulation_edges.append((u, v))\n",
        "                elif parent.get(u) != v:\n",
        "                    low[u] = min(low[u], disc[v])\n",
        "\n",
        "        for vertex in self.graph:\n",
        "            print(vertex)\n",
        "            if vertex not in visited:\n",
        "                dfs(vertex)\n",
        "\n",
        "        return articulation_edges\n",
        "\n",
        "# Example usage:\n",
        "if __name__ == \"__main__\":\n",
        "    g = Graph(5)\n",
        "    g.add_edge(0, 1)\n",
        "    g.add_edge(1, 2)\n",
        "    g.add_edge(2, 0)\n",
        "    g.add_edge(1, 3)\n",
        "    g.add_edge(3, 4)\n",
        "\n",
        "    articulation_edges = g.find_articulation_edges()\n",
        "\n",
        "    print(\"Articulation Edges:\")\n",
        "    for edge in articulation_edges:\n",
        "        print(edge)\n"
      ],
      "metadata": {
        "colab": {
          "base_uri": "https://localhost:8080/"
        },
        "id": "V6XD8L9w_4Qf",
        "outputId": "4529e3e3-8acd-47ac-b90b-a6d3b1ec559c"
      },
      "execution_count": null,
      "outputs": [
        {
          "output_type": "stream",
          "name": "stdout",
          "text": [
            "0\n",
            "1\n",
            "2\n",
            "3\n",
            "4\n",
            "Articulation Edges:\n",
            "(3, 4)\n",
            "(1, 3)\n"
          ]
        }
      ]
    },
    {
      "cell_type": "markdown",
      "source": [
        "## Articulation point\n",
        "Finding articulation points (also known as cut vertices) in a graph is a fundamental graph algorithm used to identify critical nodes whose removal would increase the number of connected components in the graph. Here's a Python implementation of finding articulation points in an undirected graph using Depth-First Search (DFS).\n",
        "A good article on this\n",
        "- https://www.geeksforgeeks.org/articulation-points-or-cut-vertices-in-a-graph/\n",
        "A video from Tushar:\n",
        "- https://www.youtube.com/watch?v=2kREIkF9UAs\n",
        "My post:\n",
        "- https://mahbubcsedu.blogspot.com/2024/11/articulation-point-algorithm-guide-to.html\n",
        "\n",
        "\n",
        "In this code (based on kasaraju algorithm):\n",
        "\n",
        "- **Graph** is a class that represents an undirected graph and has methods to add edges and find articulation points.\n",
        "- **find_articulation_points** is the main method that performs the DFS traversal to identify articulation points.\n",
        "- The **dfs** function is a helper function that performs the DFS traversal and updates the **low** and **disc** arrays.\n",
        "- Articulation points are stored in the **ap** list, and the algorithm returns them as the result.\n",
        "- You can modify the Graph instance by adding or removing edges to find articulation points in your own undirected graph."
      ],
      "metadata": {
        "id": "6QKT9wpl7f2o"
      }
    },
    {
      "cell_type": "code",
      "source": [
        "from collections import defaultdict\n",
        "\n",
        "class Graph:\n",
        "    def __init__(self, vertices):\n",
        "        self.V = vertices\n",
        "        self.graph = defaultdict(list)\n",
        "        self.time = 0\n",
        "\n",
        "    def add_edge(self, u, v):\n",
        "        self.graph[u].append(v)\n",
        "        self.graph[v].append(u)\n",
        "\n",
        "    def find_articulation_points(self):\n",
        "        visited = [False] * self.V\n",
        "        disc = [float(\"inf\")] * self.V\n",
        "        low = [float(\"inf\")] * self.V\n",
        "        parent = [-1] * self.V\n",
        "        ap = [False] * self.V\n",
        "\n",
        "        def dfs(u):\n",
        "            children = 0\n",
        "            visited[u] = True\n",
        "            disc[u] = self.time\n",
        "            low[u] = self.time\n",
        "            self.time += 1\n",
        "\n",
        "            for v in self.graph[u]:\n",
        "                if not visited[v]:\n",
        "                    children += 1\n",
        "                    parent[v] = u\n",
        "                    dfs(v)\n",
        "\n",
        "                    low[u] = min(low[u], low[v])\n",
        "\n",
        "                    if low[v] >= disc[u]:\n",
        "                        ap[u] = True\n",
        "                elif v != parent[u]:\n",
        "                    low[u] = min(low[u], disc[v])\n",
        "\n",
        "        for i in range(self.V):\n",
        "            if not visited[i]:\n",
        "                dfs(i)\n",
        "\n",
        "        articulation_points = []\n",
        "        for i in range(self.V):\n",
        "            if ap[i]:\n",
        "                articulation_points.append(i)\n",
        "\n",
        "        return articulation_points\n",
        "\n",
        "# Example usage:\n",
        "if __name__ == \"__main__\":\n",
        "    g = Graph(7)\n",
        "    g.add_edge(0, 1)\n",
        "    g.add_edge(1, 2)\n",
        "    g.add_edge(2, 3)\n",
        "    g.add_edge(3, 1)\n",
        "    g.add_edge(0, 4)\n",
        "    g.add_edge(4, 5)\n",
        "    g.add_edge(5, 6)\n",
        "    g.add_edge(6, 4)\n",
        "\n",
        "    articulation_points = g.find_articulation_points()\n",
        "    print(\"Articulation Points:\")\n",
        "    for ap in articulation_points:\n",
        "        print(ap)\n"
      ],
      "metadata": {
        "colab": {
          "base_uri": "https://localhost:8080/"
        },
        "id": "sf78XxsQ7itq",
        "outputId": "6dc43327-eeda-4fe6-e9cb-897283fde3c8"
      },
      "execution_count": 1,
      "outputs": [
        {
          "output_type": "stream",
          "name": "stdout",
          "text": [
            "Articulation Points:\n",
            "0\n",
            "1\n",
            "4\n"
          ]
        }
      ]
    }
  ]
}