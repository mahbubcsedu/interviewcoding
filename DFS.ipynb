{
  "nbformat": 4,
  "nbformat_minor": 0,
  "metadata": {
    "colab": {
      "provenance": [],
      "authorship_tag": "ABX9TyOIY8APVANRoNoo4g9JzRUa",
      "include_colab_link": true
    },
    "kernelspec": {
      "name": "python3",
      "display_name": "Python 3"
    },
    "language_info": {
      "name": "python"
    }
  },
  "cells": [
    {
      "cell_type": "markdown",
      "metadata": {
        "id": "view-in-github",
        "colab_type": "text"
      },
      "source": [
        "<a href=\"https://colab.research.google.com/github/mahbubcsedu/interviewcoding/blob/main/DFS.ipynb\" target=\"_parent\"><img src=\"https://colab.research.google.com/assets/colab-badge.svg\" alt=\"Open In Colab\"/></a>"
      ]
    },
    {
      "cell_type": "markdown",
      "source": [
        "## longest path in DAG\n",
        "https://leetcode.com/discuss/interview-question/1381861/Uber-Codesignal-Phonescreen-Top-Sort-Question!"
      ],
      "metadata": {
        "id": "WsYW2tnZ9Ata"
      }
    },
    {
      "cell_type": "code",
      "execution_count": null,
      "metadata": {
        "colab": {
          "base_uri": "https://localhost:8080/"
        },
        "id": "xKF0BPjuxUUB",
        "outputId": "9a2ea062-5912-4a8d-fce2-b664a5a179a8"
      },
      "outputs": [
        {
          "output_type": "execute_result",
          "data": {
            "text/plain": [
              "6"
            ]
          },
          "metadata": {},
          "execution_count": 20
        }
      ],
      "source": [
        "import collections\n",
        "from typing import List \n",
        "\n",
        "class LongestPath:\n",
        "  def find_longest_path(self, graph):\n",
        "    dp={}\n",
        "    def build_graph(relation):\n",
        "      g=collections.defaultdict(list)\n",
        "\n",
        "      for l in relation:\n",
        "        for i in range(len(l)-1):\n",
        "          g[l[i]].append(l[i+1])\n",
        "          dp[l[i]]=0\n",
        "        g[l[-1]]\n",
        "        dp[l[-1]]=0\n",
        "      return g\n",
        "    \n",
        "    seen = set()\n",
        "\n",
        "\n",
        "    def dfs(node):\n",
        "      nonlocal dp\n",
        "      # print(seen)\n",
        "      if node in seen:\n",
        "        return\n",
        "      seen.add(node)\n",
        "\n",
        "      for next in g[node]:\n",
        "        if next not in seen:\n",
        "          dfs(next)\n",
        "        # print(dp[next])\n",
        "        dp[node]=max(dp[node], 1+dp[next])\n",
        "    \n",
        "    \n",
        "\n",
        "    g=build_graph(relation)\n",
        "    # print(list(dp.keys()))\n",
        "    # print(g)\n",
        "    \n",
        "    for l in relation:\n",
        "      for i in l:\n",
        "        if i not in seen:\n",
        "          dfs(i)\n",
        "    return max(list(dp.values()))\n",
        "  \n",
        "\n",
        "relation = [[\"A\", \"C\", \"D\"],\n",
        "            [\"A\", \"B\", \"E\"],\n",
        "            [\"D\", \"F\", \"G\", \"H\"],\n",
        "            [\"Z\", \"X\", \"C\", \"Q\", \"R\"]]\n",
        "c = LongestPath()\n",
        "c.find_longest_path(relation)\n"
      ]
    },
    {
      "cell_type": "code",
      "source": [
        "def longestChain(routes): # topological sort\n",
        "    g = collections.defaultdict(list)\n",
        "    degrees = collections.defaultdict(int)\n",
        "    for nodes in routes:\n",
        "        for u, v in zip(nodes, nodes[1:]):\n",
        "            g[u].append(v)\n",
        "            degrees[v] += 1\n",
        "\n",
        "    dist = collections.defaultdict(lambda: 0)\n",
        "    print(list(dist.values()))\n",
        "    nodes = set(g.keys())\n",
        "    while nodes:\n",
        "        u = nodes.pop()\n",
        "        if not degrees[u]:\n",
        "            for v in g[u]:\n",
        "                dist[v] = max(dist[v], dist[u] + 1)\n",
        "                degrees[v] -= 1\n",
        "                nodes.add(v)\n",
        "    return max(dist.values())\n",
        "relation = [[\"A\", \"C\", \"D\"],\n",
        "            [\"A\", \"B\", \"E\"],\n",
        "            [\"D\", \"F\", \"G\", \"H\"],\n",
        "            [\"Z\", \"X\", \"C\", \"Q\", \"R\"]]\n",
        "longestChain(relation)"
      ],
      "metadata": {
        "colab": {
          "base_uri": "https://localhost:8080/"
        },
        "id": "9FH1aQ5D8-TU",
        "outputId": "baafc1d0-e07e-4547-c341-c723236f4bef"
      },
      "execution_count": null,
      "outputs": [
        {
          "output_type": "stream",
          "name": "stdout",
          "text": [
            "[]\n"
          ]
        },
        {
          "output_type": "execute_result",
          "data": {
            "text/plain": [
              "6"
            ]
          },
          "metadata": {},
          "execution_count": 23
        }
      ]
    }
  ]
}