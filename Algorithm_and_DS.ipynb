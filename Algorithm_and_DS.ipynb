{
  "nbformat": 4,
  "nbformat_minor": 0,
  "metadata": {
    "colab": {
      "provenance": [],
      "authorship_tag": "ABX9TyMBrPNDL/q6ITY6aaaviB3f",
      "include_colab_link": true
    },
    "kernelspec": {
      "name": "python3",
      "display_name": "Python 3"
    },
    "language_info": {
      "name": "python"
    }
  },
  "cells": [
    {
      "cell_type": "markdown",
      "metadata": {
        "id": "view-in-github",
        "colab_type": "text"
      },
      "source": [
        "<a href=\"https://colab.research.google.com/github/mahbubcsedu/interviewcoding/blob/main/Algorithm_and_DS.ipynb\" target=\"_parent\"><img src=\"https://colab.research.google.com/assets/colab-badge.svg\" alt=\"Open In Colab\"/></a>"
      ]
    },
    {
      "cell_type": "markdown",
      "source": [
        "## DS and algorithm to Practice\n",
        "* Binary tree\n",
        "* Binary Search Tree\n",
        "* Hash\n",
        "* Linked List\n",
        "* stack\n",
        "* Binary Index tree\n",
        "* Segment tree\n",
        "* Array\n",
        "* DFS\n",
        "* BFS\n",
        "* Heap\n",
        "* Union Find\n",
        "* Queue\n",
        "* Topological Sort\n",
        "* Double Linked List\n",
        "* Bucket Sort\n",
        "* Suffix Array\n",
        "* Minimum spanning tree\n",
        "* Matrix\n",
        "* Trie\n",
        "* KD Tree\n",
        "\n",
        "\n",
        "### Algorithm Technique\n",
        "* Dynamic programming\n",
        "* Sorting\n",
        "* Searching\n",
        "* Greedy\n",
        "* Binary Search\n",
        "* Two pointer\n",
        "* Recursion\n",
        "* Enumeration\n",
        "* String matching\n",
        "* Rolling hash\n",
        "* Shortest path\n",
        "* Merge sort \n",
        "* Quick Sort\n",
        "* Counting sort\n",
        "* Prims algorithm (spa \n",
        "* Kruskal\n",
        "* Dijstraj algorithm (shortest path)\n",
        "* belman ford algorithm (shortest path)\n",
        "* kahn algorirhtm (topo)\n",
        "* floyd warshal (all source shortest path)\n",
        "* A* search\n",
        "\n",
        "\n",
        "\n"
      ],
      "metadata": {
        "id": "XK0dTue1tICE"
      }
    },
    {
      "cell_type": "markdown",
      "metadata": {
        "id": "WOYiWfntS9oL"
      },
      "source": [
        "## Data structures and collection practices\n",
        "\n",
        "### Sorting (two at least)\n",
        "\n",
        "1. Quick sort\n",
        " for better understanding, we can look into the algorithm in the text book like algorithm design manual or https://www.interviewbit.com/tutorial/quicksort-algorithm/#quicksort-algorithm\n",
        "\n",
        "The algorithm:\n",
        "* if low and high of the array is not the same, we will partition the array based on pivot.\n",
        "* after every partition, we merge the sorted subarray to get the sorted array\n",
        "\n",
        "<font color=\"green\">Look at the rules of compare and swap: </font>\n",
        "* partition algorithm\n",
        "  - select last or A[h] as the pivot element\n",
        "  - set first element index as j, keep in mind, we swap agains j for each element that is less than pivot\n",
        "  - compare each element from (start to end-1)\n",
        "  - if element A[i] is less than p, <font color=\"red\">swap element with A[j] </font>, \n",
        "  - finally, swap A[j] with last element A[h]\n",
        "  - return j as the boundary, A[j] is its own position now\n",
        "  - partition repeatedly both left and right parts with [low, j-1], and [j+1, high]\n"
      ]
    },
    {
      "cell_type": "code",
      "metadata": {
        "id": "0at9Tn2HS6DP",
        "colab": {
          "base_uri": "https://localhost:8080/"
        },
        "outputId": "f946a78d-024d-4cae-cca0-3e7a0d03225f"
      },
      "source": [
        "def quick_sort(A, l, h):\n",
        "  if l < h:\n",
        "    p_idx = partition(A, l, h)\n",
        "    quick_sort(A, l, p_idx-1)\n",
        "    quick_sort(A, p_idx+1, h)\n",
        "\n",
        "def partition(A, l, h):\n",
        "  p = A[h]\n",
        "  j = l\n",
        "  \n",
        "  for i in range(l, h):\n",
        "    # print(i)\n",
        "    if A[i] < p:\n",
        "      print(A[i], p)\n",
        "      # j=j+1\n",
        "      A[i], A[j] = A[j], A[i]\n",
        "      print(\"swap\", (A[i], A[j]))\n",
        "      j= j+1\n",
        "  A[h], A[j] = A[j], A[h]\n",
        "  print(A)\n",
        "  print(\"pivot\", j)\n",
        "  return (j)\n",
        "\n",
        "def partition2(arr,low,high): \n",
        "\ti = ( low-1 )\t\t # index of smaller element \n",
        "\tpivot = arr[high]\t # pivot \n",
        "\n",
        "\tfor j in range(low , high): \n",
        "\n",
        "\t\t# If current element is smaller than or \n",
        "\t\t# equal to pivot \n",
        "\t\tif arr[j] <= pivot: \n",
        "\t\t\n",
        "\t\t\t# increment index of smaller element \n",
        "\t\t\ti = i+1\n",
        "\t\t\tarr[i],arr[j] = arr[j],arr[i] \n",
        "\n",
        "\tarr[i+1],arr[high] = arr[high],arr[i+1] \n",
        "\treturn ( i+1 ) \n",
        " \n",
        "\n",
        "A= [6, 2, 1, 10, 15, 11, 8, 3]\n",
        "quick_sort(A, 0, len(A)-1)\n",
        "print(A)\n",
        "\n"
      ],
      "execution_count": null,
      "outputs": [
        {
          "output_type": "stream",
          "name": "stdout",
          "text": [
            "2 3\n",
            "swap (6, 2)\n",
            "1 3\n",
            "swap (6, 1)\n",
            "[2, 1, 3, 10, 15, 11, 8, 6]\n",
            "pivot 2\n",
            "[1, 2, 3, 10, 15, 11, 8, 6]\n",
            "pivot 0\n",
            "[1, 2, 3, 6, 15, 11, 8, 10]\n",
            "pivot 3\n",
            "8 10\n",
            "swap (15, 8)\n",
            "[1, 2, 3, 6, 8, 10, 15, 11]\n",
            "pivot 5\n",
            "[1, 2, 3, 6, 8, 10, 11, 15]\n",
            "pivot 6\n",
            "[1, 2, 3, 6, 8, 10, 11, 15]\n"
          ]
        }
      ]
    },
    {
      "cell_type": "code",
      "source": [],
      "metadata": {
        "id": "72SuVsvAYukI"
      },
      "execution_count": null,
      "outputs": []
    },
    {
      "cell_type": "code",
      "metadata": {
        "id": "k9IVUWD19TSi"
      },
      "source": [
        "# Trie data Structure\n",
        "class TrieNode:\n",
        "  def __init__(self):\n",
        "    self.children = [None for _ in range(26)]\n",
        "    self.is_end=False \n",
        "\n",
        "\n",
        "\n",
        "class Trie:\n",
        "  def __init__(self):\n",
        "    self.root = TrieNode()\n",
        "\n",
        "  \n",
        "  def insert(self, s: str):\n",
        "    cur_root = self.root\n",
        "    for ch in s:\n",
        "      idx = ord(ch)-ord('a')\n",
        "\n",
        "      if not cur_root.children[idx]:\n",
        "        cur_root.children[idx]=TrieNode()\n",
        "\n",
        "      cur_root = cur_root.children[idx]\n",
        "\n",
        "    cur_root.is_end=True \n",
        "\n",
        "  def search(self, key) -> bool:\n",
        "    cur_root = self.root \n",
        "    for ch in key:\n",
        "      idx = ord(ch)-ord('a')\n",
        "\n",
        "      if not cur_root.children[idx]:\n",
        "        return False\n",
        "      cur_root = cur_root.children[idx]\n",
        "     \n",
        "    return cur_root.is_end\n",
        "\n",
        "\n",
        "t = Trie()\n",
        "t.insert(\"abcd\")\n",
        "# print(t)\n",
        "assert t.search(\"abcd\") == True\n",
        "assert t.search(\"abc\") == False\n"
      ],
      "execution_count": null,
      "outputs": []
    },
    {
      "cell_type": "code",
      "source": [
        "# instead of using array we can also use dictionary\n",
        "\n",
        "class TrieNodeDict:\n",
        "  def __init__(self):\n",
        "    self.children={}\n",
        "    self.sentinel=False\n",
        "\n",
        "\n",
        "class TrieDict:\n",
        "  def __init__(self):\n",
        "    self.root = TrieNodeDict()\n",
        "\n",
        "  \n",
        "  def insert(self, s: str):\n",
        "    cur_root = self.root\n",
        "    for ch in s:\n",
        "      if ch in cur_root.children:\n",
        "        cur_root = cur_root.children[ch]\n",
        "      else:\n",
        "        cur_root.children[ch]= TrieNodeDict()\n",
        "        cur_root = cur_root.children[ch]\n",
        "      \n",
        "    cur_root.sentinel=True \n",
        "\n",
        "  def search(self, key) -> bool:\n",
        "    cur_root = self.root \n",
        "    for ch in key:\n",
        "      if ch in cur_root.children:\n",
        "        cur_root = cur_root.children[ch]\n",
        "      else:\n",
        "        return False\n",
        "      \n",
        "     \n",
        "    return cur_root.sentinel\n",
        "\n",
        "t = TrieDict()\n",
        "t.insert(\"abcd\")\n",
        "# print(t)\n",
        "print(t.search(\"abcd\"))\n",
        "assert t.search(\"abc\") == False"
      ],
      "metadata": {
        "colab": {
          "base_uri": "https://localhost:8080/"
        },
        "id": "wEo5GiMfRMdf",
        "outputId": "8911413d-ecb3-40b2-d9fa-befb8596416f"
      },
      "execution_count": null,
      "outputs": [
        {
          "output_type": "stream",
          "name": "stdout",
          "text": [
            "True\n"
          ]
        }
      ]
    },
    {
      "cell_type": "markdown",
      "source": [
        "## Binary index tree (fenwick) and segment tree\n",
        "* When to use or pros and cons of both:\n",
        "There are things that a segment tree can do but a BIT cannot : A BIT essentially works with cumulative quantities. When the cumulative quantity for interval [i..j] is required, it is found as the difference between cumulative quantities for [1...j] and [1...i-1]. This works only because addition has an inverse operation. You cannot do this if the operation is non-invertible (such as max). On the other hand, every interval on a segment tree can be found as union of disjoint intervals and no inverse operation is required\n",
        "\n",
        "* A BIT requires only half as much memory as a segment tree : In cases where you have masochistic memory constraints, you are almost stuck with using a BIT\n",
        "\n",
        "* Though BIT and segment tree operations are both O(log(n)), the segment tree operations have a larger constant factor : This should not matter for most cases. But once again, if you have masochistic time constraints, you might want to switch from a segment tree to a BIT. The constant factor might become more of a problem if the BIT/Segment tree is multidimensional."
      ],
      "metadata": {
        "id": "eASWP8DCV0N7"
      }
    },
    {
      "cell_type": "code",
      "source": [
        "class SegmentTree():\n",
        "\n",
        "    def __init__(self):\n",
        "      self.main_array = []\n",
        "      self.input=[]\n",
        "    \n",
        "    def next_power_of_two(self, input):\n",
        "            # print(bin(n))\n",
        "            n= len(input)-1\n",
        "            n |= n >> 1\n",
        "            # print(bin(n))\n",
        "            n |= n >> 2\n",
        "            # print(bin(n))\n",
        "            n |= n >> 4\n",
        "            # print(bin(n))\n",
        "            n |= n >> 8\n",
        "            # print(bin(n))\n",
        "            n |= n >> 16\n",
        "            # print(bin(n))\n",
        "            return n + 1\n",
        "\n",
        "    def buildSegmentTree(self, input):\n",
        "      self.main_array=input\n",
        "      tree_size = self.next_power_of_two(self.main_array)\n",
        "      self.segment_tree = [0 for x in range(2*tree_size-1)]\n",
        "      self.constructTree(0, len(self.main_array)-1, 0)\n",
        "\n",
        "    # top down approach \n",
        "    def constructTree(self, low, high, pos):\n",
        "      if low==high:\n",
        "        self.segment_tree[pos] = self.main_array[low]\n",
        "        return\n",
        "      \n",
        "      mid = low + (high-low)//2 #need floor\n",
        "      self.constructTree(low, mid, 2*pos+1)\n",
        "      self.constructTree(mid+1, high, 2*pos+2)\n",
        "      self.segment_tree[pos]=self.segment_tree[2*pos+1] + self.segment_tree[2*pos+2]\n",
        "    \n",
        "    # segment tree's one value may be changed, we need to update all that depends on that value, \n",
        "    #  start from root, till the actual array input\n",
        "    def update(self, new_value, loc):\n",
        "      diff = new_value - self.main_array[loc]\n",
        "      self.main_array[loc] = new_value\n",
        "      self.update_dependent_nodes(0, len(self.main_array)-1, diff, loc, 0)\n",
        "\n",
        "    # update all between range high and low\n",
        "    def update_dependent_nodes(self, low, high, diff, index, pos):\n",
        "      if low > index or high <index:\n",
        "        return\n",
        "      self.segment_tree[pos] = self.segment_tree[pos] + diff\n",
        "\n",
        "      if low >= high:\n",
        "        return \n",
        "\n",
        "      mid = low + (high-low)//2\n",
        "      self.update_dependent_nodes(low, mid, diff, index, 2*pos+1)\n",
        "      self.update_dependent_nodes(mid+1, high, diff, index, 2*pos+2)\n",
        "\n",
        "#            28\n",
        "#      10          18\n",
        "#   3     7    11     7\n",
        "# 1, 2, 3, 4, 5, 6, 7\n",
        "\n",
        "# [28, 10, 18, 3, 7, 11, 7, 1, 2, 3, 4, 5, 6, 0, 0]\n",
        "# [33, 15, 18, 3, 12, 11, 7, 1, 2, 3, 9, 5, 6, 0, 0]\n",
        "#  0, 2*0+1, 2*1+2 (because, high < mid ) for first loop\n",
        "\n",
        "     # len can be custom, I mean, we can provide len to define actuall array len from 0 \n",
        "    def sum_range_query(self, low, high):\n",
        "        self.sum_range_query_helper(0, len(self.main_array)-1, low, high, 0)\n",
        "    \n",
        "    def sum_range_query_helper(self,low, high, q_low, q_high, pos):\n",
        "      # if query range covers current input range, the root is the answer\n",
        "      if q_low <= low and q_high >= high:\n",
        "        return self.segment_tree[pos]\n",
        "      \n",
        "      # if no overlapping, no answer\n",
        "      if q_low > high or q_high < low:\n",
        "        return 0\n",
        "      \n",
        "      mid = low + (high- low)//2\n",
        "      # results are in two sides, calculate both and sum to get the result\n",
        "      return self.sum_range_query_helper(low, mid, q_low, q_high, 2*pos+1) + \\\n",
        "      self.sum_range_query_helper(mid+1, high, q_low, q_high, 2*pos+2)\n",
        "\n",
        "\n",
        "\n",
        "st = SegmentTree()\n",
        "st.buildSegmentTree([1,2,3,4,5,6,7])\n",
        "print(st.segment_tree)  \n",
        "st.update(9,3)\n",
        "print(st.segment_tree)\n",
        "\n",
        "# t=SegmentTree([1,2,3,4,5,6,7,8]) \n",
        "# print(t.next_power_of_two([1,2,3,4,5,6,7,8])==2**3)\n",
        "# print(t.next_power_of_two([1,2,3,4,5,6,7,8,9])==2**4)"
      ],
      "metadata": {
        "colab": {
          "base_uri": "https://localhost:8080/"
        },
        "id": "_jmbqD1q4dm8",
        "outputId": "c5daa0e7-666f-4cf4-88f8-fd52bb3440ea"
      },
      "execution_count": null,
      "outputs": [
        {
          "output_type": "stream",
          "name": "stdout",
          "text": [
            "[28, 10, 18, 3, 7, 11, 7, 1, 2, 3, 4, 5, 6, 0, 0]\n",
            "[33, 15, 18, 3, 12, 11, 7, 1, 2, 3, 9, 5, 6, 0, 0]\n"
          ]
        }
      ]
    },
    {
      "cell_type": "markdown",
      "source": [
        "## Fenwick or BIT tree\n",
        "this is calld binary index tree because the node is represented as binary number\n",
        "* flip right most bit and get parent \n",
        "                     0\n",
        "        1  10   100        1000, \n",
        "           11 101 110   1001  1010\n",
        " how to get next node index?  index = index+(index & -index)\n",
        " 1 -> next -> 10 next -> 100 -> next 1000\n",
        "                           \n",
        "What node store what info in bit?\n",
        "* $[1,2,3,4,5,6,7,8]$\n",
        "  $[0, 1, 2, 3, 4, 5, 6, 7, 8]\n",
        "\n",
        "- 0 just keep 0 always\n",
        "- 1 = 0+2^0 = staring from 0, next 1 element at this node which is 1 and range (0,0)\n",
        "- node 2 = 0+2^1 = starting from 0, next 2 elements which is 1+2 = 3 \n",
        "- 4 = 0+2^2, starting 0 next 4 element = 1+2+3+4=10, range (0,3)\n",
        "- 5 = 2^2+2^0 = starting 4, next 1 element, 5, range (4,4) \n"
      ],
      "metadata": {
        "id": "Q0yNZDDzN7V5"
      }
    },
    {
      "cell_type": "code",
      "source": [
        "def indexCal(index):\n",
        "  print(bin(-index))\n",
        "  print(bin(index & -index))\n",
        "  print(bin(index - (index & -index)))\n",
        "  print(index - (index & -index))\n",
        "indexCal(8)\n"
      ],
      "metadata": {
        "colab": {
          "base_uri": "https://localhost:8080/"
        },
        "id": "hKQtBfeaBX-M",
        "outputId": "f77eac13-2e8c-489d-864b-3bbe48c27f49"
      },
      "execution_count": null,
      "outputs": [
        {
          "output_type": "stream",
          "name": "stdout",
          "text": [
            "-0b1000\n",
            "0b1000\n",
            "0b0\n",
            "0\n"
          ]
        }
      ]
    },
    {
      "cell_type": "code",
      "source": [
        "# Fenwick tree or BIT\n",
        "class FenwickTree:\n",
        "  def __init__(self):\n",
        "    self.bit = []\n",
        "    self.actual_array = []\n",
        "  \n",
        "  def buildTree(self, input):\n",
        "    self.actual_array=input\n",
        "    self.bit = [0 for _ in range(len(input)+1)]\n",
        "    self.actual_array = [0 for _ in range(len(input))]\n",
        "    \n",
        "    for i in range(0, len(input)):\n",
        "      self.updateBIT(i, input[i])\n",
        "\n",
        "  def updateBIT(self, idx, value):\n",
        "    current, self.actual_array[idx] = self.actual_array[idx], value\n",
        "    value = value - current \n",
        "    idx +=1\n",
        "    while(idx < len(self.actual_array)): #this will go until lenght of input\n",
        "      self.bit[idx] = self.bit[idx] + value\n",
        "      idx = self.getNext(idx)\n",
        "    \n",
        "  # this find next node, if its 1, next is 2, then next 4, then next 8, \n",
        "  # to get next, we need three steps\n",
        "  # 2's completement AND original index \n",
        "  # add to original index\n",
        "  # https://www.youtube.com/watch?v=CWDQJGaN1gY&t=980s\n",
        "  def getNext(self, idx):\n",
        "    return idx + (idx & -idx)\n",
        "\n",
        "  def getParent(self, idx):\n",
        "    idx = idx - (idx & -idx)\n",
        "    return idx\n",
        "\n",
        "  def getPrefixSum(self, idx):\n",
        "    res = 0\n",
        "    idx +=1\n",
        "    while idx > 0:\n",
        "      res += self.bit[idx] # BIT is 1 index based\n",
        "      idx = self.getParent(idx)\n",
        "    return res\n",
        "\n",
        "f = FenwickTree()\n",
        "input = [1,2,3,4,5,6,7,8,9]\n",
        "print(f.getNext(3))\n",
        "\n",
        "f.buildTree(input)\n",
        "print(f.bit)\n",
        "print(f.actual_array)\n",
        "# print(f.getPrefixSum(4))\n",
        "print(f.getNext(1))\n",
        "print(f.getPrefixSum(4))\n",
        "\n"
      ],
      "metadata": {
        "colab": {
          "base_uri": "https://localhost:8080/"
        },
        "id": "Z0FhURiM2d4f",
        "outputId": "dc75f966-30c7-4ebc-ea25-500d6ecac266"
      },
      "execution_count": null,
      "outputs": [
        {
          "output_type": "stream",
          "name": "stdout",
          "text": [
            "4\n",
            "[0, 1, 3, 3, 10, 5, 11, 7, 36, 0]\n",
            "[1, 2, 3, 4, 5, 6, 7, 8, 9]\n",
            "2\n",
            "15\n"
          ]
        }
      ]
    },
    {
      "cell_type": "markdown",
      "metadata": {
        "id": "QHAcuXGPP-yQ"
      },
      "source": [
        "### Union Find data structure\n",
        "* This is very uncommon and advance ds, but some times it needed\n",
        "* this is used to creat set and it has two main operations : find and union or merge\n",
        "* merge can be based on ranking\n",
        "* it can be used in compression algorithm (coremen)\n",
        "* Union find explanation [Union find](https://algo.monster/problems/dsu_intro)"
      ]
    },
    {
      "cell_type": "code",
      "source": [
        "class FindUnion:\n",
        "  def __init__(self):\n",
        "    self.id={}\n",
        "    \n",
        "  def print(self):\n",
        "    print(self.id)\n",
        "\n",
        "  def find(self, x):\n",
        "    #  get the value associated with key x, if not return x\n",
        "    y = self.id.get(x,x)\n",
        "\n",
        "    if y != x: # it means, the key exists\n",
        "       y= self.find(y)\n",
        "    return y # return node that does not have child\n",
        "  \n",
        "  # add y to as child of the node x\n",
        "  def union(self, x, y):\n",
        "    self.id[self.find(x)] = self.find(y)\n",
        "\n",
        "  \n",
        "fu = FindUnion()\n",
        "res = fu.union(7,8)\n",
        "fu.union(8,10)\n",
        "fu.print()\n",
        "# fu.union(8,10)\n",
        "print(fu.find(8))\n",
        "\n",
        "\n"
      ],
      "metadata": {
        "colab": {
          "base_uri": "https://localhost:8080/"
        },
        "id": "SPHLoVDoUQvg",
        "outputId": "3c8b2c0b-8264-476c-a47c-142ed47ad2fd"
      },
      "execution_count": null,
      "outputs": [
        {
          "output_type": "stream",
          "name": "stdout",
          "text": [
            "{7: 8, 8: 10}\n",
            "10\n"
          ]
        }
      ]
    },
    {
      "cell_type": "code",
      "source": [
        "# Compression of Union Find\n",
        "class FindUnion:\n",
        "  def __init__(self):\n",
        "    self.id={}\n",
        "  def print(self):\n",
        "    print(self.id)\n",
        "\n",
        "  def find(self, x):\n",
        "    #  get the value associated with key x, if not return x\n",
        "    y = self.id.get(x,x)\n",
        "\n",
        "    if y != x: # it means, the key exists\n",
        "       self.id[x] = y = self.find(y)\n",
        "    return y # return node that does not have child\n",
        "  \n",
        "  # add y to as child of the node x\n",
        "  def union(self, x, y):\n",
        "    self.id[self.find(x)] = self.find(y)\n",
        "\n",
        "  \n",
        "fu = FindUnion()\n",
        "res = fu.union(0,1)\n",
        "fu.union(1,2)\n",
        "fu.union(2,3)\n",
        "fu.print()\n",
        "# fu.union(8,10)\n",
        "print(fu.find(8))"
      ],
      "metadata": {
        "colab": {
          "base_uri": "https://localhost:8080/"
        },
        "id": "spbKWZKOcK9R",
        "outputId": "b144c4f3-598f-422b-80ad-148622611951"
      },
      "execution_count": null,
      "outputs": [
        {
          "output_type": "stream",
          "name": "stdout",
          "text": [
            "{0: 1, 1: 2, 2: 3}\n",
            "8\n"
          ]
        }
      ]
    },
    {
      "cell_type": "code",
      "source": [
        "#union find by rank\n",
        "\n",
        "class FindUnion:\n",
        "  def __init__(self):\n",
        "    self.id={}\n",
        "    self.rank={}\n",
        "\n",
        "  def print(self):\n",
        "    print(self.id)\n",
        "    print(self.rank)\n",
        "\n",
        "  def find(self, x):\n",
        "    #  get the value associated with key x, if not return x\n",
        "    y = self.id.get(x,x)\n",
        "\n",
        "    if y != x: # it means, the key exists\n",
        "       self.id[x] = y = self.find(y)\n",
        "    return y # return node that does not have child\n",
        "  \n",
        "  # add y to as child of the node x\n",
        "  def union(self, x, y):\n",
        "    if self.find(x) not in self.rank:\n",
        "      self.rank[self.find(x)] =0\n",
        "    if self.find(y) not in self.rank:\n",
        "      self.rank[self.find(y)] =0\n",
        "\n",
        "    if self.rank[self.find(x)] < self.rank[self.find(y)]:\n",
        "      self.id[self.find(x)] = self.find(y)\n",
        "    else: \n",
        "      self.id[self.find(y)] = self.find(x)\n",
        "      if self.rank[self.find(x)] == self.rank[self.find(y)]:\n",
        "        self.rank[self.find(x)] = self.rank[self.find(x)] +1\n",
        "    \n",
        "\n",
        "  \n",
        "fu = FindUnion()\n",
        "res = fu.union(0,1)\n",
        "fu.union(1,2)\n",
        "fu.union(2,3)\n",
        "fu.print()\n",
        "# fu.union(8,10)\n",
        "print(fu.find(8))"
      ],
      "metadata": {
        "colab": {
          "base_uri": "https://localhost:8080/"
        },
        "id": "bI8CbygJc3dq",
        "outputId": "3a49c7c1-5b62-4b28-d9da-4d04c035ae3d"
      },
      "execution_count": null,
      "outputs": [
        {
          "output_type": "stream",
          "name": "stdout",
          "text": [
            "{1: 0, 2: 0, 3: 0}\n",
            "{0: 3, 1: 0, 2: 0, 3: 0}\n",
            "8\n"
          ]
        }
      ]
    },
    {
      "cell_type": "code",
      "source": [
        "# dfs/bfs \n",
        "# run a build graph part of the code which will create graph like this one\n",
        "#graph = collections.defaultdict(set)\n",
        "graph = {\n",
        "  '5' : ['3','7'],\n",
        "  '3' : ['2', '4'],\n",
        "  '7' : ['8'],\n",
        "  '2' : [],\n",
        "  '4' : ['8'],\n",
        "  '8' : []\n",
        "}\n",
        "\n",
        "def dfs(visited, graph, node):\n",
        "  if node not in visited:\n",
        "    visited.add(node)\n",
        "    print(node)\n",
        "\n",
        "    for neighbors in graph[node]:\n",
        "      dfs(visited, graph, neighbors)\n",
        "print(\"follwing is the dfs order of searching\")\n",
        "dfs(set(), graph, '5')"
      ],
      "metadata": {
        "id": "kgYgAk9kduZc",
        "colab": {
          "base_uri": "https://localhost:8080/"
        },
        "outputId": "7925d5a0-9a9d-4418-a05b-3ec6b6a4f53d"
      },
      "execution_count": null,
      "outputs": [
        {
          "output_type": "stream",
          "name": "stdout",
          "text": [
            "follwing is the dfs order of searching\n",
            "5\n",
            "3\n",
            "2\n",
            "4\n",
            "8\n",
            "7\n"
          ]
        }
      ]
    },
    {
      "cell_type": "code",
      "source": [
        "import collections\n",
        "graph = {\n",
        "  '5' : ['3','7'],\n",
        "  '3' : ['2', '4'],\n",
        "  '7' : ['8'],\n",
        "  '2' : [],\n",
        "  '4' : ['8'],\n",
        "  '8' : []\n",
        "}\n",
        "visited=[]\n",
        "q=[]\n",
        "\n",
        "def bfs(visited, graph, node):\n",
        "  visited.append(node)\n",
        "  # q = collections.deque(node)\n",
        "  q.append(node)\n",
        "  while q:\n",
        "    m = q.pop(0)\n",
        "    print(m, end=\" \")\n",
        "    \n",
        "    for neighbors in graph[m]:\n",
        "      # print(visited)\n",
        "      if neighbors not in visited:\n",
        "        # print(neighbors)\n",
        "        visited.append(neighbors)\n",
        "        q.append(neighbors)\n",
        "        # print(q)\n",
        "print(\"Following is the Breadth-First Search\")\n",
        "bfs(visited, graph, '5')    # function calling"
      ],
      "metadata": {
        "colab": {
          "base_uri": "https://localhost:8080/"
        },
        "id": "qWgiG7RCCEBf",
        "outputId": "f40c4a59-b3e0-4c72-ca25-7160d26bf831"
      },
      "execution_count": null,
      "outputs": [
        {
          "output_type": "stream",
          "name": "stdout",
          "text": [
            "Following is the Breadth-First Search\n",
            "5 3 7 2 4 8 "
          ]
        }
      ]
    },
    {
      "cell_type": "markdown",
      "source": [
        "## Prims algorithm\n",
        "* use Priority queue to find min connection from vertex a to all other vertex\n",
        "* take the min cost one\n",
        "* calculate from latest one to all points that is not visited already\n",
        "* continue the process\n",
        "- Exmaple LC-1584: min cost to connet all points"
      ],
      "metadata": {
        "id": "8e0UWlWarcGU"
      }
    },
    {
      "cell_type": "code",
      "source": [
        "from typing import List \n",
        " def minCostConnectPoints(self, points: List[List[int]]) -> int:\n",
        "        n = len(points)\n",
        "\n",
        "        pq = [(0,0)] # cost is cost from the cur node, 0 node means, p0 in points, cost should be first \n",
        "\n",
        "        mst = [False] * n\n",
        "\n",
        "        mst_cost, edge_used=0,0\n",
        "\n",
        "        while edge_used < n:\n",
        "            cost, cur_node = heapq.heappop(pq)\n",
        "\n",
        "            if mst[cur_node]:\n",
        "                continue\n",
        "            mst[cur_node] = True\n",
        "            mst_cost += cost \n",
        "            edge_used +=1\n",
        "\n",
        "            for next_node in range(n):\n",
        "                if not mst[next_node]:\n",
        "                    next_cost = abs(points[cur_node][0] - points[next_node][0]) + abs(points[cur_node][1]-points[next_node][1]) \n",
        "                    heapq.heappush(pq, (next_cost, next_node))\n",
        "            \n",
        "        return mst_cost\n",
        " "
      ],
      "metadata": {
        "id": "zrBssivisBuI"
      },
      "execution_count": null,
      "outputs": []
    },
    {
      "cell_type": "markdown",
      "source": [
        "## Kruskal algorithm LC-1584"
      ],
      "metadata": {
        "id": "JL_GiFRREX_T"
      }
    },
    {
      "cell_type": "code",
      "source": [
        "# the same problem we can solve using kruskal algorithm which uses disjoint set data structure\n",
        "from typing import List\n",
        "class UnionFind:\n",
        "  def __init__(self, size: int) -> None:\n",
        "    self.parent=[0]*size\n",
        "    self.rank=[1]*size\n",
        "\n",
        "    for i in range(size):\n",
        "      self.parent[i]=i # set each node as its parent\n",
        "\n",
        "  def find(self, node: int) -> int:\n",
        "    if self.parent[node] != node: \n",
        "      self.parent[node] = self.find(self.parent[node]) # find parent or the top node where that condition meets\n",
        "    return self.parent[node]\n",
        "  \n",
        "  def union(self, node1: int, node2: int) -> bool:\n",
        "    parent1=self.find(node1)\n",
        "    parent2=self.find(node2)\n",
        "\n",
        "    if parent1==parent2:\n",
        "      return False # they are already in the same group\n",
        "    \n",
        "    if self.rank[parent1] > self.rank[parent2]:\n",
        "      self.parent[parent2]=parent1 #make parent 2 the parent of parent1\n",
        "    elif self.rank[parent2] > self.rank[parent1]:\n",
        "      self.parent[parent1]=parent2\n",
        "    else:\n",
        "      self.parent[parent1] = parent2\n",
        "      self.rank[parent1] +=1\n",
        "    return True \n",
        "class ConnectingAllPoitns:\n",
        "  def minCostConnectPoints(self, points: List[List[int]]) -> int:\n",
        "    n=len(points)\n",
        "    all_edges=[]\n",
        "    \n",
        "    for cur_node in range(n):\n",
        "      for next_node in range(cur_node+1, n):\n",
        "        cost = abs(points[cur_node][0]-points[next_node][0]) + abs(points[cur_node][1]-points[next_node][1])\n",
        "        all_edges.append(cost, cur_node, next_node)\n",
        "    \n",
        "    all_edges.sort()\n",
        "\n",
        "    uf = UnionFind(n)\n",
        "    mst_cost=0\n",
        "    edges_used=0\n",
        "\n",
        "    for cost, node1, node2 in all_edges:\n",
        "      if uf.union(node1, node2):\n",
        "        mst_cost+=cost\n",
        "        edges_used+=1\n",
        "        if edges_used==n-1:\n",
        "          break\n",
        "    return mst_cost \n",
        "\n",
        "\n",
        "\n"
      ],
      "metadata": {
        "id": "KqDSBnl3LHng"
      },
      "execution_count": null,
      "outputs": []
    },
    {
      "cell_type": "markdown",
      "source": [
        "## Dijstrajs Alogorithm\n",
        "* single source shortest path\n",
        "* this also needs to choose minimum cost edge, so it is necessary to keep both cost and node tuple in the queue or priority queue\n",
        "* no negative weight cycle present in the graph"
      ],
      "metadata": {
        "id": "HxtMlzOhUC44"
      }
    },
    {
      "cell_type": "code",
      "source": [
        "class Solution:\n",
        "    def networkDelayTime(self, times, N, K):\n",
        "        q, t, adj = [(0, K)], {}, collections.defaultdict(list)\n",
        "        for u, v, w in times:\n",
        "            adj[u].append((v, w))\n",
        "        while q:\n",
        "            time, node = heapq.heappop(q) # this will make it faster by discarding later nodes\n",
        "            if node not in t:\n",
        "                t[node] = time\n",
        "                for v, w in adj[node]:\n",
        "                    heapq.heappush(q, (time + w, v))\n",
        "        return max(t.values()) if len(t) == N else -1\n",
        "\n"
      ],
      "metadata": {
        "id": "_I70IxuCYxP3"
      },
      "execution_count": null,
      "outputs": []
    },
    {
      "cell_type": "code",
      "source": [
        "class Solution:\n",
        "    def networkDelayTime(self, times, N, K):\n",
        "        t, graph, q = [0] + [float(\"inf\")] * N, collections.defaultdict(list), collections.deque([(0, K)])\n",
        "        for u, v, w in times:\n",
        "            graph[u].append((v, w))\n",
        "        while q:\n",
        "            time, node = q.popleft()\n",
        "            #this one covers dis(x, v) = min(dis(x, u) + dis(u,v)) and take minimum one if there are multipe\n",
        "            # if the current visit produce better result then update otherwise discard\n",
        "            if time < t[node]: \n",
        "                t[node] = time\n",
        "                for v, w in graph[node]:\n",
        "                    q.append((time + w, v))\n",
        "        mx = max(t)\n",
        "        return mx if mx < float(\"inf\") else -1"
      ],
      "metadata": {
        "id": "75wPqe62Y216"
      },
      "execution_count": null,
      "outputs": []
    },
    {
      "cell_type": "markdown",
      "source": [
        "## Belman ford algorithm\n",
        "* it iterate to relax until no cost changes\n",
        "* LC-787"
      ],
      "metadata": {
        "id": "UCVqmGn-EiZ1"
      }
    },
    {
      "cell_type": "code",
      "source": [
        "from typing import List\n",
        "import sys\n",
        "\n",
        "class LC787:\n",
        "  def findCheapestPrice(self, n: int, flights: List[List[int]], src: int, dst: int, k: int) -> int:\n",
        "    INF = sys.maxsize # python way of getting max int\n",
        "    previous = [INF]*n # keep previous cost of visiting all nodes\n",
        "    current = [INF]*n # keep current cost of all nodes\n",
        "    previous[src] = 0 # we start from src and cost is zero \n",
        "\n",
        "    # general bellman ford iterate until no change happens, but here our limitation is max of k flights\n",
        "    for i in range(1, k+2):\n",
        "      current[src] = 0\n",
        "      for prev_flight, cur_flight, cost in flights: # relax all edges\n",
        "        if previous[prev_flight] < INF:\n",
        "          current[cur_flight] = min(current[cur_flight], previous[prev_flight]+cost)\n",
        "      previous=current.copy() # after each iteration keep updated result to previous\n",
        "    \n",
        "    return -1 if current[dst]==INF else current[dst]\n",
        "\n",
        "\n",
        "obj = LC787()\n",
        "A=[[0,1,100],[1,2,100],[2,0,100],[1,3,600],[2,3,200]]\n",
        "print(obj.findCheapestPrice(4, A, 0, 3, 1))\n"
      ],
      "metadata": {
        "colab": {
          "base_uri": "https://localhost:8080/"
        },
        "id": "33JOapwDEqXQ",
        "outputId": "fa5d3a4e-6dc7-4171-a7fb-bf672faa7788"
      },
      "execution_count": 4,
      "outputs": [
        {
          "output_type": "stream",
          "name": "stdout",
          "text": [
            "700\n"
          ]
        }
      ]
    },
    {
      "cell_type": "markdown",
      "source": [
        "## Floyd warshall all pairs shortest path \n",
        "* https://leetcode.com/problems/find-the-city-with-the-smallest-number-of-neighbors-at-a-threshold-distance/solutions/?orderBy=most_votes\n"
      ],
      "metadata": {
        "id": "0gxtTkooPeVV"
      }
    }
  ]
}