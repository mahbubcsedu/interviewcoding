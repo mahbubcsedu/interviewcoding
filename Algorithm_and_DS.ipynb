{
  "nbformat": 4,
  "nbformat_minor": 0,
  "metadata": {
    "colab": {
      "provenance": [],
      "toc_visible": true,
      "authorship_tag": "ABX9TyPD69Gcwdel8mPSkDhAlbzM",
      "include_colab_link": true
    },
    "kernelspec": {
      "name": "python3",
      "display_name": "Python 3"
    },
    "language_info": {
      "name": "python"
    }
  },
  "cells": [
    {
      "cell_type": "markdown",
      "metadata": {
        "id": "view-in-github",
        "colab_type": "text"
      },
      "source": [
        "<a href=\"https://colab.research.google.com/github/mahbubcsedu/interviewcoding/blob/main/Algorithm_and_DS.ipynb\" target=\"_parent\"><img src=\"https://colab.research.google.com/assets/colab-badge.svg\" alt=\"Open In Colab\"/></a>"
      ]
    },
    {
      "cell_type": "markdown",
      "metadata": {
        "id": "WOYiWfntS9oL"
      },
      "source": [
        "## Data structures and collection practices\n",
        "\n",
        "### Sorting (two at least)\n",
        "\n",
        "1. Quick sort\n",
        " for better understanding, we can look into the algorithm in the text book like algorithm design manual or https://www.interviewbit.com/tutorial/quicksort-algorithm/#quicksort-algorithm\n",
        "\n",
        "The algorithm:\n",
        "* if low and high of the array is not the same, we will partition the array based on pivot.\n",
        "* after every partition, we merge the sorted subarray to get the sorted array"
      ]
    },
    {
      "cell_type": "code",
      "metadata": {
        "id": "0at9Tn2HS6DP",
        "colab": {
          "base_uri": "https://localhost:8080/"
        },
        "outputId": "f946a78d-024d-4cae-cca0-3e7a0d03225f"
      },
      "source": [
        "def quick_sort(A, l, h):\n",
        "  if l < h:\n",
        "    p_idx = partition(A, l, h)\n",
        "    quick_sort(A, l, p_idx-1)\n",
        "    quick_sort(A, p_idx+1, h)\n",
        "\n",
        "def partition(A, l, h):\n",
        "  p = A[h]\n",
        "  j = l\n",
        "  \n",
        "  for i in range(l, h):\n",
        "    # print(i)\n",
        "    if A[i] < p:\n",
        "      print(A[i], p)\n",
        "      # j=j+1\n",
        "      A[i], A[j] = A[j], A[i]\n",
        "      print(\"swap\", (A[i], A[j]))\n",
        "      j= j+1\n",
        "  A[h], A[j] = A[j], A[h]\n",
        "  print(A)\n",
        "  print(\"pivot\", j)\n",
        "  return (j)\n",
        "\n",
        "def partition2(arr,low,high): \n",
        "\ti = ( low-1 )\t\t # index of smaller element \n",
        "\tpivot = arr[high]\t # pivot \n",
        "\n",
        "\tfor j in range(low , high): \n",
        "\n",
        "\t\t# If current element is smaller than or \n",
        "\t\t# equal to pivot \n",
        "\t\tif arr[j] <= pivot: \n",
        "\t\t\n",
        "\t\t\t# increment index of smaller element \n",
        "\t\t\ti = i+1\n",
        "\t\t\tarr[i],arr[j] = arr[j],arr[i] \n",
        "\n",
        "\tarr[i+1],arr[high] = arr[high],arr[i+1] \n",
        "\treturn ( i+1 ) \n",
        " \n",
        "\n",
        "A= [6, 2, 1, 10, 15, 11, 8, 3]\n",
        "quick_sort(A, 0, len(A)-1)\n",
        "print(A)\n",
        "\n"
      ],
      "execution_count": 7,
      "outputs": [
        {
          "output_type": "stream",
          "name": "stdout",
          "text": [
            "2 3\n",
            "swap (6, 2)\n",
            "1 3\n",
            "swap (6, 1)\n",
            "[2, 1, 3, 10, 15, 11, 8, 6]\n",
            "pivot 2\n",
            "[1, 2, 3, 10, 15, 11, 8, 6]\n",
            "pivot 0\n",
            "[1, 2, 3, 6, 15, 11, 8, 10]\n",
            "pivot 3\n",
            "8 10\n",
            "swap (15, 8)\n",
            "[1, 2, 3, 6, 8, 10, 15, 11]\n",
            "pivot 5\n",
            "[1, 2, 3, 6, 8, 10, 11, 15]\n",
            "pivot 6\n",
            "[1, 2, 3, 6, 8, 10, 11, 15]\n"
          ]
        }
      ]
    },
    {
      "cell_type": "code",
      "metadata": {
        "colab": {
          "base_uri": "https://localhost:8080/"
        },
        "id": "k9IVUWD19TSi",
        "outputId": "2cd5d284-f837-41a7-b961-a72895ba93ed"
      },
      "source": [
        "# in python x=+x is not incrementing variable value, rather it is putting +1 to the value\n",
        "i=10\n",
        "i+=1\n",
        "print(i)\n",
        "i=14\n",
        "i=-1\n",
        "print(i)"
      ],
      "execution_count": 2,
      "outputs": [
        {
          "output_type": "stream",
          "name": "stdout",
          "text": [
            "11\n",
            "-1\n"
          ]
        }
      ]
    },
    {
      "cell_type": "markdown",
      "metadata": {
        "id": "QHAcuXGPP-yQ"
      },
      "source": [
        "### Merge Sort\n",
        "We should learn short with details"
      ]
    },
    {
      "cell_type": "markdown",
      "source": [
        "## DS and algorithm to Practice\n",
        "* Binary tree\n",
        "* Binary Search Tree\n",
        "* Hash\n",
        "* Linked List\n",
        "* stack\n",
        "* Binary Index tree\n",
        "* Segment tree\n",
        "* Array\n",
        "* DFS\n",
        "* BFS\n",
        "* Heap\n",
        "* Union Find\n",
        "* Queue\n",
        "* Topological Sort\n",
        "* Double Linked List\n",
        "* Bucket Sort\n",
        "* Suffix Array\n",
        "* Minimum spanning tree\n",
        "* Matrix\n",
        "* Trie\n",
        "\n",
        "\n",
        "### Algorithm Technique\n",
        "* Dynamic programming\n",
        "* Sorting\n",
        "* Searching\n",
        "* Greedy\n",
        "* Binary Search\n",
        "* Two pointer\n",
        "* Recursion\n",
        "* Enumeration\n",
        "* String matching\n",
        "* Rolling hash\n",
        "* Shortest path\n",
        "* Merge sort \n",
        "* Quick Sort\n",
        "* Counting sort\n",
        "\n",
        "\n"
      ],
      "metadata": {
        "id": "XK0dTue1tICE"
      }
    }
  ]
}