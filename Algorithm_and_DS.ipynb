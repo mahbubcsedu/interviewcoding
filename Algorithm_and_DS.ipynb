{
  "nbformat": 4,
  "nbformat_minor": 0,
  "metadata": {
    "colab": {
      "provenance": [],
      "authorship_tag": "ABX9TyMDmCu/K+pHGcYC/InH2V9u",
      "include_colab_link": true
    },
    "kernelspec": {
      "name": "python3",
      "display_name": "Python 3"
    },
    "language_info": {
      "name": "python"
    }
  },
  "cells": [
    {
      "cell_type": "markdown",
      "metadata": {
        "id": "view-in-github",
        "colab_type": "text"
      },
      "source": [
        "<a href=\"https://colab.research.google.com/github/mahbubcsedu/interviewcoding/blob/main/Algorithm_and_DS.ipynb\" target=\"_parent\"><img src=\"https://colab.research.google.com/assets/colab-badge.svg\" alt=\"Open In Colab\"/></a>"
      ]
    },
    {
      "cell_type": "markdown",
      "metadata": {
        "id": "WOYiWfntS9oL"
      },
      "source": [
        "## Data structures and collection practices\n",
        "\n",
        "### Sorting (two at least)\n",
        "\n",
        "1. Quick sort\n",
        " for better understanding, we can look into the algorithm in the text book like algorithm design manual or https://www.interviewbit.com/tutorial/quicksort-algorithm/#quicksort-algorithm\n",
        "\n",
        "The algorithm:\n",
        "* if low and high of the array is not the same, we will partition the array based on pivot.\n",
        "* after every partition, we merge the sorted subarray to get the sorted array\n",
        "\n",
        "<font color=\"green\">Look at the rules of compare and swap: </font>\n",
        "* partition algorithm\n",
        "  - select last or A[h] as the pivot element\n",
        "  - set first element index as j, keep in mind, we swap agains j for each element that is less than pivot\n",
        "  - compare each element from (start to end-1)\n",
        "  - if element A[i] is less than p, <font color=\"red\">swap element with A[j] </font>, \n",
        "  - finally, swap A[j] with last element A[h]\n",
        "  - return j as the boundary, A[j] is its own position now\n",
        "  - partition repeatedly both left and right parts with [low, j-1], and [j+1, high]\n"
      ]
    },
    {
      "cell_type": "code",
      "metadata": {
        "id": "0at9Tn2HS6DP",
        "colab": {
          "base_uri": "https://localhost:8080/"
        },
        "outputId": "f946a78d-024d-4cae-cca0-3e7a0d03225f"
      },
      "source": [
        "def quick_sort(A, l, h):\n",
        "  if l < h:\n",
        "    p_idx = partition(A, l, h)\n",
        "    quick_sort(A, l, p_idx-1)\n",
        "    quick_sort(A, p_idx+1, h)\n",
        "\n",
        "def partition(A, l, h):\n",
        "  p = A[h]\n",
        "  j = l\n",
        "  \n",
        "  for i in range(l, h):\n",
        "    # print(i)\n",
        "    if A[i] < p:\n",
        "      print(A[i], p)\n",
        "      # j=j+1\n",
        "      A[i], A[j] = A[j], A[i]\n",
        "      print(\"swap\", (A[i], A[j]))\n",
        "      j= j+1\n",
        "  A[h], A[j] = A[j], A[h]\n",
        "  print(A)\n",
        "  print(\"pivot\", j)\n",
        "  return (j)\n",
        "\n",
        "def partition2(arr,low,high): \n",
        "\ti = ( low-1 )\t\t # index of smaller element \n",
        "\tpivot = arr[high]\t # pivot \n",
        "\n",
        "\tfor j in range(low , high): \n",
        "\n",
        "\t\t# If current element is smaller than or \n",
        "\t\t# equal to pivot \n",
        "\t\tif arr[j] <= pivot: \n",
        "\t\t\n",
        "\t\t\t# increment index of smaller element \n",
        "\t\t\ti = i+1\n",
        "\t\t\tarr[i],arr[j] = arr[j],arr[i] \n",
        "\n",
        "\tarr[i+1],arr[high] = arr[high],arr[i+1] \n",
        "\treturn ( i+1 ) \n",
        " \n",
        "\n",
        "A= [6, 2, 1, 10, 15, 11, 8, 3]\n",
        "quick_sort(A, 0, len(A)-1)\n",
        "print(A)\n",
        "\n"
      ],
      "execution_count": null,
      "outputs": [
        {
          "output_type": "stream",
          "name": "stdout",
          "text": [
            "2 3\n",
            "swap (6, 2)\n",
            "1 3\n",
            "swap (6, 1)\n",
            "[2, 1, 3, 10, 15, 11, 8, 6]\n",
            "pivot 2\n",
            "[1, 2, 3, 10, 15, 11, 8, 6]\n",
            "pivot 0\n",
            "[1, 2, 3, 6, 15, 11, 8, 10]\n",
            "pivot 3\n",
            "8 10\n",
            "swap (15, 8)\n",
            "[1, 2, 3, 6, 8, 10, 15, 11]\n",
            "pivot 5\n",
            "[1, 2, 3, 6, 8, 10, 11, 15]\n",
            "pivot 6\n",
            "[1, 2, 3, 6, 8, 10, 11, 15]\n"
          ]
        }
      ]
    },
    {
      "cell_type": "code",
      "metadata": {
        "colab": {
          "base_uri": "https://localhost:8080/"
        },
        "id": "k9IVUWD19TSi",
        "outputId": "e27e5330-12c2-462a-b372-5905b4ecc2d4"
      },
      "source": [
        "# Trie data Structure\n",
        "class TrieNode:\n",
        "  def __init__(self):\n",
        "    self.children = [None for _ in range(26)]\n",
        "    self.is_end=False \n",
        "\n",
        "\n",
        "\n",
        "class Trie:\n",
        "  def __init__(self):\n",
        "    self.root = TrieNode()\n",
        "\n",
        "  \n",
        "  def insert(self, s: str):\n",
        "    print(s)\n",
        "    cur_root = self.root\n",
        "    for level in range(len(s)):\n",
        "      idx = ord(s[level])-ord('a')\n",
        "\n",
        "      if not cur_root.children[idx]:\n",
        "        cur_root.children[idx]=TrieNode()\n",
        "      cur_root = cur_root.children[idx]\n",
        "\n",
        "    cur_root.is_end=True \n",
        "\n",
        "  def search(self, key) -> bool:\n",
        "    cur_root = self.root \n",
        "    for level in range(len(key)):\n",
        "      idx = ord(key[level])-ord('a')\n",
        "\n",
        "      if not cur_root.children[idx]:\n",
        "        return False\n",
        "      cur_root = cur_root.children[idx]\n",
        "     \n",
        "    return cur_root.is_end\n",
        "\n",
        "\n",
        "t = Trie()\n",
        "t.insert(\"abcd\")\n",
        "# print(t)\n",
        "assert t.search(\"abcd\") == True\n",
        "assert t.search(\"abc\") == False\n",
        "\n",
        "\n",
        "\n",
        "\n"
      ],
      "execution_count": 16,
      "outputs": [
        {
          "output_type": "stream",
          "name": "stdout",
          "text": [
            "abcd\n",
            "<__main__.Trie object at 0x7fe0e48634c0>\n"
          ]
        }
      ]
    },
    {
      "cell_type": "code",
      "source": [
        "# instead of using array we can also use dictionary\n",
        "\n",
        "class TrieNodeDict:\n",
        "  def __init__(self):\n",
        "    self.children={}\n",
        "    self.sentinel=False\n",
        "\n",
        "\n",
        "class TrieDict:\n",
        "  def __init__(self):\n",
        "    self.root = TrieNodeDict()\n",
        "\n",
        "  \n",
        "  def insert(self, s: str):\n",
        "    cur_root = self.root\n",
        "    for ch in s:\n",
        "      if ch in cur_root.children:\n",
        "        cur_root = cur_root.children[ch]\n",
        "      else:\n",
        "        cur_root.children[ch]= TrieNodeDict()\n",
        "        cur_root = cur_root.children[ch]\n",
        "      \n",
        "    cur_root.sentinel=True \n",
        "\n",
        "  def search(self, key) -> bool:\n",
        "    cur_root = self.root \n",
        "    for ch in key:\n",
        "      if ch in cur_root.children:\n",
        "        cur_root = cur_root.children[ch]\n",
        "      else:\n",
        "        return False\n",
        "      \n",
        "     \n",
        "    return cur_root.sentinel\n",
        "\n",
        "t = TrieDict()\n",
        "t.insert(\"abcd\")\n",
        "# print(t)\n",
        "print(t.search(\"abcd\"))\n",
        "assert t.search(\"abc\") == False"
      ],
      "metadata": {
        "colab": {
          "base_uri": "https://localhost:8080/"
        },
        "id": "wEo5GiMfRMdf",
        "outputId": "8911413d-ecb3-40b2-d9fa-befb8596416f"
      },
      "execution_count": 22,
      "outputs": [
        {
          "output_type": "stream",
          "name": "stdout",
          "text": [
            "True\n"
          ]
        }
      ]
    },
    {
      "cell_type": "markdown",
      "metadata": {
        "id": "QHAcuXGPP-yQ"
      },
      "source": [
        "### Merge Sort\n",
        "We should learn short with details"
      ]
    },
    {
      "cell_type": "markdown",
      "source": [
        "## DS and algorithm to Practice\n",
        "* Binary tree\n",
        "* Binary Search Tree\n",
        "* Hash\n",
        "* Linked List\n",
        "* stack\n",
        "* Binary Index tree\n",
        "* Segment tree\n",
        "* Array\n",
        "* DFS\n",
        "* BFS\n",
        "* Heap\n",
        "* Union Find\n",
        "* Queue\n",
        "* Topological Sort\n",
        "* Double Linked List\n",
        "* Bucket Sort\n",
        "* Suffix Array\n",
        "* Minimum spanning tree\n",
        "* Matrix\n",
        "* Trie\n",
        "\n",
        "\n",
        "### Algorithm Technique\n",
        "* Dynamic programming\n",
        "* Sorting\n",
        "* Searching\n",
        "* Greedy\n",
        "* Binary Search\n",
        "* Two pointer\n",
        "* Recursion\n",
        "* Enumeration\n",
        "* String matching\n",
        "* Rolling hash\n",
        "* Shortest path\n",
        "* Merge sort \n",
        "* Quick Sort\n",
        "* Counting sort\n",
        "\n",
        "\n"
      ],
      "metadata": {
        "id": "XK0dTue1tICE"
      }
    }
  ]
}