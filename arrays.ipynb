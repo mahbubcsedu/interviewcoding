{
  "nbformat": 4,
  "nbformat_minor": 0,
  "metadata": {
    "colab": {
      "name": "arrays.ipynb",
      "provenance": [],
      "authorship_tag": "ABX9TyMPxNrAfaXMLh/Kt1rHlCb8",
      "include_colab_link": true
    },
    "kernelspec": {
      "name": "python3",
      "display_name": "Python 3"
    },
    "language_info": {
      "name": "python"
    }
  },
  "cells": [
    {
      "cell_type": "markdown",
      "metadata": {
        "id": "view-in-github",
        "colab_type": "text"
      },
      "source": [
        "<a href=\"https://colab.research.google.com/github/mahbubcsedu/interviewcoding/blob/main/arrays.ipynb\" target=\"_parent\"><img src=\"https://colab.research.google.com/assets/colab-badge.svg\" alt=\"Open In Colab\"/></a>"
      ]
    },
    {
      "cell_type": "markdown",
      "metadata": {
        "id": "jDJbPgzqfHkb"
      },
      "source": [
        "# Arrays\n"
      ]
    },
    {
      "cell_type": "markdown",
      "metadata": {
        "id": "QfogD96GU_M4"
      },
      "source": [
        "## Dutch flag problem\n",
        "* give an array of numbers or colors\n",
        "* given a pivot color or middle color\n",
        "* short the array where all elements less than pivot is on the left and greater than on the right\n",
        "* Example: `A = [0,1,2,0,2,1,1]` and `pivot = A[3] =0`, then `[0 0 1 2 2 1]` is a valid partition. all less than 0, is on the left, followed by all 0 and followed by all larger than 0. The order on larger than 0 does not matter here"
      ]
    },
    {
      "cell_type": "code",
      "metadata": {
        "id": "IXnA3U7De5XX",
        "colab": {
          "base_uri": "https://localhost:8080/"
        },
        "outputId": "a176a207-144c-4685-d0b2-1e55f13e657a"
      },
      "source": [
        "import random\n",
        "\n",
        "# The slow one, where 1) starting from index 0, find smaller elements and move to the first part 2) iterate from end of the string and move all greater than pivot\n",
        "RED, WHITE, BLUE = range(3) # 0, 1,2\n",
        "\n",
        "def dutch_flag_partition_slow(pivot_index, A):\n",
        "  pivot = A[pivot_index] # not checking because its not accepted solutions\n",
        "  #First pass : group elemens smaller tha pivot\n",
        "  for i in range(len(A)):\n",
        "    #look for a smaller elements \n",
        "    for j in range(i+1, len(A)):\n",
        "      if A[j] < pivot:\n",
        "        A[i], A[j] = A[j], A[i]\n",
        "        break\n",
        "  #second pass : group elemens greater tha pivot\n",
        "  for i in reversed(range(len(A))):\n",
        "    # once elements starts to get smaller than pivot, it breaks as we don't need to do anything on those\n",
        "    if A[i] < pivot:\n",
        "      break\n",
        "    #look for a larger elements \n",
        "    for j in reversed(range(i)):\n",
        "      if A[j] > pivot:\n",
        "        A[i], A[j] = A[j], A[i]\n",
        "        break  \n",
        "\n",
        "# lets create a simple test case for that\n",
        "n=10\n",
        "A = [random.randint(0,2) for _ in range(n)]\n",
        "print(A)\n",
        "pivot_index = random.randrange(n) \n",
        "print(pivot_index)\n",
        "dutch_flag_partition_slow(pivot_index, A)\n",
        "print(A)   "
      ],
      "execution_count": null,
      "outputs": [
        {
          "output_type": "stream",
          "text": [
            "[0, 2, 0, 0, 1, 2, 1, 0, 1, 1]\n",
            "7\n",
            "[0, 0, 0, 0, 2, 1, 2, 1, 1, 1]\n"
          ],
          "name": "stdout"
        }
      ]
    },
    {
      "cell_type": "code",
      "metadata": {
        "colab": {
          "base_uri": "https://localhost:8080/"
        },
        "id": "ZU7jkW_lcdPK",
        "outputId": "d1e6da0e-10fc-48a5-d072-1d76ee9da671"
      },
      "source": [
        "# However, if we keep a pointer at each iteration, we can avoid second loop\n",
        "\n",
        "import random\n",
        "\n",
        "# not necessary RED, WHITE, BLUE = range(3)\n",
        "def dutch_flag_partition_improved(pivot_index, A):\n",
        "  pivot = A[pivot_index]\n",
        "\n",
        "  # First pass to organize smaller elements\n",
        "  smaller = 0\n",
        "  for i in range(len(A)):\n",
        "    if A[i] < pivot:\n",
        "      A[i], A[smaller] = A[smaller], A[i]\n",
        "      smaller +=1\n",
        "\n",
        " # secon pass to organize larger elements\n",
        "  larger = len(A)-1\n",
        "  for i in reversed(range(len(A))):\n",
        "    # early break if we see equal or smaller\n",
        "    if A[i] < pivot:\n",
        "      break\n",
        "\n",
        "    if A[i] > pivot:\n",
        "      A[i], A[larger] = A[larger], A[i]\n",
        "      larger -=1\n",
        "\n",
        "# lets create a simple test case for that\n",
        "n=10\n",
        "A = [random.randint(0,2) for _ in range(n)]\n",
        "print(A)\n",
        "pivot_index = random.randrange(n) \n",
        "print(pivot_index)\n",
        "dutch_flag_partition_improved(pivot_index, A)\n",
        "print(A)   \n"
      ],
      "execution_count": null,
      "outputs": [
        {
          "output_type": "stream",
          "text": [
            "[0, 1, 2, 2, 1, 1, 2, 0, 0, 0]\n",
            "4\n",
            "[0, 0, 0, 0, 1, 1, 1, 2, 2, 2]\n"
          ],
          "name": "stdout"
        }
      ]
    },
    {
      "cell_type": "code",
      "metadata": {
        "colab": {
          "base_uri": "https://localhost:8080/"
        },
        "id": "eRxeDAume__p",
        "outputId": "5526b1e8-afb3-4362-b137-08ed971f6655"
      },
      "source": [
        "# we can merge the two loop together.\n",
        "\n",
        "import random\n",
        "\n",
        "def dutch_flag_partition(pivot_index, A):\n",
        "  sm, eq, lg = 0, 0, len(A)-1\n",
        "  print(sm, eq, lg)\n",
        "  pivot = A[pivot_index]\n",
        "\n",
        "  while eq < lg:  # eq is forward moving and larger is backword, so compare them to decide\n",
        "    if A[eq] < pivot:\n",
        "      A[eq], A[sm] = A[sm], A[eq]\n",
        "      eq = eq+1\n",
        "      sm = sm+1\n",
        "    elif A[eq] > pivot: # eq will not change position as the swapped element is not at eq position and we have to consider that\n",
        "      A[eq], A[lg] = A[lg], A[eq]\n",
        "      lg =lg-1\n",
        "    else:\n",
        "      eq =eq+1\n",
        "\n",
        "# lets create a simple test case for that\n",
        "n=10\n",
        "A = [random.randint(0,2) for _ in range(n)]\n",
        "print(A)\n",
        "pivot_index = random.randrange(n) \n",
        "print(pivot_index)\n",
        "dutch_flag_partition(pivot_index, A)\n",
        "print(A)  "
      ],
      "execution_count": null,
      "outputs": [
        {
          "output_type": "stream",
          "text": [
            "[0, 1, 1, 2, 1, 2, 0, 1, 1, 2]\n",
            "1\n",
            "0 0 9\n",
            "[0, 1, 1, 1, 1, 1, 0, 2, 2, 2]\n"
          ],
          "name": "stdout"
        }
      ]
    },
    {
      "cell_type": "code",
      "metadata": {
        "colab": {
          "base_uri": "https://localhost:8080/"
        },
        "id": "p5hNxAWNZUEo",
        "outputId": "caf5cb10-7a77-44a9-ee55-9e9d713ae48d"
      },
      "source": [
        "print([i for i in reversed(range(3))])"
      ],
      "execution_count": null,
      "outputs": [
        {
          "output_type": "stream",
          "text": [
            "[2, 1, 0]\n"
          ],
          "name": "stdout"
        }
      ]
    },
    {
      "cell_type": "markdown",
      "metadata": {
        "id": "MC2omk0kr8Al"
      },
      "source": [
        "## Plus one (big number)\n",
        "* a number is represented as an array of digits or int\n",
        "* add 1 with the number\n",
        "Example: `[9, 9, 9] + 1` -> 1000"
      ]
    },
    {
      "cell_type": "code",
      "metadata": {
        "colab": {
          "base_uri": "https://localhost:8080/"
        },
        "id": "SL1VNdmlsQgD",
        "outputId": "19847171-5f2f-4f89-96be-f3dcdcc111d4"
      },
      "source": [
        "def plusOne(A):\n",
        "  A[-1] +=1\n",
        "  for i in reversed(range(1, len(A))):\n",
        "    if A[i]!=10:\n",
        "      break\n",
        "    A[i] = 0\n",
        "    A[i-1] +=1\n",
        "  if A[0] == 10:\n",
        "    A[0] = 0\n",
        "    A.insert(0,1)\n",
        "  return A\n",
        "\n",
        "B = [1,9,9]\n",
        "r = plusOne(B)\n",
        "print(r)\n"
      ],
      "execution_count": null,
      "outputs": [
        {
          "output_type": "stream",
          "text": [
            "[2, 0, 0]\n"
          ],
          "name": "stdout"
        }
      ]
    },
    {
      "cell_type": "markdown",
      "metadata": {
        "id": "mHTbhlQSq4gh"
      },
      "source": [
        "## Precision multiplication of two numbers\n",
        " * two big numbers can be presented as an array of int\n",
        " * multiply like high school math\n",
        " Example: A=[1,2,3], B=[1,2,3,4], the multiplication will take at most 4+3 = 7 \n",
        " - steps: 123x4+123x3x10+123x2x100+123x1x1000"
      ]
    },
    {
      "cell_type": "code",
      "metadata": {
        "id": "JG6xsdoMo3zR"
      },
      "source": [
        "import random\n",
        "import sys\n",
        "\n",
        "def multiply(A,B):\n",
        "  # determine result sign\n",
        "  #input can be A=[-9,8,7], B=[-8,5,4,2] if they are negative. Ask the interviewer about the format. But, int array or List, so it is obvious here\n",
        "  sign = -1 if (A[0] < 0)^(B[0]<0) else 1\n",
        "  A[0], B[0] = abs(A[0]), abs(B[0]) # [-8,4] becomes [8,4]\n",
        "  \n",
        "  result = [0]*(len(A)+len(B))\n",
        "\n",
        "  for i in reversed(range(len(A))):\n",
        "    for j in reversed(range(len(B))):\n",
        "      result[i+j+1] += A[i] * B[j]\n",
        "      result[i+j] += result[i+j+1]//10\n",
        "      result[i+j+1] %=10\n",
        "\n",
        "  # now process results array\n",
        "  # remove all zero prefix if any\n",
        "  # Add sign based on previous calculation\n",
        "  result = result[next((i for i, x in enumerate(result) if x !=0),len(result)):] or [0] \n",
        "\n",
        "  return [sign*result[0]] + result[1:]\n",
        "\n",
        "def rand_list(length):\n",
        "  if length == 0:\n",
        "    return [0]\n",
        "  # generate random list where first element is not zero\n",
        "  ret = [random.randint[1,9]] + [random.randint(0,9) for _ in range(length-1)]\n",
        "\n",
        "  if random.randint(0,1) == 1:\n",
        "    ret[0] *= -1 # generate pos or neg randomly\n",
        "  return ret\n",
        "\n",
        "def simple_test():\n",
        "  assert multiply([1],[0]) == [0]\n",
        "  assert multiply([9],[9]) == [8,1]\n",
        "simple_test()\n",
        "  "
      ],
      "execution_count": null,
      "outputs": []
    },
    {
      "cell_type": "markdown",
      "metadata": {
        "id": "DS8orSPWz0pw"
      },
      "source": [
        "### some python learning here\n",
        "\n",
        "\n"
      ]
    },
    {
      "cell_type": "code",
      "metadata": {
        "colab": {
          "base_uri": "https://localhost:8080/"
        },
        "id": "WjeyKJY0tRCs",
        "outputId": "cbcf4dd1-11ea-4185-de3c-40a4821740aa"
      },
      "source": [
        "[0]*(3+4) # which rules, find out"
      ],
      "execution_count": null,
      "outputs": [
        {
          "output_type": "execute_result",
          "data": {
            "text/plain": [
              "[0, 0, 0, 0, 0, 0, 0]"
            ]
          },
          "metadata": {
            "tags": []
          },
          "execution_count": 4
        }
      ]
    },
    {
      "cell_type": "code",
      "metadata": {
        "colab": {
          "base_uri": "https://localhost:8080/"
        },
        "id": "U8Bot7wez6tP",
        "outputId": "c2ea0b5b-d0ac-4b7f-8c6e-c5ec18cae9bd"
      },
      "source": [
        " r = [0,0,0,3,0,5]\n",
        " r[next((i for i, x in enumerate(r) if x !=0),len(r)):] or [0] "
      ],
      "execution_count": null,
      "outputs": [
        {
          "output_type": "execute_result",
          "data": {
            "text/plain": [
              "[3, 0, 5]"
            ]
          },
          "metadata": {
            "tags": []
          },
          "execution_count": 25
        }
      ]
    },
    {
      "cell_type": "code",
      "metadata": {
        "colab": {
          "base_uri": "https://localhost:8080/"
        },
        "id": "wNK911kn1HYh",
        "outputId": "bbd1d452-ff97-4311-dda0-e6a7c76c69b3"
      },
      "source": [
        "next((i for i, x in enumerate(r) if x !=0),len(r))"
      ],
      "execution_count": null,
      "outputs": [
        {
          "output_type": "execute_result",
          "data": {
            "text/plain": [
              "3"
            ]
          },
          "metadata": {
            "tags": []
          },
          "execution_count": 26
        }
      ]
    },
    {
      "cell_type": "code",
      "metadata": {
        "colab": {
          "base_uri": "https://localhost:8080/"
        },
        "id": "umY3HkG_88AS",
        "outputId": "76e24229-5c76-4c54-e9c8-cef0e57b3cc6"
      },
      "source": [
        "[(i for i, x in enumerate(r) if x !=0)"
      ],
      "execution_count": null,
      "outputs": [
        {
          "output_type": "execute_result",
          "data": {
            "text/plain": [
              "[<generator object <genexpr> at 0x7f3652a4c5d0>]"
            ]
          },
          "metadata": {
            "tags": []
          },
          "execution_count": 31
        }
      ]
    },
    {
      "cell_type": "code",
      "metadata": {
        "colab": {
          "base_uri": "https://localhost:8080/"
        },
        "id": "b6hWKUHj1PpY",
        "outputId": "9ced8e8f-31f8-4970-d6d3-425aea428d30"
      },
      "source": [
        "[x for x in enumerate(r) if x !=0]"
      ],
      "execution_count": null,
      "outputs": [
        {
          "output_type": "execute_result",
          "data": {
            "text/plain": [
              "[(0, 0), (1, 0), (2, 0), (3, 3), (4, 0), (5, 5)]"
            ]
          },
          "metadata": {
            "tags": []
          },
          "execution_count": 29
        }
      ]
    },
    {
      "cell_type": "markdown",
      "metadata": {
        "id": "xEVWgv0k-F6n"
      },
      "source": [
        "## Advance through an array\n",
        "The concept here is to compute at each step whether we will chose the next one or keep the old one to advance"
      ]
    },
    {
      "cell_type": "code",
      "metadata": {
        "colab": {
          "base_uri": "https://localhost:8080/"
        },
        "id": "Pp3ns8RK-Ri3",
        "outputId": "883d1444-994b-4a79-bd99-8f077757813d"
      },
      "source": [
        "def canReachEnd(num):\n",
        "  furthestReachSoFar, lastIndex =0, len(num)-1\n",
        "\n",
        "  for i in range(lastIndex):\n",
        "    if i > furthestReachSoFar:\n",
        "      break\n",
        "    furthestReachSoFar = max(furthestReachSoFar, i + num[i])\n",
        "  return furthestReachSoFar >=lastIndex\n",
        "\n",
        "print(canReachEnd([3,3,1,0,2,0,1]))\n",
        "print(canReachEnd([3,3,1,0,2,0,0,1]))"
      ],
      "execution_count": null,
      "outputs": [
        {
          "output_type": "stream",
          "text": [
            "True\n",
            "False\n"
          ],
          "name": "stdout"
        }
      ]
    },
    {
      "cell_type": "markdown",
      "metadata": {
        "id": "Yv2WzHc8AEdP"
      },
      "source": [
        "## delete duplicate from sorted array\n",
        "* as the list is a sorted array, there is easy solutions if can use O(n) memory. From the start copy items, if consecutive items are duplicate, ignore duplicates\n",
        "* Second way is to iterate through the same array, if find duplication, move all elements from the right to the left which is very expensive as we have to do for every duplicate\n",
        "* The best algorithm would be to minimize the shift. We an create by keeping a pointer to store last elements which is not duplicate and already visited"
      ]
    },
    {
      "cell_type": "code",
      "metadata": {
        "colab": {
          "base_uri": "https://localhost:8080/"
        },
        "id": "mszYKzO9CsYr",
        "outputId": "77d8eec0-2589-4b1a-f446-ff9fc5e1b6ec"
      },
      "source": [
        "def deleteDuplicate(A):\n",
        "  if len(A) == 0:\n",
        "    return 0\n",
        "   \n",
        "  writeIndex=1\n",
        "\n",
        "  for i in range(1, len(A)):\n",
        "    if A[writeIndex-1]!=A[i]:\n",
        "      A[writeIndex] = A[i]\n",
        "      writeIndex +=1\n",
        "  return writeIndex, A[:writeIndex]\n",
        "\n",
        "print(deleteDuplicate([2,3,5,5,7,11,11,11,13]))"
      ],
      "execution_count": null,
      "outputs": [
        {
          "output_type": "stream",
          "text": [
            "(6, [2, 3, 5, 7, 11, 13])\n"
          ],
          "name": "stdout"
        }
      ]
    },
    {
      "cell_type": "markdown",
      "metadata": {
        "id": "FqoHjp-Hyd3I"
      },
      "source": [
        "## Buy and Shell stocks once\n",
        "* Main hints here is that, you have to buy and then shell. So, the minimum buy and max shell to get max profit.\n"
      ]
    },
    {
      "cell_type": "code",
      "metadata": {
        "colab": {
          "base_uri": "https://localhost:8080/"
        },
        "id": "_TViKTfQyzcR",
        "outputId": "fb263eae-f062-491b-8540-ca2c34ae32bc"
      },
      "source": [
        "import random\n",
        "\n",
        "def buy_and_shell_stock_once(prices):\n",
        "  min_seen_so_far = prices[0]\n",
        "  max_profit = 0.0\n",
        "  for i in range(len(prices)):\n",
        "    max_profit = max(max_profit, prices[i]-min_seen_so_far)\n",
        "    min_seen_so_far = min(min_seen_so_far, prices[i])\n",
        "  return max_profit\n",
        "\n",
        "prices = [random.randint(200,1000) for _ in range(10)]\n",
        "print(prices)\n",
        "print(buy_and_shell_stock_once(prices))\n",
        "\n"
      ],
      "execution_count": null,
      "outputs": [
        {
          "output_type": "stream",
          "text": [
            "[548, 991, 881, 741, 993, 756, 228, 819, 852, 243]\n",
            "624\n"
          ],
          "name": "stdout"
        }
      ]
    },
    {
      "cell_type": "markdown",
      "metadata": {
        "id": "mV4scLQEBLyQ"
      },
      "source": [
        "## buy and shell stocks twice\n",
        "* the condition is, have trade limit 2\n",
        "* devide at two sections by moving window and find max\n",
        "* first iteration starts from day 0 to day n, but second one can start from end to start\n",
        "* if we want to make gain, we need to buy at minimum and sale today. So, find min seen so far when we need to buy and sale today\n",
        "* There is a O(1) space complexity implementation https://github.com/coldmanck/EPI-Python-Solution/blob/master/solutions/buy_and_sell_stock_twice.py"
      ]
    },
    {
      "cell_type": "code",
      "metadata": {
        "colab": {
          "base_uri": "https://localhost:8080/"
        },
        "id": "VfWKH0CyCUsS",
        "outputId": "c03847d9-1c98-43a5-9f66-a4ab1728a5cc"
      },
      "source": [
        "import random\n",
        "\n",
        "def buy_and_shell_stock_twice(prices):\n",
        "  min_seen_so_far, max_profit= float('inf'), 0.0\n",
        "  profits_first_sale = [0.0] * len(prices)\n",
        "  for i in range(len(prices)):\n",
        "    profits_first_sale[i] = max(profits_first_sale[i], prices[i]-min_seen_so_far)\n",
        "    min_seen_so_far = min(min_seen_so_far, prices[i])\n",
        "\n",
        "  # in the second pass, we will do the opposite, max seen so far instead of min\n",
        "  max_price_so_far, total_max_profit = float('-inf'),0.0\n",
        "  for i, price in reversed(list(enumerate(prices[1:],1))):\n",
        "    max_price_so_far = max(max_price_so_far, price)\n",
        "    total_max_profit = max(total_max_profit, profits_first_sale[i-1]+max_price_so_far-price)\n",
        "  return total_max_profit\n",
        "\n",
        "prices = [random.randint(10,100) for _ in range(10)]\n",
        "print(prices)\n",
        "print(buy_and_shell_stock_twice(prices))"
      ],
      "execution_count": null,
      "outputs": [
        {
          "output_type": "stream",
          "text": [
            "[73, 39, 62, 64, 38, 42, 10, 13, 68, 47]\n",
            "62\n"
          ],
          "name": "stdout"
        }
      ]
    },
    {
      "cell_type": "code",
      "metadata": {
        "colab": {
          "base_uri": "https://localhost:8080/"
        },
        "id": "9gxf3V5HCoil",
        "outputId": "2ce266a2-5609-4dc9-cd8a-042de9cb31d6"
      },
      "source": [
        "#with enumerate \n",
        "L=[1,2,3,4,5]\n",
        "list(enumerate(L[1:],1))"
      ],
      "execution_count": null,
      "outputs": [
        {
          "output_type": "execute_result",
          "data": {
            "text/plain": [
              "[(1, 2), (2, 3), (3, 4), (4, 5)]"
            ]
          },
          "metadata": {
            "tags": []
          },
          "execution_count": 7
        }
      ]
    },
    {
      "cell_type": "code",
      "metadata": {
        "colab": {
          "base_uri": "https://localhost:8080/"
        },
        "id": "WsLrmo2xDAng",
        "outputId": "1c73aabe-5e55-4104-b907-5b276576342e"
      },
      "source": [
        "#if we dont want to use enumerate\n",
        "for i in range(1, len(L)):\n",
        "  print(L[i])"
      ],
      "execution_count": null,
      "outputs": [
        {
          "output_type": "stream",
          "text": [
            "2\n",
            "3\n",
            "4\n",
            "5\n"
          ],
          "name": "stdout"
        }
      ]
    },
    {
      "cell_type": "markdown",
      "metadata": {
        "id": "q-izexHQFCDW"
      },
      "source": [
        "## Enumerate all prime to n\n",
        "* only primality check will not work\n",
        "* invalidate the multiplication of primes from the list"
      ]
    },
    {
      "cell_type": "code",
      "metadata": {
        "colab": {
          "base_uri": "https://localhost:8080/"
        },
        "id": "lHBClQOmpS7m",
        "outputId": "423627f8-c718-4cff-8f6e-542c7e48d8fe"
      },
      "source": [
        "def find_all_primes(n):\n",
        "  primes_check = [1]*n\n",
        "  primes = []\n",
        "  for i in range(2, n):\n",
        "    if primes_check[i]:\n",
        "      primes.append(i)\n",
        "      for j in range(i, n, i):\n",
        "        primes_check[j] = 0\n",
        "  return primes\n",
        "\n",
        "find_all_primes(50)\n",
        "\n",
        "#check with the run time O(nloglogn)"
      ],
      "execution_count": null,
      "outputs": [
        {
          "output_type": "execute_result",
          "data": {
            "text/plain": [
              "[2, 3, 5, 7, 11, 13, 17, 19, 23, 29, 31, 37, 41, 43, 47]"
            ]
          },
          "metadata": {
            "tags": []
          },
          "execution_count": 17
        }
      ]
    },
    {
      "cell_type": "markdown",
      "metadata": {
        "id": "oOcK1-jofd1v"
      },
      "source": [
        "## Find Anagrams\n",
        "* A short description what anagram is: words with the same length and the same set of characters\n",
        "* For example: abc, cba, bca are `anagrams`"
      ]
    },
    {
      "cell_type": "code",
      "metadata": {
        "colab": {
          "base_uri": "https://localhost:8080/"
        },
        "id": "qLRluTjAfLNu",
        "outputId": "2afa3793-b05d-4d75-b02d-b1313d7f8dd3"
      },
      "source": [
        "import collections\n",
        "from typing import DefaultDict, List\n",
        "\n",
        "def find_anagrams(dictionary: List[str]) -> List[List[str]]:\n",
        "  sorted_string__to_anagrams: DefaultDict[str, List[str]] = collections.defaultdict(list)\n",
        "  for s in dictionary:\n",
        "    sorted_string__to_anagrams[''.join(sorted(s))].append(s)\n",
        "  return [group for group in sorted_string__to_anagrams.values() if len(group) >= 2]\n",
        "\n",
        "find_anagrams([\"debit card\", \"bad credit\", \"the morse code\", \"here come dots\", \"the eyes\", \"they see\", \"THL\"])"
      ],
      "execution_count": null,
      "outputs": [
        {
          "output_type": "execute_result",
          "data": {
            "text/plain": [
              "[['debit card', 'bad credit'],\n",
              " ['the morse code', 'here come dots'],\n",
              " ['the eyes', 'they see']]"
            ]
          },
          "metadata": {
            "tags": []
          },
          "execution_count": 3
        }
      ]
    },
    {
      "cell_type": "markdown",
      "metadata": {
        "id": "W5SvS7S25l4K"
      },
      "source": [
        "Explanation:\n",
        "*"
      ]
    },
    {
      "cell_type": "code",
      "metadata": {
        "colab": {
          "base_uri": "https://localhost:8080/"
        },
        "id": "I1-T5Lv1i4mw",
        "outputId": "9b64270b-845f-4be5-b6be-3a0b5b7905e2"
      },
      "source": [
        "d: DefaultDict[str, List[str]] = collections.defaultdict(list)\n",
        "dd = [\"debit card\", \"bad credit\", \"the morse code\", \"here come dots\", \"the eyes\", \"they see\", \"THL\"]\n",
        "for s in dd:\n",
        "  d[''.join(sorted(s))].append(s)\n",
        "d"
      ],
      "execution_count": null,
      "outputs": [
        {
          "output_type": "execute_result",
          "data": {
            "text/plain": [
              "defaultdict(list,\n",
              "            {'  cdeeehmoorst': ['the morse code', 'here come dots'],\n",
              "             ' abcddeirt': ['debit card', 'bad credit'],\n",
              "             ' eeehsty': ['the eyes', 'they see'],\n",
              "             'HLT': ['THL']})"
            ]
          },
          "metadata": {
            "tags": []
          },
          "execution_count": 14
        }
      ]
    },
    {
      "cell_type": "code",
      "metadata": {
        "colab": {
          "base_uri": "https://localhost:8080/"
        },
        "id": "hKgA13V35dLG",
        "outputId": "0555a9ec-1449-47cc-a33f-0522f0618f3b"
      },
      "source": [
        "d.values()"
      ],
      "execution_count": null,
      "outputs": [
        {
          "output_type": "execute_result",
          "data": {
            "text/plain": [
              "dict_values([['debit card', 'bad credit'], ['the morse code', 'here come dots'], ['the eyes', 'they see'], ['THL']])"
            ]
          },
          "metadata": {
            "tags": []
          },
          "execution_count": 11
        }
      ]
    }
  ]
}