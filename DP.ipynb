{
  "nbformat": 4,
  "nbformat_minor": 0,
  "metadata": {
    "colab": {
      "provenance": [],
      "authorship_tag": "ABX9TyPkmF1/rv9cHsMul7qrHy+2",
      "include_colab_link": true
    },
    "kernelspec": {
      "name": "python3",
      "display_name": "Python 3"
    },
    "language_info": {
      "name": "python"
    }
  },
  "cells": [
    {
      "cell_type": "markdown",
      "metadata": {
        "id": "view-in-github",
        "colab_type": "text"
      },
      "source": [
        "<a href=\"https://colab.research.google.com/github/mahbubcsedu/interviewcoding/blob/main/DP.ipynb\" target=\"_parent\"><img src=\"https://colab.research.google.com/assets/colab-badge.svg\" alt=\"Open In Colab\"/></a>"
      ]
    },
    {
      "cell_type": "markdown",
      "source": [
        "## <span style=\"color:blue\"> Count the number of score combination </span>\n",
        "If there are many ways to score, what would be the different combination to reach to a given score.\n",
        "Lets say, 2, 3 and 7 are the scoring option, if the final score is 12, what would be the number of ways to score 12?"
      ],
      "metadata": {
        "id": "TihMrKgvhDwx"
      }
    },
    {
      "cell_type": "code",
      "execution_count": 3,
      "metadata": {
        "colab": {
          "base_uri": "https://localhost:8080/"
        },
        "id": "1NHF9UyuRAMk",
        "outputId": "fb692c49-756e-4afa-dc27-1bda2cc8959b"
      },
      "outputs": [
        {
          "output_type": "execute_result",
          "data": {
            "text/plain": [
              "189"
            ]
          },
          "metadata": {},
          "execution_count": 3
        }
      ],
      "source": [
        "from typing import List\n",
        "\n",
        "def num_combination_to_score(final_score: int, individual_play: List[int]):\n",
        "  # initialize 2d array where the first column starts with 1. Scoring 0 is possible only one way by not scoring\n",
        "  dp = [[1] + [0] * final_score\n",
        "        for _ in individual_play]\n",
        "\n",
        "\n",
        "  for i in range(len(individual_play)):\n",
        "    for j in range(1, final_score+1):\n",
        "      without_this = dp[i-1][j] if i>=1 else 0\n",
        "      with_this= (dp[i][j-individual_play[i]] if j>=individual_play[i] else 0)\n",
        "      combination = with_this + without_this\n",
        "      dp[i][j]=combination\n",
        "  return dp[len(individual_play)-1][final_score]\n",
        "\n",
        "  print(dp)\n",
        "\n",
        "num_combination_to_score(120, [2,3,7])"
      ]
    },
    {
      "cell_type": "markdown",
      "source": [
        "### lavenstian distance calculation\n",
        "source word and destination word, what is the minimum edit required to reach from source to destination\n",
        "- operation is insert, delete, update\n",
        "- lets represent word A or string A = A[0, n-1], and B=[0, m-1]\n",
        "- we can recursively convert \n",
        "  * transform A[0, n-2] to B[0, m-2] and replacing A's character by B's last character\n",
        "  * transform A[0, n-2] to B[0,m-1] and then delete A's character\n",
        "  * transform A[0, n-1] to B[0, m-2] and then insert B's last character at the end\n",
        "  * operations are applied on A\n",
        "* we can call this a equation like expression as \n",
        "$ T(A[0, n-1], B[0,m-1]) = 1 + min [ T(A[0,n-1], B[0,m-1], T(A[0,n-2], B[0,m-1],T(A[0,n-1], B[0,m-2]]$ "
      ],
      "metadata": {
        "id": "dAy9WsxOzUjG"
      }
    },
    {
      "cell_type": "code",
      "source": [
        "def minimum_edit(source: str, destination: str) -> int :\n",
        "  # print(source, destination)\n",
        "\n",
        "  def distance_between_prefixes(A_idx, B_idx):\n",
        "\n",
        "    # print(A_idx)\n",
        "    if A_idx <0:\n",
        "      return B_idx+1 # need to add all B's \n",
        "    elif B_idx < 0:\n",
        "      return A_idx+1 # need to delete all A's left over part\n",
        "     \n",
        "    \n",
        "    if dp[A_idx][B_idx] == -1:\n",
        "      if source[A_idx] == destination[B_idx]:\n",
        "        # we have to update the dp by proceeding both 1 step\n",
        "        dp[A_idx][B_idx] = distance_between_prefixes(A_idx-1, B_idx-1) \n",
        "      else:\n",
        "        subs = distance_between_prefixes(A_idx-1, B_idx-1)\n",
        "        delete = distance_between_prefixes(A_idx-1, B_idx)\n",
        "        add =  distance_between_prefixes(A_idx, B_idx-1)\n",
        "        \n",
        "        dp[A_idx][B_idx] = (1 + min(subs, add, delete))\n",
        "    # print(dp)\n",
        "    return dp[A_idx][B_idx]\n",
        "\n",
        "  dp = [[-1]*len(destination) for _ in range(len(source))]\n",
        "  return distance_between_prefixes(len(source)-1, len(destination)-1)\n",
        "\n",
        "# res = minimum_edit(\"Carthorse\", \"Orchestra\")\n",
        "res = minimum_edit(\"abc\", \"cda\")\n",
        "print(res)"
      ],
      "metadata": {
        "colab": {
          "base_uri": "https://localhost:8080/"
        },
        "id": "HXFjXGl7jX-a",
        "outputId": "c4839737-a36b-497d-ea1f-c1e736cc99b2"
      },
      "execution_count": 24,
      "outputs": [
        {
          "output_type": "stream",
          "name": "stdout",
          "text": [
            "3\n"
          ]
        }
      ]
    }
  ]
}