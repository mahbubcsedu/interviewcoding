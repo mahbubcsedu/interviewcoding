{
  "nbformat": 4,
  "nbformat_minor": 0,
  "metadata": {
    "colab": {
      "provenance": [],
      "authorship_tag": "ABX9TyOIQvtxorC81nIjlh4aMuop",
      "include_colab_link": true
    },
    "kernelspec": {
      "name": "python3",
      "display_name": "Python 3"
    },
    "language_info": {
      "name": "python"
    }
  },
  "cells": [
    {
      "cell_type": "markdown",
      "metadata": {
        "id": "view-in-github",
        "colab_type": "text"
      },
      "source": [
        "<a href=\"https://colab.research.google.com/github/mahbubcsedu/interviewcoding/blob/main/DP.ipynb\" target=\"_parent\"><img src=\"https://colab.research.google.com/assets/colab-badge.svg\" alt=\"Open In Colab\"/></a>"
      ]
    },
    {
      "cell_type": "markdown",
      "source": [
        "## <span style=\"color:blue\"> Count the number of score combination </span>\n",
        "If there are many ways to score, what would be the different combination to reach to a given score.\n",
        "Lets say, 2, 3 and 7 are the scoring option, if the final score is 12, what would be the number of ways to score 12?"
      ],
      "metadata": {
        "id": "TihMrKgvhDwx"
      }
    },
    {
      "cell_type": "code",
      "execution_count": 3,
      "metadata": {
        "colab": {
          "base_uri": "https://localhost:8080/"
        },
        "id": "1NHF9UyuRAMk",
        "outputId": "fb692c49-756e-4afa-dc27-1bda2cc8959b"
      },
      "outputs": [
        {
          "output_type": "execute_result",
          "data": {
            "text/plain": [
              "189"
            ]
          },
          "metadata": {},
          "execution_count": 3
        }
      ],
      "source": [
        "from typing import List\n",
        "\n",
        "def num_combination_to_score(final_score: int, individual_play: List[int]):\n",
        "  # initialize 2d array where the first column starts with 1. Scoring 0 is possible only one way by not scoring\n",
        "  dp = [[1] + [0] * final_score\n",
        "        for _ in individual_play]\n",
        "\n",
        "\n",
        "  for i in range(len(individual_play)):\n",
        "    for j in range(1, final_score+1):\n",
        "      without_this = dp[i-1][j] if i>=1 else 0\n",
        "      with_this= (dp[i][j-individual_play[i]] if j>=individual_play[i] else 0)\n",
        "      combination = with_this + without_this\n",
        "      dp[i][j]=combination\n",
        "  return dp[len(individual_play)-1][final_score]\n",
        "\n",
        "  print(dp)\n",
        "\n",
        "num_combination_to_score(120, [2,3,7])"
      ]
    },
    {
      "cell_type": "markdown",
      "source": [
        "### <font color=green> lavenstian distance calculation </font>\n",
        "source word and destination word, what is the minimum edit required to reach from source to destination\n",
        "- operation is insert, delete, update\n",
        "- lets represent word A or string A = A[0, n-1], and B=[0, m-1]\n",
        "- we can recursively convert \n",
        "  * transform A[0, n-2] to B[0, m-2] and replacing A's character by B's last character\n",
        "  * transform A[0, n-2] to B[0,m-1] and then delete A's character\n",
        "  * transform A[0, n-1] to B[0, m-2] and then insert B's last character at the end\n",
        "  * operations are applied on A\n",
        "* we can call this a equation like expression as \n",
        "$ T(A[0, n-1], B[0,m-1]) = 1 + min [ T(A[0,n-1], B[0,m-1], T(A[0,n-2], B[0,m-1],T(A[0,n-1], B[0,m-2]]$ "
      ],
      "metadata": {
        "id": "dAy9WsxOzUjG"
      }
    },
    {
      "cell_type": "code",
      "source": [
        "def minimum_edit(source: str, destination: str) -> int :\n",
        "  # print(source, destination)\n",
        "\n",
        "  def distance_between_prefixes(A_idx, B_idx):\n",
        "\n",
        "    # print(A_idx)\n",
        "    if A_idx <0:\n",
        "      return B_idx+1 # need to add all B's \n",
        "    elif B_idx < 0:\n",
        "      return A_idx+1 # need to delete all A's left over part\n",
        "     \n",
        "    \n",
        "    if dp[A_idx][B_idx] == -1:\n",
        "      if source[A_idx] == destination[B_idx]:\n",
        "        # we have to update the dp by proceeding both 1 step\n",
        "        dp[A_idx][B_idx] = distance_between_prefixes(A_idx-1, B_idx-1) \n",
        "      else:\n",
        "        subs = distance_between_prefixes(A_idx-1, B_idx-1)\n",
        "        delete = distance_between_prefixes(A_idx-1, B_idx)\n",
        "        add =  distance_between_prefixes(A_idx, B_idx-1)\n",
        "        \n",
        "        dp[A_idx][B_idx] = (1 + min(subs, add, delete))\n",
        "    # print(dp)\n",
        "    return dp[A_idx][B_idx]\n",
        "\n",
        "  dp = [[-1]*len(destination) for _ in range(len(source))]\n",
        "  return distance_between_prefixes(len(source)-1, len(destination)-1)\n",
        "\n",
        "# res = minimum_edit(\"Carthorse\", \"Orchestra\")\n",
        "res = minimum_edit(\"abc\", \"cda\")\n",
        "print(res)"
      ],
      "metadata": {
        "colab": {
          "base_uri": "https://localhost:8080/"
        },
        "id": "HXFjXGl7jX-a",
        "outputId": "c4839737-a36b-497d-ea1f-c1e736cc99b2"
      },
      "execution_count": 24,
      "outputs": [
        {
          "output_type": "stream",
          "name": "stdout",
          "text": [
            "3\n"
          ]
        }
      ]
    },
    {
      "cell_type": "markdown",
      "source": [
        "## <font color=\"green\">Number of ways to move in a grid<font>\n",
        "We can think of in reverse order. If we consider [1,1] then we can reach here from [0,1] and [1,0]. If we know the number of [0,1] and [1,0] we can calculate [1,1]\n",
        "* Have to try later  \n",
        "  - \"Solve the same problem using O(min(n,m)) space.\"\n"
      ],
      "metadata": {
        "id": "_yL1dIhxi58T"
      }
    },
    {
      "cell_type": "code",
      "source": [
        "def num_of_ways(n, m):\n",
        "  \n",
        "  def helper(x,y):\n",
        "    if x==y==0:\n",
        "      return 1\n",
        "    if num_ways[x][y] == 0:\n",
        "      top_ways = helper(x-1, y) if x > 0 else 0\n",
        "      left_ways = helper(x, y-1) if y>0 else 0\n",
        "      num_ways[x][y] = top_ways + left_ways\n",
        "    return num_ways[x][y]\n",
        "\n",
        "  num_ways = [[0] * n for _ in range(m)]\n",
        "  # print(num_ways)\n",
        "  helper(n-1,m-1)\n",
        "  print('\\n'.join('     '.join(str(x) for x in row) for row in num_ways))\n",
        "  return num_ways[n-1][m-1]\n",
        "r = num_of_ways(5,5)\n",
        "print(r)\n"
      ],
      "metadata": {
        "colab": {
          "base_uri": "https://localhost:8080/"
        },
        "id": "fSR2PDgUjXfi",
        "outputId": "8118fda4-f1dc-41ba-a7a7-e74b4f399aba"
      },
      "execution_count": 40,
      "outputs": [
        {
          "output_type": "stream",
          "name": "stdout",
          "text": [
            "0     1     1     1     1\n",
            "1     2     3     4     5\n",
            "1     3     6     10     15\n",
            "1     4     10     20     35\n",
            "1     5     15     35     70\n",
            "70\n"
          ]
        }
      ]
    },
    {
      "cell_type": "markdown",
      "source": [
        "## Bionomial Coefficient\n",
        "$(n,k)= (n-1, k) + (n-1, k-1)$\n",
        "* we can write dp in the same formula starting n, k\n",
        "\n",
        "* it is important to know how we canculate and store. what would be the dp size. we are storing 1 based coefficient. So, we have to allocate space for 1 more than the size\n",
        "* [[0]*(4) for _ in range(3)] will generate \\\n",
        "0  0  0  0 \\\n",
        "0  0  0  0 \\\n",
        "0  0  0  0 \\\n",
        "* for (n,k) we need [[0]*(k+1) for _ in range(n+1)]"
      ],
      "metadata": {
        "id": "YWMinYJFtjY0"
      }
    },
    {
      "cell_type": "code",
      "source": [
        "def bionomial_coeff(n,k):\n",
        "  def helper(x,y):\n",
        "    if y in (x, 0):\n",
        "      return 1\n",
        "    if y_out_of_x[x][y] == 0:\n",
        "      without_y = helper(x-1, y-1)\n",
        "      with_y = helper(x-1, y)\n",
        "      y_out_of_x[x][y] = without_y + with_y\n",
        "    return y_out_of_x[x][y]\n",
        "  \n",
        "  y_out_of_x=[[0]*(k+1) for _ in range(n+1)]\n",
        "  print('\\n'.join('  '.join(str(y) for y in row) for row in y_out_of_x))\n",
        "  return helper(n,k)\n",
        "  # print('\\n'.join('  '.join(str(y) for y in row) for row in y_out_of_x))\n",
        "print(bionomial_coeff(3,2))\n"
      ],
      "metadata": {
        "colab": {
          "base_uri": "https://localhost:8080/"
        },
        "id": "LbcKPheVuG86",
        "outputId": "7c7e8c7a-7fe2-4577-8289-e9f5d6f2d065"
      },
      "execution_count": 50,
      "outputs": [
        {
          "output_type": "stream",
          "name": "stdout",
          "text": [
            "0  0  0\n",
            "0  0  0\n",
            "0  0  0\n",
            "0  0  0\n",
            "3\n"
          ]
        }
      ]
    },
    {
      "cell_type": "markdown",
      "source": [
        "## Search for a sequence of character or number in 2D arrays\n",
        "* Search can be starting from any point\n",
        "* If we are in a point and processed prefix x which 0 to l and remaining suffix y, can we match rest of the suffix from that point?\n",
        "* we will do that from each point\n",
        "* this is kind of memorization and subproblem can be used to solve the actual problem. so its a dp but more like dfs"
      ],
      "metadata": {
        "id": "aFotIk8MwyK9"
      }
    },
    {
      "cell_type": "code",
      "source": [
        "def is_pattern_contained_in_the_grid(grid, s):\n",
        "  def is_pattern_suffix_contained_starting_at_xy(x,y,offset):\n",
        "    if offset == len(s):\n",
        "      return True\n",
        "\n",
        "    dir = ((-1,0),(1,0),(0,1),(0,-1))\n",
        "    # check if current char or number is in the current grid location\n",
        "    if 0<=x<len(grid) and 0 <= y < len(grid[x]) and grid[x][y] == s[offset] and (x,y,offset) not in previous_attempt:\n",
        "      if any(is_pattern_suffix_contained_starting_at_xy(x+a, y+b, offset+1) for a, b in dir):\n",
        "        return True \n",
        "    previous_attempt.add((x,y,offset))\n",
        "    return False\n",
        "\n",
        "  previous_attempt = set()\n",
        "\n",
        "  # check for every position as starting point\n",
        "  return any(is_pattern_suffix_contained_starting_at_xy(i,j,0)\n",
        "   for i in range(len(grid)) for j in range(len(grid[i]))\n",
        "   )\n",
        "\n",
        "grid = [[1,2,3],[3,4,5],[5,6,7]]\n",
        "# print(is_pattern_contained_in_the_grid(grid, [1,3,4,6]))\n",
        "print(is_pattern_contained_in_the_grid(grid, [1,2,3,4]))"
      ],
      "metadata": {
        "colab": {
          "base_uri": "https://localhost:8080/"
        },
        "id": "V_dKJ0cf_8fr",
        "outputId": "7d8515a6-983b-45bd-98a7-07ac79b8e449"
      },
      "execution_count": 59,
      "outputs": [
        {
          "output_type": "stream",
          "name": "stdout",
          "text": [
            "False\n"
          ]
        }
      ]
    },
    {
      "cell_type": "markdown",
      "source": [
        "## Knapsack problem\n"
      ],
      "metadata": {
        "id": "Y0CQ6W-oIZFH"
      }
    },
    {
      "cell_type": "code",
      "source": [
        "from typing import collections\n",
        "Item = collections.namedtuple(\"Item\",('weight', 'value'))\n",
        "\n",
        "def optimum_item_to_capacity(items, capacity):\n",
        "\n",
        "  def helper(k, available_capacity):\n",
        "    if k < 0:\n",
        "      return 0\n",
        "    if V[k][available_capacity] == -1:\n",
        "      without_cur_item = helper(k-1, available_capacity)\n",
        "      with_cur_item = (0 if available_capacity < items[k].weight else items[k].value + helper(k-1, available_capacity-items[k].weight))\n",
        "      V[k][available_capacity] = max(without_cur_item, with_cur_item)\n",
        "    return V[k][available_capacity]\n",
        "  \n",
        "  # lenght of first row is the number of column, we are creating row for each item and then for each item, the capacity\n",
        "  V= [[-1] * (capacity+1) for _ in items]  # if\n",
        "  return helper(len(items)-1, capacity)\n",
        "\n",
        "\n",
        "items = [\n",
        "        Item(w, v)\n",
        "        for w, v in ((20, 65), (8, 35), (60, 245), (55, 195), (40, 65), (\n",
        "            70, 150), (85, 275), (25, 155), (30, 120), (65, 320), (75, 75), (\n",
        "                10, 40), (95, 200), (50, 100), (40, 220), (10, 99))\n",
        "    ]\n",
        "print(optimum_item_to_capacity(items, 130))\n",
        "   "
      ],
      "metadata": {
        "colab": {
          "base_uri": "https://localhost:8080/"
        },
        "id": "3RgiesuhIYeq",
        "outputId": "90a9f0e9-e0d4-448e-e718-08b3aeb57acf"
      },
      "execution_count": 63,
      "outputs": [
        {
          "output_type": "stream",
          "name": "stdout",
          "text": [
            "695\n"
          ]
        }
      ]
    },
    {
      "cell_type": "markdown",
      "source": [
        "## Bed bath and beyond problem or string constitutes of string from a dictionary\n",
        "a name or stirng like \"bedbatchandbeyond.com\" constitutes of \"bed\", \"bath\", \"and\" \"beyond\", \"hand\"\n",
        "* build and check each prefix of the name or string, whether it is concatenation of dictionary words\n",
        "* ABABC is a good example why we need dp or memorization. if we recursively check each words, we have to  check \"ABC\" twice, one for A, B and another for AB\n",
        "\n",
        "Algorithm:\n",
        "* its basically check all prefixes. if a prefix is part of a dictionary, we add the length at that location.\n",
        "* if the prefix is not part of the dictionary, check for all suffixes until that point i. If any of the suffix is part of dictionary, update the length i-j at i location"
      ],
      "metadata": {
        "id": "F0FpE5SSFa5s"
      }
    },
    {
      "cell_type": "code",
      "source": [
        "def decompose_into_dictionary_words(domain, dictionary):\n",
        "  # when algorithm finishes the last_length[i] ~= -1 indicates domain[:i+1] has a valid decomposition \n",
        "  # and the length of the last string in the decomposition is the last_length[i]\n",
        "  # 0 based index, if domain is \"abcd\" domain[:1] is, domain[:2] = ab\n",
        "\n",
        "\n",
        "  last_length = [-1]*len(domain)\n",
        "\n",
        "  for i in range(len(domain)):\n",
        "    # print(i, domain[:i+1])  \n",
        "    if domain[:i+1] in dictionary:\n",
        "      last_length[i]=i+1\n",
        "\n",
        "    if last_length[i] == -1:\n",
        "      for j in range(i):\n",
        "        print(\"suffix\", domain[j+1:i+1])\n",
        "        # check this domain[j+1:i+1], its check next postion of j to ith position\n",
        "        if last_length[j] != -1 and domain[j+1:i+1] in dictionary:\n",
        "          last_length[i] = i-j\n",
        "          break\n",
        "\n",
        "  decompositions = []\n",
        "  print(last_length)\n",
        "  if last_length[-1] != -1:\n",
        "    idx = len(domain)-1\n",
        "\n",
        "    while idx >= 0:\n",
        "      decompositions.append(domain[idx+1 - last_length[idx]:idx+1])\n",
        "      idx -= last_length[idx]\n",
        "    decompositions[::-1]\n",
        "\n",
        "  return decompositions\n",
        "\n",
        "dictionary = {\"a\",\"bed\", \"bath\", \"and\",\"beyond\",\"hand\"}\n",
        "res = decompose_into_dictionary_words(\"abedbathandbeyond\", dictionary)\n",
        "print(res)\n",
        "      "
      ],
      "metadata": {
        "colab": {
          "base_uri": "https://localhost:8080/"
        },
        "id": "pbqU8BndG-z9",
        "outputId": "cf8a48d4-8bae-4ca3-9991-c52bff45bd7e"
      },
      "execution_count": 7,
      "outputs": [
        {
          "output_type": "stream",
          "name": "stdout",
          "text": [
            "suffix b\n",
            "suffix be\n",
            "suffix e\n",
            "suffix bed\n",
            "suffix bedb\n",
            "suffix edb\n",
            "suffix db\n",
            "suffix b\n",
            "suffix bedba\n",
            "suffix edba\n",
            "suffix dba\n",
            "suffix ba\n",
            "suffix a\n",
            "suffix bedbat\n",
            "suffix edbat\n",
            "suffix dbat\n",
            "suffix bat\n",
            "suffix at\n",
            "suffix t\n",
            "suffix bedbath\n",
            "suffix edbath\n",
            "suffix dbath\n",
            "suffix bath\n",
            "suffix bedbatha\n",
            "suffix edbatha\n",
            "suffix dbatha\n",
            "suffix batha\n",
            "suffix atha\n",
            "suffix tha\n",
            "suffix ha\n",
            "suffix a\n",
            "suffix bedbathan\n",
            "suffix edbathan\n",
            "suffix dbathan\n",
            "suffix bathan\n",
            "suffix athan\n",
            "suffix than\n",
            "suffix han\n",
            "suffix an\n",
            "suffix n\n",
            "suffix bedbathand\n",
            "suffix edbathand\n",
            "suffix dbathand\n",
            "suffix bathand\n",
            "suffix athand\n",
            "suffix thand\n",
            "suffix hand\n",
            "suffix and\n",
            "suffix bedbathandb\n",
            "suffix edbathandb\n",
            "suffix dbathandb\n",
            "suffix bathandb\n",
            "suffix athandb\n",
            "suffix thandb\n",
            "suffix handb\n",
            "suffix andb\n",
            "suffix ndb\n",
            "suffix db\n",
            "suffix b\n",
            "suffix bedbathandbe\n",
            "suffix edbathandbe\n",
            "suffix dbathandbe\n",
            "suffix bathandbe\n",
            "suffix athandbe\n",
            "suffix thandbe\n",
            "suffix handbe\n",
            "suffix andbe\n",
            "suffix ndbe\n",
            "suffix dbe\n",
            "suffix be\n",
            "suffix e\n",
            "suffix bedbathandbey\n",
            "suffix edbathandbey\n",
            "suffix dbathandbey\n",
            "suffix bathandbey\n",
            "suffix athandbey\n",
            "suffix thandbey\n",
            "suffix handbey\n",
            "suffix andbey\n",
            "suffix ndbey\n",
            "suffix dbey\n",
            "suffix bey\n",
            "suffix ey\n",
            "suffix y\n",
            "suffix bedbathandbeyo\n",
            "suffix edbathandbeyo\n",
            "suffix dbathandbeyo\n",
            "suffix bathandbeyo\n",
            "suffix athandbeyo\n",
            "suffix thandbeyo\n",
            "suffix handbeyo\n",
            "suffix andbeyo\n",
            "suffix ndbeyo\n",
            "suffix dbeyo\n",
            "suffix beyo\n",
            "suffix eyo\n",
            "suffix yo\n",
            "suffix o\n",
            "suffix bedbathandbeyon\n",
            "suffix edbathandbeyon\n",
            "suffix dbathandbeyon\n",
            "suffix bathandbeyon\n",
            "suffix athandbeyon\n",
            "suffix thandbeyon\n",
            "suffix handbeyon\n",
            "suffix andbeyon\n",
            "suffix ndbeyon\n",
            "suffix dbeyon\n",
            "suffix beyon\n",
            "suffix eyon\n",
            "suffix yon\n",
            "suffix on\n",
            "suffix n\n",
            "suffix bedbathandbeyond\n",
            "suffix edbathandbeyond\n",
            "suffix dbathandbeyond\n",
            "suffix bathandbeyond\n",
            "suffix athandbeyond\n",
            "suffix thandbeyond\n",
            "suffix handbeyond\n",
            "suffix andbeyond\n",
            "suffix ndbeyond\n",
            "suffix dbeyond\n",
            "suffix beyond\n",
            "[1, -1, -1, 3, -1, -1, -1, 4, 1, -1, 3, -1, -1, -1, -1, -1, 6]\n",
            "['beyond', 'and', 'bath', 'bed', 'a']\n"
          ]
        }
      ]
    },
    {
      "cell_type": "code",
      "source": [
        "url = \"bedbathandbeyond\"\n",
        "for i in range(len(url)):\n",
        "  print(url[i+1:])"
      ],
      "metadata": {
        "colab": {
          "base_uri": "https://localhost:8080/"
        },
        "id": "djf9R4VaXcWQ",
        "outputId": "8740112c-fd1b-4e13-ff04-219cc941fa09"
      },
      "execution_count": 9,
      "outputs": [
        {
          "output_type": "stream",
          "name": "stdout",
          "text": [
            "edbathandbeyond\n",
            "dbathandbeyond\n",
            "bathandbeyond\n",
            "athandbeyond\n",
            "thandbeyond\n",
            "handbeyond\n",
            "andbeyond\n",
            "ndbeyond\n",
            "dbeyond\n",
            "beyond\n",
            "eyond\n",
            "yond\n",
            "ond\n",
            "nd\n",
            "d\n",
            "\n"
          ]
        }
      ]
    },
    {
      "cell_type": "markdown",
      "source": [
        "## Find the minimum weight path in a triagle\n"
      ],
      "metadata": {
        "id": "OUU0BDQJYHC9"
      }
    },
    {
      "cell_type": "code",
      "source": [
        "def min_path_weight(triangle):\n",
        "  min_weight_to_cur_row = [0]\n",
        "  \n",
        "  for row in triangle:\n",
        "    print(row)\n",
        "    min_weight_to_cur_row = [\n",
        "        row[col] + \n",
        "        min(min_weight_to_cur_row[max(col-1,0)], min_weight_to_cur_row[min(col, len(min_weight_to_cur_row)-1)])\n",
        "        for col in range(len(row))\n",
        "    ]\n",
        "  return min(min_weight_to_cur_row)\n",
        "A=[[2], [4,4],[8,5,6],[4,2,6,2],[1,5,2,3,4]]\n",
        "\n",
        "# this formula is very hard to come within few mintues of interview and need to remember, better find a way that logically comes quickly to the mind\n",
        "print(min_path_weight(A))"
      ],
      "metadata": {
        "colab": {
          "base_uri": "https://localhost:8080/"
        },
        "id": "4nQ_z0sKYFUu",
        "outputId": "10ba0641-cc0a-466b-c8b1-19657dc50fe1"
      },
      "execution_count": 12,
      "outputs": [
        {
          "output_type": "stream",
          "name": "stdout",
          "text": [
            "[2]\n",
            "[4, 4]\n",
            "[8, 5, 6]\n",
            "[4, 2, 6, 2]\n",
            "[1, 5, 2, 3, 4]\n",
            "15\n"
          ]
        }
      ]
    },
    {
      "cell_type": "code",
      "source": [
        "def min_path_weight(triangle):\n",
        "  if len(triangle) == 0:\n",
        "    return 0\n",
        "  prev_row = triangle[0]\n",
        "\n",
        "  for i in range(1, len(triangle)):\n",
        "    cur_row = triangle[i]\n",
        "    cur_row[0] += prev_row[0]\n",
        "\n",
        "    for j in range(1, len(cur_row)-1):\n",
        "      cur_row[j] = cur_row[j] + min(prev_row[j-1], prev_row[j])\n",
        "    \n",
        "    cur_row[len(cur_row)-1] += prev_row[len(prev_row)-1]\n",
        "    prev_row = cur_row  \n",
        "    \n",
        "  return min(prev_row)\n",
        "\n",
        "\n",
        "A=[[2], [4,4],[8,5,6],[4,2,6,2],[1,5,2,3,4]]\n",
        "\n",
        "# this formula is very hard to come within few mintues of interview and need to remember, better find a way that logically comes quickly to the mind\n",
        "print(min_path_weight(A))"
      ],
      "metadata": {
        "colab": {
          "base_uri": "https://localhost:8080/"
        },
        "id": "fZ0RVog1fkTh",
        "outputId": "284d5909-ac33-4bc1-c6e5-bc069aacd035"
      },
      "execution_count": 14,
      "outputs": [
        {
          "output_type": "stream",
          "name": "stdout",
          "text": [
            "15\n"
          ]
        }
      ]
    },
    {
      "cell_type": "markdown",
      "source": [
        "## Coin pick up game\n",
        "* coined are stored in a line with C[i] contains value of each coin\n",
        "* player 1 and player 2 both play optimal to gain more values\n",
        "* So, if we define a revenue function R(a,b) which is optimal value for the current player from coin [a, b] incluse\n",
        "* as second player play optimally, we need to choose min value of second player optimum selection chance\n",
        "* R(a,b) = max { {C[a] + min{ R(a+2, b), R(a+1, b-1)), (C[b] + min{R(a+1,b-1), R(a, b-2)}}"
      ],
      "metadata": {
        "id": "l9YsjxM2uoDZ"
      }
    },
    {
      "cell_type": "code",
      "source": [
        "def max_revenue(coins):\n",
        "\n",
        "  def compute_max_rev_for_range(a,b):\n",
        "    if a > b:\n",
        "      return 0\n",
        "    if max_revenue_for_range[a][b] ==0:\n",
        "      max_revenue_a = coins[a] + min(compute_max_rev_for_range(a+2, b), compute_max_rev_for_range(a+1, b-1))\n",
        "      max_revenue_b = coins[b] + min(compute_max_rev_for_range(a+1,b-1), compute_max_rev_for_range(a,b-2))\n",
        "\n",
        "      max_revenue_for_range[a][b] = max(max_revenue_a, max_revenue_b)\n",
        "    \n",
        "    \n",
        "    return max_revenue_for_range[a][b]\n",
        "  \n",
        "  \n",
        "  max_revenue_for_range=[[0]*len(coins) for _ in range(len(coins))]\n",
        "  return compute_max_rev_for_range(0, len(coins)-1)  \n",
        "\n",
        "res = max_revenue([5,25,4,1])    \n",
        "print(res)\n",
        "    "
      ],
      "metadata": {
        "colab": {
          "base_uri": "https://localhost:8080/"
        },
        "id": "ePSUsF4Dfkcn",
        "outputId": "4f21420c-a006-440d-f2be-1f96422527bd"
      },
      "execution_count": 17,
      "outputs": [
        {
          "output_type": "stream",
          "name": "stdout",
          "text": [
            "26\n"
          ]
        }
      ]
    },
    {
      "cell_type": "code",
      "source": [
        "def minimum_messiness(words, line_length):\n",
        "  num_remaining_blanks = line_length- len(words[0])\n",
        "  # we will keep track of minimum messiness in a array, where m[i] is the minimum messiness when placing words[0:i+1]\n",
        "  # so adding 0th word m[0:1], messiness is stored to m[0]\n",
        "  min_messiness = ([num_remaining_blanks**2] + [float('inf')] * (len(words)-1)) # messiness to first entry and then infinite for all other \n",
        "  \n",
        "  # here we will calculate messiness after adding each words. \n",
        "  # if we add a new world to the current line, and can get the current line messiness and can get first j-1 words messiness from the memory\n",
        "  # after adding each words from i to 0, we check the best min messiness\n",
        "  # when we finished adding last words, we will be able to get the min messiness\n",
        "  for i in range(1, len(words)):\n",
        "    num_remaining_blanks = line_length - len(words[i])\n",
        "    min_messiness[i] = min_messiness[i-1] + num_remaining_blanks**2\n",
        "    print(\"first loop\", num_remaining_blanks, words[i])\n",
        "\n",
        "    for j in reversed(range(i)): #for each i, continue adding words i-1, i-2, i-3 ...0 until it can affect the messiness of the current line\n",
        "      num_remaining_blanks -= len(words[j])+1 \n",
        "      print(words[j], num_remaining_blanks)\n",
        "      if num_remaining_blanks < 0:\n",
        "        break\n",
        "      first_j_messiness = 0 if j-1 <0 else min_messiness[j-1] # we are adding jth words, so, we can get first jith messiness from the array\n",
        "      cur_line_messiness = num_remaining_blanks**2\n",
        "      min_messiness[i] = min(min_messiness[i], first_j_messiness + cur_line_messiness) # if adding current words minimize messiness, update it\n",
        "\n",
        "  print(min_messiness)\n",
        "  return min_messiness[-1]\n",
        "\n",
        "res = minimum_messiness(('aaa', 'bbb', 'c', 'd', 'ee', 'ff', 'gggggg'),11)\n",
        "print(res)"
      ],
      "metadata": {
        "colab": {
          "base_uri": "https://localhost:8080/"
        },
        "id": "stgRgMVXUIgX",
        "outputId": "6fd6fb6f-1bbb-4f29-f5a0-5f1cc0a8f9a6"
      },
      "execution_count": 5,
      "outputs": [
        {
          "output_type": "stream",
          "name": "stdout",
          "text": [
            "first loop 8 bbb\n",
            "aaa 4\n",
            "first loop 10 c\n",
            "bbb 6\n",
            "aaa 2\n",
            "first loop 10 d\n",
            "c 8\n",
            "bbb 4\n",
            "aaa 0\n",
            "first loop 9 ee\n",
            "d 7\n",
            "c 5\n",
            "bbb 1\n",
            "aaa -3\n",
            "first loop 9 ff\n",
            "ee 6\n",
            "d 4\n",
            "c 2\n",
            "bbb -2\n",
            "first loop 5 gggggg\n",
            "ff 2\n",
            "ee -1\n",
            "[64, 16, 4, 0, 41, 20, 45]\n",
            "45\n"
          ]
        }
      ]
    },
    {
      "cell_type": "code",
      "source": [
        "def longest_increasing_subseq(A):\n",
        "  max_length=[1]*len(A)\n",
        "\n",
        "  for i in range(1, len(A)):\n",
        "    max_length[i] = max(1 + max(\n",
        "        [max_length[j] for j in range(i) \n",
        "        if A[i] >=A[j]]), max_length[i])\n",
        "  return max_length\n",
        "\n",
        "\n",
        "def longest_increasing_subseq2(A):\n",
        "  max_length=[1]*len(A)\n",
        "\n",
        "  for i in range(1, len(A)):\n",
        "    for j in range(i):\n",
        "      if A[i] >=A[j]:\n",
        "        max_length[i] = max(max_length[i], max_length[j]+1)\n",
        "  return max_length\n",
        "\n",
        "print(longest_increasing_subseq2([0,8,4,12,2,10,6,14,1,9]))"
      ],
      "metadata": {
        "colab": {
          "base_uri": "https://localhost:8080/"
        },
        "id": "eFB2ulJ6n1N5",
        "outputId": "8f8bfb4e-032a-4fce-fd68-49fc03416119"
      },
      "execution_count": 7,
      "outputs": [
        {
          "output_type": "stream",
          "name": "stdout",
          "text": [
            "[1, 2, 2, 3, 2, 3, 3, 4, 2, 4]\n"
          ]
        }
      ]
    },
    {
      "cell_type": "code",
      "source": [
        "def num_ways_to_top(top, max_steps):\n",
        "  def compute_ways_to_h(h):\n",
        "    if h <=1:\n",
        "      return 1\n",
        "    \n",
        "    if num_of_ways_to_h[h] == 0:\n",
        "      num_of_ways_to_h[h] = sum(\n",
        "          compute_ways_to_h(h-i) \n",
        "          for i in range(1, min(max_steps, h)+1)\n",
        "      )\n",
        "    return num_of_ways_to_h[h]\n",
        "  num_of_ways_to_h = [0] * (top+1)\n",
        "  return compute_ways_to_h(top)\n",
        "print(num_ways_to_top(4,2))"
      ],
      "metadata": {
        "colab": {
          "base_uri": "https://localhost:8080/"
        },
        "id": "WBphFTdrsQWa",
        "outputId": "93b0fbc2-049a-47d5-cb6c-99a894241c98"
      },
      "execution_count": 12,
      "outputs": [
        {
          "output_type": "stream",
          "name": "stdout",
          "text": [
            "5\n"
          ]
        }
      ]
    }
  ]
}