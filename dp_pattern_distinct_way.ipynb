{
  "nbformat": 4,
  "nbformat_minor": 0,
  "metadata": {
    "colab": {
      "provenance": [],
      "authorship_tag": "ABX9TyOaQu11cS8dDJneZZFBWLV5",
      "include_colab_link": true
    },
    "kernelspec": {
      "name": "python3",
      "display_name": "Python 3"
    },
    "language_info": {
      "name": "python"
    }
  },
  "cells": [
    {
      "cell_type": "markdown",
      "metadata": {
        "id": "view-in-github",
        "colab_type": "text"
      },
      "source": [
        "<a href=\"https://colab.research.google.com/github/mahbubcsedu/interviewcoding/blob/main/dp_pattern_distinct_way.ipynb\" target=\"_parent\"><img src=\"https://colab.research.google.com/assets/colab-badge.svg\" alt=\"Open In Colab\"/></a>"
      ]
    },
    {
      "cell_type": "markdown",
      "source": [
        "## Another pattern is distinc ways using dynamic programming\n",
        "### Distinct Ways\n",
        "Problem List: https://leetcode.com/list/55ajm50i\n",
        "\n",
        "Generate problem statement for this pattern\n",
        "\n",
        "### Statement\n",
        "- Given a target find a number of distinct ways to reach the target.\n",
        "\n",
        "### Approach\n",
        "- Sum all possible ways to reach the current state.\n",
        "\n",
        "```js\n",
        "routes[i] = routes[i-1] + routes[i-2], ... , + routes[i-k]\n",
        "```\n",
        "Generate sum for all values in the target and return the value for the target.\n",
        "\n",
        "### Top-Down\n",
        "```java\n",
        "for (int j = 0; j < ways.size(); ++j) {\n",
        "    result += topDown(target - ways[j]);\n",
        "}\n",
        "return memo[/*state parameters*/] = result;\n",
        "```\n",
        "### Bottom-Up\n",
        "```java\n",
        "for (int i = 1; i <= target; ++i) {\n",
        "   for (int j = 0; j < ways.size(); ++j) {\n",
        "       if (ways[j] <= i) {\n",
        "           dp[i] += dp[i - ways[j]];\n",
        "       }\n",
        "   }\n",
        "}\n",
        "\n",
        "return dp[target]\n",
        "```\n",
        "### Similar Problems\n",
        "70. Climbing Stairs Easy\n",
        "\n",
        "Top-Down\n",
        "```java\n",
        "   int result = climbStairs(n-1, memo) + climbStairs(n-2, memo);  \n",
        "   return memo[n] = result;\n",
        "   ```\n",
        "Bottom-Up\n",
        "\n",
        "```java\n",
        " for (int stair = 2; stair <= n; ++stair) {\n",
        "   for (int step = 1; step <= 2; ++step) {\n",
        "       dp[stair] += dp[stair-step];   \n",
        "   }\n",
        "}\n",
        "```\n",
        "\n",
        "62. [Unique Paths Medium](https://leetcode.com/problems/unique-paths/)\n",
        "\n",
        "### Top-Down\n",
        "\n",
        "```java\n",
        "    int result = UniquePaths(x-1, y) + UniquePaths(x, y-1);\n",
        "    return memo[x][y] = result;\n",
        "```\n",
        "### Bottom-Up\n",
        "```java\n",
        "for (int i = 1; i < m; ++i) {\n",
        "   for (int j = 1; j < n; ++j) {\n",
        "       dp[i][j] = dp[i][j-1] + dp[i-1][j];\n",
        "   }\n",
        "}\n",
        "```\n",
        "1155. [Number of Dice Rolls With Target Sum Medium ](https://leetcode.com/problems/number-of-dice-rolls-with-target-sum/)\n",
        "\n",
        "```java\n",
        "for (int rep = 1; rep <= d; ++rep) {\n",
        "   vector<int> new_ways(target+1);\n",
        "   for (int already = 0; already <= target; ++already) {\n",
        "       for (int pipe = 1; pipe <= f; ++pipe) {\n",
        "           if (already - pipe >= 0) {\n",
        "               new_ways[already] += ways[already - pipe];\n",
        "               new_ways[already] %= mod;\n",
        "           }\n",
        "       }\n",
        "   }\n",
        "   ways = new_ways;\n",
        "}\n",
        "```\n",
        "Note\n",
        "\n",
        "Some questions point out the number of repetitions, in that case, add one more loop to simulate every repetition.\n",
        "\n",
        "688. Knight Probability in Chessboard Medium\n",
        "\n",
        "494. Target Sum Medium\n",
        "\n",
        "377. Combination Sum IV Medium\n",
        "\n",
        "935. Knight Dialer Medium\n",
        "\n",
        "1223. Dice Roll Simulation Medium\n",
        "\n"
      ],
      "metadata": {
        "id": "s59yAihA2FIk"
      }
    },
    {
      "cell_type": "code",
      "execution_count": null,
      "metadata": {
        "id": "oOK6Qqtg2ByT"
      },
      "outputs": [],
      "source": [
        "# role dice problem 1155\n",
        "class Solution:\n",
        "    def numRollsToTarget(self, n: int, k: int, target: int) -> int:\n",
        "        # n number of dice, k is number of faces and target is the score\n",
        "        M=(10**9)+7\n",
        "        dp = [[0]*(target+1) for _ in range(n+1)]\n",
        "        dp[n][target] = 1\n",
        "\n",
        "        for diceindex in range(n-1, -1, -1):\n",
        "            for curSum in range(target+1):\n",
        "                ways=0\n",
        "                for i in range(1,min(k, target-curSum)+1):\n",
        "                    ways = (ways + dp[diceindex+1][curSum+i])%M\n",
        "                dp[diceindex][curSum] = ways\n",
        "        return dp[0][0]"
      ]
    },
    {
      "cell_type": "code",
      "source": [
        "#combination sum IV\n",
        "class Solution:\n",
        "    def combinationSum4(self, nums: List[int], target: int) -> int:\n",
        "        # this is unbound as we can select as many time as possible an element from the list\n",
        "\n",
        "        # there is only one change from coin chagne II\n",
        "        dp=[0] *(target+1)\n",
        "        dp[0] = 1 # there is only one way to fill up target 0 by not selecting anything from nums\n",
        "\n",
        "        #[1, 1, 0, 0, 0]\n",
        "        # [1, 1, 1, 0, 0] using num=1\n",
        "        # [1, 1, 2, 0, 0] adding num=2, add more ways\n",
        "        # [1, 1, 2, 2, 0]\n",
        "        # [1, 1, 2, 3, 0]\n",
        "        # [1, 1, 2, 4, 0]\n",
        "        # [1, 1, 2, 4, 4]\n",
        "        # [1, 1, 2, 4, 6]\n",
        "        # [1, 1, 2, 4, 7]\n",
        "        # for each target, we will fillup from bottom up manner\n",
        "        for t in range(target+1):\n",
        "            for num in nums:\n",
        "                if t-num >=0:\n",
        "                    # adding num to the list will add dp[t-num] unique ways to as the num is\n",
        "                    # unique and prefix dp[t-num] and t-num + num will result in t\n",
        "                    dp[t] += dp[t-num]\n",
        "                    # print(dp)\n",
        "        return dp[target]"
      ],
      "metadata": {
        "id": "U2I-BDMDGouM"
      },
      "execution_count": null,
      "outputs": []
    },
    {
      "cell_type": "markdown",
      "source": [
        "416. Partition Equal Subset Sum Medium"
      ],
      "metadata": {
        "id": "-e1ZNpXVtRtl"
      }
    },
    {
      "cell_type": "code",
      "source": [
        "def canPartition(nums: List[int]) -> bool:\n",
        "    total = sum(nums)\n",
        "    if total%2 != 0:\n",
        "        return False\n",
        "\n",
        "    subsetsum = total//2\n",
        "    n = len(nums)\n",
        "\n",
        "    dp = [False]*(subsetsum+1)\n",
        "\n",
        "    dp[0]= True\n",
        "    #  basically, we will try to find from last to first, it will try to make it true if any combination of sum is possible\n",
        "    # if [1,5,5,10,11], then it starts with 0 as true, then for 1 only 0+1 is true\n",
        "    # for 5, 0+5, and 1+5 = 6 is true\n",
        "    # for next 5, 0+5, 1+5, 6+5 is true\n",
        "    # for 10, 0, 1, 5,6, 11, 15,16 is true as 10+11 out of bound\n",
        "    # for 11, 0, 1,5,6,11,12,16 is true\n",
        "    # why cannot we do forward facing, because anything done true by previous steps will become false,\n",
        "    # but if we do backword, we can stop when it will not affect at all\n",
        "    # also if the item is too big, then it will calculate all the way, but if we do backward, we will stop at item value\n",
        "    for i in range(1, n+1):\n",
        "        curr_item = nums[i-1]\n",
        "        for j in range(subsetsum, curr_item-1, -1):\n",
        "            # print(j, j-curr_item)\n",
        "            dp[j] = dp[j-curr_item] or dp[j]\n",
        "            # print(dp)\n",
        "    return dp[subsetsum]"
      ],
      "metadata": {
        "id": "PxGtVJaMtK35"
      },
      "execution_count": null,
      "outputs": []
    },
    {
      "cell_type": "markdown",
      "source": [
        "# 673. Number of Longest Increasing Subsequence Medium"
      ],
      "metadata": {
        "id": "T3-_-anTvumk"
      }
    },
    {
      "cell_type": "code",
      "source": [
        "def findNumberOfLIS(nums: List[int]) -> int:\n",
        "    L = [1] * len(nums)\n",
        "    counter = [1] * len(nums) # keep track of number of updates at i\n",
        "\n",
        "    for i in range(len(nums)):\n",
        "        for j in range(i):\n",
        "            if nums[j] < nums[i]:\n",
        "                if L[j] + 1 > L[i]:\n",
        "                    L[i] = 1+ L[j]\n",
        "                    counter[i] = counter[j]\n",
        "                elif L[j]+1 == L[i]:\n",
        "                    counter[i] +=counter[j]\n",
        "    max_l = max(L)\n",
        "    return sum([counter[i] for i in range(len(L)) if L[i]==max_l])"
      ],
      "metadata": {
        "id": "BRizBJb3vvZl"
      },
      "execution_count": null,
      "outputs": []
    },
    {
      "cell_type": "markdown",
      "source": [
        "## 63. Unique Paths II Medium"
      ],
      "metadata": {
        "id": "HDcJ0ItSwbdS"
      }
    },
    {
      "cell_type": "code",
      "source": [
        "def uniquePathsWithObstacles(obstacleGrid: List[List[int]]) -> int:\n",
        "    m,n = len(obstacleGrid), len(obstacleGrid[0])\n",
        "    dp=[[0]*n for x in range(m)]\n",
        "    dp[0][0]=1 if obstacleGrid[0][0]==0 else 0\n",
        "\n",
        "    for i in range(1,m):\n",
        "        dp[i][0] = dp[i-1][0] if obstacleGrid[i][0] == 0 else 0\n",
        "\n",
        "    for i in range(1,n):\n",
        "        dp[0][i] = dp[0][i-1] if obstacleGrid[0][i] == 0 else 0\n",
        "\n",
        "    for i in range(1, m):\n",
        "        for j in range(1, n):\n",
        "            if obstacleGrid[i][j] == 1:\n",
        "                dp[i][j]=0\n",
        "            else:\n",
        "                dp[i][j] = dp[i-1][j] + dp[i][j-1]\n",
        "    return dp[m-1][n-1]"
      ],
      "metadata": {
        "id": "VyQzYX5bwYPQ"
      },
      "execution_count": null,
      "outputs": []
    },
    {
      "cell_type": "markdown",
      "source": [
        "## 1269. Number of Ways to Stay in the Same Place After Some Steps\n",
        "\n",
        "You have a pointer at index 0 in an array of size arrLen. At each step, you can move 1 position to the left, 1 position to the right in the array, or stay in the same place (The pointer should not be placed outside the array at any time).\n",
        "\n",
        "Given two integers steps and arrLen, return the number of ways such that your pointer is still at index 0 after exactly steps steps. Since the answer may be too large, return it modulo 109 + 7.\n",
        "```python\n",
        "Example 1:\n",
        "\n",
        "Input: steps = 3, arrLen = 2\n",
        "Output: 4\n",
        "Explanation: There are 4 differents ways to stay at index 0 after 3 steps.\n",
        "Right, Left, Stay\n",
        "Stay, Right, Left\n",
        "Right, Stay, Left\n",
        "Stay, Stay, Stay\n",
        "Example 2:\n",
        "\n",
        "Input: steps = 2, arrLen = 4\n",
        "Output: 2\n",
        "Explanation: There are 2 differents ways to stay at index 0 after 2 steps\n",
        "Right, Left\n",
        "Stay, Stay\n",
        "Example 3:\n",
        "\n",
        "Input: steps = 4, arrLen = 2\n",
        "Output: 8\n",
        "```"
      ],
      "metadata": {
        "id": "VdGieJDOyo7T"
      }
    },
    {
      "cell_type": "code",
      "source": [
        "def numWays(steps: int, arrLen: int) -> int:\n",
        "    MOD = 10**9+7\n",
        "    arrLen = min(arrLen, steps) # we never go beyond steps to arrLen\n",
        "\n",
        "    # for each column represents step like 0, 1,...steps\n",
        "    # for each row, arrLen option\n",
        "    dp = [[0]*(steps+1) for _ in range(arrLen)]\n",
        "    dp[0][0] = 1 # at pos=0, with remaining 0\n",
        "\n",
        "    for remain in range(1, steps+1):\n",
        "        for cur in range(arrLen-1, -1, -1):\n",
        "            res = dp[cur][remain-1] # for stay\n",
        "\n",
        "            res = (res + dp[cur-1][remain-1]) % MOD if cur > 0 else res\n",
        "            res = (res + dp[cur+1][remain-1]) % MOD if cur < arrLen-1 else res\n",
        "\n",
        "            dp[cur][remain] = res\n",
        "    return dp[0][steps] # start from 0 and steps\n"
      ],
      "metadata": {
        "id": "U5Dq93zS41-l"
      },
      "execution_count": null,
      "outputs": []
    },
    {
      "cell_type": "markdown",
      "source": [
        "## 801. Minimum Swaps To Make Sequences Increasing"
      ],
      "metadata": {
        "id": "wp-98cSYy1__"
      }
    },
    {
      "cell_type": "markdown",
      "source": [
        "\n",
        "\n",
        "808. Soup Servings Medium\n",
        "\n",
        "790. Domino and Tromino Tiling Medium\n",
        "\n",
        "\n",
        "\n",
        "576. Out of Boundary Paths Medium\n",
        "\n",
        "1220. Count Vowels Permutation Hard"
      ],
      "metadata": {
        "id": "U3spHWbfhCxa"
      }
    }
  ]
}