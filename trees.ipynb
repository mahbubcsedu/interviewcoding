{
  "nbformat": 4,
  "nbformat_minor": 0,
  "metadata": {
    "colab": {
      "name": "trees.ipynb",
      "provenance": [],
      "include_colab_link": true
    },
    "kernelspec": {
      "name": "python3",
      "display_name": "Python 3"
    },
    "language_info": {
      "name": "python"
    }
  },
  "cells": [
    {
      "cell_type": "markdown",
      "metadata": {
        "id": "view-in-github",
        "colab_type": "text"
      },
      "source": [
        "<a href=\"https://colab.research.google.com/github/mahbubcsedu/interviewcoding/blob/main/trees.ipynb\" target=\"_parent\"><img src=\"https://colab.research.google.com/assets/colab-badge.svg\" alt=\"Open In Colab\"/></a>"
      ]
    },
    {
      "cell_type": "markdown",
      "metadata": {
        "id": "_u8TKKaeX6y7"
      },
      "source": [
        "### BST and BT"
      ]
    },
    {
      "cell_type": "code",
      "metadata": {
        "id": "IMN484vYsHIx"
      },
      "source": [
        "#Common for all problems \n",
        "class BinaryTreeNode:\n",
        "  def __init__(self,value):\n",
        "    self.value = value\n",
        "    self.left, self.right = None, None"
      ],
      "execution_count": null,
      "outputs": []
    },
    {
      "cell_type": "markdown",
      "metadata": {
        "id": "1kAAtVHhYPir"
      },
      "source": [
        "### Tree traversal\n",
        "* inorder is normal, pre order and post order also important"
      ]
    },
    {
      "cell_type": "code",
      "metadata": {
        "colab": {
          "base_uri": "https://localhost:8080/"
        },
        "id": "1YQTrh2BX2jL",
        "outputId": "2496b549-06de-4a3d-a32f-cc19d036cf78"
      },
      "source": [
        "def treeTraversal(root):\n",
        "  if root is not None:\n",
        "    print(root.value, end=' ')#without specifying end, it will print a newline\n",
        "\n",
        "    treeTraversal(root.left)\n",
        "    treeTraversal(root.right)\n",
        "\n",
        "tree = BinaryTreeNode(1)\n",
        "l1 = BinaryTreeNode(2)\n",
        "r1 = BinaryTreeNode(3)\n",
        "tree.left = l1\n",
        "tree.right = r1\n",
        "l1 = BinaryTreeNode(4)\n",
        "r1 = BinaryTreeNode(5)\n",
        "tree.left.left = l1\n",
        "tree.left.right = r1\n",
        "l1 = BinaryTreeNode(6)\n",
        "r1 = BinaryTreeNode(7)\n",
        "tree.right.left = l1\n",
        "tree.right.right = r1\n",
        "\n",
        "treeTraversal(tree)\n"
      ],
      "execution_count": null,
      "outputs": [
        {
          "output_type": "stream",
          "text": [
            "1 2 4 5 3 6 7 "
          ],
          "name": "stdout"
        }
      ]
    },
    {
      "cell_type": "markdown",
      "metadata": {
        "id": "k3DqYGhq7o6d"
      },
      "source": [
        "## Balance binary tree check\n",
        "* check whether the tree is height balanced\n",
        "* height balances means, the hight difference between the left and right subtree of each node can be at most 1"
      ]
    },
    {
      "cell_type": "code",
      "metadata": {
        "colab": {
          "base_uri": "https://localhost:8080/"
        },
        "id": "uBJAIbgu7oFk",
        "outputId": "19431745-bd5f-4b7f-da81-ca9b300d22ef"
      },
      "source": [
        "import collections\n",
        "\n",
        "def is_balanced_binary_tree(tree):\n",
        "  BalancedStatusWithHeight = collections.namedtuple('BalancedStatusWithHeight',('balanced', 'height'))\n",
        "\n",
        "  def check_balanced(tree):\n",
        "    if not tree:\n",
        "      return BalancedStatusWithHeight(True,-1)#no node height is -1\n",
        "    left_result = check_balanced(tree.left)\n",
        "    if not left_result.balanced:\n",
        "      return BalancedStatusWithHeight(False, 0) # node without child height is 0\n",
        "    \n",
        "    right_result = check_balanced(tree.right)\n",
        "    if not right_result.balanced:\n",
        "      return BalancedStatusWithHeight(False,0)\n",
        "\n",
        "    is_balanced = abs(left_result.height - right_result.height) <=1\n",
        "    height = max(left_result.height , right_result.height)+1\n",
        "    return BalancedStatusWithHeight(is_balanced, height)\n",
        "\n",
        "  return check_balanced(tree)\n",
        "\n",
        "tree = BinaryTreeNode(1)\n",
        "l1 = BinaryTreeNode(2)\n",
        "r1 = BinaryTreeNode(3)\n",
        "tree.left = l1\n",
        "tree.right = r1\n",
        "l1 = BinaryTreeNode(4)\n",
        "r1 = BinaryTreeNode(5)\n",
        "tree.left.left = l1\n",
        "tree.left.right = r1\n",
        "l1 = BinaryTreeNode(6)\n",
        "r1 = BinaryTreeNode(7)\n",
        "tree.right.left = l1\n",
        "tree.right.right = r1\n",
        "\n",
        "print(is_balanced_binary_tree(tree).balanced)\n",
        "\n",
        "r1 = BinaryTreeNode(8)\n",
        "tree.right.right.right = r1\n",
        "r1 = BinaryTreeNode(8)\n",
        "tree.right.right.right.right = r1\n",
        "\n",
        "print(is_balanced_binary_tree(tree).balanced)"
      ],
      "execution_count": null,
      "outputs": [
        {
          "output_type": "stream",
          "text": [
            "True\n",
            "False\n"
          ],
          "name": "stdout"
        }
      ]
    },
    {
      "cell_type": "code",
      "source": [
        "# class TreeNode:\n",
        "#     def __init__(self, val=0, left=None, right=None):\n",
        "#         self.val = val\n",
        "#         self.left = left\n",
        "#         self.right = right\n",
        "class Solution:\n",
        "    def isBalanced(self, root: Optional[TreeNode]) -> bool:\n",
        "        \n",
        "        def helper(node):\n",
        "            if not node:\n",
        "                return 0\n",
        "            left=helper(node.left)\n",
        "            right=helper(node.right)\n",
        "            #return -1 if difference is greater than 1\n",
        "            # for all predecessor check left < 0 or right < 0 to see if they are already imbalanced\n",
        "            if left < 0 or right < 0 or abs(left-right) > 1:\n",
        "                return -1\n",
        "\n",
        "            return 1+max(left, right)\n",
        "        \n",
        "        height_diff = helper(root)\n",
        "\n",
        "        return True if height_diff >= 0 else False "
      ],
      "metadata": {
        "id": "ymTdQEb96gS6"
      },
      "execution_count": null,
      "outputs": []
    },
    {
      "cell_type": "markdown",
      "metadata": {
        "id": "Nspybi_Yrz29"
      },
      "source": [
        "## Tree symetry test\n",
        "* mirror image of left sub tree should be same as the right subtree"
      ]
    },
    {
      "cell_type": "code",
      "metadata": {
        "colab": {
          "base_uri": "https://localhost:8080/"
        },
        "id": "H-09EfFRr_hf",
        "outputId": "e8ca0da4-c2f3-4e87-96a5-e1cd99ffe67c"
      },
      "source": [
        "def is_symmetry(tree):\n",
        "  return tree is None or check_symmetry(tree.left, tree.right)\n",
        "\n",
        "def check_symmetry(left_subtree, right_subtree):\n",
        "  if left_subtree is None and right_subtree is None :\n",
        "    return True\n",
        "  elif left_subtree is not None and right_subtree is not None:\n",
        "    return left_subtree.value is right_subtree.value \\\n",
        "    and check_symmetry(left_subtree.left, right_subtree.right) \\\n",
        "    and check_symmetry(left_subtree.right, right_subtree.left)\n",
        "  else:\n",
        "    return False \n",
        "\n",
        "tree = BinaryTreeNode(1)\n",
        "l1, r1 = BinaryTreeNode(2), BinaryTreeNode(2)\n",
        "tree.left, tree.right = l1, r1\n",
        "l1, r1 = BinaryTreeNode(4), BinaryTreeNode(4)\n",
        "tree.left.right, tree.right.left = l1, r1\n",
        "l1, r1 = BinaryTreeNode(6), BinaryTreeNode(6)\n",
        "tree.left.right.left, tree.right.left.right = l1, r1\n",
        "\n",
        "print(is_symmetry(tree))\n",
        "tree = BinaryTreeNode(1)\n",
        "l1, r1 = BinaryTreeNode(2), BinaryTreeNode(2)\n",
        "tree.left, tree.right = l1, r1\n",
        "l1, r1 = BinaryTreeNode(4), BinaryTreeNode(4)\n",
        "tree.left.right, tree.right.left = l1, r1\n",
        "l1, r1 = BinaryTreeNode(6), BinaryTreeNode(7)\n",
        "tree.left.right.left, tree.right.left.right = l1, r1\n",
        "\n",
        "print(is_symmetry(tree))"
      ],
      "execution_count": null,
      "outputs": [
        {
          "output_type": "stream",
          "text": [
            "True\n",
            "False\n"
          ],
          "name": "stdout"
        }
      ]
    },
    {
      "cell_type": "markdown",
      "metadata": {
        "id": "SyM2NMBllBrl"
      },
      "source": [
        "python lesson here: logical statements should be in a line or use a break with `\\`"
      ]
    },
    {
      "cell_type": "code",
      "metadata": {
        "colab": {
          "base_uri": "https://localhost:8080/"
        },
        "id": "_YxgSTq4DGqf",
        "outputId": "115d3997-e7b5-4b1b-f324-7509240821fc"
      },
      "source": [
        "import collections\n",
        "\n",
        "Status = collections.namedtuple('Satatus',('num_of_target_nodes','bt_nodes'))\n",
        "\n",
        "def lca(tree, node0, node1):\n",
        "  return lca_helper(tree, node0,node1)\n",
        "def lca_helper(tree, node0, node1):\n",
        "  if tree is None:\n",
        "    return Status(0, None)\n",
        "\n",
        "  left_result = lca_helper(tree.left, node0, node1)\n",
        "\n",
        "  if left_result.num_of_target_nodes == 2:\n",
        "    return left_result # this will return the left result and ignore the rest\n",
        "  right_result = lca_helper(tree.right, node0, node1)\n",
        "  \n",
        "  if right_result.num_of_target_nodes == 2:\n",
        "    return right_result # will return the right results and ignore the rest\n",
        "  num_of_target_nodes = left_result.num_of_target_nodes + right_result.num_of_target_nodes + (1 if tree == node0 else 0) + (1 if tree == node1 else 0)\n",
        "  return Status(num_of_target_nodes, tree if num_of_target_nodes ==2 else None) # only status will be created here\n",
        "  \n",
        "tree = BinaryTreeNode(1)\n",
        "l1 = BinaryTreeNode(2)\n",
        "r1 = BinaryTreeNode(3), \n",
        "tree.left = l1\n",
        "tree.right = r1\n",
        "tl1 = BinaryTreeNode(4)\n",
        "tr1 = BinaryTreeNode(5)\n",
        "tree.left.left = tl1\n",
        "tree.left.right = tr1\n",
        "l1 = BinaryTreeNode(6)\n",
        "r1 = BinaryTreeNode(7)\n",
        "tree.right.left = l1\n",
        "tree.right.right = r1\n",
        "\n",
        "print(lca(tree, tl1, tr1).bt_nodes.value)"
      ],
      "execution_count": null,
      "outputs": [
        {
          "output_type": "stream",
          "text": [
            "2\n"
          ],
          "name": "stdout"
        }
      ]
    },
    {
      "cell_type": "code",
      "metadata": {
        "colab": {
          "base_uri": "https://localhost:8080/"
        },
        "id": "CpDrORMOK5Hy",
        "outputId": "d5a4f1ba-ccbb-4a04-c536-da9978881557"
      },
      "source": [
        "class BTWPNode:\n",
        "  def __init__(self,data, parent=None):\n",
        "    self.data = data\n",
        "    self.parent=parent\n",
        "    self.left, self.right = None, None\n",
        "\n",
        "\n",
        "def LCA(tree, node0, node1):\n",
        "  depth0 = get_depth(node0)\n",
        "  depth1 = get_depth(node1)\n",
        "  print(depth0, depth1)\n",
        "\n",
        "  if(depth1 > depth0):\n",
        "    depth0, depth1 = depth1, depth0\n",
        "  depth_diff = abs(depth0 - depth1)\n",
        "\n",
        "  while((depth_diff > 0)):\n",
        "    node0 = node0.parent\n",
        "    depth_diff -=1\n",
        "  \n",
        "  print(node0.data, node1.data)\n",
        "  while(node0 != node1):\n",
        "    node0 = node0.parent\n",
        "    node1 = node1.parent\n",
        "  return node0\n",
        "\n",
        "def get_depth(tree):\n",
        "  depth = 0\n",
        "  while(tree):\n",
        "    tree = tree.parent\n",
        "    depth +=1\n",
        "  return depth\n",
        "\n",
        "tree = BTWPNode(1)\n",
        "l1 = BTWPNode(2,tree)\n",
        "r1 = BTWPNode(3,tree)\n",
        "tree.left = l1\n",
        "tree.right = r1\n",
        "ll1 = BTWPNode(4,l1)\n",
        "lr1 = BTWPNode(5,l1)\n",
        "tree.left.left = l1\n",
        "tree.left.right = r1\n",
        "rl1 = BTWPNode(6,r1)\n",
        "rr1 = BTWPNode(7,r1)\n",
        "tree.right.left = rl1\n",
        "tree.right.right = rr1\n",
        "\n",
        "result_node = LCA(tree,rr1, ll1)\n",
        "print(result_node.data)\n",
        "result_node = LCA(tree,rr1, l1)\n",
        "print(result_node.data)"
      ],
      "execution_count": null,
      "outputs": [
        {
          "output_type": "stream",
          "text": [
            "3 3\n",
            "7 4\n",
            "1\n",
            "3 2\n",
            "3 2\n",
            "1\n"
          ],
          "name": "stdout"
        }
      ]
    },
    {
      "cell_type": "code",
      "metadata": {
        "id": "MwqcsDFyCrSs",
        "colab": {
          "base_uri": "https://localhost:8080/"
        },
        "outputId": "9ec8f6b7-2b3d-47c6-a444-0a2e38fb0178"
      },
      "source": [
        "def sum_root_to_leaf(tree):\n",
        "  return sum_root_to_leaf_helper(tree, 0)\n",
        "\n",
        "def sum_root_to_leaf_helper(root, path_sum):\n",
        "  if root is None:\n",
        "    return 0\n",
        "\n",
        "  #print(root.value)  \n",
        "  path_sum = path_sum*2 \n",
        "  path_sum = path_sum + root.value\n",
        "\n",
        "  if root.left is None and root.right is None:\n",
        "    return path_sum\n",
        "  return sum_root_to_leaf_helper(root.left, path_sum) + sum_root_to_leaf_helper(root.right, path_sum)\n",
        "\n",
        "tree = BinaryTreeNode(1)\n",
        "tree.left, tree.right = BinaryTreeNode(0), BinaryTreeNode(1)\n",
        "\n",
        "tree.left.left , tree.left.right = BinaryTreeNode(1), BinaryTreeNode(0)\n",
        "\n",
        "tree.right.left , tree.right.right = BinaryTreeNode(1), BinaryTreeNode(1)\n",
        "\n",
        "print(sum_root_to_leaf(tree), end=' ')"
      ],
      "execution_count": null,
      "outputs": [
        {
          "output_type": "stream",
          "text": [
            "23 "
          ],
          "name": "stdout"
        }
      ]
    },
    {
      "cell_type": "markdown",
      "metadata": {
        "id": "W5xhS42hkoh_"
      },
      "source": [
        "### "
      ]
    },
    {
      "cell_type": "code",
      "metadata": {
        "id": "mN3QwgPUkno5"
      },
      "source": [],
      "execution_count": null,
      "outputs": []
    }
  ]
}