{
  "nbformat": 4,
  "nbformat_minor": 0,
  "metadata": {
    "colab": {
      "provenance": [],
      "authorship_tag": "ABX9TyMQ9At5tE1GG2G8A0LU7dWx",
      "include_colab_link": true
    },
    "kernelspec": {
      "name": "python3",
      "display_name": "Python 3"
    },
    "language_info": {
      "name": "python"
    }
  },
  "cells": [
    {
      "cell_type": "markdown",
      "metadata": {
        "id": "view-in-github",
        "colab_type": "text"
      },
      "source": [
        "<a href=\"https://colab.research.google.com/github/mahbubcsedu/interviewcoding/blob/main/Linkedlist.ipynb\" target=\"_parent\"><img src=\"https://colab.research.google.com/assets/colab-badge.svg\" alt=\"Open In Colab\"/></a>"
      ]
    },
    {
      "cell_type": "markdown",
      "source": [
        "## Reverse link list (a portion of from left to right)"
      ],
      "metadata": {
        "id": "T-6y0xfH9Dul"
      }
    },
    {
      "cell_type": "code",
      "execution_count": null,
      "metadata": {
        "id": "sssEiOeo8_8h"
      },
      "outputs": [],
      "source": [
        "class ListNode:\n",
        "    def __init__(self, val=0, next=None):\n",
        "        self.val = val\n",
        "        self.next = next\n",
        "class Solution:\n",
        "    def reverseBetween(self, head: Optional[ListNode], left: int, right: int) -> Optional[ListNode]:\n",
        "        dummy_head = sublist_head = ListNode(0, head)\n",
        "        for _ in range(1, left):\n",
        "            sublist_head=sublist_head.next\n",
        "        # sublist_head is now at the last position before the start node\n",
        "        sublist_iter = sublist_head.next # we move iterator pointer to the start postion and then reverse\n",
        "\n",
        "        # 1->2->3->4->5->6->7, left=2, right=4\n",
        "        # algorithm here is to keep the sublist_head fixed at 1 and then move iter.next between sublist_head and sublist_head.next\n",
        "        # sublist_iter points to 2\n",
        "        # sublist_head:[1,3,2,4,5]\n",
        "        # sublist_iter:[2,4,5]\n",
        "        # temp:[3,2,4,5]\n",
        "        for _ in range(right-left):\n",
        "            # sublist_iter is 2 and it will stay here always\n",
        "            temp=sublist_iter.next # its points to 3 now\n",
        "            # sublist_iter points to 4, temp was pointing to 3 now pointing to 2, sublist_head.next poiting from 2 to 3 now\n",
        "            sublist_iter.next = temp.next # 2 now points to 4\n",
        "            temp.next=sublist_head.next # 3 points to 2 now as 2 was the sublist_head.next\n",
        "            sublist_head.next=temp #1 now points to 3 now instead of 2, so the list after this 1,3,2,4,5 and sublist_head is still 1, iter is still 2, but 3 is in front of 2 now\n",
        "\n",
        "            # we are moving sublist_iter.next to temp.next, so if sublist_iter points to left which is 2, it will continue pointing that\n",
        "            # sublist_iter.next, temp.next, sublist_head.next = temp.next, sublist_head.next, temp\n",
        "        return dummy_head.next"
      ]
    },
    {
      "cell_type": "code",
      "source": [
        "# Definition for singly-linked list.\n",
        "# class ListNode:\n",
        "#     def __init__(self, val=0, next=None):\n",
        "#         self.val = val\n",
        "#         self.next = next\n",
        "class Solution:\n",
        "    def reverseList(self, head: Optional[ListNode]) -> Optional[ListNode]:\n",
        "        # for reversing link list, we need three pointer, prev, cur, next\n",
        "        cur = head\n",
        "        prev = None\n",
        "        while head:\n",
        "            head.next, head, prev = prev, head.next, head\n",
        "            # head = head.next\n",
        "            # cur.next =prev\n",
        "            # prev= cur\n",
        "            # cur = head\n",
        "        return prev\n",
        ""
      ],
      "metadata": {
        "id": "y7yvdnxjCozP"
      },
      "execution_count": null,
      "outputs": []
    },
    {
      "cell_type": "code",
      "source": [
        "# Definition for singly-linked list.\n",
        "# class ListNode:\n",
        "#     def __init__(self, val=0, next=None):\n",
        "#         self.val = val\n",
        "#         self.next = next\n",
        "class Solution:\n",
        "    def reverseKGroup(self, head: Optional[ListNode], k: int) -> Optional[ListNode]:\n",
        "\n",
        "        dummy = jump = ListNode(0)\n",
        "        dummy.next = l = r = head\n",
        "\n",
        "        while True:\n",
        "            count = 0\n",
        "            while r and count < k:   # use r to locate the range\n",
        "                r = r.next\n",
        "                count += 1\n",
        "            if count == k:  # if size k satisfied, reverse the inner linked list\n",
        "                pre, cur = r, l # in  1,2,3,4,5 and k = 3, r = 4, l=1\n",
        "\n",
        "                for _ in range(k):\n",
        "                    # temp=cur.next\n",
        "                    # cur.next=pre\n",
        "                    # pre=cur\n",
        "                    # cur=temp\n",
        "                    #this 4 lines can be written in the following form\n",
        "                    cur.next, cur, pre = pre, cur.next, cur  # standard reversing\n",
        "\n",
        "                # we reversed the portion size k, now we need to connect previous to end of this segment which becomes the first\n",
        "                # 1,2,3,4,5 to 3,2,1, 4,5, jump is a dummy whose next was one, now point to 3, so 0->3,2,1, which is done by jump.next = pre (3 here)\n",
        "                # now we have next segment where the last of the current segment will be prev, so jump will be now l, which is 1, and move l to point to next segment start which is 4\n",
        "                jump.next = pre\n",
        "\n",
        "                jump = l\n",
        "                l = r\n",
        "\n",
        "            else:\n",
        "                return dummy.next"
      ],
      "metadata": {
        "id": "1nhPJlPWDAJT"
      },
      "execution_count": null,
      "outputs": []
    },
    {
      "cell_type": "code",
      "source": [
        "# Definition for singly-linked list.\n",
        "# class ListNode:\n",
        "#     def __init__(self, val=0, next=None):\n",
        "#         self.val = val\n",
        "#         self.next = next\n",
        "class Solution:\n",
        "    def swapPairs(self, head: Optional[ListNode]) -> Optional[ListNode]:\n",
        "        if not head or not head.next:\n",
        "             return head\n",
        "\n",
        "        dummy = ListNode(0, head)\n",
        "        prev_node = dummy\n",
        "\n",
        "\n",
        "        # 1,2,3,4\n",
        "        while head and head.next:\n",
        "            first_node = head\n",
        "            second_node = head.next\n",
        "\n",
        "            prev_node.next=second_node # this also change the dummy reference\n",
        "            first_node.next=second_node.next\n",
        "            second_node.next=first_node\n",
        "\n",
        "            prev_node=first_node # previous node moves away from dummy\n",
        "            head=first_node.next\n",
        "        return dummy.next"
      ],
      "metadata": {
        "id": "NWQOsp6eiUvK"
      },
      "execution_count": null,
      "outputs": []
    },
    {
      "cell_type": "markdown",
      "source": [
        "Implementing an **LFU (Least Frequently Used) Cache** with \\( O(1) \\) retrieval and insertion requires careful design. We'll use two data structures:\n",
        "\n",
        "1. **Key-Value Map**: Maps keys to their values and metadata such as frequency.\n",
        "2. **Frequency Map**: Maps frequency counts to an ordered list of keys with that frequency.\n",
        "\n",
        "Here's the Python implementation:\n",
        "\n",
        "```python\n",
        "class LFUCache:\n",
        "    def __init__(self, capacity: int):\n",
        "        self.capacity = capacity\n",
        "        self.min_freq = 0  # Tracks the minimum frequency\n",
        "        self.key_to_val_freq = {}  # Maps key -> (value, freq)\n",
        "        self.freq_to_keys = {}  # Maps freq -> OrderedDict of keys\n",
        "    \n",
        "    def _update_frequency(self, key: int):\n",
        "        \"\"\"Helper to update the frequency of a key.\"\"\"\n",
        "        value, freq = self.key_to_val_freq[key]\n",
        "        self.key_to_val_freq[key] = (value, freq + 1)\n",
        "        \n",
        "        # Remove the key from the current frequency list\n",
        "        self.freq_to_keys[freq].pop(key)\n",
        "        if not self.freq_to_keys[freq]:\n",
        "            del self.freq_to_keys[freq]\n",
        "            if freq == self.min_freq:\n",
        "                self.min_freq += 1\n",
        "        \n",
        "        # Add the key to the next frequency list\n",
        "        if freq + 1 not in self.freq_to_keys:\n",
        "            self.freq_to_keys[freq + 1] = OrderedDict()\n",
        "        self.freq_to_keys[freq + 1][key] = None\n",
        "\n",
        "    def get(self, key: int) -> int:\n",
        "        if key not in self.key_to_val_freq:\n",
        "            return -1\n",
        "        \n",
        "        # Update the frequency and return the value\n",
        "        self._update_frequency(key)\n",
        "        return self.key_to_val_freq[key][0]\n",
        "\n",
        "    def put(self, key: int, value: int) -> None:\n",
        "        if self.capacity == 0:\n",
        "            return\n",
        "        \n",
        "        if key in self.key_to_val_freq:\n",
        "            # Update the value and frequency\n",
        "            self.key_to_val_freq[key] = (value, self.key_to_val_freq[key][1])\n",
        "            self._update_frequency(key)\n",
        "        else:\n",
        "            if len(self.key_to_val_freq) >= self.capacity:\n",
        "                # Remove the least frequently used key\n",
        "                lfu_key, _ = self.freq_to_keys[self.min_freq].popitem(last=False)\n",
        "                if not self.freq_to_keys[self.min_freq]:\n",
        "                    del self.freq_to_keys[self.min_freq]\n",
        "                del self.key_to_val_freq[lfu_key]\n",
        "            \n",
        "            # Add the new key-value pair\n",
        "            self.key_to_val_freq[key] = (value, 1)\n",
        "            if 1 not in self.freq_to_keys:\n",
        "                self.freq_to_keys[1] = OrderedDict()\n",
        "            self.freq_to_keys[1][key] = None\n",
        "            self.min_freq = 1\n",
        "```\n",
        "\n",
        "### Key Points:\n",
        "1. **`self.key_to_val_freq`**:\n",
        "   - Stores each key's value and frequency.\n",
        "   - Example: `{1: (10, 2)}` means key `1` has value `10` and frequency `2`.\n",
        "\n",
        "2. **`self.freq_to_keys`**:\n",
        "   - Maps each frequency to an ordered dictionary of keys.\n",
        "   - Example: `{2: OrderedDict({1: None, 3: None})}` means keys `1` and `3` have frequency `2`.\n",
        "\n",
        "3. **Insertions**:\n",
        "   - If the cache is full, evict the least frequently used key (tracked by `self.min_freq`).\n",
        "   - Use an `OrderedDict` to efficiently remove the least recently added key among those with the same frequency.\n",
        "\n",
        "4. **Frequency Updates**:\n",
        "   - On every `get` or `put` operation, the frequency of the key is updated.\n",
        "   - Adjust the `min_freq` tracker as needed.\n",
        "\n",
        "This implementation ensures \\( O(1) \\) complexity for `get` and `put`."
      ],
      "metadata": {
        "id": "Lr65OGNJoTkW"
      }
    }
  ]
}