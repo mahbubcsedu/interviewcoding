{
  "nbformat": 4,
  "nbformat_minor": 0,
  "metadata": {
    "colab": {
      "provenance": [],
      "toc_visible": true,
      "include_colab_link": true
    },
    "kernelspec": {
      "name": "python3",
      "display_name": "Python 3"
    },
    "language_info": {
      "name": "python"
    }
  },
  "cells": [
    {
      "cell_type": "markdown",
      "metadata": {
        "id": "view-in-github",
        "colab_type": "text"
      },
      "source": [
        "<a href=\"https://colab.research.google.com/github/mahbubcsedu/interviewcoding/blob/main/binary_search.ipynb\" target=\"_parent\"><img src=\"https://colab.research.google.com/assets/colab-badge.svg\" alt=\"Open In Colab\"/></a>"
      ]
    },
    {
      "cell_type": "markdown",
      "source": [
        "\n",
        "# Binary Search for Coding interview"
      ],
      "metadata": {
        "id": "KPAhjTJHkedD"
      }
    },
    {
      "cell_type": "markdown",
      "source": [
        ">[Binary Search for Coding interview](#scrollTo=KPAhjTJHkedD)\n",
        "\n",
        ">>[Normal binary search](#scrollTo=6gArU9cOsNZ_)\n",
        "\n",
        ">>[Left insertion position](#scrollTo=EOj_Q95q1AtI)\n",
        "\n",
        ">>[Right insertion position](#scrollTo=ixgAqRLO1EBm)\n",
        "\n",
        ">>[Search in a rotated sorted array (no duplicate)](#scrollTo=mUDhe-lcjO_H)\n",
        "\n",
        ">>[Rotated sorted array search II](#scrollTo=Qfh9KsQLpZNq)\n",
        "\n",
        ">>[Search first and last position of an item in a array](#scrollTo=l5aUScj2zr6M)\n",
        "\n",
        ">>[Find Minimum in Rotated Sorted Array II](#scrollTo=m9RsQple5CJK)\n",
        "\n",
        ">>[Find Minimum in Rotated Sorted Array](#scrollTo=RMNfHGWX9vy1)\n",
        "\n",
        ">>[Find Peak Element](#scrollTo=rXDakablEIp6)\n",
        "\n",
        ">>[Search in a Sorted Array of Unknown Size](#scrollTo=TjO4eaM-GSRG)\n",
        "\n",
        ">>[Peak Index in a Mountain Array](#scrollTo=lpSquBTXNc2N)\n",
        "\n",
        ">>[Find in Mountain Array](#scrollTo=pHW5-H26N5SK)\n",
        "\n",
        ">>[Missing Element in Sorted Array](#scrollTo=bTKI38mvVXjZ)\n",
        "\n",
        ">>[First Bad Version](#scrollTo=qMpyMm3nVobg)\n",
        "\n",
        ">>[H-Index II](#scrollTo=jjuIyMWgcK7T)\n",
        "\n",
        ">>[Binary search in matrix (Matrix search I and II)](#scrollTo=X9VVfM9nlM-F)\n",
        "\n",
        ">>[Search a 2D Matrix II](#scrollTo=DHrKJxsiohDa)\n",
        "\n",
        ">>[Median of Two Sorted Arrays](#scrollTo=CuIX82C60llo)\n",
        "\n",
        ">>[Search local minima or maxima](#scrollTo=kLFVgq_j0rME)\n",
        "\n",
        ">>[Missing Element in Sorted Array](#scrollTo=kLFVgq_j0rME)\n",
        "\n"
      ],
      "metadata": {
        "colab_type": "toc",
        "id": "ZTY8rQA8j2Rf"
      }
    },
    {
      "cell_type": "markdown",
      "source": [
        "## Normal binary search\n"
      ],
      "metadata": {
        "id": "6gArU9cOsNZ_"
      }
    },
    {
      "cell_type": "code",
      "execution_count": null,
      "metadata": {
        "id": "lYasbn7n2Wph",
        "colab": {
          "base_uri": "https://localhost:8080/"
        },
        "outputId": "f25a2c63-d08c-48ab-ecd4-cd71e36cb2a0"
      },
      "outputs": [
        {
          "output_type": "stream",
          "name": "stdout",
          "text": [
            "4\n"
          ]
        }
      ],
      "source": [
        "def binarySearch(nums, target):\n",
        "  left, right = 0, len(nums)-1\n",
        "\n",
        "  while left <= right:\n",
        "\n",
        "    mid=(left+right)//2\n",
        "\n",
        "    if nums[mid]==target:\n",
        "      return mid\n",
        "\n",
        "    elif nums[mid] > target:\n",
        "      right = mid-1\n",
        "    else:\n",
        "      left = mid+1\n",
        "  return -1\n",
        "\n",
        "print(binarySearch([1,2,3,4,7,9,10,15],7))"
      ]
    },
    {
      "cell_type": "code",
      "source": [
        "def binarySearch(nums, target):\n",
        "  left, right = 0, len(nums)\n",
        "\n",
        "  while left < right:\n",
        "\n",
        "    mid = (left+right)//2\n",
        "\n",
        "    if nums[mid] < target:\n",
        "      left = mid+1\n",
        "    else:\n",
        "      right = mid\n",
        "  return left\n",
        "\n",
        "print(binarySearch([1,2,3,4,7,9,10,15],70))"
      ],
      "metadata": {
        "colab": {
          "base_uri": "https://localhost:8080/"
        },
        "id": "1UMreOqVXse3",
        "outputId": "350b4d04-07f7-41dd-ad80-e81c9a8b8172"
      },
      "execution_count": null,
      "outputs": [
        {
          "output_type": "stream",
          "name": "stdout",
          "text": [
            "8\n"
          ]
        }
      ]
    },
    {
      "cell_type": "markdown",
      "source": [
        "## Left insertion position\n",
        "\n"
      ],
      "metadata": {
        "id": "EOj_Q95q1AtI"
      }
    },
    {
      "cell_type": "code",
      "source": [
        "def bisect_left(nums, target):\n",
        "  lo, hi = 0, len(nums)\n",
        "\n",
        "  while lo < hi:\n",
        "    mid = (lo + hi) // 2\n",
        "    if nums[mid] < target:\n",
        "        lo = mid + 1\n",
        "    else:\n",
        "        hi = mid\n",
        "  return lo\n",
        "print(bisect_left([1,2,3,4,7,7,9,10,15],7))\n",
        "print(bisect_left([1,2,3,4,7,7,9,10,15],1))\n",
        "print(bisect_left([1,2,3,4,7,7,9,10,15],15))\n",
        "# print(len())"
      ],
      "metadata": {
        "colab": {
          "base_uri": "https://localhost:8080/"
        },
        "id": "IkJM6MXWYcKG",
        "outputId": "f74d7a63-90f9-4d1a-ead7-0b99cf6d12a2"
      },
      "execution_count": null,
      "outputs": [
        {
          "output_type": "stream",
          "name": "stdout",
          "text": [
            "4\n",
            "0\n",
            "8\n"
          ]
        }
      ]
    },
    {
      "cell_type": "markdown",
      "source": [
        "## Right insertion position\n"
      ],
      "metadata": {
        "id": "ixgAqRLO1EBm"
      }
    },
    {
      "cell_type": "code",
      "source": [
        "def bisect_right(a, x):\n",
        "  lo, hi = 0, len(a)\n",
        "\n",
        "  while lo < hi:\n",
        "    mid = (lo + hi)//2\n",
        "\n",
        "    if a[mid] > x:\n",
        "      hi = mid\n",
        "    else:\n",
        "      lo = mid + 1\n",
        "  return lo\n",
        "print(bisect_right([1,2,3,4,7,9,10,15],7))"
      ],
      "metadata": {
        "colab": {
          "base_uri": "https://localhost:8080/"
        },
        "id": "n0c1McHGZnN5",
        "outputId": "694690cf-87a6-4f29-8e66-5a5974ab1099"
      },
      "execution_count": null,
      "outputs": [
        {
          "output_type": "stream",
          "name": "stdout",
          "text": [
            "5\n"
          ]
        }
      ]
    },
    {
      "cell_type": "markdown",
      "source": [
        "## Search in a rotated sorted array (no duplicate)\n"
      ],
      "metadata": {
        "id": "mUDhe-lcjO_H"
      }
    },
    {
      "cell_type": "code",
      "source": [
        "# 7,8,9,10, 1,2,3,4,5,6\n",
        "# 7,8,9,10, 1,2,3,4,5\n",
        "# case: mid 3\n",
        "# case mid 9\n",
        "# case mid 1\n",
        "# case mid 10\n",
        "# one important part here is we can get at least one part normal, and if target is on that part\n",
        "# we can  only search there otherwise search on other side\n",
        "\n",
        "# Note: here we are using == finding, so while loop lo <= hi\n",
        "\n",
        "def bsearchRatated(a, k):\n",
        "  lo, hi = 0, len(a)-1\n",
        "\n",
        "  while lo <= hi:\n",
        "    mid = (lo+ hi)//2\n",
        "\n",
        "    if a[mid] == k:\n",
        "      return mid\n",
        "\n",
        "    if a[mid] < a[hi]:\n",
        "      if a[mid] < k <= a[hi]:\n",
        "        lo=mid+1\n",
        "      else:\n",
        "        hi=mid-1\n",
        "    else:\n",
        "      if a[lo] <= k < a[mid]:\n",
        "        hi=mid-1\n",
        "      else:\n",
        "        lo=mid+1\n",
        "\n",
        "  return -1\n",
        "\n",
        "print(bsearchRatated([7,8,9,10, 1,2,3,4,5,6],4))\n",
        "print(bsearchRatated([7,8,9,10, 1,2,3,4,5,6],10))\n",
        "print(bsearchRatated([7,8,9,10, 1,2,3,4,5,6],7))\n",
        "print(bsearchRatated([7,8,9,10, 1,2,3,4,5,6],6))"
      ],
      "metadata": {
        "colab": {
          "base_uri": "https://localhost:8080/"
        },
        "id": "6AjARZ2ZjX-m",
        "outputId": "51aebe27-7b99-483d-c6fa-a47c5b2f0add"
      },
      "execution_count": null,
      "outputs": [
        {
          "output_type": "stream",
          "name": "stdout",
          "text": [
            "7\n",
            "3\n",
            "0\n",
            "9\n"
          ]
        }
      ]
    },
    {
      "cell_type": "markdown",
      "source": [
        "## Rotated sorted array search II\n",
        "if the array has duplicate, it makes things more complicated as decision making is very heard"
      ],
      "metadata": {
        "id": "Qfh9KsQLpZNq"
      }
    },
    {
      "cell_type": "code",
      "source": [
        "def search(nums, target) -> bool:\n",
        "    right = len(nums) -1\n",
        "    left = 0\n",
        "\n",
        "    while left <= right:\n",
        "        mid = (right+left) // 2\n",
        "        if nums[mid] == target:\n",
        "            return True\n",
        "        if nums[left] == nums[mid]:\n",
        "            left += 1\n",
        "            continue\n",
        "\n",
        "        if nums[left] <= nums[mid]:\n",
        "            if nums[left] <= target < nums[mid]:\n",
        "                right = mid - 1\n",
        "            else:\n",
        "                left = mid + 1\n",
        "        elif nums[mid] <= nums[right]:\n",
        "            if nums[mid] < target <= nums[right]:\n",
        "                left = mid + 1\n",
        "            else:\n",
        "                right = mid - 1\n",
        "    return False\n",
        "print(search([7,8,9,10, 1,2,3,4,5,6],6))\n",
        "print(search([1,0,1,1],0))"
      ],
      "metadata": {
        "colab": {
          "base_uri": "https://localhost:8080/"
        },
        "id": "-7AwJddLplnD",
        "outputId": "145ec4af-e685-4d0a-ed2e-d7ca77c87d01"
      },
      "execution_count": null,
      "outputs": [
        {
          "output_type": "stream",
          "name": "stdout",
          "text": [
            "True\n",
            "True\n"
          ]
        }
      ]
    },
    {
      "cell_type": "markdown",
      "source": [
        "## Search first and last position of an item in a array"
      ],
      "metadata": {
        "id": "l5aUScj2zr6M"
      }
    },
    {
      "cell_type": "code",
      "source": [
        "def searchFirstLast(nums, k):\n",
        "  # use bisect\n",
        "  # consider presence and absense of item\n",
        "  # it can go len(nus), or 0\n",
        "  left = bisect_left(nums, k)\n",
        "  right = bisect_right(nums, k)\n",
        "\n",
        "  if right < len(nums):\n",
        "    return [left, right-1]\n",
        "  else:\n",
        "    return [-1,-1]"
      ],
      "metadata": {
        "id": "kElzS0vdzvTZ"
      },
      "execution_count": null,
      "outputs": []
    },
    {
      "cell_type": "markdown",
      "source": [
        "## 154. Find Minimum in Rotated Sorted Array II\n",
        "\n",
        "Suppose an array of length n sorted in ascending order is rotated between 1 and n times. For example, the array nums = [0,1,4,4,5,6,7] might become:\n",
        "\n",
        "[4,5,6,7,0,1,4] if it was rotated 4 times.\n",
        "[0,1,4,4,5,6,7] if it was rotated 7 times.\n",
        "Notice that rotating an array [a[0], a[1], a[2], ..., a[n-1]] 1 time results in the array [a[n-1], a[0], a[1], a[2], ..., a[n-2]].\n",
        "\n",
        "Given the sorted rotated array nums that may contain duplicates, return the minimum element of this array.\n",
        "\n",
        "You must decrease the overall operation steps as much as possible.\n",
        "\n",
        "```\n",
        "\n",
        "Example 1:\n",
        "\n",
        "Input: nums = [1,3,5]\n",
        "Output: 1\n",
        "Example 2:\n",
        "\n",
        "Input: nums = [2,2,2,0,1]\n",
        "Output: 0\n",
        "```"
      ],
      "metadata": {
        "id": "m9RsQple5CJK"
      }
    },
    {
      "cell_type": "code",
      "source": [
        "## in this case, if we can decide on comparson, make decision otherwise lowere searc hspace by rejecting high\n",
        "# think with example\n",
        "# [2,2,2,0,1]\n",
        "# [2,2,2,0,1,2,2,2]\n",
        "# [2,2,2,3,4,0,1,2,2,2]\n",
        "\n",
        "def findMin(nums):\n",
        "  lo, hi = 0, len(nums)-1\n",
        "\n",
        "  while lo < hi:\n",
        "    mid = (lo + hi)//2\n",
        "\n",
        "    if nums[mid] < nums[hi]:\n",
        "      hi = mid\n",
        "    elif nums[mid] > nums[hi]:\n",
        "      lo = mid+1\n",
        "    else:\n",
        "      hi -=1\n",
        "  return lo\n",
        "print(findMin([2,2,2,0,1]))"
      ],
      "metadata": {
        "colab": {
          "base_uri": "https://localhost:8080/"
        },
        "id": "VCIg97dj5V9n",
        "outputId": "d7b330d5-44ee-4b88-c4ed-7f8bfc15172a"
      },
      "execution_count": null,
      "outputs": [
        {
          "output_type": "stream",
          "name": "stdout",
          "text": [
            "3\n"
          ]
        }
      ]
    },
    {
      "cell_type": "markdown",
      "source": [
        "## 153. Find Minimum in Rotated Sorted Array\n",
        "\n",
        "Suppose an array of length n sorted in ascending order is rotated between 1 and n times. For example, the array nums = [0,1,2,4,5,6,7] might become:\n",
        "\n",
        "[4,5,6,7,0,1,2] if it was rotated 4 times.\n",
        "[0,1,2,4,5,6,7] if it was rotated 7 times.\n",
        "Notice that rotating an array [a[0], a[1], a[2], ..., a[n-1]] 1 time results in the array [a[n-1], a[0], a[1], a[2], ..., a[n-2]].\n",
        "\n",
        "Given the sorted rotated array nums of unique elements, return the minimum element of this array.\n",
        "\n",
        "You must write an algorithm that runs in O(log n) time.\n",
        "```\n",
        "\n",
        "\n",
        "Example 1:\n",
        "\n",
        "Input: nums = [3,4,5,1,2]\n",
        "Output: 1\n",
        "Explanation: The original array was [1,2,3,4,5] rotated 3 times.\n",
        "Example 2:\n",
        "\n",
        "Input: nums = [4,5,6,7,0,1,2]\n",
        "Output: 0\n",
        "Explanation: The original array was [0,1,2,4,5,6,7] and it was rotated 4 times.\n",
        "Example 3:\n",
        "\n",
        "Input: nums = [11,13,15,17]\n",
        "Output: 11\n",
        "Explanation: The original array was [11,13,15,17] and it was rotated 4 times.\n",
        "```"
      ],
      "metadata": {
        "id": "RMNfHGWX9vy1"
      }
    },
    {
      "cell_type": "code",
      "source": [
        "def findMin(nums):\n",
        "  lo, hi =0, len(nums)-1\n",
        "\n",
        "  while lo < hi:\n",
        "    mid = (lo+hi)//2\n",
        "\n",
        "    if nums[mid] < nums[hi]:\n",
        "      hi=mid\n",
        "    else:\n",
        "      lo=mid+1\n",
        "  return lo\n",
        "print(findMin([4,5,6,7,0,1,2]))"
      ],
      "metadata": {
        "colab": {
          "base_uri": "https://localhost:8080/"
        },
        "id": "shcCPwHY91dk",
        "outputId": "3d2addec-9e62-4ce5-e6df-21f263975ba2"
      },
      "execution_count": null,
      "outputs": [
        {
          "output_type": "stream",
          "name": "stdout",
          "text": [
            "4\n"
          ]
        }
      ]
    },
    {
      "cell_type": "markdown",
      "source": [
        "## 162. Find Peak Element\n",
        "\n",
        "A peak element is an element that is strictly greater than its neighbors.\n",
        "\n",
        "Given a 0-indexed integer array nums, find a peak element, and return its index. If the array contains multiple peaks, return the index to any of the peaks.\n",
        "\n",
        "You may imagine that nums[-1] = nums[n] = -∞. In other words, an element is always considered to be strictly greater than a neighbor that is outside the array.\n",
        "\n",
        "You must write an algorithm that runs in O(log n) time.\n",
        "\n",
        "```\n",
        "\n",
        "Example 1:\n",
        "\n",
        "Input: nums = [1,2,3,1]\n",
        "Output: 2\n",
        "Explanation: 3 is a peak element and your function should return the index number 2.\n",
        "Example 2:\n",
        "\n",
        "Input: nums = [1,2,1,3,5,6,4]\n",
        "Output: 5\n",
        "Explanation: Your function can return either index number 1 where the peak element is 2, or index number 5 where the peak element is 6.\n",
        "```\n"
      ],
      "metadata": {
        "id": "rXDakablEIp6"
      }
    },
    {
      "cell_type": "code",
      "source": [
        "# less then 2 items no peak\n",
        "# [1,2,1,3,5,6,4]\n",
        "# mid = 3, so, it must be right side and not this one\n",
        "# [1,2,3,6,5,6,4]\n",
        "\n",
        "def findPeak(nums):\n",
        "  lo, hi = 0, len(nums)-1\n",
        "\n",
        "  while lo < hi:\n",
        "    mid = (lo+hi)//2\n",
        "\n",
        "    if nums[mid] > nums[mid+1]:\n",
        "      hi=mid\n",
        "    else:\n",
        "      lo = mid+1\n",
        "  return lo\n",
        "print(findPeak([1,2,1,3,5,6,4]))\n",
        "print(findPeak([1,2,3,6,5,6,4]))\n",
        "print(findPeak([1,2,1,6,5,6,4]))"
      ],
      "metadata": {
        "colab": {
          "base_uri": "https://localhost:8080/"
        },
        "id": "BLt3sCsoEifH",
        "outputId": "cfc4587b-9cb7-4964-c288-4cdf845801e2"
      },
      "execution_count": null,
      "outputs": [
        {
          "output_type": "stream",
          "name": "stdout",
          "text": [
            "5\n",
            "3\n",
            "1\n"
          ]
        }
      ]
    },
    {
      "cell_type": "markdown",
      "source": [
        "## 702. Search in a Sorted Array of Unknown Size\n",
        "\n",
        "This is an interactive problem.\n",
        "\n",
        "You have a sorted array of unique elements and an unknown size. You do not have an access to the array but you can use the ArrayReader interface to access it. You can call ArrayReader.get(i) that:\n",
        "\n",
        "returns the value at the ith index (0-indexed) of the secret array (i.e., secret[i]), or\n",
        "returns 231 - 1 if the i is out of the boundary of the array.\n",
        "You are also given an integer target.\n",
        "\n",
        "Return the index k of the hidden array where secret[k] == target or return -1 otherwise.\n",
        "\n",
        "You must write an algorithm with O(log n) runtime complexity.\n",
        "\n",
        " ```\n",
        "\n",
        "Example 1:\n",
        "\n",
        "Input: secret = [-1,0,3,5,9,12], target = 9\n",
        "Output: 4\n",
        "Explanation: 9 exists in secret and its index is 4.\n",
        "Example 2:\n",
        "\n",
        "Input: secret = [-1,0,3,5,9,12], target = 2\n",
        "Output: -1\n",
        "Explanation: 2 does not exist in secret so return -1.\n",
        "```"
      ],
      "metadata": {
        "id": "TjO4eaM-GSRG"
      }
    },
    {
      "cell_type": "code",
      "source": [
        "class ArrayReader:\n",
        "  def __init__(self, arr) -> None:\n",
        "    self.arr = arr\n",
        "\n",
        "  def get(self, index):\n",
        "    if index < len(self.arr):\n",
        "      return self.arr[index]\n",
        "    else:\n",
        "      return pow(2,31)-1\n",
        "\n",
        "\n",
        "def search(reader: 'ArrayReader', target: int) -> int:\n",
        "\n",
        "    right = 1\n",
        "    left = 0\n",
        "    while reader.get(right) < target:\n",
        "        left = right\n",
        "        right = right * 2\n",
        "\n",
        "    while left <= right:\n",
        "        mid = (left + right) >> 1\n",
        "\n",
        "        if reader.get(mid) == target:\n",
        "            return mid\n",
        "\n",
        "        if reader.get(mid) > target:\n",
        "            right = mid-1\n",
        "\n",
        "        else:\n",
        "            left = mid+1\n",
        "\n",
        "    return -1\n",
        "arrReader=ArrayReader([1,2,3,4,5,6,8,10,11])\n",
        "res = search(arrReader,5)\n",
        "print(res)\n",
        "print(search(arrReader,78))"
      ],
      "metadata": {
        "colab": {
          "base_uri": "https://localhost:8080/"
        },
        "id": "pZPvhLYcGZJQ",
        "outputId": "353ab40f-40df-46c3-9e82-d36931c80192"
      },
      "execution_count": null,
      "outputs": [
        {
          "output_type": "stream",
          "name": "stdout",
          "text": [
            "4\n",
            "-1\n"
          ]
        }
      ]
    },
    {
      "cell_type": "markdown",
      "source": [
        "## 852. Peak Index in a Mountain Array\n",
        "\n",
        "An array arr is a mountain if the following properties hold:\n",
        "\n",
        "arr.length >= 3\n",
        "There exists some i with 0 < i < arr.length - 1 such that:\n",
        "arr[0] < arr[1] < ... < arr[i - 1] < arr[i]\n",
        "arr[i] > arr[i + 1] > ... > arr[arr.length - 1]\n",
        "Given a mountain array arr, return the index i such that arr[0] < arr[1] < ... < arr[i - 1] < arr[i] > arr[i + 1] > ... > arr[arr.length - 1].\n",
        "\n",
        "You must solve it in O(log(arr.length)) time complexity.\n",
        "\n",
        " ```\n",
        "\n",
        "Example 1:\n",
        "\n",
        "Input: arr = [0,1,0]\n",
        "Output: 1\n",
        "Example 2:\n",
        "\n",
        "Input: arr = [0,2,1,0]\n",
        "Output: 1\n",
        "Example 3:\n",
        "\n",
        "Input: arr = [0,10,5,2]\n",
        "Output: 1\n",
        "```\n",
        "\n"
      ],
      "metadata": {
        "id": "lpSquBTXNc2N"
      }
    },
    {
      "cell_type": "code",
      "source": [
        "from typing import List\n",
        "\n",
        "def peakIndexInMountainArray(arr: List[int]) -> int:\n",
        "    lo, hi = 0, len(arr)-1\n",
        "    # example [0, 1, 0]\n",
        "\n",
        "    while lo < hi:\n",
        "        mid = (lo+hi) >> 1\n",
        "\n",
        "        if arr[mid] > arr[mid+1]:\n",
        "            hi = mid\n",
        "        else:\n",
        "            lo = mid+1\n",
        "\n",
        "    return lo"
      ],
      "metadata": {
        "id": "yhORVaaoNhGa"
      },
      "execution_count": null,
      "outputs": []
    },
    {
      "cell_type": "markdown",
      "source": [
        "## 1095. Find in Mountain Array\n",
        "\n",
        "(This problem is an interactive problem.)\n",
        "\n",
        "You may recall that an array arr is a mountain array if and only if:\n",
        "\n",
        "arr.length >= 3\n",
        "There exists some i with 0 < i < arr.length - 1 such that:\n",
        "arr[0] < arr[1] < ... < arr[i - 1] < arr[i]\n",
        "arr[i] > arr[i + 1] > ... > arr[arr.length - 1]\n",
        "Given a mountain array mountainArr, return the minimum index such that mountainArr.get(index) == target. If such an index does not exist, return -1.\n",
        "\n",
        "You cannot access the mountain array directly. You may only access the array using a MountainArray interface:\n",
        "\n",
        "MountainArray.get(k) returns the element of the array at index k (0-indexed).\n",
        "MountainArray.length() returns the length of the array.\n",
        "Submissions making more than 100 calls to MountainArray.get will be judged Wrong Answer. Also, any solutions that attempt to circumvent the judge will result in disqualification.\n",
        "\n",
        " ```\n",
        "\n",
        "Example 1:\n",
        "\n",
        "Input: array = [1,2,3,4,5,3,1], target = 3\n",
        "Output: 2\n",
        "Explanation: 3 exists in the array, at index=2 and index=5. Return the minimum index, which is 2.\n",
        "Example 2:\n",
        "\n",
        "Input: array = [0,1,2,4,2,1], target = 3\n",
        "Output: -1\n",
        "Explanation: 3 does not exist in the array, so we return -1.\n",
        "```"
      ],
      "metadata": {
        "id": "pHW5-H26N5SK"
      }
    },
    {
      "cell_type": "code",
      "source": [
        "# find peak, then search on left side including peak and right side excluding peak\n",
        "def searchInMountainArray(nums, target):\n",
        "\n",
        "  def findPeak():\n",
        "    lo, hi = 0, len(nums)-1\n",
        "\n",
        "    while lo < hi:\n",
        "      mid = (lo+hi) >> 1\n",
        "      if nums[mid] > nums[mid+1]:\n",
        "        hi = mid\n",
        "      else:\n",
        "        lo = mid+1\n",
        "\n",
        "    return lo\n",
        "\n",
        "\n",
        "  def searchLeft(peak):\n",
        "    # nonlocal peakIndex\n",
        "    lo, hi = 0, peak\n",
        "\n",
        "    while lo < hi:\n",
        "      mid = (lo + hi) >> 1\n",
        "      # print(mid, nums[mid], target)\n",
        "\n",
        "      if nums[mid] < target:\n",
        "        lo = mid + 1 #less than so at least next index\n",
        "      else:\n",
        "        hi = mid # no change in equal case\n",
        "    return lo\n",
        "\n",
        "\n",
        "\n",
        "  def searchRight(peak):\n",
        "    # nonlocal peakIndex\n",
        "    lo, hi = peak+1, len(nums)-1\n",
        "\n",
        "    while lo < hi:\n",
        "      mid = (lo+hi) >> 1\n",
        "\n",
        "      if nums[mid] > target:\n",
        "        lo = mid + 1\n",
        "      else:\n",
        "        hi = mid\n",
        "    return lo\n",
        "\n",
        "  peakIndex = findPeak()\n",
        "  # print(peakIndex)\n",
        "  r = searchLeft(peakIndex)\n",
        "  if r < 0:\n",
        "    r = searchRight(peakIndex)\n",
        "  return r\n",
        "\n",
        "print(searchInMountainArray([1,2,3,4,5,3,1], 2))"
      ],
      "metadata": {
        "colab": {
          "base_uri": "https://localhost:8080/"
        },
        "id": "0hMVToBoOp3M",
        "outputId": "232244e5-a138-4921-cfcf-6d4b90c3ba02"
      },
      "execution_count": null,
      "outputs": [
        {
          "output_type": "stream",
          "name": "stdout",
          "text": [
            "1\n"
          ]
        }
      ]
    },
    {
      "cell_type": "markdown",
      "source": [
        "## 1060. Missing Element in Sorted Array\n"
      ],
      "metadata": {
        "id": "bTKI38mvVXjZ"
      }
    },
    {
      "cell_type": "markdown",
      "source": [
        "## 278. First Bad Version\n",
        "\n",
        "You are a product manager and currently leading a team to develop a new product. Unfortunately, the latest version of your product fails the quality check. Since each version is developed based on the previous version, all the versions after a bad version are also bad.\n",
        "\n",
        "Suppose you have n versions [1, 2, ..., n] and you want to find out the first bad one, which causes all the following ones to be bad.\n",
        "\n",
        "You are given an API bool isBadVersion(version) which returns whether version is bad. Implement a function to find the first bad version. You should minimize the number of calls to the API.\n",
        "\n",
        " ```\n",
        "\n",
        "Example 1:\n",
        "\n",
        "Input: n = 5, bad = 4\n",
        "Output: 4\n",
        "Explanation:\n",
        "call isBadVersion(3) -> false\n",
        "call isBadVersion(5) -> true\n",
        "call isBadVersion(4) -> true\n",
        "Then 4 is the first bad version.\n",
        "Example 2:\n",
        "\n",
        "Input: n = 1, bad = 1\n",
        "Output: 1\n",
        "```"
      ],
      "metadata": {
        "id": "qMpyMm3nVobg"
      }
    },
    {
      "cell_type": "code",
      "source": [
        "## just search left and right\n",
        "\n",
        "def firstBadVersion(n,a):\n",
        "  lo, hi = 0, 5-1\n",
        "\n",
        "\n",
        "  while lo < hi:\n",
        "    mid = (lo + hi) >> 1\n",
        "\n",
        "    if a[mid]:\n",
        "      lo = mid+1\n",
        "    else:\n",
        "      hi=mid\n",
        "  return lo\n",
        "\n",
        "print(firstBadVersion(5,[1,1,1,1,0]))"
      ],
      "metadata": {
        "colab": {
          "base_uri": "https://localhost:8080/"
        },
        "id": "al3zd8-EV5Wa",
        "outputId": "f7eaa613-1431-4e5a-bd32-11f51c1f47fd"
      },
      "execution_count": null,
      "outputs": [
        {
          "output_type": "stream",
          "name": "stdout",
          "text": [
            "4\n"
          ]
        }
      ]
    },
    {
      "cell_type": "markdown",
      "source": [
        "## 275. H-Index II\n",
        "\n",
        "Given an array of integers citations where citations[i] is the number of citations a researcher received for their ith paper and citations is sorted in ascending order, return the researcher's h-index.\n",
        "\n",
        "According to the definition of h-index on Wikipedia: The h-index is defined as the maximum value of h such that the given researcher has published at least h papers that have each been cited at least h times.\n",
        "\n",
        "You must write an algorithm that runs in logarithmic time.\n",
        "\n",
        " ```\n",
        "Example 1:\n",
        "\n",
        "Input: citations = [0,1,3,5,6]\n",
        "Output: 3\n",
        "Explanation: [0,1,3,5,6] means the researcher has 5 papers in total and each of them had received 0, 1, 3, 5, 6 citations respectively.\n",
        "Since the researcher has 3 papers with at least 3 citations each and the remaining two with no more than 3 citations each, their h-index is 3.\n",
        "Example 2:\n",
        "\n",
        "Input: citations = [1,2,100]\n",
        "Output: 2\n",
        "```"
      ],
      "metadata": {
        "id": "jjuIyMWgcK7T"
      }
    },
    {
      "cell_type": "code",
      "source": [
        "def hIndexII(citations):\n",
        "  lo, hi = 0, len(citations)-1\n",
        "\n",
        "  while lo <= hi:\n",
        "    mid = (lo + hi) >> 1\n",
        "\n",
        "    if citations[mid] == hi-mid+1:\n",
        "      return mid\n",
        "    elif citations[mid] < hi-mid+1:\n",
        "      lo = mid+1\n",
        "    else:\n",
        "      hi = mid-1\n",
        "  return -1\n",
        "print(hIndexII([0,1,3,5,6]))"
      ],
      "metadata": {
        "colab": {
          "base_uri": "https://localhost:8080/"
        },
        "id": "6TYrpqIAcXnS",
        "outputId": "adc25bb2-14b9-4c80-ce3f-255a99c72e5b"
      },
      "execution_count": null,
      "outputs": [
        {
          "output_type": "stream",
          "name": "stdout",
          "text": [
            "2\n"
          ]
        }
      ]
    },
    {
      "cell_type": "markdown",
      "source": [
        "## Binary search in matrix (Matrix search I and II)\n",
        "74. Search a 2D Matrix\n",
        "\n",
        "You are given an m x n integer matrix matrix with the following two properties:\n",
        "\n",
        "Each row is sorted in non-decreasing order.\n",
        "The first integer of each row is greater than the last integer of the previous row.\n",
        "Given an integer target, return true if target is in matrix or false otherwise.\n",
        "\n",
        "You must write a solution in O(log(m * n)) time complexity.\n",
        "\n",
        " ```\n",
        "\n",
        "Example 1:\n",
        "\n",
        "Input: matrix =\n",
        "[\n",
        "[1, 3, 5, 7],\n",
        "[10,11,16,20],\n",
        "[23,30,34,60]], target = 3\n",
        "\n",
        "Output: true\n",
        "Example 2:\n",
        "\n",
        "Input: matrix = [[1,3,5,7],[10,11,16,20],[23,30,34,60]], target = 13\n",
        "Output: false\n",
        "```"
      ],
      "metadata": {
        "id": "X9VVfM9nlM-F"
      }
    },
    {
      "cell_type": "code",
      "source": [
        "# as the row and column are sorted and row to row are sorted as well,\n",
        "# we can apply binary search directly\n",
        "\n",
        "def matrixSearch(matrix, k):\n",
        "  rows, cols = len(matrix), len(matrix[0])\n",
        "  # 3 x 4 matrix total 12, so ,index 0 to 11\n",
        "  lo, hi = 0, rows*cols - 1\n",
        "\n",
        "  while lo <= hi:\n",
        "    mid = (lo + hi) >> 1\n",
        "\n",
        "    r, c = divmod(mid, cols)\n",
        "\n",
        "    if matrix[r][c] == k:\n",
        "      return True\n",
        "    elif matrix[r][c] < k:\n",
        "      lo = mid +1\n",
        "    else:\n",
        "      hi = mid-1\n",
        "  return False\n",
        "mat= [[1, 3, 5, 7],\n",
        "[10,11,16,20],\n",
        "[23,30,34,60]]\n",
        "print(matrixSearch(mat, 16))\n",
        "print(matrixSearch(mat, 2))"
      ],
      "metadata": {
        "colab": {
          "base_uri": "https://localhost:8080/"
        },
        "id": "JLnHScNrm9GK",
        "outputId": "362809ac-2b80-4292-fb18-ce4c76210423"
      },
      "execution_count": null,
      "outputs": [
        {
          "output_type": "stream",
          "name": "stdout",
          "text": [
            "True\n",
            "False\n"
          ]
        }
      ]
    },
    {
      "cell_type": "markdown",
      "source": [
        "## 240. Search a 2D Matrix II\n",
        "\n",
        "Write an efficient algorithm that searches for a value target in an m x n integer matrix matrix. This matrix has the following properties:\n",
        "\n",
        "Integers in each row are sorted in ascending from left to right.\n",
        "Integers in each column are sorted in ascending from top to bottom.\n",
        "\n",
        "```\n",
        "Example 1:\n",
        "\n",
        "Input: matrix =\n",
        "[[1,4,7,11,15],\n",
        " [2,5,8,12,19],\n",
        " [3,6,9,16,22],\n",
        " [10,13,14,17,24],\n",
        " [18,21,23,26,30]], target = 5\n",
        "Output: true\n",
        "Example 2:\n",
        "\n",
        "Input: matrix = [[1,4,7,11,15],[2,5,8,12,19],[3,6,9,16,22],[10,13,14,17,24],[18,21,23,26,30]], target = 20\n",
        "Output: false\n",
        "```"
      ],
      "metadata": {
        "id": "DHrKJxsiohDa"
      }
    },
    {
      "cell_type": "code",
      "source": [
        "# [[1,4,7,11,15],\n",
        "#  [2,5,8,12,19],\n",
        "#  [3,6,9,16,22],\n",
        "#  [10,13,14,17,24],\n",
        "#  [18,21,23,26,30]]\n",
        "\n",
        "\"\"\"\n",
        "if we search 16 and start from bottom left corner\n",
        "18 is greater than 16, so, it is gauranted that c=0 does not have that\n",
        "13 is less than 16, gaurantee that last row\n",
        "\"\"\""
      ],
      "metadata": {
        "id": "rT56DJvtpBky"
      },
      "execution_count": null,
      "outputs": []
    },
    {
      "cell_type": "code",
      "source": [
        "def matrixSearchII(matrix, x):\n",
        "  # from the matrix we can see that if we start from left bottom every element on right is greater than it\n",
        "  # every item top is less than.\n",
        "\n",
        "  rows, cols = len(matrix) , len(matrix[0])\n",
        "\n",
        "  r, c = rows-1, 0\n",
        "\n",
        "  while r >=0 and c < rows:\n",
        "    if matrix[r][c] == x:\n",
        "      return True\n",
        "    elif matrix[r][c] > x:\n",
        "      r -=1\n",
        "    else:\n",
        "      c-=1\n",
        "  return False\n",
        "mat = [[1,4,7,11,15],\n",
        " [2,5,8,12,19],\n",
        " [3,6,9,16,22],\n",
        " [10,13,14,17,24],\n",
        " [18,21,23,26,30]]\n",
        "print(matrixSearchII(mat, 19))\n",
        "print(matrixSearchII(mat, 11))"
      ],
      "metadata": {
        "colab": {
          "base_uri": "https://localhost:8080/"
        },
        "id": "YL_zM2LEp8Wq",
        "outputId": "573c9a94-935a-4131-c7b5-9e02239924f1"
      },
      "execution_count": null,
      "outputs": [
        {
          "output_type": "stream",
          "name": "stdout",
          "text": [
            "True\n",
            "False\n"
          ]
        }
      ]
    },
    {
      "cell_type": "markdown",
      "source": [
        "## 4. Median of Two Sorted Arrays\n",
        "\n",
        "Given two sorted arrays nums1 and nums2 of size m and n respectively, return the median of the two sorted arrays.\n",
        "\n",
        "The overall run time complexity should be O(log (m+n)).\n",
        "```\n",
        "Example 1:\n",
        "\n",
        "Input: nums1 = [1,3], nums2 = [2]\n",
        "Output: 2.00000\n",
        "Explanation: merged array = [1,2,3] and median is 2.\n",
        "Example 2:\n",
        "\n",
        "Input: nums1 = [1,2], nums2 = [3,4]\n",
        "Output: 2.50000\n",
        "Explanation: merged array = [1,2,3,4] and median is (2 + 3) / 2 = 2.5.\n",
        "```"
      ],
      "metadata": {
        "id": "CuIX82C60llo"
      }
    },
    {
      "cell_type": "code",
      "source": [
        "def medianTwoSortedArray(A, B):\n",
        "  if len(A) > len(B):\n",
        "    A, B = B, A\n",
        "  total = len(A)+len(B)\n",
        "  half = total//2\n",
        "  # A is always small one\n",
        "\n",
        "  # [1,2,3,4] larger one\n",
        "  # [2,3] smaller one\n",
        "  # total = 6#\n",
        "\n",
        "  '''\n",
        "  target is to operate on small array and see how many elements fall to left and right\n",
        "\n",
        "  '''\n",
        "  lo, hi = 0, len(A)-1\n",
        "\n",
        "  while True:\n",
        "    i = (lo+hi) >>1\n",
        "\n",
        "    j = half-i -2\n",
        "    # 3-1-2 = 0 this is left of big array\n",
        "\n",
        "    aleft = A[i] if i>=0 else float('-inf')\n",
        "    aright = A[i+1] if i+1 < len(A) else float('inf')\n",
        "\n",
        "    bleft = B[j] if j >=0 else float('inf')\n",
        "    bright = B[j+1] if j < len(B) else float('inf')\n",
        "\n",
        "    print(i,j)\n",
        "\n",
        "    if aleft <= bright and bleft <= aright:\n",
        "      if (total & 1):\n",
        "        return min(aright, bright)\n",
        "      else:\n",
        "        # print(aleft, bleft, aright, bright)\n",
        "        return (max(aleft, bleft) + min(aright, bright))/2.\n",
        "    elif aleft > bright:\n",
        "      hi = i-1\n",
        "    else:\n",
        "      lo = i+1\n",
        "\n",
        "\"\"\"\n",
        "dry run\n",
        "B=[1, 3, 5, 7], A=[4,6]\n",
        "total = 6, half = 3\n",
        "\n",
        "step 1:\n",
        "\n",
        "lo=0, hi=1, i = 0, j=3-0-1=1\n",
        "aleft=4, aright=6\n",
        "bleft=3, bright=5\n",
        "aleft < bright and bleft < aleft, so median is 4+5/2=4.5\n",
        "\n",
        "\"\"\"\n",
        "res = medianTwoSortedArray([4,6], [1,3,5,7])\n",
        "print(res)\n",
        "\n",
        "res = medianTwoSortedArray([4,6,7,9,11, 13, 34], [1,3,5,7,8,9,10,11,12,13,14,15,16,17])\n",
        "print(res)"
      ],
      "metadata": {
        "colab": {
          "base_uri": "https://localhost:8080/"
        },
        "id": "96dOnF3t0sSp",
        "outputId": "27e45932-aac2-4700-d953-2bb857f7bd3a"
      },
      "execution_count": null,
      "outputs": [
        {
          "output_type": "stream",
          "name": "stdout",
          "text": [
            "0 1\n",
            "4.5\n",
            "3 5\n",
            "10\n"
          ]
        }
      ]
    },
    {
      "cell_type": "markdown",
      "source": [
        "## Search local minima or maxima\n",
        "\n",
        "## 1060. Missing Element in Sorted Array"
      ],
      "metadata": {
        "id": "kLFVgq_j0rME"
      }
    },
    {
      "cell_type": "markdown",
      "source": [
        "## Interesting binary search problem: Frequency of the most frequent element\n",
        "This can be solved using sliding window but also possible to solve using binary search"
      ],
      "metadata": {
        "id": "mF3Q1GX6Itfx"
      }
    },
    {
      "cell_type": "code",
      "source": [
        "from typing import List\n",
        "class Solution:\n",
        "    def maxFrequency(self, nums: List[int], k: int) -> int:\n",
        "        def check(i):\n",
        "            target = nums[i]\n",
        "            left = 0\n",
        "            right = i\n",
        "            best = i\n",
        "\n",
        "            while left <= right:\n",
        "                mid = (left + right) // 2\n",
        "                count = i - mid + 1\n",
        "                final_sum = count * target\n",
        "                original_sum = prefix[i] - prefix[mid] + nums[mid]\n",
        "                operations_required = final_sum - original_sum\n",
        "\n",
        "                if operations_required > k:\n",
        "                    left = mid + 1\n",
        "                else:\n",
        "                    best = mid\n",
        "                    right = mid - 1\n",
        "\n",
        "            return i - best + 1\n",
        "\n",
        "        nums.sort()\n",
        "        prefix = [nums[0]]\n",
        "\n",
        "        for i in range(1, len(nums)):\n",
        "            prefix.append(nums[i] + prefix[-1])\n",
        "\n",
        "        ans = 0\n",
        "        for i in range(len(nums)):\n",
        "            ans = max(ans, check(i))\n",
        "\n",
        "        return ans\n",
        "obj = Solution()\n",
        "print(obj.maxFrequency([1,2,4], 5))"
      ],
      "metadata": {
        "id": "dp769s9pI0oL",
        "outputId": "5fa1bac1-b057-4bfd-b7df-72d4818e8770",
        "colab": {
          "base_uri": "https://localhost:8080/"
        }
      },
      "execution_count": null,
      "outputs": [
        {
          "output_type": "stream",
          "name": "stdout",
          "text": [
            "3\n"
          ]
        }
      ]
    },
    {
      "cell_type": "markdown",
      "source": [
        "ljslkdf"
      ],
      "metadata": {
        "id": "B9H3wZdwqNlN"
      }
    }
  ]
}