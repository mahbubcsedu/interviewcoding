{
  "nbformat": 4,
  "nbformat_minor": 0,
  "metadata": {
    "colab": {
      "provenance": [],
      "authorship_tag": "ABX9TyPUekLlWNOBS7ShhHmS/Ffq",
      "include_colab_link": true
    },
    "kernelspec": {
      "name": "python3",
      "display_name": "Python 3"
    },
    "language_info": {
      "name": "python"
    }
  },
  "cells": [
    {
      "cell_type": "markdown",
      "metadata": {
        "id": "view-in-github",
        "colab_type": "text"
      },
      "source": [
        "<a href=\"https://colab.research.google.com/github/mahbubcsedu/interviewcoding/blob/main/dp_summary.ipynb\" target=\"_parent\"><img src=\"https://colab.research.google.com/assets/colab-badge.svg\" alt=\"Open In Colab\"/></a>"
      ]
    },
    {
      "cell_type": "markdown",
      "source": [
        "## How to proceed\n",
        "It is very important to find pattern of solving problem in dp\n",
        "Some pattern are well known and some are inferred on how the question is designed \n",
        "Will try to format from different perspective and later will modify that will best suit to my understanding of the approach of the problem\n"
      ],
      "metadata": {
        "id": "e7Q_pCZiE2C6"
      }
    },
    {
      "cell_type": "markdown",
      "source": [
        "## Minimum or maximum path to reach a target\n",
        "1. Minimum Path Sum\n",
        "2. Triangle\n",
        "3. Dungeon Game\n",
        "4. Maximal Square\n",
        "5. Perfect Squares\n",
        "6. Coin Change\n",
        "7. Ones and Zeroes\n",
        "8. 2 Keys Keyboard\n",
        "9. Min Cost Climbing Stairs\n",
        "10. Minimum Number of Refueling Stops\n",
        "11. Minimum Falling Path Sum\n",
        "12. Minimum Cost For Tickets\n",
        "13. Last Stone Weight II\n",
        "14. Tiling a Rectangle with the Fewest Squares\n",
        "\n",
        "\n",
        "Generate problem statement for this pattern\n",
        "\n",
        "### Statement\n",
        "- Given a target find minimum (maximum) cost / path / sum to reach the target.\n",
        "\n",
        "### Approach\n",
        "* Choose minimum (maximum) path among all possible paths before the current state, then add value for the current state.\n",
        "\n",
        "   ``` \n",
        "   routes[i] = min(routes[i-1], routes[i-2], ... , routes[i-k]) + cost[i]\n",
        "   ```\n",
        "\n",
        "Generate optimal solutions for all values in the target and return the value for the target. \n",
        "\n",
        "* Top-Down\n",
        "```java for (int j = 0; j < ways.size(); ++j) {\n",
        "    result = min(result, topDown(target - ways[j]) + cost/ path / sum);\n",
        "} \n",
        "return memo[/*state parameters*/] = result; ```\n",
        "\n",
        "* Bottom-Up\n",
        "```java for (int i = 1; i <= target; ++i) {\n",
        "   for (int j = 0; j < ways.size(); ++j) {\n",
        "       if (ways[j] <= i) {\n",
        "           dp[i] = min(dp[i], dp[i - ways[j]] + cost / path / sum) ;\n",
        "       }\n",
        "   }\n",
        "}\n",
        "return dp[target] \n",
        "```"
      ],
      "metadata": {
        "id": "YCjIU_RSG7w7"
      }
    },
    {
      "cell_type": "code",
      "execution_count": null,
      "metadata": {
        "id": "A5liFqwaEyrN"
      },
      "outputs": [],
      "source": [
        "def minPathSum(self, grid: List[List[int]]) -> int:\n",
        "        dp=[[0]*len(grid[0]) for _ in range(len(grid))]\n",
        "     \n",
        "        for i in range(0,len(grid)):\n",
        "            dp[i][0] = dp[i-1][0]+grid[i][0] if i > 0 else grid[i][0]\n",
        "        for j in range(len(grid[0])):\n",
        "            dp[0][j] = dp[0][j-1]+grid[0][j] if j > 0 else grid[0][j]  \n",
        "\n",
        "        for i in range(1,len(grid)):\n",
        "            for j in range(1,len(grid[0])):\n",
        "                dp[i][j]=grid[i][j]+min(dp[i-1][j], dp[i][j-1])\n",
        "        return dp[len(grid)-1][len(grid[0])-1]"
      ]
    },
    {
      "cell_type": "code",
      "source": [
        "class Solution:\n",
        "    def calculateMinimumHP(self, dungeon: List[List[int]]) -> int:\n",
        "        m, n = len(dungeon), len(dungeon[0])\n",
        "\n",
        "        if m==0:\n",
        "            return 0\n",
        "        dp=[[0]*n for _ in range(m)]\n",
        "\n",
        "        # how much health points requires at the destination\n",
        "        dp[m-1][n-1]= 1 if dungeon[m-1][n-1] > 0 else 1-dungeon[m-1][n-1]\n",
        "\n",
        "        # we will fill out last row and last column as base case, only change\n",
        "        #coming from next row and next column respectively\n",
        "        # once base case ready, we can decide middle elements\n",
        "        # we can get the required cost in transitioning, dp[i+1][n-1] to dp[i][n-1]\n",
        "        # we know the value from dungeon[i][n-1] and we know what would be the final value at dp[i+1][n-1]\n",
        "        for i in range(m-2, -1, -1):\n",
        "            dp[i][n-1] = max(dp[i+1][n-1]-dungeon[i][n-1],1)\n",
        "        for j in range(n-2, -1, -1):\n",
        "            dp[m-1][j] = max(dp[m-1][j+1]-dungeon[m-1][j],1)\n",
        "        \n",
        "        #\n",
        "        for i in range(m-2, -1, -1):\n",
        "            for j in range(n-2, -1, -1):\n",
        "                # min_hp= min(dp[i][j+1], dp[i+1][j])\n",
        "                # we choose whichever is minimum neighbor, as dungeon[i][j] is fixed\n",
        "                dp[i][j] = max(min(dp[i][j+1], dp[i+1][j])-dungeon[i][j],1)\n",
        "        return dp[0][0]\n",
        "\n",
        "# we can also add additional row and col and add 1 to extended row columns last position 1 to handle dungeon[m-1][n-1] value\n",
        "\n",
        "    def calculateMinimumHP2(self, dungeon: List[List[int]]) -> int:\n",
        "        m, n = len(dungeon), len(dungeon[0])\n",
        "        dp = [[math.inf] * (n+1) for _ in range(m+1)]\n",
        "        dp[m-1][n] = dp[m][n-1] = 1\n",
        "\n",
        "        for i in range(m-1, -1, -1):\n",
        "            for j in range(n-1, -1, -1):\n",
        "                val1 = dp[i+1][j] - dungeon[i][j]\n",
        "                val2 = dp[i][j+1] - dungeon[i][j]\n",
        "\n",
        "                if val1 <= 0 or val2 <= 0: dp[i][j] = 1\n",
        "                else: dp[i][j] = min(val1, val2)\n",
        "\n",
        "        return dp[0][0]\n",
        "        \n",
        "# it is also visible that we are comming from top or left, so in reverse, we can even traverse row by row, right to left and then go up and do right to left\n",
        "# last row value will be treated as top to down and and we are processing right to left\n",
        "  def calculateMinimumHP2(self, dungeon: List[List[int]]) -> int:\n",
        "    m = len(dungeon)\n",
        "    n = len(dungeon[0])\n",
        "    dp = [math.inf] * (n + 1)\n",
        "    dp[n - 1] = 1\n",
        "\n",
        "    for i in reversed(range(m)):\n",
        "      for j in reversed(range(n)):\n",
        "        dp[j] = min(dp[j], dp[j + 1]) - dungeon[i][j]\n",
        "        dp[j] = max(dp[j], 1)\n",
        "\n",
        "    return dp[0]"
      ],
      "metadata": {
        "id": "AizXABLcIngD"
      },
      "execution_count": null,
      "outputs": []
    },
    {
      "cell_type": "code",
      "source": [
        "# maximum square\n",
        "# we can see that the square size is depends on min of all possible option from the current location if it is 1\n",
        "class Solution:\n",
        "    def maximalSquare(self, matrix: List[List[str]]) -> int:\n",
        "        m,n=len(matrix), len(matrix[0])\n",
        "\n",
        "        dp=[[0]*n for _ in range(m)]\n",
        "        max_s = 0       \n",
        "        for i in range(m):\n",
        "            dp[i][0] = int(matrix[i][0])\n",
        "            max_s = max(dp[i][0], max_s)\n",
        "        for j in range(n):\n",
        "            dp[0][j] = int(matrix[0][j])\n",
        "            max_s = max(dp[0][j], max_s)\n",
        "        \n",
        "        for i in range(1,m):\n",
        "            for j in range(1,n):\n",
        "                if matrix[i][j]==\"1\":\n",
        "                    dp[i][j] = min(dp[i][j-1], dp[i-1][j], dp[i-1][j-1]) + 1\n",
        "                    max_s = max(dp[i][j], max_s)\n",
        "        return max_s*max_s"
      ],
      "metadata": {
        "id": "8c8VvTvUJENu"
      },
      "execution_count": null,
      "outputs": []
    },
    {
      "cell_type": "code",
      "source": [
        "# perfect square \n",
        "class Solution:\n",
        "    def numSquares(self, n: int) -> int:\n",
        "        # for each number, we will be able to find i-j*j ith value + 1 because j*j is adding another square\n",
        "        # we take all possible number of squares and then chose the minimum\n",
        "        # one example of how we can use dp for 12 = [0, 1, 2, 3, 1, 2, 3, 4, 2, 1, 2, 3, 3]\n",
        "        # for 0, no square, for 1, only 1, for 2, we have 1+1, for 3, 1+1+1, for 4, we have 2*2=4 so 1, for 5,\n",
        "        # we have 4+1, where dp[5-4] = 1 and another one\n",
        "        INF = float('inf')\n",
        "        dp=[INF]*(n+1)\n",
        "        dp[0] = 0\n",
        "        for i in range(1,n+1):\n",
        "            j=1\n",
        "            least=float('inf')\n",
        "            while i-j*j >=0:\n",
        "                least = min(least, dp[i-j*j]+1)\n",
        "                j+=1\n",
        "            dp[i] = least\n",
        "        print(dp)\n",
        "        return dp[n]\n",
        "# there is another algorithm for this \n",
        "squares = set([i ** 2 for i in range(100)])\n",
        "\n",
        "# there are other way to solve this [take a look of those, one example here O(sqrt(n)) and memory O(1)]\n",
        "def numSquares(self, n: int) -> int:\n",
        "        # https://en.wikipedia.org/wiki/Lagrange%27s_four-square_theorem\n",
        "        if n in squares: return 1\n",
        "        for square in squares:\n",
        "            if n - square in squares:\n",
        "                return 2\n",
        "        for square in squares:\n",
        "            d = n - square\n",
        "            for square2 in squares:\n",
        "                if d - square2 in squares:\n",
        "                    return 3\n",
        "        return 4"
      ],
      "metadata": {
        "id": "lsPHY2MpVnf8"
      },
      "execution_count": null,
      "outputs": []
    },
    {
      "cell_type": "code",
      "source": [
        "# coin change problem is also in this category\n",
        "# also we can think of unbounded knapsack\n",
        "class Solution:\n",
        "    def coinChange(self, coins: List[int], amount: int) -> int:  \n",
        "        dp=[float('inf')]*(amount+1)\n",
        "        dp[0]=0\n",
        "\n",
        "        for coin in coins:\n",
        "            for i in range(coin, amount+1):\n",
        "                    dp[i] = min(dp[i], dp[i-coin]+1)\n",
        "        \n",
        "        return dp[amount] if dp[amount] != float('inf') else -1\n"
      ],
      "metadata": {
        "id": "8Cnz6aprZgLU"
      },
      "execution_count": null,
      "outputs": []
    },
    {
      "cell_type": "code",
      "source": [
        "#ones and zeroes\n",
        "class Solution:\n",
        "    def findMaxForm(self, strs: List[str], m: int, n: int) -> int:\n",
        "        l=len(strs)\n",
        "        # we are given a list of strings and we will find the max num of strings that can be included\n",
        "        # following the contraints. So, this is also knapsack bounded, we can take it or leave for the \n",
        "        # sake of getting max\n",
        "        # we will create a dp and will process from right to left as we need to make sure how\n",
        "        # many zeors and ones are left\n",
        "        dp=[[0] * (n+1) for _ in range(m+1)]\n",
        "\n",
        "        for s in strs:\n",
        "            count = collections.Counter(s)\n",
        "            for zeroes in range(m, count['0']-1, -1):\n",
        "                for ones in range(n, count['1']-1,-1):\n",
        "                    dp[zeroes][ones] = max(dp[zeroes][ones], 1+dp[zeroes-count['0']][ones-count['1']])\n",
        "        return dp[m][n]"
      ],
      "metadata": {
        "id": "EdLMLr-ZrQhv"
      },
      "execution_count": null,
      "outputs": []
    },
    {
      "cell_type": "code",
      "source": [
        "# Keyboard copy paste\n",
        "class Solution:\n",
        "    def minSteps(self, n: int) -> int:\n",
        "        # for 0, 0\n",
        "        # for 1, 0\n",
        "        # for 2, need at least two copy paste\n",
        "        # for 3, need copy, paste and paste\n",
        "        # for 4, all the way 3, and paste, if from 2, then paste, from 1, 3 paste\n",
        "\n",
        "        if n==1:\n",
        "            return 0\n",
        "        if n==2:\n",
        "            return 2\n",
        "        INF = float('inf')\n",
        "\n",
        "        dp = [INF] * (n+1)\n",
        "        dp[0] = 0\n",
        "        dp[1] = 0\n",
        "        dp[2] = 2\n",
        "\n",
        "        for i in range(3, n+1):\n",
        "            minimum = INF\n",
        "            for j in range(1,i):\n",
        "                if not (i-j)%j:\n",
        "                    # if we already know dp[j]\n",
        "                    # from j to i, or i-j, we can do one copy of j length and then paste that (i-j)//j\n",
        "                    # for 4, if j=1, the copy A and paste it 4-1=3//1=3\n",
        "                    # for j=2, copy AA, and then paste 4-2=2/2=1\n",
        "                    minimum = min(dp[i], dp[j] + 1 + (i-j)//j)\n",
        "            dp[i] = min(dp[i], minimum)\n",
        "        return dp[n]\n",
        "# best solution is the math"
      ],
      "metadata": {
        "id": "eLs8-7IO0vfd"
      },
      "execution_count": null,
      "outputs": []
    },
    {
      "cell_type": "code",
      "source": [
        "#mini cost climb stairs\n",
        "class Solution:\n",
        "    def minCostClimbingStairs(self, cost: List[int]) -> int:\n",
        "        n = len(cost)\n",
        "        dp=[0]*(n+1)\n",
        "        dp[0] = 0\n",
        "        dp[1] = 0\n",
        "\n",
        "        for i in range(2, n+1):\n",
        "            dp[i] = min(dp[i-1] + cost[i-1], dp[i-2]+ cost[i-2])\n",
        "        return dp[n]\n",
        "# Hints: you have to go top, not the last stair"
      ],
      "metadata": {
        "id": "MRHQSRiKHrKR"
      },
      "execution_count": null,
      "outputs": []
    },
    {
      "cell_type": "code",
      "source": [
        "# minimum refueling stations\n",
        "class Solution:\n",
        "    def minRefuelStops(self, target: int, startFuel: int, stations: List[List[int]]) -> int:\n",
        "        # pick with max fuel within range\n",
        "        # example target = 100, startFuel = 10, stations = [[10,60],[20,30],[30,30],[60,40]]\n",
        "        # find max from farthest it can go with current fuel\n",
        "        \n",
        "        # step1: it can go to first stop and refuel, now tank=60, it can go 2nd, 3rd, and 4th, find and need 40more from last stop\n",
        "        # but it has two state variable, distance and fuel, how to maximize\n",
        "        # our goal is to find, if we pick the curent station, how far we will be able to get to\n",
        "        # for example, if we pick first gas station, how far we will be able to get to dp[t] + cap if dp[t] >= loc to reach to current station\n",
        "        # if it cannot reach current, then we can not take advantage of current stations\n",
        "        \n",
        "        n= len(stations)\n",
        "        dp=[0] * (n+1)\n",
        "        dp[0] = startFuel\n",
        "\n",
        "        for i, (loc, cap) in enumerate(stations):\n",
        "            for t in range(i, -1, -1): # check from which station we can reach current and using current how far each stations can go, \n",
        "            # if current is station 2, then if we take station 1, and it can reach to 2 and take gas, then at dp[1] we can say, it can goes 1st location + total gas at hand plust current\n",
        "                if dp[t] >= loc: # if we are able to reach loc with dt[t], then take max from possible options\n",
        "                    dp[t+1] = max(dp[t+1], dp[t] + cap)\n",
        "                    # print(dp)\n",
        "        for i, d in enumerate(dp):\n",
        "            if d >=target: \n",
        "                return i\n",
        "        return -1\n",
        "# Hints, this is not the best solution, take a look at using heap"
      ],
      "metadata": {
        "id": "crNWM2wsUzOi"
      },
      "execution_count": null,
      "outputs": []
    },
    {
      "cell_type": "code",
      "source": [
        "## Minimum falling path sum\n",
        "class Solution:\n",
        "    def minFallingPathSum(self, matrix: List[List[int]]) -> int:\n",
        "        # [2,1,3],\n",
        "        # [6,5,4],\n",
        "        # [7,8,9]\n",
        "\n",
        "        # # dp\n",
        "        # 2, 1, 3\n",
        "        # 7, 6, 5\n",
        "        # 13, 13, 14 min of this row\n",
        "        m, n = len(matrix), len(matrix[0])\n",
        "        dp=[[float('inf')] * n  for _ in range(m)]\n",
        "\n",
        "        dp[0]=matrix[0]\n",
        "\n",
        "        for i in range(1,m):\n",
        "            for j in range(n):\n",
        "                v= matrix[i][j]\n",
        "                dp[i][j] = v + min(dp[i-1][j], dp[i-1][j-1] if j-1 >=0 else float('inf'), dp[i-1][j+1] if j+1 < n else float('inf'))\n",
        "        \n",
        "        return min(dp[m-1])"
      ],
      "metadata": {
        "id": "nw14sLhpbYMT"
      },
      "execution_count": null,
      "outputs": []
    }
  ]
}