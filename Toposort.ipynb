{
  "nbformat": 4,
  "nbformat_minor": 0,
  "metadata": {
    "colab": {
      "provenance": [],
      "authorship_tag": "ABX9TyPo9xplXvGTuEs++I0s/3bd",
      "include_colab_link": true
    },
    "kernelspec": {
      "name": "python3",
      "display_name": "Python 3"
    },
    "language_info": {
      "name": "python"
    }
  },
  "cells": [
    {
      "cell_type": "markdown",
      "metadata": {
        "id": "view-in-github",
        "colab_type": "text"
      },
      "source": [
        "<a href=\"https://colab.research.google.com/github/mahbubcsedu/interviewcoding/blob/main/Toposort.ipynb\" target=\"_parent\"><img src=\"https://colab.research.google.com/assets/colab-badge.svg\" alt=\"Open In Colab\"/></a>"
      ]
    },
    {
      "cell_type": "markdown",
      "source": [
        "[LC-207 Course Schedule](https://leetcode.com/problems/course-schedule)\n",
        "\n",
        "[course-schedule-ii](https://leetcode.com/problems/course-schedule-ii/)"
      ],
      "metadata": {
        "id": "D6FNGDZwQ2ZQ"
      }
    },
    {
      "cell_type": "code",
      "execution_count": null,
      "metadata": {
        "id": "vlNaiLH4Joxt"
      },
      "outputs": [],
      "source": [
        "# Course can finish?\n",
        "\n",
        "# one method is to find cycle in the graph using dfs\n",
        "# need to create a graph where prereqisti will be the neigbors of the course\n",
        "# we can keep track of that using a hash pre\n",
        "\n",
        "# But as part of topo, this problem is best suited by top sort\n",
        "\n",
        "def canFinish(numCourse, prerequisite):\n",
        "  indegree = {c:0 for c in range(numCourse)} # put indegree for all nodes\n",
        "\n",
        "  g = collections.defaultdict(list)\n",
        "  q = collections.deque()\n",
        "  \n",
        "  for crs, pre in prerequisites:\n",
        "    g[pre].append(crs)\n",
        "    indegree[crs] +=1\n",
        "    \n",
        "  #our graph is ready, lets add indegree 0 to the queue\n",
        "  for i in range(numCourse):\n",
        "    if indegree[i] ==0:\n",
        "      q.append(i)\n",
        "  \n",
        "  order = []\n",
        "  while q:\n",
        "    node = q.popleft()\n",
        "    order.append(node)\n",
        "\n",
        "    for nei in g[node]:\n",
        "      indegree[nei] -=1\n",
        "      if indegree[nei] ==0:\n",
        "        q.append(nei)\n",
        "  return len(order) == numCourse"
      ]
    },
    {
      "cell_type": "code",
      "source": [
        "class Solution:\n",
        "    def findOrder(numCourses: int, prerequisites: List[List[int]]) -> List[int]:\n",
        "        indegree = {c: 0 for c in range(numCourses)}\n",
        "\n",
        "        g = collections.defaultdict(list)\n",
        "        \n",
        "        for nxt, pre in prerequisites:\n",
        "            g[pre].append(nxt)\n",
        "            indegree[nxt] +=1\n",
        "        \n",
        "        order=[]\n",
        "        q = collections.deque()\n",
        "        \n",
        "        for i in range(numCourses):\n",
        "            if indegree[i]==0:\n",
        "                q.append(i)\n",
        "        \n",
        "        while q:\n",
        "            node = q.popleft()\n",
        "            order.append(node)\n",
        "\n",
        "            for neighbor in g[node]:\n",
        "                indegree[neighbor] -=1\n",
        "                if indegree[neighbor]==0:\n",
        "                    q.append(neighbor)\n",
        "                    \n",
        "        return order if len(order)==numCourses else []"
      ],
      "metadata": {
        "id": "5ZoH3g3pRglm"
      },
      "execution_count": null,
      "outputs": []
    },
    {
      "cell_type": "code",
      "source": [
        "# The concept of minimum height tree is we can remove two degree or edges while traversing as the graph is not directed \n",
        "# when we add two way connection, removing requires to remove both of them\n",
        "# if two nodes are left, we can return that two nodes\n",
        "# we will take all leaves node from q to an array and remove one of the edge first\n",
        "# then we travers as normal graph neighbor of g[leaf] and remove another, this way both edges will be removed\n",
        "# after doing this, the last round leaves wil be the result\n",
        "# the reason is clear, if we have even length, we will have one, but odd lengths longest path, result will be two\n",
        "class Solution:\n",
        "    def findMinHeightTrees( n: int, edges: List[List[int]]) -> List[int]:\n",
        "\n",
        "        if n <=2:\n",
        "            return [i for i in range(n)]\n",
        "\n",
        "        indegre = {c:0 for c in range(n)}\n",
        "        g=collections.defaultdict(list)\n",
        "\n",
        "        q=collections.deque()\n",
        "\n",
        "        for u, v in edges:\n",
        "            g[u].append(v)\n",
        "            g[v].append(u)\n",
        "            indegre[u] +=1\n",
        "            indegre[v] +=1\n",
        "        \n",
        "        for i in range(n):\n",
        "            if indegre[i]==1:\n",
        "                q.append(i)\n",
        "        # remaining_nodes = n\n",
        "        leaves=[]\n",
        "        while q:\n",
        "            # node = q.popleft()\n",
        "            leaves=[]\n",
        "            while q:\n",
        "                leaves.append(q.popleft())\n",
        "\n",
        "            for leaf in leaves:\n",
        "                indegre[leaf] -=1\n",
        "\n",
        "                for neighbor in g[leaf]:\n",
        "                    indegre[neighbor] -=1\n",
        "\n",
        "                    if indegre[neighbor]==1:\n",
        "                        q.append(neighbor)\n",
        "        \n",
        "        return leaves\n"
      ],
      "metadata": {
        "id": "wxseEzRmRtsy"
      },
      "execution_count": null,
      "outputs": []
    },
    {
      "cell_type": "code",
      "source": [
        "#Alien dictionary\n",
        "\n",
        "class Solution:\n",
        "    def alienOrder(self, words: List[str]) -> str:\n",
        "        degree = {key: 0 for key in set(''.join(words))}\n",
        "        graph = collections.defaultdict(list)\n",
        "\n",
        "        # build graph for topological sort\n",
        "        for w1, w2 in zip(words, words[1:]):\n",
        "            \n",
        "            # for-else loop in python, when for does not encounter any break, \n",
        "            # mean all c1,c2 is matched, but c2 has more elements\n",
        "            for c1, c2 in zip(w1,w2):\n",
        "                if c1 != c2:\n",
        "                    degree[c2] += 1\n",
        "                    graph[c1].append(c2)\n",
        "                    break\n",
        "            else:\n",
        "                if len(w1) > len(w2): return \"\"  # if abc, ab, then invalid, ab, aba, abc is valid\n",
        "\n",
        "        lst_no_dep = [ x for x in degree.keys() if degree[x] == 0]\n",
        "\n",
        "        # Topological sort\n",
        "        stk = []\n",
        "        while lst_no_dep:\n",
        "            ch = lst_no_dep.pop()\n",
        "            stk.append(ch)\n",
        "            for ch_greater in graph[ch]:\n",
        "                degree[ch_greater] -= 1\n",
        "                if degree[ch_greater] == 0:\n",
        "                    lst_no_dep.append(ch_greater)\n",
        "\n",
        "        return ''.join(stk) if len(stk) == len(degree) else ''\n",
        "\t\t"
      ],
      "metadata": {
        "id": "_2jyggS_TLsB"
      },
      "execution_count": null,
      "outputs": []
    }
  ]
}