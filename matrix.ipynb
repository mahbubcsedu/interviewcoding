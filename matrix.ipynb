{
  "nbformat": 4,
  "nbformat_minor": 0,
  "metadata": {
    "colab": {
      "provenance": [],
      "toc_visible": true,
      "authorship_tag": "ABX9TyNV0vO2tTvcG1J+G09eX3//",
      "include_colab_link": true
    },
    "kernelspec": {
      "name": "python3",
      "display_name": "Python 3"
    },
    "language_info": {
      "name": "python"
    }
  },
  "cells": [
    {
      "cell_type": "markdown",
      "metadata": {
        "id": "view-in-github",
        "colab_type": "text"
      },
      "source": [
        "<a href=\"https://colab.research.google.com/github/mahbubcsedu/interviewcoding/blob/main/matrix.ipynb\" target=\"_parent\"><img src=\"https://colab.research.google.com/assets/colab-badge.svg\" alt=\"Open In Colab\"/></a>"
      ]
    },
    {
      "cell_type": "markdown",
      "source": [
        ">>[Spiral matrix -- traverse matrix in spiral order](#scrollTo=4xOzip7b4eJO)\n",
        "\n",
        ">>[Spiral Matrix II- create a matrix in spiral order](#scrollTo=bEEqsvyemK4H)\n",
        "\n",
        ">>[Search in a matrix (sorted row , sorted column)](#scrollTo=cBznVp9ImF-g)\n",
        "\n",
        ">>[Search in a 2D matrix](#scrollTo=tpDniIPVOIEf)\n",
        "\n",
        ">>[Rotate matrix](#scrollTo=HnfLfcFuOMJP)\n",
        "\n",
        ">>[Rotate Image](#scrollTo=ag3cyzN7OKWw)\n",
        "\n",
        ">>[Spiral Matrix III](#scrollTo=aD0ZCoSRbRWS)\n",
        "\n"
      ],
      "metadata": {
        "colab_type": "toc",
        "id": "CcloE5w8O3Wp"
      }
    },
    {
      "cell_type": "markdown",
      "source": [
        "## Spiral matrix -- traverse matrix in spiral order\n"
      ],
      "metadata": {
        "id": "4xOzip7b4eJO"
      }
    },
    {
      "cell_type": "code",
      "execution_count": null,
      "metadata": {
        "id": "Gu-K8Wnq4b8x",
        "colab": {
          "base_uri": "https://localhost:8080/"
        },
        "outputId": "43a3d79e-0e49-497f-ecce-309f0abe9d01"
      },
      "outputs": [
        {
          "output_type": "stream",
          "name": "stdout",
          "text": [
            "[1, 2, 3, 4, 5, 6, 7, 8, 9]\n"
          ]
        }
      ],
      "source": [
        "from typing import List\n",
        "def spiralOrder(matrix: List[List[int]]) -> List[int]:\n",
        "    #value range is given or can be asked, and set SENTINEL to value that is not part of the matrix\n",
        "    # there are 4 directions, 00,01,10,11, 100 & 11 =00, 101 & 3 =01, 110 & 11 =10, 111 & 11=11\n",
        "    shift = ((0,1), (1,0), (0,-1),(-1,0))\n",
        "    SENTINEL=1000\n",
        "    direction = x = y =0\n",
        "    res = []\n",
        "    m, n = len(matrix), len(matrix[0])\n",
        "\n",
        "    for _ in range(m*n):\n",
        "            res.append(matrix[x][y])\n",
        "            matrix[x][y]=SENTINEL\n",
        "\n",
        "            next_x, next_y = shift[direction][0]+x, shift[direction][1]+y\n",
        "\n",
        "            if next_x not in range(m) or next_y not in range(n) \\\n",
        "            or matrix[next_x][next_y] == SENTINEL:\n",
        "                direction = (direction +1) & 3\n",
        "                next_x, next_y = shift[direction][0]+x, shift[direction][1]+y\n",
        "            x, y = next_x, next_y\n",
        "    return res\n",
        "print(spiralOrder([[1, 2, 3], [8, 9, 4], [7, 6, 5]]))"
      ]
    },
    {
      "cell_type": "markdown",
      "source": [
        "## Spiral Matrix II- create a matrix in spiral order"
      ],
      "metadata": {
        "id": "bEEqsvyemK4H"
      }
    },
    {
      "cell_type": "code",
      "source": [
        "from typing import List\n",
        "def spiralOrderCreate(n:int) -> List[List[int]]:\n",
        "    #value range is given or can be asked, and set SENTINEL to value that is not part of the matrix\n",
        "    # there are 4 directions, 00,01,10,11, 100 & 11 =00, 101 & 3 =01, 110 & 11 =10, 111 & 11=11\n",
        "    shift = ((0,1), (1,0), (0,-1),(-1,0))\n",
        "    SENTINEL=1000\n",
        "    direction = x = y =0\n",
        "    matrix = [[SENTINEL]*n for _ in range(n)]\n",
        "\n",
        "\n",
        "    for i in range(n*n):\n",
        "            matrix[x][y]=i+1\n",
        "\n",
        "            next_x, next_y = shift[direction][0]+x, shift[direction][1]+y\n",
        "\n",
        "            if next_x not in range(n) or next_y not in range(n) or matrix[next_x][next_y] != SENTINEL:\n",
        "                direction = (direction +1) & 3\n",
        "                next_x, next_y = shift[direction][0]+x, shift[direction][1]+y\n",
        "            x, y = next_x, next_y\n",
        "    return matrix\n",
        "print(spiralOrderCreate(3))"
      ],
      "metadata": {
        "colab": {
          "base_uri": "https://localhost:8080/"
        },
        "id": "M2OmwAaVkyn2",
        "outputId": "2086b121-7619-4825-a4e5-c49aba8ff454"
      },
      "execution_count": null,
      "outputs": [
        {
          "output_type": "stream",
          "name": "stdout",
          "text": [
            "[[1, 2, 3], [8, 9, 4], [7, 6, 5]]\n"
          ]
        }
      ]
    },
    {
      "cell_type": "markdown",
      "source": [
        "## Search in a matrix (sorted row , sorted column)\n"
      ],
      "metadata": {
        "id": "cBznVp9ImF-g"
      }
    },
    {
      "cell_type": "markdown",
      "source": [
        "## Search in a 2D matrix\n",
        "sorted row, column but like last column of i-1-th row is less than first column of ith row\n"
      ],
      "metadata": {
        "id": "tpDniIPVOIEf"
      }
    },
    {
      "cell_type": "markdown",
      "source": [
        "## Rotate matrix\n",
        "\n",
        "  1, 2 3 \\\n",
        "  4,5,6 \\\n",
        "  7,8,9 \\\n",
        "\n",
        "7, 8, 9 \\\n",
        "4,5,6 \\\n",
        "1,2,3 \\\n",
        "\n",
        "7, 4, 1 \\\n",
        "8, 5, 2 \\\n",
        "9, 6, 3 \\\n",
        "\n",
        "Let MMM be the number of cells in the grid.\n",
        "\n",
        "Time complexity: $$O(M)\\mathcal{O}(M)O(M)$$. We perform two steps; transposing the matrix, and then reversing each row. Transposing the matrix has a cost of O(M)\\mathcal{O}(M)O(M) because we're moving the value of each cell once. Reversing each row also has a cost of O(M)\\mathcal{O}(M)O(M), because again we're moving the value of each cell once.\n",
        "\n",
        "Space complexity: O(1)\\mathcal{O}(1)O(1) because we do not use any other additional data structures."
      ],
      "metadata": {
        "id": "HnfLfcFuOMJP"
      }
    },
    {
      "cell_type": "markdown",
      "source": [
        "## Rotate Image\n"
      ],
      "metadata": {
        "id": "ag3cyzN7OKWw"
      }
    },
    {
      "cell_type": "code",
      "source": [
        "def rotateImage(matrix):\n",
        "  n=len(matrix)\n",
        "  for i in range(len(matrix)//2):\n",
        "    matrix[i], matrix[n-i-1] = matrix[n-i-1], matrix[i]\n",
        "\n",
        "  print(matrix)\n",
        "\n",
        "  for i in range(0,n):\n",
        "    for j in range(i,n):\n",
        "      matrix[i][j], matrix[j][i] = matrix[j][i], matrix[i][j]\n",
        "  return matrix\n",
        "image=[[1,2,3],[4,5,6],[7,8,9]]\n",
        "print(rotateImage(image))"
      ],
      "metadata": {
        "colab": {
          "base_uri": "https://localhost:8080/"
        },
        "id": "lHOsQL_DnSIY",
        "outputId": "4307f406-a426-4c43-ec4f-9f39ede39812"
      },
      "execution_count": null,
      "outputs": [
        {
          "output_type": "stream",
          "name": "stdout",
          "text": [
            "[[7, 8, 9], [4, 5, 6], [1, 2, 3]]\n",
            "[[7, 4, 1], [8, 5, 2], [9, 6, 3]]\n"
          ]
        }
      ]
    },
    {
      "cell_type": "markdown",
      "source": [
        "## Spiral Matrix III\n",
        "You start at the cell (rStart, cStart) of an rows x cols grid facing east. The northwest corner is at the first row and column in the grid, and the southeast corner is at the last row and column.\n",
        "\n",
        "You will walk in a clockwise spiral shape to visit every position in this grid. Whenever you move outside the grid's boundary, we continue our walk outside the grid (but may return to the grid boundary later.). Eventually, we reach all rows * cols spaces of the grid.\n",
        "\n",
        "Return an array of coordinates representing the positions of the grid in the order you visited them.\n",
        "\n",
        "**Solution**:\n",
        "\n",
        "Intuition\n",
        "Initially, we are located at the coordinates rStart and cStart and must make our first movement toward the East. Let's simulate the clockwise movement and note the distances moved with each direction to identify any patterns:\n",
        "\n",
        "Move 1 unit towards the East.\n",
        "Move 1 unit towards the South.\n",
        "Move 2 units towards the West.\n",
        "Move 2 units towards the North.\n",
        "Move 3 units towards the East.\n",
        "Move 3 units towards the South.\n",
        "Move 4 units towards the West.\n",
        "Move 4 units towards the North.\n",
        "and so on...\n",
        "We observe a pattern where distances are covered in pairs of directions, increasing the distance by 1 after each pair. Specifically, we move in the order of East, South, West, and North, increasing the distance after every pair.\n",
        "\n",
        "To implement this, we can store the directional movements in an array: for instance, East corresponds to (x+0, y+1) and South to (x+1, y+0). We then simulate the process by taking two directions simultaneously and increasing the step size after every pair. If the current cell lies within the matrix, we append it to the traversed matrix. We return traversed once all matrix cells have been covered."
      ],
      "metadata": {
        "id": "aD0ZCoSRbRWS"
      }
    },
    {
      "cell_type": "code",
      "source": [
        "from typing import List\n",
        "class Solution:\n",
        "    def spiralMatrixIII(self, rows: int, cols: int, rStart: int, cStart: int) -> List[List[int]]:\n",
        "        result = []\n",
        "        directions = [(0, 1), (1, 0), (0, -1), (-1, 0)]  # East, South, West, North\n",
        "        # direction_index = 0  # Start facing East\n",
        "\n",
        "        step = 1\n",
        "        direction = 0\n",
        "\n",
        "        while len(result) < rows * cols:\n",
        "            for _ in range(2):\n",
        "                for _ in range(step):\n",
        "                    if(rStart >=0 and rStart < rows and cStart >=0 and cStart < cols):\n",
        "                        result.append([rStart, cStart])\n",
        "                    rStart += directions[direction][0]\n",
        "                    cStart += directions[direction][1]\n",
        "                direction = (direction+1) & 3\n",
        "            step +=1\n",
        "        return result\n",
        "obj = Solution()\n",
        "print(obj.spiralMatrixIII(1, 4, 0, 0))\n",
        "print(obj.spiralMatrixIII(5, 6, 1, 4))"
      ],
      "metadata": {
        "colab": {
          "base_uri": "https://localhost:8080/"
        },
        "id": "9JAXgne5bd-U",
        "outputId": "ed2bf3ff-9658-486c-a09e-a6b33819c67c"
      },
      "execution_count": 4,
      "outputs": [
        {
          "output_type": "stream",
          "name": "stdout",
          "text": [
            "[[0, 0], [0, 1], [0, 2], [0, 3]]\n",
            "[[1, 4], [1, 5], [2, 5], [2, 4], [2, 3], [1, 3], [0, 3], [0, 4], [0, 5], [3, 5], [3, 4], [3, 3], [3, 2], [2, 2], [1, 2], [0, 2], [4, 5], [4, 4], [4, 3], [4, 2], [4, 1], [3, 1], [2, 1], [1, 1], [0, 1], [4, 0], [3, 0], [2, 0], [1, 0], [0, 0]]\n"
          ]
        }
      ]
    }
  ]
}