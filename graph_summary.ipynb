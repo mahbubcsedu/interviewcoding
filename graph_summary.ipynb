{
  "nbformat": 4,
  "nbformat_minor": 0,
  "metadata": {
    "colab": {
      "provenance": [],
      "authorship_tag": "ABX9TyOcXEfOURZGLnaNxGzC2TK7",
      "include_colab_link": true
    },
    "kernelspec": {
      "name": "python3",
      "display_name": "Python 3"
    },
    "language_info": {
      "name": "python"
    }
  },
  "cells": [
    {
      "cell_type": "markdown",
      "metadata": {
        "id": "view-in-github",
        "colab_type": "text"
      },
      "source": [
        "<a href=\"https://colab.research.google.com/github/mahbubcsedu/interviewcoding/blob/main/graph_summary.ipynb\" target=\"_parent\"><img src=\"https://colab.research.google.com/assets/colab-badge.svg\" alt=\"Open In Colab\"/></a>"
      ]
    },
    {
      "cell_type": "markdown",
      "source": [
        "### BFS problems\n",
        "* Flood Fill: https://leetcode.com/problems/flood-fill/\n",
        "* Number of Islands: https://leetcode.com/problems/number-of-islands/\n",
        "* Word Ladder I: https://leetcode.com/problems/word-ladder/\n",
        "* Word Ladder II: https://leetcode.com/problems/word-ladder-ii/\n",
        "* Evaluate Division: https://leetcode.com/problems/evaluate-division/\n",
        "* Get Watched Videos by Your Friends: https://leetcode.com/problems/get-watched-videos-by-your-friends/\n",
        "* Cut Off Trees for Golf Event: https://leetcode.com/problems/cut-off-trees-for-golf-event/\n",
        "\n",
        "\n",
        "### DFS problems\n",
        "* Number of Islands: https://leetcode.com/problems/number-of-islands/\n",
        "* Flood Fill: https://leetcode.com/problems/flood-fill/\n",
        "* Longest Increasing Path in a Matrix: https://leetcode.com/problems/longest-increasing-path-in-a-matrix/\n",
        "* Evaluate Division: https://leetcode.com/problems/evaluate-division/\n",
        "* Robot Room Cleaner: https://leetcode.com/problems/robot-room-cleaner/\n",
        "* Most Stones Removed with Same Row or Column: https://leetcode.com/problems/most-stones-removed-with-same-row-or-column/\n",
        "* Reconstruct Itinerary: https://leetcode.com/problems/reconstruct-itinerary/\n",
        "* Tree Diameter: https://leetcode.com/problems/tree-diameter/\n",
        "* Accounts Merge: https://leetcode.com/problems/accounts-merge/\n",
        "\n",
        "### Connected components problems\n",
        "* Number of Provinces: https://leetcode.com/problems/number-of-provinces/\n",
        "* Number of Connected Components in an Undirected Graph: https://leetcode.com/problems/number-of-connected-components-in-an-undirected-graph/\n",
        "* Number of Operations to Make Network Connected: https://leetcode.com/problems/number-of-operations-to-make-network-connected/\n",
        "* Accounts Merge: https://leetcode.com/problems/accounts-merge/\n",
        "* Articulation edge by Tarjans algorithm: Critical Connections in a Network: https://leetcode.com/problems/critical-connections-in-a-network/\n",
        "\n",
        "### Dijkstra's problems\n",
        "* Path With Maximum Minimum Valued: https://leetcode.com/problems/path-with-maximum-minimum-value/\n",
        "* Network delay time: https://leetcode.com/problems/network-delay-time/\n",
        "* Path with Maximum Probability: https://leetcode.com/problems/path-with-maximum-probability/\n",
        "* Path With Minimum Effort: https://leetcode.com/problems/path-with-minimum-effort/\n",
        "* Cheapest Flights Within K Stops: https://leetcode.com/problems/cheapest-flights-within-k-stops/\n",
        "\n",
        "### Union Find problems\n",
        "* Number of Islands: https://leetcode.com/problems/number-of-islands/\n",
        "* Largest Component Size by Common Factor: https://leetcode.com/problems/largest-component-size-by-common-factor/\n",
        "* Most Stones Removed with Same Row or Column: https://leetcode.com/problems/most-stones-removed-with-same-row-or-column/\n",
        "* Number of Connected Components in an Undirected Graph: https://leetcode.com/problems/number-of-connected-components-in-an-undirected-graph/\n",
        "* Number of island II https://leetcode.com/problems/number-of-islands-ii/\n",
        "\n",
        "### Minimum Spanning Tree problems\n",
        "\n",
        "* Connecting Cities With Minimum Cost: https://leetcode.com/problems/connecting-cities-with-minimum-cost/\n",
        "* Min Cost to Connect All Points: https://leetcode.com/problems/min-cost-to-connect-all-points/\n",
        "\n",
        "### Topological sort problems\n",
        "* Course Schedule : https://leetcode.com/problems/course-schedule/\n",
        "* Course Schedule II: https://leetcode.com/problems/course-schedule-ii/\n",
        "* Sequence Reconstruction: https://leetcode.com/problems/sequence-reconstruction/\n",
        "* Alien Dictionary: https://leetcode.com/problems/alien-dictionary/solution/\n",
        "\n",
        "### Floyd Warshall problems\n",
        "* Find the City With the Smallest Number of Neighbors at a Threshold Distance: https://leetcode.com/problems/find-the-city-with-the-smallest-number-of-neighbors-at-a-threshold-distance/\n",
        "* Network delay time: https://leetcode.com/problems/network-delay-time/\n",
        "\n",
        "### Bellman Ford problems\n",
        "* Network delay time: https://leetcode.com/problems/network-delay-time/"
      ],
      "metadata": {
        "id": "iwf8E2gpBUkT"
      }
    },
    {
      "cell_type": "markdown",
      "source": [
        "# Graph fundamental Practice\n",
        "\n",
        "## Dijstraj Algorithm\n",
        "Fundamentals:\n",
        "This algorithm is used to find shortest path from a single source to all destinations. \n",
        "* Here is a good explanation and implementaiton [Dijkstraj in python](https://builtin.com/software-engineering-perspectives/dijkstras-algorithm)\n",
        "* Another tutorial is here [programiz Dijkstra algorithm](https://www.programiz.com/dsa/dijkstra-algorithm)\n"
      ],
      "metadata": {
        "id": "DiWNSjlMXG7L"
      }
    },
    {
      "cell_type": "code",
      "execution_count": 13,
      "metadata": {
        "id": "Q9V1HH7YBN9m",
        "colab": {
          "base_uri": "https://localhost:8080/"
        },
        "outputId": "ac57f23b-c956-4eb2-9754-a39240ee3246"
      },
      "outputs": [
        {
          "output_type": "stream",
          "name": "stdout",
          "text": [
            "s 0\n",
            "a 7\n",
            "b 4\n",
            "c 6\n",
            "d 8\n"
          ]
        }
      ],
      "source": [
        "from traitlets.traitlets import validate\n",
        "# sample graphq\n",
        "import heapq\n",
        "graph={\n",
        "  's':{'a':8,'b':4},\n",
        "  'a':{'b':4},\n",
        "  'b':{'a':3,'c':2,'d':5},\n",
        "  'c':{'d':2},\n",
        "  'd':{}\n",
        "}\n",
        "class Vertix:\n",
        "  def __init__(self):\n",
        "      self.dist=float('inf') #current distance from source node\n",
        "      self.parent=None\n",
        "      self.visted=False\n",
        "\n",
        "class SPDijstra:\n",
        "\n",
        "  def dijkstra(self,graph,source):\n",
        "    vertices={}\n",
        "    for v in graph:\n",
        "        vertices[v]=Vertix()\n",
        "\n",
        "    vertices[source].dist=0\n",
        "\n",
        "    queue=[(0,source)] \n",
        "\n",
        "    while queue:\n",
        "        curDist,u=heapq.heappop(queue)\n",
        "        if vertices[u].visted:\n",
        "            continue\n",
        "        vertices[u].visted=True\n",
        "        for v in graph[u]:\n",
        "            if vertices[v].visted:\n",
        "                continue\n",
        "            newDistance=curDist+graph[u][v]\n",
        "            if newDistance<vertices[v].dist:\n",
        "                vertices[v].dist=newDistance\n",
        "                vertices[v].parent=u\n",
        "                heapq.heappush(queue,(newDistance,v))\n",
        "    return vertices\n",
        "\n",
        "dj = SPDijstra()\n",
        "distance_map=dj.dijkstra(graph,'s')\n",
        "for k,v in distance_map.items():\n",
        "  print(k, v.dist)"
      ]
    },
    {
      "cell_type": "markdown",
      "source": [
        "## Belman ford algorithm\n",
        "Bellman Ford algorithm helps us find the shortest path from a vertex to all other vertices of a weighted graph.\n",
        "\n",
        "It is similar to Dijkstra's algorithm but it can work with graphs in which edges can have negative weights.\n",
        "* A good [tutorial](https://www.programiz.com/dsa/bellman-ford-algorithm) in addition to Coremen Algorithm book"
      ],
      "metadata": {
        "id": "_8N0XETybJOv"
      }
    },
    {
      "cell_type": "code",
      "source": [
        "# Bellman Ford Algorithm in Python\n",
        "\n",
        "\n",
        "class Graph:\n",
        "\n",
        "    def __init__(self, vertices):\n",
        "        self.V = vertices   # Total number of vertices in the graph\n",
        "        self.graph = []     # Array of edges\n",
        "\n",
        "    # Add edges\n",
        "    def add_edge(self, s, d, w):\n",
        "        self.graph.append([s, d, w])\n",
        "\n",
        "    # Print the solution\n",
        "    def print_solution(self, dist):\n",
        "        print(\"Vertex Distance from Source\")\n",
        "        for i in range(self.V):\n",
        "            print(\"{0}\\t\\t{1}\".format(i, dist[i]))\n",
        "\n",
        "    def bellman_ford(self, src):\n",
        "\n",
        "        # Step 1: fill the distance array and predecessor array\n",
        "        dist = [float(\"Inf\")] * self.V\n",
        "        # Mark the source vertex\n",
        "        dist[src] = 0\n",
        "\n",
        "        # Step 2: relax edges |V| - 1 times\n",
        "        for _ in range(self.V - 1):\n",
        "            for s, d, w in self.graph:\n",
        "                if dist[s] != float(\"Inf\") and dist[s] + w < dist[d]:\n",
        "                    dist[d] = dist[s] + w\n",
        "\n",
        "        # Step 3: detect negative cycle\n",
        "        # if value changes then we have a negative cycle in the graph\n",
        "        # and we cannot find the shortest distances\n",
        "        for s, d, w in self.graph:\n",
        "            if dist[s] != float(\"Inf\") and dist[s] + w < dist[d]:\n",
        "                print(\"Graph contains negative weight cycle\")\n",
        "                return\n",
        "\n",
        "        # No negative weight cycle found!\n",
        "        # Print the distance and predecessor array\n",
        "        self.print_solution(dist)\n",
        "\n",
        "\n",
        "g = Graph(5)\n",
        "g.add_edge(0, 1, 5)\n",
        "g.add_edge(0, 2, 4)\n",
        "g.add_edge(1, 3, 3)\n",
        "g.add_edge(2, 1, 6)\n",
        "g.add_edge(3, 2, 2)\n",
        "\n",
        "g.bellman_ford(0)"
      ],
      "metadata": {
        "colab": {
          "base_uri": "https://localhost:8080/"
        },
        "id": "VoCQk2cQbaoT",
        "outputId": "0e71817f-a5bd-445f-eb95-69e821b47f09"
      },
      "execution_count": 14,
      "outputs": [
        {
          "output_type": "stream",
          "name": "stdout",
          "text": [
            "Vertex Distance from Source\n",
            "0\t\t0\n",
            "1\t\t5\n",
            "2\t\t4\n",
            "3\t\t8\n",
            "4\t\tinf\n"
          ]
        }
      ]
    },
    {
      "cell_type": "markdown",
      "source": [
        "## Prims minimum Spanning Tree\n",
        "[Here](https://www.algotree.org/algorithms/minimum_spanning_tree/prims_python/ is a good tutorial, though python code is not super simple\n",
        "\n",
        "The time complexity of Prim's algorithm is $O(E log V)$\n"
      ],
      "metadata": {
        "id": "6_NvzVMsgTzE"
      }
    },
    {
      "cell_type": "code",
      "source": [
        "from typing import List, Dict # For annotations\n",
        "\n",
        "class Node :\n",
        "\n",
        "    def __init__(self, arg_id) :\n",
        "        self._id = arg_id\n",
        "\n",
        "    def __lt__(self, nxt):\n",
        "        return self._id < nxt._id\n",
        "\n",
        "class Graph :\n",
        "\n",
        "    def __init__(self, source : int, adj_list : Dict[int, List[int]]) :\n",
        "        self.source = source\n",
        "        self.adjlist = adj_list\n",
        "\n",
        "    def PrimsMST (self) -> int :\n",
        "        pq = [(0,Node(self.source))] \n",
        "        added = [False] * len(self.adjlist)\n",
        "        min_span_tree_cost = 0\n",
        "\n",
        "        while pq :\n",
        "            # Choose the adjacent node with the least edge cost\n",
        "            cost, node = heapq.heappop(pq)\n",
        "\n",
        "            if added[node._id] == False :\n",
        "                min_span_tree_cost += cost\n",
        "                added[node._id] = True\n",
        "                print(\"Added Node : \" + str(node._id) + \", cost now : \"+str(min_span_tree_cost))\n",
        "\n",
        "                for v, w in self.adjlist[node._id] :\n",
        "                    if added[v] == False :\n",
        "                        heapq.heappush(pq, (w, Node(v)))\n",
        "\n",
        "        return min_span_tree_cost\n",
        "\n",
        "def main() :\n",
        "\n",
        "    g1_edges_from_node = {}\n",
        "\n",
        "    # Outgoing edges from the node: (adjacent_node, cost) in graph 1.\n",
        "    g1_edges_from_node[0] = [ (1,1), (2,2), (3,1), (4,1), (5,2), (6,1) ]\n",
        "    g1_edges_from_node[1] = [ (0,1), (2,2), (6,2) ]\n",
        "    g1_edges_from_node[2] = [ (0,2), (1,2), (3,1) ]\n",
        "    g1_edges_from_node[3] = [ (0,1), (2,1), (4,2) ]\n",
        "    g1_edges_from_node[4] = [ (0,1), (3,2), (5,2) ]\n",
        "    g1_edges_from_node[5] = [ (0,2), (4,2), (6,1) ]\n",
        "    g1_edges_from_node[6] = [ (0,1), (2,2), (5,1) ]\n",
        "\n",
        "    g1 = Graph(0, g1_edges_from_node)\n",
        "    cost = g1.PrimsMST()\n",
        "    print(\"Cost of the minimum spanning tree in graph 1 : \" + str(cost) +\"\\n\")\n",
        "\n",
        "    # Outgoing edges from the node: (adjacent_node, cost) in graph 2.\n",
        "    g2_edges_from_node = {}\n",
        "    g2_edges_from_node[0] = [ (1,4), (2,1), (3,5) ]\n",
        "    g2_edges_from_node[1] = [ (0,4), (3,2), (4,3), (5,3) ]\n",
        "    g2_edges_from_node[2] = [ (0,1), (3,2), (4,8) ]\n",
        "    g2_edges_from_node[3] = [ (0,5), (1,2), (2,2), (4,1) ]\n",
        "    g2_edges_from_node[4] = [ (1,3), (2,8), (3,1), (5,3) ]\n",
        "    g2_edges_from_node[5] = [ (1,3), (4,3) ]\n",
        "\n",
        "    g2 = Graph(0, g2_edges_from_node)\n",
        "    cost = g2.PrimsMST()\n",
        "    print(\"Cost of the minimum spanning tree in graph 2 : \" + str(cost))\n",
        "\n",
        "if __name__ == \"__main__\" :\n",
        "    main()\n"
      ],
      "metadata": {
        "colab": {
          "base_uri": "https://localhost:8080/"
        },
        "id": "UPxNFT0ugTAe",
        "outputId": "1afb0df9-2e8e-4aa4-ca42-e79dcb55ea7a"
      },
      "execution_count": 16,
      "outputs": [
        {
          "output_type": "stream",
          "name": "stdout",
          "text": [
            "Added Node : 0, cost now : 0\n",
            "Added Node : 1, cost now : 1\n",
            "Added Node : 3, cost now : 2\n",
            "Added Node : 2, cost now : 3\n",
            "Added Node : 4, cost now : 4\n",
            "Added Node : 6, cost now : 5\n",
            "Added Node : 5, cost now : 6\n",
            "Cost of the minimum spanning tree in graph 1 : 6\n",
            "\n",
            "Added Node : 0, cost now : 0\n",
            "Added Node : 2, cost now : 1\n",
            "Added Node : 3, cost now : 3\n",
            "Added Node : 4, cost now : 4\n",
            "Added Node : 1, cost now : 6\n",
            "Added Node : 5, cost now : 9\n",
            "Cost of the minimum spanning tree in graph 2 : 9\n"
          ]
        }
      ]
    },
    {
      "cell_type": "markdown",
      "source": [
        "## Kruskal Algorithm\n",
        "Kruskal uses Union Find data structure and sorting edges by weight to find the minimum spanning Tree\n",
        "\n",
        "* [Here](https://www.algotree.org/algorithms/minimum_spanning_tree/kruskals/) is a good tutorial of it\n",
        "Algorithm : Kruskal’s minimum spanning tree ( Graph G )\n",
        "\n",
        "0.    Create an empty minimum spanning tree M i.e M = ∅ (zero edges)\n",
        "1.     Sort the edge-list of the graph G in ascending order of weights.\n",
        "2.    For each edge ( A, B ) in the sorted edge-list.\n",
        "3.         If Find_Set_Of_A != Find_Set_Of_B, then\n",
        "4.              Add edge A-B to the minimum spanning tree M i.e M = M + edge ( A - B )\n",
        "5.              Make a set / union of Find_Set_Of_A + Find_Set_Of_B.\n",
        "\n",
        "* The time complexity Of Kruskal's Algorithm is: $O(E log E)$"
      ],
      "metadata": {
        "id": "eG_t64T_nflN"
      }
    },
    {
      "cell_type": "code",
      "source": [
        "# this is details implementation, but for interview we will make it shorter\n",
        "\n",
        "from typing import List # for annotations\n",
        "\n",
        "class Edge :\n",
        "\n",
        "   def __init__(self, arg_src : int, arg_dst : int, arg_weight : int) :\n",
        "       self.src = arg_src\n",
        "       self.dst = arg_dst\n",
        "       self.weight = arg_weight\n",
        "\n",
        "class Graph :\n",
        "\n",
        "    def __init__(self, num_nodes : int, edgelist : List[Edge]) :\n",
        "        self.num_nodes = num_nodes\n",
        "        self.edgelist  = edgelist\n",
        "        self.parent    = []\n",
        "        self.rank      = []\n",
        "        # mst stores edges of the minimum spanning tree\n",
        "        self.mst       = []\n",
        "\n",
        "    def FindParent (self, node : int) :\n",
        "        # With path-compression.\n",
        "        if node != self.parent[node] :\n",
        "            self.parent[node] = self.FindParent(self.parent[node])\n",
        "        return self.parent[node]\n",
        "\n",
        "        # Without path compression\n",
        "        # if node == self.parent[node] :\n",
        "        #    return node\n",
        "        # return self.FindParent(self.parent[node])\n",
        "\n",
        "    def KruskalMST (self) :\n",
        "\n",
        "        # Sort objects of an Edge class based on attribute (weight)\n",
        "        self.edgelist.sort(key = lambda Edge : Edge.weight)\n",
        "\n",
        "        self.parent = [None] * self.num_nodes\n",
        "        self.rank   = [None] * self.num_nodes\n",
        "\n",
        "        for n in range(self.num_nodes) :\n",
        "            self.parent[n] = n # Every node is the parent of itself at the beginning\n",
        "            self.rank[n] = 0   # Rank of every node is 0 at the beginning\n",
        "\n",
        "        for edge in self.edgelist :\n",
        "            root1 = self.FindParent(edge.src)\n",
        "            root2 = self.FindParent(edge.dst)\n",
        "\n",
        "            # Parents of the source and destination nodes are not in the same subset\n",
        "            # Add the edge to the spanning tree\n",
        "            if root1 != root2 :\n",
        "               self.mst.append(edge)\n",
        "               if self.rank[root1] < self.rank[root2] :\n",
        "                  self.parent[root1] = root2\n",
        "                  self.rank[root2] += 1\n",
        "               else :\n",
        "                  self.parent[root2] = root1\n",
        "                  self.rank[root1] += 1\n",
        "\n",
        "        print(\"\\nEdges of minimum spanning tree in graph :\", end=' ')\n",
        "        cost = 0\n",
        "        for edge in self.mst :\n",
        "            print(\"[\" + str(edge.src) + \"-\" + str(edge.dst) + \"](\" + str(edge.weight) + \")\", end = ' ')\n",
        "            cost += edge.weight\n",
        "        print(\"\\nCost of minimum spanning tree : \" +str(cost))\n",
        "\n",
        "def main() :\n",
        "\n",
        "    # Edge(source, destination, weight)\n",
        "    num_nodes = 6\n",
        "    e1 = Edge(0, 1, 4)\n",
        "    e2 = Edge(0, 2, 1)\n",
        "    e3 = Edge(0, 3, 5)\n",
        "    e4 = Edge(1, 3, 2)\n",
        "    e5 = Edge(1, 4, 3)\n",
        "    e6 = Edge(1, 5, 3)\n",
        "    e7 = Edge(2, 3, 2)\n",
        "    e8 = Edge(2, 4, 8)\n",
        "    e9 = Edge(3, 4, 1)\n",
        "    e10 = Edge(4, 5, 3)\n",
        "\n",
        "    g1 = Graph(num_nodes, [e1, e2, e3, e4, e5, e6, e7, e8, e9, e10])\n",
        "    g1.KruskalMST()\n",
        "\n",
        "    num_nodes = 7\n",
        "    a = Edge(0, 1, 1)\n",
        "    b = Edge(0, 2, 2)\n",
        "    c = Edge(0, 3, 1)\n",
        "    d = Edge(0, 4, 1)\n",
        "    e = Edge(0, 5, 2)\n",
        "    f = Edge(0, 6, 1)\n",
        "    g = Edge(1, 2, 2)\n",
        "    h = Edge(1, 6, 2)\n",
        "    i = Edge(2, 3, 1)\n",
        "    j = Edge(3, 4, 2)\n",
        "    k = Edge(4, 5, 2)\n",
        "    l = Edge(5, 6, 1)\n",
        "\n",
        "    g2 = Graph(num_nodes, [a, b, c, d, e, f, g, h, i, j, k, l])\n",
        "    g2.KruskalMST()\n",
        "\n",
        "if __name__ == \"__main__\" :\n",
        "    main()\n"
      ],
      "metadata": {
        "colab": {
          "base_uri": "https://localhost:8080/"
        },
        "id": "Ctm6SpFHnwTw",
        "outputId": "0cfc0c8e-9d1a-4f97-c407-4e15fc24724e"
      },
      "execution_count": 17,
      "outputs": [
        {
          "output_type": "stream",
          "name": "stdout",
          "text": [
            "\n",
            "Edges of minimum spanning tree in graph : [0-2](1) [3-4](1) [1-3](2) [2-3](2) [1-5](3) \n",
            "Cost of minimum spanning tree : 9\n",
            "\n",
            "Edges of minimum spanning tree in graph : [0-1](1) [0-3](1) [0-4](1) [0-6](1) [2-3](1) [5-6](1) \n",
            "Cost of minimum spanning tree : 6\n"
          ]
        }
      ]
    },
    {
      "cell_type": "markdown",
      "source": [
        "## Floyd Warshal algorithm\n",
        "This is simplest algorithm of finding all source shortest path.\n",
        "Time complexity $O(v^3)$\n",
        "* a good tutorial is [here](https://www.programiz.com/dsa/floyd-warshall-algorithm)\n"
      ],
      "metadata": {
        "id": "2mUW9YHTtpeU"
      }
    },
    {
      "cell_type": "code",
      "source": [
        "# Floyd Warshall Algorithm in python\n",
        "\n",
        "\n",
        "# The number of vertices\n",
        "nV = 4\n",
        "\n",
        "INF = 999\n",
        "\n",
        "\n",
        "# Algorithm implementation\n",
        "def floyd_warshall(G):\n",
        "    distance = list(map(lambda i: list(map(lambda j: j, i)), G))\n",
        "\n",
        "    # Adding vertices individually\n",
        "    for k in range(nV):\n",
        "        for i in range(nV):\n",
        "            for j in range(nV):\n",
        "                distance[i][j] = min(distance[i][j], distance[i][k] + distance[k][j])\n",
        "    print_solution(distance)\n",
        "\n",
        "\n",
        "# Printing the solution\n",
        "def print_solution(distance):\n",
        "    for i in range(nV):\n",
        "        for j in range(nV):\n",
        "            if(distance[i][j] == INF):\n",
        "                print(\"INF\", end=\" \")\n",
        "            else:\n",
        "                print(distance[i][j], end=\"  \")\n",
        "        print(\" \")\n",
        "\n",
        "\n",
        "G =      [[0, 3, INF, 5],\n",
        "         [2, 0, INF, 4],\n",
        "         [INF, 1, 0, INF],\n",
        "         [INF, INF, 2, 0]]\n",
        "         \n",
        "floyd_warshall(G)"
      ],
      "metadata": {
        "colab": {
          "base_uri": "https://localhost:8080/"
        },
        "id": "mRe1Dmuft3XR",
        "outputId": "1081729e-86b9-4a51-d13f-4556f1f36db1"
      },
      "execution_count": 18,
      "outputs": [
        {
          "output_type": "stream",
          "name": "stdout",
          "text": [
            "0  3  7  5   \n",
            "2  0  6  4   \n",
            "3  1  0  5   \n",
            "5  3  2  0   \n"
          ]
        }
      ]
    },
    {
      "cell_type": "markdown",
      "source": [
        "## Articulation Edge and Articulation Point\n",
        "Both are important algorithm which finds out edge or vertex that disconnects a graph. \n",
        "* Note: There is a slight difference between bridge and points. check the condition\n",
        "* A good tutorial is [baeldug](https://www.baeldung.com/cs/graph-articulation-points)\n",
        "* [Tarjans algorithm](https://codeforces.com/blog/entry/71146)\n",
        "* Tushar Roy video tutorial\n"
      ],
      "metadata": {
        "id": "t9Xp1xroxd4Z"
      }
    }
  ]
}