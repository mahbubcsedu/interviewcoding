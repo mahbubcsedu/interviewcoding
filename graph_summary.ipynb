{
  "nbformat": 4,
  "nbformat_minor": 0,
  "metadata": {
    "colab": {
      "provenance": [],
      "authorship_tag": "ABX9TyMK8tNoSndfPmNPD1eeH+dB",
      "include_colab_link": true
    },
    "kernelspec": {
      "name": "python3",
      "display_name": "Python 3"
    },
    "language_info": {
      "name": "python"
    }
  },
  "cells": [
    {
      "cell_type": "markdown",
      "metadata": {
        "id": "view-in-github",
        "colab_type": "text"
      },
      "source": [
        "<a href=\"https://colab.research.google.com/github/mahbubcsedu/interviewcoding/blob/main/graph_summary.ipynb\" target=\"_parent\"><img src=\"https://colab.research.google.com/assets/colab-badge.svg\" alt=\"Open In Colab\"/></a>"
      ]
    },
    {
      "cell_type": "code",
      "execution_count": null,
      "metadata": {
        "id": "Q9V1HH7YBN9m"
      },
      "outputs": [],
      "source": []
    },
    {
      "cell_type": "markdown",
      "source": [
        "### BFS problems\n",
        "* Flood Fill: https://leetcode.com/problems/flood-fill/\n",
        "* Number of Islands: https://leetcode.com/problems/number-of-islands/\n",
        "* Word Ladder I: https://leetcode.com/problems/word-ladder/\n",
        "* Word Ladder II: https://leetcode.com/problems/word-ladder-ii/\n",
        "* Evaluate Division: https://leetcode.com/problems/evaluate-division/\n",
        "* Get Watched Videos by Your Friends: https://leetcode.com/problems/get-watched-videos-by-your-friends/\n",
        "* Cut Off Trees for Golf Event: https://leetcode.com/problems/cut-off-trees-for-golf-event/\n",
        "\n",
        "\n",
        "### DFS problems\n",
        "* Number of Islands: https://leetcode.com/problems/number-of-islands/\n",
        "* Flood Fill: https://leetcode.com/problems/flood-fill/\n",
        "* Longest Increasing Path in a Matrix: https://leetcode.com/problems/longest-increasing-path-in-a-matrix/\n",
        "* Evaluate Division: https://leetcode.com/problems/evaluate-division/\n",
        "* Robot Room Cleaner: https://leetcode.com/problems/robot-room-cleaner/\n",
        "* Most Stones Removed with Same Row or Column: https://leetcode.com/problems/most-stones-removed-with-same-row-or-column/\n",
        "* Reconstruct Itinerary: https://leetcode.com/problems/reconstruct-itinerary/\n",
        "* Tree Diameter: https://leetcode.com/problems/tree-diameter/\n",
        "* Accounts Merge: https://leetcode.com/problems/accounts-merge/\n",
        "\n",
        "### Connected components problems\n",
        "* Number of Provinces: https://leetcode.com/problems/number-of-provinces/\n",
        "* Number of Connected Components in an Undirected Graph: https://leetcode.com/problems/number-of-connected-components-in-an-undirected-graph/\n",
        "* Number of Operations to Make Network Connected: https://leetcode.com/problems/number-of-operations-to-make-network-connected/\n",
        "* Accounts Merge: https://leetcode.com/problems/accounts-merge/\n",
        "* Critical Connections in a Network: https://leetcode.com/problems/critical-connections-in-a-network/\n",
        "\n",
        "### Dijkstra's problems\n",
        "* Path With Maximum Minimum Valued: https://leetcode.com/problems/path-with-maximum-minimum-value/\n",
        "* Network delay time: https://leetcode.com/problems/network-delay-time/\n",
        "* Path with Maximum Probability: https://leetcode.com/problems/path-with-maximum-probability/\n",
        "* Path With Minimum Effort: https://leetcode.com/problems/path-with-minimum-effort/\n",
        "* Cheapest Flights Within K Stops: https://leetcode.com/problems/cheapest-flights-within-k-stops/\n",
        "\n",
        "### Union Find problems\n",
        "* Number of Islands: https://leetcode.com/problems/number-of-islands/\n",
        "* Largest Component Size by Common Factor: https://leetcode.com/problems/largest-component-size-by-common-factor/\n",
        "* Most Stones Removed with Same Row or Column: https://leetcode.com/problems/most-stones-removed-with-same-row-or-column/\n",
        "* Number of Connected Components in an Undirected Graph: https://leetcode.com/problems/number-of-connected-components-in-an-undirected-graph/\n",
        "* Number of island II https://leetcode.com/problems/number-of-islands-ii/\n",
        "\n",
        "### Minimum Spanning Tree problems\n",
        "\n",
        "* Connecting Cities With Minimum Cost: https://leetcode.com/problems/connecting-cities-with-minimum-cost/\n",
        "* Min Cost to Connect All Points: https://leetcode.com/problems/min-cost-to-connect-all-points/\n",
        "\n",
        "### Topological sort problems\n",
        "* Course Schedule : https://leetcode.com/problems/course-schedule/\n",
        "* Course Schedule II: https://leetcode.com/problems/course-schedule-ii/\n",
        "* Sequence Reconstruction: https://leetcode.com/problems/sequence-reconstruction/\n",
        "* Alien Dictionary: https://leetcode.com/problems/alien-dictionary/solution/\n",
        "\n",
        "### Floyd Warshall problems\n",
        "* Find the City With the Smallest Number of Neighbors at a Threshold Distance: https://leetcode.com/problems/find-the-city-with-the-smallest-number-of-neighbors-at-a-threshold-distance/\n",
        "* Network delay time: https://leetcode.com/problems/network-delay-time/\n",
        "\n",
        "### Bellman Ford problems\n",
        "* Network delay time: https://leetcode.com/problems/network-delay-time/"
      ],
      "metadata": {
        "id": "iwf8E2gpBUkT"
      }
    }
  ]
}