{
  "nbformat": 4,
  "nbformat_minor": 0,
  "metadata": {
    "colab": {
      "name": "DataStructures",
      "provenance": [],
      "authorship_tag": "ABX9TyMCHuDHgDawzZo9UUf4G5Xp",
      "include_colab_link": true
    },
    "kernelspec": {
      "name": "python3",
      "display_name": "Python 3"
    },
    "language_info": {
      "name": "python"
    }
  },
  "cells": [
    {
      "cell_type": "markdown",
      "metadata": {
        "id": "view-in-github",
        "colab_type": "text"
      },
      "source": [
        "<a href=\"https://colab.research.google.com/github/mahbubcsedu/interviewcoding/blob/main/DataStructures.ipynb\" target=\"_parent\"><img src=\"https://colab.research.google.com/assets/colab-badge.svg\" alt=\"Open In Colab\"/></a>"
      ]
    },
    {
      "cell_type": "markdown",
      "metadata": {
        "id": "WOYiWfntS9oL"
      },
      "source": [
        "## Data structures and collection practices\n",
        "\n",
        "### Sorting (two at least)\n",
        "\n",
        "1. Quick sort\n",
        " for better understanding, we can look into the algorithm in the text book like algorithm design manual or https://www.interviewbit.com/tutorial/quicksort-algorithm/#quicksort-algorithm\n",
        "\n",
        "The algorithm:\n",
        "* if low and high of the array is not the same, we will partition the array based on pivot.\n",
        "* after every partition, we merge the sorted subarray to get the sorted array"
      ]
    },
    {
      "cell_type": "code",
      "metadata": {
        "id": "0at9Tn2HS6DP",
        "colab": {
          "base_uri": "https://localhost:8080/"
        },
        "outputId": "550c67f7-97e9-4256-f80c-374174f74877"
      },
      "source": [
        "def quick_sort(A, l, h):\n",
        "  if l < h:\n",
        "    p_idx = partition(A, l, h)\n",
        "    quick_sort(A, l, p_idx-1)\n",
        "    quick_sort(A, p_idx+1, h)\n",
        "\n",
        "def partition(A, l, h):\n",
        "  p = A[h]\n",
        "  j = l\n",
        "  \n",
        "  for i in range(l, h):\n",
        "    # print(i)\n",
        "    if A[i] < p:\n",
        "      # print(A[i])\n",
        "      # j=j+1\n",
        "      A[i], A[j] = A[j], A[i]\n",
        "      j= j+1\n",
        "  A[h], A[j] = A[j], A[h]\n",
        "  return (j)\n",
        "\n",
        "def partition2(arr,low,high): \n",
        "\ti = ( low-1 )\t\t # index of smaller element \n",
        "\tpivot = arr[high]\t # pivot \n",
        "\n",
        "\tfor j in range(low , high): \n",
        "\n",
        "\t\t# If current element is smaller than or \n",
        "\t\t# equal to pivot \n",
        "\t\tif arr[j] <= pivot: \n",
        "\t\t\n",
        "\t\t\t# increment index of smaller element \n",
        "\t\t\ti = i+1\n",
        "\t\t\tarr[i],arr[j] = arr[j],arr[i] \n",
        "\n",
        "\tarr[i+1],arr[high] = arr[high],arr[i+1] \n",
        "\treturn ( i+1 ) \n",
        " \n",
        "\n",
        "A= [6, 2, 1, 10, 15, 11, 8, 3]\n",
        "quick_sort(A, 0, len(A)-1)\n",
        "print(A)\n",
        "\n"
      ],
      "execution_count": null,
      "outputs": [
        {
          "output_type": "stream",
          "name": "stdout",
          "text": [
            "[1, 2, 3, 6, 8, 10, 11, 15]\n"
          ]
        }
      ]
    },
    {
      "cell_type": "code",
      "metadata": {
        "colab": {
          "base_uri": "https://localhost:8080/"
        },
        "id": "k9IVUWD19TSi",
        "outputId": "755db048-b750-4c0c-a5b6-9baa222dcef3"
      },
      "source": [
        "# in python x=+x is not incrementing variable value, rather it is putting +1 to the value\n",
        "i=10\n",
        "i=+1\n",
        "print(i)\n",
        "i=14\n",
        "i=-1\n",
        "print(i)"
      ],
      "execution_count": null,
      "outputs": [
        {
          "output_type": "stream",
          "name": "stdout",
          "text": [
            "1\n",
            "-1\n"
          ]
        }
      ]
    },
    {
      "cell_type": "markdown",
      "metadata": {
        "id": "QHAcuXGPP-yQ"
      },
      "source": [
        "### Merge Sort\n",
        "We should learn"
      ]
    }
  ]
}