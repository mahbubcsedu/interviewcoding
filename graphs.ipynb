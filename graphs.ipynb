{
  "nbformat": 4,
  "nbformat_minor": 0,
  "metadata": {
    "colab": {
      "provenance": [],
      "authorship_tag": "ABX9TyMNAWDW00ofija+uMoXOD2/",
      "include_colab_link": true
    },
    "kernelspec": {
      "name": "python3",
      "display_name": "Python 3"
    },
    "language_info": {
      "name": "python"
    }
  },
  "cells": [
    {
      "cell_type": "markdown",
      "metadata": {
        "id": "view-in-github",
        "colab_type": "text"
      },
      "source": [
        "<a href=\"https://colab.research.google.com/github/mahbubcsedu/interviewcoding/blob/main/graphs.ipynb\" target=\"_parent\"><img src=\"https://colab.research.google.com/assets/colab-badge.svg\" alt=\"Open In Colab\"/></a>"
      ]
    },
    {
      "cell_type": "markdown",
      "metadata": {
        "id": "NOZGlwzHupMs"
      },
      "source": [
        "# Details about graph problems"
      ]
    },
    {
      "cell_type": "markdown",
      "source": [
        "## Graph bootcamp\n",
        "1. representing objects as tuples Collections.namedtuple('Name', ('properties1', 'properties2'))\n",
        "2. representing graphq data structure"
      ],
      "metadata": {
        "id": "62__jskq1Fvd"
      }
    },
    {
      "cell_type": "code",
      "source": [
        "import collections\n",
        "'''see this example to understand namedtuple'''\n",
        "Coordinate = collections.namedtuple('Coordinate', ('x','y'))\n",
        "coords = [Coordinate(x,y) for x in range(2) for y in range(2)]\n",
        "print(*coords)\n",
        "\n",
        "#  2 build graphq with default and then can add nodes there as key value paper\n",
        "graph = collections.defaultdict(set)\n",
        "print(graph)\n",
        "\n",
        "#  should we use set or list ?\n",
        "MatchResult = collections.namedtuple('MatchResult',\n",
        "                                     ('winning_team', 'losing_team'))\n",
        "matches = [\n",
        "        MatchResult('Texas', 'Cal'), MatchResult('Cal', 'Stanford'),\n",
        "        MatchResult('Stanford', 'Texas'), MatchResult('Stanford', 'MIT'),\n",
        "        MatchResult('Stanford', 'CIT'), MatchResult('UCLA', 'USC')\n",
        "    ]\n",
        "graph = collections.defaultdict(set)\n",
        "for match in matches:\n",
        "  graph[match.winning_team].add(match.losing_team)\n",
        "\n",
        "print(graph)\n",
        "\n",
        "paths= [[0,1],\n",
        "        [1,2],\n",
        "        [2,0]]\n",
        "graph = collections.defaultdict(list)\n",
        "for a,b in paths:\n",
        "  graph[a].append(b)\n",
        "print(graph)\n",
        "\n",
        "# both ways are good because there will be no two edge going from one node to another in a graph representation. So, set will keep this organize and better searchable\n",
        "# I will prefer set over list\n"
      ],
      "metadata": {
        "colab": {
          "base_uri": "https://localhost:8080/"
        },
        "id": "hDnu2ne_1EBF",
        "outputId": "882db2df-158b-473b-8d9a-1ad7de354338"
      },
      "execution_count": 9,
      "outputs": [
        {
          "output_type": "stream",
          "name": "stdout",
          "text": [
            "Coordinate(x=0, y=0) Coordinate(x=0, y=1) Coordinate(x=1, y=0) Coordinate(x=1, y=1)\n",
            "defaultdict(<class 'set'>, {})\n",
            "defaultdict(<class 'set'>, {'Texas': {'Cal'}, 'Cal': {'Stanford'}, 'Stanford': {'CIT', 'Texas', 'MIT'}, 'UCLA': {'USC'}})\n",
            "defaultdict(<class 'list'>, {0: [1], 1: [2], 2: [0]})\n"
          ]
        }
      ]
    },
    {
      "cell_type": "markdown",
      "metadata": {
        "id": "n9Vytk_TuvIg"
      },
      "source": [
        "# Search Maze\n",
        "In a graph, find the end point starting from the start point\n",
        "Some learning about python\n",
        " * use of Map\n",
        " * use of namedtuple"
      ]
    },
    {
      "cell_type": "code",
      "metadata": {
        "colab": {
          "base_uri": "https://localhost:8080/"
        },
        "id": "i26pGq0cumWU",
        "outputId": "879a5e45-8195-4ebf-8fe5-db0becd03b59"
      },
      "source": [
        "import collections\n",
        "from typing import List\n",
        "\n",
        "# define flags for 0 and 1\n",
        "WHITE, BLACK = range(2)\n",
        "\n",
        "def search_maze(maze: List[List[int]], s: Coordinate, e: Coordinate) -> bool:\n",
        "  # prefer DFS to search the destination\n",
        "  def search_maze_helper(cur):\n",
        "    if not (0 <= cur.x < len(maze) and 0 <= cur.y < len(maze[cur.x]) and maze[cur.x][cur.y] == WHITE):\n",
        "      return False\n",
        "    # path.append(cur)\n",
        "    maze[cur.x][cur.y]=BLACK\n",
        "    if cur == e:\n",
        "      return True\n",
        "    # this is one of the use case of map in python where map takes functions and iterable and apply iterable to the functions\n",
        "    # see https://realpython.com/python-map-function/#processing-tuple-based-iterables-with-starmap\n",
        "    if any(map(search_maze_helper, map(Coordinate, (cur.x-1, cur.x+1, cur.x, cur.x), (cur.y, cur.y, cur.y-1, cur.y+1)))):\n",
        "      return True\n",
        "    #del path[-1] #this path was not successfull\n",
        "    return False\n",
        "  #path: List[Coordinate] = []\n",
        "  return search_maze_helper(s)\n",
        "  #return path\n",
        "\n",
        "maze = [[0, 0, 1, 0], \n",
        "        [0, 0, 1, 0], \n",
        "        [0, 0, 1, 0], \n",
        "        [0, 0, 1, 0], \n",
        "        [1, 0, 0, 1], \n",
        "        [0, 0, 0, 1]]\t\n",
        "start = Coordinate(0, 0)\n",
        "end = Coordinate(5, 2)\n",
        "path = search_maze(maze, start, end)\n",
        "print(path)"
      ],
      "execution_count": null,
      "outputs": [
        {
          "output_type": "stream",
          "text": [
            "True\n"
          ],
          "name": "stdout"
        }
      ]
    },
    {
      "cell_type": "code",
      "metadata": {
        "colab": {
          "base_uri": "https://localhost:8080/"
        },
        "id": "8n1uQif_ItEy",
        "outputId": "24229654-4532-40b0-d057-b97c0734edf4"
      },
      "source": [
        "import collections\n",
        "# this is an example of how map works in python\n",
        "Coordinate = collections.namedtuple('Coordinate',('x','y'))\n",
        "x, y = 2, 1\n",
        "list(map(Coordinate,(x-1, x+1, x, x), (y, y, y-1, y+1)))"
      ],
      "execution_count": null,
      "outputs": [
        {
          "output_type": "execute_result",
          "data": {
            "text/plain": [
              "[Coordinate(x=1, y=1),\n",
              " Coordinate(x=3, y=1),\n",
              " Coordinate(x=2, y=0),\n",
              " Coordinate(x=2, y=2)]"
            ]
          },
          "metadata": {},
          "execution_count": 3
        }
      ]
    },
    {
      "cell_type": "markdown",
      "metadata": {
        "id": "MzQULFTD3nf3"
      },
      "source": [
        "# Paint a boolean matrix"
      ]
    },
    {
      "cell_type": "code",
      "source": [],
      "metadata": {
        "id": "_a94ZJ0qeILj"
      },
      "execution_count": null,
      "outputs": []
    },
    {
      "cell_type": "markdown",
      "source": [
        "### Larget team photo\n",
        "## Topological sorting algorithm\n",
        " \n",
        " TOPOLOGICAL-SORT(G)\n",
        " - call DFS(G) to compute finishing times v:f for each vertex v\n",
        " - as each vertex is finished, insert it onto the front of a linked list\n",
        " - return the linked list of vertices"
      ],
      "metadata": {
        "id": "9N4-dekgeJTO"
      }
    },
    {
      "cell_type": "code",
      "metadata": {
        "id": "9CgcEyF_3mXR",
        "colab": {
          "base_uri": "https://localhost:8080/"
        },
        "outputId": "8415d5ad-27ec-44dd-e216-ba4e587324fb"
      },
      "source": [
        "from typing import List\n",
        "\n",
        "class GraphVertex:\n",
        "  def __init__(self, label) -> None:\n",
        "    self.label=label\n",
        "    self.edges: List[GraphVertex] = []\n",
        "    # set max_distance to 0 to indicate it is unvisited. In this representation, we can set this based on requirement, i.e. can set color as white, black and brown\n",
        "    # in this case, we will keep distance to keep track of its distance from the source node\n",
        "    self.max_distance = 0 \n",
        "\n",
        "## This coding pattern is extremly concise and error prone. Also hard to debug. If you feel extremly confident, then you code code like this one\n",
        "## the book has code that are easy to follow and debug \n",
        "def find_largest_team(graph: List[GraphVertex]) -> int:\n",
        "\n",
        "  def dfs(curr):\n",
        "    curr.max_distance = max(\n",
        "        ((vertex.max_distance if vertex.max_distance != 0 else dfs(vertex)) +1  for vertex in curr.edges), default=1)\n",
        "    # the previous line is very very concise line of coding that do all the dfs distance calculation after traversing and calculate the max from the curr node.\n",
        "    # first step is if the node is not visited yet, we run dfs from the child node and add one.\n",
        "    # if it is already visited, then we will add 1 to that node\n",
        "    # after traversing all, we will calculate the max and return\n",
        "    return curr.max_distance\n",
        "\n",
        "  # we start processing for each node as start node if we already not have visited that as part of other node, as we do not have any prefered choice.\n",
        "  return max(dfs(g) for g in graph if g.max_distance == 0)\n",
        "\n",
        "def find_largest_number_team(graph: List[GraphVertex])->int:\n",
        "\n",
        "  def build_topological_ordering():\n",
        "    def dfs(cur):\n",
        "      cur.max_distance = 1\n",
        "      # print(cur.label)\n",
        "      for next in cur.edges:\n",
        "        if not next.max_distance:\n",
        "          # print(next.label)\n",
        "          dfs(next)\n",
        "      vertex_order.append(cur)\n",
        "      # print(cur.max_distance)\n",
        "\n",
        "    vertex_order = [] \n",
        "    for g in graph:\n",
        "      if not g.max_distance:\n",
        "        dfs(g)\n",
        "    # print(len(vertex_order))\n",
        "    return vertex_order\n",
        "    \n",
        "  def find_longest_path(vertex_order):\n",
        "    max_distance = 0\n",
        "    # print(len(vertex_order))\n",
        "    while vertex_order:\n",
        "      u = vertex_order.pop()\n",
        "      # print(u.label)\n",
        "      max_distance = max(max_distance, u.max_distance)\n",
        "\n",
        "      for v in u.edges:\n",
        "        v.max_distance = max(v.max_distance, u.max_distance+1)\n",
        "        # print(v.label, v.max_distance)\n",
        "    return max_distance\n",
        "\n",
        "  return find_longest_path(build_topological_ordering())\n",
        "\n",
        "def build_test_graph():\n",
        "  k=9\n",
        "  edges = [[0, 1],[0, 2],[1,2],[1,3],[3,4],[5,4],[6,5],[6,3],[7,2]]\n",
        "  graph = [GraphVertex(node) for node in range(k)]\n",
        "  \n",
        "  nodes=0\n",
        "  for (fr, to) in edges:\n",
        "    if fr <0 or fr >=k or to <0 or to >=k:\n",
        "      raise RuntimeError('Invalid vertex index')\n",
        "    graph[fr].edges.append(graph[to])\n",
        "\n",
        "  largest_team = find_largest_number_team(graph)\n",
        "  # print(str(graph[0].edges[0]))\n",
        "  print(largest_team)\n",
        "\n",
        "build_test_graph()\n",
        "     "
      ],
      "execution_count": null,
      "outputs": [
        {
          "output_type": "stream",
          "name": "stdout",
          "text": [
            "4\n"
          ]
        }
      ]
    }
  ]
}