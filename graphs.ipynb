{
  "nbformat": 4,
  "nbformat_minor": 0,
  "metadata": {
    "colab": {
      "provenance": [],
      "authorship_tag": "ABX9TyPwdZJzhm6aFS7hWPAUMmT4",
      "include_colab_link": true
    },
    "kernelspec": {
      "name": "python3",
      "display_name": "Python 3"
    },
    "language_info": {
      "name": "python"
    }
  },
  "cells": [
    {
      "cell_type": "markdown",
      "metadata": {
        "id": "view-in-github",
        "colab_type": "text"
      },
      "source": [
        "<a href=\"https://colab.research.google.com/github/mahbubcsedu/interviewcoding/blob/main/graphs.ipynb\" target=\"_parent\"><img src=\"https://colab.research.google.com/assets/colab-badge.svg\" alt=\"Open In Colab\"/></a>"
      ]
    },
    {
      "cell_type": "markdown",
      "metadata": {
        "id": "NOZGlwzHupMs"
      },
      "source": [
        "# Details about graph problems"
      ]
    },
    {
      "cell_type": "markdown",
      "source": [
        "## Graph bootcamp\n",
        "1. representing objects as tuples Collections.namedtuple('Name', ('properties1', 'properties2'))\n",
        "2. representing graphq data structure"
      ],
      "metadata": {
        "id": "62__jskq1Fvd"
      }
    },
    {
      "cell_type": "code",
      "source": [
        "import collections\n",
        "'''see this example to understand namedtuple'''\n",
        "Coordinate = collections.namedtuple('Coordinate', ('x','y'))\n",
        "coords = [Coordinate(x,y) for x in range(2) for y in range(2)]\n",
        "print(*coords)\n",
        "\n",
        "# we can use map function as well\n",
        "coords_map = map(Coordinate, (x for x in range(2)),(y for y in range(2)))\n",
        "print(*coords_map)\n",
        "\n",
        "#  2 build graphq with default and then can add nodes there as key value paper\n",
        "graph = collections.defaultdict(set)\n",
        "print(graph)\n",
        "\n",
        "#  should we use set or list ?\n",
        "MatchResult = collections.namedtuple('MatchResult',\n",
        "                                     ('winning_team', 'losing_team'))\n",
        "matches = [\n",
        "        MatchResult('Texas', 'Cal'), MatchResult('Cal', 'Stanford'),\n",
        "        MatchResult('Stanford', 'Texas'), MatchResult('Stanford', 'MIT'),\n",
        "        MatchResult('Stanford', 'CIT'), MatchResult('UCLA', 'USC')\n",
        "    ]\n",
        "graph = collections.defaultdict(set)\n",
        "for match in matches:\n",
        "  graph[match.winning_team].add(match.losing_team)\n",
        "\n",
        "print(graph)\n",
        "\n",
        "paths= [[0,1],\n",
        "        [1,2],\n",
        "        [2,0]]\n",
        "graph = collections.defaultdict(list)\n",
        "for a,b in paths:\n",
        "  graph[a].append(b)\n",
        "print(graph)\n",
        "\n",
        "# both ways are good because there will be no two edge going from one node to another in a graph representation. So, set will keep this organize and better searchable\n",
        "# I will prefer set over list\n"
      ],
      "metadata": {
        "colab": {
          "base_uri": "https://localhost:8080/"
        },
        "id": "hDnu2ne_1EBF",
        "outputId": "02330438-1015-47ed-c427-cdd547b994b6"
      },
      "execution_count": 12,
      "outputs": [
        {
          "output_type": "stream",
          "name": "stdout",
          "text": [
            "Coordinate(x=0, y=0) Coordinate(x=0, y=1) Coordinate(x=1, y=0) Coordinate(x=1, y=1)\n",
            "Coordinate(x=0, y=0) Coordinate(x=1, y=1)\n",
            "defaultdict(<class 'set'>, {})\n",
            "defaultdict(<class 'set'>, {'Texas': {'Cal'}, 'Cal': {'Stanford'}, 'Stanford': {'CIT', 'MIT', 'Texas'}, 'UCLA': {'USC'}})\n",
            "defaultdict(<class 'list'>, {0: [1], 1: [2], 2: [0]})\n"
          ]
        }
      ]
    },
    {
      "cell_type": "code",
      "source": [
        "import collections\n",
        "MatchResult = collections.namedtuple('MatchResult',\n",
        "                                     ('winning_team', 'losing_team'))\n",
        "def can_team_a_beat_team_b(matches, team_a, team_b):\n",
        "  # print(team_a)\n",
        "  \n",
        "  def build_graph(matches):\n",
        "    g = collections.defaultdict(set)\n",
        "    for match in matches:\n",
        "      g[match.winning_team].add(match.losing_team)\n",
        "    return g\n",
        "  \n",
        "  def is_reachable_dfs(graph, start, end, visited=set()):\n",
        "    # print(graph)\n",
        "    # print(start, end)\n",
        "    if start == end:\n",
        "      return True\n",
        "    \n",
        "    elif start in visited or start not in graph:\n",
        "      return False \n",
        "    visited.add(start)\n",
        "    print(visited)\n",
        "\n",
        "    return any(is_reachable_dfs(graph, team, end) for team in graph[start])\n",
        "  \n",
        "  return is_reachable_dfs(build_graph(matches), team_a, team_b)\n",
        "\n",
        "\n",
        "matches = [\n",
        "        MatchResult('Texas', 'Cal'), MatchResult('Cal', 'Stanford'),\n",
        "        MatchResult('Stanford', 'Texas'), MatchResult('Stanford', 'MIT'),\n",
        "        MatchResult('Stanford', 'CIT'), MatchResult('UCLA', 'USC')\n",
        "    ]\n",
        "reachable = can_team_a_beat_team_b(matches, \"Cal\", \"CIT\")\n",
        "print(reachable)\n",
        "\n",
        "# this graph dfs is only for forward visiting and test reachability. \n",
        "# if we need to capture discovered time and processed time, then visited should have different enums"
      ],
      "metadata": {
        "colab": {
          "base_uri": "https://localhost:8080/"
        },
        "id": "3EQtZY5_GDY6",
        "outputId": "fda0a260-9019-4d6e-c310-62a45e4e3d72"
      },
      "execution_count": 11,
      "outputs": [
        {
          "output_type": "stream",
          "name": "stdout",
          "text": [
            "{'Cal'}\n",
            "{'Stanford', 'Cal'}\n",
            "True\n"
          ]
        }
      ]
    },
    {
      "cell_type": "markdown",
      "metadata": {
        "id": "n9Vytk_TuvIg"
      },
      "source": [
        "# Search Maze\n",
        "In a graph, find the end point starting from the start point\n",
        "Some learning about python\n",
        " * use of Map\n",
        " * use of namedtuple"
      ]
    },
    {
      "cell_type": "code",
      "metadata": {
        "colab": {
          "base_uri": "https://localhost:8080/"
        },
        "id": "i26pGq0cumWU",
        "outputId": "879a5e45-8195-4ebf-8fe5-db0becd03b59"
      },
      "source": [
        "import collections\n",
        "from typing import List\n",
        "\n",
        "# define flags for 0 and 1\n",
        "WHITE, BLACK = range(2)\n",
        "\n",
        "def search_maze(maze: List[List[int]], s: Coordinate, e: Coordinate) -> bool:\n",
        "  # prefer DFS to search the destination\n",
        "  def search_maze_helper(cur):\n",
        "    if not (0 <= cur.x < len(maze) and 0 <= cur.y < len(maze[cur.x]) and maze[cur.x][cur.y] == WHITE):\n",
        "      return False\n",
        "    # path.append(cur)\n",
        "    maze[cur.x][cur.y]=BLACK\n",
        "    if cur == e:\n",
        "      return True\n",
        "    # this is one of the use case of map in python where map takes functions and iterable and apply iterable to the functions\n",
        "    # see https://realpython.com/python-map-function/#processing-tuple-based-iterables-with-starmap\n",
        "    if any(map(search_maze_helper, map(Coordinate, (cur.x-1, cur.x+1, cur.x, cur.x), (cur.y, cur.y, cur.y-1, cur.y+1)))):\n",
        "      return True\n",
        "    #del path[-1] #this path was not successfull\n",
        "    return False\n",
        "  #path: List[Coordinate] = []\n",
        "  return search_maze_helper(s)\n",
        "  #return path\n",
        "\n",
        "maze = [[0, 0, 1, 0], \n",
        "        [0, 0, 1, 0], \n",
        "        [0, 0, 1, 0], \n",
        "        [0, 0, 1, 0], \n",
        "        [1, 0, 0, 1], \n",
        "        [0, 0, 0, 1]]\t\n",
        "start = Coordinate(0, 0)\n",
        "end = Coordinate(5, 2)\n",
        "path = search_maze(maze, start, end)\n",
        "print(path)"
      ],
      "execution_count": null,
      "outputs": [
        {
          "output_type": "stream",
          "text": [
            "True\n"
          ],
          "name": "stdout"
        }
      ]
    },
    {
      "cell_type": "markdown",
      "metadata": {
        "id": "MzQULFTD3nf3"
      },
      "source": [
        "# Paint a boolean matrix"
      ]
    },
    {
      "cell_type": "code",
      "source": [
        "import collections\n",
        "import random\n",
        "\n",
        "Cell = collections.namedtuple(\"Cell\", ('x','y'))\n",
        "def flip_color(x,y,A):\n",
        "  # main point is we have to keep the original color before we flip it\n",
        "  color = A[x][y]\n",
        "  q = collections.deque([Cell(x,y)]) # create a deque with first coordinate\n",
        "  A[x][y] = 1- A[x][y]\n",
        "\n",
        "  while q:\n",
        "    x, y = q.popleft()\n",
        "\n",
        "    for d in (0,1),(1,0),(-1,0),(0,-1):\n",
        "      next_x, next_y = d[0] + x, d[1] + y \n",
        "    \n",
        "      if (0<= next_x <len(A) and 0 <= next_y < len(A[0])) and A[next_x][next_y] == color:\n",
        "        A[next_x][next_y] = 1- A[next_x][next_y]\n",
        "        q.append(Cell(next_x, next_y))\n",
        "   \n",
        "n=10\n",
        "\n",
        "A = [[random.randint(0, 1) for _ in range(n)] for _ in range(n)]\n",
        "i, j = random.randrange(n), random.randrange(n)\n",
        "\n",
        "print('\\n'.join(' '.join(str(j) for j in row) for row in A ))\n",
        "print(i,j)\n",
        "flip_color(i,j, A)\n",
        "print('\\n'.join(' '.join(str(j) for j in row) for row in A ))\n",
        "\n",
        "# we can also do this using DFS and does not need to use "
      ],
      "metadata": {
        "id": "_a94ZJ0qeILj",
        "colab": {
          "base_uri": "https://localhost:8080/"
        },
        "outputId": "b90cdda2-9e1b-4624-9abe-2291c186c9e0"
      },
      "execution_count": 28,
      "outputs": [
        {
          "output_type": "stream",
          "name": "stdout",
          "text": [
            "1 0 0 0 0 1 0 0 1 1\n",
            "0 1 0 1 1 0 0 0 0 0\n",
            "1 1 0 1 0 0 0 0 1 0\n",
            "1 0 1 1 1 0 0 1 1 0\n",
            "0 0 0 0 1 1 1 0 1 0\n",
            "0 1 0 0 0 0 1 0 1 0\n",
            "0 1 1 1 1 0 1 1 1 1\n",
            "1 1 1 1 1 1 0 1 0 0\n",
            "1 0 0 0 1 1 1 1 0 0\n",
            "1 0 0 0 1 1 1 0 0 1\n",
            "1 1\n",
            "1 0 0 0 0 1 0 0 1 1\n",
            "0 0 0 1 1 0 0 0 0 0\n",
            "0 0 0 1 0 0 0 0 1 0\n",
            "0 0 1 1 1 0 0 1 1 0\n",
            "0 0 0 0 1 1 1 0 1 0\n",
            "0 1 0 0 0 0 1 0 1 0\n",
            "0 1 1 1 1 0 1 1 1 1\n",
            "1 1 1 1 1 1 0 1 0 0\n",
            "1 0 0 0 1 1 1 1 0 0\n",
            "1 0 0 0 1 1 1 0 0 1\n"
          ]
        }
      ]
    },
    {
      "cell_type": "markdown",
      "source": [
        "## Compute enclosed region of a grid\n",
        "* This is a tricky problem. At first, it look like, we will process each grid entry that are white and check if it reach any of the boundary cells. But that would be little bit complex.\n",
        "* It would be easier, if we calculate for all boundary cell, add flag. Whichever cell we cannot reach will remain white. We will recolor flagged cells\n"
      ],
      "metadata": {
        "id": "YBmY4GkdqFhQ"
      }
    },
    {
      "cell_type": "code",
      "source": [
        "import collections\n",
        "\n",
        "def compute_enclosed(A):\n",
        "  m, n = len(A), len(A[0])\n",
        "  q = collections.deque([(i,j) for k in range(n) for i, j in ((k,0), (k, n-1))] + [ (i, j) for k in range(m) for i, j in ((0,k),(m-1, k))])\n",
        "\n",
        "  while q:\n",
        "    x, y = q.popleft()\n",
        "\n",
        "    if 0<= x < m and 0 <= y <n and A[x][y] == 'W':\n",
        "      A[x][y] = 'T'\n",
        "      q.extend([(x-1, y),(x+1, y),(x, y-1),(x, y+1)])\n",
        "  # when finished bfs, now replace T with W again, the enclosed part will remain white\n",
        "  A[:] = [['B' if c != 'T' else 'W' for c in row] for row in A ]\n",
        "A=[['B','B','B','B'],\n",
        "   ['W','B','W','B'],\n",
        "   ['B','w','W','B'],\n",
        "   ['B','B','B','B']\n",
        "   ]\n",
        "\n",
        "print('\\n'.join(' '.join(str(j) for j in row) for row in A )) \n",
        "compute_enclosed(A)\n",
        "print(\"--------------after perform----------\")\n",
        "print('\\n'.join(' '.join(str(j) for j in row) for row in A )) "
      ],
      "metadata": {
        "colab": {
          "base_uri": "https://localhost:8080/"
        },
        "id": "iBDEsNyOqFEG",
        "outputId": "53845998-0769-4ad9-a9d6-db9c3adf89e2"
      },
      "execution_count": 33,
      "outputs": [
        {
          "output_type": "stream",
          "name": "stdout",
          "text": [
            "B B B B\n",
            "W B W B\n",
            "B w W B\n",
            "B B B B\n",
            "--------------after perform----------\n",
            "B B B B\n",
            "W B B B\n",
            "B B B B\n",
            "B B B B\n"
          ]
        }
      ]
    },
    {
      "cell_type": "markdown",
      "source": [
        "##   Deadlock detection or cycle detection\n",
        "* Here, we can use coloring of the graph traversal. In DFS, initially, all nodes color is WHITE, when we first discover, color changed to GREY, and when it finished processing that node, the color is changed to Black.\n",
        "* During the process, if a Gray node reached to a GRAY node, then we can confirm that parent node has not finished processing and child is parent of its child."
      ],
      "metadata": {
        "id": "Mx11H7jR2owR"
      }
    },
    {
      "cell_type": "code",
      "source": [
        "# Instead of defined graph node just a key value, we can define actual vertex\n",
        "class GraphVertex:\n",
        "  white, grey, black = range(3)\n",
        "\n",
        "  def __init__(self):\n",
        "    self.color = GraphVertex.white\n",
        "    self.edges = []\n",
        "\n",
        "def build_graph(edges):\n",
        "\n",
        "  graph = [GraphVertex() for node in range(len(edges))]\n",
        "  for (fr, to) in edges:\n",
        "    if fr <0 or fr >=len(edges) or to <0 or to >=len(edges):\n",
        "      raise RuntimeError('Invalid vertex index')\n",
        "    graph[fr].edges.append(graph[to])\n",
        "  return graph \n",
        "\n",
        "def is_deadlock(G):\n",
        "  def has_cycle(cur):\n",
        "    if cur.color == GraphVertex.grey:\n",
        "      return True \n",
        "    \n",
        "    cur.color = GraphVertex.grey \n",
        "    if any(next.color != GraphVertex.black and has_cycle(next) for next in cur.edges):\n",
        "      return True \n",
        "    cur.color = GraphVertex.black \n",
        "\n",
        "  # check for all vertex of the graph\n",
        "  return any(vertex.color == GraphVertex.white and has_cycle(vertex) for vertex in G)\n",
        "# need to build a graph \n",
        "\n",
        "edges = [[0, 1],[0, 2],[1,2],[1,3],[3,4],[4,1],[5,4],[6,5],[6,3],[7,2]]\n",
        "graph = build_graph(edges)\n",
        "\n",
        "\n",
        "\n",
        "# print(graph)\n",
        "is_deadlock(graph)"
      ],
      "metadata": {
        "colab": {
          "base_uri": "https://localhost:8080/"
        },
        "id": "I5PfLsPI3P4x",
        "outputId": "d896e7c3-fb25-42eb-e205-9bfb6d4cd83c"
      },
      "execution_count": 43,
      "outputs": [
        {
          "output_type": "execute_result",
          "data": {
            "text/plain": [
              "True"
            ]
          },
          "metadata": {},
          "execution_count": 43
        }
      ]
    },
    {
      "cell_type": "markdown",
      "source": [
        "## Clone a graph\n"
      ],
      "metadata": {
        "id": "F12MVThGL5Iu"
      }
    },
    {
      "cell_type": "code",
      "source": [
        "class GraphVertex:\n",
        "  def __init__(self, label):\n",
        "    self.label = label\n",
        "    self.edges = []\n",
        "  \n",
        "def clone_graph(g):\n",
        "  if not g:\n",
        "    return None\n",
        "  \n",
        "  q = collections.deque([g])\n",
        "  vertex_map= {g: GraphVertex(g.label)} # create a vertext map for the cloned graph. add a new vertex for each vertex with the same label and update edges based on actual vertex edges\n",
        "\n",
        "  while q:\n",
        "    v = q.popleft()\n",
        "    for e in v.edges:\n",
        "      if e not in vertex_map:\n",
        "        vertex_map[e]= GraphVertex(e.label)\n",
        "        q.append(e)\n",
        "      vertex_map[v].edges.append(vertex_map[e]) ## add e which has a edge to v in original graph is linked to v in vertex map\n",
        "  return vertex_map[g] # return the first node of the newly created map or graph\n",
        "\n",
        "\n",
        "\n"
      ],
      "metadata": {
        "id": "-6EyvCrVisJT"
      },
      "execution_count": null,
      "outputs": []
    },
    {
      "cell_type": "markdown",
      "source": [
        "## Making wired connection \n",
        "* This is almost bipartite graph type problem\n"
      ],
      "metadata": {
        "id": "MGrqXUzxkU53"
      }
    },
    {
      "cell_type": "code",
      "source": [
        "class GraphVertex:\n",
        "  def __init__(self):\n",
        "    self.d=-1\n",
        "    self.edges = []\n",
        "\n",
        "def making_wired_connection(g):\n",
        "\n",
        "  def bfs(s):\n",
        "    s.d = 0\n",
        "    q = collections.deque([s])\n",
        "\n",
        "    while q:\n",
        "      for t in q[0].edges:\n",
        "        if t.d ==-1:\n",
        "          t.d= q[0].d +1\n",
        "          q.append(t)\n",
        "        elif t.d == q[0].d:\n",
        "          return False \n",
        "      del q[0]\n",
        "    return True \n",
        "  \n",
        "  return all(bfs(v) for v in g if v.d==-1)\n",
        "\n",
        "#  for test purpose\n",
        "def build_graph(edges):\n",
        "\n",
        "  graph = [GraphVertex() for node in range(len(edges))]\n",
        "  for (fr, to) in edges:\n",
        "    if fr <0 or fr >=len(edges) or to <0 or to >=len(edges):\n",
        "      raise RuntimeError('Invalid vertex index')\n",
        "    graph[fr].edges.append(graph[to])\n",
        "  return graph \n",
        "\n",
        "edges = [[0,1],[0,2],[0,3],[4,2],[4,3]]\n",
        "g = build_graph(edges)\n",
        "\n",
        "edges2 = [[0,1],[0,2],[0,3],[4,2],[4,3],[2,3]]\n",
        "g2 = build_graph(edges2)\n",
        "\n",
        "decision = making_wired_connection(g)\n",
        "\n",
        "print(decision)\n",
        "\n",
        "decision2 = making_wired_connection(g2)\n",
        "\n",
        "print(decision2)"
      ],
      "metadata": {
        "colab": {
          "base_uri": "https://localhost:8080/"
        },
        "id": "c35jfl9XkrRx",
        "outputId": "ea6782ab-e7c8-4dc0-ace4-2b1dd8c4e4bd"
      },
      "execution_count": 45,
      "outputs": [
        {
          "output_type": "stream",
          "name": "stdout",
          "text": [
            "True\n",
            "False\n"
          ]
        }
      ]
    },
    {
      "cell_type": "code",
      "source": [
        "class GraphVertex:\n",
        "  def __init__(self):\n",
        "    self.d=-1\n",
        "    self.edges = []\n",
        "\n",
        "def making_wired_connection(g):\n",
        "\n",
        "  def bfs(s):\n",
        "    s.d = 0\n",
        "    q = collections.deque([s])\n",
        "\n",
        "    while q:\n",
        "      u = q.popleft()\n",
        "      for t in u.edges:\n",
        "        if t.d ==-1:\n",
        "          t.d= u.d +1\n",
        "          q.append(t)\n",
        "        elif t.d == u.d:\n",
        "          return False \n",
        "      # del q[0]\n",
        "    return True \n",
        "  \n",
        "  return all(bfs(v) for v in g if v.d==-1)\n",
        "\n",
        "edges = [[0,1],[0,2],[0,3],[4,2],[4,3]]\n",
        "g = build_graph(edges)\n",
        "\n",
        "edges2 = [[0,1],[0,2],[0,3],[4,2],[4,3],[2,3]]\n",
        "g2 = build_graph(edges2)\n",
        "\n",
        "decision = making_wired_connection(g)\n",
        "\n",
        "print(decision)\n",
        "\n",
        "decision2 = making_wired_connection(g2)\n",
        "\n",
        "print(decision2)"
      ],
      "metadata": {
        "colab": {
          "base_uri": "https://localhost:8080/"
        },
        "id": "Gd_cC2DfpPvT",
        "outputId": "74515d1a-bd2c-41b2-9577-2837477762a9"
      },
      "execution_count": 48,
      "outputs": [
        {
          "output_type": "stream",
          "name": "stdout",
          "text": [
            "True\n",
            "False\n"
          ]
        }
      ]
    },
    {
      "cell_type": "markdown",
      "source": [
        "## Transform s to t\n",
        "with given dictionary D"
      ],
      "metadata": {
        "id": "I0k2fbJY3iJb"
      }
    },
    {
      "cell_type": "code",
      "source": [
        "import string\n",
        "# very simple bfs\n",
        "\n",
        "def transformation(D, s, t):\n",
        "  swd = collections.namedtuple(\"Swd\", (\"can_st\", 'd'))\n",
        "\n",
        "  q = collections.deque([swd(s,0)])\n",
        "  D.remove(s)\n",
        "\n",
        "  while q:\n",
        "    f = q.popleft()\n",
        "\n",
        "    if f.can_st == t:\n",
        "      return f.d \n",
        "    \n",
        "    # try all position transformation of the candidate string\n",
        "    for i in range(len(f.can_st)):\n",
        "      for c in string.ascii_lowercase: #all 26 lower case letter\n",
        "        cand = f.can_st[:i] + c + f.can_st[i+1:]\n",
        "        # can_st[:i] return substring 0 to i-1, if its 0, emty so that it starts with character c\n",
        "        if cand in D:\n",
        "          D.remove(cand)\n",
        "          q.append(swd(cand, f.d+1))\n",
        "  return -1\n",
        "\n",
        "dictionary = [\"bat\",\"cot\",\"dog\",\"dag\",\"dot\",\"cat\"]\n",
        "print(transformation(dictionary,\"cat\", \"dog\"))"
      ],
      "metadata": {
        "colab": {
          "base_uri": "https://localhost:8080/"
        },
        "id": "MzL3G40d3hwJ",
        "outputId": "25c4d70b-1b63-4768-a8e3-8961fedbbd09"
      },
      "execution_count": 51,
      "outputs": [
        {
          "output_type": "stream",
          "name": "stdout",
          "text": [
            "3\n"
          ]
        }
      ]
    },
    {
      "cell_type": "markdown",
      "source": [
        "### Larget team photo\n",
        "## Topological sorting algorithm\n",
        " \n",
        " TOPOLOGICAL-SORT(G)\n",
        " - call DFS(G) to compute finishing times v:f for each vertex v\n",
        " - as each vertex is finished, insert it onto the front of a linked list\n",
        " - return the linked list of vertices"
      ],
      "metadata": {
        "id": "9N4-dekgeJTO"
      }
    },
    {
      "cell_type": "code",
      "metadata": {
        "id": "9CgcEyF_3mXR",
        "colab": {
          "base_uri": "https://localhost:8080/"
        },
        "outputId": "8415d5ad-27ec-44dd-e216-ba4e587324fb"
      },
      "source": [
        "from typing import List\n",
        "\n",
        "class GraphVertex:\n",
        "  def __init__(self, label) -> None:\n",
        "    self.label=label\n",
        "    self.edges: List[GraphVertex] = []\n",
        "    # set max_distance to 0 to indicate it is unvisited. In this representation, we can set this based on requirement, i.e. can set color as white, black and brown\n",
        "    # in this case, we will keep distance to keep track of its distance from the source node\n",
        "    self.max_distance = 0 \n",
        "\n",
        "## This coding pattern is extremly concise and error prone. Also hard to debug. If you feel extremly confident, then you code code like this one\n",
        "## the book has code that are easy to follow and debug \n",
        "def find_largest_team(graph: List[GraphVertex]) -> int:\n",
        "\n",
        "  def dfs(curr):\n",
        "    curr.max_distance = max(\n",
        "        ((vertex.max_distance if vertex.max_distance != 0 else dfs(vertex)) +1  for vertex in curr.edges), default=1)\n",
        "    # the previous line is very very concise line of coding that do all the dfs distance calculation after traversing and calculate the max from the curr node.\n",
        "    # first step is if the node is not visited yet, we run dfs from the child node and add one.\n",
        "    # if it is already visited, then we will add 1 to that node\n",
        "    # after traversing all, we will calculate the max and return\n",
        "    return curr.max_distance\n",
        "\n",
        "  # we start processing for each node as start node if we already not have visited that as part of other node, as we do not have any prefered choice.\n",
        "  return max(dfs(g) for g in graph if g.max_distance == 0)\n",
        "\n",
        "def find_largest_number_team(graph: List[GraphVertex])->int:\n",
        "\n",
        "  def build_topological_ordering():\n",
        "    def dfs(cur):\n",
        "      cur.max_distance = 1\n",
        "      # print(cur.label)\n",
        "      for next in cur.edges:\n",
        "        if not next.max_distance:\n",
        "          # print(next.label)\n",
        "          dfs(next)\n",
        "      vertex_order.append(cur)\n",
        "      # print(cur.max_distance)\n",
        "\n",
        "    vertex_order = [] \n",
        "    for g in graph:\n",
        "      if not g.max_distance:\n",
        "        dfs(g)\n",
        "    # print(len(vertex_order))\n",
        "    return vertex_order\n",
        "    \n",
        "  def find_longest_path(vertex_order):\n",
        "    max_distance = 0\n",
        "    # print(len(vertex_order))\n",
        "    while vertex_order:\n",
        "      u = vertex_order.pop()\n",
        "      # print(u.label)\n",
        "      max_distance = max(max_distance, u.max_distance)\n",
        "\n",
        "      for v in u.edges:\n",
        "        v.max_distance = max(v.max_distance, u.max_distance+1)\n",
        "        # print(v.label, v.max_distance)\n",
        "    return max_distance\n",
        "\n",
        "  return find_longest_path(build_topological_ordering())\n",
        "\n",
        "def build_test_graph():\n",
        "  k=9\n",
        "  edges = [[0, 1],[0, 2],[1,2],[1,3],[3,4],[5,4],[6,5],[6,3],[7,2]]\n",
        "  graph = [GraphVertex(node) for node in range(k)]\n",
        "  \n",
        "  nodes=0\n",
        "  for (fr, to) in edges:\n",
        "    if fr <0 or fr >=k or to <0 or to >=k:\n",
        "      raise RuntimeError('Invalid vertex index')\n",
        "    graph[fr].edges.append(graph[to])\n",
        "\n",
        "  largest_team = find_largest_number_team(graph)\n",
        "  # print(str(graph[0].edges[0]))\n",
        "  print(largest_team)\n",
        "\n",
        "build_test_graph()\n",
        "     "
      ],
      "execution_count": null,
      "outputs": [
        {
          "output_type": "stream",
          "name": "stdout",
          "text": [
            "4\n"
          ]
        }
      ]
    }
  ]
}