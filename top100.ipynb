{
  "nbformat": 4,
  "nbformat_minor": 0,
  "metadata": {
    "colab": {
      "name": "top100.ipynb",
      "provenance": [],
      "authorship_tag": "ABX9TyMD1iOO/waVsFcMId+7v4xA",
      "include_colab_link": true
    },
    "kernelspec": {
      "name": "python3",
      "display_name": "Python 3"
    },
    "language_info": {
      "name": "python"
    }
  },
  "cells": [
    {
      "cell_type": "markdown",
      "metadata": {
        "id": "view-in-github",
        "colab_type": "text"
      },
      "source": [
        "<a href=\"https://colab.research.google.com/github/mahbubcsedu/interviewcoding/blob/main/top100.ipynb\" target=\"_parent\"><img src=\"https://colab.research.google.com/assets/colab-badge.svg\" alt=\"Open In Colab\"/></a>"
      ]
    },
    {
      "cell_type": "markdown",
      "source": [
        "## LC-1 Two sum\n",
        "A array  of integeris given together with a target integer\n",
        "\n",
        "### There is obviously a simple solution but cost is $0(n^2)$"
      ],
      "metadata": {
        "id": "H1gMPqhmcFTr"
      }
    },
    {
      "cell_type": "code",
      "execution_count": 8,
      "metadata": {
        "colab": {
          "base_uri": "https://localhost:8080/"
        },
        "id": "oqi1XZIMb7ph",
        "outputId": "77bbcad9-de8c-4671-8fbb-28ad46fbfa60"
      },
      "outputs": [
        {
          "output_type": "execute_result",
          "data": {
            "text/plain": [
              "[2, 3]"
            ]
          },
          "metadata": {},
          "execution_count": 8
        }
      ],
      "source": [
        "import typing\n",
        "def two_sum_bruteforce(nums, target: int) -> [int, int]:\n",
        "  for i in range(len(nums)):\n",
        "    for j in range(i+1, len(nums)):\n",
        "      if (nums[i] + nums[j] == target):\n",
        "        return [i,j] \n",
        "  return [-0,-1]\n",
        "\n",
        "two_sum_bruteforce([2,7,5,10], 15)"
      ]
    },
    {
      "cell_type": "markdown",
      "source": [
        "### Using sorting\n",
        "we can improve cost by sorting the list, but the expection is to return index not the true or false. The cost of sorting $O(nlogn)$ which dictates the timing"
      ],
      "metadata": {
        "id": "YIDNtXAeeA3h"
      }
    },
    {
      "cell_type": "code",
      "source": [
        "def two_sum_sorting(nums, target: int) -> bool:\n",
        "  nums.sort()\n",
        "  i=0 \n",
        "  j=len(nums)-1\n",
        "  while(i<j):\n",
        "    if (nums[i]+nums[j]==target):\n",
        "      return True\n",
        "    if nums[i]+nums[j] > target:\n",
        "      j=j-1\n",
        "    if nums[i] + nums[j] < target:\n",
        "      i=i+1\n",
        "  return False\n",
        "two_sum_sorting([2,7,5,10], 9)"
      ],
      "metadata": {
        "colab": {
          "base_uri": "https://localhost:8080/"
        },
        "id": "fx8_egSgeV5i",
        "outputId": "a8d60c3a-bbc5-46af-b1b4-71ef01c13f37"
      },
      "execution_count": 14,
      "outputs": [
        {
          "output_type": "execute_result",
          "data": {
            "text/plain": [
              "True"
            ]
          },
          "metadata": {},
          "execution_count": 14
        }
      ]
    },
    {
      "cell_type": "markdown",
      "source": [
        "### Using hash\n",
        "we can store each element to the hash as we iterate over the list, and can try to find target-element from the map. if it exists we can return the item index. But for that, we need to store index as well as the item\n"
      ],
      "metadata": {
        "id": "YYS_IOq2nsot"
      }
    },
    {
      "cell_type": "code",
      "source": [
        "def two_sum_map(nums: [int], target:int)-> [int, int]:\n",
        "  hash_map={}\n",
        "  for i in range(len(nums)):\n",
        "    if(target-nums[i] in hash_map):\n",
        "      return [hash_map.get(target-nums[i]),i]\n",
        "    else:\n",
        "      hash_map[nums[i]] = i\n",
        "  return [-1,-1]\n",
        "\n",
        "two_sum_map([2,7,5,10], 9)"
      ],
      "metadata": {
        "colab": {
          "base_uri": "https://localhost:8080/"
        },
        "id": "SzqSZgaYnpct",
        "outputId": "4e8418f1-c9c9-4267-9a66-fc141cd7be15"
      },
      "execution_count": 22,
      "outputs": [
        {
          "output_type": "execute_result",
          "data": {
            "text/plain": [
              "[0, 1]"
            ]
          },
          "metadata": {},
          "execution_count": 22
        }
      ]
    }
  ]
}