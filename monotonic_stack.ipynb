{
  "nbformat": 4,
  "nbformat_minor": 0,
  "metadata": {
    "colab": {
      "provenance": [],
      "include_colab_link": true
    },
    "kernelspec": {
      "name": "python3",
      "display_name": "Python 3"
    },
    "language_info": {
      "name": "python"
    }
  },
  "cells": [
    {
      "cell_type": "markdown",
      "metadata": {
        "id": "view-in-github",
        "colab_type": "text"
      },
      "source": [
        "<a href=\"https://colab.research.google.com/github/mahbubcsedu/interviewcoding/blob/main/monotonic_stack.ipynb\" target=\"_parent\"><img src=\"https://colab.research.google.com/assets/colab-badge.svg\" alt=\"Open In Colab\"/></a>"
      ]
    },
    {
      "cell_type": "markdown",
      "source": [
        "# Monotonic stack\n",
        "- Monotonic stack is a specifal form of stack where elements inside the stack is non decreasing or non-increasing order.\n",
        "- It could be a index sometimes and compares corresponding values in certain type of problem\n",
        "||\n",
        "---\n",
        "The basic form of this technique is to maintain a increasing/decreasing stack.\n",
        "When processing current elements, compare it with top of the stack and decides\n",
        "whether appending new one will keep that condition true.\n",
        "\n",
        "A basic pseudo-code in python format is given bellow"
      ],
      "metadata": {
        "id": "DDPPqP8EA1Ll"
      }
    },
    {
      "cell_type": "markdown",
      "source": [
        "\n",
        "\n",
        "```python\n",
        "# Pseudo-codoe of this form\n",
        "nums=[1,4,2,8,10]\n",
        "\n",
        "for i in range(n):\n",
        "  while stack and stack[-1] > nums[i]:\n",
        "    stack.pop()\n",
        "  stack.append(nums[i])\n",
        "```\n",
        "\n"
      ],
      "metadata": {
        "id": "_q4eGqF4R49K"
      }
    },
    {
      "cell_type": "markdown",
      "source": [
        "## Extample 1\n",
        "Convert bellow array to monotonic stack\n",
        "\n",
        "```python\n",
        "nums = [2, 3, 7, 11, 5, 17, 19]\n",
        "```\n",
        "\n",
        "Output of this solution will be a stack which contains incresing elements\n"
      ],
      "metadata": {
        "id": "MqOMGQB4Rnt_"
      }
    },
    {
      "cell_type": "code",
      "execution_count": null,
      "metadata": {
        "colab": {
          "base_uri": "https://localhost:8080/"
        },
        "id": "kFE9MWYh7fN5",
        "outputId": "32e03589-449c-4e5d-990d-c2163c11a3c0"
      },
      "outputs": [
        {
          "output_type": "stream",
          "name": "stdout",
          "text": [
            "[2, 3, 5, 17, 19]\n",
            "[2, 17, 19]\n"
          ]
        }
      ],
      "source": [
        "def monotonicStack(nums):\n",
        "  n=len(nums)\n",
        "  stack =[]\n",
        "\n",
        "  for i in range(n):\n",
        "    while stack and stack[-1] >= nums[i]:\n",
        "      stack.pop()\n",
        "    stack.append(nums[i])\n",
        "  return stack\n",
        "# test\n",
        "nums = [2, 3, 7, 11, 5, 17, 19]\n",
        "result = monotonicStack(nums)\n",
        "print(result)\n",
        "nums = [2, 3, 7, 11, 2, 17, 19]\n",
        "result = monotonicStack(nums)\n",
        "print(result)"
      ]
    },
    {
      "cell_type": "markdown",
      "source": [
        "## A list of problems (mainly from Leetcode)\n",
        "\n",
        "### Next greater element\n",
        "Ref: [Geek of the geeks](https://www.geeksforgeeks.org/next-greater-element/#)\n",
        "\n",
        "Problem 1:\n",
        "```python\n",
        "Input: nums = [2, 7, 3, 5, 4, 6, 8]\n",
        "Output: [7, 8, 5, 6, 6, 8, -1]\n",
        "```"
      ],
      "metadata": {
        "id": "yQrosMr_TO8f"
      }
    },
    {
      "cell_type": "code",
      "source": [
        "def getNextGreaterElement(nums):\n",
        "  n=len(nums)\n",
        "  stack, result=[], [-1]*n\n",
        "\n",
        "  for i in range(n):\n",
        "    # if cur element is greater than top, then cur will be\n",
        "    # next greater of all element in the queue\n",
        "    while stack and nums[stack[-1]] < nums[i]:\n",
        "      result[stack.pop()] = nums[i]\n",
        "    stack.append(i)\n",
        "  return result\n",
        "nums = [2, 7, 3, 5, 4, 6, 8]\n",
        "print(getNextGreaterElement(nums))"
      ],
      "metadata": {
        "colab": {
          "base_uri": "https://localhost:8080/"
        },
        "id": "enxbIlS8TNdM",
        "outputId": "d0d4fe4b-d326-4842-d47c-f784eaa7605a"
      },
      "execution_count": null,
      "outputs": [
        {
          "output_type": "stream",
          "name": "stdout",
          "text": [
            "[7, 8, 5, 6, 6, 8, -1]\n"
          ]
        }
      ]
    },
    {
      "cell_type": "markdown",
      "source": [
        "## Problem 2\n",
        "Next greater element I\n",
        "Reference: [Leetcode-496](https://leetcode.com/problems/next-greater-element-i/)\n",
        "\n",
        "The next greater element of some element x in an array is the first greater element that is to the right of x in the same array.\n",
        "\n",
        "You are given two distinct 0-indexed integer arrays nums1 and nums2, where nums1 is a subset of nums2.\n",
        "\n",
        "For each 0 <= i < nums1.length, find the index j such that nums1[i] == nums2[j] and determine the next greater element of nums2[j] in nums2. If there is no next greater element, then the answer for this query is -1.\n",
        "\n",
        "Return an array ans of length nums1.length such that ans[i] is the next greater element as described above.\n",
        "\n",
        "```python\n",
        "Input: nums1 = [4,1,2], nums2 = [1,3,4,2]\n",
        "Output: [-1,3,-1]\n",
        "```\n",
        "Basically, we can calculate nums2 next greater, and keep it to a hashmap.\n",
        "Then we can search for each element from nums1."
      ],
      "metadata": {
        "id": "8NPzGoW6VFLW"
      }
    },
    {
      "cell_type": "code",
      "source": [
        "def nextGreaterElement1(nums1, nums2):\n",
        "  n=len(nums2)\n",
        "  d, stack= {}, []\n",
        "\n",
        "  for i in range(n):\n",
        "    while stack and stack[-1] < nums2[i]:\n",
        "      d[stack.pop()] = nums2[i]\n",
        "    stack.append(nums2[i])\n",
        "\n",
        "  for i in range(len(nums1)):\n",
        "    nums1[i]=d.get(nums1[i],-1)\n",
        "  return nums1\n",
        "\n",
        "n1, n2 = [4,1,2], [1,3,4,2]\n",
        "\n",
        "print(nextGreaterElement1(n1,n2))\n"
      ],
      "metadata": {
        "colab": {
          "base_uri": "https://localhost:8080/"
        },
        "id": "uy5UOalAWRUP",
        "outputId": "6ab668e6-9f67-4f57-cb6e-17319baba66a"
      },
      "execution_count": null,
      "outputs": [
        {
          "output_type": "stream",
          "name": "stdout",
          "text": [
            "[-1, 3, -1]\n"
          ]
        }
      ]
    },
    {
      "cell_type": "markdown",
      "source": [
        "## Problem 3\n",
        "Referece: [Leetcode-503](https://leetcode.com/problems/next-greater-element-ii/description/)\n",
        "\n",
        "Given a circular integer array nums (i.e., the next element of nums[nums.length - 1] is nums[0]), return the next greater number for every element in nums.\n",
        "\n",
        "The next greater number of a number x is the first greater number to its traversing-order next in the array, which means you could search circularly to find its next greater number. If it doesn't exist, return -1 for this number.\n",
        "\n",
        "Example 1:\n",
        "\n",
        "```\n",
        "Input: nums = [1,2,1]\n",
        "Output: [2,-1,2]\n",
        "```\n",
        "\n",
        "\n",
        "Explanation: The first 1's next greater number is 2;\n",
        "The number 2 can't find next greater number.\n",
        "The second 1's next greater number needs to search circularly, which is also 2.\n",
        "Example 2:\n",
        "\n",
        "\n",
        "```\n",
        "Input: nums = [1,2,3,4,3]\n",
        "Output: [2,3,4,-1,4]\n",
        "```\n",
        "This will not end at the last element as we can find on circular basis. But, it is confirmed that if we look for the next greater to the array 2 times, we are sure to get the result"
      ],
      "metadata": {
        "id": "YT15qk2cZ1nG"
      }
    },
    {
      "cell_type": "code",
      "source": [
        "def nextGreaterElements2(nums):\n",
        "  n=len(nums)\n",
        "  stack=[]\n",
        "  nextGreater=[-1]*n\n",
        "\n",
        "  for i in range(2*n-1):\n",
        "    index = i%n # as need to get index in circular fashion\n",
        "\n",
        "    while stack and stack[-1][1] < nums[index]:\n",
        "      resIndex, _ = stack.pop()\n",
        "      nextGreater[resIndex] = nums[index] # we cannot use i as it will overflow\n",
        "    stack.append((index, nums[index]))\n",
        "  return nextGreater\n",
        "\n",
        "nums = [1,2,3,4,3]\n",
        "print(nextGreaterElements2(nums))"
      ],
      "metadata": {
        "colab": {
          "base_uri": "https://localhost:8080/"
        },
        "id": "oi0fn3cNarcR",
        "outputId": "5742e409-f13b-46bd-a3e7-489256ac0330"
      },
      "execution_count": null,
      "outputs": [
        {
          "output_type": "stream",
          "name": "stdout",
          "text": [
            "[2, 3, 4, -1, 4]\n"
          ]
        }
      ]
    },
    {
      "cell_type": "markdown",
      "source": [
        "## Problem 4: Steps to make array non-decreasing\n",
        "You are given a 0-indexed integer array nums. In one step, remove all elements nums[i] where nums[i - 1] > nums[i] for all 0 < i < nums.length.\n",
        "\n",
        "Return the number of steps performed until nums becomes a non-decreasing array.\n",
        "\n",
        "\n",
        "\n",
        "Example 1:\n",
        "\n",
        "```\n",
        "Input: nums = [5,3,4,4,7,3,6,11,8,5,11]\n",
        "Output: 3\n",
        "Explanation: The following are the steps performed:\n",
        "- Step 1: [5,3,4,4,7,3,6,11,8,5,11] becomes [5,4,4,7,6,11,11]\n",
        "- Step 2: [5,4,4,7,6,11,11] becomes [5,4,7,11,11]\n",
        "- Step 3: [5,4,7,11,11] becomes [5,7,11,11]\n",
        "[5,7,11,11] is a non-decreasing array. Therefore, we return 3.\n",
        "```\n",
        "Example 2:\n",
        "```\n",
        "Input: nums = [4,5,7,7,13]\n",
        "Output: 0\n",
        "Explanation: nums is already a non-decreasing array. Therefore, we return 0.\n",
        "```\n",
        "\n",
        "As a solution, we can look from end to start, if curent item is greater than top of stack, we have to remove that and will add one cost at that steps,\n",
        "if we need to to remove multiple, the max steps will be required to make it no-decreasing.\n",
        "- create a stack and dp with 0 entry\n",
        "- if stack top is less than current, we will remove it and add cost to current index at dp one more cost. That is , if removing top of stack found that that elmenet was put there after removing k elements, then tototal will be 1+k, we will take the max"
      ],
      "metadata": {
        "id": "-Nsv56HhcKfR"
      }
    },
    {
      "cell_type": "code",
      "source": [
        "def totalSteps(nums):\n",
        "  n=len(nums)\n",
        "  dp = [0] * n\n",
        "  stack=[]\n",
        "  res=0\n",
        "\n",
        "  for i in range(n-1, -1, -1):\n",
        "    while stack and nums[stack[-1]] < nums[i]:\n",
        "      dp[i] = max(dp[i]+1, dp[stack.pop()])\n",
        "      res = max(res, dp[i])\n",
        "    stack.append(i)\n",
        "  return res\n",
        "nums = [5,3,4,4,7,3,6,11,8,5,11]\n",
        "print(totalSteps(nums))\n"
      ],
      "metadata": {
        "colab": {
          "base_uri": "https://localhost:8080/"
        },
        "id": "NoBL_NPRdSsW",
        "outputId": "ebd3b9c1-718c-43a7-f996-9c9f6fb62062"
      },
      "execution_count": null,
      "outputs": [
        {
          "output_type": "stream",
          "name": "stdout",
          "text": [
            "3\n"
          ]
        }
      ]
    },
    {
      "cell_type": "markdown",
      "source": [
        "## Problem 5\n",
        "Trapping rain water\n",
        "\n",
        "Given n non-negative integers representing an elevation map where the width of each bar is 1, compute how much water it can trap after raining.\n",
        "\n",
        "```\n",
        "Input: height = [0,1,0,2,1,0,1,3,2,1,2,1]\n",
        "Output: 6\n",
        "Explanation: The above elevation map (black section) is represented by array [0,1,0,2,1,0,1,3,2,1,2,1]. In this case, 6 units of rain water (blue section) are being trapped.\n",
        "```\n"
      ],
      "metadata": {
        "id": "qxm6nutr0DzK"
      }
    },
    {
      "cell_type": "code",
      "source": [
        "# using monotonic stack we can keep until if the current item is less\n",
        "# if cur is greater than stack top, then we calculate area for that hight\n",
        "# we will only calculate area for current height and min hieght difference by length, so that we can avoid double calculate later on.\n",
        "\n",
        "def trap(height):\n",
        "  n=len(height)\n",
        "  stack = []\n",
        "  total = 0\n",
        "\n",
        "  for i in range(n):\n",
        "    while stack and height[stack[-1]] < height[i]:\n",
        "      prevLowIndex= stack.pop()\n",
        "      # if only one in the stack, no water can be hold\n",
        "      if not stack:\n",
        "        break\n",
        "      # take smaller one from height of current top of the stack and current one\n",
        "      # if current top is smaller than current item, we will double count area\n",
        "      hVal= min(height[stack[-1]], height[i]) - height[prevLowIndex]\n",
        "      total += hVal*(i-stack[-1]-1) # keeping only smaller, so, it will be whole area of\n",
        "      # already processed lower\n",
        "    stack.append(i)\n",
        "\n",
        "  return total\n",
        "height = [0,1,0,2,1,0,1,3,2,1,2,1]\n",
        "print(trap(height))"
      ],
      "metadata": {
        "colab": {
          "base_uri": "https://localhost:8080/"
        },
        "id": "0UAwIzEY7MvD",
        "outputId": "35288e79-5026-4c40-fa8d-8d228b759f9b"
      },
      "execution_count": null,
      "outputs": [
        {
          "output_type": "stream",
          "name": "stdout",
          "text": [
            "6\n"
          ]
        }
      ]
    },
    {
      "cell_type": "markdown",
      "source": [
        "## Smallest Subsequence of Distinct Characters\n",
        "Reference: Leetcode\n",
        "Given a string s, return the lexicographically smallest subsequence of s that contains all the distinct characters of s exactly once.\n",
        "\n",
        "```\n",
        "Input: s = \"bcabc\"\n",
        "Output: \"abc\"\n",
        "```\n",
        "We can use monotonic stack by keeping characters in increasing order lexicographically\n"
      ],
      "metadata": {
        "id": "9kbqz4_AjAv_"
      }
    },
    {
      "cell_type": "code",
      "source": [
        "def smallestSubDistinct(s):\n",
        "  n = len(s)\n",
        "  stack=[]\n",
        "  d={}\n",
        "\n",
        "  for i,ch in enumerate(s):\n",
        "      d[ch] = i # keep last index of each character\n",
        "\n",
        "  for i in range(n):\n",
        "    if s[i] not in stack:\n",
        "      while stack and i < d[stack[-1]] and ord(s[i]) < ord(stack[-1]):\n",
        "        stack.pop()\n",
        "      stack.append(s[i])\n",
        "  return \"\".join(stack)\n",
        "\n",
        "s=\"bcabc\"\n",
        "print(smallestSubDistinct(s))"
      ],
      "metadata": {
        "colab": {
          "base_uri": "https://localhost:8080/"
        },
        "id": "5YEKPJ1ylnYH",
        "outputId": "b918a4a0-0a1e-4436-b262-a7df9c3fc538"
      },
      "execution_count": null,
      "outputs": [
        {
          "output_type": "stream",
          "name": "stdout",
          "text": [
            "abc\n"
          ]
        }
      ]
    },
    {
      "cell_type": "markdown",
      "source": [
        "## Problem 7: Maximum score of a good subway\n",
        "You are given an array of integers nums (0-indexed) and an integer k.\n",
        "\n",
        "The score of a subarray (i, j) is defined as min(nums[i], nums[i+1], ..., nums[j]) * (j - i + 1). A good subarray is a subarray where i <= k <= j.\n",
        "\n",
        "Return the maximum possible score of a good subarray.\n",
        "\n",
        "```\n",
        "Example 1:\n",
        "\n",
        "Input: nums = [1,4,3,7,4,5], k = 3\n",
        "Output: 15\n",
        "Explanation: The optimal subarray is (1, 5) with a score of min(4,3,7,4,5) * (5-1+1) = 3 * 5 = 15.\n",
        "Example 2:\n",
        "\n",
        "Input: nums = [5,5,4,5,4,1,1,1], k = 0\n",
        "Output: 20\n",
        "Explanation: The optimal subarray is (0, 4) with a score of min(5,5,4,5,4) * (4-0+1) = 4 * 5 = 20.\n",
        "```"
      ],
      "metadata": {
        "id": "NItLhiIQiZJ0"
      }
    },
    {
      "cell_type": "code",
      "source": [
        "from typing import List\n",
        "class MaximumScoreSub:\n",
        "    def maximumScore(self, nums: List[int], k: int) -> int:\n",
        "        n=len(nums)\n",
        "\n",
        "        def leftNextMin():\n",
        "            nextMin=[-1]*n\n",
        "            stack=[]\n",
        "\n",
        "            for i in range(n-1,-1,-1):\n",
        "                while stack and nums[stack[-1]] > nums[i]:\n",
        "                    nextMin[stack.pop()]=i\n",
        "                stack.append(i)\n",
        "            return nextMin\n",
        "\n",
        "        def rightPrevMin():\n",
        "            prevMin=[n]*n # choose out of array value if not present\n",
        "            stack=[]\n",
        "\n",
        "            for i in range(n):\n",
        "                while stack and nums[stack[-1]] > nums[i]:\n",
        "                    prevMin[stack.pop()]=i\n",
        "                stack.append(i)\n",
        "            return prevMin\n",
        "\n",
        "        ans=0\n",
        "        left, right=leftNextMin(), rightPrevMin()\n",
        "        print(right)\n",
        "\n",
        "        for i in range(n):\n",
        "            if left[i] < k and right[i] >k:\n",
        "                ans=max(ans, nums[i]*(right[i]-left[i]-1))\n",
        "        return ans\n",
        "\n",
        "nums = [1,4,3,7,4,5]\n",
        "k=2\n",
        "obj = MaximumScoreSub()\n",
        "print(obj.maximumScore(nums,k))\n"
      ],
      "metadata": {
        "colab": {
          "base_uri": "https://localhost:8080/"
        },
        "id": "jJcVFBLtidO4",
        "outputId": "22f5960b-7a60-481e-e1b3-6f2fa6892ee7"
      },
      "execution_count": null,
      "outputs": [
        {
          "output_type": "stream",
          "name": "stdout",
          "text": [
            "[6, 2, 6, 4, 6, 6]\n",
            "15\n"
          ]
        }
      ]
    },
    {
      "cell_type": "markdown",
      "source": [
        "## Problem 8: 132 Pattern\n",
        "Given an array of n integers nums, a 132 pattern is a subsequence of three integers nums[i], nums[j] and nums[k] such that i < j < k and nums[i] < nums[k] < nums[j].\n",
        "\n",
        "Return true if there is a 132 pattern in nums, otherwise, return false.\n",
        "\n",
        "```\n",
        "Example 1:\n",
        "\n",
        "Input: nums = [1,2,3,4]\n",
        "Output: false\n",
        "Explanation: There is no 132 pattern in the sequence.\n",
        "Example 2:\n",
        "\n",
        "Input: nums = [3,1,4,2]\n",
        "Output: true\n",
        "Explanation: There is a 132 pattern in the sequence: [1, 4, 2].\n",
        "Example 3:\n",
        "\n",
        "Input: nums = [-1,3,2,0]\n",
        "Output: true\n",
        "Explanation: There are three 132 patterns in the sequence: [-1, 3, 2], [-1, 3, 0] and [-1, 2, 0].\n",
        "```\n"
      ],
      "metadata": {
        "id": "IOHYpvkj6PG_"
      }
    },
    {
      "cell_type": "code",
      "source": [
        "# basically keep in monotonic stack ever increasing, if decreasing found  132, so, 2,3 goes there, now if we see 2, stack break,\n",
        "# pop 3, keep stack =[1,2], now if anything come that are less than 3 will fulfill the condition\n",
        "\n",
        "# step1: s=[2], right=-inf\n",
        "# step2: else condistion true, right=2, s=[4]\n",
        "# step3: if condition fullfilled, 1<2, return True\n",
        "\n",
        "\n",
        "# one condition is not clear, 132, means nums[k] < nums[j] and nums[i] < nums[k], in this input, nums=[1,2,3,4,5,6,7,8,6,5,4,3,2,1,0], when 8 was inserted\n",
        "# last right will be 6, so, until we have a number in the left less than 6, it will not be true\n",
        "\n",
        "def find132Pattern(nums):\n",
        "  if len(nums) < 3:\n",
        "    return False\n",
        "\n",
        "  right = float('-inf')\n",
        "  stack=[]\n",
        "\n",
        "  for i in range(len(nums)-1, -1, -1):\n",
        "    if nums[i] < right:\n",
        "      return True\n",
        "    else:\n",
        "      while stack and stack[-1] < nums[i]:\n",
        "        right=stack.pop()\n",
        "    stack.append(nums[i])\n",
        "    print(stack)\n",
        "  return False\n",
        "\n",
        "# nums=[3,1,4,2]\n",
        "# print(find132Pattern(nums))\n",
        "\n",
        "nums=[1,2,3,4,5,6,7,8,6,5,4,3,2,1,0]\n",
        "print(find132Pattern(nums))"
      ],
      "metadata": {
        "colab": {
          "base_uri": "https://localhost:8080/"
        },
        "id": "let7qVFr6bOv",
        "outputId": "658b3b0b-f6b3-4123-9ce1-b2734b390676"
      },
      "execution_count": null,
      "outputs": [
        {
          "output_type": "stream",
          "name": "stdout",
          "text": [
            "[0]\n",
            "[1]\n",
            "[2]\n",
            "[3]\n",
            "[4]\n",
            "[5]\n",
            "[6]\n",
            "[8]\n",
            "[8, 7]\n",
            "[8, 7, 6]\n",
            "True\n"
          ]
        }
      ]
    },
    {
      "cell_type": "markdown",
      "source": [
        "## Largest rectable histogram"
      ],
      "metadata": {
        "id": "5J2YBgKbZttt"
      }
    },
    {
      "cell_type": "code",
      "source": [
        "from typing import List\n",
        "def largestRectangleArea(heights: List[int]) -> int:\n",
        "    # maintain a stack add elements if it is greater than top with index\n",
        "    # if it is smaller, then calculate area like 2, 1\n",
        "    # add 1, 5, 6, then when 2, calculate using 6, 5 and then add 2, 3\n",
        "    best = 0\n",
        "    cur = 0\n",
        "\n",
        "    stack = []\n",
        "\n",
        "    for i,h in enumerate(heights):\n",
        "        start = i # this will keep track of the last block that was greater then n\n",
        "        if stack and h == stack[-1][0]:\n",
        "            continue\n",
        "\n",
        "        if stack and stack[-1][0] > h:\n",
        "            while stack and stack[-1][0] > h:\n",
        "                val, index = stack.pop()\n",
        "                cur = (i-index) * val\n",
        "                best = max(best, cur)\n",
        "                start = index\n",
        "        # if greater than top of stack, it only contribute for current and next if any\n",
        "        # if less then top of stack, then current elements will block previous all,\n",
        "        # so pop and calculate max area for all those that are bigger than current h\n",
        "        stack.append((h,start))\n",
        "        print(stack)\n",
        "\n",
        "    while stack:\n",
        "        val, index = stack.pop()\n",
        "        cur = (len(heights) - index) * val\n",
        "        best = max(best, cur)\n",
        "    return best\n",
        "print(largestRectangleArea([2,1,5,6,2,3]))\n",
        "print(largestRectangleArea([1,2,3,4,5,6])) # 1 contribute to all , 2 for all next and so on\n",
        "print(largestRectangleArea([5,4,3,2,1])) # 1 contribute to all , 2 for all next and so on\n"
      ],
      "metadata": {
        "colab": {
          "base_uri": "https://localhost:8080/"
        },
        "id": "p4Os9cHtZxD7",
        "outputId": "b793d6f9-49cc-4ea2-c774-c3a582e8785c"
      },
      "execution_count": null,
      "outputs": [
        {
          "output_type": "stream",
          "name": "stdout",
          "text": [
            "[(2, 0)]\n",
            "[(1, 0)]\n",
            "[(1, 0), (5, 2)]\n",
            "[(1, 0), (5, 2), (6, 3)]\n",
            "[(1, 0), (2, 2)]\n",
            "[(1, 0), (2, 2), (3, 5)]\n",
            "10\n",
            "[(1, 0)]\n",
            "[(1, 0), (2, 1)]\n",
            "[(1, 0), (2, 1), (3, 2)]\n",
            "[(1, 0), (2, 1), (3, 2), (4, 3)]\n",
            "[(1, 0), (2, 1), (3, 2), (4, 3), (5, 4)]\n",
            "[(1, 0), (2, 1), (3, 2), (4, 3), (5, 4), (6, 5)]\n",
            "12\n",
            "[(5, 0)]\n",
            "[(4, 0)]\n",
            "[(3, 0)]\n",
            "[(2, 0)]\n",
            "[(1, 0)]\n",
            "9\n"
          ]
        }
      ]
    },
    {
      "cell_type": "markdown",
      "source": [
        "## 907: sum of subarray minimum\n",
        "Given an array of integers arr, find the sum of min(b), where b ranges over every (contiguous) subarray of arr. Since the answer may be large, return the answer modulo 109 + 7.\n",
        "\n",
        "\n",
        "\n",
        "Example 1:\n",
        "\n",
        "Input: arr = [3,1,2,4]\n",
        "Output: 17\n",
        "Explanation:\n",
        "Subarrays are [3], [1], [2], [4], [3,1], [1,2], [2,4], [3,1,2], [1,2,4], [3,1,2,4].\n",
        "Minimums are 3, 1, 2, 4, 1, 1, 2, 1, 1, 1.\n",
        "Sum is 17.\n",
        "Example 2:\n",
        "\n",
        "Input: arr = [11,81,94,43,3]\n",
        "Output: 444"
      ],
      "metadata": {
        "id": "9Y7Xu13exNqG"
      }
    },
    {
      "cell_type": "code",
      "source": [
        "# prompt: Given an array of integers arr, find the sum of min(b), where b ranges over every (contiguous) subarray of arr. Since the answer may be large, return the answer modulo 109 + 7.\n",
        "# Example 1:\n",
        "# Input: arr = [3,1,2,4] Output: 17 Explanation: Subarrays are [3], [1], [2], [4], [3,1], [1,2], [2,4], [3,1,2], [1,2,4], [3,1,2,4]. Minimums are 3, 1, 2, 4, 1, 1, 2, 1, 1, 1. Sum is 17. Example 2:\n",
        "# Input: arr = [11,81,94,43,3] Output: 444\n",
        "from typing import List\n",
        "def sumSubarrayMins(arr: List[int]) -> int:\n",
        "    n = len(arr)\n",
        "    MOD = 10**9 + 7\n",
        "    stack = []\n",
        "    result = 0\n",
        "    for i in range(n):\n",
        "        while stack and arr[stack[-1]] >= arr[i]:\n",
        "            mid = stack.pop()\n",
        "            left = stack[-1] if stack else -1\n",
        "            right = i\n",
        "            result = (result + arr[mid] * (mid - left) * (right - mid)) % MOD\n",
        "        stack.append(i)\n",
        "    while stack:\n",
        "        mid = stack.pop()\n",
        "        left = stack[-1] if stack else -1\n",
        "        right = n\n",
        "        result = (result + arr[mid] * (mid - left) * (right - mid)) % MOD\n",
        "    return result\n",
        "nums = [3,1,2,4]\n",
        "print(sumSubarrayMins(nums))"
      ],
      "metadata": {
        "id": "hdd016x7xXXy",
        "outputId": "a92fa795-25de-4871-f53f-aec8af2db0aa",
        "colab": {
          "base_uri": "https://localhost:8080/"
        }
      },
      "execution_count": 2,
      "outputs": [
        {
          "output_type": "stream",
          "name": "stdout",
          "text": [
            "17\n"
          ]
        }
      ]
    },
    {
      "cell_type": "code",
      "source": [
        "def sumSubarrayMins(arr: List[int]) -> int:\n",
        "        MOD = 10 ** 9 + 7\n",
        "        stack = []\n",
        "        sum_of_minimums = 0;\n",
        "\n",
        "        for i in range(len(arr) + 1):\n",
        "\n",
        "            # when i reaches the array length, it is an indication that\n",
        "            # all the elements have been processed, and the remaining\n",
        "            # elements in the stack should now be popped out.\n",
        "\n",
        "            while stack and (i == len(arr) or arr[stack[-1]] >= arr[i]):\n",
        "\n",
        "                # Notice the sign \">=\", This ensures that no contribution\n",
        "                # is counted twice. right_boundary takes equal or smaller\n",
        "                # elements into account while left_boundary takes only the\n",
        "                # strictly smaller elements into account\n",
        "\n",
        "                mid = stack.pop()\n",
        "                left_boundary = -1 if not stack else stack[-1]\n",
        "                right_boundary = i\n",
        "\n",
        "                # count of subarrays where mid is the minimum element\n",
        "                count = (mid - left_boundary) * (right_boundary - mid)\n",
        "                sum_of_minimums += (count * arr[mid])\n",
        "\n",
        "            stack.append(i)\n",
        "\n",
        "        return sum_of_minimums % MOD\n",
        "nums= [3,1,2,4]\n",
        "print(sumSubarrayMins(nums))\n"
      ],
      "metadata": {
        "id": "MI5PGLrFxsBF",
        "outputId": "32708609-aa84-46f6-80c0-672cc639ca8f",
        "colab": {
          "base_uri": "https://localhost:8080/"
        }
      },
      "execution_count": 3,
      "outputs": [
        {
          "output_type": "stream",
          "name": "stdout",
          "text": [
            "17\n"
          ]
        }
      ]
    }
  ]
}