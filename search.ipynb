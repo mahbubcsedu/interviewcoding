{
  "nbformat": 4,
  "nbformat_minor": 0,
  "metadata": {
    "colab": {
      "provenance": [],
      "authorship_tag": "ABX9TyOlHzTxkJwioaUdSUk24WVB",
      "include_colab_link": true
    },
    "kernelspec": {
      "name": "python3",
      "display_name": "Python 3"
    },
    "language_info": {
      "name": "python"
    }
  },
  "cells": [
    {
      "cell_type": "markdown",
      "metadata": {
        "id": "view-in-github",
        "colab_type": "text"
      },
      "source": [
        "<a href=\"https://colab.research.google.com/github/mahbubcsedu/interviewcoding/blob/main/search.ipynb\" target=\"_parent\"><img src=\"https://colab.research.google.com/assets/colab-badge.svg\" alt=\"Open In Colab\"/></a>"
      ]
    },
    {
      "cell_type": "markdown",
      "source": [
        "# find the kth largest elements \n"
      ],
      "metadata": {
        "id": "nrGNs_gStRS7"
      }
    },
    {
      "cell_type": "markdown",
      "source": [
        "## Square root of x\n"
      ],
      "metadata": {
        "id": "qapSJrnc6aS7"
      }
    },
    {
      "cell_type": "code",
      "source": [
        "#  use cases, if the number is greater than 1, sqrt will decrease\n",
        "#  if number less than 1, sqrt will increase\n",
        "#  do we need decimal support? or integer only\n",
        "\n",
        "# 1. several process and most widely used method is newtons but need lot of math xk+1 = 1/2|xk + x/xk|\n",
        "# 2.  binary search\n",
        "#  calculator method sqrt(x) = e^(1/2(logz))\n",
        "\n",
        "import math \n",
        "\n",
        "def real_sqrt(x):\n",
        "  left, right = (1.0, x) if x >1.0 else (x, 1.0)\n",
        "\n",
        "  while not math.isclose(left, right):\n",
        "    mid = 0.5 *(left+right)\n",
        "    mid_squared = mid * mid\n",
        "\n",
        "    if mid_squared > x:\n",
        "      right = mid \n",
        "    else:\n",
        "      left = mid \n",
        "  return left \n",
        "\n",
        "\n",
        "def int_sqrt(k):\n",
        "  left, right =0, k\n",
        "\n",
        "\n",
        "  while left < right:\n",
        "    mid = (left+right)//2\n",
        "    mid_squared = mid * mid\n",
        "    \n",
        "    if mid_squared < k:\n",
        "      left = left + 1\n",
        "    else: \n",
        "      right = right -1\n",
        "  return left-1\n",
        "  "
      ],
      "metadata": {
        "id": "PBiIgaBA6fBa"
      },
      "execution_count": null,
      "outputs": []
    },
    {
      "cell_type": "code",
      "source": [
        "# use cases\n",
        "# 2,1,8,10,0,3,23 odd length\n",
        "# 2,1,8,10,0,3 even length\n",
        "# 1, length 1\n",
        "# should we expect empty array?\n",
        "\n",
        "from collections import namedtuple\n",
        "\n",
        "MinMax = namedtuple(\"MinMax\", (\"smallest\", \"largest\"))\n",
        "\n",
        "def cal_min_max(A):\n",
        "  def min_max(a,b):\n",
        "    return MinMax(a,b) if a < b else MinMax(b, a)\n",
        "  \n",
        "  if len(A) <=1: \n",
        "    return MinMax(A[0], A[0])\n",
        "  \n",
        "  global_min_max = min_max(A[0], A[1])\n",
        "  \n",
        "  for i in range(2, len(A)-1, 2):\n",
        "    # print(i)\n",
        "    local_min_max = min_max(A[i], A[i+1])\n",
        "    global_min_max = MinMax(min(global_min_max.smallest, local_min_max.smallest), max(global_min_max.largest, local_min_max.largest))\n",
        "  \n",
        "  # if len odd length, we still need to compare the last element\n",
        "\n",
        "  if len(A)%2: #if odd length\n",
        "    global_min_max = MinMax(min(global_min_max.smallest, A[-1]), max(global_min_max.largest, A[-1]))\n",
        "  return global_min_max\n",
        "\n",
        "minmax = cal_min_max([4,1,2,10,5,23,0,3,6,9,44])\n",
        "print(minmax.smallest, minmax.largest)\n",
        "minmax = cal_min_max([2])\n",
        "print(minmax.smallest, minmax.largest)"
      ],
      "metadata": {
        "colab": {
          "base_uri": "https://localhost:8080/"
        },
        "id": "mOBxXoCfypOo",
        "outputId": "3a606423-671a-4018-f82b-96abdbb34738"
      },
      "execution_count": 24,
      "outputs": [
        {
          "output_type": "stream",
          "name": "stdout",
          "text": [
            "0 44\n",
            "2 2\n"
          ]
        }
      ]
    },
    {
      "cell_type": "code",
      "source": [
        "import random\n",
        "def find_kth_largest(A, k):\n",
        "\n",
        "  def find_kth():\n",
        "    def partition_around_pivot(left, right, pivot_idx):\n",
        "      p_value = A[pivot_idx]\n",
        "      new_p_index = left\n",
        "      A[pivot_idx], A[right] = A[right], A[pivot_idx]\n",
        "\n",
        "      for i in range(left, right):\n",
        "        if A[i] > p_value: # cur value less than p value\n",
        "          A[i], A[new_p_index] = A[new_p_index], A[i]\n",
        "          new_p_index +=1\n",
        "      A[right], A[new_p_index] = A[new_p_index], A[right] # swap p element with new p\n",
        "      return new_p_index\n",
        "\n",
        "    left, right = 0, len(A)-1\n",
        "\n",
        "    while left < right:\n",
        "      pivot_idx = random.randint(left, right)\n",
        "      new_p_idx = partition_around_pivot(left, right, pivot_idx)\n",
        "\n",
        "      if new_p_idx  == k-1: \n",
        "        return A[new_p_idx]\n",
        "      elif new_p_idx >k-1:\n",
        "        right = new_p_idx-1 # current pivot is not k-1 so, we will avoid from both\n",
        "      else:\n",
        "        left = new_p_idx +1\n",
        "  \n",
        "  return find_kth()\n",
        "\n",
        "fifth_largest = find_kth_largest([4,1,2,10,5,23,0,3,6,9], 5)\n",
        "\n",
        "print(fifth_largest)"
      ],
      "metadata": {
        "colab": {
          "base_uri": "https://localhost:8080/"
        },
        "id": "Raf_j6fHtRhN",
        "outputId": "a41ebdb9-1288-459d-b71a-c0b5a8ec31c3"
      },
      "execution_count": 18,
      "outputs": [
        {
          "output_type": "stream",
          "name": "stdout",
          "text": [
            "5\n"
          ]
        }
      ]
    },
    {
      "cell_type": "markdown",
      "source": [
        "## Good explanation of this problem\n",
        "\n",
        "For example, for the array (5,3,0,3,1,2), \n",
        "* the duplicate entry f is 3 and the missing entry m is 4. Represented in binary the array is ((101)2, (011)2, (000)2, (011)2, (001)2, (010)2).  \n",
        "* The XOR of these entries is (110)2. The XOR of the numbers from 0 to 5, inclusive, is (001)2. The XOR of (110)2 and (001)2 is (111)2. This tells we can focus our attention on entries where the least significant bit is 1. \n",
        "* We compute the XOR of all numbers between 0 and 5 in which this bit is 1, i.e., (001)2, (011)2, and (101)2, and all entries in the array in which this bit is 1, i.e., (101)2, Q11)2,(011)2, and (001)2. \n",
        "* The XOR of these seven values is (011)2. This implies that (011)2 = 3 is either the missing or the duplicate entry. \n",
        "* Another pass through the array shows that it is the duplicate entry. \n",
        "* We can then find the missing entry by forming the XOR of (011)2 with all entries in the array, \n",
        "* and XORing that result with the XOR of all numbers from 0 to 5, which yields (100)2, i.e., 4.\n",
        "\n",
        "- more details of the problem can be found here https://www.geeksforgeeks.org/find-a-repeating-and-a-missing-number/"
      ],
      "metadata": {
        "id": "ezMdMMoDYcEO"
      }
    },
    {
      "cell_type": "code",
      "execution_count": 12,
      "metadata": {
        "id": "nFtdBUYh7uq9",
        "colab": {
          "base_uri": "https://localhost:8080/"
        },
        "outputId": "9e8c3d8f-6e8c-428c-e991-c7bdf18aedfa"
      },
      "outputs": [
        {
          "output_type": "stream",
          "name": "stdout",
          "text": [
            "0\n",
            "1\n",
            "2\n",
            "3\n",
            "4\n",
            "5\n",
            "0b10\n",
            "(3, 4)\n"
          ]
        }
      ],
      "source": [
        "\n",
        "def find_dup_missing(A):\n",
        "\n",
        "  xor_or_dup = A[0]\n",
        "  \n",
        "  for i in range(1, len(A)):\n",
        "    xor_or_dup ^= A[i]\n",
        "    # print(A[i])\n",
        "\n",
        "  # xor the result with 1 to n\n",
        "  for i in range(len(A)):\n",
        "    xor_or_dup ^=i\n",
        "    print(i)\n",
        "\n",
        "  differ_bit = xor_or_dup & -(xor_or_dup-1)\n",
        "  print(bin(differ_bit))\n",
        "  x, y = 0, 0\n",
        "  for i, a in enumerate(A):\n",
        "    if a & differ_bit:\n",
        "      x ^=a\n",
        "    else:\n",
        "      y^=a\n",
        "\n",
        "  for j in range(len(A)):\n",
        "    if j & differ_bit:\n",
        "      x ^=j\n",
        "    else:\n",
        "      y^=j\n",
        "\n",
        "  return x, y\n",
        "\n",
        "print(find_dup_missing([5,0,1,3,2,3]))\n"
      ]
    }
  ]
}