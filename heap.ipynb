{
  "nbformat": 4,
  "nbformat_minor": 0,
  "metadata": {
    "colab": {
      "name": "heap.ipynb",
      "provenance": [],
      "include_colab_link": true
    },
    "kernelspec": {
      "name": "python3",
      "display_name": "Python 3"
    },
    "language_info": {
      "name": "python"
    }
  },
  "cells": [
    {
      "cell_type": "markdown",
      "metadata": {
        "id": "view-in-github",
        "colab_type": "text"
      },
      "source": [
        "<a href=\"https://colab.research.google.com/github/mahbubcsedu/interviewcoding/blob/main/heap.ipynb\" target=\"_parent\"><img src=\"https://colab.research.google.com/assets/colab-badge.svg\" alt=\"Open In Colab\"/></a>"
      ]
    },
    {
      "cell_type": "markdown",
      "metadata": {
        "id": "Gzuuj-FqFAU4"
      },
      "source": [
        "## Python **heapq** syntax\n",
        "* Python heap functionality need to learn. Some of the example can be found in in the book.\n",
        "\n",
        "#### Heap library\n",
        " - `heapq.heapify` transform array or list into heap in-place\n",
        " - `heapq.nlargest(k,L)`, `heapq.nsmallest(k, L)` returns k smallest and largest from L heap\n",
        " - `heapq.heappushpop(h, a)` pushes a first and then pops and return the smallest element\n",
        " - `heapq.heapreplace(h,item)` first pop the smallest one and then push the item\n",
        " - e = h[0] returns smallest element on top without pop\n",
        "\n",
        " ***Note** : heapq only provides min_heap. So, we need to learn the __lt__ properly for object so that we can use those for max heap. Also, for integer or float, we can use their negative value to make minheap to maxheap"
      ]
    },
    {
      "cell_type": "code",
      "metadata": {
        "colab": {
          "base_uri": "https://localhost:8080/"
        },
        "id": "XLl41T4rE9_q",
        "outputId": "13e54c5e-25c3-4a07-c7b2-e55991831bfe"
      },
      "source": [
        "import heapq\n",
        "import itertools\n",
        "import random\n",
        "\n",
        "##Top_k\n",
        "## why need min heap, if we only keep k top items, any item that is greater than the smallest one in the heap, need to go into the heap and the smallest one should leave\n",
        "def top_k(k, stream):\n",
        "  #if its not stream, we can just run a for loop till k and do this operation\n",
        "  min_heap = [(len(s),s) for s in itertools.islice(stream, k)] #first push only the k number of entries as we do not need more than that\n",
        "  print(min_heap)\n",
        "  heapq.heapify(min_heap)\n",
        "\n",
        "  for next_string in stream:\n",
        "    ##first push and then pop the next elements, so that we have only k number of entries in the queue\n",
        "    heapq.heappushpop(min_heap, (len(next_string), next_string)) # push next_string ((len(string) , next_string))\n",
        "\n",
        "  #min heap is storing (len, str) tuple, so, we need to process the items to get strings only instead of the list of tuples.  \n",
        "  return [p[1] for p in heapq.nsmallest(k, min_heap)]\n",
        "  # we can do this operation but no using any function for the heap.\n",
        "  # return [p[1] for p in min_heap] \n",
        "\n",
        "num = random.randint(1, 10)\n",
        "A = [str(random.randint(1, 101)) for _ in range(num)]\n",
        "k = random.randint(1, num)\n",
        "stream = iter(A)\n",
        "print(A, k)\n",
        "result = top_k(k, stream)\n",
        "print(result)\n",
        "# A = [\"mahbub\",\"tazima\", \"jasim\", \"karim\", \"dhara\", \"sara\", \"aarish\", \"olive\"]\n",
        "# print(top_k(3,A))"
      ],
      "execution_count": null,
      "outputs": [
        {
          "output_type": "stream",
          "name": "stdout",
          "text": [
            "['26', '47', '70', '50', '88'] 4\n",
            "[(2, '26'), (2, '47'), (2, '70'), (2, '50')]\n",
            "['47', '50', '70', '88']\n"
          ]
        }
      ]
    },
    {
      "cell_type": "markdown",
      "metadata": {
        "id": "EKIWNDu-_GPO"
      },
      "source": []
    },
    {
      "cell_type": "code",
      "metadata": {
        "colab": {
          "base_uri": "https://localhost:8080/"
        },
        "id": "23Dx89nAHq_J",
        "outputId": "9387ce63-829e-4b3d-dcf4-efc560d3a2f8"
      },
      "source": [
        "import math\n",
        "import heapq\n",
        "\n",
        "class Star:\n",
        "  def __init__(self, x, y, z):\n",
        "    self.x = x\n",
        "    self.y = y \n",
        "    self.z = z\n",
        "\n",
        "  @property\n",
        "  def distance(self):\n",
        "    return math.sqrt(self.x**2 + self.y**2 + self.z**2)\n",
        "\n",
        "  def __lt__(self, rhs):\n",
        "    ## if the current instance is closer, it will be first else rhs \n",
        "    return self.distance < rhs.distance \n",
        "  def __eq__(self, rhs):\n",
        "    return math.isclose(self.distance, rhs.distance) ## distance is real number, so better to compare using isclose\n",
        "  def __repr__(self):\n",
        "    return ' '.join(map(repr, (self.x, self.y, self.z)))\n",
        "\n",
        "def find_closest_k_stars(stars, k):\n",
        "  max_heap= []\n",
        "  for star in stars:\n",
        "    heapq.heappush(max_heap, (-star.distance, star))\n",
        "    ## check if it crossing k, so that we can push and pop to keep it in k\n",
        "    if(len(max_heap) > k) :\n",
        "      heapq.heappop(max_heap)\n",
        "\n",
        "  return [p[1] for p in heapq.nlargest(k, max_heap)] # negative value is used for index, but the object is still there, p[0] will be all negative distance\n",
        "  ## little bit confused about using heapq.nlargest, we can directly use max_heap list\n",
        "\n",
        "def simple_test():\n",
        "\n",
        "   stars = [\n",
        "        Star(1, 2, 3), Star(5, 5, 5), Star(4, 4, 4), Star(3, 2, 2),\n",
        "        Star(5, 5, 5), Star(3, 2, 3), Star(3, 2, 3), Star(1, 1, 1)\n",
        "    ]\n",
        "   return find_closest_k_stars(stars, 3)\n",
        "\n",
        "res = simple_test()\n",
        "print(res)\n"
      ],
      "execution_count": null,
      "outputs": [
        {
          "output_type": "stream",
          "name": "stdout",
          "text": [
            "[1 1 1, 1 2 3, 3 2 2]\n"
          ]
        }
      ]
    },
    {
      "cell_type": "markdown",
      "source": [
        "## Queue LC-1944\n",
        "Number of Visible People in a Queue"
      ],
      "metadata": {
        "id": "8Tu-D1h-Fty4"
      }
    },
    {
      "cell_type": "code",
      "source": [
        "def canSeePersonCountBF(heights) :\n",
        "  res=[0] * len(heights)\n",
        "  for i in range(len(heights)):\n",
        "    nVisible, maxHeight=0,0\n",
        "    for j in range(i+1, len(heights)):\n",
        "      if heights[j] > maxHeight and heights[j] < heights[i]:\n",
        "        nVisible +=1\n",
        "      if heights[j] >=heights[i]:\n",
        "        nVisible +=1\n",
        "        break\n",
        "      maxHeight = max(maxHeight, heights[j])\n",
        "    res[i] = nVisible\n",
        "  return res\n",
        "\n",
        "def canSeePersonCount(heights) :\n",
        "  res=[0] * len(heights)\n",
        "  stack=[]\n",
        "  for i in range(len(heights)-1, -1,-1):\n",
        "    h, nVisible=heights[i],0\n",
        "    while stack and stack[-1] < h:\n",
        "      nVisible +=1\n",
        "      stack.pop()\n",
        "    res[i] = nVisible + (1 if stack else 0)\n",
        "    stack.append(h)\n",
        "  return res\n",
        "print(canSeePersonCountBF([10,6,8,5,11,9]))\n",
        "print(canSeePersonCount([10,6,8,5,11,9]))"
      ],
      "metadata": {
        "id": "xzF3m44nFs-c",
        "outputId": "85ea4a58-b6c3-44f7-c6b3-b4da5ac5db4a",
        "colab": {
          "base_uri": "https://localhost:8080/"
        }
      },
      "execution_count": 7,
      "outputs": [
        {
          "output_type": "stream",
          "name": "stdout",
          "text": [
            "[3, 1, 2, 1, 1, 0]\n",
            "[3, 1, 2, 1, 1, 0]\n"
          ]
        }
      ]
    }
  ]
}