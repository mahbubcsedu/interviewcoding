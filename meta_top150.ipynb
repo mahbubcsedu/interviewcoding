{
  "nbformat": 4,
  "nbformat_minor": 0,
  "metadata": {
    "colab": {
      "provenance": [],
      "authorship_tag": "ABX9TyMTvVuvN9XiYcVeVgBAzmCE",
      "include_colab_link": true
    },
    "kernelspec": {
      "name": "python3",
      "display_name": "Python 3"
    },
    "language_info": {
      "name": "python"
    }
  },
  "cells": [
    {
      "cell_type": "markdown",
      "metadata": {
        "id": "view-in-github",
        "colab_type": "text"
      },
      "source": [
        "<a href=\"https://colab.research.google.com/github/mahbubcsedu/interviewcoding/blob/main/meta_top150.ipynb\" target=\"_parent\"><img src=\"https://colab.research.google.com/assets/colab-badge.svg\" alt=\"Open In Colab\"/></a>"
      ]
    },
    {
      "cell_type": "markdown",
      "source": [
        "## Following list is the top 150 question at the end of 2024"
      ],
      "metadata": {
        "id": "QUuxUJnbDo0Q"
      }
    },
    {
      "cell_type": "markdown",
      "source": [
        "Here is the list formatted as a **Wiki-style table** with LeetCode URLs for reference:\n",
        "\n",
        "Here is the **Wiki-style table** for the next set of LeetCode problems, including their URLs for easy access:\n",
        "\n",
        "| **Problem Number** | **Problem Name**                                | **Acceptance Rate** | **Difficulty** | **LeetCode URL**                                                                 |\n",
        "|--------------------|-------------------------------------------------|---------------------|----------------|----------------------------------------------------------------------------------|\n",
        "| 1249               | 1 | 69.9%               | Medium         | [LeetCode: Minimum Remove to Make Valid Parentheses](https://leetcode.com/problems/minimum-remove-to-make-valid-parentheses/) |\n",
        "| 680                | 2 | 42.0%               | Easy           | [LeetCode: Valid Palindrome II](https://leetcode.com/problems/valid-palindrome-ii/) |\n",
        "| 408                | 3 | 36.4%               | Easy           | [LeetCode: Valid Word Abbreviation](https://leetcode.com/problems/valid-word-abbreviation/) |\n",
        "| 314                | 4 | 56.0%               | Medium         | [LeetCode: Binary Tree Vertical Order Traversal](https://leetcode.com/problems/binary-tree-vertical-order-traversal/) |\n",
        "| 215                | 5 | 67.3%               | Medium         | [LeetCode: Kth Largest Element in an Array](https://leetcode.com/problems/kth-largest-element-in-an-array/) |\n",
        "| 227                | 6 | 44.8%               | Medium         | [LeetCode: Basic Calculator II](https://leetcode.com/problems/basic-calculator-ii/) |\n",
        "| 1650               | 6 | 81.3%               | Medium         | [LeetCode: Lowest Common Ancestor of a Binary Tree III](https://leetcode.com/problems/lowest-common-ancestor-of-a-binary-tree-iii/) |\n",
        "| 339                | 7 | 84.8%               | Medium         | [LeetCode: Nested List Weight Sum](https://leetcode.com/problems/nested-list-weight-sum/) |\n",
        "| 88                 | 8 | 51.7%               | Easy           | [LeetCode: Merge Sorted Array](https://leetcode.com/problems/merge-sorted-array/) |\n",
        "| 528                | 9 | 47.8%               | Medium         | [LeetCode: Random Pick with Weight](https://leetcode.com/problems/random-pick-with-weight/) |\n",
        "| 236                | 10 | 64.8%               | Medium         | [LeetCode: Lowest Common Ancestor of a Binary Tree](https://leetcode.com/problems/lowest-common-ancestor-of-a-binary-tree/) |\n",
        "| 162                | 11 | 46.2%               | Medium         | [LeetCode: Find Peak Element](https://leetcode.com/problems/find-peak-element/) |\n",
        "| 50                 | 12 | 36.1%               | Medium         | [LeetCode: Pow(x, n)](https://leetcode.com/problems/powx-n/) |\n",
        "| 71                 | 13 | 45.5%               | Medium         | [LeetCode: Simplify Path](https://leetcode.com/problems/simplify-path/) |\n",
        "| 1570               | 14 | 89.9%               | Medium         | [LeetCode: Dot Product of Two Sparse Vectors](https://leetcode.com/problems/dot-product-of-two-sparse-vectors/) |\n",
        "| 938                | 15            | 87.2%               | Easy           | [LeetCode: Range Sum of BST](https://leetcode.com/problems/range-sum-of-bst/)   |\n",
        "| 1091               | 16 | 48.7%               | Medium         | [LeetCode: Shortest Path in Binary Matrix](https://leetcode.com/problems/shortest-path-in-binary-matrix/) |\n",
        "| 1                  | 17                              | 54.4%               | Easy           | [LeetCode: Two Sum](https://leetcode.com/problems/two-sum/)                     |\n",
        "| 125                | 18          | 49.5%               | Easy           | [LeetCode: Valid Palindrome](https://leetcode.com/problems/valid-palindrome/)   |\n",
        "| 199                |19 | 64.5%               | Medium         | [LeetCode: Binary Tree Right Side View](https://leetcode.com/problems/binary-tree-right-side-view/) |\n",
        "| 560                | 20 | 44.5%               | Medium         | [LeetCode: Subarray Sum Equals K](https://leetcode.com/problems/subarray-sum-equals-k/) |\n",
        "| 56                 | 21              | 48.4%               | Medium         | [LeetCode: Merge Intervals](https://leetcode.com/problems/merge-intervals/)     |\n",
        "| 543                | 22 | 62.1%               | Easy           | [LeetCode: Diameter of Binary Tree](https://leetcode.com/problems/diameter-of-binary-tree/) |\n",
        "| 973                | 23 | 67.3%               | Medium         | [LeetCode: K Closest Points to Origin](https://leetcode.com/problems/k-closest-points-to-origin/) |\n",
        "| 138                | 24 | 58.6%               | Medium         | [LeetCode: Copy List with Random Pointer](https://leetcode.com/problems/copy-list-with-random-pointer/) |\n",
        "| 146                | 25                          | 43.9%               | Medium         | [LeetCode: LRU Cache](https://leetcode.com/problems/lru-cache/)                 |\n",
        "| 31                 | 26 | 41.8%               | Medium         | [LeetCode: Next Permutation](https://leetcode.com/problems/next-permutation/)     |\n",
        "| 347                | 27 | 63.7%               | Medium         | [LeetCode: Top K Frequent Elements](https://leetcode.com/problems/top-k-frequent-elements/) |\n",
        "| 1762               |28 | 80.3%               | Medium         | [LeetCode: Buildings With an Ocean View](https://leetcode.com/problems/buildings-with-an-ocean-view/) |\n",
        "| 23                 | 29 | 55.0%               | Hard           | [LeetCode: Merge k Sorted Lists](https://leetcode.com/problems/merge-k-sorted-lists/) |\n",
        "| 986                | 30 | 72.2%               | Medium         | [LeetCode: Interval List Intersections](https://leetcode.com/problems/interval-list-intersections/) |\n",
        "| 426                | 31 | 65.2%               | Medium         | [LeetCode: Convert Binary Search Tree to Sorted Doubly Linked List](https://leetcode.com/problems/convert-binary-search-tree-to-sorted-doubly-linked-list/) |\n",
        "| 1004               | 32 | 64.7%               | Medium         | [LeetCode: Max Consecutive Ones III](https://leetcode.com/problems/max-consecutive-ones-iii/) |\n",
        "| 921                | 33 | 74.7%               | Medium         | [LeetCode: Minimum Add to Make Parentheses Valid](https://leetcode.com/problems/minimum-add-to-make-parentheses-valid/) |\n",
        "| 129                | 34 | 67.4%               | Medium         | [LeetCode: Sum Root to Leaf Numbers](https://leetcode.com/problems/sum-root-to-leaf-numbers/) |\n",
        "| 283                | 35 | 62.3%               | Easy           | [LeetCode: Move Zeroes](https://leetcode.com/problems/move-zeroes/) |\n",
        "| 346                | 36 | 79.3%               | Easy           | [LeetCode: Moving Average from Data Stream](https://leetcode.com/problems/moving-average-from-data-stream/) |\n",
        "| 791                |37 | 71.4%               | Medium         | [LeetCode: Custom Sort String](https://leetcode.com/problems/custom-sort-string/) |\n",
        "| 670                | 38 | 51.6%               | Medium         | [LeetCode: Maximum Swap](https://leetcode.com/problems/maximum-swap/) |\n",
        "| 15                 | 39 | 35.9%               | Medium         | [LeetCode: 3Sum](https://leetcode.com/problems/3sum/) |\n",
        "| 987                | 40 | 49.7%               | Hard           | [LeetCode: Vertical Order Traversal of a Binary Tree](https://leetcode.com/problems/vertical-order-traversal-of-a-binary-tree/) |\n",
        "| 133                | 41 | 60.3%               | Medium         | [LeetCode: Clone Graph](https://leetcode.com/problems/clone-graph/) |\n",
        "| 1539               | 42 | 61.3%               | Easy           | [LeetCode: Kth Missing Positive Number](https://leetcode.com/problems/kth-missing-positive-number/) |\n",
        "| 65                 | 43 | 20.7%               | Hard           | [LeetCode: Valid Number](https://leetcode.com/problems/valid-number/) |\n",
        "| 200                | 44 | 61.0%               | Medium         | [LeetCode: Number of Islands](https://leetcode.com/problems/number-of-islands/) |\n",
        "| 2                  | 45 | 44.8%               | Medium         | [LeetCode: Add Two Numbers](https://leetcode.com/problems/add-two-numbers/) |\n",
        "| 76                 | 46 | 44.2%               | Hard           | [LeetCode: Minimum Window Substring](https://leetcode.com/problems/minimum-window-substring/) |\n",
        "| 34                 | 47 | 45.7%               | Medium         | [LeetCode: Find First and Last Position of Element in Sorted Array](https://leetcode.com/problems/find-first-and-last-position-of-element-in-sorted-array/) |\n",
        "| 121                | 48 | 54.5%               | Easy           | [LeetCode: Best Time to Buy and Sell Stock](https://leetcode.com/problems/best-time-to-buy-and-sell-stock/) |\n",
        "| 14                 | 49 | 44.4%               | Easy           | [LeetCode: Longest Common Prefix](https://leetcode.com/problems/longest-common-prefix/) |\n",
        "| 498                | 50 | 61.8%               | Medium         | [LeetCode: Diagonal Traverse](https://leetcode.com/problems/diagonal-traverse/) |\n",
        "| 827                | 51 | 49.4%               | Hard           | [LeetCode: Making A Large Island](https://leetcode.com/problems/making-a-large-island/) |\n",
        "| 2667               | 52 | 81.7%               | Easy           | [LeetCode: Create Hello World Function](https://leetcode.com/problems/create-hello-world-function/) |\n",
        "| 708                | 53 | 37.2%               | Medium         | [LeetCode: Insert into a Sorted Circular Linked List](https://leetcode.com/problems/insert-into-a-sorted-circular-linked-list/) |\n",
        "| 163                | 54 | 34.7%               | Easy           | [LeetCode: Missing Ranges](https://leetcode.com/problems/missing-ranges/) |\n",
        "| 173                | 55 | 73.8%               | Medium         | [LeetCode: Binary Search Tree Iterator](https://leetcode.com/problems/binary-search-tree-iterator/) |\n",
        "| 636                | 56 | 63.5%               | Medium         | [LeetCode: Exclusive Time of Functions](https://leetcode.com/problems/exclusive-time-of-functions/) |\n",
        "| 721                | 57 | 58.5%               | Medium         | [LeetCode: Accounts Merge](https://leetcode.com/problems/accounts-merge/) |\n",
        "| 766                | 58 | 69.4%               | Easy           | [LeetCode: Toeplitz Matrix](https://leetcode.com/problems/toeplitz-matrix/) |\n",
        "| 863                | 59 | 65.5%               | Medium         | [LeetCode: All Nodes Distance K in Binary Tree](https://leetcode.com/problems/all-nodes-distance-k-in-binary-tree/) |\n",
        "| 1216               | 60 | 49.2%               | Hard           | [LeetCode: Valid Palindrome III](https://leetcode.com/problems/valid-palindrome-iii/) |\n",
        "| 78                 | 61 | 79.8%               | Medium         | [LeetCode: Subsets](https://leetcode.com/problems/subsets/) |\n",
        "| 398                | 62 | 64.1%               | Medium         | [LeetCode: Random Pick Index](https://leetcode.com/problems/random-pick-index/) |\n",
        "| 415                | 63 | 51.6%               | Easy           | [LeetCode: Add Strings](https://leetcode.com/problems/add-strings/) |\n",
        "| 1768               | 64 | 81.3%               | Easy           | [LeetCode: Merge Strings Alternately](https://leetcode.com/problems/merge-strings-alternately/) |\n",
        "| 20                 | 65 | 41.5%               | Easy           | [LeetCode: Valid Parentheses](https://leetcode.com/problems/valid-parentheses/) |\n",
        "| 523                | 66 | 30.6%               | Medium         | [LeetCode: Continuous Subarray Sum](https://leetcode.com/problems/continuous-subarray-sum/) |\n",
        "| 17                 | 67 | 62.5%               | Medium         | [LeetCode: Letter Combinations of a Phone Number](https://leetcode.com/problems/letter-combinations-of-a-phone-number/) |\n",
        "| 139                | 68 | 47.6%               | Medium         | [LeetCode: Word Break](https://leetcode.com/problems/word-break/) |\n",
        "| 270                |69 | 50.5%               | Easy           | [LeetCode: Closest Binary Search Tree Value](https://leetcode.com/problems/closest-binary-search-tree-value/) |\n",
        "| 1757               | 70 | 89.4%               | Easy           | [LeetCode: Recyclable and Low Fat Products](https://leetcode.com/problems/recyclable-and-low-fat-products/) |\n",
        "| 4                  | 71 | 42.2%               | Hard           | [LeetCode: Median of Two Sorted Arrays](https://leetcode.com/problems/median-of-two-sorted-arrays/) |\n",
        "| 249                | 72 | 66.6%               | Medium         | [LeetCode: Group Shifted Strings](https://leetcode.com/problems/group-shifted-strings/) |\n",
        "| 282                | 73 | 40.7%               | Hard           | [LeetCode: Expression Add Operators](https://leetcode.com/problems/expression-add-operators/) |\n",
        "| 958                | 74 | 57.7%               | Medium         | [LeetCode: Check Completeness of a Binary Tree](https://leetcode.com/problems/check-completeness-of-a-binary-tree/) |\n",
        "| 9                  | 75 | 58.1%               | Easy           | [LeetCode: Palindrome Number](https://leetcode.com/problems/palindrome-number/) |\n",
        "| 48                 | 76 | 76.6%               | Medium         | [LeetCode: Rotate Image](https://leetcode.com/problems/rotate-image/) |\n",
        "| 647                | 77 | 71.0%               | Medium         | [LeetCode: Palindromic Substrings](https://leetcode.com/problems/palindromic-substrings/) |\n",
        "| 1047               | 78 | 70.6%               | Easy           | [LeetCode: Remove All Adjacent Duplicates In String](https://leetcode.com/problems/remove-all-adjacent-duplicates-in-string/) |\n",
        "| 19                 | 79 | 47.5%               | Medium         | [LeetCode: Remove Nth Node From End of List](https://leetcode.com/problems/remove-nth-node-from-end-of-list/) |\n",
        "| 824                | 80 | 68.8%               | Easy           | [LeetCode: Goat Latin](https://leetcode.com/problems/goat-latin/) |\n",
        "| 5                  | 81 | 34.9%               | Medium         | [LeetCode: Longest Palindromic Substring](https://leetcode.com/problems/longest-palindromic-substring/) |\n",
        "| 253                | 82 | 51.8%               | Medium         | [LeetCode: Meeting Rooms II](https://leetcode.com/problems/meeting-rooms-ii/) |\n",
        "| 658                | 83 | 48.1%               | Medium         | [LeetCode: Find K Closest Elements](https://leetcode.com/problems/find-k-closest-elements/) |\n",
        "| 8                  | 84 | 18.3%               | Medium         | [LeetCode: String to Integer (atoi)](https://leetcode.com/problems/string-to-integer-atoi/) |\n",
        "| 127                | 85 | 41.1%               | Hard           | [LeetCode: Word Ladder](https://leetcode.com/problems/word-ladder/) |\n",
        "| 169                | 86 | 65.4%               | Easy           | [LeetCode: Majority Element](https://leetcode.com/problems/majority-element/) |\n",
        "| 207                | 87 | 48.0%               | Medium         | [LeetCode: Course Schedule](https://leetcode.com/problems/course-schedule/) |\n",
        "| 269                | 88 | 36.2%               | Hard           | [LeetCode: Alien Dictionary](https://leetcode.com/problems/alien-dictionary/) |\n",
        "| 329                | 89 | 54.6%               | Hard           | [LeetCode: Longest Increasing Path in a Matrix](https://leetcode.com/problems/longest-increasing-path-in-a-matrix/) |\n",
        "| 380                |90 | 54.8%               | Medium         | [LeetCode: Insert Delete GetRandom O(1)](https://leetcode.com/problems/insert-delete-getrandom-o1/) |\n",
        "| 26                 | 91 | 58.6%               | Easy           | [LeetCode: Remove Duplicates from Sorted Array](https://leetcode.com/problems/remove-duplicates-from-sorted-array/) |\n",
        "| 219                | 92 | 47.3%               | Easy           | [LeetCode: Contains Duplicate II](https://leetcode.com/problems/contains-duplicate-ii/) |\n",
        "| 238                | 93 | 67.1%               | Medium         | [LeetCode: Product of Array Except Self](https://leetcode.com/problems/product-of-array-except-self/) |\n",
        "| 825                | 94 | 48.5%               | Medium         | [LeetCode: Friends Of Appropriate Ages](https://leetcode.com/problems/friends-of-appropriate-ages/) |\n",
        "| 977                | 95 | 73.0%               | Easy           | [LeetCode: Squares of a Sorted Array](https://leetcode.com/problems/squares-of-a-sorted-array/) |\n",
        "| 33                 | 96 | 41.9%               | Medium         | [LeetCode: Search in Rotated Sorted Array](https://leetcode.com/problems/search-in-rotated-sorted-array/) |\n",
        "| 116                | 97 | 64.3%               | Medium         | [LeetCode: Populating Next Right Pointers in Each Node](https://leetcode.com/problems/populating-next-right-pointers-in-each-node/) |\n",
        "| 394                | 98 | 60.3%               | Medium         | [LeetCode: Decode String](https://leetcode.com/problems/decode-string/) |\n",
        "| 38                 | 99 | 57.2%               | Medium         | [LeetCode: Count and Say](https://leetcode.com/problems/count-and-say/) |\n",
        "| 124                | 100 | 40.7%               | Hard           | [LeetCode: Binary Tree Maximum Path Sum](https://leetcode.com/problems/binary-tree-maximum-path-sum/) |\n",
        "| 197                |101 | 49.4%               | Easy           | [LeetCode: Rising Temperature](https://leetcode.com/problems/rising-temperature/) |\n",
        "| 735                | 102 | 44.9%               | Medium         | [LeetCode: Asteroid Collision](https://leetcode.com/problems/asteroid-collision/) |\n",
        "| 1424               | 103| 57.4%               | Medium         | [LeetCode: Diagonal Traverse II](https://leetcode.com/problems/diagonal-traverse-ii/) |\n",
        "| 1868               | 104 | 59.1%               | Medium         | [LeetCode: Product of Two Run-Length Encoded Arrays](https://leetcode.com/problems/product-of-two-run-length-encoded-arrays/) |\n",
        "| 3                  | 105 | 35.9%               | Medium         | [LeetCode: Longest Substring Without Repeating Characters](https://leetcode.com/problems/longest-substring-without-repeating-characters/) |\n",
        "| 49                 |106 | 69.9%               | Medium         | [LeetCode: Group Anagrams](https://leetcode.com/problems/group-anagrams/) |\n",
        "| 128                |107 | 47.7%               | Medium         | [LeetCode: Longest Consecutive Sequence](https://leetcode.com/problems/longest-consecutive-sequence/) |\n",
        "| 273                | 108 | 34.1%               | Hard           | [LeetCode: Integer to English Words](https://leetcode.com/problems/integer-to-english-words/) |\n",
        "| 392                | 109 | 48.1%               | Easy           | [LeetCode: Is Subsequence](https://leetcode.com/problems/is-subsequence/) |\n",
        "| 494                | 110 | 48.0%               | Medium         | [LeetCode: Target Sum](https://leetcode.com/problems/target-sum/) |\n",
        "| 525                | 111 | 48.9%               | Medium         | [LeetCode: Contiguous Array](https://leetcode.com/problems/contiguous-array/) |\n",
        "| 605                | 112 | 28.8%               | Easy           | [LeetCode: Can Place Flowers](https://leetcode.com/problems/can-place-flowers/) |\n",
        "| 691                | 113| 49.6%               | Hard           | [LeetCode: Stickers to Spell Word](https://leetcode.com/problems/stickers-to-spell-word/) |\n",
        "| 10                 | 114 | 28.7%               | Hard           | [LeetCode: Regular Expression Matching](https://leetcode.com/problems/regular-expression-matching/) |\n",
        "| 16                 | 115 | 46.4%               | Medium         | [LeetCode: 3Sum Closest](https://leetcode.com/problems/3sum-closest/) |\n",
        "| 42                 | 116 | 63.7%               | Hard           | [LeetCode: Trapping Rain Water](https://leetcode.com/problems/trapping-rain-water/) |\n",
        "| 43                 | 117 | 41.4%               | Medium         | [LeetCode: Multiply Strings](https://leetcode.com/problems/multiply-strings/) |\n",
        "| 140                | 118 | 52.4%               | Hard           | [LeetCode: Word Break II](https://leetcode.com/problems/word-break-ii/) |\n",
        "| 378                | 120 | 63.0%               | Medium         | [LeetCode: Kth Smallest Element in a Sorted Matrix](https://leetcode.com/problems/kth-smallest-element-in-a-sorted-matrix/) |\n",
        "| 443                | 121 | 56.6%               | Medium         | [LeetCode: String Compression](https://leetcode.com/problems/string-compression/) |\n",
        "| 480                | 121 | 38.7%               | Hard           | [LeetCode: Sliding Window Median](https://leetcode.com/problems/sliding-window-median/) |\n",
        "| 545                | 122 | 46.3%               | Medium         | [LeetCode: Boundary of Binary Tree](https://leetcode.com/problems/boundary-of-binary-tree/) |\n",
        "| 875                | 123 | 48.7%               | Medium         | [LeetCode: Koko Eating Bananas](https://leetcode.com/problems/koko-eating-bananas/) |\n",
        "| 1644               | 124 | 66.8%               | Medium         | [LeetCode: Lowest Common Ancestor of a Binary Tree II](https://leetcode.com/problems/lowest-common-ancestor-of-a-binary-tree-ii/) |\n",
        "| 57                 | 125 | 42.6%               | Medium         | [LeetCode: Insert Interval](https://leetcode.com/problems/insert-interval/) |\n",
        "| 198                | 126 | 51.8%               | Medium         | [LeetCode: House Robber](https://leetcode.com/problems/house-robber/) |\n",
        "| 231                | 127 | 48.1%               | Easy           | [LeetCode: Power of Two](https://leetcode.com/problems/power-of-two/) |\n",
        "| 348                | 127 | 58.3%               | Medium         | [LeetCode: Design Tic-Tac-Toe](https://leetcode.com/problems/design-tic-tac-toe/) |\n",
        "| 539                | 128 | 62.2%               | Medium         | [LeetCode: Minimum Time Difference](https://leetcode.com/problems/minimum-time-difference/) |\n",
        "| 1778               | 129 | 42.4%               | Medium         | [LeetCode: Shortest Path in a Hidden Grid](https://leetcode.com/problems/shortest-path-in-a-hidden-grid/) |\n",
        "| 7                  | 130 | 29.5%               | Medium         | [LeetCode: Reverse Integer](https://leetcode.com/problems/reverse-integer/) |\n",
        "| 13                 |131 | 63.5%               | Easy           | [LeetCode: Roman to Integer](https://leetcode.com/problems/roman-to-integer/) |\n",
        "| 21                 | 132 | 65.8%               | Easy           | [LeetCode: Merge Two Sorted Lists](https://leetcode.com/problems/merge-two-sorted-lists/) |\n",
        "| 22                 | 133 | 76.0%               | Medium         | [LeetCode: Generate Parentheses](https://leetcode.com/problems/generate-parentheses/) |\n",
        "| 28                 | 134 | 44.0%               | Easy           | [LeetCode: Find the Index of the First Occurrence in a String](https://leetcode.com/problems/find-the-index-of-the-first-occurrence-in-a-string/) |\n",
        "| 54                 | 135 | 52.1%               | Medium         | [LeetCode: Spiral Matrix](https://leetcode.com/problems/spiral-matrix/) |\n",
        "| 55                 | 136 | 38.9%               | Medium         | [LeetCode: Jump Game](https://leetcode.com/problems/jump-game/) |\n",
        "| 62                 | 137 | 65.1%               | Medium         | [LeetCode: Unique Paths](https://leetcode.com/problems/unique-paths/) |\n",
        "| 70                 | 138 | 53.3%               | Easy           | [LeetCode: Climbing Stairs](https://leetcode.com/problems/climbing-stairs/) |\n",
        "| 75                 | 139 | 65.7%               | Medium         | [LeetCode: Sort Colors](https://leetcode.com/problems/sort-colors/) |\n",
        "| 118                | 140 | 75.9%               | Easy           | [LeetCode: Pascal's Triangle](https://leetcode.com/problems/pascals-triangle/) |\n",
        "| 143                | 141 | 60.9%               | Medium         | [LeetCode: Reorder List](https://leetcode.com/problems/reorder-list/) |\n",
        "| 206                | 142 | 78.2%               | Easy           | [LeetCode: Reverse Linked List](https://leetcode.com/problems/reverse-linked-list/) |\n",
        "| 234                | 143 | 54.7%               | Easy           | [LeetCode: Palindrome Linked List](https://leetcode.com/problems/palindrome-linked-list/) |\n",
        "| 235                | 144 | 66.8%               | Medium         | [LeetCode: Lowest Common Ancestor of a Binary Search Tree](https://leetcode.com/problems/lowest-common-ancestor-of-a-binary-search-tree/) |\n",
        "| 239                | 145 | 47.0%               | Hard           | [LeetCode: Sliding Window Maximum](https://leetcode.com/problems/sliding-window-maximum/) |\n",
        "| 295                | 146 | 52.7%               | Hard           | [LeetCode: Find Median from Data Stream](https://leetcode.com/problems/find-median-from-data-stream/) |\n",
        "| 325                | 147 | 50.0%               | Medium         | [LeetCode: Maximum Size Subarray Sum Equals k](https://leetcode.com/problems/maximum-size-subarray-sum-equals-k/) |\n",
        "| 2235               | 148 | 88.0%               | Easy           | [LeetCode: Add Two Integers](https://leetcode.com/problems/add-two-integers/) |\n",
        "| 529               | 149 | 67.50%               | Medium           | [LeetCode: Minesweeper](https://leetcode.com/problems/minesweeper/)\n",
        "| 536               | 150 | 57.7%               | Medium           | [LeetCode: Construct binary tree from string](https://leetcode.com/problems/construct-binary-tree-from-string/) |\n",
        "\n",
        "---\n",
        "\n",
        "This table includes direct links to the corresponding LeetCode problem pages. Let me know if you need further adjustments!\n",
        "\n",
        "\n"
      ],
      "metadata": {
        "id": "s1TA5yC8HSpZ"
      }
    },
    {
      "cell_type": "markdown",
      "source": [
        "## 125. Valid palindrom\n",
        "do stack and return when it does not match condition"
      ],
      "metadata": {
        "id": "4nyMopDjTeyD"
      }
    },
    {
      "cell_type": "markdown",
      "source": [
        "## 199. Binary tree right side view\n",
        "- BFS (for each level, print the last node value)\n",
        "- DFS ( start from root, if level is current level, print. how can we achieve, keep visited as result array and if current depth==len(result), then add to result\n"
      ],
      "metadata": {
        "id": "4cIa62ujTtvR"
      }
    },
    {
      "cell_type": "code",
      "source": [
        "from typing import List\n",
        "class TreeNode:\n",
        "    def __init__(self, val=0, left=None, right=None):\n",
        "        self.val = val\n",
        "        self.left = left\n",
        "        self.right = right\n",
        "\n",
        "def right_side_view(root: TreeNode) -> List[int]:\n",
        "    result = []\n",
        "    def dfs(node, level, result):\n",
        "        if not node:\n",
        "            return\n",
        "        if level == len(result):\n",
        "            result.append(node.val)\n",
        "        dfs(node.right, level+1, result)\n",
        "    dfs(root, 0, result)\n",
        "    return result\n",
        "\n",
        "# create a tree example\n",
        "root = TreeNode(1)\n",
        "root.left = TreeNode(2)\n",
        "root.right = TreeNode(3)\n",
        "root.left.right = TreeNode(5)\n",
        "root.right.right = TreeNode(4)\n",
        "\n",
        "print(right_side_view(root))\n"
      ],
      "metadata": {
        "colab": {
          "base_uri": "https://localhost:8080/"
        },
        "id": "_LOXPAoMUN3P",
        "outputId": "3c045118-c0ed-4eaa-c774-9d42b1157403"
      },
      "execution_count": 3,
      "outputs": [
        {
          "output_type": "stream",
          "name": "stdout",
          "text": [
            "[1, 3, 4]\n"
          ]
        }
      ]
    },
    {
      "cell_type": "markdown",
      "source": [
        "## Sumarray sum equal K\n",
        "-Brute force: for two loops, calculate all subarray and sum them and if equal, count increase to 1\n",
        "- Improve brute force-- use cumulateive sum for pre-sum[0]=0, then for each\n",
        "```sh\n",
        "[3,4,7,-2,3,6,0,4,3]\n",
        "cum=[0,3,7,14,12,15,21,21,25,27]\n",
        "cum[i]=num[i-1]+cum[i-1]\n",
        "```\n",
        "- keep start fix and then move right pointer, whenever, we get sum==k, count++\n",
        "```python\n",
        "    start=0\n",
        "    while start < n:\n",
        "      end=start\n",
        "      s=0\n",
        "      while end < n:\n",
        "        s+=num[end]\n",
        "        if s==k: count+=1\n",
        "        end+=1\n",
        "      start+=1\n",
        "    return count\n",
        "\n",
        "```\n",
        "This approach still O(n^2) but space O(1)\n",
        "-fourth approach-- prefix sum using hash\n",
        "start with hash[0]=1 and when s-k is not empty, then count"
      ],
      "metadata": {
        "id": "FMlKFXjkqt6N"
      }
    },
    {
      "cell_type": "code",
      "source": [
        "from collections import Counter\n",
        "\n",
        "def sum_array_sum_k(nums, k):\n",
        "  hash_sum=Counter()\n",
        "  hash_sum[0]=1\n",
        "\n",
        "  s, count = 0, 0\n",
        "\n",
        "  for index, value in enumerate(nums):\n",
        "    s+=value\n",
        "    if hash_sum[s-k] > 0:\n",
        "      # if we get one more, then it is true with all found subarray at s-k\n",
        "      count+=hash_sum[s-k]\n",
        "      # hash_sum[s] += hash_sum[s-k]\n",
        "    hash_sum[s]=1\n",
        "  return count\n",
        "\n",
        "num=[3,4,7,-2,3,6,0,5,4,3,8]\n",
        "# [3,4], [7], [3,4,7],[-2,3,6],[7,-2,3,6],[3,4,7,-2,3,6] and so one\n",
        "print(sum_array_sum_k(num,7))\n"
      ],
      "metadata": {
        "colab": {
          "base_uri": "https://localhost:8080/"
        },
        "id": "BhI9xTBZtNuv",
        "outputId": "1daadf3e-524a-4bbe-8981-64ce582d606d"
      },
      "execution_count": 11,
      "outputs": [
        {
          "output_type": "stream",
          "name": "stdout",
          "text": [
            "5\n"
          ]
        }
      ]
    },
    {
      "cell_type": "markdown",
      "source": [
        "## Merge interval\n",
        "* single list of interval\n",
        "* two sorted list of interval"
      ],
      "metadata": {
        "id": "BaTZhShP3m1F"
      }
    },
    {
      "cell_type": "code",
      "source": [
        "def merge_intervals(intervals):\n",
        "  merged=[]\n",
        "  intervals.sort(key=lambda x: (x[0], x[1]))\n",
        "  merged.append(intervals[0])\n",
        "\n",
        "  for s, e in intervals[1:]:\n",
        "    if s <= merged[-1][1]:\n",
        "      merged[-1][1]=max(e, merged[-1][1])\n",
        "    else:\n",
        "      merged.append([s, e])\n",
        "\n",
        "  return merged\n"
      ],
      "metadata": {
        "id": "7OhVcm3a4A7e"
      },
      "execution_count": null,
      "outputs": []
    },
    {
      "cell_type": "code",
      "source": [
        "def merge_two_sorted_intervals(intv1, intv2):\n",
        "  p1, p2 = 0, 0\n",
        "  n1, n2 = len(intv1), len(intv2)\n",
        "  merged=[]\n",
        "\n",
        "  while p1 < n1 or p2 < n2:\n",
        "    if p2 >= n2 or (p1 < n1 and intv1[p1][0]< intv2[p2][0]):\n",
        "      cur = intv1[p1]\n",
        "      p1+=1\n",
        "    else:\n",
        "      cur = intv2[p2]\n",
        "      p2+=1\n",
        "\n",
        "    if not merged:\n",
        "      merged.append(cur)\n",
        "    elif merged[-1][1] < cur[0]:\n",
        "      merged.append(cur)\n",
        "    else:\n",
        "      merged[-1][1] = max(cur[1], merged[-1][1])\n",
        "  return merged\n",
        "\n",
        "intv1=[[1, 3], [5, 7], [8, 10]]\n",
        "intv2=[[4,6],[11, 15]]\n",
        "\n",
        "res=merge_two_sorted_intervals(intv1, intv2)\n",
        "print(res)"
      ],
      "metadata": {
        "colab": {
          "base_uri": "https://localhost:8080/"
        },
        "id": "ElX1jb8LEwEM",
        "outputId": "c1c71da1-c374-4267-94cf-0eaf7240fe9a"
      },
      "execution_count": 4,
      "outputs": [
        {
          "output_type": "stream",
          "name": "stdout",
          "text": [
            "[[1, 3], [4, 7], [8, 10], [11, 15]]\n"
          ]
        }
      ]
    },
    {
      "cell_type": "markdown",
      "source": [
        "## Diameter of a binary tree"
      ],
      "metadata": {
        "id": "t8EblgyxJZ72"
      }
    },
    {
      "cell_type": "code",
      "source": [
        "class TreeNode:\n",
        "  def __init__(self, val, left=None, right=None):\n",
        "    self.val=val\n",
        "    self.left=left\n",
        "    self.right=right\n",
        "\n",
        "def diameter_of_tb(root):\n",
        "\n",
        "  def dfs(node):\n",
        "    if not node:\n",
        "      return (0,0)\n",
        "\n",
        "    left_d, left_h = dfs(node.left)\n",
        "    right_d, right_h = dfs(node.right)\n",
        "\n",
        "    diameter = max(left_d, right_d, left_h+right_h)\n",
        "    max_h = max(left_h, right_h)\n",
        "\n",
        "    return (diameter, 1+max_h)\n",
        "\n",
        "  return dfs(root)[0]\n",
        "\n",
        "\"\"\"\n",
        "            1\n",
        "           / \\\n",
        "          2,  6\n",
        "         /   /\\\n",
        "        3  7  8\n",
        "       /       /\n",
        "      4       9\n",
        "       \\\n",
        "        5\n",
        "\"\"\"\n",
        "root=TreeNode(1, TreeNode(2, TreeNode(3, TreeNode(4, None, TreeNode(5)))), TreeNode(6, TreeNode(7), TreeNode(8, TreeNode(9))))\n",
        "print(diameter_of_tb(root))\n"
      ],
      "metadata": {
        "colab": {
          "base_uri": "https://localhost:8080/"
        },
        "id": "WkA42Xk2JZeg",
        "outputId": "b49d5dd0-ae9a-4d19-8669-01f4e552157c"
      },
      "execution_count": 2,
      "outputs": [
        {
          "output_type": "stream",
          "name": "stdout",
          "text": [
            "7\n"
          ]
        }
      ]
    },
    {
      "cell_type": "code",
      "source": [
        "class TreeNode:\n",
        "    def __init__(self, val=0, left=None, right=None):\n",
        "        self.val = val\n",
        "        self.left = left\n",
        "        self.right = right\n",
        "\n",
        "\n",
        "class BinaryTree:\n",
        "    def __init__(self, root=None):\n",
        "        self.root = root\n",
        "        self.diameter = 0  # Variable to store the maximum diameter\n",
        "\n",
        "    def diameterOfBinaryTree(self):\n",
        "        # Start the height calculation from the root\n",
        "        self._height(self.root)\n",
        "        return self.diameter\n",
        "\n",
        "    def _height(self, node):\n",
        "        # Base case: if the node is None, its height is 0\n",
        "        if not node:\n",
        "            return 0\n",
        "\n",
        "        # Recursively calculate the height of the left and right subtrees\n",
        "        left_height = self._height(node.left)\n",
        "        right_height = self._height(node.right)\n",
        "\n",
        "        # Update the diameter: the longest path could be through this node\n",
        "        self.diameter = max(self.diameter, left_height + right_height)\n",
        "\n",
        "        # Return the height of the current node\n",
        "        return 1 + max(left_height, right_height)\n",
        "\n",
        "\n",
        "# Example usage:\n",
        "if __name__ == \"__main__\":\n",
        "    # Creating a sample binary tree\n",
        "    #       1\n",
        "    #      / \\\n",
        "    #     2   3\n",
        "    #    / \\\n",
        "    #   4   5\n",
        "\n",
        "    node4 = TreeNode(4)\n",
        "    node5 = TreeNode(5)\n",
        "    node2 = TreeNode(2, node4, node5)\n",
        "    node3 = TreeNode(3)\n",
        "    root = TreeNode(1, node2, node3)\n",
        "\n",
        "    tree = BinaryTree(root)\n",
        "    print(\"Diameter of the tree is:\", tree.diameterOfBinaryTree())  # Output: 3"
      ],
      "metadata": {
        "colab": {
          "base_uri": "https://localhost:8080/"
        },
        "id": "MAUATQtiNVG1",
        "outputId": "ff68f008-8b7b-4d3f-a5a3-cdc21fce5c94"
      },
      "execution_count": 3,
      "outputs": [
        {
          "output_type": "stream",
          "name": "stdout",
          "text": [
            "Diameter of the tree is: 3\n"
          ]
        }
      ]
    },
    {
      "cell_type": "markdown",
      "source": [
        "## k-closest point to origin\n",
        "- calculate distance from point(0,0) and put into a priority queue\n",
        "- improve by using quick select algorithm\n"
      ],
      "metadata": {
        "id": "aSN6DUYYN_lH"
      }
    },
    {
      "cell_type": "code",
      "source": [
        "import random\n",
        "class KClosestPoints:\n",
        "  def __init__(self,points, k):\n",
        "    self.points=points\n",
        "    self.k=k\n",
        "\n",
        "  def _compare(self, point):\n",
        "    return point[0]*point[0] - point[1]*point[1]\n",
        "\n",
        "  def _partition(self, pivot_index, lo, hi):\n",
        "    pivot = self.points[pivot_index]\n",
        "    j=lo\n",
        "    self.points[pivot_index], self.points[hi] = self.points[hi], self.points[pivot_index]\n",
        "\n",
        "    for i in range(lo, hi):\n",
        "      if self._compare(self.points[i])<=0:\n",
        "        self.points[j], self.points[i] = self.points[i], self.points[j]\n",
        "        j+=1\n",
        "    self.points[j], self.points[hi] = self.points[hi], self.points[j]\n",
        "    return j\n",
        "\n",
        "  def find_k_closest_point(self):\n",
        "    lo = 0\n",
        "    hi = len(self.points)-1\n",
        "\n",
        "    if len(self.points) <= self.k:\n",
        "      return self.points\n",
        "\n",
        "    while lo < hi:\n",
        "      p_index = random.randint(lo, hi)\n",
        "      mid = self._partition(p_index, lo, hi)\n",
        "      if mid==self.k:\n",
        "        break\n",
        "      elif mid < self.k:\n",
        "        lo=mid+1\n",
        "      else:\n",
        "        hi=mid-1\n",
        "    return self.points[:self.k]\n",
        "\n",
        "obj = KClosestPoints([[-2,10],[-4,-8],[10,7],[-4,-7]], 3)\n",
        "print(obj.find_k_closest_point())\n"
      ],
      "metadata": {
        "colab": {
          "base_uri": "https://localhost:8080/"
        },
        "id": "UpflWFlKSpRN",
        "outputId": "d37609b0-dfd7-4578-8db1-ca07c5158f62"
      },
      "execution_count": 7,
      "outputs": [
        {
          "output_type": "stream",
          "name": "stdout",
          "text": [
            "[[-4, -7], [-4, -8], [-2, 10]]\n"
          ]
        }
      ]
    },
    {
      "cell_type": "markdown",
      "source": [
        "## Copy linked list with random pointer\n",
        "- Option 1: Hashset or map with recursive approarch.\n",
        "  * in this approach, we create a clone node and store to hashmap\n",
        "  * for random from current node, if the node already existes, return that as the random pointer\n",
        "  * if it does not exists, then create one and store to hashmap and then return\n",
        "  * do the same for node.next\n",
        "- Option 2: Do the above but using iterative process\n",
        "- Option 3 (optimized):\n",
        "  * add a new node next to original node and assign whatever was there\n",
        "  * in the second iteration, create a new list with cloned nones only\n"
      ],
      "metadata": {
        "id": "AFT8qB2LoVF9"
      }
    },
    {
      "cell_type": "code",
      "source": [
        "class Node:\n",
        "  def __init__(self, val: int, next: 'Node' = None, random: 'Node' = None):\n",
        "    self.val=val\n",
        "    self.next=next\n",
        "    self.random=random\n",
        "\n",
        "class RandomCopy:\n",
        "  def __init__(self):\n",
        "    self.visited={}\n",
        "\n",
        "  def copyRandomList(self, head: \"Optional[Node]\")->\"Optional[Node]\":\n",
        "    if head == None:\n",
        "      return None\n",
        "\n",
        "    if head in self.visited:\n",
        "      return self.visited[head]\n",
        "\n",
        "    # clone head\n",
        "    node = Node(head.val)\n",
        "    self.visited[head]=node\n",
        "\n",
        "    # now work with pointer\n",
        "    node.next = self.copyRandomList(head.next)\n",
        "    node.random = self.copyRandomList(head.random)\n",
        "\n",
        "    return node\n",
        "#\n",
        "# Helper function to print the list with random pointers\n",
        "def print_list(head: Node):\n",
        "    nodes = []\n",
        "    while head:\n",
        "        random_val = head.random.val if head.random else None\n",
        "        nodes.append(f\"({head.val}, random: {random_val})\")\n",
        "        head = head.next\n",
        "    print(\" -> \".join(nodes))\n",
        "\n",
        "# Create the linked list for testing\n",
        "node1 = Node(1)\n",
        "node2 = Node(2)\n",
        "node3 = Node(3)\n",
        "node4 = Node(4)\n",
        "\n",
        "# Set up next pointers\n",
        "node1.next = node2\n",
        "node2.next = node3\n",
        "node3.next = node4\n",
        "\n",
        "# Set up random pointers\n",
        "node1.random = node3  # node1's random points to node3\n",
        "node2.random = node1  # node2's random points to node1\n",
        "node3.random = node2  # node3's random points to node2\n",
        "node4.random = node4  # node4's random points to itself\n",
        "\n",
        "# Print original list\n",
        "print(\"Original List:\")\n",
        "print_list(node1)\n",
        "\n",
        "# Create a RandomCopy object and copy the list\n",
        "# obj =\n",
        "random_copy = RandomCopy()\n",
        "copied_head = random_copy.copyRandomList(node1)\n",
        "\n",
        "# Print copied list\n",
        "print(\"\\nCopied List:\")\n",
        "print_list(copied_head)"
      ],
      "metadata": {
        "colab": {
          "base_uri": "https://localhost:8080/"
        },
        "id": "Hqp09kRwFxoI",
        "outputId": "5742d70d-246f-4b5d-f4d7-59deae1a307f"
      },
      "execution_count": 1,
      "outputs": [
        {
          "output_type": "stream",
          "name": "stdout",
          "text": [
            "Original List:\n",
            "(1, random: 3) -> (2, random: 1) -> (3, random: 2) -> (4, random: 4)\n",
            "\n",
            "Copied List:\n",
            "(1, random: 3) -> (2, random: 1) -> (3, random: 2) -> (4, random: 4)\n"
          ]
        }
      ]
    },
    {
      "cell_type": "code",
      "source": [
        "# two pass random node\n",
        "# create clone node next to each old node in first iteration\n",
        "# in second iteration, assign random and separate cloned nodes from original\n",
        "\n",
        "class Node:\n",
        "  def __init__(self, val: int, next: 'Node' = None, random: 'Node' = None):\n",
        "    self.val=val\n",
        "    self.next=next\n",
        "    self.random=random\n",
        "\n",
        "class RandomCopy:\n",
        "\n",
        "  def copyRandomList(self, head: \"Optional[Node]\")->\"Optional[Node]\":\n",
        "    if not head:\n",
        "      return head\n",
        "\n",
        "    ptr = head # to interate and expand the current list\n",
        "\n",
        "    while ptr:\n",
        "      cloned_node = Node(ptr.val)\n",
        "      cloned_node.next=ptr.next\n",
        "      ptr.next=cloned_node\n",
        "      ptr=cloned_node.next\n",
        "    # at this stage we should have a list with cloned nodes but next and random of cloned nodes are not correct\n",
        "    # we will correct and then create a separate list\n",
        "\n",
        "    # this iteration will assign correct random pointer for cloned nodes\n",
        "    ptr=head\n",
        "    new_ptr=head.next\n",
        "\n",
        "    while ptr:\n",
        "      new_ptr.random = ptr.random.next if ptr.random else None\n",
        "      ptr=ptr.next.next\n",
        "\n",
        "    # now separate two list\n",
        "\n",
        "    new_head = head.next\n",
        "\n",
        "    ptr_new=head.next\n",
        "    ptr_old=head\n",
        "\n",
        "    while ptr_old:\n",
        "      ptr_old.next = ptr_old.next.next\n",
        "      ptr_old=ptr_old.next\n",
        "      ptr_new.next=ptr_old if ptr_old else None\n",
        "      ptr_new=ptr_new.next\n",
        "    return new_head\n",
        "\n",
        "\n",
        "# Create the linked list for testing\n",
        "node1 = Node(1)\n",
        "node2 = Node(2)\n",
        "node3 = Node(3)\n",
        "node4 = Node(4)\n",
        "\n",
        "# Set up next pointers\n",
        "node1.next = node2\n",
        "node2.next = node3\n",
        "node3.next = node4\n",
        "\n",
        "# Set up random pointers\n",
        "node1.random = node3  # node1's random points to node3\n",
        "node2.random = node1  # node2's random points to node1\n",
        "node3.random = node2  # node3's random points to node2\n",
        "node4.random = node4  # node4's random points to itself\n",
        "\n",
        "# Print original list\n",
        "print(\"Original List:\")\n",
        "print_list(node1)\n",
        "\n",
        "# Create a RandomCopy object and copy the list\n",
        "# obj =\n",
        "random_copy = RandomCopy()\n",
        "copied_head = random_copy.copyRandomList(node1)\n",
        "\n",
        "# Print copied list\n",
        "print(\"\\nCopied List:\")\n",
        "print_list(copied_head)\n"
      ],
      "metadata": {
        "colab": {
          "base_uri": "https://localhost:8080/"
        },
        "id": "P75WEaCDIv-P",
        "outputId": "805e8e45-7c76-49e7-e2ea-209fb377d960"
      },
      "execution_count": 4,
      "outputs": [
        {
          "output_type": "stream",
          "name": "stdout",
          "text": [
            "Original List:\n",
            "(1, random: 3) -> (2, random: 1) -> (3, random: 2) -> (4, random: 4)\n",
            "\n",
            "Copied List:\n",
            "(1, random: 4) -> (2, random: 1) -> (3, random: 2) -> (4, random: 4)\n"
          ]
        }
      ]
    },
    {
      "cell_type": "markdown",
      "source": [
        "## Next greater permutations\n",
        "Here the condition is next greater permutation\n",
        "[1,2,3]->[1,3,2]->[2,1,3]->[2,3,1]->[3,2,1]-> after that restart [1,2,3]\n",
        "\n",
        "if we look from [1,3,2]->[2,1,3] we can see that we did two things\n",
        " * from right to left when it breaks increasing order\n",
        " * then we swap with the value that is greater than that value\n",
        "\n",
        "but from this small example, its very hard to get other insight so, lets expand\n",
        "```\n",
        "* [6,2,1,5,4,3,0] for next, we cannot do anything from [5,4,3,0] as this is the biggest if we consider post fix\n",
        "* so, we move to next elements where we can make difference which is [6,2,3,5,4,1,0]\n",
        "* we basically increase the counter but using the values from the list as it is permutations.\n",
        "* Why 3, because, 3 is the bigger than 1 and anything less than that will not increase the value\n",
        "* but we see now, it is not the next biggest, we may get less value with replacing 1 by 3 if we reverse in decreasing order from [5,4,1,0] -> [0,1,4,5]\n",
        "* so final value will ve [6,2,3,0,1,4,5]\n",
        "* Some value generated\n",
        "\n",
        "[6, 2, 3, 0, 1, 4, 5]\n",
        "[6, 2, 3, 0, 1, 5, 4]\n",
        "[6, 2, 3, 0, 4, 1, 5]\n",
        "[6, 2, 3, 0, 4, 5, 1]\n",
        "[6, 2, 3, 0, 5, 1, 4]\n",
        "[6, 2, 3, 0, 5, 4, 1]\n",
        "[6, 2, 3, 1, 0, 4, 5]\n",
        "[6, 2, 3, 1, 0, 5, 4]\n",
        "\n",
        "```"
      ],
      "metadata": {
        "id": "Cz-saEHfTEl-"
      }
    },
    {
      "cell_type": "code",
      "source": [
        "def next_greater_permutation(nums)->None:\n",
        "\n",
        "  n=len(nums)\n",
        "  if n < 2:\n",
        "    return\n",
        "  # find invert pointer\n",
        "  invert_pointer=n-2\n",
        "\n",
        "  while invert_pointer >= 0 and nums[invert_pointer] >= nums[invert_pointer+1]:\n",
        "    invert_pointer-=1\n",
        "  # if condition is [3,2,1], invert pointer will be -1\n",
        "  if invert_pointer == -1:\n",
        "    return nums[::-1]\n",
        "\n",
        "  # find the first value from last to intervt pointer that is greater than nums[invert_pointer]\n",
        "  for ptr in range(n-1, invert_pointer, -1):\n",
        "    if nums[ptr] > nums[invert_pointer]:\n",
        "      nums[ptr], nums[invert_pointer] = nums[invert_pointer], nums[ptr]\n",
        "      break\n",
        "  # now the last step is to reverse from next to invert_pointer to the last\n",
        "  nums[invert_pointer+1:] = nums[invert_pointer+1:][::-1]\n",
        "\n",
        "nums=[6,2,1,5,4,3,0]\n",
        "for i in range(20):\n",
        "  next_greater_permutation(nums)\n",
        "  print(nums)"
      ],
      "metadata": {
        "colab": {
          "base_uri": "https://localhost:8080/"
        },
        "id": "AZ9LtaBXVmxM",
        "outputId": "4377e3ce-d5ab-454d-cc56-4b0932575cb6"
      },
      "execution_count": 8,
      "outputs": [
        {
          "output_type": "stream",
          "name": "stdout",
          "text": [
            "[6, 2, 3, 0, 1, 4, 5]\n",
            "[6, 2, 3, 0, 1, 5, 4]\n",
            "[6, 2, 3, 0, 4, 1, 5]\n",
            "[6, 2, 3, 0, 4, 5, 1]\n",
            "[6, 2, 3, 0, 5, 1, 4]\n",
            "[6, 2, 3, 0, 5, 4, 1]\n",
            "[6, 2, 3, 1, 0, 4, 5]\n",
            "[6, 2, 3, 1, 0, 5, 4]\n",
            "[6, 2, 3, 1, 4, 0, 5]\n",
            "[6, 2, 3, 1, 4, 5, 0]\n",
            "[6, 2, 3, 1, 5, 0, 4]\n",
            "[6, 2, 3, 1, 5, 4, 0]\n",
            "[6, 2, 3, 4, 0, 1, 5]\n",
            "[6, 2, 3, 4, 0, 5, 1]\n",
            "[6, 2, 3, 4, 1, 0, 5]\n",
            "[6, 2, 3, 4, 1, 5, 0]\n",
            "[6, 2, 3, 4, 5, 0, 1]\n",
            "[6, 2, 3, 4, 5, 1, 0]\n",
            "[6, 2, 3, 5, 0, 1, 4]\n",
            "[6, 2, 3, 5, 0, 4, 1]\n"
          ]
        }
      ]
    },
    {
      "cell_type": "markdown",
      "source": [
        "## root left to sum\n",
        "* Option1: we can use dfs recursive\n",
        "* Option 2: can use iterative of the same dfs\n",
        "* Also morris traversal is possible if asked to solve in $O(n)$ time"
      ],
      "metadata": {
        "id": "w2XIqky1qGRt"
      }
    },
    {
      "cell_type": "code",
      "source": [
        "from typing import Optional\n",
        "class TreeNode:\n",
        "    def __init__(self, val=0, left=None, right=None):\n",
        "        self.val = val\n",
        "        self.left = left\n",
        "        self.right = right\n",
        "class RootToSum:\n",
        "    def sumNumbers(self, root: Optional[TreeNode]) -> int:\n",
        "\n",
        "        leaf_to_no=0\n",
        "        stack=[(root, 0)]\n",
        "\n",
        "        while stack:\n",
        "            node, cur_num = stack.pop()\n",
        "            if not node: continue\n",
        "            cur_num = cur_num * 10 + node.val\n",
        "            if not (node.left or node.right):\n",
        "                leaf_to_no += cur_num\n",
        "            else:\n",
        "                stack.append((node.left, cur_num))\n",
        "                stack.append((node.right, cur_num))\n",
        "        return leaf_to_no\n",
        "tree = TreeNode(1)\n",
        "tree.left = TreeNode(2)\n",
        "tree.right = TreeNode(3)\n",
        "obj = RootToSum()\n",
        "print(obj.sumNumbers(tree))"
      ],
      "metadata": {
        "colab": {
          "base_uri": "https://localhost:8080/"
        },
        "id": "OOZ32AwzqIfC",
        "outputId": "023691b8-0f78-490a-8744-e21be5af03f5"
      },
      "execution_count": 10,
      "outputs": [
        {
          "output_type": "stream",
          "name": "stdout",
          "text": [
            "25\n"
          ]
        }
      ]
    },
    {
      "cell_type": "code",
      "source": [
        "class TreeNode:\n",
        "    def __init__(self, val=0, left=None, right=None):\n",
        "        self.val = val\n",
        "        self.left = left\n",
        "        self.right = right\n",
        "class SumRootToLeaf:\n",
        "    def morris_root_to_leaf_sum(self,root):\n",
        "        root_to_leaf = curr_number = 0\n",
        "        current_node = root\n",
        "\n",
        "        # morris algorithm creates thread from current nodes to its predecessor and\n",
        "        # when it finished traversing, it remove that thread. So, it somehow modified the tree\n",
        "\n",
        "        while current_node:\n",
        "            # if current node has left, find predecessor of left subtree\n",
        "            if current_node.left:\n",
        "                # Predecessor node is one step to the left\n",
        "                # and then to the right till you can.\n",
        "                predecessor = current_node.left\n",
        "                steps = 1\n",
        "                # go all the way to right, bt it could be the case, that\n",
        "                # right child already visited and have predecssor set as the current node\n",
        "                while predecessor.right and predecessor.right is not current_node:\n",
        "                    predecessor = predecessor.right\n",
        "                    steps += 1\n",
        "\n",
        "                # if predecesssor does not have right child, calculate current path sum, create a link from this node\n",
        "                # to current node and traverse its left subtree\n",
        "                if predecessor.right is None:\n",
        "                    curr_number = curr_number * 10 + current_node.val\n",
        "                    predecessor.right = current_node\n",
        "                    current_node = current_node.left\n",
        "                # if predecessor.right is current node, then its the leaf node, so\n",
        "                #  add path sum to total\n",
        "                else:\n",
        "                    # If you're on the leaf, update the sum\n",
        "                    if predecessor.left is None:\n",
        "                        root_to_leaf += curr_number\n",
        "                    # This part of tree is explored, backtrack\n",
        "                    print(steps)\n",
        "                    for _ in range(steps):\n",
        "                        curr_number //= 10\n",
        "                    predecessor.right = None\n",
        "                    current_node = current_node.right\n",
        "\n",
        "            # If there is no left child\n",
        "            # then just go right.\n",
        "            else:\n",
        "                curr_number = curr_number * 10 + current_node.val\n",
        "                # if you're on the leaf, update the sum\n",
        "                if current_node.right is None:\n",
        "                  # this section only be true when its the right most leaf of the node\n",
        "                  # there will always be right as we set it to its predecessor except the last most right one\n",
        "                    root_to_leaf += curr_number\n",
        "                current_node = current_node.right\n",
        "\n",
        "        return root_to_leaf\n",
        "\n",
        "\n",
        "# Example Usage\n",
        "    #      1\n",
        "    #     / \\\n",
        "    #    2   3\n",
        "    #   / \\    \\\n",
        "    #  4   5    6\n",
        "\n",
        "root = TreeNode(1)\n",
        "root.left = TreeNode(2)\n",
        "root.right = TreeNode(3)\n",
        "root.left.left = TreeNode(4)\n",
        "root.left.right = TreeNode(5)\n",
        "root.right.right = TreeNode(6)\n",
        "\n",
        "\n",
        "print(\"Root-to-Leaf Sum using Morris Traversal:\", SumRootToLeaf().morris_root_to_leaf_sum(root))"
      ],
      "metadata": {
        "colab": {
          "base_uri": "https://localhost:8080/"
        },
        "id": "Y5DteFzfrzEJ",
        "outputId": "2c7cfab7-f635-4d36-9433-f6b01f5b9d78"
      },
      "execution_count": 9,
      "outputs": [
        {
          "output_type": "stream",
          "name": "stdout",
          "text": [
            "1\n",
            "2\n",
            "Root-to-Leaf Sum using Morris Traversal: 385\n"
          ]
        }
      ]
    },
    {
      "cell_type": "markdown",
      "source": [
        "## Diagonal matrix traverse\n",
        "* Option1: Simulation or brute force which is also optimal and need $O(n*n)$ time\n",
        "* Using hashmap by adding index (row+col] and odd iteration reversed"
      ],
      "metadata": {
        "id": "BDxZYSlzaWxU"
      }
    },
    {
      "cell_type": "code",
      "source": [
        "from enum import Enum\n",
        "class Direction(Enum):\n",
        "  UP, DOWN = 1, -1\n",
        "\n",
        "def traverseDiagonal(matrix):\n",
        "  rows, cols = len(matrix), len(matrix[0])\n",
        "  result, direction = [], Direction.UP\n",
        "\n",
        "  row, col = 0, 0\n",
        "  while row < rows and col < cols:\n",
        "    result.append(matrix[row][col])\n",
        "\n",
        "    # new row and new col only change when it reach boundary and it can be left top, right and bottom\n",
        "    new_row = row + (-1 if direction == Direction.UP else 1) # row will decrease if up else decrease\n",
        "    new_col = col + (1 if direction == Direction.UP else -1) # col will increase if up else decrease\n",
        "\n",
        "    if new_row < 0 or new_row == rows or new_col < 0 or new_col == cols:\n",
        "      # new row and new col only change when it reach boundary and it can be left top, right and bottom\n",
        "      if direction == Direction.UP:\n",
        "        # Order of change is very important, this section depends on col condition, so dont update col first\n",
        "        # if last col and then moved up right, row will increase as it coming back from right side\n",
        "        row += (col==cols-1)\n",
        "        # col will fixed on last col or first col but in the middle it will always increase\n",
        "        col +=(col < cols-1)\n",
        "\n",
        "      else:\n",
        "        # for down case, it will happen just oppositive\n",
        "        # Order of change is very important, this section depends on rows condition, so dont update row first\n",
        "        # if its last row and downward, col will be the next col\n",
        "        col += (row==rows-1)\n",
        "        # if its last rows, rows will not change but any thing in the middle will change\n",
        "        row += (row < rows-1)\n",
        "\n",
        "      # both cases we have to change direction\n",
        "      direction = Direction.UP if direction == Direction.DOWN else Direction.DOWN\n",
        "\n",
        "    else:\n",
        "      # if not boundary condition\n",
        "      row, col = new_row, new_col\n",
        "  return result\n",
        "\n",
        "matrix=[\n",
        "  [1,2,3],\n",
        "  [4,5,6],\n",
        "  [7,8,9]]\n",
        "r = traverseDiagonal(matrix)\n",
        "print(r)"
      ],
      "metadata": {
        "colab": {
          "base_uri": "https://localhost:8080/"
        },
        "id": "rGqg7H4EauJC",
        "outputId": "4cb81b34-7f2c-4497-8fdb-a827c7d912a2"
      },
      "execution_count": 6,
      "outputs": [
        {
          "output_type": "stream",
          "name": "stdout",
          "text": [
            "[1, 2, 4, 7, 5, 3, 6, 8, 9]\n"
          ]
        }
      ]
    },
    {
      "cell_type": "code",
      "source": [
        "import collections\n",
        "def diagonal_traverse(matrix):\n",
        "  # using hasmap we can do this easily but need memory\n",
        "  row_map=collections.defaultdict(list)\n",
        "\n",
        "  for row in range(len(matrix)):\n",
        "    for col in range(len(matrix[0])):\n",
        "      row_map[row+col].append(matrix[row][col])\n",
        "\n",
        "  result=[]\n",
        "  for key, rows in row_map.items():\n",
        "    if key % 2 == 0:\n",
        "      result.extend(rows[::-1])\n",
        "    else:\n",
        "      result.extend(rows)\n",
        "  return result\n",
        "\n",
        "matrix=[\n",
        "  [1,2,3],\n",
        "  [4,5,6],\n",
        "  [7,8,9]]\n",
        "r=diagonal_traverse(matrix)\n",
        "print(r)"
      ],
      "metadata": {
        "colab": {
          "base_uri": "https://localhost:8080/"
        },
        "id": "0a1GzNIBjY99",
        "outputId": "91a50cd0-9826-4e39-b20f-c2b881bb4d9e"
      },
      "execution_count": 7,
      "outputs": [
        {
          "output_type": "stream",
          "name": "stdout",
          "text": [
            "[1, 2, 4, 7, 5, 3, 6, 8, 9]\n"
          ]
        }
      ]
    },
    {
      "cell_type": "markdown",
      "source": [
        "## Minimum add to make parenthesis valid\n",
        "* clarification question: only parenthesis, or string with parenthesis or other brackets\n",
        "* option 1: using stack, where we push and pop left parenthesis and if mismatch increment imbalance\n",
        "* option 2: using left and right count of parenthesis\n",
        "\n",
        "Note: if we need to add '(' or ')' both count as single unit of imbalance"
      ],
      "metadata": {
        "id": "Tp22_6iYn1ZV"
      }
    },
    {
      "cell_type": "code",
      "source": [
        "def minAddToMakeValid(s: str) -> int:\n",
        "  stack=[]\n",
        "  imbalance=0\n",
        "  for char in s:\n",
        "    if char == '(':\n",
        "      stack.append(char)\n",
        "    else:\n",
        "      if stack:\n",
        "        stack.pop()\n",
        "      else:\n",
        "        imbalance+=1\n",
        "  return imbalance + len(stack)\n",
        "# test 1\n",
        "s = \"())\"\n",
        "print(minAddToMakeValid(s))  # Output: 1\n",
        "\n",
        "# test 2\n",
        "s = \"(((\"\n",
        "print(minAddToMakeValid(s))  # Output: 3"
      ],
      "metadata": {
        "colab": {
          "base_uri": "https://localhost:8080/"
        },
        "id": "a7hh9siWoXiA",
        "outputId": "8204c4fe-c59d-4e7c-fb27-d8dd2b3bec68"
      },
      "execution_count": 8,
      "outputs": [
        {
          "output_type": "stream",
          "name": "stdout",
          "text": [
            "1\n",
            "3\n"
          ]
        }
      ]
    },
    {
      "cell_type": "code",
      "source": [
        "def minAddToMakeValid(s: str) -> int:\n",
        "  left=right=0\n",
        "  for char in s:\n",
        "    if char == '(':\n",
        "      left+=1\n",
        "    else:\n",
        "      if left > 0:\n",
        "        left-=1\n",
        "      else:\n",
        "        right+=1\n",
        "  return left+right\n",
        "\n",
        "# test 1\n",
        "s=\"())\"\n",
        "print(minAddToMakeValid(s))\n",
        "\n",
        "s=\"(((\"\n",
        "print(minAddToMakeValid(s))"
      ],
      "metadata": {
        "colab": {
          "base_uri": "https://localhost:8080/"
        },
        "id": "Id0DOfjOoqE1",
        "outputId": "58686430-eb2f-405e-f878-1c4936f40e94"
      },
      "execution_count": 12,
      "outputs": [
        {
          "output_type": "stream",
          "name": "stdout",
          "text": [
            "1\n",
            "3\n"
          ]
        }
      ]
    },
    {
      "cell_type": "markdown",
      "source": [
        "## Custome sort\n",
        "* option 1: we can accumulate using counter or hashmap for each character to their frequence and then based on order characer add frequency*ch. If some character are not part of order, we have to add them based on actual string\n",
        "* Option 2: we can create a custome comprator based on order character and then sort actual string based on that\n",
        "* if we are not allowed to use lambda comparator, we can create a custom comparator and then using that"
      ],
      "metadata": {
        "id": "UwY7VPrer59S"
      }
    },
    {
      "cell_type": "code",
      "source": [
        "from collections import Counter\n",
        "def customSorting(order, st):\n",
        "  str_count = Counter(st)\n",
        "  result = []\n",
        "  for char in order:\n",
        "    if char in str_count:\n",
        "      result.extend([char] * str_count[char])\n",
        "      del str_count[char]\n",
        "  for char in str_count:\n",
        "    result.extend([char] * str_count[char])\n",
        "  return \"\".join(result)\n",
        "\n",
        "order = \"cba\"\n",
        "st = \"abcd\"\n",
        "print(customSorting(order, st))"
      ],
      "metadata": {
        "colab": {
          "base_uri": "https://localhost:8080/"
        },
        "id": "zxUbpdXesLxR",
        "outputId": "8d6a7778-a52c-4599-ba7d-c0b124027a99"
      },
      "execution_count": 14,
      "outputs": [
        {
          "output_type": "stream",
          "name": "stdout",
          "text": [
            "cbad\n"
          ]
        }
      ]
    },
    {
      "cell_type": "code",
      "source": [
        "from collections import defaultdict, Counter\n",
        "def customSorting(order, st):\n",
        "  char_order = defaultdict(int)\n",
        "  for index, ch in enumerate(order):\n",
        "    char_order[ch] = index\n",
        "  print(char_order)\n",
        "  return \"\".join(sorted(st, key=lambda x: char_order[x]))\n",
        "\n",
        "order = \"cba\"\n",
        "st = \"abcd\"\n",
        "print(customSorting(order, st))"
      ],
      "metadata": {
        "colab": {
          "base_uri": "https://localhost:8080/"
        },
        "id": "SkqiI-Jo77dq",
        "outputId": "71cb3137-05e5-4ce5-ec7c-5aab9264a3ba"
      },
      "execution_count": 18,
      "outputs": [
        {
          "output_type": "stream",
          "name": "stdout",
          "text": [
            "defaultdict(<class 'int'>, {'c': 0, 'b': 1, 'a': 2})\n",
            "cdba\n"
          ]
        }
      ]
    },
    {
      "cell_type": "code",
      "source": [
        "import functools\n",
        "def customSorting(order, st):\n",
        "  priority=defaultdict(int)\n",
        "  for index, char in enumerate(order):\n",
        "    priority[char]=index\n",
        "\n",
        "  def comp(x,y):\n",
        "    if x not in priority or y not in priority:\n",
        "      # no change\n",
        "      return 0\n",
        "    elif x not in priority:\n",
        "      return -1 # y will come first\n",
        "    elif y not in priority:\n",
        "      return 1 # x will come first\n",
        "    return priority[x] - priority[y] # whoever has higher priorty come first\n",
        "  return \"\".join(sorted(st, key=functools.cmp_to_key(comp)))\n",
        "\n",
        "order = \"cba\"\n",
        "st = \"abcd\"\n",
        "print(customSorting(order, st))"
      ],
      "metadata": {
        "colab": {
          "base_uri": "https://localhost:8080/"
        },
        "id": "Yhkt9ckE9kVM",
        "outputId": "2992206e-543d-4595-a8de-47689154f5fc"
      },
      "execution_count": 19,
      "outputs": [
        {
          "output_type": "stream",
          "name": "stdout",
          "text": [
            "cbad\n"
          ]
        }
      ]
    },
    {
      "cell_type": "markdown",
      "source": [
        "## 1762. Building with an ocean view\n",
        "There are n buildings in a line. You are given an integer array heights of size n that represents the heights of the buildings in the line.\n",
        "\n",
        "The ocean is to the right of the buildings. A building has an ocean view if the building can see the ocean without obstructions. Formally, a building has an ocean view if all the buildings to its right have a smaller height.\n",
        "\n",
        "Return a list of indices (0-indexed) of buildings that have an ocean view, sorted in increasing order.\n",
        "\n",
        "\n",
        "```\n",
        "Example 1:\n",
        "\n",
        "Input: heights = [4,2,3,1]\n",
        "Output: [0,2,3]\n",
        "Explanation: Building 1 (0-indexed) does not have an ocean view because building 2 is taller.\n",
        "Example 2:\n",
        "\n",
        "Input: heights = [4,3,2,1]\n",
        "Output: [0,1,2,3]\n",
        "Explanation: All the buildings have an ocean view.\n",
        "Example 3:\n",
        "\n",
        "Input: heights = [1,3,2,4]\n",
        "Output: [3]\n",
        "Explanation: Only building 3 has an ocean view.\n",
        "```"
      ],
      "metadata": {
        "id": "QNDcQQ7v_iP2"
      }
    },
    {
      "cell_type": "code",
      "source": [
        "\"\"\"\n",
        "The first option is using stack. We can push an building with index or just index and when compare using original building information to a stack if it has lower hight than its previous else discardd. when done, traverse the stack with index and return\n",
        "\"\"\"\n",
        "def buildingWithOceanView(heights):\n",
        "  stack=[]\n",
        "  for index, height in enumerate(heights):\n",
        "    while stack and height >= heights[stack[-1]]:\n",
        "      stack.pop()\n",
        "    stack.append(index)\n",
        "  return stack\n",
        "\n",
        "# test 1\n",
        "print(buildingWithOceanView([4,2,3,1])==[0,2,3])\n",
        "#test 2\n",
        "print(buildingWithOceanView([4,3,2,1])==[0,1,2,3])\n",
        "#test 3\n",
        "print(buildingWithOceanView([1,3,2,4])==[3])\n",
        "#test 4\n",
        "print(buildingWithOceanView([2,2,2,2])==[3])\n",
        "#test 5\n",
        "print(buildingWithOceanView([1,2,3,4])==[3])\n",
        "#test 6, empty\n",
        "print(buildingWithOceanView([])==[])"
      ],
      "metadata": {
        "colab": {
          "base_uri": "https://localhost:8080/"
        },
        "id": "_FjnfL7K_pTc",
        "outputId": "765526dd-044a-4f41-dd4a-be18198d57ac"
      },
      "execution_count": 21,
      "outputs": [
        {
          "output_type": "stream",
          "name": "stdout",
          "text": [
            "True\n",
            "True\n",
            "True\n",
            "True\n",
            "True\n",
            "True\n"
          ]
        }
      ]
    },
    {
      "cell_type": "code",
      "source": [
        "\"\"\"\n",
        "Without stack with 0(1) space complexity\n",
        "\"\"\"\n",
        "def buildingWithOceanView(heights):\n",
        "  max_height=0\n",
        "  result=[]\n",
        "  for index in range(len(heights)-1, -1, -1):\n",
        "    if heights[index] > max_height:\n",
        "      max_height=heights[index]\n",
        "      result.append(index)\n",
        "  return result[::-1]\n",
        "\n",
        "\n",
        "# test 1\n",
        "print(buildingWithOceanView([4,2,3,1])==[0,2,3])\n",
        "#test 2\n",
        "print(buildingWithOceanView([4,3,2,1])==[0,1,2,3])\n",
        "#test 3\n",
        "print(buildingWithOceanView([1,3,2,4])==[3])\n",
        "#test 4\n",
        "print(buildingWithOceanView([2,2,2,2])==[3])\n",
        "#test 5\n",
        "print(buildingWithOceanView([1,2,3,4])==[3])\n",
        "#test 6, empty\n",
        "print(buildingWithOceanView([])==[])"
      ],
      "metadata": {
        "colab": {
          "base_uri": "https://localhost:8080/"
        },
        "id": "jwaMzEAuAuvd",
        "outputId": "41cb4d10-a164-4096-d8c7-35d25a2f6786"
      },
      "execution_count": 22,
      "outputs": [
        {
          "output_type": "stream",
          "name": "stdout",
          "text": [
            "True\n",
            "True\n",
            "True\n",
            "True\n",
            "True\n",
            "True\n"
          ]
        }
      ]
    },
    {
      "cell_type": "markdown",
      "source": [
        "## Maxswap\n",
        "the given number is integer and it could go as much as 10**8 or 8 digit long. There is no need to optimized the algorithm. But, if they ask it, we can try different things.\n",
        "- Note: this is very tricky question and you have to ask question how many swap. in leetcode it asked only one swap. So asks\n",
        "  * can we do one swap only for each digit lets say 2736---7236 or 7263"
      ],
      "metadata": {
        "id": "pzin9bOkqvpU"
      }
    },
    {
      "cell_type": "code",
      "source": [
        "# we will swap with everynumber and then check if it is greater and then revert it back for the nxt result\n",
        "def maxSwap(num):\n",
        "  num_list=list(str(num))\n",
        "  ans=num_list[:] # need to take a copy as we will work on num\n",
        "\n",
        "  for i in range(len(num_list)):\n",
        "    for j in range(i+1, len(num_list)):\n",
        "      num_list[i], num_list[j]=num_list[j], num_list[i]\n",
        "      if \"\".join(num_list) > \"\".join(ans):\n",
        "        ans=num_list[:]\n",
        "      num_list[j], num_list[i]=num_list[i], num_list[j]\n",
        "  return int(\"\".join(ans))\n",
        "#test\n",
        "print(maxSwap(2736)==7236)\n",
        "print(maxSwap(9973)==9973)"
      ],
      "metadata": {
        "colab": {
          "base_uri": "https://localhost:8080/"
        },
        "id": "WRwm9XyGq__y",
        "outputId": "dfc69c8f-53f9-4fe2-b099-4488bb8ca399"
      },
      "execution_count": 3,
      "outputs": [
        {
          "output_type": "stream",
          "name": "stdout",
          "text": [
            "True\n",
            "True\n"
          ]
        }
      ]
    },
    {
      "cell_type": "code",
      "source": [
        "# we can also use hashmap and try to find biggest digit from right to the current index and replace with the max\n",
        "def maxSwap(num):\n",
        "  num_list=list(str(num))\n",
        "  num_map={}\n",
        "  for index, digit in enumerate(num_list):\n",
        "    num_map[digit]=index\n",
        "  print(num_map)\n",
        "\n",
        "\n",
        "  for index, digit in enumerate(num_list):\n",
        "    for d in range(9, int(digit), -1):\n",
        "      if str(d) in num_map and num_map.get(str(d), 0) > index:\n",
        "\n",
        "        old_index=num_map[str(d)]\n",
        "        num_list[index], num_list[old_index] = num_list[old_index], num_list[index]\n",
        "        return int(\"\".join(num_list))\n",
        "\n",
        "  # if nothing happens\n",
        "  return int(\"\".join(num_list))\n",
        "\n",
        "print(maxSwap(2736)==7236)\n",
        "print(maxSwap(9973)==9973)"
      ],
      "metadata": {
        "colab": {
          "base_uri": "https://localhost:8080/"
        },
        "id": "iffLcEvwr8v3",
        "outputId": "fd9dced5-f1bc-4ee6-d30b-13fbf0c0c2b9"
      },
      "execution_count": 19,
      "outputs": [
        {
          "output_type": "stream",
          "name": "stdout",
          "text": [
            "{'2': 0, '7': 1, '3': 2, '6': 3}\n",
            "True\n",
            "{'9': 1, '7': 2, '3': 3}\n",
            "True\n"
          ]
        }
      ]
    },
    {
      "cell_type": "markdown",
      "source": [
        "## Clone graph\n",
        "There is only one option as to use dfs using hashmap. We may use iterative solution and practice"
      ],
      "metadata": {
        "id": "yyE6VPA4w2-1"
      }
    },
    {
      "cell_type": "code",
      "source": [
        "# Definition for a Node.\n",
        "class Node:\n",
        "    def __init__(self, val = 0, neighbors = []):\n",
        "        self.val = val\n",
        "        self.neighbors = neighbors\n",
        "\n",
        "def cloneGraph(root: Node):\n",
        "  visited={}\n",
        "  def dfs(node):\n",
        "    if not node:\n",
        "      return None\n",
        "    if node in visited:\n",
        "      return visited[node]\n",
        "    copy=Node(node.val)\n",
        "    visited[node]=copy\n",
        "\n",
        "    copy.neighbors=[dfs(n) for n in node.neighbors]\n",
        "    # instead of above line, we can write the bellow but make sure we are not working on dynamic neighbord\n",
        "    # the following two lines put into infinite loop\n",
        "    # for n in node.neighbors:\n",
        "    #   if n not in visited:\n",
        "    #     copy.neighbors.append(dfs(n))\n",
        "    # instead of above two lines, write these\n",
        "\n",
        "\n",
        "    return copy\n",
        "  return dfs(root)\n",
        "\n",
        "#test: create a graph using the node and then use cloneGraph to test\n",
        "\n",
        "# Create the graph:\n",
        "# Graph structure:\n",
        "#    1\n",
        "#   / \\\n",
        "#  2   3\n",
        "#  |   |\n",
        "#  4   5\n",
        "\n",
        "# Create the nodes\n",
        "node1 = Node(1)\n",
        "node2 = Node(2)\n",
        "node3 = Node(3)\n",
        "node4 = Node(4)\n",
        "node5 = Node(5)\n",
        "\n",
        "# Connect the nodes\n",
        "node1.neighbors = [node2, node3]\n",
        "node2.neighbors = [node4]\n",
        "node3.neighbors = [node5]\n",
        "\n",
        "# Test the cloneGraph function\n",
        "cloned_graph = cloneGraph(node1)\n",
        "\n",
        "# Function to print the graph (to visually verify)\n",
        "def print_graph(node):\n",
        "    if not node:\n",
        "        return\n",
        "    visited = set()\n",
        "\n",
        "    def dfs_print(n):\n",
        "        if n in visited:\n",
        "            return\n",
        "        visited.add(n)\n",
        "        print(f\"Node {n.val} -> Neighbors {[neighbor.val for neighbor in n.neighbors]}\")\n",
        "        for neighbor in n.neighbors:\n",
        "            dfs_print(neighbor)\n",
        "\n",
        "    dfs_print(node)\n",
        "\n",
        "print(\"Original Graph:\")\n",
        "print_graph(node1)\n",
        "\n",
        "print(\"\\nCloned Graph:\")\n",
        "print_graph(cloned_graph)\n"
      ],
      "metadata": {
        "colab": {
          "base_uri": "https://localhost:8080/"
        },
        "id": "e8ODbdIbxAtI",
        "outputId": "67ce77db-9dde-4eec-8610-093b2f15cd88"
      },
      "execution_count": 31,
      "outputs": [
        {
          "output_type": "stream",
          "name": "stdout",
          "text": [
            "Original Graph:\n",
            "Node 1 -> Neighbors [2, 3]\n",
            "Node 2 -> Neighbors [4]\n",
            "Node 4 -> Neighbors []\n",
            "Node 3 -> Neighbors [5]\n",
            "Node 5 -> Neighbors []\n",
            "\n",
            "Cloned Graph:\n",
            "Node 1 -> Neighbors [2, 3]\n",
            "Node 2 -> Neighbors [4]\n",
            "Node 4 -> Neighbors []\n",
            "Node 3 -> Neighbors [5]\n",
            "Node 5 -> Neighbors []\n"
          ]
        }
      ]
    },
    {
      "cell_type": "code",
      "source": [
        "from collections import deque\n",
        "class Node:\n",
        "    def __init__(self, val = 0, neighbors = []):\n",
        "        self.val = val\n",
        "        self.neighbors = neighbors\n",
        "\n",
        "def cloneGraph(root: Node):\n",
        "  if not root:\n",
        "    return None\n",
        "  visited={}\n",
        "  queue=deque([root])\n",
        "  # cloned_root=Node(root.val) # if you do this, it will not work\n",
        "  visited[root]=Node(root.val, [])\n",
        "\n",
        "  while queue:\n",
        "    node=queue.popleft()\n",
        "    for neighbor in node.neighbors:\n",
        "      if neighbor not in visited:\n",
        "        visited[neighbor]=Node(neighbor.val, [])\n",
        "        queue.append(neighbor)\n",
        "        visited[node].neighbors.append(visited[neighbor])\n",
        "  return visited[root]\n",
        "\n",
        "#test: create a graph using the node and then use cloneGraph to test\n",
        "\n",
        "# Create the graph:\n",
        "# Graph structure:\n",
        "#    1\n",
        "#   / \\\n",
        "#  2   3\n",
        "#  |   |\n",
        "#  4   5\n",
        "\n",
        "# Create the nodes\n",
        "node1 = Node(1)\n",
        "node2 = Node(2)\n",
        "node3 = Node(3)\n",
        "node4 = Node(4)\n",
        "node5 = Node(5)\n",
        "\n",
        "# Connect the nodes\n",
        "node1.neighbors = [node2, node3]\n",
        "node2.neighbors = [node4]\n",
        "node3.neighbors = [node5]\n",
        "\n",
        "# Test the cloneGraph function\n",
        "cloned_graph = cloneGraph(node1)\n",
        "\n",
        "# Function to print the graph (to visually verify)\n",
        "def print_graph(node):\n",
        "    if not node:\n",
        "        return\n",
        "    visited = set()\n",
        "\n",
        "    def dfs_print(n):\n",
        "        if n in visited:\n",
        "            return\n",
        "        visited.add(n)\n",
        "        print(f\"Node {n.val} -> Neighbors {[neighbor.val for neighbor in n.neighbors]}\")\n",
        "        for neighbor in n.neighbors:\n",
        "            dfs_print(neighbor)\n",
        "\n",
        "    dfs_print(node)\n",
        "\n",
        "print(\"Original Graph:\")\n",
        "print_graph(node1)\n",
        "\n",
        "print(\"\\nCloned Graph:\")\n",
        "print_graph(cloned_graph)"
      ],
      "metadata": {
        "colab": {
          "base_uri": "https://localhost:8080/"
        },
        "id": "h_zyDdIl4sz3",
        "outputId": "31a22495-4b25-4907-f11b-e1ac44b007ac"
      },
      "execution_count": 37,
      "outputs": [
        {
          "output_type": "stream",
          "name": "stdout",
          "text": [
            "Original Graph:\n",
            "Node 1 -> Neighbors [2, 3]\n",
            "Node 2 -> Neighbors [4]\n",
            "Node 4 -> Neighbors []\n",
            "Node 3 -> Neighbors [5]\n",
            "Node 5 -> Neighbors []\n",
            "\n",
            "Cloned Graph:\n",
            "Node 1 -> Neighbors [2, 3]\n",
            "Node 2 -> Neighbors [4]\n",
            "Node 4 -> Neighbors []\n",
            "Node 3 -> Neighbors [5]\n",
            "Node 5 -> Neighbors []\n"
          ]
        }
      ]
    },
    {
      "cell_type": "markdown",
      "source": [
        "## LRU Cache\n",
        "* We can use library Ordered Dictionary\n",
        "* Hashmap + linkedlist ask for clarification"
      ],
      "metadata": {
        "id": "lfQEfR2XNkIn"
      }
    },
    {
      "cell_type": "code",
      "source": [
        "class DLLNode:\n",
        "  def __init__(self, key, val):\n",
        "    self.key=key\n",
        "    self.val=val\n",
        "    self.prev=None\n",
        "    self.next=None\n",
        "\n",
        "class LRUCache:\n",
        "  def __init__(self, capacity: int):\n",
        "    self.capacity=capacity\n",
        "    self.cache={}\n",
        "    self.head=DLLNode(0,0)\n",
        "    self.tail=DLLNode(0,0)\n",
        "    self.head.next=self.tail\n",
        "    self.tail.prev=self.head\n",
        "\n",
        "  # we can start from put and get algorithm and then write small functions on how to add a node or delete a node and also make a node head\n",
        "  # add and delete is pretty straight forward\n",
        "  # make node is needed as when a get or put call is make, both cases, we have to move that node to head\n",
        "  def add(self, node):\n",
        "    node.next = self.head.next\n",
        "    self.head.next.prev = node\n",
        "    self.head.next = node\n",
        "    node.prev = self.head\n",
        "  # we also will delete node from tail if size greater than capacity\n",
        "  def delete(self, node):\n",
        "    node.next.prev = node.prev\n",
        "    node.prev.next = node.next\n",
        "    # what will happen to node\n",
        "    node.next=None\n",
        "    node.prev=None\n",
        "\n",
        "  def make_head(self, node):\n",
        "    self.delete(node)\n",
        "    self.add(node)\n",
        "\n",
        "  def get(self, key: int) -> int:\n",
        "    if key in self.cache:\n",
        "      self.make_head(self.cache[key])\n",
        "      return self.cache[key].val\n",
        "    return -1\n",
        "\n",
        "  def put(self, key: int, value: int) -> None:\n",
        "    if key in self.cache:\n",
        "      # self.delete(self.cache[key])\n",
        "      self.cache[key].val=value\n",
        "      self.make_head(self.cache[key])\n",
        "\n",
        "    else:\n",
        "\n",
        "      new_node=DLLNode(key, value)\n",
        "      self.cache[key]=new_node\n",
        "      self.add(new_node)\n",
        "      self.make_head(new_node)\n",
        "      if len(self.cache) > self.capacity:\n",
        "        del self.cache[self.tail.prev.key]\n",
        "        self.delete(self.tail.prev)\n",
        ""
      ],
      "metadata": {
        "id": "n_1ytM29NvqY"
      },
      "execution_count": null,
      "outputs": []
    },
    {
      "cell_type": "code",
      "source": [
        "# using library ordered dictionary\n",
        "# we have to know some properties of ordered dictionary like move_to_end and popitem(last=False) FIFO\n",
        "from collections import OrderedDict\n",
        "class LRUCache(OrderedDict):\n",
        "  def __init__(self, capacity: int):\n",
        "    self.capacity=capacity\n",
        "\n",
        "  def put(self, key:int, value: int)->None:\n",
        "    if key in self:\n",
        "      self.move_to_end(key)\n",
        "    self[key]=value\n",
        "    if len(self) > self.capacity:\n",
        "      self.popitem(last=False)\n",
        "  def get(self, key:int)->int:\n",
        "    if key not in self:\n",
        "      return -1\n",
        "    self.move_to_end(key)\n",
        "    return self[key]"
      ],
      "metadata": {
        "id": "kaGoCXRyRdt5"
      },
      "execution_count": null,
      "outputs": []
    },
    {
      "cell_type": "markdown",
      "source": [
        "## 460 LFU cache\n",
        "Explanation:\n",
        "Node Class: Represents a key-value pair and its frequency.\n",
        "DoublyLinkedList Class: Supports operations to add and remove nodes in the linked list, making it easy to maintain order of frequency.\n",
        "LFUCache Class:\n",
        "__init__: Initializes cache with a specified capacity.\n",
        "_update: Helper function that updates the frequency of a key in the cache.\n",
        "get: Retrieves the value by key, updating the access frequency.\n",
        "put: Inserts or updates the value for a key, managing capacity and eviction of the least frequently used entries."
      ],
      "metadata": {
        "id": "VF8bwI-ne0AM"
      }
    },
    {
      "cell_type": "code",
      "source": [
        "class Node:\n",
        "    def __init__(self, key, value):\n",
        "        self.key = key\n",
        "        self.value = value\n",
        "        self.freq = 1\n",
        "        self.prev = None\n",
        "        self.next = None\n",
        "\n",
        "class DoublyLinkedList:\n",
        "    def __init__(self):\n",
        "        self.head = Node(0, 0)\n",
        "        self.tail = Node(0, 0)\n",
        "        self.head.next = self.tail\n",
        "        self.tail.prev = self.head\n",
        "        self.size = 0\n",
        "\n",
        "    def add_node(self, node):\n",
        "        node.prev = self.head\n",
        "        node.next = self.head.next\n",
        "        self.head.next.prev = node\n",
        "        self.head.next = node\n",
        "        self.size += 1\n",
        "\n",
        "    def remove_node(self, node):\n",
        "        prev_node = node.prev\n",
        "        next_node = node.next\n",
        "        prev_node.next = next_node\n",
        "        next_node.prev = prev_node\n",
        "        self.size -= 1\n",
        "\n",
        "    def remove_last(self):\n",
        "        if self.size > 0:\n",
        "            last_node = self.tail.prev\n",
        "            self.remove_node(last_node)\n",
        "            return last_node.key\n",
        "        return None\n",
        "\n",
        "class LFUCache:\n",
        "    def __init__(self, capacity: int):\n",
        "        self.capacity = capacity\n",
        "        self.size = 0\n",
        "        self.min_freq = 0\n",
        "        self.key_value = {}\n",
        "        self.key_freq = {}\n",
        "        self.freq_list = {}\n",
        "\n",
        "    def _update(self, key):\n",
        "        # Get current node\n",
        "        node = self.key_value[key]\n",
        "        freq = node.freq\n",
        "\n",
        "        # Remove the node from the current frequency list\n",
        "        self.freq_list[freq].remove_node(node)\n",
        "\n",
        "        # If the current frequency list is empty, and it was the minimum frequency, increment min_freq\n",
        "        if freq == self.min_freq and self.freq_list[freq].size == 0:\n",
        "            self.min_freq += 1\n",
        "\n",
        "        # Increment the node's frequency\n",
        "        node.freq += 1\n",
        "        new_freq = node.freq\n",
        "\n",
        "        # If the new frequency list does not exist, create it\n",
        "        if new_freq not in self.freq_list:\n",
        "            self.freq_list[new_freq] = DoublyLinkedList()\n",
        "\n",
        "        # Add the node to the new frequency list\n",
        "        self.freq_list[new_freq].add_node(node)\n",
        "\n",
        "    def get(self, key: int) -> int:\n",
        "        if key not in self.key_value:\n",
        "            return -1\n",
        "        # Update the frequency of the accessed key\n",
        "        self._update(key)\n",
        "        return self.key_value[key].value\n",
        "\n",
        "    def put(self, key: int, value: int) -> None:\n",
        "        if self.capacity <= 0:\n",
        "            return\n",
        "\n",
        "        if key in self.key_value:\n",
        "            # Update the existing key's value\n",
        "            self.key_value[key].value = value\n",
        "            # Update the frequency of the key\n",
        "            self._update(key)\n",
        "        else:\n",
        "            if self.size >= self.capacity:\n",
        "                # Evict the least frequently used key\n",
        "                lfu_key = self.freq_list[self.min_freq].remove_last()\n",
        "                if lfu_key is not None:\n",
        "                    del self.key_value[lfu_key]\n",
        "                    del self.key_freq[lfu_key]\n",
        "                    self.size -= 1\n",
        "\n",
        "            # Insert the new key\n",
        "            new_node = Node(key, value)\n",
        "            self.key_value[key] = new_node\n",
        "            self.key_freq[key] = new_node.freq\n",
        "\n",
        "            # Add the new node to the frequency list\n",
        "            if 1 not in self.freq_list:\n",
        "                self.freq_list[1] = DoublyLinkedList()\n",
        "            self.freq_list[1].add_node(new_node)\n",
        "\n",
        "            # Increment size and set min_freq to 1\n",
        "            self.size += 1\n",
        "            self.min_freq = 1"
      ],
      "metadata": {
        "colab": {
          "base_uri": "https://localhost:8080/"
        },
        "id": "RNlavVp_ZiVP",
        "outputId": "12ab03ca-97cd-4f2f-d48a-6a84911cc84d"
      },
      "execution_count": 2,
      "outputs": [
        {
          "output_type": "stream",
          "name": "stdout",
          "text": [
            "1\n",
            "-1\n",
            "-1\n",
            "4\n"
          ]
        }
      ]
    },
    {
      "cell_type": "markdown",
      "source": [
        "## 986: Interval list intersection\n",
        "* two give interval lists where interval in one list does not overlap\n",
        "* so we have to find intersection of two sorted interval lists"
      ],
      "metadata": {
        "id": "p165Q3nOMEUl"
      }
    },
    {
      "cell_type": "code",
      "source": [
        "def IntervalsIntersection(A, B):\n",
        "  intersection=[]\n",
        "  fp, sp = 0, 0\n",
        "  while fp < len(A) and sp < len(B):\n",
        "    first_interval, second_interval = A[fp], B[sp]\n",
        "    start=max(first_interval[0], second_interval[0])\n",
        "    end=min(first_interval[1], second_interval[1])\n",
        "\n",
        "    if start <= end:\n",
        "      intersection.append([start, end])\n",
        "\n",
        "    if first_interval[1] < second_interval[1]:\n",
        "      fp += 1\n",
        "    else:\n",
        "      sp += 1\n",
        "  return intersection\n",
        "\n",
        "#test 1\n",
        "first_list=[[0,2],[5,10],[13,23],[24,25]]\n",
        "second_list=[[1,5],[8,12],[15,24],[25,26]]\n",
        "print(IntervalsIntersection(first_list, second_list)==[[1,2],[5,5],[8,10],[15,23],[24,24],[25,25]])\n",
        "\n",
        "#test 2\n",
        "first_list=[[1,3],[5,9]]\n",
        "second_list=[]\n",
        "print(IntervalsIntersection(first_list, second_list)==[])\n"
      ],
      "metadata": {
        "colab": {
          "base_uri": "https://localhost:8080/"
        },
        "id": "Dc-s9h0zNDB0",
        "outputId": "ee004708-2082-4208-dd3a-97fc991ff996"
      },
      "execution_count": 3,
      "outputs": [
        {
          "output_type": "stream",
          "name": "stdout",
          "text": [
            "True\n",
            "True\n"
          ]
        }
      ]
    },
    {
      "cell_type": "markdown",
      "source": [
        "## 986: follow up: if the lists are not disjoin and overlaps\n",
        "If the intervals in the lists can overlap, we need to process them differently. When intervals in a single list overlap, we should first merge those overlapping intervals before finding the intersections with intervals from the other list. This way, we ensure that we are working with the correct, non-overlapping intervals.\n",
        "\n",
        "Here’s how we can adjust the algorithm:\n",
        "\n",
        "1. **Merge Overlapping Intervals**: First, we need to merge any overlapping intervals in each list.\n",
        "2. **Find Intersections**: After merging, we proceed to find the intersections between the two lists.\n",
        "\n",
        "### Merging Overlapping Intervals\n",
        "\n",
        "To merge overlapping intervals, we can use a simple linear scan through the list of intervals. We'll maintain a new list to store merged intervals.\n",
        "\n",
        "### Updated Implementation\n",
        "\n",
        "Here’s how we can implement this in Python:\n",
        "\n",
        "### Explanation:\n",
        "1. **Merge Function**:\n",
        "   - We sort the intervals based on their start times.\n",
        "   - We create a merged list and iterate through the sorted list. If the current interval overlaps with the last merged interval, we merge them. Otherwise, we add the current interval to the merged list.\n",
        "\n",
        "2. **Intersection Function**:\n",
        "   - After merging both lists, we use the same logic as before to find the intersections between the merged intervals from `firstList` and `secondList`.\n",
        "\n",
        "### Complexity:\n",
        "- Merging the intervals takes \\(O(n \\log n)\\) time due to sorting, where \\(n\\) is the number of intervals in the list.\n",
        "- Finding intersections takes \\(O(n + m)\\) time afterward, where \\(n\\) and \\(m\\) are the sizes of the merged lists.\n",
        "- Overall, this approach is efficient and handles overlapping intervals correctly."
      ],
      "metadata": {
        "id": "fGoaOgrrOGPe"
      }
    },
    {
      "cell_type": "code",
      "source": [
        "def mergeIntervals(intervals):\n",
        "    if not intervals:\n",
        "        return []\n",
        "\n",
        "    # Sort intervals based on the start time\n",
        "    intervals.sort(key=lambda x: x[0])\n",
        "    merged = [intervals[0]]\n",
        "\n",
        "    for i in range(1, len(intervals)):\n",
        "        current = intervals[i]\n",
        "        last_merged = merged[-1]\n",
        "\n",
        "        # Check if there is an overlap\n",
        "        if current[0] <= last_merged[1]:  # Overlapping intervals\n",
        "            last_merged[1] = max(last_merged[1], current[1])  # Merge them\n",
        "        else:\n",
        "            merged.append(current)  # No overlap, add to the merged list\n",
        "\n",
        "    return merged\n",
        "\n",
        "def intervalIntersection(firstList, secondList):\n",
        "    # Merge the intervals in both lists\n",
        "    merged_first = mergeIntervals(firstList)\n",
        "    merged_second = mergeIntervals(secondList)\n",
        "\n",
        "    result = []\n",
        "    i, j = 0, 0\n",
        "\n",
        "    # Find intersections between merged intervals\n",
        "    while i < len(merged_first) and j < len(merged_second):\n",
        "        first_interval = merged_first[i]\n",
        "        second_interval = merged_second[j]\n",
        "\n",
        "        start = max(first_interval[0], second_interval[0])\n",
        "        end = min(first_interval[1], second_interval[1])\n",
        "\n",
        "        if start <= end:  # There is an intersection\n",
        "            result.append([start, end])\n",
        "\n",
        "        # Move to the next interval\n",
        "        if first_interval[1] < second_interval[1]:\n",
        "            i += 1\n",
        "        else:\n",
        "            j += 1\n",
        "\n",
        "    return result\n",
        "\n",
        "# Example usage:\n",
        "firstList = [[1, 3], [2, 4], [5, 10], [12, 14]]\n",
        "secondList = [[2, 5], [7, 8], [9, 12]]\n",
        "print(intervalIntersection(firstList, secondList))  # Output: [[2, 3], [5, 5], [12, 12]]"
      ],
      "metadata": {
        "colab": {
          "base_uri": "https://localhost:8080/"
        },
        "id": "CUTDsc_5Oh5F",
        "outputId": "c87d26e6-1094-4a52-c8dc-42ab3983dd8e"
      },
      "execution_count": 4,
      "outputs": [
        {
          "output_type": "stream",
          "name": "stdout",
          "text": [
            "[[2, 4], [5, 5], [7, 8], [9, 10], [12, 12]]\n"
          ]
        }
      ]
    },
    {
      "cell_type": "markdown",
      "source": [
        "## Topk frequent elements\n",
        "* we can follow heap, sorting but probably they will asks for quickselect.\n",
        "* for quick select, we can sort in no-decreasing order or non-increasing order\n",
        "  - for non-decreasing order, we have to find n-kth position and then take all the values right of it\n",
        "  - for non-increasing order, we can order by decreasing way and find k-1th item and then take from [0 to k-1]\n",
        "  "
      ],
      "metadata": {
        "id": "zfkVcfPuSwxW"
      }
    },
    {
      "cell_type": "code",
      "source": [
        "import random\n",
        "from typing import List\n",
        "from collections import Counter\n",
        "class Solution:\n",
        "    def topKFrequent(self, nums: List[int], k: int) -> List[int]:\n",
        "        count= Counter(nums)\n",
        "        uniq = list(count.keys())\n",
        "        # now run qselect on uniq\n",
        "\n",
        "        def swap(left, right):\n",
        "            uniq[left], uniq[right] = uniq[right], uniq[left]\n",
        "\n",
        "        def partition(pivot_index, low, high):\n",
        "            left = low\n",
        "            pivot_freq = count[uniq[pivot_index]]\n",
        "            swap(pivot_index, high)\n",
        "\n",
        "            for i in range(low, high):\n",
        "                if count[uniq[i]] < pivot_freq:\n",
        "                    swap(i, left)\n",
        "                    left +=1\n",
        "            swap(left, high)\n",
        "            return left\n",
        "\n",
        "        def qselect(left, right, t):\n",
        "            if left == right:\n",
        "                return\n",
        "            # print(left, right)\n",
        "            pivot = random.randint(left, right)\n",
        "\n",
        "            index = partition(pivot, left, right)\n",
        "\n",
        "            if index == t:\n",
        "                return index\n",
        "            elif t < index:\n",
        "                 qselect(left, index-1, t)\n",
        "            else:\n",
        "                qselect(index+1, right, t)\n",
        "        n = len(uniq)\n",
        "        qselect(0, n-1, n-k)\n",
        "        # print(uniq)\n",
        "        return uniq[n-k:]\n",
        "#test 1\n",
        "nums=[1,1,1,2,2,3]\n",
        "k=2\n",
        "print(Solution().topKFrequent(nums, k)[::-1])\n",
        "#test 2\n",
        "nums=[1]\n",
        "k=1\n",
        "print(Solution().topKFrequent(nums, k)[::-1])"
      ],
      "metadata": {
        "colab": {
          "base_uri": "https://localhost:8080/"
        },
        "id": "jW28xbK3TT2j",
        "outputId": "02d87e3e-0d31-43fa-b49c-f6c588986741"
      },
      "execution_count": 8,
      "outputs": [
        {
          "output_type": "stream",
          "name": "stdout",
          "text": [
            "[1, 2]\n",
            "[1]\n"
          ]
        }
      ]
    },
    {
      "cell_type": "code",
      "source": [
        "# non-increasing order\n",
        "from collections import Counter\n",
        "import random\n",
        "class Solution:\n",
        "\n",
        "    def quickselect(self, arr, left, right, k):\n",
        "        \"\"\" Helper function for quickselect to find the k-th largest element. \"\"\"\n",
        "        if left == right:\n",
        "            return arr[left]\n",
        "\n",
        "        # Choose a random pivot\n",
        "        pivot_index = random.randint(left, right)\n",
        "        pivot_index = self.partition(arr, left, right, pivot_index)\n",
        "\n",
        "        # The pivot is in its final sorted position\n",
        "        if k == pivot_index:\n",
        "            return k\n",
        "        elif k < pivot_index:\n",
        "            return self.quickselect(arr, left, pivot_index - 1, k)\n",
        "        else:\n",
        "            return self.quickselect(arr, pivot_index + 1, right, k)\n",
        "\n",
        "    def partition(self, arr, left, right, pivot_index):\n",
        "        \"\"\" Partition the array such that elements greater than pivot are on the left, and smaller on the right. \"\"\"\n",
        "        pivot_value = arr[pivot_index][1]\n",
        "        # Move the pivot to the end\n",
        "        arr[pivot_index], arr[right] = arr[right], arr[pivot_index]\n",
        "\n",
        "        store_index = left\n",
        "        for i in range(left, right):\n",
        "            if arr[i][1] > pivot_value:  # We want the larger frequencies on the left\n",
        "                arr[store_index], arr[i] = arr[i], arr[store_index]\n",
        "                store_index += 1\n",
        "\n",
        "        # Move the pivot to its final place\n",
        "        arr[right], arr[store_index] = arr[store_index], arr[right]\n",
        "        return store_index\n",
        "\n",
        "    def topKFrequent(self,nums, k):\n",
        "        # Step 1: Count the frequency of each element\n",
        "        freq_map = Counter(nums)\n",
        "\n",
        "        # Step 2: Convert the frequency map into a list of (element, frequency) tuples\n",
        "        freq_list = list(freq_map.items())\n",
        "\n",
        "        # Step 3: Use quickselect to find the k most frequent elements\n",
        "        topK=self.quickselect(freq_list, 0, len(freq_list) - 1, k-1)\n",
        "        return [item[0] for item in freq_list[:k] ]\n",
        "\n",
        "#test 1\n",
        "nums=[1,1,1,2,2,3]\n",
        "print(Solution().topKFrequent(nums, 2))\n",
        "#test 2\n",
        "nums=[1]\n",
        "print(Solution().topKFrequent(nums, 1))"
      ],
      "metadata": {
        "colab": {
          "base_uri": "https://localhost:8080/"
        },
        "id": "hUk4eJBVTqbF",
        "outputId": "a88a27e8-b7c9-4ce0-a0d6-668d28bf2db2"
      },
      "execution_count": 9,
      "outputs": [
        {
          "output_type": "stream",
          "name": "stdout",
          "text": [
            "[1, 2]\n",
            "[1]\n"
          ]
        }
      ]
    }
  ]
}