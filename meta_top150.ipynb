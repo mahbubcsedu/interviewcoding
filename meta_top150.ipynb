{
  "nbformat": 4,
  "nbformat_minor": 0,
  "metadata": {
    "colab": {
      "provenance": [],
      "authorship_tag": "ABX9TyPyHtR9f897op06z2I4ElSE",
      "include_colab_link": true
    },
    "kernelspec": {
      "name": "python3",
      "display_name": "Python 3"
    },
    "language_info": {
      "name": "python"
    }
  },
  "cells": [
    {
      "cell_type": "markdown",
      "metadata": {
        "id": "view-in-github",
        "colab_type": "text"
      },
      "source": [
        "<a href=\"https://colab.research.google.com/github/mahbubcsedu/interviewcoding/blob/main/meta_top150.ipynb\" target=\"_parent\"><img src=\"https://colab.research.google.com/assets/colab-badge.svg\" alt=\"Open In Colab\"/></a>"
      ]
    },
    {
      "cell_type": "markdown",
      "source": [
        "## Following list is the top 150 question at the end of 2024"
      ],
      "metadata": {
        "id": "QUuxUJnbDo0Q"
      }
    },
    {
      "cell_type": "markdown",
      "source": [
        "Here is the list formatted as a **Wiki-style table** with LeetCode URLs for reference:\n",
        "\n",
        "Here is the **Wiki-style table** for the next set of LeetCode problems, including their URLs for easy access:\n",
        "\n",
        "| **Problem Number** | **Problem Name**                                | **Acceptance Rate** | **Difficulty** | **LeetCode URL**                                                                 |\n",
        "|--------------------|-------------------------------------------------|---------------------|----------------|----------------------------------------------------------------------------------|\n",
        "| 1249               | 1 | 69.9%               | Medium         | [LeetCode: Minimum Remove to Make Valid Parentheses](https://leetcode.com/problems/minimum-remove-to-make-valid-parentheses/) |\n",
        "| 680                | 2 | 42.0%               | Easy           | [LeetCode: Valid Palindrome II](https://leetcode.com/problems/valid-palindrome-ii/) |\n",
        "| 408                | 3 | 36.4%               | Easy           | [LeetCode: Valid Word Abbreviation](https://leetcode.com/problems/valid-word-abbreviation/) |\n",
        "| 314                | 4 | 56.0%               | Medium         | [LeetCode: Binary Tree Vertical Order Traversal](https://leetcode.com/problems/binary-tree-vertical-order-traversal/) |\n",
        "| 215                | 5 | 67.3%               | Medium         | [LeetCode: Kth Largest Element in an Array](https://leetcode.com/problems/kth-largest-element-in-an-array/) |\n",
        "| 227                | 6 | 44.8%               | Medium         | [LeetCode: Basic Calculator II](https://leetcode.com/problems/basic-calculator-ii/) |\n",
        "| 1650               | 6 | 81.3%               | Medium         | [LeetCode: Lowest Common Ancestor of a Binary Tree III](https://leetcode.com/problems/lowest-common-ancestor-of-a-binary-tree-iii/) |\n",
        "| 339                | 7 | 84.8%               | Medium         | [LeetCode: Nested List Weight Sum](https://leetcode.com/problems/nested-list-weight-sum/) |\n",
        "| 88                 | 8 | 51.7%               | Easy           | [LeetCode: Merge Sorted Array](https://leetcode.com/problems/merge-sorted-array/) |\n",
        "| 528                | 9 | 47.8%               | Medium         | [LeetCode: Random Pick with Weight](https://leetcode.com/problems/random-pick-with-weight/) |\n",
        "| 236                | 10 | 64.8%               | Medium         | [LeetCode: Lowest Common Ancestor of a Binary Tree](https://leetcode.com/problems/lowest-common-ancestor-of-a-binary-tree/) |\n",
        "| 162                | 11 | 46.2%               | Medium         | [LeetCode: Find Peak Element](https://leetcode.com/problems/find-peak-element/) |\n",
        "| 50                 | 12 | 36.1%               | Medium         | [LeetCode: Pow(x, n)](https://leetcode.com/problems/powx-n/) |\n",
        "| 71                 | 13 | 45.5%               | Medium         | [LeetCode: Simplify Path](https://leetcode.com/problems/simplify-path/) |\n",
        "| 1570               | 14 | 89.9%               | Medium         | [LeetCode: Dot Product of Two Sparse Vectors](https://leetcode.com/problems/dot-product-of-two-sparse-vectors/) |\n",
        "| 938                | 15            | 87.2%               | Easy           | [LeetCode: Range Sum of BST](https://leetcode.com/problems/range-sum-of-bst/)   |\n",
        "| 1091               | 16 | 48.7%               | Medium         | [LeetCode: Shortest Path in Binary Matrix](https://leetcode.com/problems/shortest-path-in-binary-matrix/) |\n",
        "| 1                  | 17                              | 54.4%               | Easy           | [LeetCode: Two Sum](https://leetcode.com/problems/two-sum/)                     |\n",
        "| 125                | 18          | 49.5%               | Easy           | [LeetCode: Valid Palindrome](https://leetcode.com/problems/valid-palindrome/)   |\n",
        "| 199                |19 | 64.5%               | Medium         | [LeetCode: Binary Tree Right Side View](https://leetcode.com/problems/binary-tree-right-side-view/) |\n",
        "| 560                | 20 | 44.5%               | Medium         | [LeetCode: Subarray Sum Equals K](https://leetcode.com/problems/subarray-sum-equals-k/) |\n",
        "| 56                 | 21              | 48.4%               | Medium         | [LeetCode: Merge Intervals](https://leetcode.com/problems/merge-intervals/)     |\n",
        "| 543                | 22 | 62.1%               | Easy           | [LeetCode: Diameter of Binary Tree](https://leetcode.com/problems/diameter-of-binary-tree/) |\n",
        "| 973                | 23 | 67.3%               | Medium         | [LeetCode: K Closest Points to Origin](https://leetcode.com/problems/k-closest-points-to-origin/) |\n",
        "| 138                | 24 | 58.6%               | Medium         | [LeetCode: Copy List with Random Pointer](https://leetcode.com/problems/copy-list-with-random-pointer/) |\n",
        "| 146                | 25                          | 43.9%               | Medium         | [LeetCode: LRU Cache](https://leetcode.com/problems/lru-cache/)                 |\n",
        "| 31                 | 26 | 41.8%               | Medium         | [LeetCode: Next Permutation](https://leetcode.com/problems/next-permutation/)     |\n",
        "| 347                | 27 | 63.7%               | Medium         | [LeetCode: Top K Frequent Elements](https://leetcode.com/problems/top-k-frequent-elements/) |\n",
        "| 1762               |28 | 80.3%               | Medium         | [LeetCode: Buildings With an Ocean View](https://leetcode.com/problems/buildings-with-an-ocean-view/) |\n",
        "| 23                 | 29 | 55.0%               | Hard           | [LeetCode: Merge k Sorted Lists](https://leetcode.com/problems/merge-k-sorted-lists/) |\n",
        "| 986                | 30 | 72.2%               | Medium         | [LeetCode: Interval List Intersections](https://leetcode.com/problems/interval-list-intersections/) |\n",
        "| 426                | 31 | 65.2%               | Medium         | [LeetCode: Convert Binary Search Tree to Sorted Doubly Linked List](https://leetcode.com/problems/convert-binary-search-tree-to-sorted-doubly-linked-list/) |\n",
        "| 1004               | 32 | 64.7%               | Medium         | [LeetCode: Max Consecutive Ones III](https://leetcode.com/problems/max-consecutive-ones-iii/) |\n",
        "| 921                | 33 | 74.7%               | Medium         | [LeetCode: Minimum Add to Make Parentheses Valid](https://leetcode.com/problems/minimum-add-to-make-parentheses-valid/) |\n",
        "| 129                | 34 | 67.4%               | Medium         | [LeetCode: Sum Root to Leaf Numbers](https://leetcode.com/problems/sum-root-to-leaf-numbers/) |\n",
        "| 283                | 35 | 62.3%               | Easy           | [LeetCode: Move Zeroes](https://leetcode.com/problems/move-zeroes/) |\n",
        "| 346                | 36 | 79.3%               | Easy           | [LeetCode: Moving Average from Data Stream](https://leetcode.com/problems/moving-average-from-data-stream/) |\n",
        "| 791                |37 | 71.4%               | Medium         | [LeetCode: Custom Sort String](https://leetcode.com/problems/custom-sort-string/) |\n",
        "| 670                | 38 | 51.6%               | Medium         | [LeetCode: Maximum Swap](https://leetcode.com/problems/maximum-swap/) |\n",
        "| 15                 | 39 | 35.9%               | Medium         | [LeetCode: 3Sum](https://leetcode.com/problems/3sum/) |\n",
        "| 987                | 40 | 49.7%               | Hard           | [LeetCode: Vertical Order Traversal of a Binary Tree](https://leetcode.com/problems/vertical-order-traversal-of-a-binary-tree/) |\n",
        "| 133                | 41 | 60.3%               | Medium         | [LeetCode: Clone Graph](https://leetcode.com/problems/clone-graph/) |\n",
        "| 1539               | 42 | 61.3%               | Easy           | [LeetCode: Kth Missing Positive Number](https://leetcode.com/problems/kth-missing-positive-number/) |\n",
        "| 65                 | 43 | 20.7%               | Hard           | [LeetCode: Valid Number](https://leetcode.com/problems/valid-number/) |\n",
        "| 200                | 44 | 61.0%               | Medium         | [LeetCode: Number of Islands](https://leetcode.com/problems/number-of-islands/) |\n",
        "| 2                  | 45 | 44.8%               | Medium         | [LeetCode: Add Two Numbers](https://leetcode.com/problems/add-two-numbers/) |\n",
        "| 76                 | 46 | 44.2%               | Hard           | [LeetCode: Minimum Window Substring](https://leetcode.com/problems/minimum-window-substring/) |\n",
        "| 34                 | 47 | 45.7%               | Medium         | [LeetCode: Find First and Last Position of Element in Sorted Array](https://leetcode.com/problems/find-first-and-last-position-of-element-in-sorted-array/) |\n",
        "| 121                | 48 | 54.5%               | Easy           | [LeetCode: Best Time to Buy and Sell Stock](https://leetcode.com/problems/best-time-to-buy-and-sell-stock/) |\n",
        "| 14                 | 49 | 44.4%               | Easy           | [LeetCode: Longest Common Prefix](https://leetcode.com/problems/longest-common-prefix/) |\n",
        "| 498                | 50 | 61.8%               | Medium         | [LeetCode: Diagonal Traverse](https://leetcode.com/problems/diagonal-traverse/) |\n",
        "| 827                | 51 | 49.4%               | Hard           | [LeetCode: Making A Large Island](https://leetcode.com/problems/making-a-large-island/) |\n",
        "| 2667               | 52 | 81.7%               | Easy           | [LeetCode: Create Hello World Function](https://leetcode.com/problems/create-hello-world-function/) |\n",
        "| 708                | 53 | 37.2%               | Medium         | [LeetCode: Insert into a Sorted Circular Linked List](https://leetcode.com/problems/insert-into-a-sorted-circular-linked-list/) |\n",
        "| 163                | 54 | 34.7%               | Easy           | [LeetCode: Missing Ranges](https://leetcode.com/problems/missing-ranges/) |\n",
        "| 173                | 55 | 73.8%               | Medium         | [LeetCode: Binary Search Tree Iterator](https://leetcode.com/problems/binary-search-tree-iterator/) |\n",
        "| 636                | 56 | 63.5%               | Medium         | [LeetCode: Exclusive Time of Functions](https://leetcode.com/problems/exclusive-time-of-functions/) |\n",
        "| 721                | 57 | 58.5%               | Medium         | [LeetCode: Accounts Merge](https://leetcode.com/problems/accounts-merge/) |\n",
        "| 766                | 58 | 69.4%               | Easy           | [LeetCode: Toeplitz Matrix](https://leetcode.com/problems/toeplitz-matrix/) |\n",
        "| 863                | 59 | 65.5%               | Medium         | [LeetCode: All Nodes Distance K in Binary Tree](https://leetcode.com/problems/all-nodes-distance-k-in-binary-tree/) |\n",
        "| 1216               | 60 | 49.2%               | Hard           | [LeetCode: Valid Palindrome III](https://leetcode.com/problems/valid-palindrome-iii/) |\n",
        "| 78                 | 61 | 79.8%               | Medium         | [LeetCode: Subsets](https://leetcode.com/problems/subsets/) |\n",
        "| 398                | 62 | 64.1%               | Medium         | [LeetCode: Random Pick Index](https://leetcode.com/problems/random-pick-index/) |\n",
        "| 415                | 63 | 51.6%               | Easy           | [LeetCode: Add Strings](https://leetcode.com/problems/add-strings/) |\n",
        "| 1768               | 64 | 81.3%               | Easy           | [LeetCode: Merge Strings Alternately](https://leetcode.com/problems/merge-strings-alternately/) |\n",
        "| 20                 | 65 | 41.5%               | Easy           | [LeetCode: Valid Parentheses](https://leetcode.com/problems/valid-parentheses/) |\n",
        "| 523                | 66 | 30.6%               | Medium         | [LeetCode: Continuous Subarray Sum](https://leetcode.com/problems/continuous-subarray-sum/) |\n",
        "| 17                 | 67 | 62.5%               | Medium         | [LeetCode: Letter Combinations of a Phone Number](https://leetcode.com/problems/letter-combinations-of-a-phone-number/) |\n",
        "| 139                | 68 | 47.6%               | Medium         | [LeetCode: Word Break](https://leetcode.com/problems/word-break/) |\n",
        "| 270                |69 | 50.5%               | Easy           | [LeetCode: Closest Binary Search Tree Value](https://leetcode.com/problems/closest-binary-search-tree-value/) |\n",
        "| 1757               | 70 | 89.4%               | Easy           | [LeetCode: Recyclable and Low Fat Products](https://leetcode.com/problems/recyclable-and-low-fat-products/) |\n",
        "| 4                  | 71 | 42.2%               | Hard           | [LeetCode: Median of Two Sorted Arrays](https://leetcode.com/problems/median-of-two-sorted-arrays/) |\n",
        "| 249                | 72 | 66.6%               | Medium         | [LeetCode: Group Shifted Strings](https://leetcode.com/problems/group-shifted-strings/) |\n",
        "| 282                | 73 | 40.7%               | Hard           | [LeetCode: Expression Add Operators](https://leetcode.com/problems/expression-add-operators/) |\n",
        "| 958                | 74 | 57.7%               | Medium         | [LeetCode: Check Completeness of a Binary Tree](https://leetcode.com/problems/check-completeness-of-a-binary-tree/) |\n",
        "| 9                  | 75 | 58.1%               | Easy           | [LeetCode: Palindrome Number](https://leetcode.com/problems/palindrome-number/) |\n",
        "| 48                 | 76 | 76.6%               | Medium         | [LeetCode: Rotate Image](https://leetcode.com/problems/rotate-image/) |\n",
        "| 647                | 77 | 71.0%               | Medium         | [LeetCode: Palindromic Substrings](https://leetcode.com/problems/palindromic-substrings/) |\n",
        "| 1047               | 78 | 70.6%               | Easy           | [LeetCode: Remove All Adjacent Duplicates In String](https://leetcode.com/problems/remove-all-adjacent-duplicates-in-string/) |\n",
        "| 19                 | 79 | 47.5%               | Medium         | [LeetCode: Remove Nth Node From End of List](https://leetcode.com/problems/remove-nth-node-from-end-of-list/) |\n",
        "| 824                | 80 | 68.8%               | Easy           | [LeetCode: Goat Latin](https://leetcode.com/problems/goat-latin/) |\n",
        "| 5                  | 81 | 34.9%               | Medium         | [LeetCode: Longest Palindromic Substring](https://leetcode.com/problems/longest-palindromic-substring/) |\n",
        "| 253                | 82 | 51.8%               | Medium         | [LeetCode: Meeting Rooms II](https://leetcode.com/problems/meeting-rooms-ii/) |\n",
        "| 658                | 83 | 48.1%               | Medium         | [LeetCode: Find K Closest Elements](https://leetcode.com/problems/find-k-closest-elements/) |\n",
        "| 8                  | 84 | 18.3%               | Medium         | [LeetCode: String to Integer (atoi)](https://leetcode.com/problems/string-to-integer-atoi/) |\n",
        "| 127                | 85 | 41.1%               | Hard           | [LeetCode: Word Ladder](https://leetcode.com/problems/word-ladder/) |\n",
        "| 169                | 86 | 65.4%               | Easy           | [LeetCode: Majority Element](https://leetcode.com/problems/majority-element/) |\n",
        "| 207                | 87 | 48.0%               | Medium         | [LeetCode: Course Schedule](https://leetcode.com/problems/course-schedule/) |\n",
        "| 269                | 88 | 36.2%               | Hard           | [LeetCode: Alien Dictionary](https://leetcode.com/problems/alien-dictionary/) |\n",
        "| 329                | 89 | 54.6%               | Hard           | [LeetCode: Longest Increasing Path in a Matrix](https://leetcode.com/problems/longest-increasing-path-in-a-matrix/) |\n",
        "| 380                |90 | 54.8%               | Medium         | [LeetCode: Insert Delete GetRandom O(1)](https://leetcode.com/problems/insert-delete-getrandom-o1/) |\n",
        "| 26                 | 91 | 58.6%               | Easy           | [LeetCode: Remove Duplicates from Sorted Array](https://leetcode.com/problems/remove-duplicates-from-sorted-array/) |\n",
        "| 219                | 92 | 47.3%               | Easy           | [LeetCode: Contains Duplicate II](https://leetcode.com/problems/contains-duplicate-ii/) |\n",
        "| 238                | 93 | 67.1%               | Medium         | [LeetCode: Product of Array Except Self](https://leetcode.com/problems/product-of-array-except-self/) |\n",
        "| 825                | 94 | 48.5%               | Medium         | [LeetCode: Friends Of Appropriate Ages](https://leetcode.com/problems/friends-of-appropriate-ages/) |\n",
        "| 977                | 95 | 73.0%               | Easy           | [LeetCode: Squares of a Sorted Array](https://leetcode.com/problems/squares-of-a-sorted-array/) |\n",
        "| 33                 | 96 | 41.9%               | Medium         | [LeetCode: Search in Rotated Sorted Array](https://leetcode.com/problems/search-in-rotated-sorted-array/) |\n",
        "| 116                | 97 | 64.3%               | Medium         | [LeetCode: Populating Next Right Pointers in Each Node](https://leetcode.com/problems/populating-next-right-pointers-in-each-node/) |\n",
        "| 394                | 98 | 60.3%               | Medium         | [LeetCode: Decode String](https://leetcode.com/problems/decode-string/) |\n",
        "| 38                 | 99 | 57.2%               | Medium         | [LeetCode: Count and Say](https://leetcode.com/problems/count-and-say/) |\n",
        "| 124                | 100 | 40.7%               | Hard           | [LeetCode: Binary Tree Maximum Path Sum](https://leetcode.com/problems/binary-tree-maximum-path-sum/) |\n",
        "| 197                |101 | 49.4%               | Easy           | [LeetCode: Rising Temperature](https://leetcode.com/problems/rising-temperature/) |\n",
        "| 735                | 102 | 44.9%               | Medium         | [LeetCode: Asteroid Collision](https://leetcode.com/problems/asteroid-collision/) |\n",
        "| 1424               | 103| 57.4%               | Medium         | [LeetCode: Diagonal Traverse II](https://leetcode.com/problems/diagonal-traverse-ii/) |\n",
        "| 1868               | 104 | 59.1%               | Medium         | [LeetCode: Product of Two Run-Length Encoded Arrays](https://leetcode.com/problems/product-of-two-run-length-encoded-arrays/) |\n",
        "| 3                  | 105 | 35.9%               | Medium         | [LeetCode: Longest Substring Without Repeating Characters](https://leetcode.com/problems/longest-substring-without-repeating-characters/) |\n",
        "| 49                 |106 | 69.9%               | Medium         | [LeetCode: Group Anagrams](https://leetcode.com/problems/group-anagrams/) |\n",
        "| 128                |107 | 47.7%               | Medium         | [LeetCode: Longest Consecutive Sequence](https://leetcode.com/problems/longest-consecutive-sequence/) |\n",
        "| 273                | 108 | 34.1%               | Hard           | [LeetCode: Integer to English Words](https://leetcode.com/problems/integer-to-english-words/) |\n",
        "| 392                | 109 | 48.1%               | Easy           | [LeetCode: Is Subsequence](https://leetcode.com/problems/is-subsequence/) |\n",
        "| 494                | 110 | 48.0%               | Medium         | [LeetCode: Target Sum](https://leetcode.com/problems/target-sum/) |\n",
        "| 525                | 111 | 48.9%               | Medium         | [LeetCode: Contiguous Array](https://leetcode.com/problems/contiguous-array/) |\n",
        "| 605                | 112 | 28.8%               | Easy           | [LeetCode: Can Place Flowers](https://leetcode.com/problems/can-place-flowers/) |\n",
        "| 691                | 113| 49.6%               | Hard           | [LeetCode: Stickers to Spell Word](https://leetcode.com/problems/stickers-to-spell-word/) |\n",
        "| 10                 | 114 | 28.7%               | Hard           | [LeetCode: Regular Expression Matching](https://leetcode.com/problems/regular-expression-matching/) |\n",
        "| 16                 | 115 | 46.4%               | Medium         | [LeetCode: 3Sum Closest](https://leetcode.com/problems/3sum-closest/) |\n",
        "| 42                 | 116 | 63.7%               | Hard           | [LeetCode: Trapping Rain Water](https://leetcode.com/problems/trapping-rain-water/) |\n",
        "| 43                 | 117 | 41.4%               | Medium         | [LeetCode: Multiply Strings](https://leetcode.com/problems/multiply-strings/) |\n",
        "| 140                | 118 | 52.4%               | Hard           | [LeetCode: Word Break II](https://leetcode.com/problems/word-break-ii/) |\n",
        "| 378                | 120 | 63.0%               | Medium         | [LeetCode: Kth Smallest Element in a Sorted Matrix](https://leetcode.com/problems/kth-smallest-element-in-a-sorted-matrix/) |\n",
        "| 443                | 121 | 56.6%               | Medium         | [LeetCode: String Compression](https://leetcode.com/problems/string-compression/) |\n",
        "| 480                | 121 | 38.7%               | Hard           | [LeetCode: Sliding Window Median](https://leetcode.com/problems/sliding-window-median/) |\n",
        "| 545                | 122 | 46.3%               | Medium         | [LeetCode: Boundary of Binary Tree](https://leetcode.com/problems/boundary-of-binary-tree/) |\n",
        "| 875                | 123 | 48.7%               | Medium         | [LeetCode: Koko Eating Bananas](https://leetcode.com/problems/koko-eating-bananas/) |\n",
        "| 1644               | 124 | 66.8%               | Medium         | [LeetCode: Lowest Common Ancestor of a Binary Tree II](https://leetcode.com/problems/lowest-common-ancestor-of-a-binary-tree-ii/) |\n",
        "| 57                 | 125 | 42.6%               | Medium         | [LeetCode: Insert Interval](https://leetcode.com/problems/insert-interval/) |\n",
        "| 198                | 126 | 51.8%               | Medium         | [LeetCode: House Robber](https://leetcode.com/problems/house-robber/) |\n",
        "| 231                | 127 | 48.1%               | Easy           | [LeetCode: Power of Two](https://leetcode.com/problems/power-of-two/) |\n",
        "| 348                | 127 | 58.3%               | Medium         | [LeetCode: Design Tic-Tac-Toe](https://leetcode.com/problems/design-tic-tac-toe/) |\n",
        "| 539                | 128 | 62.2%               | Medium         | [LeetCode: Minimum Time Difference](https://leetcode.com/problems/minimum-time-difference/) |\n",
        "| 1778               | 129 | 42.4%               | Medium         | [LeetCode: Shortest Path in a Hidden Grid](https://leetcode.com/problems/shortest-path-in-a-hidden-grid/) |\n",
        "| 7                  | 130 | 29.5%               | Medium         | [LeetCode: Reverse Integer](https://leetcode.com/problems/reverse-integer/) |\n",
        "| 13                 |131 | 63.5%               | Easy           | [LeetCode: Roman to Integer](https://leetcode.com/problems/roman-to-integer/) |\n",
        "| 21                 | 132 | 65.8%               | Easy           | [LeetCode: Merge Two Sorted Lists](https://leetcode.com/problems/merge-two-sorted-lists/) |\n",
        "| 22                 | 133 | 76.0%               | Medium         | [LeetCode: Generate Parentheses](https://leetcode.com/problems/generate-parentheses/) |\n",
        "| 28                 | 134 | 44.0%               | Easy           | [LeetCode: Find the Index of the First Occurrence in a String](https://leetcode.com/problems/find-the-index-of-the-first-occurrence-in-a-string/) |\n",
        "| 54                 | 135 | 52.1%               | Medium         | [LeetCode: Spiral Matrix](https://leetcode.com/problems/spiral-matrix/) |\n",
        "| 55                 | 136 | 38.9%               | Medium         | [LeetCode: Jump Game](https://leetcode.com/problems/jump-game/) |\n",
        "| 62                 | 137 | 65.1%               | Medium         | [LeetCode: Unique Paths](https://leetcode.com/problems/unique-paths/) |\n",
        "| 70                 | 138 | 53.3%               | Easy           | [LeetCode: Climbing Stairs](https://leetcode.com/problems/climbing-stairs/) |\n",
        "| 75                 | 139 | 65.7%               | Medium         | [LeetCode: Sort Colors](https://leetcode.com/problems/sort-colors/) |\n",
        "| 118                | 140 | 75.9%               | Easy           | [LeetCode: Pascal's Triangle](https://leetcode.com/problems/pascals-triangle/) |\n",
        "| 143                | 141 | 60.9%               | Medium         | [LeetCode: Reorder List](https://leetcode.com/problems/reorder-list/) |\n",
        "| 206                | 142 | 78.2%               | Easy           | [LeetCode: Reverse Linked List](https://leetcode.com/problems/reverse-linked-list/) |\n",
        "| 234                | 143 | 54.7%               | Easy           | [LeetCode: Palindrome Linked List](https://leetcode.com/problems/palindrome-linked-list/) |\n",
        "| 235                | 144 | 66.8%               | Medium         | [LeetCode: Lowest Common Ancestor of a Binary Search Tree](https://leetcode.com/problems/lowest-common-ancestor-of-a-binary-search-tree/) |\n",
        "| 239                | 145 | 47.0%               | Hard           | [LeetCode: Sliding Window Maximum](https://leetcode.com/problems/sliding-window-maximum/) |\n",
        "| 295                | 146 | 52.7%               | Hard           | [LeetCode: Find Median from Data Stream](https://leetcode.com/problems/find-median-from-data-stream/) |\n",
        "| 325                | 147 | 50.0%               | Medium         | [LeetCode: Maximum Size Subarray Sum Equals k](https://leetcode.com/problems/maximum-size-subarray-sum-equals-k/) |\n",
        "| 2235               | 148 | 88.0%               | Easy           | [LeetCode: Add Two Integers](https://leetcode.com/problems/add-two-integers/) |\n",
        "| 529               | 149 | 67.50%               | Medium           | [LeetCode: Minesweeper](https://leetcode.com/problems/minesweeper/)\n",
        "| 536               | 150 | 57.7%               | Medium           | [LeetCode: Construct binary tree from string](https://leetcode.com/problems/construct-binary-tree-from-string/) |\n",
        "\n",
        "---\n",
        "\n",
        "This table includes direct links to the corresponding LeetCode problem pages. Let me know if you need further adjustments!\n",
        "\n",
        "\n"
      ],
      "metadata": {
        "id": "s1TA5yC8HSpZ"
      }
    },
    {
      "cell_type": "markdown",
      "source": [
        "## 125. Valid palindrom\n",
        "do stack and return when it does not match condition"
      ],
      "metadata": {
        "id": "4nyMopDjTeyD"
      }
    },
    {
      "cell_type": "markdown",
      "source": [
        "## 199. Binary tree right side view\n",
        "- BFS (for each level, print the last node value)\n",
        "- DFS ( start from root, if level is current level, print. how can we achieve, keep visited as result array and if current depth==len(result), then add to result\n"
      ],
      "metadata": {
        "id": "4cIa62ujTtvR"
      }
    },
    {
      "cell_type": "code",
      "source": [
        "from typing import List\n",
        "class TreeNode:\n",
        "    def __init__(self, val=0, left=None, right=None):\n",
        "        self.val = val\n",
        "        self.left = left\n",
        "        self.right = right\n",
        "\n",
        "def right_side_view(root: TreeNode) -> List[int]:\n",
        "    result = []\n",
        "    def dfs(node, level, result):\n",
        "        if not node:\n",
        "            return\n",
        "        if level == len(result):\n",
        "            result.append(node.val)\n",
        "        dfs(node.right, level+1, result)\n",
        "    dfs(root, 0, result)\n",
        "    return result\n",
        "\n",
        "# create a tree example\n",
        "root = TreeNode(1)\n",
        "root.left = TreeNode(2)\n",
        "root.right = TreeNode(3)\n",
        "root.left.right = TreeNode(5)\n",
        "root.right.right = TreeNode(4)\n",
        "\n",
        "print(right_side_view(root))\n"
      ],
      "metadata": {
        "colab": {
          "base_uri": "https://localhost:8080/"
        },
        "id": "_LOXPAoMUN3P",
        "outputId": "3c045118-c0ed-4eaa-c774-9d42b1157403"
      },
      "execution_count": null,
      "outputs": [
        {
          "output_type": "stream",
          "name": "stdout",
          "text": [
            "[1, 3, 4]\n"
          ]
        }
      ]
    },
    {
      "cell_type": "markdown",
      "source": [
        "## Sumarray sum equal K\n",
        "-Brute force: for two loops, calculate all subarray and sum them and if equal, count increase to 1\n",
        "- Improve brute force-- use cumulateive sum for pre-sum[0]=0, then for each\n",
        "```sh\n",
        "[3,4,7,-2,3,6,0,4,3]\n",
        "cum=[0,3,7,14,12,15,21,21,25,27]\n",
        "cum[i]=num[i-1]+cum[i-1]\n",
        "```\n",
        "- keep start fix and then move right pointer, whenever, we get sum==k, count++\n",
        "```python\n",
        "    start=0\n",
        "    while start < n:\n",
        "      end=start\n",
        "      s=0\n",
        "      while end < n:\n",
        "        s+=num[end]\n",
        "        if s==k: count+=1\n",
        "        end+=1\n",
        "      start+=1\n",
        "    return count\n",
        "\n",
        "```\n",
        "This approach still O(n^2) but space O(1)\n",
        "-fourth approach-- prefix sum using hash\n",
        "start with hash[0]=1 and when s-k is not empty, then count"
      ],
      "metadata": {
        "id": "FMlKFXjkqt6N"
      }
    },
    {
      "cell_type": "code",
      "source": [
        "from collections import Counter\n",
        "\n",
        "def sum_array_sum_k(nums, k):\n",
        "  hash_sum=Counter()\n",
        "  hash_sum[0]=1\n",
        "\n",
        "  s, count = 0, 0\n",
        "\n",
        "  for index, value in enumerate(nums):\n",
        "    s+=value\n",
        "    if hash_sum[s-k] > 0:\n",
        "      # if we get one more, then it is true with all found subarray at s-k\n",
        "      count+=hash_sum[s-k]\n",
        "      # hash_sum[s] += hash_sum[s-k]\n",
        "    hash_sum[s]=1\n",
        "  return count\n",
        "\n",
        "num=[3,4,7,-2,3,6,0,5,4,3,8]\n",
        "# [3,4], [7], [3,4,7],[-2,3,6],[7,-2,3,6],[3,4,7,-2,3,6] and so one\n",
        "print(sum_array_sum_k(num,7))\n"
      ],
      "metadata": {
        "colab": {
          "base_uri": "https://localhost:8080/"
        },
        "id": "BhI9xTBZtNuv",
        "outputId": "1daadf3e-524a-4bbe-8981-64ce582d606d"
      },
      "execution_count": null,
      "outputs": [
        {
          "output_type": "stream",
          "name": "stdout",
          "text": [
            "5\n"
          ]
        }
      ]
    },
    {
      "cell_type": "markdown",
      "source": [
        "## Merge interval\n",
        "* single list of interval\n",
        "* two sorted list of interval"
      ],
      "metadata": {
        "id": "BaTZhShP3m1F"
      }
    },
    {
      "cell_type": "code",
      "source": [
        "def merge_intervals(intervals):\n",
        "  merged=[]\n",
        "  intervals.sort(key=lambda x: (x[0], x[1]))\n",
        "  merged.append(intervals[0])\n",
        "\n",
        "  for s, e in intervals[1:]:\n",
        "    if s <= merged[-1][1]:\n",
        "      merged[-1][1]=max(e, merged[-1][1])\n",
        "    else:\n",
        "      merged.append([s, e])\n",
        "\n",
        "  return merged\n"
      ],
      "metadata": {
        "id": "7OhVcm3a4A7e"
      },
      "execution_count": null,
      "outputs": []
    },
    {
      "cell_type": "code",
      "source": [
        "def merge_two_sorted_intervals(intv1, intv2):\n",
        "  p1, p2 = 0, 0\n",
        "  n1, n2 = len(intv1), len(intv2)\n",
        "  merged=[]\n",
        "\n",
        "  while p1 < n1 or p2 < n2:\n",
        "    if p2 >= n2 or (p1 < n1 and intv1[p1][0]< intv2[p2][0]):\n",
        "      cur = intv1[p1]\n",
        "      p1+=1\n",
        "    else:\n",
        "      cur = intv2[p2]\n",
        "      p2+=1\n",
        "\n",
        "    if not merged:\n",
        "      merged.append(cur)\n",
        "    elif merged[-1][1] < cur[0]:\n",
        "      merged.append(cur)\n",
        "    else:\n",
        "      merged[-1][1] = max(cur[1], merged[-1][1])\n",
        "  return merged\n",
        "\n",
        "intv1=[[1, 3], [5, 7], [8, 10]]\n",
        "intv2=[[4,6],[11, 15]]\n",
        "\n",
        "res=merge_two_sorted_intervals(intv1, intv2)\n",
        "print(res)"
      ],
      "metadata": {
        "colab": {
          "base_uri": "https://localhost:8080/"
        },
        "id": "ElX1jb8LEwEM",
        "outputId": "c1c71da1-c374-4267-94cf-0eaf7240fe9a"
      },
      "execution_count": null,
      "outputs": [
        {
          "output_type": "stream",
          "name": "stdout",
          "text": [
            "[[1, 3], [4, 7], [8, 10], [11, 15]]\n"
          ]
        }
      ]
    },
    {
      "cell_type": "markdown",
      "source": [
        "## Diameter of a binary tree"
      ],
      "metadata": {
        "id": "t8EblgyxJZ72"
      }
    },
    {
      "cell_type": "code",
      "source": [
        "class TreeNode:\n",
        "  def __init__(self, val, left=None, right=None):\n",
        "    self.val=val\n",
        "    self.left=left\n",
        "    self.right=right\n",
        "\n",
        "def diameter_of_tb(root):\n",
        "\n",
        "  def dfs(node):\n",
        "    if not node:\n",
        "      return (0,0)\n",
        "\n",
        "    left_d, left_h = dfs(node.left)\n",
        "    right_d, right_h = dfs(node.right)\n",
        "\n",
        "    diameter = max(left_d, right_d, left_h+right_h)\n",
        "    max_h = max(left_h, right_h)\n",
        "\n",
        "    return (diameter, 1+max_h)\n",
        "\n",
        "  return dfs(root)[0]\n",
        "\n",
        "\"\"\"\n",
        "            1\n",
        "           / \\\n",
        "          2,  6\n",
        "         /   /\\\n",
        "        3  7  8\n",
        "       /       /\n",
        "      4       9\n",
        "       \\\n",
        "        5\n",
        "\"\"\"\n",
        "root=TreeNode(1, TreeNode(2, TreeNode(3, TreeNode(4, None, TreeNode(5)))), TreeNode(6, TreeNode(7), TreeNode(8, TreeNode(9))))\n",
        "print(diameter_of_tb(root))\n"
      ],
      "metadata": {
        "colab": {
          "base_uri": "https://localhost:8080/"
        },
        "id": "WkA42Xk2JZeg",
        "outputId": "b49d5dd0-ae9a-4d19-8669-01f4e552157c"
      },
      "execution_count": null,
      "outputs": [
        {
          "output_type": "stream",
          "name": "stdout",
          "text": [
            "7\n"
          ]
        }
      ]
    },
    {
      "cell_type": "code",
      "source": [
        "class TreeNode:\n",
        "    def __init__(self, val=0, left=None, right=None):\n",
        "        self.val = val\n",
        "        self.left = left\n",
        "        self.right = right\n",
        "\n",
        "\n",
        "class BinaryTree:\n",
        "    def __init__(self, root=None):\n",
        "        self.root = root\n",
        "        self.diameter = 0  # Variable to store the maximum diameter\n",
        "\n",
        "    def diameterOfBinaryTree(self):\n",
        "        # Start the height calculation from the root\n",
        "        self._height(self.root)\n",
        "        return self.diameter\n",
        "\n",
        "    def _height(self, node):\n",
        "        # Base case: if the node is None, its height is 0\n",
        "        if not node:\n",
        "            return 0\n",
        "\n",
        "        # Recursively calculate the height of the left and right subtrees\n",
        "        left_height = self._height(node.left)\n",
        "        right_height = self._height(node.right)\n",
        "\n",
        "        # Update the diameter: the longest path could be through this node\n",
        "        self.diameter = max(self.diameter, left_height + right_height)\n",
        "\n",
        "        # Return the height of the current node\n",
        "        return 1 + max(left_height, right_height)\n",
        "\n",
        "\n",
        "# Example usage:\n",
        "if __name__ == \"__main__\":\n",
        "    # Creating a sample binary tree\n",
        "    #       1\n",
        "    #      / \\\n",
        "    #     2   3\n",
        "    #    / \\\n",
        "    #   4   5\n",
        "\n",
        "    node4 = TreeNode(4)\n",
        "    node5 = TreeNode(5)\n",
        "    node2 = TreeNode(2, node4, node5)\n",
        "    node3 = TreeNode(3)\n",
        "    root = TreeNode(1, node2, node3)\n",
        "\n",
        "    tree = BinaryTree(root)\n",
        "    print(\"Diameter of the tree is:\", tree.diameterOfBinaryTree())  # Output: 3"
      ],
      "metadata": {
        "colab": {
          "base_uri": "https://localhost:8080/"
        },
        "id": "MAUATQtiNVG1",
        "outputId": "ff68f008-8b7b-4d3f-a5a3-cdc21fce5c94"
      },
      "execution_count": null,
      "outputs": [
        {
          "output_type": "stream",
          "name": "stdout",
          "text": [
            "Diameter of the tree is: 3\n"
          ]
        }
      ]
    },
    {
      "cell_type": "markdown",
      "source": [
        "## k-closest point to origin\n",
        "- calculate distance from point(0,0) and put into a priority queue\n",
        "- improve by using quick select algorithm\n"
      ],
      "metadata": {
        "id": "aSN6DUYYN_lH"
      }
    },
    {
      "cell_type": "code",
      "source": [
        "import random\n",
        "class KClosestPoints:\n",
        "  def __init__(self,points, k):\n",
        "    self.points=points\n",
        "    self.k=k\n",
        "\n",
        "  def _compare(self, point):\n",
        "    return point[0]*point[0] - point[1]*point[1]\n",
        "\n",
        "  def _partition(self, pivot_index, lo, hi):\n",
        "    pivot = self.points[pivot_index]\n",
        "    j=lo\n",
        "    self.points[pivot_index], self.points[hi] = self.points[hi], self.points[pivot_index]\n",
        "\n",
        "    for i in range(lo, hi):\n",
        "      if self._compare(self.points[i])<=0:\n",
        "        self.points[j], self.points[i] = self.points[i], self.points[j]\n",
        "        j+=1\n",
        "    self.points[j], self.points[hi] = self.points[hi], self.points[j]\n",
        "    return j\n",
        "\n",
        "  def find_k_closest_point(self):\n",
        "    lo = 0\n",
        "    hi = len(self.points)-1\n",
        "\n",
        "    if len(self.points) <= self.k:\n",
        "      return self.points\n",
        "\n",
        "    while lo < hi:\n",
        "      p_index = random.randint(lo, hi)\n",
        "      mid = self._partition(p_index, lo, hi)\n",
        "      if mid==self.k:\n",
        "        break\n",
        "      elif mid < self.k:\n",
        "        lo=mid+1\n",
        "      else:\n",
        "        hi=mid-1\n",
        "    return self.points[:self.k]\n",
        "\n",
        "obj = KClosestPoints([[-2,10],[-4,-8],[10,7],[-4,-7]], 3)\n",
        "print(obj.find_k_closest_point())\n"
      ],
      "metadata": {
        "colab": {
          "base_uri": "https://localhost:8080/"
        },
        "id": "UpflWFlKSpRN",
        "outputId": "d37609b0-dfd7-4578-8db1-ca07c5158f62"
      },
      "execution_count": null,
      "outputs": [
        {
          "output_type": "stream",
          "name": "stdout",
          "text": [
            "[[-4, -7], [-4, -8], [-2, 10]]\n"
          ]
        }
      ]
    },
    {
      "cell_type": "markdown",
      "source": [
        "## Copy linked list with random pointer\n",
        "- Option 1: Hashset or map with recursive approarch.\n",
        "  * in this approach, we create a clone node and store to hashmap\n",
        "  * for random from current node, if the node already existes, return that as the random pointer\n",
        "  * if it does not exists, then create one and store to hashmap and then return\n",
        "  * do the same for node.next\n",
        "- Option 2: Do the above but using iterative process\n",
        "- Option 3 (optimized):\n",
        "  * add a new node next to original node and assign whatever was there\n",
        "  * in the second iteration, create a new list with cloned nones only\n"
      ],
      "metadata": {
        "id": "AFT8qB2LoVF9"
      }
    },
    {
      "cell_type": "code",
      "source": [
        "class Node:\n",
        "  def __init__(self, val: int, next: 'Node' = None, random: 'Node' = None):\n",
        "    self.val=val\n",
        "    self.next=next\n",
        "    self.random=random\n",
        "\n",
        "class RandomCopy:\n",
        "  def __init__(self):\n",
        "    self.visited={}\n",
        "\n",
        "  def copyRandomList(self, head: \"Optional[Node]\")->\"Optional[Node]\":\n",
        "    if head == None:\n",
        "      return None\n",
        "\n",
        "    if head in self.visited:\n",
        "      return self.visited[head]\n",
        "\n",
        "    # clone head\n",
        "    node = Node(head.val)\n",
        "    self.visited[head]=node\n",
        "\n",
        "    # now work with pointer\n",
        "    node.next = self.copyRandomList(head.next)\n",
        "    node.random = self.copyRandomList(head.random)\n",
        "\n",
        "    return node\n",
        "#\n",
        "# Helper function to print the list with random pointers\n",
        "def print_list(head: Node):\n",
        "    nodes = []\n",
        "    while head:\n",
        "        random_val = head.random.val if head.random else None\n",
        "        nodes.append(f\"({head.val}, random: {random_val})\")\n",
        "        head = head.next\n",
        "    print(\" -> \".join(nodes))\n",
        "\n",
        "# Create the linked list for testing\n",
        "node1 = Node(1)\n",
        "node2 = Node(2)\n",
        "node3 = Node(3)\n",
        "node4 = Node(4)\n",
        "\n",
        "# Set up next pointers\n",
        "node1.next = node2\n",
        "node2.next = node3\n",
        "node3.next = node4\n",
        "\n",
        "# Set up random pointers\n",
        "node1.random = node3  # node1's random points to node3\n",
        "node2.random = node1  # node2's random points to node1\n",
        "node3.random = node2  # node3's random points to node2\n",
        "node4.random = node4  # node4's random points to itself\n",
        "\n",
        "# Print original list\n",
        "print(\"Original List:\")\n",
        "print_list(node1)\n",
        "\n",
        "# Create a RandomCopy object and copy the list\n",
        "# obj =\n",
        "random_copy = RandomCopy()\n",
        "copied_head = random_copy.copyRandomList(node1)\n",
        "\n",
        "# Print copied list\n",
        "print(\"\\nCopied List:\")\n",
        "print_list(copied_head)"
      ],
      "metadata": {
        "colab": {
          "base_uri": "https://localhost:8080/"
        },
        "id": "Hqp09kRwFxoI",
        "outputId": "5742d70d-246f-4b5d-f4d7-59deae1a307f"
      },
      "execution_count": null,
      "outputs": [
        {
          "output_type": "stream",
          "name": "stdout",
          "text": [
            "Original List:\n",
            "(1, random: 3) -> (2, random: 1) -> (3, random: 2) -> (4, random: 4)\n",
            "\n",
            "Copied List:\n",
            "(1, random: 3) -> (2, random: 1) -> (3, random: 2) -> (4, random: 4)\n"
          ]
        }
      ]
    },
    {
      "cell_type": "code",
      "source": [
        "# two pass random node\n",
        "# create clone node next to each old node in first iteration\n",
        "# in second iteration, assign random and separate cloned nodes from original\n",
        "\n",
        "class Node:\n",
        "  def __init__(self, val: int, next: 'Node' = None, random: 'Node' = None):\n",
        "    self.val=val\n",
        "    self.next=next\n",
        "    self.random=random\n",
        "\n",
        "class RandomCopy:\n",
        "\n",
        "  def copyRandomList(self, head: \"Optional[Node]\")->\"Optional[Node]\":\n",
        "    if not head:\n",
        "      return head\n",
        "\n",
        "    ptr = head # to interate and expand the current list\n",
        "\n",
        "    while ptr:\n",
        "      cloned_node = Node(ptr.val)\n",
        "      cloned_node.next=ptr.next\n",
        "      ptr.next=cloned_node\n",
        "      ptr=cloned_node.next\n",
        "    # at this stage we should have a list with cloned nodes but next and random of cloned nodes are not correct\n",
        "    # we will correct and then create a separate list\n",
        "\n",
        "    # this iteration will assign correct random pointer for cloned nodes\n",
        "    ptr=head\n",
        "    new_ptr=head.next\n",
        "\n",
        "    while ptr:\n",
        "      new_ptr.random = ptr.random.next if ptr.random else None\n",
        "      ptr=ptr.next.next\n",
        "\n",
        "    # now separate two list\n",
        "\n",
        "    new_head = head.next\n",
        "\n",
        "    ptr_new=head.next\n",
        "    ptr_old=head\n",
        "\n",
        "    while ptr_old:\n",
        "      ptr_old.next = ptr_old.next.next\n",
        "      ptr_old=ptr_old.next\n",
        "      ptr_new.next=ptr_old if ptr_old else None\n",
        "      ptr_new=ptr_new.next\n",
        "    return new_head\n",
        "\n",
        "\n",
        "# Create the linked list for testing\n",
        "node1 = Node(1)\n",
        "node2 = Node(2)\n",
        "node3 = Node(3)\n",
        "node4 = Node(4)\n",
        "\n",
        "# Set up next pointers\n",
        "node1.next = node2\n",
        "node2.next = node3\n",
        "node3.next = node4\n",
        "\n",
        "# Set up random pointers\n",
        "node1.random = node3  # node1's random points to node3\n",
        "node2.random = node1  # node2's random points to node1\n",
        "node3.random = node2  # node3's random points to node2\n",
        "node4.random = node4  # node4's random points to itself\n",
        "\n",
        "# Print original list\n",
        "print(\"Original List:\")\n",
        "print_list(node1)\n",
        "\n",
        "# Create a RandomCopy object and copy the list\n",
        "# obj =\n",
        "random_copy = RandomCopy()\n",
        "copied_head = random_copy.copyRandomList(node1)\n",
        "\n",
        "# Print copied list\n",
        "print(\"\\nCopied List:\")\n",
        "print_list(copied_head)\n"
      ],
      "metadata": {
        "colab": {
          "base_uri": "https://localhost:8080/"
        },
        "id": "P75WEaCDIv-P",
        "outputId": "805e8e45-7c76-49e7-e2ea-209fb377d960"
      },
      "execution_count": null,
      "outputs": [
        {
          "output_type": "stream",
          "name": "stdout",
          "text": [
            "Original List:\n",
            "(1, random: 3) -> (2, random: 1) -> (3, random: 2) -> (4, random: 4)\n",
            "\n",
            "Copied List:\n",
            "(1, random: 4) -> (2, random: 1) -> (3, random: 2) -> (4, random: 4)\n"
          ]
        }
      ]
    },
    {
      "cell_type": "markdown",
      "source": [
        "## Next greater permutations\n",
        "Here the condition is next greater permutation\n",
        "[1,2,3]->[1,3,2]->[2,1,3]->[2,3,1]->[3,2,1]-> after that restart [1,2,3]\n",
        "\n",
        "if we look from [1,3,2]->[2,1,3] we can see that we did two things\n",
        " * from right to left when it breaks increasing order\n",
        " * then we swap with the value that is greater than that value\n",
        "\n",
        "but from this small example, its very hard to get other insight so, lets expand\n",
        "```\n",
        "* [6,2,1,5,4,3,0] for next, we cannot do anything from [5,4,3,0] as this is the biggest if we consider post fix\n",
        "* so, we move to next elements where we can make difference which is [6,2,3,5,4,1,0]\n",
        "* we basically increase the counter but using the values from the list as it is permutations.\n",
        "* Why 3, because, 3 is the bigger than 1 and anything less than that will not increase the value\n",
        "* but we see now, it is not the next biggest, we may get less value with replacing 1 by 3 if we reverse in decreasing order from [5,4,1,0] -> [0,1,4,5]\n",
        "* so final value will ve [6,2,3,0,1,4,5]\n",
        "* Some value generated\n",
        "\n",
        "[6, 2, 3, 0, 1, 4, 5]\n",
        "[6, 2, 3, 0, 1, 5, 4]\n",
        "[6, 2, 3, 0, 4, 1, 5]\n",
        "[6, 2, 3, 0, 4, 5, 1]\n",
        "[6, 2, 3, 0, 5, 1, 4]\n",
        "[6, 2, 3, 0, 5, 4, 1]\n",
        "[6, 2, 3, 1, 0, 4, 5]\n",
        "[6, 2, 3, 1, 0, 5, 4]\n",
        "\n",
        "```"
      ],
      "metadata": {
        "id": "Cz-saEHfTEl-"
      }
    },
    {
      "cell_type": "code",
      "source": [
        "def next_greater_permutation(nums)->None:\n",
        "\n",
        "  n=len(nums)\n",
        "  if n < 2:\n",
        "    return\n",
        "  # find invert pointer\n",
        "  invert_pointer=n-2\n",
        "\n",
        "  while invert_pointer >= 0 and nums[invert_pointer] >= nums[invert_pointer+1]:\n",
        "    invert_pointer-=1\n",
        "  # if condition is [3,2,1], invert pointer will be -1\n",
        "  if invert_pointer == -1:\n",
        "    return nums[::-1]\n",
        "\n",
        "  # find the first value from last to intervt pointer that is greater than nums[invert_pointer]\n",
        "  for ptr in range(n-1, invert_pointer, -1):\n",
        "    if nums[ptr] > nums[invert_pointer]:\n",
        "      nums[ptr], nums[invert_pointer] = nums[invert_pointer], nums[ptr]\n",
        "      break\n",
        "  # now the last step is to reverse from next to invert_pointer to the last\n",
        "  nums[invert_pointer+1:] = nums[invert_pointer+1:][::-1]\n",
        "\n",
        "nums=[6,2,1,5,4,3,0]\n",
        "for i in range(20):\n",
        "  next_greater_permutation(nums)\n",
        "  print(nums)"
      ],
      "metadata": {
        "colab": {
          "base_uri": "https://localhost:8080/"
        },
        "id": "AZ9LtaBXVmxM",
        "outputId": "4377e3ce-d5ab-454d-cc56-4b0932575cb6"
      },
      "execution_count": null,
      "outputs": [
        {
          "output_type": "stream",
          "name": "stdout",
          "text": [
            "[6, 2, 3, 0, 1, 4, 5]\n",
            "[6, 2, 3, 0, 1, 5, 4]\n",
            "[6, 2, 3, 0, 4, 1, 5]\n",
            "[6, 2, 3, 0, 4, 5, 1]\n",
            "[6, 2, 3, 0, 5, 1, 4]\n",
            "[6, 2, 3, 0, 5, 4, 1]\n",
            "[6, 2, 3, 1, 0, 4, 5]\n",
            "[6, 2, 3, 1, 0, 5, 4]\n",
            "[6, 2, 3, 1, 4, 0, 5]\n",
            "[6, 2, 3, 1, 4, 5, 0]\n",
            "[6, 2, 3, 1, 5, 0, 4]\n",
            "[6, 2, 3, 1, 5, 4, 0]\n",
            "[6, 2, 3, 4, 0, 1, 5]\n",
            "[6, 2, 3, 4, 0, 5, 1]\n",
            "[6, 2, 3, 4, 1, 0, 5]\n",
            "[6, 2, 3, 4, 1, 5, 0]\n",
            "[6, 2, 3, 4, 5, 0, 1]\n",
            "[6, 2, 3, 4, 5, 1, 0]\n",
            "[6, 2, 3, 5, 0, 1, 4]\n",
            "[6, 2, 3, 5, 0, 4, 1]\n"
          ]
        }
      ]
    },
    {
      "cell_type": "markdown",
      "source": [
        "## root left to sum\n",
        "* Option1: we can use dfs recursive\n",
        "* Option 2: can use iterative of the same dfs\n",
        "* Also morris traversal is possible if asked to solve in $O(n)$ time"
      ],
      "metadata": {
        "id": "w2XIqky1qGRt"
      }
    },
    {
      "cell_type": "code",
      "source": [
        "from typing import Optional\n",
        "class TreeNode:\n",
        "    def __init__(self, val=0, left=None, right=None):\n",
        "        self.val = val\n",
        "        self.left = left\n",
        "        self.right = right\n",
        "class RootToSum:\n",
        "    def sumNumbers(self, root: Optional[TreeNode]) -> int:\n",
        "\n",
        "        leaf_to_no=0\n",
        "        stack=[(root, 0)]\n",
        "\n",
        "        while stack:\n",
        "            node, cur_num = stack.pop()\n",
        "            if not node: continue\n",
        "            cur_num = cur_num * 10 + node.val\n",
        "            if not (node.left or node.right):\n",
        "                leaf_to_no += cur_num\n",
        "            else:\n",
        "                stack.append((node.left, cur_num))\n",
        "                stack.append((node.right, cur_num))\n",
        "        return leaf_to_no\n",
        "tree = TreeNode(1)\n",
        "tree.left = TreeNode(2)\n",
        "tree.right = TreeNode(3)\n",
        "obj = RootToSum()\n",
        "print(obj.sumNumbers(tree))"
      ],
      "metadata": {
        "colab": {
          "base_uri": "https://localhost:8080/"
        },
        "id": "OOZ32AwzqIfC",
        "outputId": "023691b8-0f78-490a-8744-e21be5af03f5"
      },
      "execution_count": null,
      "outputs": [
        {
          "output_type": "stream",
          "name": "stdout",
          "text": [
            "25\n"
          ]
        }
      ]
    },
    {
      "cell_type": "code",
      "source": [
        "class TreeNode:\n",
        "    def __init__(self, val=0, left=None, right=None):\n",
        "        self.val = val\n",
        "        self.left = left\n",
        "        self.right = right\n",
        "class SumRootToLeaf:\n",
        "    def morris_root_to_leaf_sum(self,root):\n",
        "        root_to_leaf = curr_number = 0\n",
        "        current_node = root\n",
        "\n",
        "        # morris algorithm creates thread from current nodes to its predecessor and\n",
        "        # when it finished traversing, it remove that thread. So, it somehow modified the tree\n",
        "\n",
        "        while current_node:\n",
        "            # if current node has left, find predecessor of left subtree\n",
        "            if current_node.left:\n",
        "                # Predecessor node is one step to the left\n",
        "                # and then to the right till you can.\n",
        "                predecessor = current_node.left\n",
        "                steps = 1\n",
        "                # go all the way to right, bt it could be the case, that\n",
        "                # right child already visited and have predecssor set as the current node\n",
        "                while predecessor.right and predecessor.right is not current_node:\n",
        "                    predecessor = predecessor.right\n",
        "                    steps += 1\n",
        "\n",
        "                # if predecesssor does not have right child, calculate current path sum, create a link from this node\n",
        "                # to current node and traverse its left subtree\n",
        "                if predecessor.right is None:\n",
        "                    curr_number = curr_number * 10 + current_node.val\n",
        "                    predecessor.right = current_node\n",
        "                    current_node = current_node.left\n",
        "                # if predecessor.right is current node, then its the leaf node, so\n",
        "                #  add path sum to total\n",
        "                else:\n",
        "                    # If you're on the leaf, update the sum\n",
        "                    if predecessor.left is None:\n",
        "                        root_to_leaf += curr_number\n",
        "                    # This part of tree is explored, backtrack\n",
        "                    print(steps)\n",
        "                    for _ in range(steps):\n",
        "                        curr_number //= 10\n",
        "                    predecessor.right = None\n",
        "                    current_node = current_node.right\n",
        "\n",
        "            # If there is no left child\n",
        "            # then just go right.\n",
        "            else:\n",
        "                curr_number = curr_number * 10 + current_node.val\n",
        "                # if you're on the leaf, update the sum\n",
        "                if current_node.right is None:\n",
        "                  # this section only be true when its the right most leaf of the node\n",
        "                  # there will always be right as we set it to its predecessor except the last most right one\n",
        "                    root_to_leaf += curr_number\n",
        "                current_node = current_node.right\n",
        "\n",
        "        return root_to_leaf\n",
        "\n",
        "\n",
        "# Example Usage\n",
        "    #      1\n",
        "    #     / \\\n",
        "    #    2   3\n",
        "    #   / \\    \\\n",
        "    #  4   5    6\n",
        "\n",
        "root = TreeNode(1)\n",
        "root.left = TreeNode(2)\n",
        "root.right = TreeNode(3)\n",
        "root.left.left = TreeNode(4)\n",
        "root.left.right = TreeNode(5)\n",
        "root.right.right = TreeNode(6)\n",
        "\n",
        "\n",
        "print(\"Root-to-Leaf Sum using Morris Traversal:\", SumRootToLeaf().morris_root_to_leaf_sum(root))"
      ],
      "metadata": {
        "colab": {
          "base_uri": "https://localhost:8080/"
        },
        "id": "Y5DteFzfrzEJ",
        "outputId": "2c7cfab7-f635-4d36-9433-f6b01f5b9d78"
      },
      "execution_count": null,
      "outputs": [
        {
          "output_type": "stream",
          "name": "stdout",
          "text": [
            "1\n",
            "2\n",
            "Root-to-Leaf Sum using Morris Traversal: 385\n"
          ]
        }
      ]
    },
    {
      "cell_type": "markdown",
      "source": [
        "## Diagonal matrix traverse\n",
        "* Option1: Simulation or brute force which is also optimal and need $O(n*n)$ time\n",
        "* Using hashmap by adding index (row+col] and odd iteration reversed"
      ],
      "metadata": {
        "id": "BDxZYSlzaWxU"
      }
    },
    {
      "cell_type": "code",
      "source": [
        "from enum import Enum\n",
        "class Direction(Enum):\n",
        "  UP, DOWN = 1, -1\n",
        "\n",
        "def traverseDiagonal(matrix):\n",
        "  rows, cols = len(matrix), len(matrix[0])\n",
        "  result, direction = [], Direction.UP\n",
        "\n",
        "  row, col = 0, 0\n",
        "  while row < rows and col < cols:\n",
        "    result.append(matrix[row][col])\n",
        "\n",
        "    # new row and new col only change when it reach boundary and it can be left top, right and bottom\n",
        "    new_row = row + (-1 if direction == Direction.UP else 1) # row will decrease if up else decrease\n",
        "    new_col = col + (1 if direction == Direction.UP else -1) # col will increase if up else decrease\n",
        "\n",
        "    if new_row < 0 or new_row == rows or new_col < 0 or new_col == cols:\n",
        "      # new row and new col only change when it reach boundary and it can be left top, right and bottom\n",
        "      if direction == Direction.UP:\n",
        "        # Order of change is very important, this section depends on col condition, so dont update col first\n",
        "        # if last col and then moved up right, row will increase as it coming back from right side\n",
        "        row += (col==cols-1)\n",
        "        # col will fixed on last col or first col but in the middle it will always increase\n",
        "        col +=(col < cols-1)\n",
        "\n",
        "      else:\n",
        "        # for down case, it will happen just oppositive\n",
        "        # Order of change is very important, this section depends on rows condition, so dont update row first\n",
        "        # if its last row and downward, col will be the next col\n",
        "        col += (row==rows-1)\n",
        "        # if its last rows, rows will not change but any thing in the middle will change\n",
        "        row += (row < rows-1)\n",
        "\n",
        "      # both cases we have to change direction\n",
        "      direction = Direction.UP if direction == Direction.DOWN else Direction.DOWN\n",
        "\n",
        "    else:\n",
        "      # if not boundary condition\n",
        "      row, col = new_row, new_col\n",
        "  return result\n",
        "\n",
        "matrix=[\n",
        "  [1,2,3],\n",
        "  [4,5,6],\n",
        "  [7,8,9]]\n",
        "r = traverseDiagonal(matrix)\n",
        "print(r)"
      ],
      "metadata": {
        "colab": {
          "base_uri": "https://localhost:8080/"
        },
        "id": "rGqg7H4EauJC",
        "outputId": "4cb81b34-7f2c-4497-8fdb-a827c7d912a2"
      },
      "execution_count": null,
      "outputs": [
        {
          "output_type": "stream",
          "name": "stdout",
          "text": [
            "[1, 2, 4, 7, 5, 3, 6, 8, 9]\n"
          ]
        }
      ]
    },
    {
      "cell_type": "code",
      "source": [
        "import collections\n",
        "def diagonal_traverse(matrix):\n",
        "  # using hasmap we can do this easily but need memory\n",
        "  row_map=collections.defaultdict(list)\n",
        "\n",
        "  for row in range(len(matrix)):\n",
        "    for col in range(len(matrix[0])):\n",
        "      row_map[row+col].append(matrix[row][col])\n",
        "\n",
        "  result=[]\n",
        "  for key, rows in row_map.items():\n",
        "    if key % 2 == 0:\n",
        "      result.extend(rows[::-1])\n",
        "    else:\n",
        "      result.extend(rows)\n",
        "  return result\n",
        "\n",
        "matrix=[\n",
        "  [1,2,3],\n",
        "  [4,5,6],\n",
        "  [7,8,9]]\n",
        "r=diagonal_traverse(matrix)\n",
        "print(r)"
      ],
      "metadata": {
        "colab": {
          "base_uri": "https://localhost:8080/"
        },
        "id": "0a1GzNIBjY99",
        "outputId": "91a50cd0-9826-4e39-b20f-c2b881bb4d9e"
      },
      "execution_count": null,
      "outputs": [
        {
          "output_type": "stream",
          "name": "stdout",
          "text": [
            "[1, 2, 4, 7, 5, 3, 6, 8, 9]\n"
          ]
        }
      ]
    },
    {
      "cell_type": "markdown",
      "source": [
        "## Minimum add to make parenthesis valid\n",
        "* clarification question: only parenthesis, or string with parenthesis or other brackets\n",
        "* option 1: using stack, where we push and pop left parenthesis and if mismatch increment imbalance\n",
        "* option 2: using left and right count of parenthesis\n",
        "\n",
        "Note: if we need to add '(' or ')' both count as single unit of imbalance"
      ],
      "metadata": {
        "id": "Tp22_6iYn1ZV"
      }
    },
    {
      "cell_type": "code",
      "source": [
        "def minAddToMakeValid(s: str) -> int:\n",
        "  stack=[]\n",
        "  imbalance=0\n",
        "  for char in s:\n",
        "    if char == '(':\n",
        "      stack.append(char)\n",
        "    else:\n",
        "      if stack:\n",
        "        stack.pop()\n",
        "      else:\n",
        "        imbalance+=1\n",
        "  return imbalance + len(stack)\n",
        "# test 1\n",
        "s = \"())\"\n",
        "print(minAddToMakeValid(s))  # Output: 1\n",
        "\n",
        "# test 2\n",
        "s = \"(((\"\n",
        "print(minAddToMakeValid(s))  # Output: 3"
      ],
      "metadata": {
        "colab": {
          "base_uri": "https://localhost:8080/"
        },
        "id": "a7hh9siWoXiA",
        "outputId": "8204c4fe-c59d-4e7c-fb27-d8dd2b3bec68"
      },
      "execution_count": null,
      "outputs": [
        {
          "output_type": "stream",
          "name": "stdout",
          "text": [
            "1\n",
            "3\n"
          ]
        }
      ]
    },
    {
      "cell_type": "code",
      "source": [
        "def minAddToMakeValid(s: str) -> int:\n",
        "  left=right=0\n",
        "  for char in s:\n",
        "    if char == '(':\n",
        "      left+=1\n",
        "    else:\n",
        "      if left > 0:\n",
        "        left-=1\n",
        "      else:\n",
        "        right+=1\n",
        "  return left+right\n",
        "\n",
        "# test 1\n",
        "s=\"())\"\n",
        "print(minAddToMakeValid(s))\n",
        "\n",
        "s=\"(((\"\n",
        "print(minAddToMakeValid(s))"
      ],
      "metadata": {
        "colab": {
          "base_uri": "https://localhost:8080/"
        },
        "id": "Id0DOfjOoqE1",
        "outputId": "58686430-eb2f-405e-f878-1c4936f40e94"
      },
      "execution_count": null,
      "outputs": [
        {
          "output_type": "stream",
          "name": "stdout",
          "text": [
            "1\n",
            "3\n"
          ]
        }
      ]
    },
    {
      "cell_type": "markdown",
      "source": [
        "## Custome sort\n",
        "* option 1: we can accumulate using counter or hashmap for each character to their frequence and then based on order characer add frequency*ch. If some character are not part of order, we have to add them based on actual string\n",
        "* Option 2: we can create a custome comprator based on order character and then sort actual string based on that\n",
        "* if we are not allowed to use lambda comparator, we can create a custom comparator and then using that"
      ],
      "metadata": {
        "id": "UwY7VPrer59S"
      }
    },
    {
      "cell_type": "code",
      "source": [
        "from collections import Counter\n",
        "def customSorting(order, st):\n",
        "  str_count = Counter(st)\n",
        "  result = []\n",
        "  for char in order:\n",
        "    if char in str_count:\n",
        "      result.extend([char] * str_count[char])\n",
        "      del str_count[char]\n",
        "  for char in str_count:\n",
        "    result.extend([char] * str_count[char])\n",
        "  return \"\".join(result)\n",
        "\n",
        "order = \"cba\"\n",
        "st = \"abcd\"\n",
        "print(customSorting(order, st))"
      ],
      "metadata": {
        "colab": {
          "base_uri": "https://localhost:8080/"
        },
        "id": "zxUbpdXesLxR",
        "outputId": "8d6a7778-a52c-4599-ba7d-c0b124027a99"
      },
      "execution_count": null,
      "outputs": [
        {
          "output_type": "stream",
          "name": "stdout",
          "text": [
            "cbad\n"
          ]
        }
      ]
    },
    {
      "cell_type": "code",
      "source": [
        "from collections import defaultdict, Counter\n",
        "def customSorting(order, st):\n",
        "  char_order = defaultdict(int)\n",
        "  for index, ch in enumerate(order):\n",
        "    char_order[ch] = index\n",
        "  print(char_order)\n",
        "  return \"\".join(sorted(st, key=lambda x: char_order[x]))\n",
        "\n",
        "order = \"cba\"\n",
        "st = \"abcd\"\n",
        "print(customSorting(order, st))"
      ],
      "metadata": {
        "colab": {
          "base_uri": "https://localhost:8080/"
        },
        "id": "SkqiI-Jo77dq",
        "outputId": "71cb3137-05e5-4ce5-ec7c-5aab9264a3ba"
      },
      "execution_count": null,
      "outputs": [
        {
          "output_type": "stream",
          "name": "stdout",
          "text": [
            "defaultdict(<class 'int'>, {'c': 0, 'b': 1, 'a': 2})\n",
            "cdba\n"
          ]
        }
      ]
    },
    {
      "cell_type": "code",
      "source": [
        "import functools\n",
        "def customSorting(order, st):\n",
        "  priority=defaultdict(int)\n",
        "  for index, char in enumerate(order):\n",
        "    priority[char]=index\n",
        "\n",
        "  def comp(x,y):\n",
        "    if x not in priority or y not in priority:\n",
        "      # no change\n",
        "      return 0\n",
        "    elif x not in priority:\n",
        "      return -1 # y will come first\n",
        "    elif y not in priority:\n",
        "      return 1 # x will come first\n",
        "    return priority[x] - priority[y] # whoever has higher priorty come first\n",
        "  return \"\".join(sorted(st, key=functools.cmp_to_key(comp)))\n",
        "\n",
        "order = \"cba\"\n",
        "st = \"abcd\"\n",
        "print(customSorting(order, st))"
      ],
      "metadata": {
        "colab": {
          "base_uri": "https://localhost:8080/"
        },
        "id": "Yhkt9ckE9kVM",
        "outputId": "2992206e-543d-4595-a8de-47689154f5fc"
      },
      "execution_count": null,
      "outputs": [
        {
          "output_type": "stream",
          "name": "stdout",
          "text": [
            "cbad\n"
          ]
        }
      ]
    },
    {
      "cell_type": "markdown",
      "source": [
        "## 1762. Building with an ocean view\n",
        "There are n buildings in a line. You are given an integer array heights of size n that represents the heights of the buildings in the line.\n",
        "\n",
        "The ocean is to the right of the buildings. A building has an ocean view if the building can see the ocean without obstructions. Formally, a building has an ocean view if all the buildings to its right have a smaller height.\n",
        "\n",
        "Return a list of indices (0-indexed) of buildings that have an ocean view, sorted in increasing order.\n",
        "\n",
        "\n",
        "```\n",
        "Example 1:\n",
        "\n",
        "Input: heights = [4,2,3,1]\n",
        "Output: [0,2,3]\n",
        "Explanation: Building 1 (0-indexed) does not have an ocean view because building 2 is taller.\n",
        "Example 2:\n",
        "\n",
        "Input: heights = [4,3,2,1]\n",
        "Output: [0,1,2,3]\n",
        "Explanation: All the buildings have an ocean view.\n",
        "Example 3:\n",
        "\n",
        "Input: heights = [1,3,2,4]\n",
        "Output: [3]\n",
        "Explanation: Only building 3 has an ocean view.\n",
        "```"
      ],
      "metadata": {
        "id": "QNDcQQ7v_iP2"
      }
    },
    {
      "cell_type": "code",
      "source": [
        "\"\"\"\n",
        "The first option is using stack. We can push an building with index or just index and when compare using original building information to a stack if it has lower hight than its previous else discardd. when done, traverse the stack with index and return\n",
        "\"\"\"\n",
        "def buildingWithOceanView(heights):\n",
        "  stack=[]\n",
        "  for index, height in enumerate(heights):\n",
        "    while stack and height >= heights[stack[-1]]:\n",
        "      stack.pop()\n",
        "    stack.append(index)\n",
        "  return stack\n",
        "\n",
        "# test 1\n",
        "print(buildingWithOceanView([4,2,3,1])==[0,2,3])\n",
        "#test 2\n",
        "print(buildingWithOceanView([4,3,2,1])==[0,1,2,3])\n",
        "#test 3\n",
        "print(buildingWithOceanView([1,3,2,4])==[3])\n",
        "#test 4\n",
        "print(buildingWithOceanView([2,2,2,2])==[3])\n",
        "#test 5\n",
        "print(buildingWithOceanView([1,2,3,4])==[3])\n",
        "#test 6, empty\n",
        "print(buildingWithOceanView([])==[])"
      ],
      "metadata": {
        "colab": {
          "base_uri": "https://localhost:8080/"
        },
        "id": "_FjnfL7K_pTc",
        "outputId": "765526dd-044a-4f41-dd4a-be18198d57ac"
      },
      "execution_count": null,
      "outputs": [
        {
          "output_type": "stream",
          "name": "stdout",
          "text": [
            "True\n",
            "True\n",
            "True\n",
            "True\n",
            "True\n",
            "True\n"
          ]
        }
      ]
    },
    {
      "cell_type": "code",
      "source": [
        "\"\"\"\n",
        "Without stack with 0(1) space complexity\n",
        "\"\"\"\n",
        "def buildingWithOceanView(heights):\n",
        "  max_height=0\n",
        "  result=[]\n",
        "  for index in range(len(heights)-1, -1, -1):\n",
        "    if heights[index] > max_height:\n",
        "      max_height=heights[index]\n",
        "      result.append(index)\n",
        "  return result[::-1]\n",
        "\n",
        "\n",
        "# test 1\n",
        "print(buildingWithOceanView([4,2,3,1])==[0,2,3])\n",
        "#test 2\n",
        "print(buildingWithOceanView([4,3,2,1])==[0,1,2,3])\n",
        "#test 3\n",
        "print(buildingWithOceanView([1,3,2,4])==[3])\n",
        "#test 4\n",
        "print(buildingWithOceanView([2,2,2,2])==[3])\n",
        "#test 5\n",
        "print(buildingWithOceanView([1,2,3,4])==[3])\n",
        "#test 6, empty\n",
        "print(buildingWithOceanView([])==[])"
      ],
      "metadata": {
        "colab": {
          "base_uri": "https://localhost:8080/"
        },
        "id": "jwaMzEAuAuvd",
        "outputId": "41cb4d10-a164-4096-d8c7-35d25a2f6786"
      },
      "execution_count": null,
      "outputs": [
        {
          "output_type": "stream",
          "name": "stdout",
          "text": [
            "True\n",
            "True\n",
            "True\n",
            "True\n",
            "True\n",
            "True\n"
          ]
        }
      ]
    },
    {
      "cell_type": "markdown",
      "source": [
        "## Maxswap\n",
        "the given number is integer and it could go as much as 10**8 or 8 digit long. There is no need to optimized the algorithm. But, if they ask it, we can try different things.\n",
        "- Note: this is very tricky question and you have to ask question how many swap. in leetcode it asked only one swap. So asks\n",
        "  * can we do one swap only for each digit lets say 2736---7236 or 7263"
      ],
      "metadata": {
        "id": "pzin9bOkqvpU"
      }
    },
    {
      "cell_type": "code",
      "source": [
        "# we will swap with everynumber and then check if it is greater and then revert it back for the nxt result\n",
        "def maxSwap(num):\n",
        "  num_list=list(str(num))\n",
        "  ans=num_list[:] # need to take a copy as we will work on num\n",
        "\n",
        "  for i in range(len(num_list)):\n",
        "    for j in range(i+1, len(num_list)):\n",
        "      num_list[i], num_list[j]=num_list[j], num_list[i]\n",
        "      if \"\".join(num_list) > \"\".join(ans):\n",
        "        ans=num_list[:]\n",
        "      num_list[j], num_list[i]=num_list[i], num_list[j]\n",
        "  return int(\"\".join(ans))\n",
        "#test\n",
        "print(maxSwap(2736)==7236)\n",
        "print(maxSwap(9973)==9973)"
      ],
      "metadata": {
        "colab": {
          "base_uri": "https://localhost:8080/"
        },
        "id": "WRwm9XyGq__y",
        "outputId": "dfc69c8f-53f9-4fe2-b099-4488bb8ca399"
      },
      "execution_count": null,
      "outputs": [
        {
          "output_type": "stream",
          "name": "stdout",
          "text": [
            "True\n",
            "True\n"
          ]
        }
      ]
    },
    {
      "cell_type": "code",
      "source": [
        "# we can also use hashmap and try to find biggest digit from right to the current index and replace with the max\n",
        "def maxSwap(num):\n",
        "  num_list=list(str(num))\n",
        "  num_map={}\n",
        "  for index, digit in enumerate(num_list):\n",
        "    num_map[digit]=index\n",
        "  print(num_map)\n",
        "\n",
        "\n",
        "  for index, digit in enumerate(num_list):\n",
        "    for d in range(9, int(digit), -1):\n",
        "      if str(d) in num_map and num_map.get(str(d), 0) > index:\n",
        "\n",
        "        old_index=num_map[str(d)]\n",
        "        num_list[index], num_list[old_index] = num_list[old_index], num_list[index]\n",
        "        return int(\"\".join(num_list))\n",
        "\n",
        "  # if nothing happens\n",
        "  return int(\"\".join(num_list))\n",
        "\n",
        "print(maxSwap(2736)==7236)\n",
        "print(maxSwap(9973)==9973)"
      ],
      "metadata": {
        "colab": {
          "base_uri": "https://localhost:8080/"
        },
        "id": "iffLcEvwr8v3",
        "outputId": "fd9dced5-f1bc-4ee6-d30b-13fbf0c0c2b9"
      },
      "execution_count": null,
      "outputs": [
        {
          "output_type": "stream",
          "name": "stdout",
          "text": [
            "{'2': 0, '7': 1, '3': 2, '6': 3}\n",
            "True\n",
            "{'9': 1, '7': 2, '3': 3}\n",
            "True\n"
          ]
        }
      ]
    },
    {
      "cell_type": "markdown",
      "source": [
        "## Clone graph\n",
        "There is only one option as to use dfs using hashmap. We may use iterative solution and practice"
      ],
      "metadata": {
        "id": "yyE6VPA4w2-1"
      }
    },
    {
      "cell_type": "code",
      "source": [
        "# Definition for a Node.\n",
        "class Node:\n",
        "    def __init__(self, val = 0, neighbors = []):\n",
        "        self.val = val\n",
        "        self.neighbors = neighbors\n",
        "\n",
        "def cloneGraph(root: Node):\n",
        "  visited={}\n",
        "  def dfs(node):\n",
        "    if not node:\n",
        "      return None\n",
        "    if node in visited:\n",
        "      return visited[node]\n",
        "    copy=Node(node.val)\n",
        "    visited[node]=copy\n",
        "\n",
        "    copy.neighbors=[dfs(n) for n in node.neighbors]\n",
        "    # instead of above line, we can write the bellow but make sure we are not working on dynamic neighbord\n",
        "    # the following two lines put into infinite loop\n",
        "    # for n in node.neighbors:\n",
        "    #   if n not in visited:\n",
        "    #     copy.neighbors.append(dfs(n))\n",
        "    # instead of above two lines, write these\n",
        "\n",
        "\n",
        "    return copy\n",
        "  return dfs(root)\n",
        "\n",
        "#test: create a graph using the node and then use cloneGraph to test\n",
        "\n",
        "# Create the graph:\n",
        "# Graph structure:\n",
        "#    1\n",
        "#   / \\\n",
        "#  2   3\n",
        "#  |   |\n",
        "#  4   5\n",
        "\n",
        "# Create the nodes\n",
        "node1 = Node(1)\n",
        "node2 = Node(2)\n",
        "node3 = Node(3)\n",
        "node4 = Node(4)\n",
        "node5 = Node(5)\n",
        "\n",
        "# Connect the nodes\n",
        "node1.neighbors = [node2, node3]\n",
        "node2.neighbors = [node4]\n",
        "node3.neighbors = [node5]\n",
        "\n",
        "# Test the cloneGraph function\n",
        "cloned_graph = cloneGraph(node1)\n",
        "\n",
        "# Function to print the graph (to visually verify)\n",
        "def print_graph(node):\n",
        "    if not node:\n",
        "        return\n",
        "    visited = set()\n",
        "\n",
        "    def dfs_print(n):\n",
        "        if n in visited:\n",
        "            return\n",
        "        visited.add(n)\n",
        "        print(f\"Node {n.val} -> Neighbors {[neighbor.val for neighbor in n.neighbors]}\")\n",
        "        for neighbor in n.neighbors:\n",
        "            dfs_print(neighbor)\n",
        "\n",
        "    dfs_print(node)\n",
        "\n",
        "print(\"Original Graph:\")\n",
        "print_graph(node1)\n",
        "\n",
        "print(\"\\nCloned Graph:\")\n",
        "print_graph(cloned_graph)\n"
      ],
      "metadata": {
        "colab": {
          "base_uri": "https://localhost:8080/"
        },
        "id": "e8ODbdIbxAtI",
        "outputId": "67ce77db-9dde-4eec-8610-093b2f15cd88"
      },
      "execution_count": null,
      "outputs": [
        {
          "output_type": "stream",
          "name": "stdout",
          "text": [
            "Original Graph:\n",
            "Node 1 -> Neighbors [2, 3]\n",
            "Node 2 -> Neighbors [4]\n",
            "Node 4 -> Neighbors []\n",
            "Node 3 -> Neighbors [5]\n",
            "Node 5 -> Neighbors []\n",
            "\n",
            "Cloned Graph:\n",
            "Node 1 -> Neighbors [2, 3]\n",
            "Node 2 -> Neighbors [4]\n",
            "Node 4 -> Neighbors []\n",
            "Node 3 -> Neighbors [5]\n",
            "Node 5 -> Neighbors []\n"
          ]
        }
      ]
    },
    {
      "cell_type": "code",
      "source": [
        "from collections import deque\n",
        "class Node:\n",
        "    def __init__(self, val = 0, neighbors = []):\n",
        "        self.val = val\n",
        "        self.neighbors = neighbors\n",
        "\n",
        "def cloneGraph(root: Node):\n",
        "  if not root:\n",
        "    return None\n",
        "  visited={}\n",
        "  queue=deque([root])\n",
        "  # cloned_root=Node(root.val) # if you do this, it will not work\n",
        "  visited[root]=Node(root.val, [])\n",
        "\n",
        "  while queue:\n",
        "    node=queue.popleft()\n",
        "    for neighbor in node.neighbors:\n",
        "      if neighbor not in visited:\n",
        "        visited[neighbor]=Node(neighbor.val, [])\n",
        "        queue.append(neighbor)\n",
        "        visited[node].neighbors.append(visited[neighbor])\n",
        "  return visited[root]\n",
        "\n",
        "#test: create a graph using the node and then use cloneGraph to test\n",
        "\n",
        "# Create the graph:\n",
        "# Graph structure:\n",
        "#    1\n",
        "#   / \\\n",
        "#  2   3\n",
        "#  |   |\n",
        "#  4   5\n",
        "\n",
        "# Create the nodes\n",
        "node1 = Node(1)\n",
        "node2 = Node(2)\n",
        "node3 = Node(3)\n",
        "node4 = Node(4)\n",
        "node5 = Node(5)\n",
        "\n",
        "# Connect the nodes\n",
        "node1.neighbors = [node2, node3]\n",
        "node2.neighbors = [node4]\n",
        "node3.neighbors = [node5]\n",
        "\n",
        "# Test the cloneGraph function\n",
        "cloned_graph = cloneGraph(node1)\n",
        "\n",
        "# Function to print the graph (to visually verify)\n",
        "def print_graph(node):\n",
        "    if not node:\n",
        "        return\n",
        "    visited = set()\n",
        "\n",
        "    def dfs_print(n):\n",
        "        if n in visited:\n",
        "            return\n",
        "        visited.add(n)\n",
        "        print(f\"Node {n.val} -> Neighbors {[neighbor.val for neighbor in n.neighbors]}\")\n",
        "        for neighbor in n.neighbors:\n",
        "            dfs_print(neighbor)\n",
        "\n",
        "    dfs_print(node)\n",
        "\n",
        "print(\"Original Graph:\")\n",
        "print_graph(node1)\n",
        "\n",
        "print(\"\\nCloned Graph:\")\n",
        "print_graph(cloned_graph)"
      ],
      "metadata": {
        "colab": {
          "base_uri": "https://localhost:8080/"
        },
        "id": "h_zyDdIl4sz3",
        "outputId": "31a22495-4b25-4907-f11b-e1ac44b007ac"
      },
      "execution_count": null,
      "outputs": [
        {
          "output_type": "stream",
          "name": "stdout",
          "text": [
            "Original Graph:\n",
            "Node 1 -> Neighbors [2, 3]\n",
            "Node 2 -> Neighbors [4]\n",
            "Node 4 -> Neighbors []\n",
            "Node 3 -> Neighbors [5]\n",
            "Node 5 -> Neighbors []\n",
            "\n",
            "Cloned Graph:\n",
            "Node 1 -> Neighbors [2, 3]\n",
            "Node 2 -> Neighbors [4]\n",
            "Node 4 -> Neighbors []\n",
            "Node 3 -> Neighbors [5]\n",
            "Node 5 -> Neighbors []\n"
          ]
        }
      ]
    },
    {
      "cell_type": "markdown",
      "source": [
        "## LRU Cache\n",
        "* We can use library Ordered Dictionary\n",
        "* Hashmap + linkedlist ask for clarification"
      ],
      "metadata": {
        "id": "lfQEfR2XNkIn"
      }
    },
    {
      "cell_type": "code",
      "source": [
        "class DLLNode:\n",
        "  def __init__(self, key, val):\n",
        "    self.key=key\n",
        "    self.val=val\n",
        "    self.prev=None\n",
        "    self.next=None\n",
        "\n",
        "class LRUCache:\n",
        "  def __init__(self, capacity: int):\n",
        "    self.capacity=capacity\n",
        "    self.cache={}\n",
        "    self.head=DLLNode(0,0)\n",
        "    self.tail=DLLNode(0,0)\n",
        "    self.head.next=self.tail\n",
        "    self.tail.prev=self.head\n",
        "\n",
        "  # we can start from put and get algorithm and then write small functions on how to add a node or delete a node and also make a node head\n",
        "  # add and delete is pretty straight forward\n",
        "  # make node is needed as when a get or put call is make, both cases, we have to move that node to head\n",
        "  def add(self, node):\n",
        "    node.next = self.head.next\n",
        "    self.head.next.prev = node\n",
        "    self.head.next = node\n",
        "    node.prev = self.head\n",
        "  # we also will delete node from tail if size greater than capacity\n",
        "  def delete(self, node):\n",
        "    node.next.prev = node.prev\n",
        "    node.prev.next = node.next\n",
        "    # what will happen to node\n",
        "    node.next=None\n",
        "    node.prev=None\n",
        "\n",
        "  def make_head(self, node):\n",
        "    self.delete(node)\n",
        "    self.add(node)\n",
        "\n",
        "  def get(self, key: int) -> int:\n",
        "    if key in self.cache:\n",
        "      self.make_head(self.cache[key])\n",
        "      return self.cache[key].val\n",
        "    return -1\n",
        "\n",
        "  def put(self, key: int, value: int) -> None:\n",
        "    if key in self.cache:\n",
        "      # self.delete(self.cache[key])\n",
        "      self.cache[key].val=value\n",
        "      self.make_head(self.cache[key])\n",
        "\n",
        "    else:\n",
        "\n",
        "      new_node=DLLNode(key, value)\n",
        "      self.cache[key]=new_node\n",
        "      self.add(new_node)\n",
        "      self.make_head(new_node)\n",
        "      if len(self.cache) > self.capacity:\n",
        "        del self.cache[self.tail.prev.key]\n",
        "        self.delete(self.tail.prev)\n"
      ],
      "metadata": {
        "id": "n_1ytM29NvqY"
      },
      "execution_count": null,
      "outputs": []
    },
    {
      "cell_type": "code",
      "source": [
        "# using library ordered dictionary\n",
        "# we have to know some properties of ordered dictionary like move_to_end and popitem(last=False) FIFO\n",
        "from collections import OrderedDict\n",
        "class LRUCache(OrderedDict):\n",
        "  def __init__(self, capacity: int):\n",
        "    self.capacity=capacity\n",
        "\n",
        "  def put(self, key:int, value: int)->None:\n",
        "    if key in self:\n",
        "      self.move_to_end(key)\n",
        "    self[key]=value\n",
        "    if len(self) > self.capacity:\n",
        "      self.popitem(last=False)\n",
        "  def get(self, key:int)->int:\n",
        "    if key not in self:\n",
        "      return -1\n",
        "    self.move_to_end(key)\n",
        "    return self[key]"
      ],
      "metadata": {
        "id": "kaGoCXRyRdt5"
      },
      "execution_count": null,
      "outputs": []
    },
    {
      "cell_type": "markdown",
      "source": [
        "## 460 LFU cache\n",
        "Explanation:\n",
        "Node Class: Represents a key-value pair and its frequency.\n",
        "DoublyLinkedList Class: Supports operations to add and remove nodes in the linked list, making it easy to maintain order of frequency.\n",
        "LFUCache Class:\n",
        "__init__: Initializes cache with a specified capacity.\n",
        "_update: Helper function that updates the frequency of a key in the cache.\n",
        "get: Retrieves the value by key, updating the access frequency.\n",
        "put: Inserts or updates the value for a key, managing capacity and eviction of the least frequently used entries."
      ],
      "metadata": {
        "id": "VF8bwI-ne0AM"
      }
    },
    {
      "cell_type": "code",
      "source": [
        "class Node:\n",
        "    def __init__(self, key, value):\n",
        "        self.key = key\n",
        "        self.value = value\n",
        "        self.freq = 1\n",
        "        self.prev = None\n",
        "        self.next = None\n",
        "\n",
        "class DoublyLinkedList:\n",
        "    def __init__(self):\n",
        "        self.head = Node(0, 0)\n",
        "        self.tail = Node(0, 0)\n",
        "        self.head.next = self.tail\n",
        "        self.tail.prev = self.head\n",
        "        self.size = 0\n",
        "\n",
        "    def add_node(self, node):\n",
        "        node.prev = self.head\n",
        "        node.next = self.head.next\n",
        "        self.head.next.prev = node\n",
        "        self.head.next = node\n",
        "        self.size += 1\n",
        "\n",
        "    def remove_node(self, node):\n",
        "        prev_node = node.prev\n",
        "        next_node = node.next\n",
        "        prev_node.next = next_node\n",
        "        next_node.prev = prev_node\n",
        "        self.size -= 1\n",
        "\n",
        "    def remove_last(self):\n",
        "        if self.size > 0:\n",
        "            last_node = self.tail.prev\n",
        "            self.remove_node(last_node)\n",
        "            return last_node.key\n",
        "        return None\n",
        "\n",
        "class LFUCache:\n",
        "    def __init__(self, capacity: int):\n",
        "        self.capacity = capacity\n",
        "        self.size = 0\n",
        "        self.min_freq = 0\n",
        "        self.key_value = {}\n",
        "        self.key_freq = {}\n",
        "        self.freq_list = {}\n",
        "\n",
        "    def _update(self, key):\n",
        "        # Get current node\n",
        "        node = self.key_value[key]\n",
        "        freq = node.freq\n",
        "\n",
        "        # Remove the node from the current frequency list\n",
        "        self.freq_list[freq].remove_node(node)\n",
        "\n",
        "        # If the current frequency list is empty, and it was the minimum frequency, increment min_freq\n",
        "        if freq == self.min_freq and self.freq_list[freq].size == 0:\n",
        "            self.min_freq += 1\n",
        "\n",
        "        # Increment the node's frequency\n",
        "        node.freq += 1\n",
        "        new_freq = node.freq\n",
        "\n",
        "        # If the new frequency list does not exist, create it\n",
        "        if new_freq not in self.freq_list:\n",
        "            self.freq_list[new_freq] = DoublyLinkedList()\n",
        "\n",
        "        # Add the node to the new frequency list\n",
        "        self.freq_list[new_freq].add_node(node)\n",
        "\n",
        "    def get(self, key: int) -> int:\n",
        "        if key not in self.key_value:\n",
        "            return -1\n",
        "        # Update the frequency of the accessed key\n",
        "        self._update(key)\n",
        "        return self.key_value[key].value\n",
        "\n",
        "    def put(self, key: int, value: int) -> None:\n",
        "        if self.capacity <= 0:\n",
        "            return\n",
        "\n",
        "        if key in self.key_value:\n",
        "            # Update the existing key's value\n",
        "            self.key_value[key].value = value\n",
        "            # Update the frequency of the key\n",
        "            self._update(key)\n",
        "        else:\n",
        "            if self.size >= self.capacity:\n",
        "                # Evict the least frequently used key\n",
        "                lfu_key = self.freq_list[self.min_freq].remove_last()\n",
        "                if lfu_key is not None:\n",
        "                    del self.key_value[lfu_key]\n",
        "                    del self.key_freq[lfu_key]\n",
        "                    self.size -= 1\n",
        "\n",
        "            # Insert the new key\n",
        "            new_node = Node(key, value)\n",
        "            self.key_value[key] = new_node\n",
        "            self.key_freq[key] = new_node.freq\n",
        "\n",
        "            # Add the new node to the frequency list\n",
        "            if 1 not in self.freq_list:\n",
        "                self.freq_list[1] = DoublyLinkedList()\n",
        "            self.freq_list[1].add_node(new_node)\n",
        "\n",
        "            # Increment size and set min_freq to 1\n",
        "            self.size += 1\n",
        "            self.min_freq = 1"
      ],
      "metadata": {
        "colab": {
          "base_uri": "https://localhost:8080/"
        },
        "id": "RNlavVp_ZiVP",
        "outputId": "12ab03ca-97cd-4f2f-d48a-6a84911cc84d"
      },
      "execution_count": null,
      "outputs": [
        {
          "output_type": "stream",
          "name": "stdout",
          "text": [
            "1\n",
            "-1\n",
            "-1\n",
            "4\n"
          ]
        }
      ]
    },
    {
      "cell_type": "markdown",
      "source": [
        "## 986: Interval list intersection\n",
        "* two give interval lists where interval in one list does not overlap\n",
        "* so we have to find intersection of two sorted interval lists"
      ],
      "metadata": {
        "id": "p165Q3nOMEUl"
      }
    },
    {
      "cell_type": "code",
      "source": [
        "def IntervalsIntersection(A, B):\n",
        "  intersection=[]\n",
        "  fp, sp = 0, 0\n",
        "  while fp < len(A) and sp < len(B):\n",
        "    first_interval, second_interval = A[fp], B[sp]\n",
        "    start=max(first_interval[0], second_interval[0])\n",
        "    end=min(first_interval[1], second_interval[1])\n",
        "\n",
        "    if start <= end:\n",
        "      intersection.append([start, end])\n",
        "\n",
        "    if first_interval[1] < second_interval[1]:\n",
        "      fp += 1\n",
        "    else:\n",
        "      sp += 1\n",
        "  return intersection\n",
        "\n",
        "#test 1\n",
        "first_list=[[0,2],[5,10],[13,23],[24,25]]\n",
        "second_list=[[1,5],[8,12],[15,24],[25,26]]\n",
        "print(IntervalsIntersection(first_list, second_list)==[[1,2],[5,5],[8,10],[15,23],[24,24],[25,25]])\n",
        "\n",
        "#test 2\n",
        "first_list=[[1,3],[5,9]]\n",
        "second_list=[]\n",
        "print(IntervalsIntersection(first_list, second_list)==[])\n"
      ],
      "metadata": {
        "colab": {
          "base_uri": "https://localhost:8080/"
        },
        "id": "Dc-s9h0zNDB0",
        "outputId": "ee004708-2082-4208-dd3a-97fc991ff996"
      },
      "execution_count": null,
      "outputs": [
        {
          "output_type": "stream",
          "name": "stdout",
          "text": [
            "True\n",
            "True\n"
          ]
        }
      ]
    },
    {
      "cell_type": "markdown",
      "source": [
        "## 986: follow up: if the lists are not disjoin and overlaps\n",
        "If the intervals in the lists can overlap, we need to process them differently. When intervals in a single list overlap, we should first merge those overlapping intervals before finding the intersections with intervals from the other list. This way, we ensure that we are working with the correct, non-overlapping intervals.\n",
        "\n",
        "Here’s how we can adjust the algorithm:\n",
        "\n",
        "1. **Merge Overlapping Intervals**: First, we need to merge any overlapping intervals in each list.\n",
        "2. **Find Intersections**: After merging, we proceed to find the intersections between the two lists.\n",
        "\n",
        "### Merging Overlapping Intervals\n",
        "\n",
        "To merge overlapping intervals, we can use a simple linear scan through the list of intervals. We'll maintain a new list to store merged intervals.\n",
        "\n",
        "### Updated Implementation\n",
        "\n",
        "Here’s how we can implement this in Python:\n",
        "\n",
        "### Explanation:\n",
        "1. **Merge Function**:\n",
        "   - We sort the intervals based on their start times.\n",
        "   - We create a merged list and iterate through the sorted list. If the current interval overlaps with the last merged interval, we merge them. Otherwise, we add the current interval to the merged list.\n",
        "\n",
        "2. **Intersection Function**:\n",
        "   - After merging both lists, we use the same logic as before to find the intersections between the merged intervals from `firstList` and `secondList`.\n",
        "\n",
        "### Complexity:\n",
        "- Merging the intervals takes \\(O(n \\log n)\\) time due to sorting, where \\(n\\) is the number of intervals in the list.\n",
        "- Finding intersections takes \\(O(n + m)\\) time afterward, where \\(n\\) and \\(m\\) are the sizes of the merged lists.\n",
        "- Overall, this approach is efficient and handles overlapping intervals correctly."
      ],
      "metadata": {
        "id": "fGoaOgrrOGPe"
      }
    },
    {
      "cell_type": "code",
      "source": [
        "def mergeIntervals(intervals):\n",
        "    if not intervals:\n",
        "        return []\n",
        "\n",
        "    # Sort intervals based on the start time\n",
        "    intervals.sort(key=lambda x: x[0])\n",
        "    merged = [intervals[0]]\n",
        "\n",
        "    for i in range(1, len(intervals)):\n",
        "        current = intervals[i]\n",
        "        last_merged = merged[-1]\n",
        "\n",
        "        # Check if there is an overlap\n",
        "        if current[0] <= last_merged[1]:  # Overlapping intervals\n",
        "            last_merged[1] = max(last_merged[1], current[1])  # Merge them\n",
        "        else:\n",
        "            merged.append(current)  # No overlap, add to the merged list\n",
        "\n",
        "    return merged\n",
        "\n",
        "def intervalIntersection(firstList, secondList):\n",
        "    # Merge the intervals in both lists\n",
        "    merged_first = mergeIntervals(firstList)\n",
        "    merged_second = mergeIntervals(secondList)\n",
        "\n",
        "    result = []\n",
        "    i, j = 0, 0\n",
        "\n",
        "    # Find intersections between merged intervals\n",
        "    while i < len(merged_first) and j < len(merged_second):\n",
        "        first_interval = merged_first[i]\n",
        "        second_interval = merged_second[j]\n",
        "\n",
        "        start = max(first_interval[0], second_interval[0])\n",
        "        end = min(first_interval[1], second_interval[1])\n",
        "\n",
        "        if start <= end:  # There is an intersection\n",
        "            result.append([start, end])\n",
        "\n",
        "        # Move to the next interval\n",
        "        if first_interval[1] < second_interval[1]:\n",
        "            i += 1\n",
        "        else:\n",
        "            j += 1\n",
        "\n",
        "    return result\n",
        "\n",
        "# Example usage:\n",
        "firstList = [[1, 3], [2, 4], [5, 10], [12, 14]]\n",
        "secondList = [[2, 5], [7, 8], [9, 12]]\n",
        "print(intervalIntersection(firstList, secondList))  # Output: [[2, 3], [5, 5], [12, 12]]"
      ],
      "metadata": {
        "colab": {
          "base_uri": "https://localhost:8080/"
        },
        "id": "CUTDsc_5Oh5F",
        "outputId": "c87d26e6-1094-4a52-c8dc-42ab3983dd8e"
      },
      "execution_count": null,
      "outputs": [
        {
          "output_type": "stream",
          "name": "stdout",
          "text": [
            "[[2, 4], [5, 5], [7, 8], [9, 10], [12, 12]]\n"
          ]
        }
      ]
    },
    {
      "cell_type": "markdown",
      "source": [
        "## Topk frequent elements\n",
        "* we can follow heap, sorting but probably they will asks for quickselect.\n",
        "* for quick select, we can sort in no-decreasing order or non-increasing order\n",
        "  - for non-decreasing order, we have to find n-kth position and then take all the values right of it\n",
        "  - for non-increasing order, we can order by decreasing way and find k-1th item and then take from [0 to k-1]\n",
        "  "
      ],
      "metadata": {
        "id": "zfkVcfPuSwxW"
      }
    },
    {
      "cell_type": "code",
      "source": [
        "import random\n",
        "from typing import List\n",
        "from collections import Counter\n",
        "class Solution:\n",
        "    def topKFrequent(self, nums: List[int], k: int) -> List[int]:\n",
        "        count= Counter(nums)\n",
        "        uniq = list(count.keys())\n",
        "        # now run qselect on uniq\n",
        "\n",
        "        def swap(left, right):\n",
        "            uniq[left], uniq[right] = uniq[right], uniq[left]\n",
        "\n",
        "        def partition(pivot_index, low, high):\n",
        "            left = low\n",
        "            pivot_freq = count[uniq[pivot_index]]\n",
        "            swap(pivot_index, high)\n",
        "\n",
        "            for i in range(low, high):\n",
        "                if count[uniq[i]] < pivot_freq:\n",
        "                    swap(i, left)\n",
        "                    left +=1\n",
        "            swap(left, high)\n",
        "            return left\n",
        "\n",
        "        def qselect(left, right, t):\n",
        "            if left == right:\n",
        "                return\n",
        "            # print(left, right)\n",
        "            pivot = random.randint(left, right)\n",
        "\n",
        "            index = partition(pivot, left, right)\n",
        "\n",
        "            if index == t:\n",
        "                return index\n",
        "            elif t < index:\n",
        "                 qselect(left, index-1, t)\n",
        "            else:\n",
        "                qselect(index+1, right, t)\n",
        "        n = len(uniq)\n",
        "        qselect(0, n-1, n-k)\n",
        "        # print(uniq)\n",
        "        return uniq[n-k:]\n",
        "#test 1\n",
        "nums=[1,1,1,2,2,3]\n",
        "k=2\n",
        "print(Solution().topKFrequent(nums, k)[::-1])\n",
        "#test 2\n",
        "nums=[1]\n",
        "k=1\n",
        "print(Solution().topKFrequent(nums, k)[::-1])"
      ],
      "metadata": {
        "colab": {
          "base_uri": "https://localhost:8080/"
        },
        "id": "jW28xbK3TT2j",
        "outputId": "02d87e3e-0d31-43fa-b49c-f6c588986741"
      },
      "execution_count": null,
      "outputs": [
        {
          "output_type": "stream",
          "name": "stdout",
          "text": [
            "[1, 2]\n",
            "[1]\n"
          ]
        }
      ]
    },
    {
      "cell_type": "code",
      "source": [
        "# non-increasing order\n",
        "from collections import Counter\n",
        "import random\n",
        "class Solution:\n",
        "\n",
        "    def quickselect(self, arr, left, right, k):\n",
        "        \"\"\" Helper function for quickselect to find the k-th largest element. \"\"\"\n",
        "        if left == right:\n",
        "            return arr[left]\n",
        "\n",
        "        # Choose a random pivot\n",
        "        pivot_index = random.randint(left, right)\n",
        "        pivot_index = self.partition(arr, left, right, pivot_index)\n",
        "\n",
        "        # The pivot is in its final sorted position\n",
        "        if k == pivot_index:\n",
        "            return k\n",
        "        elif k < pivot_index:\n",
        "            return self.quickselect(arr, left, pivot_index - 1, k)\n",
        "        else:\n",
        "            return self.quickselect(arr, pivot_index + 1, right, k)\n",
        "\n",
        "    def partition(self, arr, left, right, pivot_index):\n",
        "        \"\"\" Partition the array such that elements greater than pivot are on the left, and smaller on the right. \"\"\"\n",
        "        pivot_value = arr[pivot_index][1]\n",
        "        # Move the pivot to the end\n",
        "        arr[pivot_index], arr[right] = arr[right], arr[pivot_index]\n",
        "\n",
        "        store_index = left\n",
        "        for i in range(left, right):\n",
        "            if arr[i][1] > pivot_value:  # We want the larger frequencies on the left\n",
        "                arr[store_index], arr[i] = arr[i], arr[store_index]\n",
        "                store_index += 1\n",
        "\n",
        "        # Move the pivot to its final place\n",
        "        arr[right], arr[store_index] = arr[store_index], arr[right]\n",
        "        return store_index\n",
        "\n",
        "    def topKFrequent(self,nums, k):\n",
        "        # Step 1: Count the frequency of each element\n",
        "        freq_map = Counter(nums)\n",
        "\n",
        "        # Step 2: Convert the frequency map into a list of (element, frequency) tuples\n",
        "        freq_list = list(freq_map.items())\n",
        "\n",
        "        # Step 3: Use quickselect to find the k most frequent elements\n",
        "        topK=self.quickselect(freq_list, 0, len(freq_list) - 1, k-1)\n",
        "        return [item[0] for item in freq_list[:k] ]\n",
        "\n",
        "#test 1\n",
        "nums=[1,1,1,2,2,3]\n",
        "print(Solution().topKFrequent(nums, 2))\n",
        "#test 2\n",
        "nums=[1]\n",
        "print(Solution().topKFrequent(nums, 1))"
      ],
      "metadata": {
        "colab": {
          "base_uri": "https://localhost:8080/"
        },
        "id": "hUk4eJBVTqbF",
        "outputId": "a88a27e8-b7c9-4ce0-a0d6-668d28bf2db2"
      },
      "execution_count": null,
      "outputs": [
        {
          "output_type": "stream",
          "name": "stdout",
          "text": [
            "[1, 2]\n",
            "[1]\n"
          ]
        }
      ]
    },
    {
      "cell_type": "markdown",
      "source": [
        "## 691. Sticker to spell words\n",
        "To make the given function more readable and understandable, I'll break down its components, improve variable names, add inline comments for clarity, and structure the code in a more intuitive way. Here's the refactored version:\n",
        "\n",
        "### Refactored Code:\n",
        "\n",
        "\n",
        "\n",
        "### Key Changes and Explanations:\n",
        "\n",
        "1. **Sticker Preprocessing**:\n",
        "   - We filter the stickers to only keep those that have at least one common character with the target string. This is done using a list comprehension that checks for common characters (`set(sticker) & set(target)`).\n",
        "   - This step ensures that we don't waste time trying stickers that have no useful characters for the target.\n",
        "\n",
        "2. **Memoization (`memo`)**:\n",
        "   - We use a dictionary `memo` to store the results for previously computed targets. This prevents redundant recalculations and speeds up the process.\n",
        "   - The memoization technique is crucial because we could otherwise re-solve the same subproblems many times in a recursive approach.\n",
        "\n",
        "3. **DFS with Backtracking**:\n",
        "   - The `dfs` function is the core recursive function. It tries to solve for the given target by iterating over all possible stickers and \"using\" each one to reduce the target.\n",
        "   - For each sticker, we attempt to remove the characters that the sticker can cover from the current target. This results in a new target, which is then processed recursively.\n",
        "   \n",
        "4. **Base Case and Recursive Case**:\n",
        "   - **Base case**: If the target is empty, we return 0, meaning no stickers are needed.\n",
        "   - **Recursive case**: For each sticker that can be used to cover characters from the target, we recurse on the \"remaining target\" and track the minimum number of stickers needed.\n",
        "\n",
        "5. **Result Calculation**:\n",
        "   - If a valid result is found for a target, it adds 1 to the result (since using one sticker reduces the target).\n",
        "   - If no valid result is found (i.e., it's impossible to form the target with the available stickers), it returns `-1` for that target and stores it in the `memo` dictionary.\n",
        "\n",
        "6. **Edge Cases**:\n",
        "   - If the target is empty, we return 0 since no stickers are needed.\n",
        "   - If no valid solution is found for a target, we return `-1` for that target, which indicates that the target can't be formed with the given stickers.\n",
        "\n",
        "### Example:\n",
        "\n",
        "Let’s walk through a simple example to clarify how the function works:\n",
        "\n",
        "#### Example 1:\n",
        "```python\n",
        "stickers = [\"with\", \"example\", \"science\"]\n",
        "target = \"thehat\"\n",
        "```\n",
        "\n",
        "- **Step 1**: Preprocess stickers to only keep those that have common characters with the target (`thehat`).\n",
        "  - `stickers = [Counter({'w': 1, 'i': 1, 't': 1, 'h': 1}), Counter({'e': 1, 'x': 1, 'a': 1, 'm': 1, 'p': 1, 'l': 1})]`\n",
        "  \n",
        "- **Step 2**: Use DFS with backtracking:\n",
        "  - Try each sticker and recursively reduce the target.\n",
        "  - If the result for a target is already computed, use the memoized value.\n",
        "  - Minimize the number of stickers used at each step.\n",
        "\n",
        "#### Example 2:\n",
        "```python\n",
        "stickers = [\"a\", \"b\", \"c\"]\n",
        "target = \"abc\"\n",
        "```\n",
        "\n",
        "- We can directly cover the target with 3 stickers (`a`, `b`, `c`), so the result will be 3.\n",
        "\n",
        "### Final Thoughts:\n",
        "\n",
        "This version improves readability, adds clarity through comments, and improves variable names. The key idea is that we use a **recursive depth-first search (DFS)** with **memoization** to minimize the number of stickers required to form the target string."
      ],
      "metadata": {
        "id": "_o0uEnvIX_Q-"
      }
    },
    {
      "cell_type": "code",
      "source": [
        "import collections\n",
        "class MinStickers:\n",
        "  def minStickers(self, stickers: 'List[str]', target: 'str') -> 'int':\n",
        "      # Create a list of Counter objects for each sticker, only keeping those that share characters with the target\n",
        "      stickers = [collections.Counter(sticker) for sticker in stickers if set(sticker) & set(target)]\n",
        "\n",
        "      # Memoization map to store the minimum number of stickers for a given target\n",
        "      memo = {}\n",
        "\n",
        "      def dfs(target: str) -> int:\n",
        "          # If the target is empty, no stickers are needed\n",
        "          if not target:\n",
        "              return 0\n",
        "\n",
        "          # If we've already computed the result for this target, return it\n",
        "          if target in memo:\n",
        "              return memo[target]\n",
        "\n",
        "          # Create a Counter object to count the frequency of each character in the target string\n",
        "          target_count = collections.Counter(target)\n",
        "\n",
        "          # Initialize the result as infinity (we'll minimize this value)\n",
        "          min_stickers = float('inf')\n",
        "\n",
        "          # Try each sticker and recursively process the remaining target\n",
        "          for sticker in stickers:\n",
        "              # If the sticker doesn't contain the first character of the target, skip it\n",
        "              # this is very important. if we dont do, then it may select a sticker that does not have any common\n",
        "              # and will never converge to answer and fall into infinite loop\n",
        "              if sticker[target[0]] == 0:\n",
        "                  continue\n",
        "\n",
        "              # Create a new target after \"using\" the current sticker\n",
        "              # Remove the characters from the target that the sticker can cover\n",
        "              remaining_target = ''.join([char * count for char, count in (target_count - sticker).items()])\n",
        "\n",
        "              # Recurse to solve the subproblem for the remaining target\n",
        "              result = dfs(remaining_target)\n",
        "\n",
        "              # If a valid solution was found, minimize the number of stickers\n",
        "              if result != -1:\n",
        "                  min_stickers = min(min_stickers, 1 + result)\n",
        "\n",
        "          # If we didn't find any valid solution, mark this target as impossible (-1)\n",
        "          memo[target] = -1 if min_stickers == float('inf') else min_stickers\n",
        "\n",
        "          return memo[target]\n",
        "\n",
        "      # Start the DFS process on the target string\n",
        "      return dfs(target)\n",
        "\n",
        "#test 1\n",
        "stickers = [\"with\", \"example\", \"science\"]\n",
        "target = \"thehat\"\n",
        "print(MinStickers().minStickers(stickers, target))\n",
        "\n",
        "#test 2\n",
        "stickers = [\"a\", \"b\", \"c\"]\n",
        "target = \"abc\"\n",
        "print(MinStickers().minStickers(stickers, target))\n",
        "#test 3\n",
        "stickers = [\"notice\",\"possible\"]\n",
        "target = \"basicbasic\"\n",
        "print(MinStickers().minStickers(stickers, target))"
      ],
      "metadata": {
        "colab": {
          "base_uri": "https://localhost:8080/"
        },
        "id": "14tJE_8IYJx9",
        "outputId": "34be07e9-7176-459f-9885-754c0fd981ea"
      },
      "execution_count": null,
      "outputs": [
        {
          "output_type": "stream",
          "name": "stdout",
          "text": [
            "3\n",
            "3\n",
            "-1\n"
          ]
        }
      ]
    },
    {
      "cell_type": "markdown",
      "source": [
        "##1004 Max consecutive ones III\n",
        "Given a binary array nums and an integer k, return the maximum number of consecutive 1's in the array if you can flip at most k 0's.\n",
        "\n",
        "\n",
        "```sh\n",
        "Example 1:\n",
        "\n",
        "Input: nums = [1,1,1,0,0,0,1,1,1,1,0], k = 2\n",
        "Output: 6\n",
        "Explanation: [1,1,1,0,0,1,1,1,1,1,1]\n",
        "Bolded numbers were flipped from 0 to 1. The longest subarray is underlined.\n",
        "Example 2:\n",
        "\n",
        "Input: nums = [0,0,1,1,0,0,1,1,1,0,1,1,0,0,0,1,1,1,1], k = 3\n",
        "Output: 10\n",
        "Explanation: [0,0,1,1,1,1,1,1,1,1,1,1,0,0,0,1,1,1,1]\n",
        "Bolded numbers were flipped from 0 to 1. The longest subarray is underlined.\n",
        "```"
      ],
      "metadata": {
        "id": "bI_U_3rfa9V1"
      }
    },
    {
      "cell_type": "code",
      "source": [
        "def maxConsecutiveOnesIII(nums, k):\n",
        "  # we use two pointers or sliding window\n",
        "  left=0\n",
        "  for right in range(len(nums)):\n",
        "    k-=1-nums[right]\n",
        "    if k<0:\n",
        "\n",
        "      k+=1-nums[left]\n",
        "      left+=1\n",
        "  return right-left+1\n",
        "#test 1\n",
        "print(maxConsecutiveOnesIII([1,1,1,0,0,0,1,1,1,1,0], 2))\n",
        "#test 2\n",
        "print(maxConsecutiveOnesIII([0,0,1,1,0,0,1,1,1,0,1,1,0,0,0,1,1,1,1], 3))"
      ],
      "metadata": {
        "colab": {
          "base_uri": "https://localhost:8080/"
        },
        "id": "5EBTFxNFbFhX",
        "outputId": "610f85bf-6224-4228-ba07-340596dc39af"
      },
      "execution_count": null,
      "outputs": [
        {
          "output_type": "stream",
          "name": "stdout",
          "text": [
            "6\n",
            "10\n"
          ]
        }
      ]
    },
    {
      "cell_type": "markdown",
      "source": [
        "## Move zeroes\n",
        "Given an integer array nums, move all 0's to the end of it while maintaining the relative order of the non-zero elements.\n",
        "\n",
        "Note that you must do this in-place without making a copy of the array.\n",
        "\n",
        "\n",
        "```\n",
        "Example 1:\n",
        "\n",
        "Input: nums = [0,1,0,3,12]\n",
        "Output: [1,3,12,0,0]\n",
        "Example 2:\n",
        "\n",
        "Input: nums = [0]\n",
        "Output: [0]\n",
        "```"
      ],
      "metadata": {
        "id": "AuSI-jAzmQCc"
      }
    },
    {
      "cell_type": "code",
      "source": [
        "# this one also need minimum operations, if there is less numbers, movement will be less\n",
        "# O(k) where k is the non zero number\n",
        "def moveZeroes(nums):\n",
        "  write=read=0\n",
        "  for read in range(len(nums)):\n",
        "    if nums[read]!=0:\n",
        "      nums[write], nums[read] = nums[read], nums[write]\n",
        "      write+=1\n",
        "  return nums\n",
        "#test 1\n",
        "print(moveZeroes([0,1,0,3,12,0]))\n",
        "#test 2\n",
        "print(moveZeroes([0]))\n",
        "#test 3\n",
        "print(moveZeroes([0,1,0]))"
      ],
      "metadata": {
        "colab": {
          "base_uri": "https://localhost:8080/"
        },
        "id": "6GNttAtrmwud",
        "outputId": "b20a019f-a3e1-4f8e-c3b7-93f4e3abbb7a"
      },
      "execution_count": null,
      "outputs": [
        {
          "output_type": "stream",
          "name": "stdout",
          "text": [
            "[1, 3, 12, 0, 0, 0]\n",
            "[0]\n",
            "[1, 0, 0]\n"
          ]
        }
      ]
    },
    {
      "cell_type": "code",
      "source": [
        "# we can also follow read and right pointer\n",
        "# here number of operations O(k==n) where n is the len of the array\n",
        "def moveZeroes(nums):\n",
        "  write=0\n",
        "  read=0\n",
        "  while read<len(nums):\n",
        "    if nums[read]!=0:\n",
        "      nums[write]=nums[read]\n",
        "      write+=1\n",
        "    read+=1\n",
        "  while write<len(nums):\n",
        "    nums[write]=0\n",
        "    write+=1\n",
        "  return nums\n",
        "#test 1\n",
        "print(moveZeroes([0,1,0,3,12,0]))\n",
        "#test 2\n",
        "print(moveZeroes([0]))\n",
        "#test 3\n",
        "print(moveZeroes([0,1,0]))"
      ],
      "metadata": {
        "colab": {
          "base_uri": "https://localhost:8080/"
        },
        "id": "QpDS9aycnadz",
        "outputId": "d2259c13-b030-4fa5-c97f-7d8cacc36ce5"
      },
      "execution_count": null,
      "outputs": [
        {
          "output_type": "stream",
          "name": "stdout",
          "text": [
            "[1, 3, 12, 0, 0, 0]\n",
            "[0]\n",
            "[1, 0, 0]\n"
          ]
        }
      ]
    },
    {
      "cell_type": "code",
      "source": [
        "# variant: what if we want to move all zero at the begining\n",
        "def moveZeroes(nums):\n",
        "  write=len(nums)-1\n",
        "  read=write\n",
        "  while read>-1:\n",
        "    if nums[read]!=0:\n",
        "      nums[write]=nums[read]\n",
        "      write-=1\n",
        "    read-=1\n",
        "  while write >-1:\n",
        "    nums[write]=0\n",
        "    write-=1\n",
        "  return nums\n",
        "#test 1\n",
        "print(moveZeroes([0,1,0,3,12,0]))\n",
        "#test 2\n",
        "print(moveZeroes([0]))\n",
        "#test 3\n",
        "print(moveZeroes([0,1,0]))"
      ],
      "metadata": {
        "colab": {
          "base_uri": "https://localhost:8080/"
        },
        "id": "_9J7EuRynqUz",
        "outputId": "dafb90e5-43b6-4c44-f5b2-7da0a47c4f62"
      },
      "execution_count": null,
      "outputs": [
        {
          "output_type": "stream",
          "name": "stdout",
          "text": [
            "[0, 0, 0, 1, 3, 12]\n",
            "[0]\n",
            "[0, 0, 1]\n"
          ]
        }
      ]
    },
    {
      "cell_type": "markdown",
      "source": [
        "## 346. Moving average from data stream\n",
        "Handling Streams with Delays: You might be asked to handle scenarios where elements in the stream arrive with delays or out of order.\n",
        "Yes, there are several variants of the moving average problem that you might encounter in an interview. Here are a few examples:\n",
        "\n",
        "1. **Weighted Moving Average:** Instead of a simple moving average, compute a weighted moving average where different weights are assigned to different elements within the window.\n",
        "   \n",
        "2. **Moving Median:** Calculate the median of all integers in the sliding window, rather than the average.\n",
        "   \n",
        "3. **Moving Sum:** Instead of calculating the average, compute the sum of the elements within the sliding window.\n",
        "\n",
        "4. **Fixed Window vs. Dynamic Window:** Some problems might require you to handle cases where the window size changes dynamically based on certain conditions.\n",
        "\n",
        "5. **Handling Streams with Delays:** You might be asked to handle scenarios where elements in the stream arrive with delays or out of order.\n",
        "\n",
        "6. **Memory Efficiency:** Implement the moving average calculation in a memory-efficient way, for instance, when the stream is very large or potentially infinite.\n",
        "\n",
        "These variants test different aspects of your problem-solving skills and understanding of data structures and algorithms.\n",
        "\n",
        "Would you like to dive into any of these variants in more detail?"
      ],
      "metadata": {
        "id": "ZcLy_44IthJI"
      }
    },
    {
      "cell_type": "code",
      "source": [
        "class MovingAverage:\n",
        "  def __init__(self, size: int):\n",
        "    self.size=size\n",
        "    self.queue = deque()\n",
        "    self.sum=0\n",
        "    self.count=0\n",
        "\n",
        "  def next(self, val: int) -> float:\n",
        "    self.count+=1\n",
        "    self.sum+=val\n",
        "    if len(self.queue)==self.size:\n",
        "      self.sum-=self.queue.popleft()\n",
        "      self.queue.append(val)\n",
        "    return self.sum/min(self.count, self.size)"
      ],
      "metadata": {
        "id": "2pu6X2B9uWwc"
      },
      "execution_count": null,
      "outputs": []
    },
    {
      "cell_type": "code",
      "source": [
        "from collections import deque\n",
        "\n",
        "class MovingWeightedAverage:\n",
        "    def __init__(self, size: int):\n",
        "        self.size = size\n",
        "        self.queue = deque()\n",
        "        self.sum_weighted_values = 0\n",
        "        self.sum_weights = 0\n",
        "\n",
        "    def next(self, val: int, weight: float) -> float:\n",
        "        if len(self.queue) == self.size:\n",
        "            old_val, old_weight = self.queue.popleft()\n",
        "            self.sum_weighted_values -= old_val * old_weight\n",
        "            self.sum_weights -= old_weight\n",
        "\n",
        "        self.queue.append((val, weight))\n",
        "        self.sum_weighted_values += val * weight\n",
        "        self.sum_weights += weight\n",
        "\n",
        "        return self.sum_weighted_values / self.sum_weights\n",
        "\n",
        "# Example usage:\n",
        "mwa = MovingWeightedAverage(3)\n",
        "print(mwa.next(1, 1.0))   # Output: 1.0\n",
        "print(mwa.next(10, 0.5))  # Output: 2.0\n",
        "print(mwa.next(3, 2.0))   # Output: 2.6\n",
        "print(mwa.next(5, 1.5))   # Output: 4.4\n"
      ],
      "metadata": {
        "colab": {
          "base_uri": "https://localhost:8080/"
        },
        "id": "biShBnR7tnTR",
        "outputId": "ad8dd25b-23a4-443a-828f-8bc77b1d18ab"
      },
      "execution_count": null,
      "outputs": [
        {
          "output_type": "stream",
          "name": "stdout",
          "text": [
            "1.0\n",
            "4.0\n",
            "3.4285714285714284\n",
            "4.625\n"
          ]
        }
      ]
    },
    {
      "cell_type": "markdown",
      "source": [
        "# 3sum\n",
        "* Option1: use two pointer just like 2 sum, as 3sum says about trippled item sum to 0, we can interpret it mulitple way. sorting needs $O(nlogn)$ and for each first item, we can search two more from rest of the array. So, $O(n^2)$\n",
        "* Option 2: We can use hashmap to keep first item to avoid duplicate and then for each second item, we try to find -(first+second). That also covers $O(n^2)$\n",
        "* Option 3: also hashset but for the first option using hashset. we sort and but two sum can be solved using hashset as well.\n",
        "\n",
        "Note: It has some edge cases that interviewer looks for when there is a duplicate numbers in the list\n"
      ],
      "metadata": {
        "id": "WCeoSYQ_1wb_"
      }
    },
    {
      "cell_type": "code",
      "source": [
        "from typing import List\n",
        "class Solution:\n",
        "    def twoSum(self, first, nums, res):\n",
        "        target=-nums[first]\n",
        "        left, right=first+1,len(nums)-1\n",
        "\n",
        "        while left < right:\n",
        "            if nums[left] + nums[right] == target:\n",
        "                res.append((nums[first], nums[left], nums[right]))\n",
        "                left+=1\n",
        "                right-=1\n",
        "                # it is important to handle duplicate values for both two sum and threesum\n",
        "                while left < right and nums[left] == nums[left-1]: left+=1\n",
        "            elif nums[left] + nums[right] < target:\n",
        "                left+=1\n",
        "            else:\n",
        "                right-=1\n",
        "\n",
        "    def twoSumWitHashset(self, first, nums, res):\n",
        "        target=-nums[first]\n",
        "        seen=set()\n",
        "        second=first+1\n",
        "        while second < len(nums):\n",
        "            complement=-nums[first]-nums[second]\n",
        "            if complement in seen:\n",
        "                res.append((nums[first], nums[second], complement))\n",
        "                # important part, inside the condition, if we already seen and processed with current\n",
        "                # number and the next number is the same, only then we ignore otherwise we will loose edge condition\n",
        "                # [0,0,0]\n",
        "                while second+1 < len(nums) and nums[second] == nums[second+1]:\n",
        "                    second+=1\n",
        "\n",
        "            seen.add(nums[second])\n",
        "            second+=1\n",
        "\n",
        "    def threeSum(self, nums: List[int]) -> List[List[int]]:\n",
        "        n = len(nums)\n",
        "        nums.sort()\n",
        "        result=[]\n",
        "        for i in range(len(nums)):\n",
        "            if nums[i] > 0: break\n",
        "            if i>0 and nums[i-1] == nums[i]: continue\n",
        "            self.twoSum(i, nums,result)\n",
        "        return result\n",
        "#test 1\n",
        "nums=[-1,0,1]\n",
        "print(Solution().threeSum(nums))\n",
        "#test 2\n",
        "nums=[-1,0,1,2,-1,-4]\n",
        "print(Solution().threeSum(nums))\n",
        "#test 3\n",
        "nums=[-2,0,1,1,2]\n",
        "print(Solution().threeSum(nums))\n",
        "#test 4\n",
        "print(Solution().threeSum([0,0,0]))\n",
        "#test 5\n",
        "print(Solution().threeSum([0,1,1]))"
      ],
      "metadata": {
        "colab": {
          "base_uri": "https://localhost:8080/"
        },
        "id": "aM7XCQcgWRzv",
        "outputId": "773517f7-e9d6-4e7d-bf63-a2d61762dbc2"
      },
      "execution_count": null,
      "outputs": [
        {
          "output_type": "stream",
          "name": "stdout",
          "text": [
            "[(-1, 0, 1)]\n",
            "[(-1, -1, 2), (-1, 0, 1)]\n",
            "[(-2, 0, 2), (-2, 1, 1)]\n",
            "[(0, 0, 0)]\n",
            "[]\n"
          ]
        }
      ]
    },
    {
      "cell_type": "markdown",
      "source": [
        "Alright, let's walk through this code step by step with an example. The goal of this function is to find all unique triplets in the list `nums` that add up to zero.\n",
        "\n",
        "### Example Input\n",
        "Let's consider the input list `nums = [-1, 0, 1, 2, -1, -4]`.\n",
        "\n",
        "### Initialization\n",
        "1. `n = len(nums)` calculates the length of `nums`.\n",
        "2. `dup = set()` initializes an empty set to keep track of the first number in each triplet to avoid duplicates.\n",
        "3. `seen = {}` initializes a dictionary to keep track of the elements encountered and their corresponding index during the two-sum process.\n",
        "4. `res = set()` initializes a set to keep track of unique triplets found.\n",
        "\n",
        "### Iteration\n",
        "The outer loop iterates through each element in `nums`.\n",
        "\n",
        "#### First Iteration (i=0, val1=-1)\n",
        "- `val1` is `-1`.\n",
        "- `dup` is checked, and since `-1` is not in `dup`, it is added to `dup`.\n",
        "- The inner loop starts iterating over the elements after `-1`.\n",
        "\n",
        "  - **Sub-iteration (j=0, val2=0):**\n",
        "    - `complement = -(-1) - 0 = 1`.\n",
        "    - Since `1` is not in `seen` with the current `i`, `seen[0] = 0` is added.\n",
        "  \n",
        "  - **Sub-iteration (j=1, val2=1):**\n",
        "    - `complement = -(-1) - 1 = 0`.\n",
        "    - Since `0` is in `seen` with the current `i`, the triplet `(-1, 1, 0)` is sorted and added to `res`.\n",
        "  \n",
        "  - **Sub-iteration (j=2, val2=2):**\n",
        "    - `complement = -(-1) - 2 = -1`.\n",
        "    - Since `-1` is not in `seen` with the current `i`, `seen[2] = 0` is added.\n",
        "\n",
        "  - **Sub-iteration (j=3, val2=-1):**\n",
        "    - `complement = -(-1) - (-1) = 2`.\n",
        "    - Since `2` is not in `seen` with the current `i`, `seen[-1] = 0` is added.\n",
        "\n",
        "  - **Sub-iteration (j=4, val2=-4):**\n",
        "    - `complement = -(-1) - (-4) = 3`.\n",
        "    - Since `3` is not in `seen` with the current `i`, `seen[-4] = 0` is added.\n",
        "\n",
        "#### Second Iteration (i=1, val1=0)\n",
        "- `val1` is `0`.\n",
        "- `dup` is checked, and since `0` is not in `dup`, it is added to `dup`.\n",
        "- The inner loop starts iterating over the elements after `0`.\n",
        "\n",
        "  - **Sub-iteration (j=0, val2=1):**\n",
        "    - `complement = -(0) - 1 = -1`.\n",
        "    - Since `-1` is in `seen` with the current `i`, the triplet `(0, 1, -1)` is sorted and added to `res`.\n",
        "\n",
        "  - **Sub-iteration (j=1, val2=2):**\n",
        "    - `complement = -(0) - 2 = -2`.\n",
        "    - Since `-2` is not in `seen` with the current `i`, `seen[2] = 1` is added.\n",
        "\n",
        "  - **Sub-iteration (j=2, val2=-1):**\n",
        "    - `complement = -(0) - (-1) = 1`.\n",
        "    - Since `1` is not in `seen` with the current `i`, `seen[-1] = 1` is added.\n",
        "\n",
        "  - **Sub-iteration (j=3, val2=-4):**\n",
        "    - `complement = -(0) - (-4) = 4`.\n",
        "    - Since `4` is not in `seen` with the current `i`, `seen[-4] = 1` is added.\n",
        "\n",
        "#### Third Iteration (i=2, val1=1)\n",
        "- `val1` is `1`.\n",
        "- `dup` is checked, and since `1` is not in `dup`, it is added to `dup`.\n",
        "- The inner loop starts iterating over the elements after `1`.\n",
        "\n",
        "  - **Sub-iteration (j=0, val2=2):**\n",
        "    - `complement = -(1) - 2 = -3`.\n",
        "    - Since `-3` is not in `seen` with the current `i`, `seen[2] = 2` is added.\n",
        "\n",
        "  - **Sub-iteration (j=1, val2=-1):**\n",
        "    - `complement = -(1) - (-1) = 0`.\n",
        "    - Since `0` is in `seen` with the current `i`, the triplet `(1, -1, 0)` is sorted and added to `res`.\n",
        "\n",
        "  - **Sub-iteration (j=2, val2=-4):**\n",
        "    - `complement = -(1) - (-4) = 3`.\n",
        "    - Since `3` is not in `seen` with the current `i`, `seen[-4] = 2` is added.\n",
        "\n",
        "And so on. After iterating through all the elements, the resulting set `res` contains the unique triplets that add up to zero.\n",
        "\n",
        "### Final Output\n",
        "```python\n",
        "[[-1, 0, 1], [-1, -1, 2]]\n",
        "```\n",
        "\n",
        "This code efficiently finds all unique triplets in the list that sum up to zero, leveraging sets to avoid duplicates and using a two-sum approach within the inner loop.\n",
        "\n",
        "Let me know if you need any further clarification!\n"
      ],
      "metadata": {
        "id": "2GdPq8IQoiZv"
      }
    },
    {
      "cell_type": "code",
      "source": [
        "class ThreeSum:\n",
        "  def threeSum(self, nums):\n",
        "    n = len(nums)\n",
        "    dup = set()\n",
        "    seen = {}\n",
        "    res = set()\n",
        "    for i in range(n):\n",
        "      val1 = nums[i]\n",
        "      if val1 not in dup:\n",
        "        dup.add(val1)\n",
        "        for j in range(i+1, n):\n",
        "          val2 = nums[j]\n",
        "          complement = -val1 - val2\n",
        "          if complement in seen and seen[complement] == i:\n",
        "            res.add(tuple(sorted([val1, val2, complement])))\n",
        "          seen[val2] = i\n",
        "    return list(res)\n",
        "#test 1\n",
        "nums=[-1,0,1]\n",
        "print(ThreeSum().threeSum(nums))\n",
        "#test 2\n",
        "nums=[-1,0,1,2,-1,-4]\n",
        "print(ThreeSum().threeSum(nums))\n",
        "#test 3\n",
        "nums=[-2,0,1,1,2]\n",
        "print(ThreeSum().threeSum(nums))\n",
        "#test 4\n",
        "print(ThreeSum().threeSum([0,0,0]))\n",
        "#test 5\n",
        "print(ThreeSum().threeSum([0,1,1]))"
      ],
      "metadata": {
        "colab": {
          "base_uri": "https://localhost:8080/"
        },
        "id": "bqFMdCgkpdIg",
        "outputId": "9268afd4-f694-4971-8b54-9e40d3f5cde5"
      },
      "execution_count": null,
      "outputs": [
        {
          "output_type": "stream",
          "name": "stdout",
          "text": [
            "[(-1, 0, 1)]\n",
            "[(-1, 0, 1), (-1, -1, 2)]\n",
            "[(-2, 0, 2), (-2, 1, 1)]\n",
            "[(0, 0, 0)]\n",
            "[]\n"
          ]
        }
      ]
    },
    {
      "cell_type": "code",
      "source": [
        "# using hashset but no sort\n",
        "class ThreeSum:\n",
        "  def threeSum(self, nums):\n",
        "    num_map={n:i for i, n in enumerate(nums)}\n",
        "    res=set()\n",
        "    for i in range(len(nums)):\n",
        "      for j in range(i+1, len(nums)):\n",
        "        complement=-nums[i]-nums[j]\n",
        "        if complement in num_map and num_map[complement]!=i and num_map[complement]!=j:\n",
        "          res.add(tuple(sorted([nums[i], nums[j], complement])))\n",
        "    return res\n"
      ],
      "metadata": {
        "id": "DPqMTFzRe-SK"
      },
      "execution_count": null,
      "outputs": []
    },
    {
      "cell_type": "code",
      "source": [
        "class Solution:\n",
        "    def threeSum(self, nums):\n",
        "        num_map={n:i for i, n in enumerate(nums)}\n",
        "        res=set()\n",
        "        for i in range(len(nums)):\n",
        "            for j in range(i+1, len(nums)):\n",
        "                complement=-nums[i]-nums[j]\n",
        "                idx = num_map.get(complement)\n",
        "                if idx and idx>i and idx>j:\n",
        "                    res.add(tuple(sorted([nums[i], nums[j], complement])))\n",
        "        return [list(x) for x in res]"
      ],
      "metadata": {
        "id": "dhOBJj34pXRw"
      },
      "execution_count": null,
      "outputs": []
    },
    {
      "cell_type": "markdown",
      "source": [
        "##987. Vertical Order traversal\n",
        "Option1: we can use BFS or DFS to process tree and then put everything by col first, then rows and then values. As there are three different dimensions to sort, we can use many options that support sorting"
      ],
      "metadata": {
        "id": "P5vttpvep6N9"
      }
    },
    {
      "cell_type": "code",
      "source": [
        "from collections import defaultdict, deque\n",
        "class TreeNode:\n",
        "  def __init__(self, val=0, left=None, right=None):\n",
        "    self.val = val\n",
        "    self.left = left\n",
        "    self.right = right\n",
        "\n",
        "  def __repr__(self):\n",
        "    return f\"{self.val}\"\n",
        "\n",
        "  def __str__(self):\n",
        "    return f\"{self.val}\"\n",
        "class VerticalOrder:\n",
        "  def verticalTraversal(self, root):\n",
        "    columns_table = defaultdict(list)\n",
        "    queue = deque([(root, 0, 0)])\n",
        "    while queue:\n",
        "      node, row, col = queue.popleft()\n",
        "\n",
        "      if node:\n",
        "        columns_table[col].append((row, node.val))\n",
        "        queue.append((node.left, row+1, col-1))\n",
        "        queue.append((node.right, row+1, col+1))\n",
        "    # once all traversal is done, we have to sort cols first\n",
        "    sorted_columns = sorted(columns_table.keys())\n",
        "\n",
        "    result = []\n",
        "\n",
        "    # now our dictionary is sorted by colum, we have to create a result 2d array were we have to put cols and then sorted by roes and then values if rows are the same\n",
        "    for col in sorted_columns:\n",
        "      columns_table[col].sort(key=lambda x: (x[0], x[1]))\n",
        "      # now\n",
        "      result.append([val for _, val in columns_table[col]])\n",
        "    return result\n",
        "\n",
        "# Example binary tree:\n",
        "#      3\n",
        "#     / \\\n",
        "#    9  20\n",
        "#       / \\\n",
        "#      15  7\n",
        "root = TreeNode(3)\n",
        "root.left = TreeNode(9)\n",
        "root.right = TreeNode(20, TreeNode(15), TreeNode(7))\n",
        "\n",
        "sol = Solution()\n",
        "print(VerticalOrder().verticalTraversal(root))  # Output: [[9], [3, 15], [20], [7]]\n",
        "\n",
        "# if we want to use dfs, we can just replace bfs part and process using dfs and the rest of the process will be the same.\n",
        "# we can also use OrderedDict"
      ],
      "metadata": {
        "colab": {
          "base_uri": "https://localhost:8080/"
        },
        "id": "YM38e5r7tmCE",
        "outputId": "3bba59e8-6215-4c07-9ac7-906220fb2138"
      },
      "execution_count": null,
      "outputs": [
        {
          "output_type": "stream",
          "name": "stdout",
          "text": [
            "[[9], [3, 15], [20], [7]]\n"
          ]
        }
      ]
    },
    {
      "cell_type": "code",
      "source": [
        "# we can also just use array with (col, row , value) tuples or object and sort then process result\n",
        "import collections\n",
        "class TreeNode:\n",
        "  def __init__(self, val=0, left=None, right=None):\n",
        "    self.val = val\n",
        "    self.left = left\n",
        "    self.right = right\n",
        "\n",
        "class VerticalOrder:\n",
        "  def verticalTraversal(self, root):\n",
        "    queue=[]\n",
        "\n",
        "    def dfs(node, row, col):\n",
        "      queue.append((col, row, node.val))\n",
        "      if node.left:\n",
        "        dfs(node.left, row+1, col-1)\n",
        "      if node.right:\n",
        "        dfs(node.right, row+1, col+1)\n",
        "    dfs(root, 0, 0)\n",
        "\n",
        "    queue.sort()\n",
        "\n",
        "    temp = collections.defaultdict(list)\n",
        "    res=[]\n",
        "    for col, row, val in queue:\n",
        "        temp[col].append(val)\n",
        "\n",
        "    for val in temp.values():\n",
        "        res.append(val)\n",
        "    return res\n",
        "# Example binary tree:\n",
        "#      3\n",
        "#     / \\\n",
        "#    9  20\n",
        "#       / \\\n",
        "#      15  7\n",
        "root = TreeNode(3)\n",
        "root.left = TreeNode(9)\n",
        "root.right = TreeNode(20, TreeNode(15), TreeNode(7))\n",
        "\n",
        "sol = Solution()\n",
        "print(VerticalOrder().verticalTraversal(root))  # Output: [[9], [3, 15], [20], [7]]\n"
      ],
      "metadata": {
        "colab": {
          "base_uri": "https://localhost:8080/"
        },
        "id": "RCYYbpZhzLfv",
        "outputId": "53648ef6-39fd-4253-8598-a83e2032213c"
      },
      "execution_count": null,
      "outputs": [
        {
          "output_type": "stream",
          "name": "stdout",
          "text": [
            "[[9], [3, 15], [20], [7]]\n"
          ]
        }
      ]
    },
    {
      "cell_type": "markdown",
      "source": [
        "#kth missing positive number\n"
      ],
      "metadata": {
        "id": "nbZWIeZS5NSD"
      }
    },
    {
      "cell_type": "code",
      "source": [
        "class Solution:\n",
        "    def findKthPositive(self, arr: List[int], k: int) -> int:\n",
        "        n=len(arr)\n",
        "        # binary search and tricky\n",
        "        left, right=0, n\n",
        "\n",
        "        while left < right:\n",
        "            mid = left+right >> 1\n",
        "\n",
        "            if arr[mid] > mid+k:\n",
        "                right=mid\n",
        "            else:\n",
        "                left=mid+1\n",
        "        return right+k\n",
        "print(Solution().findKthPositive([2,3,4,7,11],5))\n",
        "print(Solution().findKthPositive([1,2,3,4],2))\n",
        "print(Solution().findKthPositive([1],1))"
      ],
      "metadata": {
        "colab": {
          "base_uri": "https://localhost:8080/"
        },
        "id": "sydPJLxu5PxQ",
        "outputId": "d6ed8a61-73fe-413d-fccc-1b08199b79a0"
      },
      "execution_count": null,
      "outputs": [
        {
          "output_type": "stream",
          "name": "stdout",
          "text": [
            "9\n",
            "6\n",
            "2\n"
          ]
        }
      ]
    },
    {
      "cell_type": "code",
      "source": [
        "# we can also use less than condition\n",
        "class Solution:\n",
        "  def findKthPositive(self, A, k):\n",
        "      l, r = 0, len(A)\n",
        "      while l < r:\n",
        "          m = (l + r) // 2\n",
        "          if A[m] - 1 - m < k:\n",
        "              l = m + 1\n",
        "          else:\n",
        "              r = m\n",
        "      return l + k\n",
        "\n",
        "print(Solution().findKthPositive([2,3,4,7,11],5))\n",
        "print(Solution().findKthPositive([1,2,3,4],2))\n",
        "print(Solution().findKthPositive([1],1))"
      ],
      "metadata": {
        "colab": {
          "base_uri": "https://localhost:8080/"
        },
        "id": "2b0PQROa5ggY",
        "outputId": "a113c920-ff59-4b51-ccaf-86743cc3d424"
      },
      "execution_count": null,
      "outputs": [
        {
          "output_type": "stream",
          "name": "stdout",
          "text": [
            "9\n",
            "6\n",
            "2\n"
          ]
        }
      ]
    },
    {
      "cell_type": "markdown",
      "source": [
        "Sure, let's walk through this code with an example.\n",
        "\n",
        "### Problem Statement\n",
        "This code aims to find the `k`-th missing positive integer in a sorted list of positive integers `A`.\n",
        "\n",
        "### Code Explanation\n",
        "1. **Initialization:**\n",
        "   - `l` (left) is initialized to 0.\n",
        "   - `r` (right) is initialized to the length of the list `A`.\n",
        "\n",
        "2. **Binary Search Loop:**\n",
        "   - While `l` is less than `r`, we calculate the middle index `m`.\n",
        "   - We check if the number of missing positive integers up to the `m`-th index (`A[m] - 1 - m`) is less than `k`.\n",
        "     - If true, it means the `k`-th missing number is to the right of `m`, so we update `l` to `m + 1`.\n",
        "     - If false, it means the `k`-th missing number is to the left of or at `m`, so we update `r` to `m`.\n",
        "\n",
        "3. **Return Result:**\n",
        "   - After the loop, the position of `l` will be the count of numbers in the list `A` that are less than or equal to the `k`-th missing number. Thus, the `k`-th missing number can be found by returning `l + k`.\n",
        "\n",
        "### Example\n",
        "Let's walk through an example:\n",
        "- `A = [2, 3, 4, 7, 11]`\n",
        "- `k = 5`\n",
        "\n",
        "#### Step-by-Step Execution\n",
        "\n",
        "1. **Initialization:**\n",
        "   - `l = 0`\n",
        "   - `r = 5` (length of `A`)\n",
        "\n",
        "2. **First Iteration:**\n",
        "   - `m = (0 + 5) // 2 = 2`\n",
        "   - `A[m] = 4`\n",
        "   - Missing numbers up to index 2: `A[m] - 1 - m = 4 - 1 - 2 = 1`\n",
        "   - Since `1 < 5`, update `l = 2 + 1 = 3`\n",
        "\n",
        "3. **Second Iteration:**\n",
        "   - `m = (3 + 5) // 2 = 4`\n",
        "   - `A[m] = 11`\n",
        "   - Missing numbers up to index 4: `A[m] - 1 - m = 11 - 1 - 4 = 6`\n",
        "   - Since `6 >= 5`, update `r = 4`\n",
        "\n",
        "4. **Third Iteration:**\n",
        "   - `m = (3 + 4) // 2 = 3`\n",
        "   - `A[m] = 7`\n",
        "   - Missing numbers up to index 3: `A[m] - 1 - m = 7 - 1 - 3 = 3`\n",
        "   - Since `3 < 5`, update `l = 3 + 1 = 4`\n",
        "\n",
        "5. **End of Loop:**\n",
        "   - `l = 4`\n",
        "   - Return `l + k = 4 + 5 = 9`\n",
        "\n",
        "### Result\n",
        "The 5th missing positive integer is `9`.\n",
        "\n",
        "This step-by-step explanation shows how the binary search helps in efficiently finding the `k`-th missing positive integer by reducing the search space iteratively. Let me know if you have any questions!"
      ],
      "metadata": {
        "id": "jkcA4wPK5frR"
      }
    },
    {
      "cell_type": "markdown",
      "source": [
        "## Valid number\n",
        "Interesting problem, need to discuss all the options and ocndition, there are\n",
        "![image.png](data:image/png;base64,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) many edge cases"
      ],
      "metadata": {
        "id": "-qTbPdr8-fpu"
      }
    },
    {
      "cell_type": "code",
      "source": [
        "class Solution:\n",
        "    def isNumber(self, s: str) -> bool:\n",
        "        # State definitions\n",
        "        #    start state is 0\n",
        "        # from start there could be three valid state digit, dot or sign\n",
        "        # from state 1, that means digit (as from state 0, we can move to 1 if digit is the first item), another digit\n",
        "        # that stays to the same state, or a dot and move to another state or a exponent 4->44, 4., 4E\n",
        "\n",
        "\n",
        "        #see the image and put here index=state id, \"staring\" as label and number is destination after transiation\n",
        "        #    start(0)----digit--->state(1)\n",
        "        dfa=[\n",
        "            {\"digit\":1, \"sign\":2, \"dot\":3},\n",
        "            {\"digit\":1,\"dot\":4,\"exp\":5},\n",
        "            {\"digit\":1, \"dot\":3},\n",
        "            {\"digit\":4},\n",
        "            {\"digit\":4, \"exp\":5},\n",
        "            {\"sign\":6, \"digit\":7},\n",
        "            {\"digit\":7},\n",
        "            {\"digit\":7}\n",
        "            ]\n",
        "\n",
        "        current_state=0\n",
        "        group=None\n",
        "\n",
        "        for c in s:\n",
        "            if c.isdigit():\n",
        "                group=\"digit\"\n",
        "            elif c ==\".\":\n",
        "                group=\"dot\"\n",
        "            elif c in \"+-\":\n",
        "                group=\"sign\"\n",
        "            elif c in \"Ee\":\n",
        "                group=\"exp\"\n",
        "            else:\n",
        "                return False\n",
        "\n",
        "            if group not in dfa[current_state]:\n",
        "                return False\n",
        "            current_state = dfa[current_state][group]\n",
        "\n",
        "        return current_state in [1,4,7]\n",
        "\n",
        "# Example usage:\n",
        "sol = Solution()\n",
        "print(sol.isNumber(\"2\"))         # True\n",
        "print(sol.isNumber(\"0089\"))      # True\n",
        "print(sol.isNumber(\"-0.1\"))      # True\n",
        "print(sol.isNumber(\"+3.14\"))     # True\n",
        "print(sol.isNumber(\"4.\"))        # True\n",
        "print(sol.isNumber(\"-.9\"))       # True\n",
        "print(sol.isNumber(\"2e10\"))      # True\n",
        "print(sol.isNumber(\"-90E3\"))     # True\n",
        "print(sol.isNumber(\"3e+7\"))      # True\n",
        "print(sol.isNumber(\"+6e-1\"))     # True\n",
        "print(sol.isNumber(\"53.5e93\"))   # True\n",
        "print(sol.isNumber(\"-123.456e789\")) # True\n",
        "print(sol.isNumber(\"abc\"))       # False\n",
        "print(sol.isNumber(\"1a\"))        # False\n",
        "print(sol.isNumber(\"1e\"))        # False\n",
        "print(sol.isNumber(\"e3\"))        # False\n",
        "print(sol.isNumber(\"99e2.5\"))    # False\n",
        "print(sol.isNumber(\"--6\"))       # False\n",
        "print(sol.isNumber(\"-+3\"))       # False\n",
        "print(sol.isNumber(\"95a54e53\"))  # False\n"
      ],
      "metadata": {
        "colab": {
          "base_uri": "https://localhost:8080/"
        },
        "id": "M4CnT-FH-mIg",
        "outputId": "4dde9b23-43d3-4847-e13b-3970bfeec8b7"
      },
      "execution_count": null,
      "outputs": [
        {
          "output_type": "stream",
          "name": "stdout",
          "text": [
            "True\n",
            "True\n",
            "True\n",
            "True\n",
            "True\n",
            "True\n",
            "True\n",
            "True\n",
            "True\n",
            "True\n",
            "True\n",
            "True\n",
            "False\n",
            "False\n",
            "False\n",
            "False\n",
            "False\n",
            "False\n",
            "False\n",
            "False\n"
          ]
        }
      ]
    },
    {
      "cell_type": "code",
      "source": [
        "# this same sate machine can be designed as given in the previous image. we can define kind of regex\n",
        "class Solution:\n",
        "  def isNumber(self, s: str):\n",
        "\n",
        "    dfs=[{\"digit\":1, \"sign\":2, \"dot\":3}]"
      ],
      "metadata": {
        "id": "QIP2JR_MZ3hQ"
      },
      "execution_count": null,
      "outputs": []
    },
    {
      "cell_type": "code",
      "source": [
        "\"\"\"\n",
        "the main problem here is too much of conditions, have to ask a lot of questions and then figure out the rules\n",
        "according to leetcode problem the rules are\n",
        "2, 2.0, -.2, +.2, 2e10, 2E10, 2e-1, +6e-1,\n",
        "\n",
        "use early pruning techniques\n",
        "if we see any didigts, its a valid number\n",
        "if we see dot and then digit, its a valid\n",
        "if we see digit, dot, digt its a valid\n",
        "if we see digit, dot, digit exponent its a valid (confusing but tree)\n",
        "\"\"\"\n",
        "class Solution:\n",
        "  def isNumber(self, num: str) -> bool:\n",
        "\n",
        "      num = num.strip()\n",
        "      if not num:\n",
        "          return False\n",
        "      seen_digit = False\n",
        "      seen_dot = False\n",
        "      seen_e = False\n",
        "      seen_sign = False\n",
        "\n",
        "      # apply rules\n",
        "      for i,c in enumerate(num):\n",
        "        if c.isdigit():\n",
        "          seen_digit = True\n",
        "        elif c == \".\":\n",
        "          # if already seen dot, then invalid, dot will only be left side\n",
        "          # as condition says after exponential only integer is allowed not decimal\n",
        "          if seen_dot or seen_e:\n",
        "            return False\n",
        "          seen_dot = True\n",
        "        elif c in [\"e\",\"E\"]:\n",
        "          if seen_e or not seen_digit:\n",
        "            return False\n",
        "          seen_e = True\n",
        "          seen_digit= False\n",
        "        elif c in [\"+\",\"-\"]:\n",
        "          if i>0 and num[i-1] not in [\"e\",\"E\"]:\n",
        "            return False\n",
        "          seen_sign = True\n",
        "        else:\n",
        "          return False\n",
        "      return seen_digit\n",
        "sol = Solution()\n",
        "print(sol.isNumber(\"2\"))         # True\n",
        "print(sol.isNumber(\"0089\"))      # True\n",
        "print(sol.isNumber(\"-0.1\"))      # True\n",
        "print(sol.isNumber(\"+3.14\"))     # True\n",
        "print(sol.isNumber(\"4.\"))        # True\n",
        "print(sol.isNumber(\"-.9\"))       # True\n",
        "print(sol.isNumber(\"2e10\"))      # True\n",
        "print(sol.isNumber(\"-90E3\"))     # True\n",
        "print(sol.isNumber(\"3e+7\"))      # True\n",
        "print(sol.isNumber(\"+6e-1\"))     # True\n",
        "print(sol.isNumber(\"53.5e93\"))   # True\n",
        "print(sol.isNumber(\"-123.456e789\")) # True\n",
        "print(sol.isNumber(\"6+1\"))       # False\n",
        "print(sol.isNumber(\"abc\"))       # False\n",
        "print(sol.isNumber(\"1a\"))        # False\n",
        "print(sol.isNumber(\"1e\"))        # False\n",
        "print(sol.isNumber(\"e3\"))        # False\n",
        "print(sol.isNumber(\"99e2.5\"))    # False\n",
        "print(sol.isNumber(\"--6\"))       # False\n",
        "print(sol.isNumber(\"-+3\"))       # False\n",
        "print(sol.isNumber(\"95a54e53\"))  # False"
      ],
      "metadata": {
        "colab": {
          "base_uri": "https://localhost:8080/"
        },
        "id": "J1R2eHKfBYci",
        "outputId": "909afc9a-04e4-42d5-86ca-3d168150bbbd"
      },
      "execution_count": null,
      "outputs": [
        {
          "output_type": "stream",
          "name": "stdout",
          "text": [
            "True\n",
            "True\n",
            "True\n",
            "True\n",
            "True\n",
            "True\n",
            "True\n",
            "True\n",
            "True\n",
            "True\n",
            "True\n",
            "True\n",
            "False\n",
            "False\n",
            "False\n",
            "False\n",
            "False\n",
            "False\n",
            "False\n",
            "False\n",
            "False\n"
          ]
        }
      ]
    },
    {
      "cell_type": "markdown",
      "source": [
        "## Number of island\n",
        "- Option1: use dfs for each grid which has 1 and count number of island\n",
        "- Option2: do the same using bfs, recommended option as well. It has memory $O(min(M,N))$\n",
        "- Option 3: Union Find data structure, a bit harder to code, if not asked, dont implement this"
      ],
      "metadata": {
        "id": "T4Q0jHLEFiwv"
      }
    },
    {
      "cell_type": "code",
      "source": [
        "from collections import deque\n",
        "class Solution:\n",
        "  def __init__(self):\n",
        "    self.visited=set()\n",
        "\n",
        "  def _bfs(self, r, c, grid):\n",
        "    queue = deque()\n",
        "    direction =[(1,0),(0,1),(-1,0),(0,-1)]\n",
        "\n",
        "    queue.append((r,c))\n",
        "    self.visited.add((r,c))\n",
        "    while queue:\n",
        "      r,c = queue.popleft()\n",
        "      for dr,dc in direction:\n",
        "        nr, nc = r+dr, c+dc\n",
        "        if 0<=nr<len(grid) and 0<=nc<len(grid[0]) and grid[nr][nc]==\"1\" and (nr,nc) not in self.visited:\n",
        "          queue.append((nr,nc))\n",
        "          self.visited.add((nr,nc))\n",
        "\n",
        "  def numberOfIsland(self, grid):\n",
        "    num_island = 0\n",
        "    for r in range(len(grid)):\n",
        "      for c in range(len(grid[0])):\n",
        "        if grid[r][c]==\"1\" and (r,c) not in self.visited:\n",
        "          self._bfs(r,c,grid)\n",
        "          num_island+=1\n",
        "    return num_island\n",
        "\n",
        "#test 1\n",
        "# sol = Solution()\n",
        "# Example usage:\n",
        "sol = Solution()\n",
        "grid = [\n",
        "    [\"1\", \"1\", \"1\", \"1\", \"0\"],\n",
        "    [\"1\", \"1\", \"0\", \"1\", \"0\"],\n",
        "    [\"1\", \"1\", \"0\", \"0\", \"0\"],\n",
        "    [\"0\", \"0\", \"0\", \"0\", \"0\"]\n",
        "]\n",
        "print(sol.numberOfIsland(grid))  # Output: 1\n",
        "\n",
        "grid = [\n",
        "    [\"1\", \"1\", \"0\", \"1\", \"0\"],\n",
        "    [\"1\", \"1\", \"0\", \"1\", \"0\"],\n",
        "    [\"1\", \"1\", \"0\", \"0\", \"0\"],\n",
        "    [\"0\", \"0\", \"0\", \"0\", \"0\"]\n",
        "]\n",
        "sol.visited=set()\n",
        "print(sol.numberOfIsland(grid))  # Output: 2"
      ],
      "metadata": {
        "colab": {
          "base_uri": "https://localhost:8080/"
        },
        "id": "avm0QZieF_bQ",
        "outputId": "649284a8-915c-4965-ddb0-380438c39fe4"
      },
      "execution_count": null,
      "outputs": [
        {
          "output_type": "stream",
          "name": "stdout",
          "text": [
            "1\n",
            "2\n"
          ]
        }
      ]
    },
    {
      "cell_type": "code",
      "source": [
        "# we can also write less oop code to implement quickly but asked interviewer\n",
        "from collections import deque\n",
        "from typing import List\n",
        "\n",
        "class Solution:\n",
        "    def numIslands(self, grid: List[List[str]]) -> int:\n",
        "        if not grid:\n",
        "            return 0\n",
        "\n",
        "        m, n = len(grid), len(grid[0])\n",
        "        visited = [[False] * n for _ in range(m)]\n",
        "        directions = [(0, 1), (1, 0), (0, -1), (-1, 0)]\n",
        "\n",
        "        def bfs(x, y):\n",
        "            queue = deque([(x, y)])\n",
        "            visited[x][y] = True\n",
        "            while queue:\n",
        "                i, j = queue.popleft()\n",
        "                for d in directions:\n",
        "                    ni, nj = i + d[0], j + d[1]\n",
        "                    if 0 <= ni < m and 0 <= nj < n and not visited[ni][nj] and grid[ni][nj] == '1':\n",
        "                        queue.append((ni, nj))\n",
        "                        visited[ni][nj] = True\n",
        "\n",
        "        count = 0\n",
        "        for i in range(m):\n",
        "            for j in range(n):\n",
        "                if grid[i][j] == '1' and not visited[i][j]:\n",
        "                    bfs(i, j)\n",
        "                    count += 1\n",
        "\n",
        "        return count\n",
        "\n",
        "# Example usage:\n",
        "sol = Solution()\n",
        "grid = [\n",
        "    [\"1\", \"1\", \"1\", \"1\", \"0\"],\n",
        "    [\"1\", \"1\", \"0\", \"1\", \"0\"],\n",
        "    [\"1\", \"1\", \"0\", \"0\", \"0\"],\n",
        "    [\"0\", \"0\", \"0\", \"0\", \"0\"]\n",
        "]\n",
        "print(sol.numIslands(grid))  # Output: 1"
      ],
      "metadata": {
        "colab": {
          "base_uri": "https://localhost:8080/"
        },
        "id": "fFeCtRnWIM_t",
        "outputId": "b41e1fc4-8359-4c20-b17e-a5798a78ac79"
      },
      "execution_count": null,
      "outputs": [
        {
          "output_type": "stream",
          "name": "stdout",
          "text": [
            "1\n"
          ]
        }
      ]
    },
    {
      "cell_type": "markdown",
      "source": [
        "## Add two numbers\n"
      ],
      "metadata": {
        "id": "WdbrkrxRVdKP"
      }
    },
    {
      "cell_type": "code",
      "source": [
        "from typing import Optional\n",
        "# Definition for singly-linked list.\n",
        "class ListNode:\n",
        "    def __init__(self, val=0, next=None):\n",
        "        self.val = val\n",
        "        self.next = next\n",
        "class Solution:\n",
        "    def addTwoNumbers(self, l1: Optional[ListNode], l2: Optional[ListNode]) -> Optional[ListNode]:\n",
        "        carry = 0\n",
        "        dummy=new_head=ListNode()\n",
        "\n",
        "        while l1 or l2:\n",
        "            add = (l1.val if l1 else 0) + (l2.val if l2 else 0) + carry\n",
        "            carry, rem = divmod(add, 10)\n",
        "            new_node=ListNode(rem)\n",
        "            new_head.next=new_node\n",
        "            new_head = new_head.next\n",
        "            l1=l1.next if l1 else None\n",
        "            l2=l2.next if l2 else None\n",
        "\n",
        "\n",
        "        if carry:\n",
        "            new_head.next = ListNode(carry)\n",
        "\n",
        "        return dummy.next\n",
        "    def print_list(self, head):\n",
        "        while head:\n",
        "            print(head.val, end=\" -> \")\n",
        "            head = head.next\n",
        "        print(\"None\")\n",
        "\n",
        "l1 = ListNode(1, ListNode(2, ListNode(3)))\n",
        "l2 = ListNode(4, ListNode(5, ListNode(6)))\n",
        "sol = Solution()\n",
        "result = sol.addTwoNumbers(l1, l2)\n",
        "sol.print_list(result)\n",
        "\n",
        "#test 2\n",
        "l1=ListNode(9,ListNode(9,ListNode(9,ListNode(9,ListNode(9,ListNode(9))))))\n",
        "l2=ListNode(9,ListNode(9,ListNode(9,ListNode(9))))\n",
        "result=sol.addTwoNumbers(l1,l2)\n",
        "sol.print_list(result)\n",
        "#test 3\n",
        "l1=ListNode(0)\n",
        "l2=ListNode(0)\n",
        "result=sol.addTwoNumbers(l1,l2)\n",
        "sol.print_list(result)"
      ],
      "metadata": {
        "colab": {
          "base_uri": "https://localhost:8080/"
        },
        "id": "XzMW0eSpVfN2",
        "outputId": "08340167-8013-4248-9502-0c62d460baed"
      },
      "execution_count": null,
      "outputs": [
        {
          "output_type": "stream",
          "name": "stdout",
          "text": [
            "5 -> 7 -> 9 -> None\n",
            "8 -> 9 -> 9 -> 9 -> 0 -> 0 -> 1 -> None\n",
            "0 -> None\n"
          ]
        }
      ]
    },
    {
      "cell_type": "markdown",
      "source": [
        "##34. Find first and last position of an item in a sorted list\n",
        "Given an array of integers nums sorted in non-decreasing order, find the starting and ending position of a given target value.\n",
        "\n",
        "If target is not found in the array, return [-1, -1].\n",
        "\n",
        "You must write an algorithm with O(log n) runtime complexity."
      ],
      "metadata": {
        "id": "M750q_CJEqmf"
      }
    },
    {
      "cell_type": "code",
      "source": [
        "class Solution:\n",
        "  def _findFirst(self, nums, target):\n",
        "    left, right = 0, len(nums)-1\n",
        "    first_pos=-1\n",
        "    # very important in binary search to make sure whether need < or <=\n",
        "    while left <= right:\n",
        "      mid = left + (right-left)//2\n",
        "      if nums[mid] == target:\n",
        "        first_pos = mid\n",
        "        right=mid-1\n",
        "      elif nums[mid] < target:\n",
        "        left = mid+1\n",
        "      else:\n",
        "        right = mid-1\n",
        "    return first_pos\n",
        "\n",
        "  def _findLast(self, nums, target):\n",
        "    left, right = 0, len(nums)-1\n",
        "    last_pos=-1\n",
        "    while left <= right:\n",
        "      mid = left + (right-left)//2\n",
        "      if nums[mid] == target:\n",
        "        last_pos = mid\n",
        "        left=mid+1\n",
        "      elif nums[mid] < target:\n",
        "        left = mid+1\n",
        "      else:\n",
        "        right = mid-1\n",
        "    return last_pos\n",
        "\n",
        "  def searchRange(self, nums, target):\n",
        "    first=self._findFirst(nums, target)\n",
        "    last=self._findLast(nums, target)\n",
        "    return [first, last]\n",
        "\n",
        "# Example usage:\n",
        "sol = Solution()\n",
        "nums = [5, 7, 7, 8, 8, 10]\n",
        "target = 8\n",
        "print(sol.searchRange(nums, target))"
      ],
      "metadata": {
        "colab": {
          "base_uri": "https://localhost:8080/"
        },
        "id": "ZNGYo82kEzgG",
        "outputId": "75120341-9d61-43b5-b923-6240389a297a"
      },
      "execution_count": null,
      "outputs": [
        {
          "output_type": "stream",
          "name": "stdout",
          "text": [
            "[3, 4]\n"
          ]
        }
      ]
    },
    {
      "cell_type": "code",
      "source": [
        "# we can also implement bisect left and right if interviewer asked to do that\n",
        "class Solution:\n",
        "  def _findFirst(self, nums, target):\n",
        "    left, right = 0, len(nums)\n",
        "\n",
        "    # very important in binary search to make sure whether need < or <=\n",
        "    while left < right:\n",
        "      mid = left + (right-left)//2\n",
        "\n",
        "      if nums[mid] < target:\n",
        "        left = mid+1\n",
        "      else:\n",
        "        right = mid\n",
        "    return left\n",
        "\n",
        "  def _findLast(self, nums, target):\n",
        "    left, right = 0, len(nums)\n",
        "\n",
        "    while left < right:\n",
        "      mid = left + (right-left)//2\n",
        "      if nums[mid] > target:\n",
        "        right=mid\n",
        "      else:\n",
        "        left = mid+1\n",
        "    return left\n",
        "\n",
        "  def searchRange(self, nums, target):\n",
        "    first=self._findFirst(nums, target)\n",
        "    last=self._findLast(nums, target)-1\n",
        "    if first == len(nums) or nums[first] != target:\n",
        "      return [-1,-1]\n",
        "    return [first, last]\n",
        "\n",
        "# Example usage:\n",
        "sol = Solution()\n",
        "nums = [5, 7, 7, 8, 8, 10]\n",
        "target = 8\n",
        "print(sol.searchRange(nums, target))"
      ],
      "metadata": {
        "colab": {
          "base_uri": "https://localhost:8080/"
        },
        "id": "tX5r8JyKHHTg",
        "outputId": "a2dc051a-a0b9-4492-dd01-e102762050a0"
      },
      "execution_count": null,
      "outputs": [
        {
          "output_type": "stream",
          "name": "stdout",
          "text": [
            "[3, 4]\n"
          ]
        }
      ]
    },
    {
      "cell_type": "code",
      "source": [
        "# using bisect\n",
        "import bisect\n",
        "class Solution:\n",
        "    def searchRange(self, nums: List[int], target: int) -> List[int]:\n",
        "        # a few properties of bisect left and right\n",
        "        # bisect_left will return the index of first item if it is present\n",
        "        # bisect_right returns last item index +1 if exists\n",
        "        # if item not exists\n",
        "        # in that case if middle item like [5,7,7,8,8,10,11,12] and target=9, left=right\n",
        "        #  is index 5, so, left will be the left insertion position to make sure, a[:x]<=target\n",
        "        # and a[:x] > target\n",
        "\n",
        "        # use case 3: if target less than first or greater than last\n",
        "        # for left, bisect left and right both  return 0, if 4 is to insert, return will be 0\n",
        "        # for right, i.e, 13, right and left both will return index+1\n",
        "        left = bisect.bisect_left(nums,target)\n",
        "        right = bisect.bisect_right(nums,target) - 1\n",
        "\n",
        "        # if exists\n",
        "        if left < len(nums) and nums[left] == target:\n",
        "            return [left,right]\n",
        "        else:\n",
        "            return [-1,-1]\n",
        "# Example usage:\n",
        "sol = Solution()\n",
        "nums = [5, 7, 7, 8, 8, 10]\n",
        "target = 8\n",
        "print(sol.searchRange(nums, target))"
      ],
      "metadata": {
        "colab": {
          "base_uri": "https://localhost:8080/"
        },
        "id": "FsySmsKgGKU2",
        "outputId": "961ae602-afdb-4d67-ac7d-57848d874e31"
      },
      "execution_count": null,
      "outputs": [
        {
          "output_type": "stream",
          "name": "stdout",
          "text": [
            "[3, 4]\n"
          ]
        }
      ]
    },
    {
      "cell_type": "markdown",
      "source": [
        "The choice between using `<` and `<=` in binary search depends on the specific implementation and what you are trying to achieve. Here’s a detailed explanation of when to use each:\n",
        "\n",
        "### Using `<` in Binary Search\n",
        "When using `<` in the condition `while left < right`, it typically ensures that the search space is narrowed down properly and avoids infinite loops. This is often used in binary searches that are designed to find a boundary or an insertion point. Here’s an example of using `<`:\n",
        "\n",
        "```python\n",
        "def binary_search(nums, target):\n",
        "    left, right = 0, len(nums)\n",
        "    while left < right:\n",
        "        mid = (left + right) // 2\n",
        "        if nums[mid] < target:\n",
        "            left = mid + 1\n",
        "        else:\n",
        "            right = mid\n",
        "    return left\n",
        "```\n",
        "\n",
        "### Using `<=` in Binary Search\n",
        "When using `<=` in the condition `while left <= right`, it means that the loop will run as long as there is at least one element in the search space. This is often used when searching for an exact value in the array. Here’s an example of using `<=`:\n",
        "\n",
        "```python\n",
        "def binary_search(nums, target):\n",
        "    left, right = 0, len(nums) - 1\n",
        "    while left <= right:\n",
        "        mid = (left + right) // 2\n",
        "        if nums[mid] == target:\n",
        "            return mid\n",
        "        elif nums[mid] < target:\n",
        "            left = mid + 1\n",
        "        else:\n",
        "            right = mid - 1\n",
        "    return -1\n",
        "```\n",
        "\n",
        "### Key Differences\n",
        "- **`<` Condition:**\n",
        "  - Use when you are looking for boundaries or insertion points.\n",
        "  - The loop terminates when `left == right`.\n",
        "\n",
        "- **`<=` Condition:**\n",
        "  - Use when you are looking for an exact match.\n",
        "  - The loop terminates when `left` exceeds `right`.\n",
        "\n",
        "In summary, use `<` when you need to find boundaries or insertion points (especially when right index can be initialized to `len(nums)`), and use `<=` when you are searching for an exact match within the array. Choosing the correct condition ensures that the binary search algorithm works correctly and efficiently.\n",
        "\n",
        "Let me know if you need more examples or explanations!"
      ],
      "metadata": {
        "id": "BS8k6Q_VHENk"
      }
    },
    {
      "cell_type": "markdown",
      "source": [
        "##708. Insert into sorted circular link list\n",
        "\n",
        "### Example\n",
        "\n",
        "Let's say we have a circular linked list with the following elements: `2 -> 2 -> 2 -> 2 -> 2`, and we want to insert the value `2`.\n",
        "\n",
        "Here’s how the insertion function will handle this:\n",
        "\n",
        "1. **Initialization:**\n",
        "   - The list is circular: 2 -> 2 -> 2 -> 2 -> 2 (and back to the first 2).\n",
        "   - The value to be inserted is 2.\n",
        "\n",
        "2. **Traversal:**\n",
        "   - Start from the given node.\n",
        "   - Iterate through the list.\n",
        "   - Since all values are the same and equal to the insert value, none of the conditions to break will be satisfied until we come full circle back to the starting node.\n",
        "\n",
        "### Implementation\n",
        "\n",
        "Here's the Python code to illustrate this:\n",
        "\n",
        "\n",
        "\n",
        "### Explanation:\n",
        "- **Node Initialization:** All nodes have the value `2`.\n",
        "- **Insert Value:** The value to be inserted is `2`.\n",
        "- **Traversal:** The loop iterates through all nodes because none of the conditions (insert between two nodes or at the smallest/largest point) are satisfied until it completes the full circle and hits the `current == head` condition.\n",
        "- **Insertion:** The new node is inserted in the list.\n",
        "\n",
        "The `if current == head: break` condition is crucial here to avoid an infinite loop when no suitable insertion point is found after a complete traversal of the circular list.\n",
        "\n",
        "Let me know if this makes sense or if you need further clarification!"
      ],
      "metadata": {
        "id": "h-M2NLDgO1Tk"
      }
    },
    {
      "cell_type": "code",
      "source": [
        "class Node:\n",
        "    def __init__(self, val=0, next=None):\n",
        "        self.val = val\n",
        "        self.next = next\n",
        "\n",
        "class CircularList:\n",
        "  def insert(self, head, insertVal):\n",
        "    # if node is empty, create a head\n",
        "    # make it circular and then return the head\n",
        "    if not head:\n",
        "      head = Node(insertVal)\n",
        "      head.next = head\n",
        "      return head\n",
        "\n",
        "    # create two pointer and then solve the problem for four use cases\n",
        "    # case 1:\n",
        "    # 1->2->5->7->9->1, if we want to insert something that has condition insertValue>=previous.val and insertvalue<=current,\n",
        "    # in any form we will be able to insert there\n",
        "    # case 2: extrem big or smaller (insert value is the largest or the smallest from any of the existing nodes)\n",
        "    #\n",
        "    current = head\n",
        "    while True:\n",
        "      # case 1:\n",
        "      if current.val <= insertVal <= current.next.val:\n",
        "        break\n",
        "      # case 2: if case 1 is not meet, we will try to find the extream case\n",
        "      if current.val > current.next.val:\n",
        "        # either extream, greater than bigger value, or smaller than smallest value\n",
        "        if insertVal >= current.val or insertVal <= current.next.val:\n",
        "          break\n",
        "      # if both of the condidtions do not meet, move forward\n",
        "      current = current.next\n",
        "      # if we are done with all traverse, we also have to stop, this happens when all values including insertVal is the same\n",
        "      if current == head:\n",
        "        break\n",
        "    # we break from the loop with any condition, now add the new node\n",
        "\n",
        "    new_node = Node(insertVal)\n",
        "    new_node.next = current.next\n",
        "    current.next = new_node\n",
        "    return head\n",
        "\n",
        "  def print_list(self, head):\n",
        "    current = head\n",
        "    while True:\n",
        "      print(current.val, end=\" -> \")\n",
        "      current = current.next\n",
        "      if current == head:\n",
        "        break\n",
        "\n",
        "\n",
        "# Example usage:\n",
        "# Creating a circular linked list: 2 -> 2 -> 2 -> 2 -> 2 -> (back to head)\n",
        "# test case 1\n",
        "print(\"Test case 1\", end=\"\\n\")\n",
        "head = Node(2)\n",
        "node2 = Node(2)\n",
        "node3 = Node(2)\n",
        "node4 = Node(2)\n",
        "node5 = Node(2)\n",
        "head.next = node2\n",
        "node2.next = node3\n",
        "node3.next = node4\n",
        "node4.next = node5\n",
        "node5.next = head\n",
        "\n",
        "sol = CircularList()\n",
        "inserted_head = sol.insert(head, 2)\n",
        "\n",
        "sol.print_list(inserted_head)\n",
        "print( end=\"\\n\")\n",
        "# test case 1\n",
        "print(\"Test case 2\", end=\"\\n\")\n",
        "head = Node(2)\n",
        "node2 = Node(3)\n",
        "node3 = Node(5)\n",
        "node4 = Node(8)\n",
        "node5 = Node(9)\n",
        "head.next = node2\n",
        "node2.next = node3\n",
        "node3.next = node4\n",
        "node4.next = node5\n",
        "node5.next = head\n",
        "# test case 1\n",
        "\n",
        "inserted_head = sol.insert(head, 6)\n",
        "\n",
        "sol.print_list(inserted_head)\n",
        "\n",
        "print( end=\"\\n\")\n",
        "print(\"Test case 3\", end=\"\\n\")\n",
        "head = Node(1)\n",
        "node2 = Node(3)\n",
        "node3 = Node(5)\n",
        "node4 = Node(8)\n",
        "node5 = Node(9)\n",
        "head.next = node2\n",
        "node2.next = node3\n",
        "node3.next = node4\n",
        "node4.next = node5\n",
        "node5.next = head\n",
        "# test case 1\n",
        "\n",
        "\n",
        "inserted_head = sol.insert(head, 10)\n",
        "\n",
        "sol.print_list(inserted_head)\n",
        "\n",
        "print( end=\"\\n\")\n",
        "print(\"Test case 4\", end=\"\\n\")\n",
        "\n",
        "head = Node(1)\n",
        "node2 = Node(3)\n",
        "node3 = Node(5)\n",
        "node4 = Node(8)\n",
        "node5 = Node(9)\n",
        "head.next = node2\n",
        "node2.next = node3\n",
        "node3.next = node4\n",
        "node4.next = node5\n",
        "node5.next = head\n",
        "# test case 1\n",
        "\n",
        "inserted_head = sol.insert(head, 1)\n",
        "\n",
        "sol.print_list(inserted_head)\n",
        "# test case 5\n",
        "print( end=\"\\n\")\n",
        "print(\"Test case 5\", end=\"\\n\")\n",
        "inserted_head = sol.insert(None, 1)\n",
        "\n",
        "sol.print_list(inserted_head)\n",
        "\n",
        "print( end=\"\\n\")\n",
        "print(\"Test case 6\", end=\"\\n\")\n",
        "\n",
        "head = Node(3)\n",
        "node2 = Node(4)\n",
        "node3 = Node(1)\n",
        "\n",
        "head.next = node2\n",
        "node2.next = node3\n",
        "node3.next = head\n",
        "# test case 1\n",
        "\n",
        "inserted_head = sol.insert(head, 2)\n",
        "\n",
        "sol.print_list(inserted_head)"
      ],
      "metadata": {
        "colab": {
          "base_uri": "https://localhost:8080/"
        },
        "id": "ccS1rFfTJOzQ",
        "outputId": "218b7681-255d-438b-b36c-515b60d5035c"
      },
      "execution_count": null,
      "outputs": [
        {
          "output_type": "stream",
          "name": "stdout",
          "text": [
            "Test case 1\n",
            "2 -> 2 -> 2 -> 2 -> 2 -> 2 -> \n",
            "Test case 2\n",
            "2 -> 3 -> 5 -> 6 -> 8 -> 9 -> \n",
            "Test case 3\n",
            "1 -> 3 -> 5 -> 8 -> 9 -> 10 -> \n",
            "Test case 4\n",
            "1 -> 1 -> 3 -> 5 -> 8 -> 9 -> \n",
            "Test case 5\n",
            "1 -> \n",
            "Test case 6\n",
            "3 -> 4 -> 1 -> 2 -> "
          ]
        }
      ]
    },
    {
      "cell_type": "markdown",
      "source": [
        "## Longest common prefix amonst strings\n"
      ],
      "metadata": {
        "id": "2SMtFTKgvmAy"
      }
    },
    {
      "cell_type": "code",
      "source": [
        "from typing import List\n",
        "\n",
        "class Solution:\n",
        "    def longestCommonPrefix(self, strs: List[str]) -> str:\n",
        "        if not strs:\n",
        "            return \"\"\n",
        "\n",
        "        # Find the minimum length string\n",
        "        min_length = min(len(s) for s in strs)\n",
        "\n",
        "        # Initialize LCP as an empty string\n",
        "        lcp = \"\"\n",
        "\n",
        "        # Vertical scanning: compare characters in each column\n",
        "        for i in range(min_length):\n",
        "            # Take the character from the first string as reference\n",
        "            current_char = strs[0][i]\n",
        "            for s in strs:\n",
        "                if s[i] != current_char:\n",
        "                    return lcp\n",
        "            lcp += current_char\n",
        "\n",
        "        return lcp\n",
        "\n",
        "# Example usage:\n",
        "sol = Solution()\n",
        "strings = [\"flower\", \"flow\", \"flight\"]\n",
        "print(sol.longestCommonPrefix(strings))  # Output: \"fl\"\n",
        "# time complexity is O(S) where S is the total number of character among all strings\n",
        "# In the best case scenario O(n.minLen), for example 100 strings with 1000 character but one string has only one character so, comparison will be 101*1\n",
        "# n = number of strings and m= length"
      ],
      "metadata": {
        "colab": {
          "base_uri": "https://localhost:8080/"
        },
        "id": "4nEwpf1Evpql",
        "outputId": "af2f81e9-b941-4400-bd19-669110b9425a"
      },
      "execution_count": null,
      "outputs": [
        {
          "output_type": "stream",
          "name": "stdout",
          "text": [
            "fl\n"
          ]
        }
      ]
    },
    {
      "cell_type": "markdown",
      "source": [
        "If you are performing numerous queries to find the longest common prefix (LCP) among an array of strings, a more efficient approach would be to use a data structure like a **Trie** (prefix tree). A Trie is particularly well-suited for this task as it allows for quick lookups and efficient prefix matching.\n",
        "\n",
        "### Trie Data Structure\n",
        "1. **Insert Strings into Trie:**\n",
        "   - Insert each string into the Trie character by character.\n",
        "\n",
        "2. **Find Longest Common Prefix:**\n",
        "   - Traverse the Trie from the root, and keep track of characters as long as there is only one child node at each level and that node is not the end of any string.\n",
        "\n",
        "### Implementation\n",
        "\n",
        "Here is a Python implementation using the Trie data structure:\n",
        "\n",
        "### Explanation\n",
        "\n",
        "1. **TrieNode Class:**\n",
        "   - Represents each node in the Trie with a dictionary for child nodes and a flag to indicate the end of a word.\n",
        "\n",
        "2. **Trie Class:**\n",
        "   - Manages the root node and provides methods to insert words and find the longest common prefix.\n",
        "\n",
        "3. **Insert Method:**\n",
        "   - Inserts a word into the Trie character by character, creating new nodes as necessary.\n",
        "\n",
        "4. **LongestCommonPrefix Method:**\n",
        "   - Traverses the Trie from the root.\n",
        "   - Adds characters to the prefix as long as each node has exactly one child and is not the end of a word.\n",
        "   - Returns the concatenated prefix string.\n",
        "\n",
        "This Trie-based solution is efficient for multiple queries and ensures that each query to find the LCP is processed quickly. Let me know if you have any further questions or need additional assistance!"
      ],
      "metadata": {
        "id": "efItqfGSwm6J"
      }
    },
    {
      "cell_type": "code",
      "source": [
        "class TrieNode:\n",
        "    def __init__(self):\n",
        "        self.children = {}\n",
        "        self.is_end_of_word = False\n",
        "\n",
        "class Trie:\n",
        "    def __init__(self):\n",
        "        self.root = TrieNode()\n",
        "\n",
        "    def insert(self, word: str):\n",
        "        node = self.root\n",
        "        for char in word:\n",
        "            if char not in node.children:\n",
        "                node.children[char] = TrieNode()\n",
        "            node = node.children[char]\n",
        "        node.is_end_of_word = True\n",
        "\n",
        "    def longestCommonPrefix(self) -> str:\n",
        "        node = self.root\n",
        "        lcp = []\n",
        "        while node and len(node.children) == 1 and not node.is_end_of_word:\n",
        "            char = next(iter(node.children))\n",
        "            lcp.append(char)\n",
        "            node = node.children[char]\n",
        "        return ''.join(lcp)\n",
        "\n",
        "class Solution:\n",
        "    def longestCommonPrefix(self, strs):\n",
        "        if not strs:\n",
        "            return \"\"\n",
        "\n",
        "        trie = Trie()\n",
        "        for s in strs:\n",
        "            trie.insert(s)\n",
        "\n",
        "        return trie.longestCommonPrefix()\n",
        "\n",
        "# Example usage:\n",
        "sol = Solution()\n",
        "strings = [\"flower\", \"flow\", \"flight\"]\n",
        "print(sol.longestCommonPrefix(strings))  # Output: \"fl\""
      ],
      "metadata": {
        "colab": {
          "base_uri": "https://localhost:8080/"
        },
        "id": "9CcdPrSu0el9",
        "outputId": "a33bc1fb-92e9-492e-bc9c-6048e8e6d44b"
      },
      "execution_count": null,
      "outputs": [
        {
          "output_type": "stream",
          "name": "stdout",
          "text": [
            "fl\n"
          ]
        }
      ]
    },
    {
      "cell_type": "markdown",
      "source": [
        "##658. Find K closes points\n",
        "Given a sorted integer array arr, two integers k and x, return the k closest integers to x in the array. The result should also be sorted in ascending order.\n",
        "\n",
        "An integer a is closer to x than an integer b if:\n",
        "\n",
        "|a - x| < |b - x|, or\n",
        "|a - x| == |b - x| and a < b\n",
        "\n",
        "* Option 1: we can create a array by doing [a-x], then sort and take top k elements\n",
        "* We can use heap to keep only top k and then return those elements in order (need to sort)\n",
        "* we can use binary search to find the x insert position (bisect_left) then take previous and that position and expand both side to get closes values and then sort as we are picking left and right. We can avoid that if we use queue\n",
        "* Binary search with sliding window of size k. We can take mid from [0 to len-k] range and then check if x-arr[mid] < arr[mid+k]-x"
      ],
      "metadata": {
        "id": "u426WPWI5U4V"
      }
    },
    {
      "cell_type": "code",
      "source": [
        "import heapq\n",
        "from collections import deque\n",
        "import bisect\n",
        "class FindKCloset:\n",
        "  def findClosestElements(self, arr, k, x):\n",
        "    left, right = 0, len(arr)-k\n",
        "    while left < right:\n",
        "      mid = (left+right)//2\n",
        "      if x-arr[mid] > arr[mid+k]-x:\n",
        "        left = mid+1\n",
        "      else:\n",
        "        right = mid\n",
        "    return arr[left:left+k]\n",
        "\n",
        "\n",
        "  def findClosestElementsHeap(self, arr, k, x):\n",
        "    # work with an example when you add (x, y)\n",
        "    heap=[]\n",
        "    for num in arr:\n",
        "        heapq.heappush(heap, (-abs(num-x), -num))\n",
        "        if len(heap) > k:\n",
        "            heapq.heappop(heap)\n",
        "    return sorted([-item[1] for item in heap])\n",
        "\n",
        "  def findClosestElementsLess(self, arr, k, x):\n",
        "    left, right = 0, len(arr)-1\n",
        "    while right-left >= k:\n",
        "      if abs(arr[left]-x) > abs(arr[right]-x):\n",
        "        left += 1\n",
        "      else:\n",
        "        right -= 1\n",
        "    return arr[left:right+1]\n",
        "\n",
        "  def findClosestElementsBisect(self, arr, k, x):\n",
        "    left = bisect.bisect_left(arr, x)\n",
        "    # right = left+1\n",
        "\n",
        "    left, right = left-1, left\n",
        "\n",
        "    result=deque()\n",
        "    while k>0:\n",
        "      if left < 0:\n",
        "        result.append(arr[right])\n",
        "        right += 1\n",
        "      elif right >= len(arr):\n",
        "        result.appendleft(arr[left])\n",
        "        left -= 1\n",
        "      elif abs(arr[left]-x) <= abs(arr[right]-x):\n",
        "        result.appendleft(arr[left])\n",
        "        left -= 1\n",
        "      else:\n",
        "        result.append(arr[right])\n",
        "        right += 1\n",
        "      k -= 1\n",
        "    return list(result)\n",
        "  def findClosestElementsQueue(self, arr, k, x):\n",
        "    left, right = 0, len(arr)-1\n",
        "    while left < right:\n",
        "      mid=left+right>>1\n",
        "      if arr[mid] < x:\n",
        "        left=mid+1\n",
        "      else:\n",
        "        right=mid\n",
        "\n",
        "    left, right = left-1, left\n",
        "\n",
        "    result=deque()\n",
        "    while k>0:\n",
        "      if left < 0:\n",
        "        result.append(arr[right])\n",
        "        right += 1\n",
        "      elif right >= len(arr):\n",
        "        result.appendleft(arr[left])\n",
        "        left -= 1\n",
        "      elif abs(arr[left]-x) <= abs(arr[right]-x):\n",
        "        result.appendleft(arr[left])\n",
        "        left -= 1\n",
        "      else:\n",
        "        result.append(arr[right])\n",
        "        right += 1\n",
        "      k -= 1\n",
        "    return list(result)\n",
        "\n",
        "  def findClosestElementsSort(self, arr, k, x):\n",
        "    arr.sort(key=lambda a: abs(a-x))\n",
        "    return sorted(arr[:k])\n",
        "\n",
        "  def findClosestElementsSliding(self, arr, k, x):\n",
        "    left, right = 0, len(arr)-k\n",
        "    while left < right:\n",
        "      mid = (left+right)//2\n",
        "      if x-arr[mid] <= arr[mid+k]-x:\n",
        "        right = mid\n",
        "      else:\n",
        "        left = mid+1\n",
        "    return arr[left:left+k]\n",
        "\n",
        "#test 1\n",
        "sol = FindKCloset()\n",
        "arr = [1,2,3,4,5]\n",
        "k = 4\n",
        "x = 3\n",
        "print(sol.findClosestElements(arr, k, x))\n",
        "print(sol.findClosestElementsHeap(arr,k,x))\n",
        "print(sol.findClosestElementsBisect(arr, k, x))\n",
        "print(sol.findClosestElementsSliding(arr, k, x))\n",
        "print(sol.findClosestElementsLess(arr, k, x))\n",
        "print(sol.findClosestElementsQueue(arr, k, x))\n",
        "print(sol.findClosestElementsSort(arr, k, x))\n"
      ],
      "metadata": {
        "colab": {
          "base_uri": "https://localhost:8080/"
        },
        "id": "RbfFMRqX-bGy",
        "outputId": "d7608ce0-5483-4dfe-c37f-07f0e0d0b97b"
      },
      "execution_count": null,
      "outputs": [
        {
          "output_type": "stream",
          "name": "stdout",
          "text": [
            "[1, 2, 3, 4]\n",
            "[1, 2, 3, 4]\n",
            "[1, 2, 3, 4]\n",
            "[1, 2, 3, 4]\n",
            "[1, 2, 3, 4]\n",
            "[1, 2, 3, 4]\n",
            "[1, 2, 3, 4]\n"
          ]
        }
      ]
    },
    {
      "cell_type": "markdown",
      "source": [
        "## Make a bigger island\n",
        "You are given an n x n binary matrix grid. You are allowed to change at most one 0 to be 1.\n",
        "\n",
        "Return the size of the largest island in grid after applying this operation.\n",
        "\n",
        "An island is a 4-directionally connected group of 1s.\n",
        "\n",
        "\n",
        "```\n",
        "Example 1:\n",
        "\n",
        "Input: grid = [[1,0],[0,1]]\n",
        "Output: 3\n",
        "Explanation: Change one 0 to 1 and connect two 1s, then we get an island with area = 3.\n",
        "Example 2:\n",
        "\n",
        "Input: grid = [[1,1],[1,0]]\n",
        "Output: 4\n",
        "Explanation: Change the 0 to 1 and make the island bigger, only one island with area = 4.\n",
        "Example 3:\n",
        "\n",
        "Input: grid = [[1,1],[1,1]]\n",
        "Output: 4\n",
        "Explanation: Can't change any 0 to 1, only one island with area = 4.\n",
        "\n",
        "```\n",
        "\n",
        "* Brute force: we can change a zero to 1 and then calculate size starting from that item. Keep the max and return that.\n",
        "* we can level each island. Then for each zero, we find neighboaring islands and connects them by size_island1 + 1 + size_island 2 and return the max"
      ],
      "metadata": {
        "id": "z412mfxYLz_U"
      }
    },
    {
      "cell_type": "code",
      "source": [
        "# using labeling or coloring\n",
        "class Solution:\n",
        "  def largestIsland(self, grid):\n",
        "    N=len(grid)\n",
        "    islands_size={}\n",
        "    next_island=2\n",
        "    seen=set()\n",
        "    # island_size=0\n",
        "\n",
        "    def dfs(r,c,label):\n",
        "      if r < 0 or r >= N or c < 0 or c >= N or grid[r][c] != 1 or (r,c) in seen:\n",
        "        return 0\n",
        "      size=1\n",
        "      seen.add((r,c))\n",
        "      grid[r][c] = label\n",
        "      for nr, nc in ((r-1, c), (r+1, c), (r, c-1), (r, c+1)):\n",
        "        if nr <0 or nr >= N or nc < 0 or nc >= N or grid[nr][nc] != 1 or (nr,nc) in seen:\n",
        "          size += dfs(nr,nc,label)\n",
        "      return size\n",
        "\n",
        "    for r in range(N):\n",
        "      for c in range(N):\n",
        "        if grid[r][c] == 1:\n",
        "          islands_size[next_island]=dfs(r,c,next_island)\n",
        "          next_island += 1\n",
        "    print(grid)\n",
        "    if not islands_size:\n",
        "      return 1\n",
        "    max_size=max(islands_size.values(), default=0)\n",
        "\n",
        "    # find neiboaring islands with 0 and the find the max\n",
        "    for r in range(N):\n",
        "      for c in range(N):\n",
        "        if grid[r][c] == 0:\n",
        "          potential_size=1\n",
        "          neibouring_islands=set()\n",
        "          for nr, nc in ((r-1, c), (r+1, c), (r, c-1), (r, c+1)):\n",
        "            if nr <0 or nr >= N or nc < 0 or nc >= N or grid[nr][nc] < 2:\n",
        "              continue\n",
        "            neibouring_islands.add(grid[nr][nc])\n",
        "          for island in neibouring_islands:\n",
        "            if island > 1:\n",
        "              potential_size += islands_size[island]\n",
        "          max_size=max(max_size, potential_size)\n",
        "    return max_size\n",
        "\n",
        "\n",
        "\n",
        "# Example usage:\n",
        "sol = Solution()\n",
        "print(sol.largestIsland([[1, 0], [0, 1]])) # Output: 3\n",
        "# print(sol.largestIsland([[1, 1], [1, 0]])) # Output: 4\n",
        "# print(sol.largestIsland([[1, 1], [1, 1]])) # Output: 4"
      ],
      "metadata": {
        "colab": {
          "base_uri": "https://localhost:8080/"
        },
        "id": "JCnrpQNvOXPE",
        "outputId": "a923225e-03d4-4dbb-8c92-3b5d352f6bc8"
      },
      "execution_count": null,
      "outputs": [
        {
          "output_type": "stream",
          "name": "stdout",
          "text": [
            "[[2, 0], [0, 3]]\n",
            "3\n"
          ]
        }
      ]
    },
    {
      "cell_type": "markdown",
      "source": [
        "## 163. Missing ranges\n"
      ],
      "metadata": {
        "id": "qaMJKCr5H9Iy"
      }
    },
    {
      "cell_type": "code",
      "source": [
        "from typing import List\n",
        "class Solution:\n",
        "    def findMissingRanges(self, nums: List[int], lower: int, upper: int) -> List[str]:\n",
        "        # edge case: smaller value in array is lower than lower bound\n",
        "        # value in nums bigger than upper\n",
        "        # uppwer and lower with empty array\n",
        "\n",
        "        result=[]\n",
        "        prev = lower-1\n",
        "        n=len(nums)\n",
        "        # we can add a trick by going 1 over length and then check if take upper\n",
        "        for i in range(n+1):\n",
        "            curr = nums[i] if i < n else upper+1\n",
        "            # we can cover both condition with equal and less than sign\n",
        "            # 4 to 6, prev=5, cur-1=5\n",
        "            # for 4 to 8, prev=5, cur-1=7\n",
        "            if prev+1 <= curr-1:\n",
        "                result.append((prev+1, curr-1))\n",
        "            prev = curr\n",
        "        return result\n",
        "\n",
        "#test 1\n",
        "sol = Solution()\n",
        "nums = [0, 1, 3, 50, 75]\n",
        "lower = 0\n",
        "upper = 99\n",
        "print(sol.findMissingRanges(nums, lower, upper))\n",
        "#test 2\n",
        "nums = []\n",
        "lower = 1\n",
        "upper = 1\n",
        "print(sol.findMissingRanges(nums, lower, upper))\n",
        "#test 3\n",
        "nums = []\n",
        "lower = -3\n",
        "upper = -1\n",
        "print(sol.findMissingRanges(nums, lower, upper))\n",
        "#test 4, this will not cover because the question says \"where all elements are within the inclusive range.\"\n",
        "nums = [1, 3,4,5,7,10,15,100]\n",
        "lower = 2\n",
        "upper = 98\n",
        "print(sol.findMissingRanges(nums, lower, upper))"
      ],
      "metadata": {
        "colab": {
          "base_uri": "https://localhost:8080/"
        },
        "id": "_ZwvIIVbIAiE",
        "outputId": "04b3309a-e98f-4e07-8603-3ad4e6c9cb32"
      },
      "execution_count": null,
      "outputs": [
        {
          "output_type": "stream",
          "name": "stdout",
          "text": [
            "[(2, 2), (4, 49), (51, 74), (76, 99)]\n",
            "[(1, 1)]\n",
            "[(-3, -1)]\n",
            "[(2, 2), (6, 6), (8, 9), (11, 14), (16, 99)]\n"
          ]
        }
      ]
    },
    {
      "cell_type": "code",
      "source": [
        "class Solution:\n",
        "    def findMissingRanges(self, nums: List[int], lower: int, upper: int) -> List[str]:\n",
        "        # edge case: smaller value in array is lower than lower bound\n",
        "        # value in nums bigger than upper\n",
        "        # uppwer and lower with empty array\n",
        "\n",
        "        result=[]\n",
        "        n=len(nums)\n",
        "        if n==0:\n",
        "            result.append([lower, upper])\n",
        "            # nothing to process, so return from here\n",
        "            return result\n",
        "        start=0\n",
        "\n",
        "        for i in range(n):\n",
        "          if nums[i] < lower:\n",
        "            start +=1\n",
        "\n",
        "        if nums[start] > lower:\n",
        "            result.append([lower, nums[0]-1])\n",
        "\n",
        "        for index in range(start, len(nums)-1):\n",
        "          # where all elements are within the inclusive range.\n",
        "          # if the question does not says this, we have to write the following line and some other condition check\n",
        "            if nums[index+1] > upper:\n",
        "                result.append((nums[index]+1, upper))\n",
        "                break\n",
        "            if nums[index+1] > nums[index]+1:\n",
        "                result.append([nums[index]+1, nums[index+1]-1])\n",
        "\n",
        "        if nums[-1] < upper:\n",
        "            result.append([nums[-1]+1, upper])\n",
        "        return result\n",
        "#test 1\n",
        "sol = Solution()\n",
        "nums = [0, 1, 3, 50, 75]\n",
        "lower = 0\n",
        "upper = 99\n",
        "print(sol.findMissingRanges(nums, lower, upper))\n",
        "#test 2\n",
        "nums = []\n",
        "lower = 1\n",
        "upper = 1\n",
        "print(sol.findMissingRanges(nums, lower, upper))\n",
        "#test 3\n",
        "nums = []\n",
        "lower = -3\n",
        "upper = -1\n",
        "print(sol.findMissingRanges(nums, lower, upper))\n",
        "#test 4, this will not cover because the question says \"where all elements are within the inclusive range.\"\n",
        "nums = [1, 3,4,5,7,10,15,100]\n",
        "lower = 2\n",
        "upper = 98\n",
        "print(sol.findMissingRanges(nums, lower, upper))"
      ],
      "metadata": {
        "colab": {
          "base_uri": "https://localhost:8080/"
        },
        "id": "AiwlDPt7MvA2",
        "outputId": "c1a8e53e-8efd-449a-85db-4ed941b8337d"
      },
      "execution_count": null,
      "outputs": [
        {
          "output_type": "stream",
          "name": "stdout",
          "text": [
            "[[2, 2], [4, 49], [51, 74], [76, 99]]\n",
            "[[1, 1]]\n",
            "[[-3, -1]]\n",
            "[[2, 0], [6, 6], [8, 9], [11, 14], (16, 98)]\n"
          ]
        }
      ]
    },
    {
      "cell_type": "markdown",
      "source": [
        "## 173. BST iterator"
      ],
      "metadata": {
        "id": "rR3FnZxEVSmw"
      }
    },
    {
      "cell_type": "code",
      "source": [
        "# we will use stack to keep track of current state of BST and pop and populate on demand\n",
        "\n",
        "# Definition for a binary tree node.\n",
        "class TreeNode:\n",
        "    def __init__(self, val=0, left=None, right=None):\n",
        "        self.val = val\n",
        "        self.left = left\n",
        "        self.right = right\n",
        "class BSTIterator:\n",
        "    def __init__(self, root):\n",
        "        self.stack=[]\n",
        "        self.populateTree(root)\n",
        "\n",
        "    def populateTree(self, root):\n",
        "        while root:\n",
        "            self.stack.append(root)\n",
        "            root = root.left\n",
        "\n",
        "    def next(self):\n",
        "        curr = self.stack.pop()\n",
        "        self.populateTree(curr.right)\n",
        "        return curr.val\n",
        "\n",
        "    def hasNext(self):\n",
        "        return len(self.stack) > 0\n",
        "\n",
        "\n",
        "#test1\n",
        "root = TreeNode(7)\n",
        "root.left = TreeNode(3)\n",
        "root.right = TreeNode(15)\n",
        "root.right.left = TreeNode(9)\n",
        "root.right.right = TreeNode(20)\n",
        "obj = BSTIterator(root)\n",
        "print(obj.next())\n",
        "print(obj.next())\n",
        "print(obj.hasNext())\n",
        "print(obj.next())\n",
        "print(obj.hasNext())\n",
        "print(obj.next())\n",
        "print(obj.hasNext())\n",
        "print(obj.next())\n",
        "# Your BSTIterator object will be instantiated and called as such:\n",
        "# obj = BSTIterator(root)\n",
        "# param_1 = obj.next()\n",
        "# param_2 = obj.hasNext()\n",
        "\n"
      ],
      "metadata": {
        "colab": {
          "base_uri": "https://localhost:8080/"
        },
        "id": "WsxB6_CpVWOB",
        "outputId": "776ca9cf-7a48-43e4-cf60-f238dd1576bd"
      },
      "execution_count": null,
      "outputs": [
        {
          "output_type": "stream",
          "name": "stdout",
          "text": [
            "3\n",
            "7\n",
            "True\n",
            "9\n",
            "True\n",
            "15\n",
            "True\n",
            "20\n"
          ]
        }
      ]
    },
    {
      "cell_type": "markdown",
      "source": [
        "## Exclusive time of cpu\n"
      ],
      "metadata": {
        "id": "ZLLUCZgGAUcx"
      }
    },
    {
      "cell_type": "code",
      "source": [
        "from typing import List\n",
        "class Solution:\n",
        "    def exclusiveTime(self, n: int, logs: List[str]) -> List[int]:\n",
        "        if len(logs) < 1:\n",
        "            return 0\n",
        "        stack = []\n",
        "        result=[0]*n\n",
        "        cpuCycle=0\n",
        "\n",
        "        for log in logs:\n",
        "            eventId, eventType, timestamp = log.split(\":\")\n",
        "            currentCpuCycle=int(timestamp)\n",
        "\n",
        "            if eventType == \"end\":\n",
        "                # if stack and stack[-1][0] == eventId:\n",
        "                stack.pop()\n",
        "                executionTime = currentCpuCycle - cpuCycle+1\n",
        "                result[int(eventId)] += executionTime\n",
        "                # tricky thing here is the increment, when it ends, it takes the current second\n",
        "                # if it starting, next job takes the current cpu cycle\n",
        "                cpuCycle=currentCpuCycle+1\n",
        "            else:\n",
        "                if stack:\n",
        "                    preEventId = stack[-1]\n",
        "                    executionTime = currentCpuCycle-cpuCycle\n",
        "                    result[int(preEventId)] += executionTime\n",
        "                stack.append(eventId)\n",
        "                cpuCycle=currentCpuCycle\n",
        "\n",
        "\n",
        "        return result\n",
        "\n",
        "\n",
        "#test 1\n",
        "cpu = 2\n",
        "logs = [\"0:start:0\",\"1:start:2\",\"1:end:5\",\"0:end:6\"]\n",
        "sol = Solution()\n",
        "print(sol.exclusiveTime(cpu, logs))\n",
        "#test2\n",
        "cpu = 1\n",
        "logs = [\"0:start:0\",\"0:start:2\",\"0:end:5\",\"0:start:6\",\"0:end:6\",\"0:end:7\"]\n",
        "print(sol.exclusiveTime(cpu, logs))\n",
        "#test 3\n",
        "cpu=10\n",
        "logs = [\"0:start:0\",\"0:start:2\",\"0:end:5\",\"0:start:6\",\"0:end:6\",\"0:end:7\"]\n",
        "print(sol.exclusiveTime(cpu, logs))"
      ],
      "metadata": {
        "colab": {
          "base_uri": "https://localhost:8080/"
        },
        "id": "UH-dcM6DAXaz",
        "outputId": "9ff7abd4-c5db-4c0c-fb44-90cb5cc0ee78"
      },
      "execution_count": null,
      "outputs": [
        {
          "output_type": "stream",
          "name": "stdout",
          "text": [
            "[3, 4]\n",
            "[8]\n",
            "[8, 0, 0, 0, 0, 0, 0, 0, 0, 0]\n"
          ]
        }
      ]
    },
    {
      "cell_type": "markdown",
      "source": [
        "## account merge\n",
        "Given a list of accounts where each element accounts[i] is a list of strings, where the first element accounts[i][0] is a name, and the rest of the elements are emails representing emails of the account.\n",
        "\n",
        "Now, we would like to merge these accounts. Two accounts definitely belong to the same person if there is some common email to both accounts. Note that even if two accounts have the same name, they may belong to different people as people could have the same name. A person can have any number of accounts initially, but all of their accounts definitely have the same name.\n",
        "\n",
        "After merging the accounts, return the accounts in the following format: the first element of each account is the name, and the rest of the elements are emails in sorted order. The accounts themselves can be returned in any order."
      ],
      "metadata": {
        "id": "wFYbEa20am7e"
      }
    },
    {
      "cell_type": "code",
      "source": [
        "from collections import defaultdict\n",
        "\n",
        "class UnionFind:\n",
        "    def __init__(self):\n",
        "        self.parent = {}\n",
        "\n",
        "    def find(self, p):\n",
        "        if self.parent[p] != p:\n",
        "            self.parent[p] = self.find(self.parent[p])\n",
        "        return self.parent[p]\n",
        "\n",
        "    def union(self, p, q):\n",
        "        rootP = self.find(p)\n",
        "        rootQ = self.find(q)\n",
        "        if rootP != rootQ:\n",
        "            self.parent[rootP] = rootQ\n",
        "\n",
        "    def add(self, p):\n",
        "      # very important as it will overwrite the previous union result if not checked\n",
        "      # and will detached from its parent\n",
        "        if p not in self.parent:\n",
        "            self.parent[p] = p\n",
        "\n",
        "def accountsMerge(accounts):\n",
        "    uf = UnionFind()\n",
        "    email_to_name = {}\n",
        "    email_to_component = defaultdict(list)\n",
        "\n",
        "    # Step 1: Build the Union-Find structure\n",
        "    for account in accounts:\n",
        "        name = account[0]\n",
        "        first_email = account[1]\n",
        "        uf.add(first_email)\n",
        "        email_to_name[first_email] = name\n",
        "        for email in account[2:]:\n",
        "            uf.add(email)\n",
        "            uf.union(first_email, email)\n",
        "            email_to_name[email] = name\n",
        "\n",
        "    # Step 2: Group emails by their root component\n",
        "    for email in uf.parent:\n",
        "        root = uf.find(email)\n",
        "        email_to_component[root].append(email)\n",
        "\n",
        "    # Step 3: Build the result list\n",
        "    result = []\n",
        "    for emails in email_to_component.values():\n",
        "        name = email_to_name[emails[0]]\n",
        "        result.append([name] + sorted(emails))\n",
        "\n",
        "    return result\n",
        "\n",
        "# Example usage:\n",
        "accounts = [\n",
        "    [\"John\", \"johnsmith@mail.com\", \"john00@mail.com\"],\n",
        "    [\"John\", \"johnnybravo@mail.com\"],\n",
        "    [\"John\", \"johnsmith@mail.com\", \"john_newyork@mail.com\"],\n",
        "    [\"Mary\", \"mary@mail.com\"]\n",
        "]\n",
        "print(accountsMerge(accounts))\n",
        "# Output may vary, one possible output is:\n",
        "# [\n",
        "#     [\"John\", \"john00@mail.com\", \"john_newyork@mail.com\", \"johnsmith@mail.com\"],\n",
        "#     [\"John\", \"johnnybravo@mail.com\"],\n",
        "#     [\"Mary\", \"mary@mail.com\"]\n",
        "# ]\n"
      ],
      "metadata": {
        "id": "8H-EvMyIapg6"
      },
      "execution_count": null,
      "outputs": []
    },
    {
      "cell_type": "code",
      "source": [
        "from collections import defaultdict\n",
        "from typing import List, Dict, Set\n",
        "\n",
        "class Solution:\n",
        "    def accountsMerge(self, accounts: List[List[str]]) -> List[List[str]]:\n",
        "        def dfs(email):\n",
        "            visited.add(email)\n",
        "            component.append(email)\n",
        "            for neighbor in graph[email]:\n",
        "                if neighbor not in visited:\n",
        "                    dfs(neighbor)\n",
        "\n",
        "        graph = defaultdict(list)\n",
        "        email_to_name = {}\n",
        "\n",
        "        # Step 1: Build the graph\n",
        "        for account in accounts:\n",
        "            name = account[0]\n",
        "            first_email = account[1]\n",
        "            # think about this line, we have to make even first email the neighbor of its own as\n",
        "            # we are making a graph relation of of emails only,\n",
        "            for email in account[1:]:\n",
        "                graph[first_email].append(email)\n",
        "                graph[email].append(first_email)\n",
        "                email_to_name[email] = name\n",
        "        \"\"\"\n",
        "        # we can also do this, by adding first email as the key and then if second and more, add edge\n",
        "        for account in accounts:\n",
        "          name=account[0]\n",
        "          first_email=account[1]\n",
        "          email_to_name[first_email]=name\n",
        "          self.graph[first_email]\n",
        "\n",
        "          for email in account[2:]:\n",
        "              self.graph[first_email].append(email)\n",
        "              self.graph[email].append(first_email)\n",
        "              email_to_name[email]=name\n",
        "        \"\"\"\n",
        "        # Step 2: Use DFS to find connected components\n",
        "        visited = set()\n",
        "        result = []\n",
        "\n",
        "        for email in graph:\n",
        "            if email not in visited:\n",
        "                component = []\n",
        "                dfs(email)\n",
        "                result.append([email_to_name[email]] + sorted(component))\n",
        "\n",
        "        return result\n",
        "\n",
        "# Example usage:\n",
        "sol = Solution()\n",
        "accounts = [\n",
        "    [\"John\", \"johnsmith@mail.com\", \"john00@mail.com\"],\n",
        "    [\"John\", \"johnnybravo@mail.com\"],\n",
        "    [\"John\", \"johnsmith@mail.com\", \"john_newyork@mail.com\"],\n",
        "    [\"Mary\", \"mary@mail.com\"]\n",
        "]\n",
        "print(sol.accountsMerge(accounts))\n",
        "# Output may vary, one possible output is:\n",
        "# [\n",
        "#     [\"John\", \"john00@mail.com\", \"john_newyork@mail.com\", \"johnsmith@mail.com\"],\n",
        "#     [\"John\", \"johnnybravo@mail.com\"],\n",
        "#     [\"Mary\", \"mary@mail.com\"]\n",
        "# ]\n"
      ],
      "metadata": {
        "colab": {
          "base_uri": "https://localhost:8080/"
        },
        "id": "CQUKcNiaguIM",
        "outputId": "168736a3-d59c-421d-ae1d-5819a8493e9f"
      },
      "execution_count": null,
      "outputs": [
        {
          "output_type": "stream",
          "name": "stdout",
          "text": [
            "[['John', 'john00@mail.com', 'john_newyork@mail.com', 'johnsmith@mail.com'], ['John', 'johnnybravo@mail.com'], ['Mary', 'mary@mail.com']]\n"
          ]
        }
      ]
    },
    {
      "cell_type": "markdown",
      "source": [
        "## Toeplitz matrix\n",
        "Given an m x n matrix, return true if the matrix is Toeplitz. Otherwise, return false.\n",
        "\n",
        "A matrix is Toeplitz if every diagonal from top-left to bottom-right has the same elements."
      ],
      "metadata": {
        "id": "oB-jJEC6jTlu"
      }
    },
    {
      "cell_type": "code",
      "source": [
        "class Solution():\n",
        "    def isToeplitzMatrix(self, matrix):\n",
        "        for r in range(1, len(matrix)):\n",
        "            for c in range(1, len(matrix[0])):\n",
        "                if matrix[r-1][c-1] != matrix[r][c]:\n",
        "                    return False\n",
        "        return True\n",
        "#test 1\n",
        "matrix = [[1,2,3,4],[5,1,2,3],[9,5,1,2]]\n",
        "print(Solution().isToeplitzMatrix(matrix))\n",
        "#test 2\n",
        "matrix = [[1,2],[2,2]]\n",
        "print(Solution().isToeplitzMatrix(matrix))"
      ],
      "metadata": {
        "colab": {
          "base_uri": "https://localhost:8080/"
        },
        "id": "LjVZiQVTi5zF",
        "outputId": "49208170-7ad7-44b1-d4ba-73f7e6e7be3f"
      },
      "execution_count": null,
      "outputs": [
        {
          "output_type": "stream",
          "name": "stdout",
          "text": [
            "True\n",
            "False\n"
          ]
        }
      ]
    },
    {
      "cell_type": "markdown",
      "source": [
        "## Count and say\n"
      ],
      "metadata": {
        "id": "fBCv89M4oG04"
      }
    },
    {
      "cell_type": "code",
      "source": [
        "class Solution:\n",
        "    def countAndSay(self, n: int) -> str:\n",
        "        def nextNumber(s:str):\n",
        "            result=[]\n",
        "            start = 0\n",
        "            while start < len(s):\n",
        "                count=1\n",
        "                while start+1 < len(s) and s[start+1]==s[start]:\n",
        "                    count+=1\n",
        "                    start+=1\n",
        "                result.append(f\"{count}{s[start]}\")\n",
        "                start+=1\n",
        "            return \"\".join(result)\n",
        "\n",
        "        current = \"1\"\n",
        "        for _ in range(n - 1):\n",
        "            current = nextNumber(current)\n",
        "        return current\n",
        "#test 1\n",
        "print(Solution().countAndSay(5))\n",
        "print(Solution().countAndSay(1))\n",
        "# print(Solution().countAndSay(30))\n"
      ],
      "metadata": {
        "colab": {
          "base_uri": "https://localhost:8080/"
        },
        "id": "aqBmiZy_oJRs",
        "outputId": "3b3560bd-842d-49c6-a0e1-deea87634088"
      },
      "execution_count": null,
      "outputs": [
        {
          "output_type": "stream",
          "name": "stdout",
          "text": [
            "111221\n",
            "1\n"
          ]
        }
      ]
    },
    {
      "cell_type": "markdown",
      "source": [
        "## all nodes distance k"
      ],
      "metadata": {
        "id": "-gEhKIqKP5wM"
      }
    },
    {
      "cell_type": "code",
      "source": [
        "from typing import List\n",
        "# Definition for a binary tree node.\n",
        "\n",
        "class TreeNode:\n",
        "    def __init__(self, x):\n",
        "        self.val = x\n",
        "        self.left = None\n",
        "        self.right = None\n",
        "\n",
        "class Solution:\n",
        "    def distanceK(self, root: TreeNode, target: TreeNode, k: int) -> List[int]:\n",
        "        def mapParent(node, parent):\n",
        "            if node:\n",
        "                parentMap[node]=parent\n",
        "                mapParent(node.left, node)\n",
        "                mapParent(node.right, node)\n",
        "\n",
        "        parentMap={}\n",
        "        result=[]\n",
        "        visited=set()\n",
        "\n",
        "        # we already know target nodes, so we can start from that node\n",
        "\n",
        "        def findNodesDistanceK(node, remaining_distance):\n",
        "            if not node:\n",
        "                return\n",
        "            if node in visited:\n",
        "                return\n",
        "            visited.add(node)\n",
        "            if remaining_distance==0:\n",
        "                result.append(node.val)\n",
        "            else:\n",
        "                findNodesDistanceK(node.left, remaining_distance-1)\n",
        "                findNodesDistanceK(node.right, remaining_distance-1)\n",
        "                findNodesDistanceK(parentMap[node], remaining_distance-1)\n",
        "\n",
        "        mapParent(root, None)\n",
        "        findNodesDistanceK(target, k)\n",
        "        return result\n",
        "\n",
        "# Example usage: # Construct the binary tree\n",
        "root = TreeNode(3)\n",
        "root.left = TreeNode(5)\n",
        "root.right = TreeNode(1)\n",
        "root.left.left = TreeNode(6)\n",
        "root.left.right = TreeNode(2)\n",
        "root.left.right.left = TreeNode(7)\n",
        "root.left.right.right = TreeNode(4)\n",
        "root.right.left = TreeNode(0)\n",
        "root.right.right = TreeNode(8)\n",
        "sol = Solution()\n",
        "target = root.left\n",
        "# Target node with value 5\n",
        "k = 2\n",
        "print(sol.distanceK(root, target, k)) # Output: [7, 4, 1]"
      ],
      "metadata": {
        "colab": {
          "base_uri": "https://localhost:8080/"
        },
        "id": "L3SmWnqpP7yU",
        "outputId": "d3490371-6ec1-4e34-eb83-45ed26752875"
      },
      "execution_count": null,
      "outputs": [
        {
          "output_type": "stream",
          "name": "stdout",
          "text": [
            "[7, 4, 1]\n"
          ]
        }
      ]
    },
    {
      "cell_type": "code",
      "source": [
        "from collections import defaultdict, deque\n",
        "from typing import List, Optional\n",
        "\n",
        "class TreeNode:\n",
        "    def __init__(self, val=0, left=None, right=None):\n",
        "        self.val = val\n",
        "        self.left = left\n",
        "        self.right = right\n",
        "\n",
        "class Solution:\n",
        "    def distanceK(self, root: Optional[TreeNode], target: TreeNode, k: int) -> List[int]:\n",
        "        # Step 1: Convert the binary tree to a graph\n",
        "        graph = defaultdict(list)\n",
        "\n",
        "        def build_graph(node, parent):\n",
        "            if not node:\n",
        "                return\n",
        "            if parent:\n",
        "                graph[node.val].append(parent.val)\n",
        "                graph[parent.val].append(node.val)\n",
        "            if node.left:\n",
        "                build_graph(node.left, node)\n",
        "            if node.right:\n",
        "                build_graph(node.right, node)\n",
        "\n",
        "        build_graph(root, None)\n",
        "\n",
        "        # Step 2: Perform BFS from the target node to find all nodes at distance k\n",
        "        queue = deque([(target.val, 0)])\n",
        "        visited = set([target.val])\n",
        "        result = []\n",
        "\n",
        "        while queue:\n",
        "            current_node, current_distance = queue.popleft()\n",
        "\n",
        "            if current_distance == k:\n",
        "                result.append(current_node)\n",
        "\n",
        "            for neighbor in graph[current_node]:\n",
        "                if neighbor not in visited:\n",
        "                    visited.add(neighbor)\n",
        "                    queue.append((neighbor, current_distance + 1))\n",
        "\n",
        "        return result\n",
        "\n",
        "# Example usage:\n",
        "# Construct the binary tree\n",
        "root = TreeNode(3)\n",
        "root.left = TreeNode(5)\n",
        "root.right = TreeNode(1)\n",
        "root.left.left = TreeNode(6)\n",
        "root.left.right = TreeNode(2)\n",
        "root.left.right.left = TreeNode(7)\n",
        "root.left.right.right = TreeNode(4)\n",
        "root.right.left = TreeNode(0)\n",
        "root.right.right = TreeNode(8)\n",
        "\n",
        "sol = Solution()\n",
        "target = root.left  # Target node with value 5\n",
        "k = 2\n",
        "print(sol.distanceK(root, target, k))  # Output: [7, 4, 1]"
      ],
      "metadata": {
        "colab": {
          "base_uri": "https://localhost:8080/"
        },
        "id": "9aUeGkwHQnj-",
        "outputId": "b3524007-627b-40fa-9d31-de23bb3ec0aa"
      },
      "execution_count": null,
      "outputs": [
        {
          "output_type": "stream",
          "name": "stdout",
          "text": [
            "[1, 7, 4]\n"
          ]
        }
      ]
    },
    {
      "cell_type": "markdown",
      "source": [
        "## Decode string\n",
        "* Option 1: recursively process\n",
        "* Option 2: use a single stack (in python, we can store both string, number and charater in the same stack) but feel free to explain with interviewer whether it is a good choice as data integrity may fail. in that case, we have to process character only\n",
        "* Option 3: Two stack, one for keeping strings and and another for number"
      ],
      "metadata": {
        "id": "o9UHDGhZWGdw"
      }
    },
    {
      "cell_type": "code",
      "source": [
        "class Solution:\n",
        "    def decodeString(self, s: str) -> str:\n",
        "        def rec(t):\n",
        "            nonlocal index\n",
        "            res = []\n",
        "            while index < len(t) and t[index] != \"]\":\n",
        "                if not t[index].isdigit():\n",
        "                    res.append(t[index])\n",
        "                    index += 1\n",
        "                else:\n",
        "                    n = 0\n",
        "                    while index < len(t) and t[index].isdigit():\n",
        "                        n = n * 10 + int(t[index])\n",
        "                        index += 1\n",
        "                    # after number there will always be '['\n",
        "                    index += 1\n",
        "                    temp = rec(t)\n",
        "                    # when return, next character ']' and break while loop at top\n",
        "                    index += 1\n",
        "                    res.extend(temp * n)\n",
        "            return res\n",
        "\n",
        "        index = 0\n",
        "        decoded_str = rec(s)\n",
        "        return \"\".join(decoded_str)\n",
        "#test 1\n",
        "s=\"3[b]2[a]\"\n",
        "print(Solution().decodeString(s))\n",
        "#test 2\n",
        "s=\"3[a]2[bc]\"\n",
        "print(Solution().decodeString(s))\n",
        "#test 3\n",
        "s=\"3[a2[c]]\"\n",
        "print(Solution().decodeString(s))"
      ],
      "metadata": {
        "colab": {
          "base_uri": "https://localhost:8080/"
        },
        "id": "rEyum39AWp1I",
        "outputId": "6fed7c08-9f92-4534-ab83-fea2f1daa579"
      },
      "execution_count": null,
      "outputs": [
        {
          "output_type": "stream",
          "name": "stdout",
          "text": [
            "bbbaa\n",
            "aaabcbc\n",
            "accaccacc\n"
          ]
        }
      ]
    },
    {
      "cell_type": "code",
      "source": [
        "class Solution:\n",
        "    def decodeString(self, s: str) -> str:\n",
        "        # lets create two stack count and string\n",
        "        count_st, string_st=[], []\n",
        "        k=0 # to keep track of digit\n",
        "        current_str=[]\n",
        "\n",
        "        for ch in s:\n",
        "            if ch.isdigit():\n",
        "                k=k*10+int(ch)\n",
        "            elif ch==\"[\":\n",
        "                # whatever we got, we have to store\n",
        "                count_st.append(k)\n",
        "                string_st.append(current_str)\n",
        "                current_str=[]\n",
        "                k=0\n",
        "            elif ch == \"]\":\n",
        "                # we have to pop and process until previous [\n",
        "                decode_str = string_st.pop()\n",
        "                current_k=count_st.pop()\n",
        "                decode_str.extend(current_k *current_str)\n",
        "                current_str=decode_str\n",
        "            else:\n",
        "                current_str.append(ch)\n",
        "\n",
        "        return \"\".join(current_str)\n",
        "#test 1\n",
        "s=\"3[b]2[a]\"\n",
        "print(Solution().decodeString(s))\n",
        "#test 2\n",
        "s=\"3[a]2[bc]\"\n",
        "print(Solution().decodeString(s))\n",
        "#test 3\n",
        "s=\"3[a2[c]]\"\n",
        "print(Solution().decodeString(s))"
      ],
      "metadata": {
        "colab": {
          "base_uri": "https://localhost:8080/"
        },
        "id": "cWT4IZJlXpch",
        "outputId": "4b06e4e5-b2f5-4631-ad87-2c70529e9da1"
      },
      "execution_count": null,
      "outputs": [
        {
          "output_type": "stream",
          "name": "stdout",
          "text": [
            "bbbaa\n",
            "aaabcbc\n",
            "accaccacc\n"
          ]
        }
      ]
    },
    {
      "cell_type": "code",
      "source": [
        "# if string, character and number are not supported into a single stack, then need to modify\n",
        "# in that case have to complete the whole process of most inner part just like recursion\n",
        "class Solution:\n",
        "    def decodeString(self, s: str) -> str:\n",
        "      stack=[]\n",
        "      cur_num=0\n",
        "      cur_str=\"\"\n",
        "\n",
        "      for ch in s:\n",
        "        if ch == '[':\n",
        "          # if we see opening we take number and previsous string '\n",
        "          # and add that tp stack\n",
        "          stack.append(cur_str)\n",
        "          stack.append(cur_num)\n",
        "          cur_str=\"\"\n",
        "          cur_num=0\n",
        "        elif ch == ']':\n",
        "          num = stack.pop()\n",
        "          prev_str= stack.pop()\n",
        "          cur_str = prev_str + num * cur_str\n",
        "        elif ch.isdigit():\n",
        "          cur_num = 10* cur_num + int(ch)\n",
        "        else:\n",
        "          cur_str += ch\n",
        "      return cur_str\n",
        "\n",
        "#test 1\n",
        "s=\"3[b]2[a]\"\n",
        "print(Solution().decodeString(s))\n",
        "#test 2\n",
        "s=\"3[a]2[bc]\"\n",
        "print(Solution().decodeString(s))\n",
        "#test 3\n",
        "s=\"3[a2[c]]\"\n",
        "print(Solution().decodeString(s))"
      ],
      "metadata": {
        "colab": {
          "base_uri": "https://localhost:8080/"
        },
        "id": "VMRdCekcXxhM",
        "outputId": "6f344c37-674f-40d7-c204-9fb63750c679"
      },
      "execution_count": null,
      "outputs": [
        {
          "output_type": "stream",
          "name": "stdout",
          "text": [
            "bbbaa\n",
            "aaabcbc\n",
            "accaccacc\n"
          ]
        }
      ]
    },
    {
      "cell_type": "code",
      "source": [
        "class Solution:\n",
        "    def decodeString(self, s: str) -> str:\n",
        "        stack = []\n",
        "        for i in range(len(s)):\n",
        "            if s[i] == ']':\n",
        "                decoded_string = []\n",
        "                # Get the encoded string\n",
        "                # we are storing all the processed string as character, so we have to pop all\n",
        "                while stack and stack[-1] != '[':\n",
        "                    decoded_string.append(stack.pop())\n",
        "                # Pop the '[' from the stack\n",
        "                stack.pop()\n",
        "                # base = 1\n",
        "                k = 0\n",
        "                # Get the number k\n",
        "                while stack and stack[-1].isdigit():\n",
        "                    k = k*10 + int(stack.pop())\n",
        "                    # base *= 10\n",
        "                # Decode k[decoded_string], by pushing decoded_string k times into stack\n",
        "                while k != 0:\n",
        "                    for j in range(len(decoded_string) - 1, -1, -1):\n",
        "                        stack.append(decoded_string[j])\n",
        "                    k -= 1\n",
        "            else:\n",
        "                stack.append(s[i])\n",
        "\n",
        "        # Get the result from stack\n",
        "        return ''.join(stack)\n",
        "\n",
        "# Example usage:\n",
        "sol = Solution()\n",
        "s = \"3[a]2[bc]\"\n",
        "print(sol.decodeString(s))  # Output: \"aaabcbc\"\n",
        "\n",
        "\n",
        "#test 1\n",
        "s=\"3[b]2[a]\"\n",
        "print(Solution().decodeString(s))\n",
        "#test 2\n",
        "s=\"3[a]2[bc]\"\n",
        "print(Solution().decodeString(s))\n",
        "#test 3\n",
        "s=\"3[a2[c]]\"\n",
        "print(Solution().decodeString(s))\n"
      ],
      "metadata": {
        "colab": {
          "base_uri": "https://localhost:8080/"
        },
        "id": "7624vXikYjSH",
        "outputId": "e33088e0-89dc-46e2-ade3-183064e99ada"
      },
      "execution_count": null,
      "outputs": [
        {
          "output_type": "stream",
          "name": "stdout",
          "text": [
            "aaabcbc\n",
            "bbbaa\n",
            "aaabcbc\n",
            "accaccacc\n"
          ]
        }
      ]
    },
    {
      "cell_type": "markdown",
      "source": [
        "## Search in a rotated sorted array\n",
        "- all numbers are unique and rotated in some pivot points\n",
        "- if duplicate are allowed, we need more checks"
      ],
      "metadata": {
        "id": "mV4hw1_HhfDG"
      }
    },
    {
      "cell_type": "code",
      "source": [
        "class RotatedSortedArray:\n",
        "  def RotatedSortedArray(self, nums):\n",
        "    left, right = 0, len(nums)-1\n",
        "\n",
        "    while left <= right:\n",
        "      mid=(left+right)//2\n",
        "      if nums[mid] == target:\n",
        "        return mid\n",
        "      elif nums[left] <= nums[mid]:\n",
        "        if nums[left] <= target < nums[mid]:\n",
        "          right = mid - 1\n",
        "        else:\n",
        "          left = mid + 1\n",
        "      else:\n",
        "        if nums[mid] < target <= nums[right]:\n",
        "          left = mid + 1\n",
        "        else:\n",
        "          right = mid - 1\n",
        "    return -1\n",
        "#test 1\n",
        "nums=[5,6,7,8,1,2,3]\n",
        "target=8\n",
        "print(RotatedSortedArray().RotatedSortedArray(nums))\n",
        "#test 2\n",
        "nums=[4,5,6,7,0,1,2]\n",
        "target=0\n",
        "print(RotatedSortedArray().RotatedSortedArray(nums))"
      ],
      "metadata": {
        "colab": {
          "base_uri": "https://localhost:8080/"
        },
        "id": "_Euxpxlx8Q4p",
        "outputId": "56357f96-a38a-417d-b597-929254b7ae2e"
      },
      "execution_count": null,
      "outputs": [
        {
          "output_type": "stream",
          "name": "stdout",
          "text": [
            "3\n",
            "4\n"
          ]
        }
      ]
    },
    {
      "cell_type": "markdown",
      "source": [
        "## populating next right nodes of each nodes when complete tree\n",
        "You are given a perfect binary tree where all leaves are on the same level, and every parent has two children. The binary tree has the following definition:\n",
        "\n",
        "struct Node {\n",
        "  int val;\n",
        "  Node *left;\n",
        "  Node *right;\n",
        "  Node *next;\n",
        "}\n",
        "Populate each next pointer to point to its next right node. If there is no next right node, the next pointer should be set to NULL.\n",
        "\n",
        "Initially, all next pointers are set to NULL."
      ],
      "metadata": {
        "id": "Ja5JoG70JaeK"
      }
    },
    {
      "cell_type": "code",
      "source": [
        "# Definition for a Node.\n",
        "class Node:\n",
        "    def __init__(self, val: int = 0, left: 'Node' = None, right: 'Node' = None, next: 'Node' = None):\n",
        "        self.val = val\n",
        "        self.left = left\n",
        "        self.right = right\n",
        "        self.next = next\n",
        "\n",
        "class Solution:\n",
        "    def connect(self, root: 'Optional[Node]') -> 'Optional[Node]':\n",
        "        if not root:\n",
        "            return root\n",
        "\n",
        "        # this is a perfect tree, that means from left to right there is no gap\n",
        "        # we can create algorithm with O(1) space by establishing connection between n+1 level nodes while processing n\n",
        "        # level nodes\n",
        "\n",
        "        leftmost = root\n",
        "        while leftmost.left:\n",
        "            # this will be for each level, if no leftmost, then there is no next level\n",
        "\n",
        "            # process current level nodes and establish connection of next level\n",
        "            head = leftmost\n",
        "            while head:\n",
        "                # connetion betwen siblings\n",
        "                head.left.next=head.right\n",
        "\n",
        "                # connect between cousins\n",
        "                # if head has next established in previous cycle, then we can get its left child\n",
        "                if head.next:\n",
        "                    head.right.next=head.next.left\n",
        "                # once connection is does, we can move to next to head\n",
        "                head = head.next\n",
        "            # once processing is done for the next level, move to next level\n",
        "            leftmost=leftmost.left\n",
        "        return root\n",
        "\n"
      ],
      "metadata": {
        "id": "2gLtckkTJec5"
      },
      "execution_count": null,
      "outputs": []
    },
    {
      "cell_type": "markdown",
      "source": [
        "## Friend of appropriate ages\n"
      ],
      "metadata": {
        "id": "6q8kofC7yMdj"
      }
    },
    {
      "cell_type": "code",
      "source": [
        "from collections import Counter\n",
        "from typing import List\n",
        "class Solution:\n",
        "    def numFriendRequests(self, ages: List[int]) -> int:\n",
        "        def can_send_request(age_x, age_y):\n",
        "            if age_y <= 0.5 * age_x + 7:\n",
        "                return False\n",
        "            if age_y > age_x:\n",
        "                return False\n",
        "            if age_y > 100 and age_x < 100:\n",
        "                return False\n",
        "            return True\n",
        "\n",
        "        count = 0\n",
        "        age_count = Counter(ages)\n",
        "\n",
        "        for age_x in age_count:\n",
        "            for age_y in age_count:\n",
        "              # dont forget to check validity when ages are the same\n",
        "                if age_x == age_y and can_send_request(age_x, age_y):\n",
        "                    # Handle same age case separately\n",
        "                    count += age_count[age_x] * (age_count[age_x] - 1)  # x cannot friend themselves\n",
        "                elif can_send_request(age_x, age_y):\n",
        "                    count += age_count[age_x] * age_count[age_y]\n",
        "\n",
        "        return count\n",
        "\n",
        "# Example usage:\n",
        "ages = [16, 16, 16, 18, 18, 20, 30, 100, 100]\n",
        "print(Solution().numFriendRequests(ages))  # Output: Total number of friend requests"
      ],
      "metadata": {
        "colab": {
          "base_uri": "https://localhost:8080/"
        },
        "id": "b6TWpH6LyP9E",
        "outputId": "3f72e002-5f26-451b-879c-5f82e0724ac2"
      },
      "execution_count": null,
      "outputs": [
        {
          "output_type": "stream",
          "name": "stdout",
          "text": [
            "12\n"
          ]
        }
      ]
    },
    {
      "cell_type": "markdown",
      "source": [
        "## Contains Duplicate III\n",
        "To solve this problem efficiently, we can use a combination of a sliding window and a balanced data structure such as a SortedList to keep track of the values within the given index difference. Here’s how you can implement the solution in Python:\n",
        "\n",
        "### Implementation\n",
        "\n",
        "```python\n",
        "from sortedcontainers import SortedList\n",
        "\n",
        "def containsNearbyAlmostDuplicate(nums, indexDiff, valueDiff):\n",
        "    if indexDiff <= 0 or valueDiff < 0:\n",
        "        return False\n",
        "\n",
        "    sorted_list = SortedList()\n",
        "    for i in range(len(nums)):\n",
        "        if i > indexDiff:\n",
        "            # Remove the element that is now out of the indexDiff range\n",
        "            sorted_list.remove(nums[i - indexDiff - 1])\n",
        "        \n",
        "        # Find the position to insert the current number\n",
        "        pos = SortedList.bisect_left(sorted_list, nums[i] - valueDiff)\n",
        "        \n",
        "        # Check if there's any number in the sorted list that satisfies abs(nums[i] - num) <= valueDiff\n",
        "        if pos < len(sorted_list) and abs(sorted_list[pos] - nums[i]) <= valueDiff:\n",
        "            return True\n",
        "        \n",
        "        # Insert the current number into the sorted list\n",
        "        sorted_list.add(nums[i])\n",
        "    \n",
        "    return False\n",
        "\n",
        "# Example usage:\n",
        "nums = [1, 2, 3, 1]\n",
        "indexDiff = 3\n",
        "valueDiff = 0\n",
        "print(containsNearbyAlmostDuplicate(nums, indexDiff, valueDiff))  # Output: True\n",
        "```\n",
        "\n",
        "### Explanation\n",
        "\n",
        "1. **SortedList:**\n",
        "   - `SortedList` from `sortedcontainers` module maintains a sorted order of elements, allowing efficient insertion, deletion, and lookup operations.\n",
        "\n",
        "2. **Sliding Window:**\n",
        "   - We maintain a window of at most `indexDiff` elements using the `SortedList`.\n",
        "   - For each element `nums[i]`, we ensure that the elements outside the window are removed.\n",
        "\n",
        "3. **Checking Conditions:**\n",
        "   - For each element `nums[i]`, find the appropriate position to insert `nums[i] - valueDiff` using `bisect_left`.\n",
        "   - Check if any number within the window satisfies the condition `abs(nums[i] - num) <= valueDiff`.\n",
        "   - If such a number exists, return `True`.\n",
        "\n",
        "4. **Updating the Window:**\n",
        "   - Insert the current number into the `SortedList`.\n",
        "\n",
        "5. **Return Result:**\n",
        "   - If no such pair is found after processing all elements, return `False`.\n",
        "\n",
        "This approach ensures that we efficiently check for pairs of indices that satisfy the given conditions using a combination of a sliding window and a balanced data structure.\n",
        "\n",
        "Let me know if you have any questions or need further assistance!"
      ],
      "metadata": {
        "id": "PY_fZ--edZqL"
      }
    },
    {
      "cell_type": "code",
      "source": [
        "class Solution:\n",
        "\n",
        "    def containsNearbyAlmostDuplicate(self, nums, indexDiff, valueDiff):\n",
        "        if valueDiff < 0:\n",
        "            return False\n",
        "\n",
        "        buckets = {}\n",
        "        bucket_size = valueDiff + 1  # This is the size of each bucket\n",
        "\n",
        "        for i, num in enumerate(nums):\n",
        "            bucket_index = num // bucket_size\n",
        "\n",
        "            # Check if the current bucket already contains a valid number\n",
        "            if bucket_index in buckets:\n",
        "                return True\n",
        "\n",
        "            # Check the previous bucket\n",
        "            if bucket_index - 1 in buckets and abs(num - buckets[bucket_index - 1]) < bucket_size:\n",
        "                return True\n",
        "\n",
        "            # Check the next bucket\n",
        "            if bucket_index + 1 in buckets and abs(num - buckets[bucket_index + 1]) < bucket_size:\n",
        "                return True\n",
        "\n",
        "            # Place the number in the current bucket\n",
        "            buckets[bucket_index] = num\n",
        "\n",
        "            # Remove the number that is out of the indexDiff range\n",
        "            if i >= indexDiff:\n",
        "                del buckets[nums[i - indexDiff] // bucket_size]\n",
        "\n",
        "        return False\n",
        "\n",
        "\n",
        "\n",
        "# Example usage:\n",
        "nums = [1,5,9,1,5,9]\n",
        "indexDiff = 2\n",
        "valueDiff = 3\n",
        "print(\n",
        "    Solution().containsNearbyAlmostDuplicate(nums, indexDiff, valueDiff)\n",
        ")  # Output: True\n",
        "\n",
        "# Example usage:\n",
        "nums = [1, 2, 3, 1]\n",
        "indexDiff = 3\n",
        "valueDiff = 0\n",
        "print(\n",
        "    Solution().containsNearbyAlmostDuplicate(nums, indexDiff, valueDiff)\n",
        ")  # Output: True"
      ],
      "metadata": {
        "colab": {
          "base_uri": "https://localhost:8080/"
        },
        "id": "ni-SdptqfM1f",
        "outputId": "037c42bc-37c3-43fa-cba5-6ae803eb3caa"
      },
      "execution_count": null,
      "outputs": [
        {
          "output_type": "stream",
          "name": "stdout",
          "text": [
            "False\n",
            "True\n"
          ]
        }
      ]
    },
    {
      "cell_type": "markdown",
      "source": [
        "## Insert, delete and getRandom\n",
        "Implement the RandomizedSet class:\n",
        "\n",
        "RandomizedSet() Initializes the RandomizedSet object.\n",
        "bool insert(int val) Inserts an item val into the set if not present. Returns true if the item was not present, false otherwise.\n",
        "bool remove(int val) Removes an item val from the set if present. Returns true if the item was present, false otherwise.\n",
        "int getRandom() Returns a random element from the current set of elements (it's guaranteed that at least one element exists when this method is called). Each element must have the same probability of being returned.\n",
        "You must implement the functions of the class such that each function works in average O(1) time complexity."
      ],
      "metadata": {
        "id": "bsmPRLqLIi5o"
      }
    },
    {
      "cell_type": "code",
      "source": [
        "import random\n",
        "class RandomizedSet:\n",
        "  def __init__(self):\n",
        "    self.dict={}\n",
        "    self.list=[]\n",
        "  def insert(self, val):\n",
        "    # if value already in the list return false\n",
        "    if val in self.dict:\n",
        "      return False\n",
        "    # otherwise, set the value to dictionary and put len of the list as value\n",
        "    # also add the item at the end of the list\n",
        "    self.dict[val]=len(self.list)\n",
        "    self.list.append(val)\n",
        "    return True\n",
        "\n",
        "  # main function is how to remove in O(1)\n",
        "  # we can swap last elements with the to_remove elements and then remove the last one\n",
        "  def remove(self, val):\n",
        "    if val not in self.dict:\n",
        "      return False\n",
        "    # swap to_remove with last elements\n",
        "    to_remove_index, last_element = self.dict[val], self.list[-1]\n",
        "    self.list[to_remove_index], self.dict[last_element] = last_element, to_remove_index\n",
        "    self.list.pop()\n",
        "    del self.dict[val]\n",
        "    return True\n",
        "\n",
        "  def getRandom(self):\n",
        "    if not self.list:\n",
        "      return -1\n",
        "    return random.choice(self.list)\n",
        "\n",
        "# Example usage:\n",
        "randomizedSet = RandomizedSet()\n",
        "print(randomizedSet.insert(1)) # Output: True\n",
        "print(randomizedSet.insert(2)) # Output: True\n",
        "print(randomizedSet.insert(1)) # Output: False\n",
        "print(randomizedSet.remove(1)) # Output: True\n",
        "print(randomizedSet.getRandom()) # Output: Random element from [2]\n",
        "print(randomizedSet.remove(2)) # Output: True\n",
        "print(randomizedSet.getRandom()) # Output: Random element from -1"
      ],
      "metadata": {
        "colab": {
          "base_uri": "https://localhost:8080/"
        },
        "id": "rapM7VDnJfGh",
        "outputId": "6de46fee-ce51-4c42-f394-c67983a8bb7f"
      },
      "execution_count": null,
      "outputs": [
        {
          "output_type": "stream",
          "name": "stdout",
          "text": [
            "True\n",
            "True\n",
            "False\n",
            "True\n",
            "2\n",
            "True\n",
            "-1\n"
          ]
        }
      ]
    },
    {
      "cell_type": "code",
      "source": [
        "import random\n",
        "\n",
        "class ListNode:\n",
        "    def __init__(self, val=None):\n",
        "        self.val = val\n",
        "        self.prev = None\n",
        "        self.next = None\n",
        "\n",
        "class RandomizedSet:\n",
        "    def __init__(self):\n",
        "        self.value_to_node = {}  # Hash table to map values to their nodes\n",
        "        self.head = ListNode()  # Dummy head for doubly linked list\n",
        "        self.tail = ListNode()  # Dummy tail for doubly linked list\n",
        "        self.head.next = self.tail\n",
        "        self.tail.prev = self.head\n",
        "\n",
        "    def insert(self, val: int) -> bool:\n",
        "        if val in self.value_to_node:\n",
        "            return False\n",
        "        # Create a new node and insert it into the doubly linked list\n",
        "        new_node = ListNode(val)\n",
        "        new_node.prev = self.tail.prev\n",
        "        new_node.next = self.tail\n",
        "        self.tail.prev.next = new_node\n",
        "        self.tail.prev = new_node\n",
        "        # Add the node to the hash table\n",
        "        self.value_to_node[val] = new_node\n",
        "        return True\n",
        "\n",
        "    def remove(self, val: int) -> bool:\n",
        "        if val not in self.value_to_node:\n",
        "            return False\n",
        "        # Find the node in the hash table and remove it from the doubly linked list\n",
        "        node_to_remove = self.value_to_node[val]\n",
        "        node_to_remove.prev.next = node_to_remove.next\n",
        "        node_to_remove.next.prev = node_to_remove.prev\n",
        "        # Remove the node from the hash table\n",
        "        del self.value_to_node[val]\n",
        "        return True\n",
        "\n",
        "    def getRandom(self) -> int:\n",
        "        if not self.value_to_node:\n",
        "            return -1  # or raise an exception if preferred\n",
        "        return random.choice(list(self.value_to_node.keys()))\n",
        "\n",
        "# Example usage:\n",
        "randomizedSet = RandomizedSet()\n",
        "print(randomizedSet.insert(1))  # Output: True\n",
        "print(randomizedSet.insert(2))  # Output: True\n",
        "print(randomizedSet.insert(1))  # Output: False\n",
        "print(randomizedSet.remove(1))  # Output: True\n",
        "print(randomizedSet.getRandom())  # Output: Random element from [2]"
      ],
      "metadata": {
        "id": "6lGQDvUKLJhu"
      },
      "execution_count": null,
      "outputs": []
    },
    {
      "cell_type": "markdown",
      "source": [
        "## Longest increasing path in a matrix"
      ],
      "metadata": {
        "id": "fhhxNPTLVdBs"
      }
    },
    {
      "cell_type": "code",
      "source": [
        "def longestIncreasingPath(matrix):\n",
        "    if not matrix or not matrix[0]:\n",
        "        return 0\n",
        "\n",
        "    rows, cols = len(matrix), len(matrix[0])\n",
        "    dp = [[-1] * cols for _ in range(rows)]\n",
        "\n",
        "    def dfs(x, y):\n",
        "        if dp[x][y] != -1:\n",
        "            return dp[x][y]\n",
        "\n",
        "        longest_path = 1  # Each cell itself is a path of length 1\n",
        "        for dx, dy in [(-1, 0), (1, 0), (0, -1), (0, 1)]:\n",
        "            nx, ny = x + dx, y + dy\n",
        "            if 0 <= nx < rows and 0 <= ny < cols and matrix[nx][ny] > matrix[x][y]:\n",
        "                longest_path = max(longest_path, 1 + dfs(nx, ny))\n",
        "\n",
        "        dp[x][y] = longest_path\n",
        "        return longest_path\n",
        "\n",
        "    longest_path = 0\n",
        "    for i in range(rows):\n",
        "        for j in range(cols):\n",
        "            longest_path = max(longest_path, dfs(i, j))\n",
        "\n",
        "    return longest_path\n",
        "\n",
        "# Example usage:\n",
        "matrix = [\n",
        "    [9, 9, 4],\n",
        "    [6, 6, 8],\n",
        "    [2, 1, 1]\n",
        "]\n",
        "print(longestIncreasingPath(matrix))  # Output: 4\n"
      ],
      "metadata": {
        "colab": {
          "base_uri": "https://localhost:8080/"
        },
        "id": "11MyYuJSVfta",
        "outputId": "e2c7a0c1-7b49-4b64-aa40-cde2b21d8a07"
      },
      "execution_count": null,
      "outputs": [
        {
          "output_type": "stream",
          "name": "stdout",
          "text": [
            "4\n"
          ]
        }
      ]
    },
    {
      "cell_type": "code",
      "source": [
        "# we can write it in OOP way as well for making the code more readable\n",
        "class LongestIncreasingPathFinder:\n",
        "    def __init__(self, matrix):\n",
        "        self.matrix = matrix\n",
        "        self.rows = len(matrix)\n",
        "        self.cols = len(matrix[0]) if self.rows > 0 else 0\n",
        "        self.dp = [[-1] * self.cols for _ in range(self.rows)]\n",
        "        self.directions = [(-1, 0), (1, 0), (0, -1), (0, 1)]\n",
        "\n",
        "    def find_longest_path(self):\n",
        "        if not self.matrix or not self.matrix[0]:\n",
        "            return 0\n",
        "\n",
        "        longest_path = 0\n",
        "        for i in range(self.rows):\n",
        "            for j in range(self.cols):\n",
        "                longest_path = max(longest_path, self.dfs(i, j))\n",
        "        return longest_path\n",
        "\n",
        "    def dfs(self, x, y):\n",
        "        if self.dp[x][y] != -1:\n",
        "            return self.dp[x][y]\n",
        "\n",
        "        longest_path = 1  # Each cell itself is a path of length 1\n",
        "        for dx, dy in self.directions:\n",
        "            nx, ny = x + dx, y + dy\n",
        "            if 0 <= nx < self.rows and 0 <= ny < self.cols and self.matrix[nx][ny] > self.matrix[x][y]:\n",
        "                longest_path = max(longest_path, 1 + self.dfs(nx, ny))\n",
        "\n",
        "        self.dp[x][y] = longest_path\n",
        "        return longest_path\n",
        "\n",
        "# Example usage:\n",
        "matrix = [\n",
        "    [9, 9, 4],\n",
        "    [6, 6, 8],\n",
        "    [2, 1, 1]\n",
        "]\n",
        "finder = LongestIncreasingPathFinder(matrix)\n",
        "print(finder.find_longest_path())  # Output: 4\n"
      ],
      "metadata": {
        "id": "d4s5aIOJVjop"
      },
      "execution_count": null,
      "outputs": []
    },
    {
      "cell_type": "code",
      "source": [
        "# using topo sorting\n",
        "from collections import deque, defaultdict\n",
        "\n",
        "class Solution:\n",
        "    def longestIncreasingPath(self, matrix):\n",
        "        if not matrix or not matrix[0]:\n",
        "            return 0\n",
        "\n",
        "        rows, cols = len(matrix), len(matrix[0])\n",
        "        graph = defaultdict(list)\n",
        "        indegree = [[0] * cols for _ in range(rows)]\n",
        "\n",
        "        # Build the graph and compute in-degrees\n",
        "        for r in range(rows):\n",
        "            for c in range(cols):\n",
        "                for dr, dc in [(-1, 0), (1, 0), (0, -1), (0, 1)]:\n",
        "                    nr, nc = r + dr, c + dc\n",
        "                    if 0 <= nr < rows and 0 <= nc < cols and matrix[nr][nc] > matrix[r][c]:\n",
        "                        graph[(r, c)].append((nr, nc))\n",
        "                        indegree[nr][nc] += 1\n",
        "\n",
        "        # Topological sorting using Kahn's algorithm (BFS)\n",
        "        queue = deque([(r, c) for r in range(rows) for c in range(cols) if indegree[r][c] == 0])\n",
        "        longest_path = 0\n",
        "        level = 0\n",
        "\n",
        "        while queue:\n",
        "            for _ in range(len(queue)):\n",
        "                r, c = queue.popleft()\n",
        "                for nr, nc in graph[(r, c)]:\n",
        "                    indegree[nr][nc] -= 1\n",
        "                    if indegree[nr][nc] == 0:\n",
        "                        queue.append((nr, nc))\n",
        "            level += 1\n",
        "\n",
        "        return level\n",
        "\n",
        "# Example usage:\n",
        "matrix = [\n",
        "    [9, 9, 4],\n",
        "    [6, 6, 8],\n",
        "    [2, 1, 1]\n",
        "]\n",
        "sol = Solution()\n",
        "print(sol.longestIncreasingPath(matrix))  # Output: 4\n"
      ],
      "metadata": {
        "id": "ENJA1XORWOAD"
      },
      "execution_count": null,
      "outputs": []
    },
    {
      "cell_type": "code",
      "source": [
        "# we can avoid creating graph and only can use grid memory to run the topo\n",
        "# only thing that we have to be carefull is when we run bfs process on topo sort, we have to\n",
        "# compare neighbor matrix[nr][nc] < matrix[r][c] as we are going oppositive of outdegree\n",
        "# 1-->2, 1 has out degree, but we process from small to higher outdegree, so, first 2 and then 1\n",
        "from collections import deque\n",
        "class Solution:\n",
        "    def longestIncreasingPath(self, matrix) -> int:\n",
        "        LEFT, RIGHT, UP, DOWN=(-1,0), (1,0), (0, 1), (0, -1)\n",
        "        rows, cols = len(matrix), len(matrix[0])\n",
        "\n",
        "        outDegree = [[0] * cols for _ in range(rows)]\n",
        "        for r in range(rows):\n",
        "            for c in range(cols):\n",
        "                for x, y in {LEFT, RIGHT, UP, DOWN}:\n",
        "                    nr, nc = r+x, c+y\n",
        "                    # if neiboars increasing, then there is a\n",
        "                    # path and current node has outdegree\n",
        "                    if nr in range(rows) and nc in range(cols) and matrix[nr][nc] > matrix[r][c]:\n",
        "                        outDegree[r][c] += 1\n",
        "\n",
        "        q = deque([])\n",
        "        for r in range(rows):\n",
        "            for c in range(cols):\n",
        "                if outDegree[r][c] == 0:\n",
        "                    q.append([r, c])\n",
        "\n",
        "        level = 0\n",
        "\n",
        "        while q:\n",
        "\n",
        "            level += 1\n",
        "            for _ in range(len(q)):\n",
        "                r, c = q.popleft()\n",
        "\n",
        "                for x, y in {LEFT, RIGHT, UP, DOWN}:\n",
        "                    nr, nc = r+x, c+y\n",
        "                    # we are processing from destination to source, by removing edges\n",
        "                    # so, matrix[nr][nc] < matrix[r][c] is the condition that fullfill requirements\n",
        "                    if nr in range(rows) and nc in range(cols) and matrix[nr][nc] < matrix[r][c]:\n",
        "                        outDegree[nr][nc] -= 1\n",
        "\n",
        "                        if outDegree[nr][nc] == 0:\n",
        "                            q.append([nr, nc])\n",
        "\n",
        "        return level\n",
        "# Example usage:\n",
        "matrix = [\n",
        "    [9, 9, 4],\n",
        "    [6, 6, 8],\n",
        "    [2, 1, 1]\n",
        "]\n",
        "sol = Solution()\n",
        "print(sol.longestIncreasingPath(matrix))  # Output: 4"
      ],
      "metadata": {
        "colab": {
          "base_uri": "https://localhost:8080/"
        },
        "id": "SnoHeZWzXBBg",
        "outputId": "56ee657d-52ff-4322-da52-f0b08b973959"
      },
      "execution_count": null,
      "outputs": [
        {
          "output_type": "stream",
          "name": "stdout",
          "text": [
            "4\n"
          ]
        }
      ]
    },
    {
      "cell_type": "markdown",
      "source": [
        "## 169. Majority element\n",
        "Given an array nums of size n, return the majority element.\n",
        "\n",
        "The majority element is the element that appears more than ⌊n / 2⌋ times. You may assume that the majority element always exists in the array."
      ],
      "metadata": {
        "id": "urckzGCLXAbY"
      }
    },
    {
      "cell_type": "code",
      "source": [
        "from typing import List\n",
        "class Solution:\n",
        "    def majorityElement(self, nums: List[int]) -> int:\n",
        "        # what to start with\n",
        "        # when to change number\n",
        "        # how the flow goes\n",
        "        candidate=None\n",
        "        count=0\n",
        "\n",
        "        for index, num in enumerate(nums):\n",
        "            if count==0:\n",
        "                candidate=num\n",
        "                count=1\n",
        "            elif candidate==num:\n",
        "                count+=1\n",
        "            else:\n",
        "                count-=1\n",
        "        return candidate\n",
        "#test 1\n",
        "nums=[3,2,3]\n",
        "sol=Solution()\n",
        "print(sol.majorityElement(nums))\n",
        "#test 2\n",
        "nums=[2,2,1,1,1,2,2]\n",
        "sol=Solution()\n",
        "print(sol.majorityElement(nums))"
      ],
      "metadata": {
        "colab": {
          "base_uri": "https://localhost:8080/"
        },
        "id": "S2mBYsGQgg05",
        "outputId": "a17d92ba-9e93-470c-c092-50cf38445cf6"
      },
      "execution_count": null,
      "outputs": [
        {
          "output_type": "stream",
          "name": "stdout",
          "text": [
            "3\n",
            "2\n"
          ]
        }
      ]
    },
    {
      "cell_type": "markdown",
      "source": [
        "## Word ladder"
      ],
      "metadata": {
        "id": "E8voh41FpYdD"
      }
    },
    {
      "cell_type": "code",
      "source": [
        "from collections import deque, defaultdict\n",
        "from string import ascii_lowercase\n",
        "class Solution:\n",
        "    def ladderLength(self, beginWord: str, endWord: str, wordList: List[str]) -> int:\n",
        "        # do we need to return all the words or just the number of words from begining to end\n",
        "\n",
        "        word_dict=set(wordList)\n",
        "        word_dict.add(beginWord)\n",
        "        L=len(beginWord)\n",
        "\n",
        "        graph = defaultdict(list)\n",
        "\n",
        "        # prepare the adjacency list for each word\n",
        "        for word in word_dict:\n",
        "            for index in range(L):\n",
        "                for char in ascii_lowercase:\n",
        "                    candidate = word[:index]+char+word[index+1:]\n",
        "                    if candidate != word and candidate in word_dict:\n",
        "                        graph[word].append(candidate)\n",
        "        # bfs search from beginWord to endWord as we wanted to find shortest path\n",
        "\n",
        "        visited=set()\n",
        "        queue = deque()\n",
        "        queue.append(beginWord)\n",
        "        visited.add(beginWord)\n",
        "        levels = 1\n",
        "\n",
        "        while queue:\n",
        "            level_size = len(queue)\n",
        "            for _ in range(level_size):\n",
        "                word = queue.popleft()\n",
        "                if word==endWord:\n",
        "                   return levels\n",
        "\n",
        "                for neighbour in graph[word]:\n",
        "                    if neighbour not in visited:\n",
        "                        queue.append(neighbour)\n",
        "                        visited.add(neighbour)\n",
        "            levels+=1\n",
        "        return 0\n",
        "#test 1\n",
        "beginWord = \"hit\"\n",
        "endWord = \"cog\"\n",
        "wordList = [\"hot\",\"dot\",\"dog\",\"lot\",\"log\",\"cog\"]\n",
        "sol=Solution()\n",
        "print(sol.ladderLength(beginWord, endWord, wordList))"
      ],
      "metadata": {
        "colab": {
          "base_uri": "https://localhost:8080/"
        },
        "id": "CABvCjIVpbSB",
        "outputId": "729f2c1e-adac-4934-9b63-11aee4791ca5"
      },
      "execution_count": null,
      "outputs": [
        {
          "output_type": "stream",
          "name": "stdout",
          "text": [
            "5\n"
          ]
        }
      ]
    },
    {
      "cell_type": "code",
      "source": [
        "# in the previous code, the amount of comparison while building dictionary is huge as we have to compare 26*L for each word where L is the length\n",
        "from collections import deque\n",
        "from collections import deque, defaultdict\n",
        "'''\n",
        "Input: beginWord = \"hit\", endWord = \"cog\", wordList = [\"hot\",\"dot\",\"dog\",\"lot\",\"log\",\"cog\"]\n",
        "Output: 5\n",
        "{'*ot': ['hot', 'dot', 'lot'], 'h*t': ['hot'], 'ho*': ['hot'], 'd*t': ['dot'], 'do*': ['dot', 'dog'], '*og': ['dog', 'log', 'cog'], 'd*g': ['dog'], 'l*t': ['lot'], 'lo*': ['lot', 'log'], 'l*g': ['log'], 'c*g': ['cog'], 'co*': ['cog']}\n",
        "'''\n",
        "class Solution:\n",
        "    def ladderLength(self, beginWord: str, endWord: str, wordList: List[str]) -> int:\n",
        "        # do we need to return all the words or just the number of words from begining to end\n",
        "\n",
        "        # we can lower the comparison while building graph\n",
        "        if endWord not in wordList:\n",
        "            return 0  # its a list, so will take o(n) time\n",
        "\n",
        "        # Step 1: prepare the word list to create a pattern map\n",
        "        L = len(beginWord)\n",
        "        combined_dict = defaultdict(list)\n",
        "\n",
        "        for word in wordList:\n",
        "            for index in range(L):\n",
        "                pattern = word[:index] + \"*\" + word[index + 1:]\n",
        "                combined_dict[pattern].append(word)\n",
        "\n",
        "        # Step 2\n",
        "        queue = deque(\n",
        "            [(beginWord, 1)]\n",
        "        )  # start with 1 and the begin word is in the list\n",
        "        visited = set(beginWord)\n",
        "\n",
        "        # do bfs as we are trying shortest path\n",
        "\n",
        "        while queue:\n",
        "            current_word, level = queue.popleft()\n",
        "\n",
        "            for i in range(L):\n",
        "              # in this case, we are not getting neighboring words diretly\n",
        "              # instead we will find which pattern the current word is fall\n",
        "              # into and then who are also on the same list, those are the current\n",
        "              # words neighbors\n",
        "                pattern = current_word[:i] + \"*\" + current_word[i + 1 :]\n",
        "\n",
        "                for word in combined_dict[pattern]:\n",
        "                    if word == endWord:\n",
        "                        return level + 1\n",
        "                    if word not in visited:\n",
        "                        visited.add(word)\n",
        "                        queue.append((word, level + 1))\n",
        "                combined_dict[pattern] = (\n",
        "                    []\n",
        "                )  # cleared it as we created it temporarily or we are not adding in visited\n",
        "        return 0\n",
        "\n",
        "#test 1\n",
        "beginWord = \"hit\"\n",
        "endWord = \"cog\"\n",
        "wordList = [\"hot\",\"dot\",\"dog\",\"lot\",\"log\",\"cog\"]\n",
        "sol=Solution()\n",
        "print(sol.ladderLength(beginWord, endWord, wordList))"
      ],
      "metadata": {
        "colab": {
          "base_uri": "https://localhost:8080/"
        },
        "id": "prriKBHHpm9v",
        "outputId": "43256394-1116-491b-dafd-81c5c255c72c"
      },
      "execution_count": null,
      "outputs": [
        {
          "output_type": "stream",
          "name": "stdout",
          "text": [
            "5\n"
          ]
        }
      ]
    },
    {
      "cell_type": "markdown",
      "source": [
        "## string to integer\n",
        "Note:\n",
        "- make s=s.strip() as it does not do inline operation, rather it return modified string\n",
        "- always confirm that we proceed as long as we see digits, anything other than digit, break (or ask)\n",
        "- check for max and min value of integer (for positive $2^{31}-1$, for negative $ 2^{31}$"
      ],
      "metadata": {
        "id": "5v0xc7W2ILGp"
      }
    },
    {
      "cell_type": "code",
      "source": [
        "class Solution:\n",
        "    def myAtoi(self, s: str) -> int:\n",
        "        # remove whitespace trailing or begining\n",
        "        s=s.strip()\n",
        "\n",
        "        # determine sign\n",
        "        # ask a lot of questions, is there any other character before sign, is it valid [here no]\n",
        "        sign = 1  # default to positive\n",
        "\n",
        "        index = 0\n",
        "\n",
        "        if s[index] == '-':\n",
        "            sign = -1\n",
        "            index+=1\n",
        "        elif s[index]=='+':\n",
        "            sign=1\n",
        "            index+=1\n",
        "\n",
        "        # now process number\n",
        "        num = 0\n",
        "        INT_MAX, INT_MIN = 2**31 - 1, -(2**31)\n",
        "        # if anything other than digit found, just break and exit\n",
        "        while index < len(s) and s[index].isdigit():\n",
        "            num = num * 10 + int(s[index])\n",
        "            index += 1\n",
        "        # we can do early exist but ask\n",
        "        # after digit, if there is anything, we can discard but have to ask questions\n",
        "        # apply sign\n",
        "        result = sign * num\n",
        "\n",
        "        if result >= INT_MAX:\n",
        "            return INT_MAX\n",
        "        elif result <= INT_MIN:\n",
        "            return INT_MIN"
      ],
      "metadata": {
        "id": "CBMBGJssIOKU"
      },
      "execution_count": null,
      "outputs": []
    },
    {
      "cell_type": "markdown",
      "source": [
        "## Meeting room II"
      ],
      "metadata": {
        "id": "u37W9clQPNXa"
      }
    },
    {
      "cell_type": "code",
      "source": [
        "from typing import List\n",
        "import heapq\n",
        "class Solution:\n",
        "    def minMeetingRooms(self, intervals: List[List[int]]) -> int:\n",
        "        # in the min heap, we will keep the already running meetings end time\n",
        "        # min will make sure that first meeting that will end will be on the top\n",
        "\n",
        "        # step 1: sort all meetings first based on start time\n",
        "        intervals.sort(key=lambda x: x[0])\n",
        "\n",
        "        # step 2: create a heap\n",
        "        min_heap = []\n",
        "\n",
        "        # process meetings one at a time\n",
        "        for meeting_start, meeting_end in intervals:\n",
        "            # we are storing only the end time, so if current start time is greater than top meeting end time, we will have a room\n",
        "            # and that what we need\n",
        "            if min_heap and meeting_start >= min_heap[0]:\n",
        "                heapq.heappop(min_heap)  # no need to keep that meeting in the heap\n",
        "            heapq.heappush(min_heap, meeting_end)\n",
        "\n",
        "        # the size of the heap is the minimum number of room needed as we were not able to remove because of overlapping\n",
        "        return len(min_heap)\n",
        "#test 1\n",
        "intervals=[[0,30],[5,10],[15,20]]\n",
        "print(Solution().minMeetingRooms(intervals))\n",
        "#test 2\n",
        "print(Solution().minMeetingRooms([[7,10],[2,4]]))"
      ],
      "metadata": {
        "colab": {
          "base_uri": "https://localhost:8080/"
        },
        "id": "2s13nkwOPP7L",
        "outputId": "3a6350d0-3a82-4a4d-e4f1-6165e52343c0"
      },
      "execution_count": null,
      "outputs": [
        {
          "output_type": "stream",
          "name": "stdout",
          "text": [
            "2\n",
            "1\n"
          ]
        }
      ]
    },
    {
      "cell_type": "markdown",
      "source": [
        "## Longest palindrom substring"
      ],
      "metadata": {
        "id": "ojCn0ZJVhFsL"
      }
    },
    {
      "cell_type": "code",
      "source": [
        "class Solution:\n",
        "    def longestPalindrome(self, s: str) -> str:\n",
        "        # we can use dynamic programming but the best is using expand around the center\n",
        "        # better to implement that, no interviewer should ask to specifically implement dp, but it good to learn dp\n",
        "\n",
        "        if len(s) == 0:\n",
        "            return\n",
        "\n",
        "        start, end = 0, 0\n",
        "\n",
        "        def expand_around_center(s, left, right):\n",
        "            while left >= 0 and right < len(s) and s[left] == s[right]:\n",
        "                left -= 1\n",
        "                right += 1\n",
        "            # very imporant to decrease as it failed in the last test so, we have to shrink and then return\n",
        "            return left + 1, right - 1\n",
        "\n",
        "        for i in range(len(s)):\n",
        "            # odd length palindrome\n",
        "            l1, r1 = expand_around_center(s, i, i)\n",
        "            # even length palindrom\n",
        "            l2, r2 = expand_around_center(s, i, i + 1)\n",
        "\n",
        "            # we need to calculate maximum and the string as well\n",
        "            if r1 - l1 > end - start:\n",
        "                start, end = l1, r1\n",
        "            if r2 - l2 > end - start:\n",
        "                start, end = l2, r2\n",
        "        # finally return the max length\n",
        "        return s[start : end + 1]\n",
        "s=\"babad\"\n",
        "print(Solution().longestPalindrome(s))\n",
        "s=\"bb\"\n",
        "print(Solution().longestPalindrome(s))"
      ],
      "metadata": {
        "colab": {
          "base_uri": "https://localhost:8080/"
        },
        "id": "kr19yNZ_hIkU",
        "outputId": "6a53a3d2-6e73-4b86-b8c1-c84a7d5008bd"
      },
      "execution_count": null,
      "outputs": [
        {
          "output_type": "stream",
          "name": "stdout",
          "text": [
            "bab\n",
            "bb\n"
          ]
        }
      ]
    },
    {
      "cell_type": "code",
      "source": [
        "class Solution:\n",
        "    def longestPalindrome(self, s: str) -> str:\n",
        "        if s == \"\":\n",
        "            return s\n",
        "        if s == s[::-1]:\n",
        "            return s\n",
        "        max_len = 0\n",
        "        local_len = 0\n",
        "        start, end = 0, 0\n",
        "\n",
        "        for i in range(len(s)):\n",
        "            len1 = self.expandAroundCenter(i, i + 1, s)\n",
        "            len2 = self.expandAroundCenter(i, i, s)\n",
        "            local_len = max(len1, len2)\n",
        "            # if len is even, like 6, 5/2 = 2, if odd, 5/2=2\n",
        "            # for end it does not need to change as it starts always\n",
        "            # with the character at that place (s) or ss\n",
        "            if local_len > max_len:\n",
        "                start = i - ((local_len - 1) // 2)\n",
        "                end = i + (local_len // 2)\n",
        "                max_len = local_len\n",
        "        return s[int(start) : int(end + 1)]\n",
        "\n",
        "    def expandAroundCenter(self, left: int, right: int, s: str) -> int:\n",
        "        length = 0\n",
        "        # print(left, right)\n",
        "        # work with an example  sabssbad, if left =2, right=5, len = 5-2 + 1 = 4\n",
        "        # if its sabsbad, left 2, right is 4, len = 4-2 = 2 + 1\n",
        "        while left >= 0 and right < len(s) and s[left] == s[right]:\n",
        "            length = (right - left) + 1\n",
        "            right = right + 1\n",
        "            left = left - 1\n",
        "        return length\n",
        "s=\"babad\"\n",
        "print(Solution().longestPalindrome(s))\n",
        "s=\"bb\"\n",
        "print(Solution().longestPalindrome(s))"
      ],
      "metadata": {
        "colab": {
          "base_uri": "https://localhost:8080/"
        },
        "id": "kyQaWDD_iMT0",
        "outputId": "8e04ce58-e33d-4b6a-af2f-c99a46e82481"
      },
      "execution_count": null,
      "outputs": [
        {
          "output_type": "stream",
          "name": "stdout",
          "text": [
            "bab\n",
            "bb\n"
          ]
        }
      ]
    },
    {
      "cell_type": "markdown",
      "source": [
        "## correctness of complete binary tree\n",
        "- Option 1: we can count total node and then again traverse to child by (node.left, index*2+1, total_node) and (node.right, index*2+2, total node), in the condition we can just check if index>=total node when index start at 0\n",
        "- Option 2: We can add to an array level by leve nodes and then finally check if any none is present\n",
        "- Option 3: we can use a flag to check if we encountered null before in bfs and then if we encounter non null node then return false"
      ],
      "metadata": {
        "id": "9Q69oM11Rc1a"
      }
    },
    {
      "cell_type": "code",
      "source": [
        "# Definition for a binary tree node.\n",
        "from typing import Optional\n",
        "from collections import deque\n",
        "class TreeNode:\n",
        "    def __init__(self, val=0, left=None, right=None):\n",
        "        self.val = val\n",
        "        self.left = left\n",
        "        self.right = right\n",
        "class Solution:\n",
        "    def isCompleteTree(self, root: Optional[TreeNode]) -> bool:\n",
        "        if not root:\n",
        "            return True\n",
        "\n",
        "        # define queue for bfs and try put a flag variable if we see a null\n",
        "\n",
        "        queue = deque([root])\n",
        "        encountered_null=False\n",
        "\n",
        "        while queue:\n",
        "            node = queue.popleft()\n",
        "\n",
        "            if node:\n",
        "                # encountering non null after seeing null is not a valid\n",
        "                if encountered_null:\n",
        "                    return False\n",
        "                queue.append(node.left)\n",
        "                queue.append(node.right)\n",
        "            else:\n",
        "                encountered_null=True\n",
        "        return True\n",
        "# Example usage:\n",
        "root = TreeNode(1)\n",
        "root.left = TreeNode(2)\n",
        "root.right = TreeNode(3)\n",
        "root.left.left = TreeNode(4)\n",
        "root.left.right = TreeNode(5)\n",
        "root.right.left = TreeNode(6)\n",
        "print(Solution().isCompleteTree(root)) # Output: True\n",
        "# Example usage:\n",
        "root = TreeNode(1)\n",
        "root.left = TreeNode(2)\n",
        "root.right = TreeNode(3)\n",
        "root.left.left = TreeNode(4)\n",
        "# root.left.right = TreeNode(5)\n",
        "root.right.left = TreeNode(6)\n",
        "print(Solution().isCompleteTree(root)) # Output: True"
      ],
      "metadata": {
        "colab": {
          "base_uri": "https://localhost:8080/"
        },
        "id": "V5P2xRB8SJqm",
        "outputId": "7dca24a1-b797-4fad-8bca-0cc7cbcccebe"
      },
      "execution_count": 5,
      "outputs": [
        {
          "output_type": "stream",
          "name": "stdout",
          "text": [
            "True\n",
            "False\n"
          ]
        }
      ]
    },
    {
      "cell_type": "markdown",
      "source": [
        "## Add operations"
      ],
      "metadata": {
        "id": "q1KI9Xo7k2uv"
      }
    },
    {
      "cell_type": "code",
      "source": [
        "from typing import List\n",
        "class Solution:\n",
        "    def addOperators(self, num: str, target: int) -> List[str]:\n",
        "        results = []\n",
        "        if num:\n",
        "            self.dfs(num, target, 0, 0, 0, 0, [], results)\n",
        "        return results\n",
        "\n",
        "    def dfs(self, num, target, index, prev_operand, current_operand, value, expr, r):\n",
        "        if index == len(num):\n",
        "            if value == target and current_operand == 0:\n",
        "                r.append(\"\".join(expr))\n",
        "            return\n",
        "\n",
        "        # Start building the current operand\n",
        "        current_operand = current_operand * 10 + int(num[index])\n",
        "        str_op = str(current_operand)\n",
        "\n",
        "        # Skip cases where the number has leading zeros\n",
        "        if current_operand > 0:\n",
        "            self.dfs(num, target, index + 1, prev_operand, current_operand, value, expr, r)\n",
        "\n",
        "        if expr:\n",
        "            # Addition\n",
        "            expr.append('+')\n",
        "            expr.append(str_op)\n",
        "            self.dfs(num, target, index + 1, current_operand, 0, value + current_operand, expr, r)\n",
        "            expr.pop()\n",
        "            expr.pop()\n",
        "\n",
        "            # Subtraction\n",
        "            expr.append('-')\n",
        "            expr.append(str_op)\n",
        "            self.dfs(num, target, index + 1, -current_operand, 0, value - current_operand, expr, r)\n",
        "            expr.pop()\n",
        "            expr.pop()\n",
        "\n",
        "            # Multiplication\n",
        "            expr.append('*')\n",
        "            expr.append(str_op)\n",
        "            self.dfs(num, target, index + 1, current_operand * prev_operand, 0,\n",
        "                value - prev_operand + (current_operand * prev_operand), expr, r)\n",
        "            expr.pop()\n",
        "            expr.pop()\n",
        "        else:\n",
        "          # first operator case\n",
        "          expr.append(str_op)\n",
        "          self.dfs(num, target, index + 1, current_operand, 0, value + current_operand, expr, r)\n",
        "          expr.pop()\n",
        "\n",
        "\n",
        "\n",
        "# Example usage:\n",
        "num = \"123\"\n",
        "target = 6\n",
        "print(Solution().addOperators(num, target))  # Output: [\"1+2+3\", \"1*2*3\"]"
      ],
      "metadata": {
        "colab": {
          "base_uri": "https://localhost:8080/"
        },
        "id": "EeJ2IEtck5HO",
        "outputId": "ee3b8188-898d-4765-d920-966a2f5eaef7"
      },
      "execution_count": 7,
      "outputs": [
        {
          "output_type": "stream",
          "name": "stdout",
          "text": [
            "['1+2+3', '1*2*3']\n"
          ]
        }
      ]
    },
    {
      "cell_type": "markdown",
      "source": [
        "## Group shifting\n",
        "We can use hash but two ways\n",
        "- we can find successive character difference like abc-->bcd as (a-b, b-c), (b-c, c-d) and the key becomes tuple(\"1\",\"1\"), we can also convert this back to character by using adding  ord('a') back to the number, but make sure to apply module to handle circular case like zab, abc\n",
        "- option 2: we can calculate cannonical form by calculating shifting from first character, so abc--> a is shifted 0 from a, b is shifted 1 and c is 2, so as for bcd where b is 0 from b, c is 1 from b and d is 2 from b\n"
      ],
      "metadata": {
        "id": "67cKtZuywxSQ"
      }
    },
    {
      "cell_type": "code",
      "source": [
        "from collections import defaultdict\n",
        "\n",
        "def groupStrings(strings):\n",
        "    def get_canonical_form(s):\n",
        "        offset = ord(s[0]) - ord('a')\n",
        "        canonical_form = ''.join(chr((ord(char) - offset) % 26 + ord('a')) for char in s)\n",
        "        return canonical_form\n",
        "\n",
        "    groups = defaultdict(list)\n",
        "\n",
        "    for s in strings:\n",
        "        canonical_form = get_canonical_form(s)\n",
        "        groups[canonical_form].append(s)\n",
        "\n",
        "    return list(groups.values())\n",
        "\n",
        "# Example usage:\n",
        "strings = [\"abc\", \"bcd\", \"xyz\", \"yza\", \"acef\", \"bc\", \"za\", \"ba\"]\n",
        "print(groupStrings(strings))\n"
      ],
      "metadata": {
        "colab": {
          "base_uri": "https://localhost:8080/"
        },
        "id": "t7oThkniwzAT",
        "outputId": "b0e1926f-cfe0-4efa-959b-03ed4bcf33a7"
      },
      "execution_count": 1,
      "outputs": [
        {
          "output_type": "stream",
          "name": "stdout",
          "text": [
            "[['abc', 'bcd', 'xyz', 'yza'], ['acef'], ['bc', 'za'], ['ba']]\n"
          ]
        }
      ]
    },
    {
      "cell_type": "code",
      "source": [
        "from typing import List\n",
        "from collections import defaultdict\n",
        "class Solution:\n",
        "    def groupStrings(self, strings: List[str]) -> List[List[str]]:\n",
        "\n",
        "        # using relative shifting\n",
        "\n",
        "        def cannonical_form(s):\n",
        "            key=[]\n",
        "            for a, b in zip(s, s[1:]):\n",
        "                key.append(chr((ord(b)-ord(a)) % 26 + ord('a')))\n",
        "            return ''.join(key)\n",
        "\n",
        "        group=defaultdict(list)\n",
        "\n",
        "        for s in strings:\n",
        "            canno_form = cannonical_form(s)\n",
        "            group[canno_form].append(s)\n",
        "\n",
        "        return list(group.values())\n",
        "\n",
        "# Example usage:\n",
        "strings = [\"abc\", \"bcd\", \"xyz\", \"yza\", \"acef\", \"bc\", \"za\", \"ba\"]\n",
        "print(groupStrings(strings))"
      ],
      "metadata": {
        "colab": {
          "base_uri": "https://localhost:8080/"
        },
        "id": "YZ0d7lXdzLNg",
        "outputId": "19729ac8-faa3-4b41-e1a0-568bbeb6c4c7"
      },
      "execution_count": 3,
      "outputs": [
        {
          "output_type": "stream",
          "name": "stdout",
          "text": [
            "[['abc', 'bcd', 'xyz', 'yza'], ['acef'], ['bc', 'za'], ['ba']]\n"
          ]
        }
      ]
    },
    {
      "cell_type": "markdown",
      "source": [
        "## Random pick index\n",
        "### Option 1: using hashing O(n) memory\n",
        "To implement the `Solution` class to randomly pick an index of a given target number from an array `nums`, we can use a dictionary to store the indices of each number. This way, we can efficiently retrieve the list of indices for the target number and randomly select one.\n",
        "\n",
        "Here's the implementation in Python:\n",
        "\n",
        "### Implementation\n",
        "\n",
        "```python\n",
        "import random\n",
        "from collections import defaultdict\n",
        "\n",
        "class Solution:\n",
        "    def __init__(self, nums):\n",
        "        self.num_to_indices = defaultdict(list)\n",
        "        for index, num in enumerate(nums):\n",
        "            self.num_to_indices[num].append(index)\n",
        "\n",
        "    def pick(self, target):\n",
        "        indices = self.num_to_indices[target]\n",
        "        return random.choice(indices)\n",
        "\n",
        "# Example usage:\n",
        "nums = [1, 2, 3, 3, 3]\n",
        "solution = Solution(nums)\n",
        "print(solution.pick(3))  # Output: Random index of 3 in nums (e.g., 2, 3, or 4)\n",
        "print(solution.pick(1))  # Output: 0\n",
        "```\n",
        "\n",
        "### Explanation\n",
        "\n",
        "1. **Initialization (`__init__` method):**\n",
        "   - Initialize a dictionary `num_to_indices` to store the indices of each number in the array.\n",
        "   - Iterate through the array and populate the dictionary with the indices of each number.\n",
        "\n",
        "2. **Pick Method (`pick` method):**\n",
        "   - Retrieve the list of indices for the given target number from the dictionary.\n",
        "   - Use `random.choice` to select a random index from the list of indices.\n",
        "\n",
        "This approach ensures that we can efficiently pick a random index of the target number with equal probability. Let me know if you have any questions or need further assistance!\n",
        "\n",
        "### Option2 Using reservoire sampling\n",
        "\n",
        "Absolutely! Reservoir sampling is a useful technique when you need to randomly select an item from a stream or array of unknown or very large size. In this case, we can use reservoir sampling to select a random index for the given target number from the array. Here's how you can implement it:\n",
        "\n",
        "### Implementation\n",
        "\n",
        "```python\n",
        "import random\n",
        "\n",
        "class Solution:\n",
        "    def __init__(self, nums):\n",
        "        self.nums = nums\n",
        "\n",
        "    def pick(self, target):\n",
        "        count = 0\n",
        "        chosen_index = -1\n",
        "\n",
        "        for i, num in enumerate(self.nums):\n",
        "            if num == target:\n",
        "                count += 1\n",
        "                # Randomly select the current index with probability 1/count\n",
        "                if random.randint(1, count) == 1:\n",
        "                    chosen_index = i\n",
        "        \n",
        "        return chosen_index\n",
        "\n",
        "# Example usage:\n",
        "nums = [1, 2, 3, 3, 3]\n",
        "solution = Solution(nums)\n",
        "print(solution.pick(3))  # Output: Random index of 3 in nums (e.g., 2, 3, or 4)\n",
        "print(solution.pick(1))  # Output: 0\n",
        "```\n",
        "\n",
        "### Explanation\n",
        "\n",
        "1. **Initialization (`__init__` method):**\n",
        "   - Store the array `nums`.\n",
        "\n",
        "2. **Pick Method (`pick` method):**\n",
        "   - Initialize `count` to track the number of occurrences of the target.\n",
        "   - Initialize `chosen_index` to store the randomly selected index.\n",
        "   - Iterate through the array. For each occurrence of the target:\n",
        "     - Increment the count.\n",
        "     - Randomly select the current index with a probability of `1/count`.\n",
        "     - If selected, update `chosen_index` to the current index.\n",
        "   - Return the `chosen_index` after the iteration.\n",
        "\n",
        "This approach ensures that each index of the target number is selected with equal probability. Let me know if you have any questions or need further assistance!"
      ],
      "metadata": {
        "id": "7ciJ5EjU1bvj"
      }
    },
    {
      "cell_type": "markdown",
      "source": [
        "## Merge string alternatively\n",
        "- main key is destination index selection which we can do by p1+p2"
      ],
      "metadata": {
        "id": "o7h30Nhx4tkM"
      }
    },
    {
      "cell_type": "code",
      "source": [
        "class Solution:\n",
        "    def mergeAlternately(self, word1: str, word2: str) -> str:\n",
        "        result = [\"\"] * (len(word1)+len(word2))\n",
        "\n",
        "        i, j = 0, 0\n",
        "        while i < len(word1) and j < len(word2):\n",
        "            result[i+j] = word1[i]\n",
        "            i=i+1\n",
        "            result[i+j]=word2[j]\n",
        "            j=j+1\n",
        "\n",
        "        if i < len(word1):\n",
        "            result.extend(word1[i:])\n",
        "        if j < len(word2):\n",
        "            result.extend(word2[j:])\n",
        "        return \"\".join(x for x in result)\n",
        "#test 1\n",
        "print(Solution().mergeAlternately(\"abc\",\"pqr\"))\n",
        "#test 2\n",
        "print(Solution().mergeAlternately(\"ab\",\"pqrs\"))"
      ],
      "metadata": {
        "colab": {
          "base_uri": "https://localhost:8080/"
        },
        "id": "DoD4bEe841gY",
        "outputId": "9c2ad2fd-a188-4914-bccb-1a3ea0f6ece7"
      },
      "execution_count": 4,
      "outputs": [
        {
          "output_type": "stream",
          "name": "stdout",
          "text": [
            "apbqcr\n",
            "apbqrs\n"
          ]
        }
      ]
    },
    {
      "cell_type": "markdown",
      "source": [
        "## Continuous subarray sum\n",
        "  "
      ],
      "metadata": {
        "id": "XSsh7zLc88d2"
      }
    },
    {
      "cell_type": "code",
      "source": [
        "class Solution:\n",
        "    def checkSubarraySum(self, nums: List[int], k: int) -> bool:\n",
        "        # hash map based, read the editorial\n",
        "        # [1,2,3], k=6\n",
        "        # [1,2,3], k=3\n",
        "        # [23, 2,4,6,7], k=6\n",
        "        # {0:-1, 1:0,3:1,6:2}, but search for s-k, once s=6, k=6, we found -1, return True\n",
        "        # checkout this use cases [5,0,0,0], ask this question as leetcode there is a sentence\n",
        "        # An integer x is a multiple of k if there exists an integer n such that x = n * k. 0 is always a multiple of k.\n",
        "        # if if we update index everytime even if it present, then index > 1 will never materialized\n",
        "        # if index part is not there, then this does not matter\n",
        "\n",
        "        hashMap={0:-1}\n",
        "\n",
        "        s=0\n",
        "        for index, num in enumerate(nums):\n",
        "            s=s+num\n",
        "            key=s%k\n",
        "\n",
        "            if key in hashMap and index-hashMap[key]>1:\n",
        "                return True\n",
        "            elif key not in hashMap:\n",
        "                hashMap[s%k]=index\n",
        "\n",
        "        return False\n",
        "# Test cases\n",
        "a=[23,2,4,6,7]\n",
        "k=6\n",
        "print(Solution().checkSubarraySum(a, k))\n",
        "a=[23,2,6,4,7]\n",
        "k=6\n",
        "print(Solution().checkSubarraySum(a, k))\n",
        "a=[23,2,6,4,7]\n",
        "k=13\n",
        "print(Solution().checkSubarraySum(a, k))\n",
        "a=[23,2,4,6,6]\n",
        "k=7\n",
        "print(Solution().checkSubarraySum(a, k))\n",
        "a=[5,0,0,0]\n",
        "# 0+0= and is divisible by k\n",
        "k=3\n",
        "print(Solution().checkSubarraySum(a, k))"
      ],
      "metadata": {
        "colab": {
          "base_uri": "https://localhost:8080/"
        },
        "id": "740Bt42l8_tw",
        "outputId": "11336c78-90b5-4126-db3f-d5b525d76a9c"
      },
      "execution_count": 6,
      "outputs": [
        {
          "output_type": "stream",
          "name": "stdout",
          "text": [
            "True\n",
            "True\n",
            "False\n",
            "True\n",
            "True\n"
          ]
        }
      ]
    },
    {
      "cell_type": "markdown",
      "source": [
        "## Letter combination of phone"
      ],
      "metadata": {
        "id": "TyBxNrc8YyU3"
      }
    },
    {
      "cell_type": "code",
      "source": [
        "class Solution:\n",
        "    def letterCombinations(self, digits: str) -> List[str]:\n",
        "        if not digits:\n",
        "            return []\n",
        "\n",
        "        phone_map = {\n",
        "            \"2\": \"abc\",\n",
        "            \"3\": \"def\",\n",
        "            \"4\": \"ghi\",\n",
        "            \"5\": \"jkl\",\n",
        "            \"6\": \"mno\",\n",
        "            \"7\": \"pqrs\",\n",
        "            \"8\": \"tuv\",\n",
        "            \"9\": \"wxyz\",\n",
        "        }\n",
        "\n",
        "        def backtrack(index, path):\n",
        "            if index == len(digits):\n",
        "                combination.append(\"\".join(path))\n",
        "                return\n",
        "\n",
        "            possible_letters = phone_map[digits[index]]\n",
        "\n",
        "            for letter in possible_letters:\n",
        "                path.append(letter)\n",
        "                backtrack(index + 1, path)\n",
        "                path.pop()\n",
        "\n",
        "        combination = []\n",
        "        path = []\n",
        "        backtrack(0, path)\n",
        "        return combination\n",
        "\n",
        "#test 1\n",
        "print(Solution().letterCombinations(\"23\"))\n",
        "#test 2\n",
        "print(Solution().letterCombinations(\"\"))\n",
        "#test 3\n",
        "print(Solution().letterCombinations(\"2\"))"
      ],
      "metadata": {
        "colab": {
          "base_uri": "https://localhost:8080/"
        },
        "id": "UIahn_xuY1jc",
        "outputId": "eae8e3fd-6cdd-4bd8-91d3-eca66a6ba6d3"
      },
      "execution_count": 7,
      "outputs": [
        {
          "output_type": "stream",
          "name": "stdout",
          "text": [
            "['ad', 'ae', 'af', 'bd', 'be', 'bf', 'cd', 'ce', 'cf']\n",
            "[]\n",
            "['a', 'b', 'c']\n"
          ]
        }
      ]
    },
    {
      "cell_type": "markdown",
      "source": [
        "## Word break problem"
      ],
      "metadata": {
        "id": "NZZWTz5fawl_"
      }
    },
    {
      "cell_type": "code",
      "source": [
        "def wordBreak(s, wordDict):\n",
        "    word_set = set(wordDict)\n",
        "    dp = [False] * (len(s) + 1)\n",
        "    dp[0] = True\n",
        "\n",
        "    for i in range(1, len(s) + 1):\n",
        "        for j in range(i):\n",
        "            if dp[j] and s[j:i] in word_set:\n",
        "                dp[i] = True\n",
        "                break\n",
        "\n",
        "    return dp[len(s)]\n",
        "\n",
        "# Example usage:\n",
        "s = \"leetcode\"\n",
        "wordDict = [\"leet\", \"code\"]\n",
        "print(wordBreak(s, wordDict))  # Output: True\n",
        "\n",
        "s = \"applepenapple\"\n",
        "wordDict = [\"apple\", \"pen\"]\n",
        "print(wordBreak(s, wordDict))  # Output: True\n",
        "\n",
        "s = \"catsandog\"\n",
        "wordDict = [\"cats\", \"dog\", \"sand\", \"and\", \"cat\"]\n",
        "print(wordBreak(s, wordDict))  # Output: False"
      ],
      "metadata": {
        "colab": {
          "base_uri": "https://localhost:8080/"
        },
        "id": "El-Q76fJaz1x",
        "outputId": "588f0636-b63d-4203-fc53-dadb2af3446d"
      },
      "execution_count": 8,
      "outputs": [
        {
          "output_type": "stream",
          "name": "stdout",
          "text": [
            "True\n",
            "True\n",
            "False\n"
          ]
        }
      ]
    },
    {
      "cell_type": "code",
      "source": [
        "def wordBreak(s, wordDict):\n",
        "  word_set = set(wordDict)\n",
        "\n",
        "  def dfs(t):\n",
        "    if not t:\n",
        "      return True\n",
        "    if t in memo:\n",
        "      return memo[t]\n",
        "    for i in range(1, len(t)+1):\n",
        "      if t[:i] in word_set and dfs(t[i:]):\n",
        "        memo[t] = True\n",
        "        return True\n",
        "    return False\n",
        "\n",
        "  memo = {}\n",
        "  return dfs(s)\n",
        "# Example usage:\n",
        "s = \"leetcode\"\n",
        "wordDict = [\"leet\", \"code\"]\n",
        "print(wordBreak(s, wordDict))  # Output: True\n",
        "\n",
        "s = \"applepenapple\"\n",
        "wordDict = [\"apple\", \"pen\"]\n",
        "print(wordBreak(s, wordDict))  # Output: True\n",
        "\n",
        "s = \"catsandog\"\n",
        "wordDict = [\"cats\", \"dog\", \"sand\", \"and\", \"cat\"]\n",
        "print(wordBreak(s, wordDict))  # Output: False"
      ],
      "metadata": {
        "colab": {
          "base_uri": "https://localhost:8080/"
        },
        "id": "bPlNP3zFa4iK",
        "outputId": "9016efdc-4cc2-4163-cfc8-15e8a6e9ad84"
      },
      "execution_count": 10,
      "outputs": [
        {
          "output_type": "stream",
          "name": "stdout",
          "text": [
            "True\n",
            "True\n",
            "False\n"
          ]
        }
      ]
    },
    {
      "cell_type": "code",
      "source": [
        "# best algorithm will be using memorization and jumping with word lengths instead of checking every substring\n",
        "# also it starts from end and avoid substring process. if we start with its still fine\n",
        "class Solution:\n",
        "    def wordBreak(self, s: str, wordDict: List[str]) -> bool:\n",
        "    # def wordBreak(s, wordDict):\n",
        "        memo = {}\n",
        "\n",
        "        def dp(i):\n",
        "            if i < 0:\n",
        "                return True\n",
        "            if i in memo:\n",
        "                return memo[i]\n",
        "\n",
        "            for word in wordDict:\n",
        "                if s[i - len(word) + 1 : i + 1] == word and dp(i - len(word)):\n",
        "                    memo[i] = True\n",
        "                    return True\n",
        "\n",
        "            memo[i] = False\n",
        "            return False\n",
        "\n",
        "        return dp(len(s) - 1)\n",
        "\n",
        "# Example usage:\n",
        "s = \"leetcode\"\n",
        "wordDict = [\"leet\", \"code\"]\n",
        "print(Solution().wordBreak(s, wordDict))  # Output: True\n",
        "\n",
        "s = \"applepenapple\"\n",
        "wordDict = [\"apple\", \"pen\"]\n",
        "print(Solution().wordBreak(s, wordDict))  # Output: True\n",
        "\n",
        "s = \"catsandog\"\n",
        "wordDict = [\"cats\", \"dog\", \"sand\", \"and\", \"cat\"]\n",
        "print(Solution().wordBreak(s, wordDict))  # Output: False\n",
        "\n"
      ],
      "metadata": {
        "id": "3-p0ht0meGAc"
      },
      "execution_count": null,
      "outputs": []
    },
    {
      "cell_type": "code",
      "source": [
        "# we can also starts from beginning but the chance of memo[i]=True is less\n",
        "# because if we reach at some index i and then find whether memo[i] from i to end already true, we dont need to calculate\n",
        "# and if we filled this from end to start, the chance of filling up right side is higher.\n",
        "# still the big O(n.m.k) is the state of the dp, as we are not calculating each location rather each possible state\n",
        "# once we are in a state, we go over all the words in the dictionary and then we perform substring comparison which has average size k\n",
        "class Solution:\n",
        "    def wordBreak(self, s: str, wordDict: List[str]) -> bool:\n",
        "    # def wordBreak(s, wordDict):\n",
        "        memo = {}\n",
        "\n",
        "        def dp(i):\n",
        "            if i >= len(s):\n",
        "                return True\n",
        "            if i in memo:\n",
        "                return memo[i]\n",
        "\n",
        "            for word in wordDict:\n",
        "                if s[i:i+len(word)] == word and dp(i + len(word)):\n",
        "                    memo[i] = True\n",
        "                    return True\n",
        "\n",
        "            memo[i] = False\n",
        "            return False\n",
        "\n",
        "        return dp(0)\n",
        "\n",
        "# Example usage:\n",
        "s = \"leetcode\"\n",
        "wordDict = [\"leet\", \"code\"]\n",
        "print(Solution().wordBreak(s, wordDict))  # Output: True\n",
        "\n",
        "s = \"applepenapple\"\n",
        "wordDict = [\"apple\", \"pen\"]\n",
        "print(Solution().wordBreak(s, wordDict))  # Output: True\n",
        "\n",
        "s = \"catsandog\"\n",
        "wordDict = [\"cats\", \"dog\", \"sand\", \"and\", \"cat\"]\n",
        "print(Solution().wordBreak(s, wordDict))  # Output: False"
      ],
      "metadata": {
        "id": "NtCSsdgfflB9"
      },
      "execution_count": null,
      "outputs": []
    }
  ]
}