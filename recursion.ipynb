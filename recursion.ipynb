{
  "nbformat": 4,
  "nbformat_minor": 0,
  "metadata": {
    "colab": {
      "provenance": [],
      "include_colab_link": true
    },
    "kernelspec": {
      "name": "python3",
      "display_name": "Python 3"
    },
    "language_info": {
      "name": "python"
    }
  },
  "cells": [
    {
      "cell_type": "markdown",
      "metadata": {
        "id": "view-in-github",
        "colab_type": "text"
      },
      "source": [
        "<a href=\"https://colab.research.google.com/github/mahbubcsedu/interviewcoding/blob/main/recursion.ipynb\" target=\"_parent\"><img src=\"https://colab.research.google.com/assets/colab-badge.svg\" alt=\"Open In Colab\"/></a>"
      ]
    },
    {
      "cell_type": "code",
      "metadata": {
        "colab": {
          "base_uri": "https://localhost:8080/"
        },
        "id": "FMAbpWPC_Y5p",
        "outputId": "20b4a6bf-ecac-4bd1-d608-2c0b0f1a0cc0"
      },
      "source": [
        "# without helper function\n",
        "def generate_power_set(input_set):\n",
        "\n",
        "  def backtrack(idx, temp):\n",
        "      if idx == len(input_set):\n",
        "         res.append(list(temp))\n",
        "         return\n",
        "      # recursion tree has two path, one with the current item picked and another is current item skipped\n",
        "      backtrack(idx+1, temp)\n",
        "      temp = temp + [input_set[idx]]\n",
        "      backtrack(idx + 1, temp)\n",
        "\n",
        "  res = []\n",
        "  backtrack(0,[])\n",
        "\n",
        "  return res\n",
        "\n",
        "\n",
        "res = generate_power_set(['a','b'])\n",
        "print(res)\n"
      ],
      "execution_count": null,
      "outputs": [
        {
          "output_type": "stream",
          "name": "stdout",
          "text": [
            "b\n",
            "a\n",
            "b\n",
            "[[], ['b'], ['a'], ['a', 'b']]\n"
          ]
        }
      ]
    },
    {
      "cell_type": "markdown",
      "metadata": {
        "id": "dkDay7Xp01eD"
      },
      "source": [
        "The recursion will be easy to visualize if we use smaller input. For input [a,b] the event is as follows\n",
        "* ds1(0+1, [])  -> []\n",
        "* ds1(1+1, [])  -> []\n",
        "* res ->  [[]]\n",
        "* ds2(1+1, [b])\n",
        "* res -> [[]]\n",
        "* res -> [[], ['b']]\n",
        "* ds2(0+1, a)\n",
        "* res -> [[], ['b']]\n",
        "* ds(1+1, a)\n",
        "* res -> [[], ['b']]\n",
        "* res -> [[], ['b'], ['a']]\n",
        "* ds2(1+1, a b)\n",
        "* res -> [[], ['b'], ['a']]\n",
        "* res -> [[], ['b'], ['a'], ['a', 'b']]\n",
        "\n",
        "\n"
      ]
    },
    {
      "cell_type": "code",
      "metadata": {
        "colab": {
          "base_uri": "https://localhost:8080/"
        },
        "id": "iGKkKZ0e6Tea",
        "outputId": "992fd01f-c005-43f6-a12a-7890b4e0a2ca"
      },
      "source": [
        "import math\n",
        "\n",
        "def generate_power_set(S):\n",
        "  power_set = []\n",
        "  # loop over [0, 2^n-1]\n",
        "  for int_for_subset in range(1 << len(S)):\n",
        "    bit_array = int_for_subset\n",
        "    subset = []\n",
        "    # print(bit_array)\n",
        "    while bit_array:\n",
        "      # print(int(math.log2(bit_array & ~(bit_array-1))))\n",
        "      subset.append(S[int(math.log2(bit_array & ~(bit_array-1)))])\n",
        "      bit_array &=bit_array-1\n",
        "    # print(subset)\n",
        "    power_set.append(subset)\n",
        "  return power_set\n",
        "\n",
        "res= generate_power_set([1,2,3])\n",
        "print(res, '')"
      ],
      "execution_count": null,
      "outputs": [
        {
          "output_type": "stream",
          "name": "stdout",
          "text": [
            "[[], [1], [2], [1, 2], [3], [1, 3], [2, 3], [1, 2, 3]] \n"
          ]
        }
      ]
    },
    {
      "cell_type": "code",
      "source": [
        "from typing import List\n",
        "def subsets( nums: List[int]) -> List[List[int]]:\n",
        "        n = len(nums)\n",
        "        output = []\n",
        "        \n",
        "        # if we have a set of 2, then we need only 2^2 to 2^3 or [4,5,6,7] or only 4 possible subsets. 0 to 2^2-1 those only be represnted by 2 bits [00, 01,10,11]\n",
        "        for i in range(1 << len(nums)):\n",
        "            # generate bitmask, from 0..00 to 1..11\n",
        "            # bin(i) is the binary representation of i\n",
        "            bitmask = str(bin(i)[2:]).zfill(len(nums))\n",
        "\n",
        "            # print(i, str(bin(i)[3:]).zfill(len(nums)))\n",
        "            \n",
        "            # append subset corresponding to that bitmask\n",
        "            output.append([nums[j] for j in range(n) if bitmask[j] == '1'])\n",
        "        \n",
        "        return output\n",
        "subsets([1,2,3])"
      ],
      "metadata": {
        "colab": {
          "base_uri": "https://localhost:8080/"
        },
        "id": "ViST7wClSj0V",
        "outputId": "72f1baec-804b-4792-85b8-6f659174720a"
      },
      "execution_count": null,
      "outputs": [
        {
          "output_type": "stream",
          "name": "stdout",
          "text": [
            "0 000\n",
            "1 000\n",
            "2 000\n",
            "3 001\n",
            "4 000\n",
            "5 001\n",
            "6 010\n",
            "7 011\n"
          ]
        },
        {
          "output_type": "execute_result",
          "data": {
            "text/plain": [
              "[[], [3], [2], [2, 3], [1], [1, 3], [1, 2], [1, 2, 3]]"
            ]
          },
          "metadata": {},
          "execution_count": 22
        }
      ]
    },
    {
      "cell_type": "code",
      "metadata": {
        "colab": {
          "base_uri": "https://localhost:8080/"
        },
        "id": "4RMEOHYg82uo",
        "outputId": "283bb05c-e7fc-444d-f754-f92ae04a8c9a"
      },
      "source": [
        "# using helper function\n",
        "def generate_power_set(S):\n",
        "  \n",
        "  # print(len(S))\n",
        "  def helper(start, temp, ps):\n",
        "    # print(start)\n",
        "    # if(start==len(S)):\n",
        "    # print(ps)\n",
        "    ps.append(list(temp)) # append should be list temp is list and it will append to ps list\n",
        "    # print(ps)\n",
        "      # return\n",
        "\n",
        "    for i in range(start, len(S)):\n",
        "      temp.append(S[i])\n",
        "      helper(i+1, temp, ps)\n",
        "      temp.pop()\n",
        "  # return \n",
        "  ps = []\n",
        "  helper(0,[], ps)\n",
        "  return ps\n",
        "res= generate_power_set(['a','b','c'])\n",
        "# print(res)\n",
        "print(sorted(res,key=len))"
      ],
      "execution_count": null,
      "outputs": [
        {
          "output_type": "stream",
          "name": "stdout",
          "text": [
            "[[], ['a'], ['a', 'b'], ['a', 'b', 'c'], ['a', 'c'], ['b'], ['b', 'c'], ['c']]\n",
            "[[], ['a'], ['b'], ['c'], ['a', 'b'], ['a', 'c'], ['b', 'c'], ['a', 'b', 'c']]\n"
          ]
        }
      ]
    },
    {
      "cell_type": "code",
      "metadata": {
        "colab": {
          "base_uri": "https://localhost:8080/"
        },
        "id": "84fsDNzbWvJ2",
        "outputId": "cdd7f77f-749d-4b4c-9a53-6e5717290314"
      },
      "source": [
        "# using helper function\n",
        "def combination(S, k):\n",
        "  \n",
        "  # print(len(S))\n",
        "  # we can use idx to keep it a pattern instead of giving different name and then get confused about the backtrack\n",
        "  def helper(start, temp, ps, k):\n",
        "    # print(start)\n",
        "    # if(start==len(S)):\n",
        "    # print(ps)\n",
        "    if len(temp) == k:\n",
        "      ps.append(list(temp)) # append should be list temp is list and it will append to ps list\n",
        "      return\n",
        "\n",
        "    # print(ps)\n",
        "      # return\n",
        "\n",
        "    for i in range(start, len(S)):\n",
        "      temp.append(S[i])\n",
        "      helper(i+1, temp, ps, k)\n",
        "      temp.pop()\n",
        "  # return \n",
        "  ps = []\n",
        "  helper(0,[], ps, k)\n",
        "  return ps\n",
        "res= combination(['a','b','c'], 2)\n",
        "# print(res)\n",
        "print(sorted(res,key=len))"
      ],
      "execution_count": null,
      "outputs": [
        {
          "output_type": "stream",
          "name": "stdout",
          "text": [
            "[['a', 'b'], ['a', 'c'], ['b', 'c']]\n"
          ]
        }
      ]
    },
    {
      "cell_type": "code",
      "metadata": {
        "colab": {
          "base_uri": "https://localhost:8080/"
        },
        "id": "wl9DBo2YYE1U",
        "outputId": "cbcc5f90-5f9e-4811-fd1e-4deadfcab232"
      },
      "source": [
        "def combinations(n, k):\n",
        "    def directed_combinations(offset, partial_combination):\n",
        "        if len(partial_combination) == k:\n",
        "            result.append(list(partial_combination))\n",
        "            return\n",
        "\n",
        "        # Generate remaining combinations over {offset, ..., n - 1} of size\n",
        "        # num_remaining.\n",
        "        num_remaining = k - len(partial_combination)\n",
        "        i = offset\n",
        "        while i <= n and num_remaining <= n - i + 1:\n",
        "            directed_combinations(i + 1, partial_combination + [i])\n",
        "            i += 1\n",
        "\n",
        "    result = []\n",
        "    directed_combinations(1, [])\n",
        "    return result\n",
        "print(combinations(4,2))"
      ],
      "execution_count": null,
      "outputs": [
        {
          "output_type": "stream",
          "name": "stdout",
          "text": [
            "[[1, 2], [1, 3], [1, 4], [2, 3], [2, 4], [3, 4]]\n"
          ]
        }
      ]
    },
    {
      "cell_type": "code",
      "source": [
        "class Solution:\n",
        "    def combine(self, n: int, k: int) -> List[List[int]]:\n",
        "        res = []\n",
        "\n",
        "        def backtrack(start, temp):\n",
        "            if  len(temp)==k:\n",
        "                res.append(temp.copy())\n",
        "                return \n",
        "            \n",
        "            for i in range(start, n+1):\n",
        "                temp.append(i)\n",
        "                backtrack(i+1, temp) \n",
        "                # make sure, we are using i instead of start here, \n",
        "                # otherwise it will go back to 0 after completing full loop\n",
        "                temp.pop()\n",
        "            \n",
        "        backtrack(1,[])\n",
        "        return res "
      ],
      "metadata": {
        "id": "U7xOsYMu_vMx"
      },
      "execution_count": null,
      "outputs": []
    },
    {
      "cell_type": "markdown",
      "source": [
        "# Generate all permutations\n"
      ],
      "metadata": {
        "id": "Dsi_D40QXjMS"
      }
    },
    {
      "cell_type": "code",
      "source": [
        "from typing import List \n",
        "\n",
        "def allPermutations(nums: List[int]) -> List[List[int]]:\n",
        "  def backtrack(idx):\n",
        "    if len(nums)-1 == idx:\n",
        "      result.append(nums.copy())\n",
        "      return\n",
        "\n",
        "    for i in range(idx, len(nums)):\n",
        "      nums[i], nums[idx] = nums[idx], nums[i]\n",
        "      backtrack(idx+1)\n",
        "      nums[i], nums[idx] = nums[idx], nums[i]\n",
        "  \n",
        "  result = []\n",
        "  backtrack(0)\n",
        "  return result  \n",
        "all_perms = allPermutations([1,2,4])\n",
        "print(all_perms)"
      ],
      "metadata": {
        "colab": {
          "base_uri": "https://localhost:8080/"
        },
        "id": "W3HSum68Xi_2",
        "outputId": "30e652cc-703e-4911-9a53-57bd95666234"
      },
      "execution_count": null,
      "outputs": [
        {
          "output_type": "stream",
          "name": "stdout",
          "text": [
            "[[1, 2, 4], [1, 4, 2], [2, 1, 4], [2, 4, 1], [4, 2, 1], [4, 1, 2]]\n"
          ]
        }
      ]
    },
    {
      "cell_type": "markdown",
      "source": [
        "## Generate permutations that support duplicates\n",
        "If we draw recursion tree, we can see that for duplicate, a new branch is created every time. \n",
        "There are two options\n",
        " 1. We can calculate the same way and add it to the set, so if it duplicate, it will avoid, but it does not help improving time\n",
        " 2. We can use counter for duplicate, and only create one branch for duplicate items "
      ],
      "metadata": {
        "id": "v2_RyznPARXN"
      }
    },
    {
      "cell_type": "code",
      "source": [
        "class Solution:\n",
        "    def permuteUnique(self, nums: List[int]) -> List[List[int]]:\n",
        "        res = []\n",
        "        # counter will create [1,1,2] to {1:2, 2:1}, so, we will have two items instead of three\n",
        "        # will try to avoid creating duplicate recursion tree with the same elements at first level\n",
        "        \n",
        "        ct = collections.Counter(nums)\n",
        "        def backtrack(perm, counter):\n",
        "            if len(perm) == len(nums):\n",
        "                res.append(perm.copy())    \n",
        "            \n",
        "            for n in counter:\n",
        "                if counter[n]==0:\n",
        "                    continue\n",
        "                perm.append(n)\n",
        "                counter[n] -=1\n",
        "                backtrack(perm, counter)\n",
        "                counter[n] +=1\n",
        "                perm.pop()\n",
        "\n",
        "        backtrack([], ct)\n",
        "        return res "
      ],
      "metadata": {
        "id": "4gu4QNDvAPbx"
      },
      "execution_count": null,
      "outputs": []
    },
    {
      "cell_type": "markdown",
      "source": [
        "## Generate all parenthesis\n",
        "Follow one pattern to ratain info in your brain"
      ],
      "metadata": {
        "id": "2HMQK026Htyl"
      }
    },
    {
      "cell_type": "code",
      "source": [
        "from typing import List\n",
        "def generateAllParen(n:int)->List[List[str]]:\n",
        "  def backtrack(n_left, n_right, pre, res):\n",
        "    if n_left > 0:\n",
        "      backtrack(n_left-1, n_right, pre+\"(\", res)\n",
        "    if n_left < n_right:\n",
        "      backtrack(n_left, n_right-1, pre+\")\", res)\n",
        "\n",
        "    if not n_right:\n",
        "      res.append(pre)\n",
        "    return res\n",
        "  return backtrack(n,n,\"\",[])\n",
        "print(generateAllParen(3))\n"
      ],
      "metadata": {
        "colab": {
          "base_uri": "https://localhost:8080/"
        },
        "id": "5CajEbcwnRU7",
        "outputId": "4d74c873-c665-4941-eed2-fd228584afd8"
      },
      "execution_count": null,
      "outputs": [
        {
          "output_type": "stream",
          "name": "stdout",
          "text": [
            "['((()))', '(()())', '(())()', '()(())', '()()()']\n"
          ]
        }
      ]
    },
    {
      "cell_type": "code",
      "source": [
        "class Paren:\n",
        "    def generateParenthesis(self, n: int) -> List[str]:\n",
        "\n",
        "        def helper(left, right, temp, res):\n",
        "            if left < right:\n",
        "                return\n",
        "            if left==n and right==n: # when reached here, performed n-1 operation and we started from 0,0\n",
        "                res.append(temp)\n",
        "            \n",
        "            if left <= n: # right parent can never be greater than left\n",
        "                temp+=\"(\"\n",
        "                helper(left+1, right, temp, res)\n",
        "                temp=temp[:-1]\n",
        "            if right < left: #just to make equal number\n",
        "                temp+=\")\"\n",
        "                helper(left, right+1, temp, res)\n",
        "                temp=temp[:-1]\n",
        "        res=[]\n",
        "        helper(0,0,\"\", res)\n",
        "        return res\n",
        "        \n",
        "    def generateParenthesis2(self, n: int) -> List[str]:\n",
        "        if n==0: return ['']\n",
        "        res = []\n",
        "        # started from empty, it generates\n",
        "        for c in range(n):\n",
        "            for left in self.generateParenthesis2(c):\n",
        "                for right in self.generateParenthesis2(n-c-1):\n",
        "                    res.append(\"(\"+left+\")\"+right)\n",
        "        return res\n",
        "    def generateParenthesisdp(self, n: int) -> List[str]:\n",
        "        dp=[[] for _ in range(n+1)] # for each length, we will store the results\n",
        "        dp[0].append(\"\") # 0 layer will keep empty\n",
        "\n",
        "        for i in range(n+1):\n",
        "            for j in range(i):\n",
        "                dp[i] += [\"(\" + left + \")\" + right for left in dp[j] for right in dp[i-j-1]]\n",
        "\n",
        "        return dp[n]\n"
      ],
      "metadata": {
        "id": "_ztFQBXPHjOf"
      },
      "execution_count": null,
      "outputs": []
    },
    {
      "cell_type": "markdown",
      "source": [
        "## Palindromic decomposition\n",
        "- $[a, aba]$ is a decomposition of aaba as well as substring.\n",
        "- $[aaa,bbb]$ $[aa,aabb, b]$ are two of the decomposition of [aaabbb] "
      ],
      "metadata": {
        "id": "Uln70RhWItvD"
      }
    },
    {
      "cell_type": "code",
      "source": [
        "#  palindromic decomposition, there could be multiple decomposition of the same string\n",
        "# palindromic substring is different than number of decomposition\n",
        "def palindromicDecomposition(s: str)-> List[List[str]]:\n",
        "  result = []\n",
        "  def rec_palindromic_decom(idx, temp):\n",
        "    if idx == len(s):\n",
        "      result.append(list(temp))\n",
        "      return\n",
        "    \n",
        "    for i in range(idx+1, len(s)+1):\n",
        "      prefix = s[idx:i]\n",
        "      if prefix == prefix[::-1]:\n",
        "        rec_palindromic_decom(i, temp + [prefix])\n",
        "\n",
        "  rec_palindromic_decom(0,[])\n",
        "  return result \n",
        "\n",
        "\n",
        "res = palindromicDecomposition(\"aaa\")\n",
        "\n",
        "print(res)\n"
      ],
      "metadata": {
        "colab": {
          "base_uri": "https://localhost:8080/"
        },
        "id": "rmKBBUjKrrHf",
        "outputId": "9181aae9-a0cd-460a-f9ed-a72e049d3bb9"
      },
      "execution_count": null,
      "outputs": [
        {
          "output_type": "stream",
          "name": "stdout",
          "text": [
            "[['a', 'a', 'a'], ['a', 'aa'], ['aa', 'a'], ['aaa']]\n"
          ]
        }
      ]
    },
    {
      "cell_type": "markdown",
      "source": [
        "## N-Queen problem\n",
        "Place N-Queens in a chess board\n",
        "* Brute force analysis is required, its huge cost and  now way someone will accept that solution"
      ],
      "metadata": {
        "id": "IuvWL5QaKvQw"
      }
    },
    {
      "cell_type": "code",
      "source": [
        "# explanation is very hard,need to spend more time when possible\n",
        "def n_queens(n):\n",
        "  result=[]\n",
        "  col_placement = [0]*n\n",
        "\n",
        "  def solve_n_queens(row_num):\n",
        "    if row_num==n:\n",
        "      result.append(list(col_placement))\n",
        "      return\n",
        "    for col in range(n):\n",
        "      \n",
        "      if all( abs(c-col) not in (0, row_num-i) \n",
        "      for i, c in enumerate(col_placement[:row_num])):\n",
        "        col_placement[row_num] = col\n",
        "        solve_n_queens(row_num+1)\n",
        "  solve_n_queens(0)\n",
        "  return result\n",
        "\n",
        "print(n_queens(4))"
      ],
      "metadata": {
        "colab": {
          "base_uri": "https://localhost:8080/"
        },
        "id": "mzFsDfz0Kuu3",
        "outputId": "bdb78ab6-4e8f-4dde-bb85-27a842cdccff"
      },
      "execution_count": null,
      "outputs": [
        {
          "output_type": "stream",
          "name": "stdout",
          "text": [
            "[[1, 3, 0, 2], [2, 0, 3, 1]]\n"
          ]
        }
      ]
    },
    {
      "cell_type": "markdown",
      "source": [
        "This backtracking is more aligned to LeetCode [video explanation](https://www.google.com/search?q=n-queens&rlz=1C5CHFA_enUS878US878&oq=n-queens&aqs=chrome..69i57j0i512l4j69i60l3.3585j0j4&sourceid=chrome&ie=UTF-8#fpstate=ive&vld=cid:46074d7b,vid:Ph95IHmRp5M)\n",
        "\n",
        "### main concept:\n",
        "* r-c = is equal for all negative diagola position\n",
        "* r+c is equal for all positive diagonal position\n",
        "\n",
        "\n",
        "![image.png](data:image/png;base64,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)\n",
        "\n",
        "positive diagonal r+c \n",
        "![image.png](data:image/png;base64,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)"
      ],
      "metadata": {
        "id": "7H_an1uzkFnh"
      }
    },
    {
      "cell_type": "code",
      "source": [
        "from IPython.utils.py3compat import platform\n",
        "def n_queens(n):\n",
        "  result=[]\n",
        "  col = set()\n",
        "  pos_dig=set() # (r-c)\n",
        "  neg_dia = set() # (r+c)\n",
        "\n",
        "  board = [[\".\"]*n for i in range(n)]\n",
        "  \n",
        "\n",
        "  def solve_n_queens(r):\n",
        "    if r==n:\n",
        "      copy = [\"\".join(row) for row in board]\n",
        "      # print(col)\n",
        "      result.append(copy)\n",
        "      return\n",
        "    for c in range(n):\n",
        "      if c not in col and (r+c) not in pos_dig and (r-c) not in neg_dia:\n",
        "        # continue \n",
        "        col.add(c)\n",
        "        pos_dig.add(r+c)\n",
        "        neg_dia.add(r-c)\n",
        "        board[r][c]='Q'\n",
        "\n",
        "        solve_n_queens(r+1)\n",
        "\n",
        "        col.remove(c)\n",
        "        pos_dig.remove(r+c)\n",
        "        neg_dia.remove(r-c)\n",
        "        board[r][c]='.'\n",
        "\n",
        "  solve_n_queens(0)\n",
        "  return result\n",
        "\n",
        "\n",
        "print(n_queens(4))"
      ],
      "metadata": {
        "colab": {
          "base_uri": "https://localhost:8080/"
        },
        "id": "37hAY94vP8GP",
        "outputId": "0455ff4a-d05b-4b19-9f7d-3a8c6a7dc772"
      },
      "execution_count": null,
      "outputs": [
        {
          "output_type": "stream",
          "name": "stdout",
          "text": [
            "[['.Q..', '...Q', 'Q...', '..Q.'], ['..Q.', 'Q...', '...Q', '.Q..']]\n"
          ]
        }
      ]
    },
    {
      "cell_type": "markdown",
      "source": [
        "## Suduko solver\n",
        "- solve region \n",
        "- solve global\n"
      ],
      "metadata": {
        "id": "k5Z8_cZwoIuI"
      }
    },
    {
      "cell_type": "code",
      "source": [
        "import itertools\n",
        "import math\n",
        "partial_assignment = [[0, 2, 6, 0, 0, 0, 8, 1, 0], \\\n",
        "         [3, 0, 0, 7, 0, 8, 0, 0, 6], \\\n",
        "         [4, 0, 0, 0, 5, 0, 0, 0, 7], \\\n",
        "         [0, 5, 0, 1, 0, 7, 0, 9, 0],\\\n",
        "         [0, 0, 3, 9, 0, 5, 1, 0, 0], \\\n",
        "         [0, 4, 0, 3, 0, 2, 0, 5, 0],\\\n",
        "         [1, 0, 0, 0, 3, 0, 0, 0, 2], \\\n",
        "         [5, 0, 0, 2, 0, 4, 0, 0, 9],\\\n",
        "         [0, 3, 8, 0, 0, 0, 4, 6, 0]]\n",
        "\n",
        "# return a row  \n",
        "# print(partial_assignment[1])\n",
        "\n",
        "# iterate a whole column\n",
        "# for k in range(len(partial_assignment)):\n",
        "#   print(partial_assignment[k][1])\n",
        "\n",
        "def suduko_solver(partial_assignment):\n",
        "  EMPTY_ENTRY = 0\n",
        "  region_size = int(math.sqrt(len(partial_assignment)))\n",
        "\n",
        "  def solve_partial_sudoku(i,j):\n",
        "    if i==len(partial_assignment):\n",
        "      i = 0\n",
        "      j=j+1\n",
        "      if j == len(partial_assignment):\n",
        "        return True\n",
        "      \n",
        "    # we don't need to check if its not empty, as we cannot alter those, \n",
        "    # so, we will check next position \n",
        "    if partial_assignment[i][j] != EMPTY_ENTRY:\n",
        "      return solve_partial_sudoku(i+1,j)\n",
        "    \n",
        "    # we are checking without adding val to (i,j)\n",
        "    def valid_to_add(i,j,val):\n",
        "      # check whole column j\n",
        "      if any(val==partial_assignment[k][j] for k in range(len(partial_assignment))):\n",
        "        return False\n",
        "      # check row i\n",
        "      if val in partial_assignment[i]:\n",
        "        return False \n",
        "      # region check\n",
        "      \n",
        "      I=i//region_size #i, j value could be (0,9) but region (0,2)(3,5)(6,8)\n",
        "      J=j//region_size\n",
        "\n",
        "      return not any (\n",
        "          val == partial_assignment[region_size*I+a][region_size*J+b] \n",
        "          for a, b in itertools.product(range(region_size), repeat=2)\n",
        "      )\n",
        "\n",
        "    # will try to add [1 to 9] value to the empty position\n",
        "    for val in range(1, len(partial_assignment) + 1):\n",
        "      # print(\"checking\", i, j)\n",
        "      if valid_to_add(i,j, val):\n",
        "        partial_assignment[i][j]=val\n",
        "        if solve_partial_sudoku(i+1,j):\n",
        "          return True\n",
        "\n",
        "    partial_assignment[i][j] = EMPTY_ENTRY\n",
        "    return False \n",
        "  \n",
        "  return solve_partial_sudoku(0,0)\n",
        "\n",
        "res = suduko_solver(partial_assignment)\n",
        "print(res)"
      ],
      "metadata": {
        "colab": {
          "base_uri": "https://localhost:8080/"
        },
        "id": "FZOdFKp2Xdwm",
        "outputId": "f96cccc5-34e7-43e7-c3dc-ba29b9d70d3a"
      },
      "execution_count": null,
      "outputs": [
        {
          "output_type": "stream",
          "name": "stdout",
          "text": [
            "True\n"
          ]
        }
      ]
    },
    {
      "cell_type": "code",
      "source": [
        "import collections\n",
        "class Solution:\n",
        "    def solveSudoku(self, board: List[List[str]]) -> None:\n",
        "        \"\"\"\n",
        "        Do not return anything, modify board in-place instead.\n",
        "        \"\"\"\n",
        "        #we can create three set or dictionary to keep items for row, column and boxes or zone\n",
        "        # we can use a queue/list to store those cell that need to process \n",
        "\n",
        "        # we startd by popleft of the queue if it is valid, otherwise \n",
        "        rows, cols, zones = collections.defaultdict(set), collections.defaultdict(set), collections.defaultdict(set)\n",
        "        q=[]\n",
        "        allowed_vals = [str(i) for i in range(1,10)]\n",
        "\n",
        "        # fill the list q with empty cells locations as we need to fill those \n",
        "\n",
        "        for r in range(len(board)):\n",
        "            for c in range(len(board[0])):\n",
        "                if (v := board[r][c]) == '.':\n",
        "                    q.append((r,c))\n",
        "                else:\n",
        "                    rows[r].add(v)\n",
        "                    cols[c].add(v)\n",
        "                    zones[(r//3,c//3)].add(v)\n",
        "        \n",
        "        def dfs():\n",
        "            if not q:\n",
        "                return True \n",
        "            \n",
        "            r, c = q.pop()\n",
        "            z = (r//3, c//3)\n",
        "\n",
        "            for v in allowed_vals:\n",
        "                if v not in cols[c] and v not in rows[r] and v not in zones[z]:\n",
        "                    board[r][c] = v\n",
        "                    rows[r].add(v)\n",
        "                    cols[c].add(v)\n",
        "                    zones[z].add(v)\n",
        "\n",
        "                    if dfs():\n",
        "                        return True \n",
        "                    \n",
        "                    board[r][c]='.'\n",
        "                    rows[r].discard(v)\n",
        "                    cols[c].discard(v)\n",
        "                    zones[z].discard(v)\n",
        "            q.append((r,c))\n",
        "            return False \n",
        "        \n",
        "        dfs()"
      ],
      "metadata": {
        "colab": {
          "base_uri": "https://localhost:8080/"
        },
        "id": "_8UMBVMzhVgN",
        "outputId": "0da34757-34ab-4768-f4c6-f7b5ab05a2c4"
      },
      "execution_count": null,
      "outputs": [
        {
          "output_type": "stream",
          "name": "stdout",
          "text": [
            "0 0\n",
            "0 1\n",
            "0 2\n",
            "1 0\n",
            "1 1\n",
            "1 2\n",
            "2 0\n",
            "2 1\n",
            "2 2\n"
          ]
        }
      ]
    },
    {
      "cell_type": "markdown",
      "source": [
        "## Gray code\n"
      ],
      "metadata": {
        "id": "ejAL2adGmhYq"
      }
    },
    {
      "cell_type": "code",
      "source": [
        "# grey code backtracking solution\n",
        "def grey_code(num_bits):\n",
        "  def directed_gray_code(history):\n",
        "    def differs_by_one(x,y):\n",
        "      bit_diff= x^y\n",
        "      return bit_diff and not (bit_diff & (bit_diff-1))\n",
        "\n",
        "\n",
        "    if len(result) == 1 << num_bits:\n",
        "        return differs_by_one(result[0], result[-1]) # check cyclic\n",
        "      \n",
        "    for i in range(num_bits):\n",
        "        prev_code = result[-1]\n",
        "        # generate next candidate by flipping one position starting from LSB\n",
        "        # 1, 10, 100 xored with previous value\n",
        "        next_candidate_code = prev_code ^ (1<<i)\n",
        "        print(history)\n",
        "        if next_candidate_code not in history:\n",
        "          history.add(next_candidate_code)\n",
        "          result.append(next_candidate_code)\n",
        "          if directed_gray_code(history):\n",
        "            return True \n",
        "          history.remove(next_candidate_code)\n",
        "          del result[-1]\n",
        "    return False \n",
        "  \n",
        "  result=[0]\n",
        "  directed_gray_code(set([0]))\n",
        "  return result\n",
        "\n",
        "print(grey_code(3))"
      ],
      "metadata": {
        "colab": {
          "base_uri": "https://localhost:8080/"
        },
        "id": "_fFlpkBDtSLQ",
        "outputId": "37f7037b-82d8-4769-fd34-495a17671d15"
      },
      "execution_count": null,
      "outputs": [
        {
          "output_type": "stream",
          "name": "stdout",
          "text": [
            "{0}\n",
            "{0, 1}\n",
            "{0, 1}\n",
            "{0, 1, 3}\n",
            "{0, 1, 2, 3}\n",
            "{0, 1, 2, 3}\n",
            "{0, 1, 2, 3}\n",
            "{0, 1, 2, 3, 6}\n",
            "{0, 1, 2, 3, 6, 7}\n",
            "{0, 1, 2, 3, 6, 7}\n",
            "{0, 1, 2, 3, 5, 6, 7}\n",
            "[0, 1, 3, 2, 6, 7, 5, 4]\n"
          ]
        }
      ]
    },
    {
      "cell_type": "markdown",
      "source": [
        "## Bit different by one\n",
        "3=11, 4=100\n",
        "3^4= 011 XOR 100 =111=7-1=6=110 & 111=001 \n",
        "100^111 =011  "
      ],
      "metadata": {
        "id": "uckcz144xGy5"
      }
    },
    {
      "cell_type": "code",
      "source": [
        "def differ_by_one_place(x, y):\n",
        "  print(bin(x), bin(y))\n",
        "  bit_diff = x ^ y\n",
        "  print(bit_diff, bit_diff-1, not (bit_diff & (bit_diff-1)))\n",
        "  return bit_diff and not (bit_diff & (bit_diff-1))\n",
        "\n",
        "print(differ_by_one_place(3,4))\n",
        "print(differ_by_one_place(3,2))\n",
        "\n",
        "def generate_next_candidate(candidate, size):\n",
        "  print(bin(candidate)[3:])\n",
        "  next_candidate = candidate ^ (1 << size)\n",
        "  print(bin(next_candidate))\n",
        "  print(next_candidate)\n",
        "\n",
        "generate_next_candidate(3,3)\n",
        "generate_next_candidate(4,3)"
      ],
      "metadata": {
        "colab": {
          "base_uri": "https://localhost:8080/"
        },
        "id": "f5K7g2nXwm1j",
        "outputId": "3375351d-fe2b-458c-fb47-37dde93fcc85"
      },
      "execution_count": null,
      "outputs": [
        {
          "output_type": "stream",
          "name": "stdout",
          "text": [
            "0b11 0b100\n",
            "7 6 False\n",
            "False\n",
            "0b11 0b10\n",
            "1 0 True\n",
            "True\n",
            "1\n",
            "0b1011\n",
            "11\n",
            "00\n",
            "0b1100\n",
            "12\n"
          ]
        }
      ]
    },
    {
      "cell_type": "code",
      "source": [
        "# Grey code analytical solution\n",
        "def grey_code(num_bits):\n",
        "  if num_bits ==0:\n",
        "    return [0]\n",
        "  grey_code_num_of_bit_minus_1 = grey_code(num_bits-1)\n",
        "  print(\"step result\", grey_code_num_of_bit_minus_1)\n",
        "  leading_bit_1 = 1 << (num_bits-1)\n",
        "  print(bin(leading_bit_1))\n",
        "  return grey_code_num_of_bit_minus_1 + [leading_bit_1 | i for i in reversed(grey_code_num_of_bit_minus_1)]\n",
        "print(grey_code(3))"
      ],
      "metadata": {
        "colab": {
          "base_uri": "https://localhost:8080/"
        },
        "id": "HeWFvRZq0m4U",
        "outputId": "228b1124-820c-4be8-e829-b9f0189df3bd"
      },
      "execution_count": null,
      "outputs": [
        {
          "output_type": "stream",
          "name": "stdout",
          "text": [
            "step result [0]\n",
            "0b1\n",
            "step result [0, 1]\n",
            "0b10\n",
            "step result [0, 1, 3, 2]\n",
            "0b100\n",
            "[0, 1, 3, 2, 6, 7, 5, 4]\n"
          ]
        }
      ]
    },
    {
      "cell_type": "markdown",
      "source": [
        "# Grey code (best solution)"
      ],
      "metadata": {
        "id": "R83PTJ0kVgh0"
      }
    },
    {
      "cell_type": "code",
      "source": [
        "class Solution:\n",
        "    def grayCode(self, n: int) -> List[int]:\n",
        "        l = 1 << n\n",
        "        res=[]\n",
        "        for i in range(l):\n",
        "            num = i ^ i >> 1\n",
        "            print(bin(i), bin(num))\n",
        "            res.append(num)\n",
        "        return res"
      ],
      "metadata": {
        "id": "qo6FT_jiVfd_"
      },
      "execution_count": null,
      "outputs": []
    },
    {
      "cell_type": "code",
      "source": [
        "class BTN:\n",
        "  def __init__(self,val, left, right):\n",
        "    self.val = val\n",
        "    self.left = left\n",
        "    self.right = right\n",
        "\n",
        "def generate_all_binary_tree(num_nodes):\n",
        "  if num_nodes==0:\n",
        "    return [None]\n",
        "  result = []\n",
        "  for num_of_left_nodes in range(num_nodes):\n",
        "    num_right_tree_nodes = num_nodes -1 - num_of_left_nodes\n",
        "    left_subtree = generate_all_binary_tree(num_of_left_nodes)\n",
        "    right_subtree = generate_all_binary_tree(num_right_tree_nodes)\n",
        "    result += [\n",
        "        BTN(0, left, right) \n",
        "        for left in left_subtree for right in right_subtree\n",
        "        ]\n",
        "  return result \n",
        "res = generate_all_binary_tree(3)\n",
        "print(len(res))"
      ],
      "metadata": {
        "colab": {
          "base_uri": "https://localhost:8080/"
        },
        "id": "HSCeYhm01w7E",
        "outputId": "6141424c-79cd-4055-874c-a46c34d56b54"
      },
      "execution_count": null,
      "outputs": [
        {
          "output_type": "stream",
          "name": "stdout",
          "text": [
            "5\n"
          ]
        }
      ]
    },
    {
      "cell_type": "markdown",
      "source": [
        "## Letter combination of numbers"
      ],
      "metadata": {
        "id": "y70-H2kOHISm"
      }
    },
    {
      "cell_type": "code",
      "source": [
        "class Solution:\n",
        "        def letterCombinations(self, digits: str) -> List[str]:\n",
        "            digToChar = {\n",
        "                '2' : \"abc\",\n",
        "                '3' : \"def\",\n",
        "                '4' : \"ghi\",\n",
        "                '5' : \"jkl\",\n",
        "                '6' : \"mno\",\n",
        "                '7' : \"pqrs\",\n",
        "                '8' : \"tuv\",\n",
        "                '9' : \"wxyz\"\n",
        "            }\n",
        "\n",
        "            if not digits:\n",
        "                return []\n",
        "            res = []\n",
        "            def backtrack(i, curStr):\n",
        "                if len(digits) == len(curStr):\n",
        "                    res.append(''.join(curStr))\n",
        "                    return\n",
        "                #concept is to run the twich, get the string and for eac char, do that operation\n",
        "                for c in digToChar[digits[i]]:\n",
        "                        curStr+=c\n",
        "                        backtrack(i+1, curStr)\n",
        "                        curStr=curStr[:-1]\n",
        "            \n",
        "            backtrack(0, \"\")\n",
        "            return res "
      ],
      "metadata": {
        "id": "x-o-eTaLHHCI"
      },
      "execution_count": null,
      "outputs": []
    },
    {
      "cell_type": "markdown",
      "source": [
        "## Morse code encoder and decoder\n"
      ],
      "metadata": {
        "id": "q-ERdcGsKf-S"
      }
    },
    {
      "cell_type": "code",
      "source": [
        "encode_table = {\n",
        "    \"A\": \".-\",\n",
        "    \"B\": \"-...\",\n",
        "    \"C\": \"-.-.\",\n",
        "    \"D\": \"-..\",\n",
        "    \"E\": \".\",\n",
        "    \"F\": \"..-.\",\n",
        "    \"G\": \"--.\",\n",
        "    \"H\": \"....\",\n",
        "    \"I\": \"..\",\n",
        "    \"J\": \".---\",\n",
        "    \"K\": \"-.-\",\n",
        "    \"L\": \".-..\",\n",
        "    \"M\": \"--\",\n",
        "    \"N\": \"-.\",\n",
        "    \"O\": \"---\",\n",
        "    \"P\": \".--.\",\n",
        "    \"Q\": \"--.-\",\n",
        "    \"R\": \".-.\",\n",
        "    \"S\": \"...\",\n",
        "    \"T\": \"-\",\n",
        "    \"U\": \"..-\",\n",
        "    \"V\": \"...-\",\n",
        "    \"W\": \".--\",\n",
        "    \"X\": \"-..-\",\n",
        "    \"Y\": \"-.--\",\n",
        "    \"Z\": \"--..\",\n",
        "    \"0\": \"-----\",\n",
        "    \"1\": \".----\",\n",
        "    \"2\": \"..---\",\n",
        "    \"3\": \"...--\",\n",
        "    \"4\": \"....-\",\n",
        "    \"5\": \".....\",\n",
        "    \"6\": \"-....\",\n",
        "    \"7\": \"--...\",\n",
        "    \"8\": \"---..\",\n",
        "    \"9\": \"----.\",\n",
        "    \".\": \".-.-.-\",\n",
        "    \",\": \"--..--\",\n",
        "    \"?\": \"..--..\",\n",
        "    \" \": \"SPACE\",\n",
        "}\n",
        "\n",
        "# Reverse of encode_table.\n",
        "decode_table = {v: k for k, v in encode_table.items()}\n",
        "\n",
        "def encode(s):\n",
        "    enc = \" \".join(encode_table[x] for x in s)\n",
        "    return enc.replace(\" SPACE \", \"   \")\n",
        "\n",
        "def decode(encoded):\n",
        "    symbols = encoded.replace(\"   \", \" SPACE \").split(\" \")\n",
        "    return \"\".join(decode_table[x] for x in symbols)\n",
        "\n",
        "print(encode(\"HEY JUDE\"))\n",
        "print(decode(\".... . -.--   .--- ..- -.. .\"))\n",
        "\n",
        "# what if the code is not spaced seperated"
      ],
      "metadata": {
        "id": "AFs0ycKAKlsy",
        "outputId": "36d4f23c-7720-458d-c8ae-0b361311524b",
        "colab": {
          "base_uri": "https://localhost:8080/"
        }
      },
      "execution_count": 1,
      "outputs": [
        {
          "output_type": "stream",
          "name": "stdout",
          "text": [
            ".... . -.--   .--- ..- -.. .\n",
            "HEY JUDE\n"
          ]
        }
      ]
    },
    {
      "cell_type": "markdown",
      "source": [
        "## Combination sum II ( repeated support)"
      ],
      "metadata": {
        "id": "LQjNKNchWgEx"
      }
    },
    {
      "cell_type": "code",
      "source": [
        "class Solution:\n",
        "    def combinationSum2(self, candidates: List[int], target: int) -> List[List[int]]:\n",
        "        res=[]\n",
        "        candidates.sort()\n",
        "        counter = collections.Counter(candidates)\n",
        "\n",
        "        def backtrack(cur_pos, cnt, temp, t):\n",
        "            if t==0:\n",
        "                res.append(temp.copy())\n",
        "                return\n",
        "            elif t < 0:\n",
        "                return \n",
        "            \n",
        "\n",
        "            for next_cur in range(cur_pos, len(candidates)):\n",
        "                if cnt[candidates[next_cur]] ==0:\n",
        "                    continue\n",
        "                \n",
        "                temp.append(candidates[next_cur])\n",
        "                cnt[candidates[next_cur]] -=1\n",
        "                backtrack(next_cur+1, cnt, temp, t-candidates[next_cur])\n",
        "                temp.pop()\n",
        "                cnt[candidates[next_cur]] +=1\n",
        "        backtrack(0,counter,[],target)    \n",
        "        return res"
      ],
      "metadata": {
        "id": "KxEPco6uWfIg"
      },
      "execution_count": null,
      "outputs": []
    },
    {
      "cell_type": "markdown",
      "source": [
        "## all path source to dest (graph problem mainly)"
      ],
      "metadata": {
        "id": "SSaqPtedW6HZ"
      }
    },
    {
      "cell_type": "code",
      "source": [
        "# a simple dfs or backtrack\n",
        "class Solution:\n",
        "    def allPathsSourceTarget(self, graph: List[List[int]]) -> List[List[int]]:\n",
        "        g = collections.defaultdict(list)\n",
        "        \n",
        "        for i in range(len(graph)):\n",
        "                g[i] += graph[i]\n",
        "        \n",
        "        \n",
        "        path = [0]\n",
        "        res=[]\n",
        "        # q = collections.deque([0])\n",
        "        dest = len(graph)-1\n",
        "        \n",
        "        def backtrack(node):\n",
        "            if node == dest:\n",
        "                res.append(list(path))\n",
        "                return\n",
        "            \n",
        "            for next_node in g[node]:\n",
        "                path.append(next_node)\n",
        "                backtrack(next_node)\n",
        "                path.remove(next_node)\n",
        "        backtrack(0)\n",
        "        return res"
      ],
      "metadata": {
        "id": "XflGfdatW2ZB"
      },
      "execution_count": null,
      "outputs": []
    }
  ]
}