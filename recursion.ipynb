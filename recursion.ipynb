{
  "nbformat": 4,
  "nbformat_minor": 0,
  "metadata": {
    "colab": {
      "name": "recursion.ipynb",
      "provenance": [],
      "authorship_tag": "ABX9TyMaRC1J9zlvj+0VCLfxJu/B",
      "include_colab_link": true
    },
    "kernelspec": {
      "name": "python3",
      "display_name": "Python 3"
    },
    "language_info": {
      "name": "python"
    }
  },
  "cells": [
    {
      "cell_type": "markdown",
      "metadata": {
        "id": "view-in-github",
        "colab_type": "text"
      },
      "source": [
        "<a href=\"https://colab.research.google.com/github/mahbubcsedu/interviewcoding/blob/main/recursion.ipynb\" target=\"_parent\"><img src=\"https://colab.research.google.com/assets/colab-badge.svg\" alt=\"Open In Colab\"/></a>"
      ]
    },
    {
      "cell_type": "code",
      "metadata": {
        "colab": {
          "base_uri": "https://localhost:8080/"
        },
        "id": "FMAbpWPC_Y5p",
        "outputId": "a0c02ce5-29d4-4c05-ddca-de9ed11c252b"
      },
      "source": [
        "# without helper function\n",
        "def generate_power_set(input_set):\n",
        "  def directed_set(to_be_selected, selected_so_far):\n",
        "      if to_be_selected == len(input_set):\n",
        "         power_set.append(list(selected_so_far))\n",
        "         print(power_set)\n",
        "         return\n",
        "      print(\"directed_set(\"+ str(to_be_selected)+\"+1, \" + ' '.join(selected_so_far)+\")\")\n",
        "      print(power_set)\n",
        "      directed_set(to_be_selected+1, selected_so_far)\n",
        "      update_list = selected_so_far + [input_set[to_be_selected]]\n",
        "      print(\"2directed_set(\"+ str(to_be_selected)+\"+1, \" + ' '.join(update_list)+\")\")\n",
        "      print(power_set)\n",
        "      directed_set(to_be_selected + 1, update_list)\n",
        "  power_set = []\n",
        "  directed_set(0,[])\n",
        "  return power_set\n",
        "\n",
        "\n",
        "res = generate_power_set(['a','b'])\n",
        "# print(res)\n"
      ],
      "execution_count": null,
      "outputs": [
        {
          "output_type": "stream",
          "name": "stdout",
          "text": [
            "directed_set(0+1, )\n",
            "[]\n",
            "directed_set(1+1, )\n",
            "[]\n",
            "[[]]\n",
            "2directed_set(1+1, b)\n",
            "[[]]\n",
            "[[], ['b']]\n",
            "2directed_set(0+1, a)\n",
            "[[], ['b']]\n",
            "directed_set(1+1, a)\n",
            "[[], ['b']]\n",
            "[[], ['b'], ['a']]\n",
            "2directed_set(1+1, a b)\n",
            "[[], ['b'], ['a']]\n",
            "[[], ['b'], ['a'], ['a', 'b']]\n"
          ]
        }
      ]
    },
    {
      "cell_type": "markdown",
      "metadata": {
        "id": "dkDay7Xp01eD"
      },
      "source": [
        "The recursion will be easy to visualize if we use smaller input. For input [a,b] the event is as follows\n",
        "* ds1(0+1, [])  -> []\n",
        "* ds1(1+1, [])  -> []\n",
        "* res ->  [[]]\n",
        "* ds2(1+1, [b])\n",
        "* res -> [[]]\n",
        "* res -> [[], ['b']]\n",
        "* ds2(0+1, a)\n",
        "* res -> [[], ['b']]\n",
        "* ds(1+1, a)\n",
        "* res -> [[], ['b']]\n",
        "* res -> [[], ['b'], ['a']]\n",
        "* ds2(1+1, a b)\n",
        "* res -> [[], ['b'], ['a']]\n",
        "* res -> [[], ['b'], ['a'], ['a', 'b']]\n",
        "\n",
        "\n"
      ]
    },
    {
      "cell_type": "code",
      "metadata": {
        "colab": {
          "base_uri": "https://localhost:8080/"
        },
        "id": "iGKkKZ0e6Tea",
        "outputId": "bfc1cd09-b6a1-4259-8513-b046df7265ff"
      },
      "source": [
        "import math\n",
        "\n",
        "def generate_power_set(S):\n",
        "  power_set = []\n",
        "  # loop over [0, 2^n-1]\n",
        "  for int_for_subset in range(1 << len(S)):\n",
        "    bit_array = int_for_subset\n",
        "    subset = []\n",
        "    # print(bit_array)\n",
        "    while bit_array:\n",
        "      # print(int(math.log2(bit_array & ~(bit_array-1))))\n",
        "      subset.append(int(math.log2(bit_array & ~(bit_array-1))))\n",
        "      bit_array &=bit_array-1\n",
        "    # print(subset)\n",
        "    power_set.append(subset)\n",
        "  return power_set\n",
        "\n",
        "res= generate_power_set([1,2,3])\n",
        "print(res)"
      ],
      "execution_count": null,
      "outputs": [
        {
          "output_type": "stream",
          "name": "stdout",
          "text": [
            "[[], [0], [1], [0, 1], [2], [0, 2], [1, 2], [0, 1, 2]]\n"
          ]
        }
      ]
    },
    {
      "cell_type": "code",
      "metadata": {
        "colab": {
          "base_uri": "https://localhost:8080/"
        },
        "id": "4RMEOHYg82uo",
        "outputId": "283bb05c-e7fc-444d-f754-f92ae04a8c9a"
      },
      "source": [
        "# using helper function\n",
        "def generate_power_set(S):\n",
        "  \n",
        "  # print(len(S))\n",
        "  def helper(start, temp, ps):\n",
        "    # print(start)\n",
        "    # if(start==len(S)):\n",
        "    # print(ps)\n",
        "    ps.append(list(temp)) # append should be list temp is list and it will append to ps list\n",
        "    # print(ps)\n",
        "      # return\n",
        "\n",
        "    for i in range(start, len(S)):\n",
        "      temp.append(S[i])\n",
        "      helper(i+1, temp, ps)\n",
        "      temp.pop()\n",
        "  # return \n",
        "  ps = []\n",
        "  helper(0,[], ps)\n",
        "  return ps\n",
        "res= generate_power_set(['a','b','c'])\n",
        "# print(res)\n",
        "print(sorted(res,key=len))"
      ],
      "execution_count": null,
      "outputs": [
        {
          "output_type": "stream",
          "name": "stdout",
          "text": [
            "[[], ['a'], ['a', 'b'], ['a', 'b', 'c'], ['a', 'c'], ['b'], ['b', 'c'], ['c']]\n",
            "[[], ['a'], ['b'], ['c'], ['a', 'b'], ['a', 'c'], ['b', 'c'], ['a', 'b', 'c']]\n"
          ]
        }
      ]
    },
    {
      "cell_type": "code",
      "metadata": {
        "colab": {
          "base_uri": "https://localhost:8080/"
        },
        "id": "84fsDNzbWvJ2",
        "outputId": "cdd7f77f-749d-4b4c-9a53-6e5717290314"
      },
      "source": [
        "# using helper function\n",
        "def combination(S, k):\n",
        "  \n",
        "  # print(len(S))\n",
        "  def helper(start, temp, ps, k):\n",
        "    # print(start)\n",
        "    # if(start==len(S)):\n",
        "    # print(ps)\n",
        "    if len(temp) == k:\n",
        "      ps.append(list(temp)) # append should be list temp is list and it will append to ps list\n",
        "      return\n",
        "\n",
        "    # print(ps)\n",
        "      # return\n",
        "\n",
        "    for i in range(start, len(S)):\n",
        "      temp.append(S[i])\n",
        "      helper(i+1, temp, ps, k)\n",
        "      temp.pop()\n",
        "  # return \n",
        "  ps = []\n",
        "  helper(0,[], ps, k)\n",
        "  return ps\n",
        "res= combination(['a','b','c'], 2)\n",
        "# print(res)\n",
        "print(sorted(res,key=len))"
      ],
      "execution_count": null,
      "outputs": [
        {
          "output_type": "stream",
          "name": "stdout",
          "text": [
            "[['a', 'b'], ['a', 'c'], ['b', 'c']]\n"
          ]
        }
      ]
    },
    {
      "cell_type": "code",
      "metadata": {
        "colab": {
          "base_uri": "https://localhost:8080/"
        },
        "id": "wl9DBo2YYE1U",
        "outputId": "cbcc5f90-5f9e-4811-fd1e-4deadfcab232"
      },
      "source": [
        "def combinations(n, k):\n",
        "    def directed_combinations(offset, partial_combination):\n",
        "        if len(partial_combination) == k:\n",
        "            result.append(list(partial_combination))\n",
        "            return\n",
        "\n",
        "        # Generate remaining combinations over {offset, ..., n - 1} of size\n",
        "        # num_remaining.\n",
        "        num_remaining = k - len(partial_combination)\n",
        "        i = offset\n",
        "        while i <= n and num_remaining <= n - i + 1:\n",
        "            directed_combinations(i + 1, partial_combination + [i])\n",
        "            i += 1\n",
        "\n",
        "    result = []\n",
        "    directed_combinations(1, [])\n",
        "    return result\n",
        "print(combinations(4,2))"
      ],
      "execution_count": null,
      "outputs": [
        {
          "output_type": "stream",
          "name": "stdout",
          "text": [
            "[[1, 2], [1, 3], [1, 4], [2, 3], [2, 4], [3, 4]]\n"
          ]
        }
      ]
    }
  ]
}