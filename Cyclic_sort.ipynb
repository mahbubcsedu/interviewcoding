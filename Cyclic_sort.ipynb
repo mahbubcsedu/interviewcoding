{
  "nbformat": 4,
  "nbformat_minor": 0,
  "metadata": {
    "colab": {
      "provenance": [],
      "authorship_tag": "ABX9TyOEbiNAh1qfb3SML1mzJVXw",
      "include_colab_link": true
    },
    "kernelspec": {
      "name": "python3",
      "display_name": "Python 3"
    },
    "language_info": {
      "name": "python"
    }
  },
  "cells": [
    {
      "cell_type": "markdown",
      "metadata": {
        "id": "view-in-github",
        "colab_type": "text"
      },
      "source": [
        "<a href=\"https://colab.research.google.com/github/mahbubcsedu/interviewcoding/blob/main/Cyclic_sort.ipynb\" target=\"_parent\"><img src=\"https://colab.research.google.com/assets/colab-badge.svg\" alt=\"Open In Colab\"/></a>"
      ]
    },
    {
      "cell_type": "markdown",
      "source": [
        "## This technique is mainly used to arrays where 1 to n items is considered\n",
        "Problems types\n",
        " - Cyclic sort \n",
        " - Find all duplicates in an array\n",
        " - Find all missing or disappeared numbers\n",
        " - [LC-41 First missing positive](https://leetcode.com/problems/first-missing-positive/description/) \n",
        " - Find the duplicate number (one number)\n",
        " - Find the corrupt pair\n",
        " - Find the first K missing numbers\n",
        "\n",
        "Some leetcode exmaples\n",
        "  - https://leetcode.com/problems/set-mismatch/\n",
        "  - https://leetcode.com/problems/couples-holding-hands/ this need to see\n",
        "  - https://leetcode.com/problems/first-missing-positive/\n",
        "  - https://leetcode.com/problems/find-all-numbers-disappeared-in-an-array/\n",
        "  - https://leetcode.com/problems/find-all-duplicates-in-an-array/\n",
        "  - https://leetcode.com/problems/missing-number/"
      ],
      "metadata": {
        "id": "BldDPlpXkxJ6"
      }
    },
    {
      "cell_type": "code",
      "execution_count": 2,
      "metadata": {
        "colab": {
          "base_uri": "https://localhost:8080/"
        },
        "id": "SC8TqQM2jwD4",
        "outputId": "8b590c45-ce74-4a4a-98ff-bdc757abac7a"
      },
      "outputs": [
        {
          "output_type": "stream",
          "name": "stdout",
          "text": [
            "[1, -1, 3, 4]\n",
            "2\n"
          ]
        }
      ],
      "source": [
        "## First missing positive number\n",
        "from typing import List\n",
        "def firstMissingPositive(nums: List[int]) -> int:\n",
        "        # techniques\n",
        "        i, n = 0, len(nums)\n",
        "\n",
        "        while i < n:\n",
        "            j = nums[i]-1 # getting the right index for nums[i]\n",
        "            #we are moving all elements less than n to the first n position of the array\n",
        "            if nums[i] > 0 and nums[i] <=n and nums[i] != nums[j]:\n",
        "                nums[i], nums[j] = nums[j], nums[i]\n",
        "            else:\n",
        "                i +=1\n",
        "        # now we have all 1 to n to 0 to n-1 position\n",
        "        print(nums)\n",
        "        for i in range(n):\n",
        "            if nums[i] != i+1:\n",
        "                return i+1\n",
        "        return len(nums)+1\n",
        "A=[3, 4, 1, -1]\n",
        "print(firstMissingPositive(A))"
      ]
    },
    {
      "cell_type": "code",
      "source": [
        "# Find all duplicates in a n array\n",
        "# we can use above cyclic sort or another form of sort given here\n",
        "\n",
        "def FindDuplicates(nums):\n",
        "  dup = []\n",
        "  for num in nums:\n",
        "    index = abs(num)-1\n",
        "    nums[index] = -nums[index]\n",
        "  # the above loop will creaet negative entry to their corresponding locations, \n",
        "  # if some entry has double values, it will be positive because of double negative -nums[index]\n",
        "  \n",
        "  # now search for those numbers\n",
        "  for num in nums:\n",
        "    if nums[abs(num)-1] > 0:\n",
        "      dup.append(abs(num))\n",
        "      nums[abs(num)-1] *=1 # change this to avoid duplicate adding to the res array, see step 7 bellow\n",
        "  return dup \n",
        "        #example for this algorithm\n",
        "        # 4,3,2,7,8,2,3,1\n",
        "        # s0  - > its 4, index would be 3, so [4,3,2,-7,8,2,3,1]\n",
        "        # s1  - > its 3, index 2, [4,3,-2,-78,2,3,1]\n",
        "        # s2  - > its -2, so, basically need abs to get 2, so index=1, [4,-3,-2,-7,8,2,3,1]\n",
        "        # s4 - > its -7, so index=6  [4,-3,-2,-7,8,2,-3,1]\n",
        "        # s5 - > its 8, so index=7  [4,-3,-2,-7,8,2,-3,-1]\n",
        "        # s6 - > its 2, so index=1  [4,3,-2,-7,8,2,-3,1]\n",
        "        # s7 - > its -3, so index=2  [4,3,2,-7,8,2,-3,1]\n",
        "        # s7 - > its 1, so index=0  [-4,3,-2,-7,8,2,-3,1]\n"
      ],
      "metadata": {
        "id": "vvrvRqcRuKdI"
      },
      "execution_count": null,
      "outputs": []
    },
    {
      "cell_type": "code",
      "source": [
        "# we can use the same cyclic sort as used in finding missing number\n",
        "def findDuplicates(nums: List[int]) -> List[int]:\n",
        "        \n",
        "        i = 0\n",
        "        while i < len(nums):\n",
        "            j = nums[i] - 1\n",
        "            if nums[i] != nums[j]:\n",
        "                nums[i], nums[j] = nums[j], nums[i]  # swap\n",
        "            else:\n",
        "                i += 1\n",
        "\n",
        "        dup=[]\n",
        "        for i in range(len(nums)):\n",
        "            if nums[i] != i+1:\n",
        "                dup.append(nums[i])\n",
        "        return dup"
      ],
      "metadata": {
        "id": "VL2xdlYbv8wg"
      },
      "execution_count": null,
      "outputs": []
    },
    {
      "cell_type": "code",
      "source": [
        "## find all missing number where number is between [1,n]\n",
        "#  we can apply the same cyclic technique but here we have number between 1 to n and some are missing\n",
        "# we check if number is not its correct place, then swap\n",
        "def findDisappearedNumbers(nums: List[int]) -> List[int]:\n",
        "        # [1,2,3,3,5,6]\n",
        "        \n",
        "        missingNumbers = []\n",
        "        # TODO: Write your code here\n",
        "        i=0\n",
        "        while i < len(nums):\n",
        "            j=nums[i]-1\n",
        "            if i !=j and j!= nums[j] -1:\n",
        "                nums[i], nums[j] = nums[j], nums[i]\n",
        "            else:\n",
        "                i += 1\n",
        "        # [1, 2, 3, 4, 3, 2, 7, 8], this is after running the c sort\n",
        "        # [4,3,2,7,8,2,3,1] this is array \n",
        "        # here are the steps\n",
        "        # [7, 3, 2, 4, 8, 2, 3, 1]\n",
        "        # [3, 3, 2, 4, 8, 2, 7, 1]\n",
        "        # [2, 3, 3, 4, 8, 2, 7, 1]\n",
        "        # [3, 2, 3, 4, 8, 2, 7, 1]\n",
        "        # [3, 2, 3, 4, 8, 2, 7, 1]\n",
        "        # [3, 2, 3, 4, 8, 2, 7, 1]\n",
        "        # [3, 2, 3, 4, 8, 2, 7, 1]\n",
        "        # [3, 2, 3, 4, 8, 2, 7, 1]\n",
        "        # [3, 2, 3, 4, 1, 2, 7, 8]\n",
        "        # [1, 2, 3, 4, 3, 2, 7, 8]\n",
        "        # [1, 2, 3, 4, 3, 2, 7, 8]\n",
        "        # [1, 2, 3, 4, 3, 2, 7, 8]\n",
        "        # [1, 2, 3, 4, 3, 2, 7, 8]\n",
        "        # [1, 2, 3, 4, 3, 2, 7, 8]\n",
        "        for i in range(len(nums)):\n",
        "            if i+1 != nums[i]:\n",
        "                missingNumbers.append(i+1)\n",
        "        return missingNumbers\n",
        "\n",
        "# we can use other techniques here as well \n",
        "def findDisappearedNumbers(nums: List[int]) -> List[int]:\n",
        "        # [1,2,3,3,5,6]\n",
        "\n",
        "        for num in nums:\n",
        "            index = abs(num)-1\n",
        "            nums[index] = -abs(nums[index]) # this will make negative number to its correct position\n",
        "        # if some numbers are missing, they will be positive and we can pick up those\n",
        "        res = []\n",
        "        \n",
        "        for i in range(len(nums)):\n",
        "            if nums[i] >=0:\n",
        "                res.append(i+1)\n",
        "        return res "
      ],
      "metadata": {
        "id": "9xAb6aAiwqN5"
      },
      "execution_count": null,
      "outputs": []
    },
    {
      "cell_type": "code",
      "source": [
        "# only missing number\n",
        "# we can use bit manipulation or try cycli sort but 0 is included so better use bit manipulation\n",
        "class Solution:\n",
        "    def missingNumber(self, nums: List[int]) -> int:\n",
        "        # xor of the same number invalidate that number\n",
        "        # if we xor with index and num, even though they are not sorted, the xor result\n",
        "        # account for them double\n",
        "        # if we see this example, number is missing 2, but index is missing last one which is len(nums)\n",
        "        # 3, 0, 1 \n",
        "        # 0, 1, 2 \n",
        "        # so we start with last index as missing\n",
        "        missing = len(nums)\n",
        "        \n",
        "        for i, num in enumerate(nums):\n",
        "            missing ^=i^num\n",
        "        return missing"
      ],
      "metadata": {
        "id": "ZRG7GiAk1a4M"
      },
      "execution_count": null,
      "outputs": []
    }
  ]
}