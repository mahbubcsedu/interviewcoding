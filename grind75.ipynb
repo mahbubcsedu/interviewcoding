{
  "nbformat": 4,
  "nbformat_minor": 0,
  "metadata": {
    "colab": {
      "provenance": [],
      "toc_visible": true,
      "authorship_tag": "ABX9TyP4Ac7opS5IArGS8MzuePkA",
      "include_colab_link": true
    },
    "kernelspec": {
      "name": "python3",
      "display_name": "Python 3"
    },
    "language_info": {
      "name": "python"
    }
  },
  "cells": [
    {
      "cell_type": "markdown",
      "metadata": {
        "id": "view-in-github",
        "colab_type": "text"
      },
      "source": [
        "<a href=\"https://colab.research.google.com/github/mahbubcsedu/interviewcoding/blob/main/grind75.ipynb\" target=\"_parent\"><img src=\"https://colab.research.google.com/assets/colab-badge.svg\" alt=\"Open In Colab\"/></a>"
      ]
    },
    {
      "cell_type": "markdown",
      "source": [
        "# Gridn 75"
      ],
      "metadata": {
        "id": "qY_tz-TZxCoK"
      }
    },
    {
      "cell_type": "markdown",
      "source": [
        ">[Gridn 75](#scrollTo=qY_tz-TZxCoK)\n",
        "\n",
        ">>[First bad version](#scrollTo=uron-TC2xgV7)\n",
        "\n",
        ">>[Diameter of a binary tree](#scrollTo=nfNUIJrSxYXu)\n",
        "\n"
      ],
      "metadata": {
        "colab_type": "toc",
        "id": "CpSmEJfKxFkJ"
      }
    },
    {
      "cell_type": "markdown",
      "source": [
        "## First bad version"
      ],
      "metadata": {
        "id": "uron-TC2xgV7"
      }
    },
    {
      "cell_type": "code",
      "execution_count": null,
      "metadata": {
        "id": "JtghkrBNFcHN",
        "colab": {
          "base_uri": "https://localhost:8080/"
        },
        "outputId": "d0f82a63-231c-4c71-ee2c-b85eab0747bf"
      },
      "outputs": [
        {
          "output_type": "stream",
          "name": "stdout",
          "text": [
            "5\n"
          ]
        }
      ],
      "source": [
        "# Week 2\n",
        "# First  bad version\n",
        "#\n",
        "def firstBadVersion(n: int) -> int:\n",
        "        # its should be a simple binary search\n",
        "        left, right = 1, n\n",
        "\n",
        "        def isBadVersion(n):\n",
        "          if n>4:\n",
        "            return True\n",
        "          return False\n",
        "\n",
        "        while left <= right:\n",
        "            mid = (right + left)//2\n",
        "            # print(mid, left, right)\n",
        "\n",
        "            if isBadVersion(mid):\n",
        "                right = mid-1\n",
        "            else:\n",
        "                left = mid +1\n",
        "        return left\n",
        "\n",
        "print(firstBadVersion(10))"
      ]
    },
    {
      "cell_type": "markdown",
      "source": [
        "## Diameter of a binary tree"
      ],
      "metadata": {
        "id": "nfNUIJrSxYXu"
      }
    },
    {
      "cell_type": "code",
      "source": [
        "# diameter of a binary tree\n",
        "import collections\n",
        "from typing import Optional\n",
        "class TreeNode:\n",
        "  def __init__(self, val=0, left=None, right=None):\n",
        "    self.val =val\n",
        "    self.left = left\n",
        "    self.right = right\n",
        "\n",
        "MaxWithDiameter = collections.namedtuple(\"MaxWithDiameter\",(\"depth\",\"diameter\"))\n",
        "\n",
        "def diameterOfBinaryTree(root: Optional[TreeNode]) -> int:\n",
        "\n",
        "  diameter = 0\n",
        "\n",
        "  def helper(root):\n",
        "\n",
        "    nonlocal diameter\n",
        "\n",
        "    if not root:\n",
        "       return 0\n",
        "\n",
        "    l_d = helper(root.left)\n",
        "\n",
        "    r_d = helper(root.right)\n",
        "\n",
        "    diameter = max(diameter, l_d + r_d)\n",
        "    # print(diameter)\n",
        "\n",
        "    return max(l_d, r_d) + 1\n",
        "\n",
        "  helper(root)\n",
        "  return diameter\n",
        "\n",
        "\n",
        "tree = TreeNode(1, TreeNode(2, TreeNode(4), TreeNode(5)), TreeNode(3))\n",
        "d = diameterOfBinaryTree(tree)\n",
        "print(d)"
      ],
      "metadata": {
        "colab": {
          "base_uri": "https://localhost:8080/"
        },
        "id": "Ai52Ps4Lvo3V",
        "outputId": "a92df201-fe8c-4705-9a01-851f564a203e"
      },
      "execution_count": null,
      "outputs": [
        {
          "output_type": "stream",
          "name": "stdout",
          "text": [
            "3\n"
          ]
        }
      ]
    },
    {
      "cell_type": "code",
      "source": [
        "import collections\n",
        "from typing import Optional\n",
        "class TreeNode:\n",
        "  def __init__(self, val=0, left=None, right=None):\n",
        "    self.val =val\n",
        "    self.left = left\n",
        "    self.right = right\n",
        "\n",
        "MaxWithDiameter = collections.namedtuple(\"MaxWithDiameter\",(\"depth\",\"diameter\"))\n",
        "\n",
        "def diameterOfBinaryTree(root: Optional[TreeNode]) -> int:\n",
        "\n",
        "  def helper(root):\n",
        "\n",
        "    if not root:\n",
        "       return MaxWithDiameter(0,0)\n",
        "\n",
        "    l_d = helper(root.left)\n",
        "    r_d = helper(root.right)\n",
        "\n",
        "    diameter = max(max(l_d.diameter, r_d.diameter), l_d.depth + r_d.depth)\n",
        "    # print(diameter)\n",
        "\n",
        "    return MaxWithDiameter(max(l_d.depth, r_d.depth) + 1, diameter)\n",
        "\n",
        "  return helper(root).diameter\n",
        "\n",
        "\n",
        "tree = TreeNode(1, TreeNode(2, TreeNode(4), TreeNode(5)), TreeNode(3))\n",
        "d = diameterOfBinaryTree(tree)\n",
        "print(d)\n",
        "\n",
        "tree = TreeNode(1, TreeNode(3), TreeNode(4))\n",
        "d = diameterOfBinaryTree(tree)\n",
        "print(d)"
      ],
      "metadata": {
        "colab": {
          "base_uri": "https://localhost:8080/"
        },
        "id": "fsWwYFGmQWJg",
        "outputId": "cc2246ae-abd5-42d2-e90c-1170a732294e"
      },
      "execution_count": null,
      "outputs": [
        {
          "output_type": "stream",
          "name": "stdout",
          "text": [
            "3\n",
            "2\n"
          ]
        }
      ]
    },
    {
      "cell_type": "markdown",
      "source": [
        "## Max subarray sum"
      ],
      "metadata": {
        "id": "TSzm42wox4q8"
      }
    },
    {
      "cell_type": "code",
      "source": [
        "# max subarray sum\n",
        "# [-1,2,3,-4,3,1,2,-5,1,1,3,4]\n",
        "# find max subarray sum where numbers can be positive or negative\n",
        "\n",
        "# Brute force is N^2, for all subarray, sum and compare\n",
        "\n",
        "# we can also do this using divide and conquer method and run time is O(nlogn)\n",
        "# however, we can use kadane's algorithm to keep it in O(n) run time and spece O(1)\n",
        "\n",
        "def max_subarray_sum(A):\n",
        "  local_sum = global_sum = A[0]\n",
        "\n",
        "\n",
        "  for a in A[1:]:\n",
        "    local_sum =max(a, local_sum+a)\n",
        "    #this is main logic of kadanes algorithm.\n",
        "    # if sum til now is less than the current item, no way to keep old itesm, start from here\n",
        "    global_sum = max (global_sum, local_sum)\n",
        "\n",
        "  return global_sum\n",
        "print(max_subarray_sum([-2,1,-3,4,-1,2,1,-5,4]))"
      ],
      "metadata": {
        "colab": {
          "base_uri": "https://localhost:8080/"
        },
        "id": "cYKlFQrhuJZ8",
        "outputId": "18684867-52e7-4569-828a-cf42c1246654"
      },
      "execution_count": null,
      "outputs": [
        {
          "output_type": "stream",
          "name": "stdout",
          "text": [
            "6\n"
          ]
        }
      ]
    },
    {
      "cell_type": "code",
      "source": [
        "# sub array sum divided and conquar approach\n",
        "# divide left and right, from right to left on left side, sum the array, do for the right side as well starting from left to right\n",
        "# then if adding mid to left and right yield better results, keep it\n",
        "# compare both left, right and combined of left right\n",
        "import math\n",
        "def max_subarray_sum_dc(nums) :\n",
        "  def find_best_subarray(nums, left, right):\n",
        "    if left > right:\n",
        "      return -math.inf\n",
        "\n",
        "    mid = (left+right)//2\n",
        "\n",
        "    cur = best_of_left = best_of_right = 0\n",
        "\n",
        "    for i in range(mid-1, left-1, -1): #limit left-1 because we want to count left\n",
        "      cur +=nums[i]\n",
        "      best_of_left = max(best_of_left, cur)\n",
        "\n",
        "    cur = 0\n",
        "    for j in range(mid+1, right+1): #limit left-1 because we want to count left\n",
        "      cur +=nums[j]\n",
        "      best_of_right = max(best_of_right, cur)\n",
        "\n",
        "    best_combined_sum = max(best_of_left, best_of_right, best_of_right+ nums[mid] + best_of_left)\n",
        "\n",
        "    left_half = find_best_subarray(nums, left, mid-1)\n",
        "    right_half = find_best_subarray(nums, mid+1, right)\n",
        "\n",
        "    return max(best_combined_sum, left_half, right_half)\n",
        "\n",
        "  return find_best_subarray(nums, 0, len(nums)-1)\n",
        "print(max_subarray_sum_dc([-2,1,-3,4,-1,2,1,-5,4]))"
      ],
      "metadata": {
        "colab": {
          "base_uri": "https://localhost:8080/"
        },
        "id": "MolNl9VhyXyL",
        "outputId": "2f9144f5-5dfd-45bb-a917-587fa8e4cc72"
      },
      "execution_count": null,
      "outputs": [
        {
          "output_type": "stream",
          "name": "stdout",
          "text": [
            "6\n"
          ]
        }
      ]
    },
    {
      "cell_type": "markdown",
      "source": [
        "## Insert interval"
      ],
      "metadata": {
        "id": "veoCQfNTx-e2"
      }
    },
    {
      "cell_type": "code",
      "source": [
        "# insert interval\n",
        "# is there any overlapping intervals ?\n",
        "# brute forch is to find intervals where new interval start, existing start equal or greather and less than end of the that\n",
        "# if there is no overlapping, as add to appropriate position\n",
        "# apply min (start, startn) and max(end, endn)\n",
        "\n",
        "class Solution:\n",
        "    def insert(self, intervals: List[List[int]], newInterval: List[int]) -> List[List[int]]:\n",
        "        # exmaple [1,3], [6,9], new interval [4,8] = [1, 9]\n",
        "        # [1, 3], [6,9], new interval [4,5] / [10, 12] where no overlapping\n",
        "        # brut force: two pass, where start falls if start >=, merge(start, new_start), if end >= new_end and start > new_start, then merge (end, new _nd)\n",
        "        # second pass, delete those that are in between them, for each interval, if start >=new_start, and end <= new_end, delete those interval\n",
        "        # Note: it will be nightmare if you try to modify the same list. it is also not thread safe design\n",
        "\n",
        "        new_list, idx = [], 0\n",
        "        while idx < len(intervals) and intervals[idx][1] < newInterval[0]:\n",
        "            new_list.append(intervals[idx])\n",
        "            idx+=1\n",
        "        # is there any overlap, continue update the new interval [a, b], [c, d] overlap, then merge (min(a,c), max(b,d))\n",
        "        while idx < len(intervals) and newInterval[1] >= intervals[idx][0]:\n",
        "            newInterval = [min(newInterval[0], intervals[idx][0]), max(newInterval[1], intervals[idx][1])]\n",
        "            idx +=1\n",
        "\n",
        "        # now insert the new one between left and right\n",
        "        return new_list + [newInterval] + intervals[idx:]\n",
        "\n",
        "# we can apply pruning to improve the actual run time not asymptopic runtime"
      ],
      "metadata": {
        "id": "mSJu8sw72nSh"
      },
      "execution_count": null,
      "outputs": []
    },
    {
      "cell_type": "markdown",
      "source": [
        "## 01 Matrix"
      ],
      "metadata": {
        "id": "XRg6k5sWyGex"
      }
    },
    {
      "cell_type": "code",
      "source": [
        "# 01 matrix\n",
        "# BFS solutions or mixed of shortest path type problem\n",
        "\n",
        "from typing import List\n",
        "import math\n",
        "import collections\n",
        "\n",
        "def updateMatrix( mat: List[List[int]]) -> List[List[int]]:\n",
        "    # for each location, we can expand size 1 to n and and update that\n",
        "    # another option is to start from (0,0) and update it from its neights\n",
        "    # using BFS\n",
        "\n",
        "    dist = [[math.inf] * len(mat) for _ in range(len(mat))]\n",
        "\n",
        "    q = collections.deque()\n",
        "\n",
        "    for r in range(len(mat)):\n",
        "      for c in range(len(mat[0])):\n",
        "        if mat[r][c] == 0:\n",
        "          dist[r][c] = 0\n",
        "          q.append((r,c))\n",
        "\n",
        "    while q:\n",
        "      r, c = q.popleft()\n",
        "\n",
        "      for dir in ((1,0),(0, 1),(-1,0),(0, -1)):\n",
        "        next_r, next_c = r + dir[0],  c + dir[1]\n",
        "\n",
        "        if 0 <= next_r < len(mat) and 0 <= next_c < len(mat[0]) and dist[next_r][next_c] > dist[r][c] + 1:\n",
        "          dist[next_r][next_c] = dist[r][c] + 1\n",
        "          q.append((next_r, next_c))\n",
        "    return dist\n",
        "\n",
        "\n",
        "print(updateMatrix([[0,0,0],[0,1,0],[1,1,1]]))"
      ],
      "metadata": {
        "colab": {
          "base_uri": "https://localhost:8080/"
        },
        "id": "dJnc18O1YxL3",
        "outputId": "1a3773cd-2862-49f2-8f68-aebde523bf1f"
      },
      "execution_count": null,
      "outputs": [
        {
          "output_type": "stream",
          "name": "stdout",
          "text": [
            "[[0, 0, 0], [0, 1, 0], [1, 2, 1]]\n"
          ]
        }
      ]
    },
    {
      "cell_type": "code",
      "source": [
        "# 01 matrix using dynamic programming\n",
        "# I was thinking right but failed because I was not sure how to see the future minimum distance of current location\n",
        "# but, if we set to max.inf then this will not be true for the current iteration but will be true for the next\n",
        "def updateMatrixdp( mat: List[List[int]]) -> List[List[int]]:\n",
        "\n",
        "    dist = [[math.inf] * len(mat[0]) for _ in range(len(mat))] # pay attention to this, too shortcut is problematic if you dont understand the underlying rule\n",
        "    print(dist)\n",
        "\n",
        "    for i in range(len(mat)):\n",
        "      for j in range(len(mat[0])):\n",
        "        if mat[i][j] == 0:\n",
        "          dist[i][j] =0\n",
        "        else:\n",
        "         if i>0:\n",
        "           dist[i][j] = min(dist[i][j], dist[i-1][j]+1)\n",
        "         if j > 0:\n",
        "           dist[i][j] = min(dist[i][j], dist[i][j-1]+1)\n",
        "\n",
        "    for i in range(len(mat)-1, -1, -1):\n",
        "      for j in range(len(mat[0])-1, -1, -1):\n",
        "        if mat[i][j] == 0:\n",
        "          dist[i][j] =0\n",
        "        else:\n",
        "         if i< len(mat)-1:\n",
        "           dist[i][j] = min(dist[i][j], dist[i+1][j]+1)\n",
        "         if j < len(mat[0])-1:\n",
        "           dist[i][j] = min(dist[i][j], dist[i][j+1]+1)\n",
        "\n",
        "    return dist\n",
        "# print(updateMatrixdp([[0,0,0],[0,1,0],[1,1,1]]))\n",
        "print(updateMatrixdp([[0],[0],[0]]))"
      ],
      "metadata": {
        "colab": {
          "base_uri": "https://localhost:8080/"
        },
        "id": "IDtDKNhPWbiX",
        "outputId": "11511ad6-1826-4380-a897-ccc50293c697"
      },
      "execution_count": null,
      "outputs": [
        {
          "output_type": "stream",
          "name": "stdout",
          "text": [
            "[[inf], [inf], [inf]]\n",
            "[[0], [0], [0]]\n"
          ]
        }
      ]
    },
    {
      "cell_type": "markdown",
      "source": [
        "## K closest point to origin"
      ],
      "metadata": {
        "id": "8m3eSvJFyLYg"
      }
    },
    {
      "cell_type": "code",
      "source": [
        "# k closest points to origin\n",
        "# points is given as (x,y)\n",
        "#\n",
        "from typing import List\n",
        "import math\n",
        "import heapq\n",
        "\n",
        "class Point:\n",
        "  def __init__(self, x, y):\n",
        "    self.x, self.y=x,y\n",
        "\n",
        "  @property\n",
        "  def distance(self):\n",
        "    return math.sqrt(self.x*self.x+self.y*self.y)\n",
        "\n",
        "  def __lt__(self, other):\n",
        "    self.distance < other.distance\n",
        "\n",
        "  def __eq__(self, other):\n",
        "    math.isclose(self.distance, other.distance)\n",
        "\n",
        "def KCloset(points: List[List[int]], k:int) -> List[List[int]]:\n",
        "  h = []\n",
        "  for point in points:\n",
        "    p_object = Point(point[0], point[1])\n",
        "\n",
        "    heapq.heappush(h,(-p_object.distance, p_object))\n",
        "\n",
        "    if len(h) > k:\n",
        "      heapq.heappop(h)\n",
        "\n",
        "    result = []\n",
        "  for p in h:\n",
        "      result.append([p[1].x, p[1].y])\n",
        "  return result\n",
        "\n",
        "points, k = [[3,3],[5,-1],[-2,4]],  2\n",
        "\n",
        "print(KCloset(points, k))\n",
        "\n",
        "\n"
      ],
      "metadata": {
        "colab": {
          "base_uri": "https://localhost:8080/"
        },
        "id": "-iR7Hxo15f_-",
        "outputId": "44171caa-28cf-4749-f1b9-5d61affe3585"
      },
      "execution_count": null,
      "outputs": [
        {
          "output_type": "stream",
          "name": "stdout",
          "text": [
            "[(-4.242640687119285, <__main__.Point object at 0x7f2063868940>)]\n",
            "[(-5.0990195135927845, <__main__.Point object at 0x7f2063868850>), (-4.242640687119285, <__main__.Point object at 0x7f2063868940>)]\n",
            "[(-4.47213595499958, <__main__.Point object at 0x7f2063868fd0>), (-4.242640687119285, <__main__.Point object at 0x7f2063868940>)]\n",
            "[[-2, 4], [3, 3]]\n"
          ]
        }
      ]
    },
    {
      "cell_type": "code",
      "source": [
        "def kClosest(self, points: List[List[int]], K: int) -> List[List[int]]:\n",
        "        heap = []\n",
        "\n",
        "        for (x, y) in points:\n",
        "            dist = -(x*x + y*y)\n",
        "            if len(heap) == K:\n",
        "                heapq.heappushpop(heap, (dist, x, y))\n",
        "            else:\n",
        "                heapq.heappush(heap, (dist, x, y))\n",
        "\n",
        "        return [(x,y) for (dist,x, y) in heap]"
      ],
      "metadata": {
        "id": "O3LPZCfsCFdE"
      },
      "execution_count": null,
      "outputs": []
    },
    {
      "cell_type": "markdown",
      "source": [
        "## Length of longest substring"
      ],
      "metadata": {
        "id": "T0_I39S0yS_b"
      }
    },
    {
      "cell_type": "code",
      "source": [
        "def lengthOfLongestSub(s:str)->int:\n",
        "  n = len(s)\n",
        "  char_map ={}\n",
        "  res = 0\n",
        "  i = 0\n",
        "  for j in range(n):\n",
        "    if s[j] in char_map:\n",
        "      i = max(char_map[s[j]], i)\n",
        "\n",
        "    res = max(j-i+1, res)\n",
        "    char_map[s[j]]=j+1\n",
        "\n",
        "  return res\n",
        "# print(lengthOfLongestSub(\"abcabcbb\"))\n",
        "\n",
        "# in addition to this, and leetcode official solution\n",
        "\n",
        "\n",
        "def lengthOfLongestSubStr(s:str)->int:\n",
        "  max_len = 0\n",
        "  curr=\"\"\n",
        "\n",
        "  for c in s:\n",
        "    if c in curr:\n",
        "      max_len = max(len(curr), max_len)\n",
        "      curr = curr[curr.index(c)+1:]\n",
        "    curr = curr+c\n",
        "    # print(curr)\n",
        "  return max_len\n",
        "\n",
        "print(lengthOfLongestSubStr(\"abcabcbb\"))\n",
        "# assymptopicaly this should be slower as curr.index(c) is O(n)"
      ],
      "metadata": {
        "colab": {
          "base_uri": "https://localhost:8080/"
        },
        "id": "iVKtcMxhR0Db",
        "outputId": "3a3bc835-8f6a-40b0-a426-4ac8f0db72d2"
      },
      "execution_count": null,
      "outputs": [
        {
          "output_type": "stream",
          "name": "stdout",
          "text": [
            "3\n"
          ]
        }
      ]
    },
    {
      "cell_type": "markdown",
      "source": [
        "## Level order traversal"
      ],
      "metadata": {
        "id": "Zk7I521cycE8"
      }
    },
    {
      "cell_type": "code",
      "source": [
        "# level order traversal of binary tree\n",
        "class TreeNode():\n",
        "  def __init__(self, val=0, left=None, right=None):\n",
        "    self.val, self.left, self.right = val, left, right\n",
        "\n",
        "def level_order_traversal(tree):\n",
        "  result = []\n",
        "\n",
        "  if not tree:\n",
        "    return result\n",
        "  cur_depth_nodes = [tree]\n",
        "\n",
        "  while cur_depth_nodes:\n",
        "    print(cur_depth_nodes)\n",
        "    result.append([cur.val for cur in cur_depth_nodes])\n",
        "    tem_cur_depth_nodes = []\n",
        "    for cur in cur_depth_nodes:\n",
        "      for child in (cur.left, cur.right):\n",
        "        if child:\n",
        "          tem_cur_depth_nodes.append(child)\n",
        "    cur_depth_nodes = tem_cur_depth_nodes\n",
        "  return result\n",
        "\n",
        "tree = TreeNode(5,TreeNode(3, TreeNode(1), TreeNode(2)), TreeNode(4))\n",
        "print(level_order_traversal(tree))"
      ],
      "metadata": {
        "colab": {
          "base_uri": "https://localhost:8080/"
        },
        "id": "-8tlQ0rEiKeD",
        "outputId": "23ddd422-fc1d-4e79-9dae-ee3cbb3c759f"
      },
      "execution_count": null,
      "outputs": [
        {
          "output_type": "stream",
          "name": "stdout",
          "text": [
            "[<__main__.TreeNode object at 0x7f206bcf30d0>]\n",
            "[<__main__.TreeNode object at 0x7f206bcf3c10>, <__main__.TreeNode object at 0x7f206bcf3280>]\n",
            "[<__main__.TreeNode object at 0x7f206bcf3760>, <__main__.TreeNode object at 0x7f206bcf36d0>]\n",
            "[[5], [3, 4], [1, 2]]\n"
          ]
        }
      ]
    },
    {
      "cell_type": "code",
      "source": [
        "# the main concept of level order traversal is, we can process each level at once, so, when a new layer starts, if level starts with 0,\n",
        "# len(previous level nodes) == current levl. So, when it 1st level, number of node is len of last level which is one for root\n",
        "import collections\n",
        "class TreeNode():\n",
        "  def __init__(self, val=0, left=None, right=None):\n",
        "    self.val, self.left, self.right = val, left, right\n",
        "\n",
        "def level_order_traversal_q(root):\n",
        "  result = []\n",
        "  if not root:\n",
        "    return result\n",
        "\n",
        "  q = collections.deque([root])\n",
        "  level = 0\n",
        "\n",
        "  while q:\n",
        "    result.append([])\n",
        "    level_len = len(q)\n",
        "    for i in range(level_len):\n",
        "      node = q.popleft()\n",
        "      result[-1].append(node.val)\n",
        "      if node.left:\n",
        "        q.append(node.left)\n",
        "      if node.right:\n",
        "        q.append(node.right)\n",
        "\n",
        "    level +=1\n",
        "  return result\n",
        "\n",
        "tree = TreeNode(5,TreeNode(3, TreeNode(1), TreeNode(2)), TreeNode(4))\n",
        "print(level_order_traversal_q(tree))\n",
        ""
      ],
      "metadata": {
        "colab": {
          "base_uri": "https://localhost:8080/"
        },
        "id": "FngLB92E5-SE",
        "outputId": "bb643bde-0e56-4312-f477-9aef51f3c7a3"
      },
      "execution_count": null,
      "outputs": [
        {
          "output_type": "stream",
          "name": "stdout",
          "text": [
            "[[5], [3, 4], [1, 2]]\n"
          ]
        }
      ]
    },
    {
      "cell_type": "markdown",
      "source": [
        "## Evaluate RPN"
      ],
      "metadata": {
        "id": "WhSOgwmeyhIY"
      }
    },
    {
      "cell_type": "code",
      "source": [
        "from typing import List\n",
        "def evalRPN(tokens: List[str]) -> int:\n",
        "        stack = []\n",
        "        operators = {'+', '-', '/', '*'}\n",
        "\n",
        "        for token in tokens:\n",
        "            # print(stack, token)\n",
        "            if token not in operators:\n",
        "                stack.append(int(token))\n",
        "            else:\n",
        "                operand2 = stack.pop()\n",
        "                operand1 = stack.pop()\n",
        "\n",
        "                if token == '+':\n",
        "                    stack.append(operand1 + operand2)\n",
        "                elif token == '-':\n",
        "                    stack.append(operand1 - operand2)\n",
        "                elif token == '/':\n",
        "                    stack.append(int(operand1 / operand2)) # most important part\n",
        "                else:\n",
        "                    stack.append(operand1 * operand2)\n",
        "\n",
        "        return stack.pop()\n",
        "A=[\"10\",\"6\",\"9\",\"3\",\"+\",\"-11\",\"*\",\"/\",\"*\",\"17\",\"+\",\"5\",\"+\"]\n",
        "print(evalRPN(A))"
      ],
      "metadata": {
        "colab": {
          "base_uri": "https://localhost:8080/"
        },
        "id": "eKTAgk8dxNJv",
        "outputId": "aa6271b9-d6e1-4fb3-de46-846161117d0e"
      },
      "execution_count": null,
      "outputs": [
        {
          "output_type": "stream",
          "name": "stdout",
          "text": [
            "22\n"
          ]
        }
      ]
    },
    {
      "cell_type": "markdown",
      "source": [
        "## LRU Cache"
      ],
      "metadata": {
        "id": "jihC5fZqylGu"
      }
    },
    {
      "cell_type": "code",
      "source": [
        "# LRU cache\n",
        "# its all about keep the requirement and algorithm ready before implementing\n",
        "\n",
        "# 1. First need to use cache map and double linklist with capacity\n",
        "# 1. put(key, value):\n",
        "#    * check in the cache if exists\n",
        "#    * if not exists a)add to map, b)add to linklist and make it head c) check for size and capacity d) remove tail (pop tail ) if it pass beyond capacity\n",
        "#    * if it eixts, update the value but asks questions what to do\n",
        "#    * if it exists, then instead of adding, a)remove from the list, b) add into the head , no need to check capacity or remove\n",
        "# 3. if get(key):\n",
        "#    if it does not exists in cache, return -1 and do nothing\n",
        "#    if it exists, then remove it from the link list and add to the head and send back the value to the cal\n",
        "\n",
        "class DLinkedNode:\n",
        "  def __init__(self, key=0, value=0, prev=None, next=None):\n",
        "    self.key, self.value, self.prev, self.next = key, value, prev, next\n",
        "\n",
        "class LRUCache:\n",
        "  def __init__(self, capacity=4, ):\n",
        "    self.capacity=capacity\n",
        "    self.cache = {}\n",
        "    self.size = 0\n",
        "    self.head=DLinkedNode()\n",
        "    self.tail = DLinkedNode()\n",
        "\n",
        "    # I missed this step\n",
        "    self.head.next = self.tail\n",
        "    self.tail.prev=self.head\n",
        "\n",
        "  def add_node(self, node):\n",
        "\n",
        "    node.next = self.head.next\n",
        "    node.prev = self.head\n",
        "\n",
        "    self.head.next.prev = node\n",
        "    self.head.next = node\n",
        "\n",
        "  def remove_node(self, node):\n",
        "    node.prev.next = node.next\n",
        "    node.next.prev=node.prev\n",
        "\n",
        "  def make_head(self, node):\n",
        "    self.remove_node(node)\n",
        "    self.add_node(node)\n",
        "\n",
        "  def pop_tail(self):\n",
        "    # del self.cache[self.tail.prev.key]\n",
        "    self.cache.pop(self.tail.prev.key)\n",
        "    res = self.tail.prev\n",
        "    self.remove_node(res)\n",
        "\n",
        "\n",
        "\n",
        "  def put(self, key, value):\n",
        "    node = self.cache.get(key)\n",
        "\n",
        "\n",
        "    if not node:\n",
        "      new_node = DLinkedNode(key=key, value=value)\n",
        "      self.cache[key] = new_node\n",
        "      self.add_node(new_node)\n",
        "      self.size +=1\n",
        "\n",
        "      if self.capacity < self.size:\n",
        "        self.pop_tail()\n",
        "        self.size -=1\n",
        "    else:\n",
        "      node.value = value\n",
        "      self.make_head(node)\n",
        "\n",
        "\n",
        "  def get(self, key, value):\n",
        "    node = self.cache.get(key)\n",
        "    if not node:\n",
        "      return -1\n",
        "    node.value = value\n",
        "    self.make_head(node)\n",
        "    return node.value\n",
        "\n",
        "lru_cache = LRUCache()\n",
        "lru_cache.put(2,11)\n",
        "lru_cache.put(3,12)\n",
        "lru_cache.put(4,13)\n",
        "lru_cache.put(5,14)\n",
        "lru_cache.put(8,14)\n",
        "print(lru_cache.cache)\n",
        "lru_cache.put(6,18)\n",
        "print(lru_cache.cache)\n",
        "lru_cache.get(8,20)\n",
        "print(lru_cache.cache.get(8).value)"
      ],
      "metadata": {
        "colab": {
          "base_uri": "https://localhost:8080/"
        },
        "id": "fKmQhv41LdEN",
        "outputId": "1b990900-b48f-4a75-dd2d-cb72b4db31b5"
      },
      "execution_count": null,
      "outputs": [
        {
          "output_type": "stream",
          "name": "stdout",
          "text": [
            "{3: <__main__.DLinkedNode object at 0x7f7d8b6420a0>, 4: <__main__.DLinkedNode object at 0x7f7d8b6c45e0>, 5: <__main__.DLinkedNode object at 0x7f7d8b642250>, 8: <__main__.DLinkedNode object at 0x7f7d8b6422b0>}\n",
            "{4: <__main__.DLinkedNode object at 0x7f7d8b6c45e0>, 5: <__main__.DLinkedNode object at 0x7f7d8b642250>, 8: <__main__.DLinkedNode object at 0x7f7d8b6422b0>, 6: <__main__.DLinkedNode object at 0x7f7d8b6c4ac0>}\n",
            "20\n"
          ]
        }
      ]
    },
    {
      "cell_type": "markdown",
      "source": [
        "## LC-76 min window to find all character in a pattern"
      ],
      "metadata": {
        "id": "ygUZNw6oyqQW"
      }
    },
    {
      "cell_type": "code",
      "source": [
        "# LC-76 min window to find all character in a pattern\n",
        "# track min_len, min_len's start index, iterator from left to right\n",
        "#  in a counter, add t which will keep unique character with frequencey\n",
        "#  create a window of hashmap, where we will add character one by one and update frequency\n",
        "    #  if a character inserted in window is also a character in t, we will increase counter\n",
        "    #  if counter reached to the length of t, that means, we have a desirable window\n",
        "    #  however, we may remove some character from left as finding all character at right may have added the left character to the window\n",
        "    #  we will check s[left] counter is more than needed or it is not part of t, then discard those\n",
        "    #  once we are done, calculate the min_len and udpate global min length if necessary,\n",
        "    #  update start point of min_len as well\n",
        "from typing import Counter\n",
        "\n",
        "def minWindow(s:str, t:str)-> str:\n",
        "  if len(s) < len(t):\n",
        "    return \"\" # ask question whether to test this\n",
        "\n",
        "  window = {} # this will be return\n",
        "  t_counter = Counter(t) # keep frequency of each character in the t string\n",
        "\n",
        "  left, start, min_len = 0, -1, float('inf')\n",
        "  num_matched_char = 0\n",
        "\n",
        "\n",
        "\n",
        "  # we will find a window and match whether all character of t with the same frequency present in the window.\n",
        "\n",
        "  for  j in range(len(s)):\n",
        "    window[s[j]] = window.get(s[j],0) + 1\n",
        "    # print(window, t_counter)\n",
        "\n",
        "    if window.get(s[j]) <= t_counter[s[j]]: #we will increase count only if it converge toward result, {c:2}, if we get c in window and window = {c:1}, then increase count\n",
        "      num_matched_char +=1\n",
        "\n",
        "    if num_matched_char == len(t):\n",
        "      print(window, t_counter,num_matched_char)\n",
        "\n",
        "     # move left pointer if left removing that does not make the window non desirable or if it is not part of t\n",
        "      while left < j and (window.get(s[left], 0) > t_counter[s[left]] or t_counter[s[left]] == 0):\n",
        "        print(left, window)\n",
        "        if window.get(s[left],0) > t_counter[s[left]]:\n",
        "          window[s[left]] = window.get(s[left],0) - 1\n",
        "          # count -=1 , this is not needed as we are already removing from window and comparing against window\n",
        "        left +=1\n",
        "      # now from left to j it holds the desirable part\n",
        "      len_window = j -left +1\n",
        "\n",
        "      if min_len > len_window:\n",
        "        min_len = len_window\n",
        "        start =  left #if this segment is min, keep the starting index\n",
        "\n",
        "  if start == -1:\n",
        "    return \"\"\n",
        "\n",
        "  # print(start, min_len)\n",
        "  return s[start:start+min_len]\n",
        "\n",
        "\n",
        "minWindow(\"cabefgecdaecf\", \"cae\")\n"
      ],
      "metadata": {
        "colab": {
          "base_uri": "https://localhost:8080/",
          "height": 365
        },
        "id": "QRxGaVblmbiS",
        "outputId": "ec218252-42ef-412e-eff1-5e4cb7852052"
      },
      "execution_count": null,
      "outputs": [
        {
          "output_type": "stream",
          "name": "stdout",
          "text": [
            "{'c': 1, 'a': 1, 'b': 1, 'e': 1} Counter({'c': 1, 'a': 1, 'e': 1}) 3\n",
            "{'c': 1, 'a': 1, 'b': 1, 'e': 1, 'f': 1} Counter({'c': 1, 'a': 1, 'e': 1}) 3\n",
            "{'c': 1, 'a': 1, 'b': 1, 'e': 1, 'f': 1, 'g': 1} Counter({'c': 1, 'a': 1, 'e': 1}) 3\n",
            "{'c': 1, 'a': 1, 'b': 1, 'e': 2, 'f': 1, 'g': 1} Counter({'c': 1, 'a': 1, 'e': 1}) 3\n",
            "{'c': 2, 'a': 1, 'b': 1, 'e': 2, 'f': 1, 'g': 1} Counter({'c': 1, 'a': 1, 'e': 1}) 3\n",
            "0 {'c': 2, 'a': 1, 'b': 1, 'e': 2, 'f': 1, 'g': 1}\n",
            "{'c': 1, 'a': 1, 'b': 1, 'e': 2, 'f': 1, 'g': 1, 'd': 1} Counter({'c': 1, 'a': 1, 'e': 1}) 3\n",
            "{'c': 1, 'a': 2, 'b': 1, 'e': 2, 'f': 1, 'g': 1, 'd': 1} Counter({'c': 1, 'a': 1, 'e': 1}) 3\n",
            "1 {'c': 1, 'a': 2, 'b': 1, 'e': 2, 'f': 1, 'g': 1, 'd': 1}\n",
            "2 {'c': 1, 'a': 1, 'b': 1, 'e': 2, 'f': 1, 'g': 1, 'd': 1}\n",
            "3 {'c': 1, 'a': 1, 'b': 0, 'e': 2, 'f': 1, 'g': 1, 'd': 1}\n",
            "4 {'c': 1, 'a': 1, 'b': 0, 'e': 1, 'f': 1, 'g': 1, 'd': 1}\n",
            "5 {'c': 1, 'a': 1, 'b': 0, 'e': 1, 'f': 0, 'g': 1, 'd': 1}\n",
            "{'c': 1, 'a': 1, 'b': 0, 'e': 2, 'f': 0, 'g': 0, 'd': 1} Counter({'c': 1, 'a': 1, 'e': 1}) 3\n",
            "6 {'c': 1, 'a': 1, 'b': 0, 'e': 2, 'f': 0, 'g': 0, 'd': 1}\n",
            "{'c': 2, 'a': 1, 'b': 0, 'e': 1, 'f': 0, 'g': 0, 'd': 1} Counter({'c': 1, 'a': 1, 'e': 1}) 3\n",
            "7 {'c': 2, 'a': 1, 'b': 0, 'e': 1, 'f': 0, 'g': 0, 'd': 1}\n",
            "8 {'c': 1, 'a': 1, 'b': 0, 'e': 1, 'f': 0, 'g': 0, 'd': 1}\n",
            "{'c': 1, 'a': 1, 'b': 0, 'e': 1, 'f': 1, 'g': 0, 'd': 0} Counter({'c': 1, 'a': 1, 'e': 1}) 3\n"
          ]
        },
        {
          "output_type": "execute_result",
          "data": {
            "text/plain": [
              "'aec'"
            ],
            "application/vnd.google.colaboratory.intrinsic+json": {
              "type": "string"
            }
          },
          "metadata": {},
          "execution_count": 52
        }
      ]
    },
    {
      "cell_type": "markdown",
      "source": [
        "## Partition into two sub set"
      ],
      "metadata": {
        "id": "uA3KMK7cyyGU"
      }
    },
    {
      "cell_type": "code",
      "source": [
        "from typing import List\n",
        "def canPartition(nums:List[int]) -> bool:\n",
        "  nums.sort()\n",
        "  print(nums)\n",
        "  left, right = 1, len(nums)-1\n",
        "  left_sum, right_sum = nums[0], nums[-1]\n",
        "  while left < right:\n",
        "     if left_sum + nums[left] <= right_sum:\n",
        "       left_sum +=nums[left]\n",
        "       left +=1\n",
        "     else:\n",
        "       right_sum +=nums[left]\n",
        "       right -=1\n",
        "  print(left_sum, right_sum)\n",
        "  if left_sum == right_sum:\n",
        "    return True\n",
        "\n",
        "  return False\n",
        "\n",
        "\n",
        "# but the main logic is we have to try using each element by adding them to the subset or not adding them.\n",
        "# also, sum all and then get half of the sum\n",
        "\n",
        "# so, we need recursive backtracking\n",
        "\n",
        "def partition(nums:List[int]) -> bool:\n",
        "  def dfs(ss: int, i: int) -> bool:\n",
        "    print(ss, i)\n",
        "    if ss == 0:\n",
        "      return True\n",
        "    if i==0 or ss < 0:\n",
        "      return False\n",
        "\n",
        "    return (dfs(ss, i-1) or dfs(ss-nums[i-1], i-1))\n",
        "\n",
        "  total = sum(nums)\n",
        "  # subsetsum = total%2\n",
        "  if total%2 !=0:\n",
        "    return False\n",
        "  subsetsum = total//2\n",
        "  n = len(nums)\n",
        "\n",
        "  return dfs(subsetsum, n-1)\n",
        "\n",
        "\n",
        "\n",
        "A= [1,5,5,10,11]\n",
        "print(partition(A))"
      ],
      "metadata": {
        "colab": {
          "base_uri": "https://localhost:8080/"
        },
        "id": "gSPkQzhaN1dt",
        "outputId": "ac726f98-3b73-45eb-905f-e8ce368f900b"
      },
      "execution_count": null,
      "outputs": [
        {
          "output_type": "stream",
          "name": "stdout",
          "text": [
            "16 4\n",
            "16 3\n",
            "16 2\n",
            "16 1\n",
            "16 0\n",
            "15 0\n",
            "11 1\n",
            "11 0\n",
            "10 0\n",
            "11 2\n",
            "11 1\n",
            "11 0\n",
            "10 0\n",
            "6 1\n",
            "6 0\n",
            "5 0\n",
            "6 3\n",
            "6 2\n",
            "6 1\n",
            "6 0\n",
            "5 0\n",
            "1 1\n",
            "1 0\n",
            "0 0\n",
            "True\n"
          ]
        }
      ]
    },
    {
      "cell_type": "code",
      "source": [
        "# we can solve this using dynamic programming as there are repeatative calculation\n",
        "# create dp table for i, j where num of colums is the subsetsum and j for the number of items in the list\n",
        "# dp[i][j] = dp[i-1][j] if we do not include current item in the sum, whatever we had with previous item is True\n",
        "# dp[i-1][j-nums[i]], if we achive true or false without current item and current sum minus current item, then that will be put here as adding nums[i] will not change anything\n",
        "\n",
        "def partition_dp(nums):\n",
        "  total = sum(nums)\n",
        "  if total%2 != 0:\n",
        "    return False\n",
        "\n",
        "  subsetsum = total//2\n",
        "  n = len(nums)\n",
        "\n",
        "  dp = [[False]*(subsetsum+1) for _ in range(n+1)]\n",
        "\n",
        "  dp[0][0] = True\n",
        "\n",
        "  for i in range(1, n+1):\n",
        "    curr_item = nums[i-1]\n",
        "    for j in range(1, subsetsum+1):\n",
        "      if j < curr_item:\n",
        "        dp[i][j] = dp[i-1][j]\n",
        "      else:\n",
        "        dp[i][j] = dp[i-1][j-curr_item] or dp[i-1][j]\n",
        "  return dp[n][subsetsum]\n",
        "\n",
        "\n",
        "A= [1,5,5,10,11]\n",
        "print(partition_dp(A))\n",
        "\n",
        "# how to improve 2d array to 1d array\n",
        "# we are only using with previous item and previous row, can we reduce massive storage\n",
        "\n",
        ""
      ],
      "metadata": {
        "colab": {
          "base_uri": "https://localhost:8080/"
        },
        "id": "zq1C69lclUpR",
        "outputId": "6736c5bf-293e-4e42-db3c-069769831af4"
      },
      "execution_count": null,
      "outputs": [
        {
          "output_type": "stream",
          "name": "stdout",
          "text": [
            "True\n"
          ]
        }
      ]
    },
    {
      "cell_type": "code",
      "source": [
        "from os import dup2\n",
        "def partition_dp2(nums):\n",
        "  total = sum(nums)\n",
        "  if total%2 != 0:\n",
        "    return False\n",
        "\n",
        "  subsetsum = total//2\n",
        "  n = len(nums)\n",
        "\n",
        "  dp = [False]*(subsetsum+1)\n",
        "\n",
        "  dp[0]= True\n",
        "  #  basically, we will try to find from last to first, it will try to make it true if any combination of sum is possible\n",
        "  # if [1,5,5,10,11], then it starts with 0 as true, then for 1 only 0+1 is true\n",
        "  # for 5, 0+5, and 1+5 = 6 is true\n",
        "  # for next 5, 0+5, 1+5, 6+5 is true\n",
        "  # for 10, 0, 1, 5,6, 11, 15,16 is true as 10+11 out of bound\n",
        "  # for 11, 0, 1,5,6,11,12,16 is true\n",
        "  # why cannot we do forward facing, because anything done true by previous steps will become false,\n",
        "  # but if we do backword, we can stop when it will not affect at all\n",
        "  # also if the item is too big, then it will calculate all the way, but if we do backward, we will stop at item value\n",
        "  for i in range(1, n+1):\n",
        "    curr_item = nums[i-1]\n",
        "    for j in range(subsetsum, curr_item-1, -1):\n",
        "      # print(j, j-curr_item)\n",
        "      dp[j] = dp[j-curr_item] or dp[j]\n",
        "    print(dp)\n",
        "  return dp[subsetsum]\n",
        "\n",
        "\n",
        "A= [1,5,5,10,11]\n",
        "print(partition_dp2(A))"
      ],
      "metadata": {
        "id": "0fSLsXu7eNNh",
        "colab": {
          "base_uri": "https://localhost:8080/"
        },
        "outputId": "fbba6569-748c-487a-bde5-482fa3a59251"
      },
      "execution_count": null,
      "outputs": [
        {
          "output_type": "stream",
          "name": "stdout",
          "text": [
            "[True, True, False, False, False, False, False, False, False, False, False, False, False, False, False, False, False]\n",
            "[True, True, False, False, False, True, True, False, False, False, False, False, False, False, False, False, False]\n",
            "[True, True, False, False, False, True, True, False, False, False, True, True, False, False, False, False, False]\n",
            "[True, True, False, False, False, True, True, False, False, False, True, True, False, False, False, True, True]\n",
            "[True, True, False, False, False, True, True, False, False, False, True, True, True, False, False, True, True]\n",
            "True\n"
          ]
        }
      ]
    },
    {
      "cell_type": "code",
      "source": [
        "def canPartition(self, nums: List[int]) -> bool:\n",
        "        target, r = divmod(sum(nums), 2)\n",
        "        if r:\n",
        "            return False\n",
        "\n",
        "        cur = {0}\n",
        "        for n in nums:\n",
        "            new = {i + n for i in cur} #create a map of all possible true value\n",
        "            if target in new:\n",
        "                return True\n",
        "            cur |= new #add all possible sums to map\n",
        "        return False"
      ],
      "metadata": {
        "id": "qKJ_jj467K5s"
      },
      "execution_count": null,
      "outputs": []
    },
    {
      "cell_type": "markdown",
      "source": [
        "## Coin Change problem"
      ],
      "metadata": {
        "id": "dzMs5zG5y4NL"
      }
    },
    {
      "cell_type": "code",
      "source": [
        "from typing import List, Counter\n",
        "import math\n",
        "class Solution:\n",
        "    def coinChange(self, coins: List[int], amount: int) -> int:\n",
        "\n",
        "        def dfs(am, res, temp):\n",
        "\n",
        "            if am == 0:\n",
        "                # print(am, temp)\n",
        "                res.append(len(Counter(temp)))\n",
        "                return\n",
        "\n",
        "            if am < 0:\n",
        "                return\n",
        "\n",
        "            # print(coins)\n",
        "            for coin in coins:\n",
        "                temp.append(coin)\n",
        "                # print(am-coin)\n",
        "                dfs(am-coin, res, temp)\n",
        "                # print(temp, coin)\n",
        "                # if coin in temp:\n",
        "                temp.remove(coin)\n",
        "                # dfs(amount, res, temp)\n",
        "        res = []\n",
        "        temp = []\n",
        "        dfs(amount, res, temp)\n",
        "        # print(res)\n",
        "        return min(res)\n",
        "cc = Solution()\n",
        "print(cc.coinChange([3,5], 13))\n",
        ""
      ],
      "metadata": {
        "colab": {
          "base_uri": "https://localhost:8080/"
        },
        "id": "HrnsqArZ9NKu",
        "outputId": "6cbdde7a-0b17-44fd-c857-2b53b5b9a7ca"
      },
      "execution_count": null,
      "outputs": [
        {
          "output_type": "stream",
          "name": "stdout",
          "text": [
            "2\n"
          ]
        }
      ]
    },
    {
      "cell_type": "code",
      "source": [
        "# problem with brute force is it uses repeated calculation of amount\n",
        "# if we are processed 0...x....n, then at x, if we are left of x...n and we already know from previous steps, then use it\n",
        "\n",
        "def coinChange(coins: List[int], amount: int) -> int:\n",
        "  dp=[[float('inf')]*(amount+1) for _ in range(len(coins))]\n",
        "  # print(dp)\n",
        "  for i in range(0, len(coins)):\n",
        "    dp[i][0] =0\n",
        "\n",
        "  for i in range(len(coins)):\n",
        "    coin = coins[i]\n",
        "    for x in range(1, amount+1):\n",
        "      # print(i, x)\n",
        "      if i >0:\n",
        "        dp[i][x]=min(dp[i-1][x], dp[i][x-coin]+1)\n",
        "        print(i, x, dp[i-1][x], dp[i][x-coin]+1)\n",
        "      else:\n",
        "        dp[i][x] = dp[i][x-coin]+1\n",
        "\n",
        "  print(\"\\n\".join(\"   \".join(str(c) for c in row) for row in dp))\n",
        "  return dp[len(coins)-1][amount] if dp[len(coins)-1][amount] != float('inf') else -1\n",
        "\n",
        "print(coinChange([2147483647], 2))\n",
        "# this will fails of these input"
      ],
      "metadata": {
        "colab": {
          "base_uri": "https://localhost:8080/",
          "height": 340
        },
        "id": "V_xql8q6-1TV",
        "outputId": "757ac1c6-25b8-4d03-dec4-c2bfc624507e"
      },
      "execution_count": null,
      "outputs": [
        {
          "output_type": "error",
          "ename": "IndexError",
          "evalue": "ignored",
          "traceback": [
            "\u001b[0;31m---------------------------------------------------------------------------\u001b[0m",
            "\u001b[0;31mIndexError\u001b[0m                                Traceback (most recent call last)",
            "\u001b[0;32m<ipython-input-71-02f56a02bbec>\u001b[0m in \u001b[0;36m<module>\u001b[0;34m\u001b[0m\n\u001b[1;32m     21\u001b[0m   \u001b[0;32mreturn\u001b[0m \u001b[0mdp\u001b[0m\u001b[0;34m[\u001b[0m\u001b[0mlen\u001b[0m\u001b[0;34m(\u001b[0m\u001b[0mcoins\u001b[0m\u001b[0;34m)\u001b[0m\u001b[0;34m-\u001b[0m\u001b[0;36m1\u001b[0m\u001b[0;34m]\u001b[0m\u001b[0;34m[\u001b[0m\u001b[0mamount\u001b[0m\u001b[0;34m]\u001b[0m \u001b[0;32mif\u001b[0m \u001b[0mdp\u001b[0m\u001b[0;34m[\u001b[0m\u001b[0mlen\u001b[0m\u001b[0;34m(\u001b[0m\u001b[0mcoins\u001b[0m\u001b[0;34m)\u001b[0m\u001b[0;34m-\u001b[0m\u001b[0;36m1\u001b[0m\u001b[0;34m]\u001b[0m\u001b[0;34m[\u001b[0m\u001b[0mamount\u001b[0m\u001b[0;34m]\u001b[0m \u001b[0;34m!=\u001b[0m \u001b[0mfloat\u001b[0m\u001b[0;34m(\u001b[0m\u001b[0;34m'inf'\u001b[0m\u001b[0;34m)\u001b[0m \u001b[0;32melse\u001b[0m \u001b[0;34m-\u001b[0m\u001b[0;36m1\u001b[0m\u001b[0;34m\u001b[0m\u001b[0;34m\u001b[0m\u001b[0m\n\u001b[1;32m     22\u001b[0m \u001b[0;34m\u001b[0m\u001b[0m\n\u001b[0;32m---> 23\u001b[0;31m \u001b[0mprint\u001b[0m\u001b[0;34m(\u001b[0m\u001b[0mcoinChange\u001b[0m\u001b[0;34m(\u001b[0m\u001b[0;34m[\u001b[0m\u001b[0;36m2147483647\u001b[0m\u001b[0;34m]\u001b[0m\u001b[0;34m,\u001b[0m \u001b[0;36m2\u001b[0m\u001b[0;34m)\u001b[0m\u001b[0;34m)\u001b[0m\u001b[0;34m\u001b[0m\u001b[0;34m\u001b[0m\u001b[0m\n\u001b[0m\u001b[1;32m     24\u001b[0m \u001b[0;31m# this will fails of these input\u001b[0m\u001b[0;34m\u001b[0m\u001b[0;34m\u001b[0m\u001b[0;34m\u001b[0m\u001b[0m\n",
            "\u001b[0;32m<ipython-input-71-02f56a02bbec>\u001b[0m in \u001b[0;36mcoinChange\u001b[0;34m(coins, amount)\u001b[0m\n\u001b[1;32m     16\u001b[0m         \u001b[0mprint\u001b[0m\u001b[0;34m(\u001b[0m\u001b[0mi\u001b[0m\u001b[0;34m,\u001b[0m \u001b[0mx\u001b[0m\u001b[0;34m,\u001b[0m \u001b[0mdp\u001b[0m\u001b[0;34m[\u001b[0m\u001b[0mi\u001b[0m\u001b[0;34m-\u001b[0m\u001b[0;36m1\u001b[0m\u001b[0;34m]\u001b[0m\u001b[0;34m[\u001b[0m\u001b[0mx\u001b[0m\u001b[0;34m]\u001b[0m\u001b[0;34m,\u001b[0m \u001b[0mdp\u001b[0m\u001b[0;34m[\u001b[0m\u001b[0mi\u001b[0m\u001b[0;34m]\u001b[0m\u001b[0;34m[\u001b[0m\u001b[0mx\u001b[0m\u001b[0;34m-\u001b[0m\u001b[0mcoin\u001b[0m\u001b[0;34m]\u001b[0m\u001b[0;34m+\u001b[0m\u001b[0;36m1\u001b[0m\u001b[0;34m)\u001b[0m\u001b[0;34m\u001b[0m\u001b[0;34m\u001b[0m\u001b[0m\n\u001b[1;32m     17\u001b[0m       \u001b[0;32melse\u001b[0m\u001b[0;34m:\u001b[0m\u001b[0;34m\u001b[0m\u001b[0;34m\u001b[0m\u001b[0m\n\u001b[0;32m---> 18\u001b[0;31m         \u001b[0mdp\u001b[0m\u001b[0;34m[\u001b[0m\u001b[0mi\u001b[0m\u001b[0;34m]\u001b[0m\u001b[0;34m[\u001b[0m\u001b[0mx\u001b[0m\u001b[0;34m]\u001b[0m \u001b[0;34m=\u001b[0m \u001b[0mdp\u001b[0m\u001b[0;34m[\u001b[0m\u001b[0mi\u001b[0m\u001b[0;34m]\u001b[0m\u001b[0;34m[\u001b[0m\u001b[0mx\u001b[0m\u001b[0;34m-\u001b[0m\u001b[0mcoin\u001b[0m\u001b[0;34m]\u001b[0m\u001b[0;34m+\u001b[0m\u001b[0;36m1\u001b[0m\u001b[0;34m\u001b[0m\u001b[0;34m\u001b[0m\u001b[0m\n\u001b[0m\u001b[1;32m     19\u001b[0m \u001b[0;34m\u001b[0m\u001b[0m\n\u001b[1;32m     20\u001b[0m   \u001b[0mprint\u001b[0m\u001b[0;34m(\u001b[0m\u001b[0;34m\"\\n\"\u001b[0m\u001b[0;34m.\u001b[0m\u001b[0mjoin\u001b[0m\u001b[0;34m(\u001b[0m\u001b[0;34m\"   \"\u001b[0m\u001b[0;34m.\u001b[0m\u001b[0mjoin\u001b[0m\u001b[0;34m(\u001b[0m\u001b[0mstr\u001b[0m\u001b[0;34m(\u001b[0m\u001b[0mc\u001b[0m\u001b[0;34m)\u001b[0m \u001b[0;32mfor\u001b[0m \u001b[0mc\u001b[0m \u001b[0;32min\u001b[0m \u001b[0mrow\u001b[0m\u001b[0;34m)\u001b[0m \u001b[0;32mfor\u001b[0m \u001b[0mrow\u001b[0m \u001b[0;32min\u001b[0m \u001b[0mdp\u001b[0m\u001b[0;34m)\u001b[0m\u001b[0;34m)\u001b[0m\u001b[0;34m\u001b[0m\u001b[0;34m\u001b[0m\u001b[0m\n",
            "\u001b[0;31mIndexError\u001b[0m: list index out of range"
          ]
        }
      ]
    },
    {
      "cell_type": "code",
      "source": [
        "# simple concept is fill x amount by taking previous achieved result, and the current result whichever is minimum\n",
        "def coinChange(coins: List[int], amount: int) -> int:\n",
        "        dp = [float('inf')] * (amount + 1)\n",
        "        dp[0] = 0\n",
        "\n",
        "        for coin in coins:\n",
        "            for x in range(coin, amount + 1):\n",
        "                dp[x] = min(dp[x], dp[x - coin] + 1)\n",
        "        return dp[amount] if dp[amount] != float('inf') else -1\n",
        "\n",
        "print(coinChange([1, 1,2147483647], 2))\n"
      ],
      "metadata": {
        "colab": {
          "base_uri": "https://localhost:8080/"
        },
        "id": "3gdNs7rskI4N",
        "outputId": "ca441ebb-fcd5-4d7b-a09d-71bc2999fd0b"
      },
      "execution_count": null,
      "outputs": [
        {
          "output_type": "stream",
          "name": "stdout",
          "text": [
            "2\n"
          ]
        }
      ]
    },
    {
      "cell_type": "markdown",
      "source": [
        "## Can schedule Course"
      ],
      "metadata": {
        "id": "XIAqPoCzy8nN"
      }
    },
    {
      "cell_type": "code",
      "source": [
        "# course schedule\n",
        "# can we do bfs or dfs to find cycle, dfs is faster because it will reach to cycle earlier\n",
        "import collections\n",
        "from typing import List\n",
        "\n",
        "\n",
        "def courseSchedule(prerequisites:List[List[int]], numOfCourse):\n",
        "  # print(team_a)\n",
        "  WHITE, GRAY, BLACK = range(3)\n",
        "  def build_graph(prerequisites):\n",
        "    g = collections.defaultdict(set)\n",
        "    for relation in prerequisites:\n",
        "      g[relation[0]].add(relation[1])\n",
        "    return g\n",
        "\n",
        "  def isCycle(graph, start, visited):\n",
        "\n",
        "    if visited[start] == GRAY:\n",
        "      return True\n",
        "    visited[start] = GRAY\n",
        "    if any(visited[next] != BLACK and isCycle(graph, next, visited) for next in graph[start]):\n",
        "      return True\n",
        "    visited[start]=BLACK\n",
        "    return False\n",
        "\n",
        "\n",
        "    # return any(is_cycle_exists(graph, team) for team in graph[start])\n",
        "  g = build_graph(prerequisites)\n",
        "  # visited = collections.defaultdict(set)\n",
        "  # return any(visited[vertex] == WHITE and isCycle(g, vertex, visited) for vertex in g)\n",
        "\n",
        "  for start in  range(numOfCourse):\n",
        "    visited = collections.defaultdict(set)\n",
        "    if start not in visited and isCycle(g, start, visited):\n",
        "      return False\n",
        "  return True\n",
        "\n",
        "prerequisites, k = [[1,0],[2,6],[1,7],[6,4],[7,0],[0,5]], 9\n",
        "print(courseSchedule(prerequisites, k))\n",
        "pr2, k= [[1,0]], 2\n",
        "print(courseSchedule(pr2, k))\n",
        "pr3, k =[[1,0],[0,1]], 2\n",
        "print(courseSchedule(pr3, k))\n",
        "pr4, k =[[0,10],[3,18],[5,5],[6,11],[11,14],[13,1],[15,1],[17,4]], 20\n",
        "print(courseSchedule(pr4, k))\n",
        "pr, k = [[2,0],[1,0],[3,1],[3,2],[1,3]], 4\n",
        "print(courseSchedule(pr, k))"
      ],
      "metadata": {
        "colab": {
          "base_uri": "https://localhost:8080/"
        },
        "id": "HBeI1AgSQ-wH",
        "outputId": "67d7ec78-384e-424e-fb53-2589b6936065"
      },
      "execution_count": null,
      "outputs": [
        {
          "output_type": "stream",
          "name": "stdout",
          "text": [
            "True\n",
            "True\n",
            "False\n",
            "False\n",
            "False\n"
          ]
        }
      ]
    },
    {
      "cell_type": "code",
      "source": [
        "from typing import List\n",
        "import collections\n",
        "\n",
        "def exist(board: List[List[str]], word: str) -> bool:\n",
        "        # Cell = collections.namedtuple(\"Cell\", ('x', 'y'))\n",
        "        visited = set()\n",
        "        def dfs(x, y, partial_word):\n",
        "            if len(partial_word) == 0:\n",
        "                return True\n",
        "            if x < 0 or x >=len(board) or y <0 or y >= len(board[0]):\n",
        "                return False\n",
        "            if partial_word[0] != board[x][y] or (x, y) in visited:\n",
        "                return False\n",
        "\n",
        "            visited.add((x, y))\n",
        "            is_exists = dfs(x+1, y, partial_word[1:])  or dfs(x-1, y, partial_word[1:]) or dfs(x, y+1, partial_word[1:]) or dfs(x, y-1, partial_word[1:]) # I am making this mistake over and over and over\n",
        "            visited.remove((x, y))\n",
        "            return is_exists\n",
        "\n",
        "        for i in range(len(board)):\n",
        "            for j in range(len(board[0])):\n",
        "                    if dfs(i,j, word):\n",
        "                        return True\n",
        "        return False\n",
        "\n",
        "b=[[\"C\",\"A\",\"A\"],[\"A\",\"A\",\"A\"],[\"B\",\"C\",\"D\"]]\n",
        "t=[\"AAB\"]\n",
        "print(exist(b,t))\n",
        "\n",
        "# time limit exceeded"
      ],
      "metadata": {
        "colab": {
          "base_uri": "https://localhost:8080/"
        },
        "id": "XJwqkCwjudvr",
        "outputId": "9e29930f-367e-4a32-841e-d1d65e2e8e00"
      },
      "execution_count": null,
      "outputs": [
        {
          "output_type": "stream",
          "name": "stdout",
          "text": [
            "False\n"
          ]
        }
      ]
    },
    {
      "cell_type": "code",
      "source": [
        "def exists2(board: List[List[str]], word: str) -> bool:\n",
        "  visited = set()\n",
        "  height, width = len(board), len(board[0])\n",
        "\n",
        "  def search(x, y, partial_word, idx):\n",
        "\n",
        "        visited = set()\n",
        "        height, width = len(board), len(board[0])\n",
        "\n",
        "        def search(x, y, partial_word, idx):\n",
        "            # check why partial[1:] is not working, use case [[\"A\"]], a\n",
        "            if partial_word[idx] != board[x][y]:\n",
        "                return False\n",
        "            # this should come after matching the current location with the target, otherwise it will return earlir even without check\n",
        "            # word[idx]\n",
        "            if len(partial_word)-1 == idx:\n",
        "                return True\n",
        "\n",
        "            visited.add((x,y))\n",
        "\n",
        "            if x >0 and (x -1, y) not in visited and search(x-1, y, partial_word, idx+1):\n",
        "                return True\n",
        "            # make sure that x+1 < height or x less than height-1\n",
        "            if  x < height-1 and (x +1, y) not in visited and search(x+1, y, partial_word, idx+1):\n",
        "                return True\n",
        "\n",
        "            if y >0 and (x, y-1) not in visited and search(x, y-1, partial_word, idx+1):\n",
        "                return True\n",
        "\n",
        "            if y < width-1 and (x, y+1) not in visited and search(x, y+1, partial_word, idx+1):\n",
        "                return True\n",
        "\n",
        "            visited.remove((x,y))\n",
        "            return False\n",
        "\n",
        "        for i in range(height):\n",
        "            for j in range(width):\n",
        "                if search(i, j, word, 0):\n",
        "                    return True\n",
        "        return False\n",
        "\n",
        "\n",
        "# b=[[\"C\",\"A\",\"A\"],[\"A\",\"A\",\"A\"],[\"B\",\"C\",\"D\"]]\n",
        "# t=\"AAB\"\n",
        "b=[[\"A\"]]\n",
        "t=\"A\"\n",
        "print(exists2(b,t))"
      ],
      "metadata": {
        "colab": {
          "base_uri": "https://localhost:8080/"
        },
        "id": "ChXh1Zh9bqqC",
        "outputId": "72aef323-7852-470c-ec8a-98ebf94ea12c"
      },
      "execution_count": null,
      "outputs": [
        {
          "output_type": "stream",
          "name": "stdout",
          "text": [
            "True\n"
          ]
        }
      ]
    },
    {
      "cell_type": "markdown",
      "source": [
        "## Rotten Orange"
      ],
      "metadata": {
        "id": "idxu6CM1zItw"
      }
    },
    {
      "cell_type": "code",
      "source": [
        "# rotten oranges\n",
        "# important use cases, there could be multiple rotten. at each minutes, all rotten orange will affect its neights\n",
        "# so for each step, we have to traverse for all rotten oranges.\n",
        "# if we use bfs, we have to add all rotten first and process all neightbors of rotten 1 and all neightbers or rotten 2 before\n",
        "# applying to neirbors neighbors\n",
        "\n",
        "# so, the technique will be to do level order traversal of bfs and starting points will be all rotten orages\n",
        "# need to count fresh oranges to see whether we have any fresh left\n",
        "def orangesRotting(grid: List[List[int]]) ->int:\n",
        "\n",
        "  # rotten_oranges = set()\n",
        "  q = collections.deque()\n",
        "\n",
        "  num_of_fresh_orange = 0\n",
        "  for i in range(len(grid)):\n",
        "    for j in range(len(grid[0])):\n",
        "      if grid[i][j] == 2:\n",
        "        q.append((i,j))\n",
        "      if grid[i][j] == 1:\n",
        "        num_of_fresh_orange +=1\n",
        "\n",
        "\n",
        "\n",
        "  minutes_elapse = 0\n",
        "\n",
        "  while q and num_of_fresh_orange:\n",
        "\n",
        "    minutes_elapse +=1\n",
        "    for _ in range(len(q)): #technique to level order traversal\n",
        "      cell= q.popleft()\n",
        "      # print(len(q))\n",
        "      # r, c = m[0], m[1]\n",
        "      for dir in ((1,0),(0,1),(-1,0),(0,-1)):\n",
        "        next_r, next_c = dir[0]+cell[0], dir[1] + cell[1]\n",
        "        # print(next_r, next_c)\n",
        "\n",
        "        if 0 <= next_r < len(grid) and 0 <= next_c < len(grid[0]) and grid[next_r][next_c] == 1:\n",
        "          grid[next_r][next_c]=2\n",
        "          num_of_fresh_orange -=1\n",
        "          q.append((next_r, next_c))\n",
        "\n",
        "\n",
        "  return -1 if num_of_fresh_orange else minutes_elapse\n",
        "\n",
        "a= [[2,1,1],[1,1,0],[0,1,1]]\n",
        "print(orangesRotting(a))\n"
      ],
      "metadata": {
        "colab": {
          "base_uri": "https://localhost:8080/"
        },
        "id": "VjWVhGWo_rUI",
        "outputId": "8a593304-c684-45d4-e181-90086d5a5e0a"
      },
      "execution_count": null,
      "outputs": [
        {
          "output_type": "stream",
          "name": "stdout",
          "text": [
            "4\n"
          ]
        }
      ]
    },
    {
      "cell_type": "code",
      "source": [
        "from collections import deque\n",
        "\n",
        "# Time complexity: O(rows * cols) -> each cell is visited at least once\n",
        "# Space complexity: O(rows * cols) -> in the worst case if all the oranges are rotten they will be added to the queue\n",
        "\n",
        "class Orange:\n",
        "    def orangesRotting(self, grid: List[List[int]]) -> int:\n",
        "\n",
        "        # number of rows\n",
        "        rows = len(grid)\n",
        "        if rows == 0:  # check if grid is empty\n",
        "            return -1\n",
        "\n",
        "        # number of columns\n",
        "        cols = len(grid[0])\n",
        "\n",
        "        # keep track of fresh oranges\n",
        "        fresh_cnt = 0\n",
        "\n",
        "        # queue with rotten oranges (for BFS)\n",
        "        rotten = deque()\n",
        "\n",
        "        # visit each cell in the grid\n",
        "        for r in range(rows):\n",
        "            for c in range(cols):\n",
        "                if grid[r][c] == 2:\n",
        "                    # add the rotten orange coordinates to the queue\n",
        "                    rotten.append((r, c))\n",
        "                elif grid[r][c] == 1:\n",
        "                    # update fresh oranges count\n",
        "                    fresh_cnt += 1\n",
        "\n",
        "        # keep track of minutes passed.\n",
        "        minutes_passed = 0\n",
        "\n",
        "        # If there are rotten oranges in the queue and there are still fresh oranges in the grid keep looping\n",
        "        while rotten and fresh_cnt > 0:\n",
        "\n",
        "            # update the number of minutes passed\n",
        "            # it is safe to update the minutes by 1, since we visit oranges level by level in BFS traversal.\n",
        "            minutes_passed += 1\n",
        "\n",
        "            # process rotten oranges on the current level\n",
        "            for _ in range(len(rotten)):\n",
        "                x, y = rotten.popleft()\n",
        "\n",
        "                # visit all the adjacent cells\n",
        "                for dx, dy in [(1,0), (-1,0), (0,1), (0,-1)]:\n",
        "                    # calculate the coordinates of the adjacent cell\n",
        "                    xx, yy = x + dx, y + dy\n",
        "                    # ignore the cell if it is out of the grid boundary\n",
        "                    if xx < 0 or xx == rows or yy < 0 or yy == cols:\n",
        "                        continue\n",
        "                    # ignore the cell if it is empty '0' or visited before '2'\n",
        "                    if grid[xx][yy] == 0 or grid[xx][yy] == 2:\n",
        "                        continue\n",
        "\n",
        "                    # update the fresh oranges count\n",
        "                    fresh_cnt -= 1\n",
        "\n",
        "                    # mark the current fresh orange as rotten\n",
        "                    grid[xx][yy] = 2\n",
        "\n",
        "                    # add the current rotten to the queue\n",
        "                    rotten.append((xx, yy))\n",
        "\n",
        "\n",
        "        # return the number of minutes taken to make all the fresh oranges to be rotten\n",
        "        # return -1 if there are fresh oranges left in the grid (there were no adjacent rotten oranges to make them rotten)\n",
        "        return minutes_passed if fresh_cnt == 0 else -1\n",
        "a= [[2,1,1],[1,1,0],[0,1,1]]\n",
        "o = Orange()\n",
        "o.orangesRotting(a)"
      ],
      "metadata": {
        "colab": {
          "base_uri": "https://localhost:8080/"
        },
        "id": "I9q19ODOGGZd",
        "outputId": "df28e8f7-f42e-4e9f-91af-44f9cafefdc7"
      },
      "execution_count": null,
      "outputs": [
        {
          "output_type": "execute_result",
          "data": {
            "text/plain": [
              "4"
            ]
          },
          "metadata": {},
          "execution_count": 23
        }
      ]
    },
    {
      "cell_type": "markdown",
      "source": [
        "## LC-33"
      ],
      "metadata": {
        "id": "F0DMFycZzRNs"
      }
    },
    {
      "cell_type": "code",
      "source": [
        "# LC-33\n",
        "def search(self, nums: List[int], target: int) -> int:\n",
        "        # use cases 1,2,3,4,5,6,7\n",
        "        # rotate form 6,7,1,2,3,4,5\n",
        "        # more rotate  4,5,6,7,1,2,3\n",
        "        # if we divide it into two parts, 6,7,1 | 2,3,4,5, right part is sorted normally\n",
        "        # 4,5,6,| 7,1,2,3 left part is sorted normally\n",
        "        # if we confirm whether target is inside the normally formated one or not and search\n",
        "        #  what if there are a lots of repeated data [not part of this question]\n",
        "        # please do one example before run the code\n",
        "\n",
        "        left, right = 0, len(nums)-1\n",
        "\n",
        "        while left <= right :\n",
        "            mid = (left + right) // 2  # route to its closes value\n",
        "\n",
        "            if target == nums[mid]:\n",
        "                return mid\n",
        "            if nums[mid] < nums[right]:\n",
        "                # right side is normal\n",
        "                if nums[mid] < target <= nums[right]:\n",
        "                    left = mid+1\n",
        "                else:\n",
        "                    right = mid -1\n",
        "            else:\n",
        "                if nums[mid] > target >= nums[left]:\n",
        "                    right = mid-1\n",
        "                else:\n",
        "                    left = mid + 1\n",
        "        return -1\n",
        "\n",
        "# use cases:\n",
        "# [4,5,6,7,0,1,2], 10\n",
        "# [4,5,6,7,0,1,2], 0\n",
        "# [1,3], 3\n",
        "# [0,1], 0\n",
        "# [1], 0"
      ],
      "metadata": {
        "colab": {
          "base_uri": "https://localhost:8080/"
        },
        "id": "aMkq0aI6NPq1",
        "outputId": "4260ab8f-fccc-4185-8604-e7e753751736"
      },
      "execution_count": null,
      "outputs": [
        {
          "output_type": "stream",
          "name": "stdout",
          "text": [
            "3.0\n"
          ]
        }
      ]
    },
    {
      "cell_type": "code",
      "source": [
        "# if there are many repeated elements\n",
        "class Solution:\n",
        "    def search(self, nums: List[int], target: int) -> bool:\n",
        "\n",
        "        def search(left, right):\n",
        "\n",
        "            if right < left:\n",
        "                return False\n",
        "\n",
        "            mid = (left+right)//2\n",
        "            if nums[mid] == target:\n",
        "                return True\n",
        "            if nums[mid] < nums[right]:\n",
        "                if nums[mid] < target <= nums[right]:\n",
        "                    return search(mid+1, right)\n",
        "                else:\n",
        "                    return search(left, mid-1)\n",
        "            elif nums[mid] > nums[left]:\n",
        "                if nums[mid] > target >= nums[left]:\n",
        "                    return search(left, mid-1)\n",
        "                else:\n",
        "                    return search(mid+1, right)\n",
        "            else:\n",
        "                # if nums[left] == nums[mid]: # left are all repeated\n",
        "                #     return search(mid+1, right)\n",
        "                # else: # need to search both as we have no clue now\n",
        "                result = search(left, mid-1)\n",
        "                if not result:\n",
        "                    return search(mid+1, right)\n",
        "                else:\n",
        "                    return result\n",
        "            return False\n",
        "\n",
        "        return search(0, len(nums)-1)\n",
        "\n",
        "        # check with a few example\n",
        "        # 2,5,6,0,0,1,2, t =0, first loop return true\n",
        "        # 2,5,6,0,0,1,2, t =2, first loop return true\n",
        "        # 2,5,6,7,8,9,1,2, t = 6, first loop return true\n",
        "        # 2,5,6,7,8,0,1,2, t = 6, first loop return true\n",
        "        # 1,0,1,1,1,1 and t = 0"
      ],
      "metadata": {
        "id": "H3RHpToUS5ib"
      },
      "execution_count": null,
      "outputs": []
    },
    {
      "cell_type": "markdown",
      "source": [
        "## Word break"
      ],
      "metadata": {
        "id": "7RXAxxs9zU3j"
      }
    },
    {
      "cell_type": "code",
      "source": [
        "# Word break\n",
        "# backtracking brute force - time limmite exceeded\n",
        "def wordBreak(s: str, wordDict: List[str]) -> bool:\n",
        "\n",
        "        def backtrack(partial_word):\n",
        "            if len(partial_word)==0:\n",
        "                return True\n",
        "\n",
        "            for i in range(len(partial_word)):\n",
        "                w = partial_word[:i+1]\n",
        "                if w in wordDict and backtrack(partial_word[i+1:]):\n",
        "                    return True\n",
        "            return False\n",
        "\n",
        "        return backtrack(s)\n",
        "#  s =\n",
        "# \"aaaaaaaaaaaaaaaaaaaaaaaaaaaaaaaaaaaaaaaaaaaaaaaaaaaaaaaaaaaaaaaaaaaaaaaaaaaaaaaaaaaaaaaaaaaaaaaaaaaaaaaaaaaaaaaaaaaaaaaaaaaaaaaaaaaaaaaaaaaaaaaaaaaaaab\"\n",
        "# wordDict =\n",
        "# [\"a\",\"aa\",\"aaa\",\"aaaa\",\"aaaaa\",\"aaaaaa\",\"aaaaaaa\",\"aaaaaaaa\",\"aaaaaaaaa\",\"aaaaaaaaaa\"]\n",
        "\n",
        "# the use case given here has a lots of repeated calls for the same thing and it goes over and over. We can memorize or run dp to not doing the same calculation\n"
      ],
      "metadata": {
        "id": "SkY3Y_NdfPSS"
      },
      "execution_count": null,
      "outputs": []
    },
    {
      "cell_type": "code",
      "source": [
        "# takes the prefx 'abc', and check if it is part of a valid sub string ?\n",
        "# need to check two condition, if it is inside the dictionary and then if the suffix of this prefix meet the condidtion\n",
        "# question here in my mind, if we know that then we already have the answer\n",
        "\n",
        "# [true]\n",
        "# if a in dictionary, then\n",
        "# [true, true]\n",
        "# aa is not in dictionary\n",
        "# [true, true, false, true,true,false, true], here a, aaa, aaaa in dictionary, now if ab is the suffix of aaaa and in the dictionary,\n",
        "# than aaaaab is convered by the dictionary\n",
        "from typing import List\n",
        "def wordbreak(s:str, wordDict: List[str])->bool:\n",
        "  n = len(s)\n",
        "  dp = [False]*(n+1)\n",
        "  dp[0] = True\n",
        "\n",
        "  for i in range(1, n+1): #O(n)\n",
        "    for j in range(i): #O(n)\n",
        "      word = s[j:i] #this is O(n)\n",
        "      print(word, i)\n",
        "      if word in wordDict and dp[j]:\n",
        "        dp[i] = True\n",
        "\n",
        "  return dp[n]\n",
        "# so it is O(n^3) as two loops with a substring computation takes place\n",
        "# sample [\"leet\", \"code\"], leetcode\n",
        "print(wordbreak(\"leetcode\", [\"leet\", \"code\"]))"
      ],
      "metadata": {
        "colab": {
          "base_uri": "https://localhost:8080/"
        },
        "id": "toqhl90-HElX",
        "outputId": "55a9f54a-2de8-4d3e-ac01-5f7455c548fe"
      },
      "execution_count": null,
      "outputs": [
        {
          "output_type": "stream",
          "name": "stdout",
          "text": [
            "l 1\n",
            "le 2\n",
            "e 2\n",
            "lee 3\n",
            "ee 3\n",
            "e 3\n",
            "leet 4\n",
            "eet 4\n",
            "et 4\n",
            "t 4\n",
            "leetc 5\n",
            "eetc 5\n",
            "etc 5\n",
            "tc 5\n",
            "c 5\n",
            "leetco 6\n",
            "eetco 6\n",
            "etco 6\n",
            "tco 6\n",
            "co 6\n",
            "o 6\n",
            "leetcod 7\n",
            "eetcod 7\n",
            "etcod 7\n",
            "tcod 7\n",
            "cod 7\n",
            "od 7\n",
            "d 7\n",
            "leetcode 8\n",
            "eetcode 8\n",
            "etcode 8\n",
            "tcode 8\n",
            "code 8\n",
            "ode 8\n",
            "de 8\n",
            "e 8\n",
            "True\n"
          ]
        }
      ]
    },
    {
      "cell_type": "markdown",
      "source": [
        "## Right side view of a tree"
      ],
      "metadata": {
        "id": "FSgsjrKBzYN6"
      }
    },
    {
      "cell_type": "code",
      "source": [
        "#  right view of binary tree\n",
        "# we start by 0 depth and len(result)==0\n",
        "# if we add elements from each depth, we chekc if the result is the same as the depth, if so add cur node value before it creases the depth\n",
        "# and add a new node\n",
        "from typing import List, Optional\n",
        "class TreeNode:\n",
        "  def __init__(self,val=0, left= None, right=None):\n",
        "    self.val=val\n",
        "    self.left, self.right=left, right\n",
        "\n",
        "def rightSideView(root: Optional[TreeNode])->List[Optional[TreeNode]]:\n",
        "  res = []\n",
        "\n",
        "\n",
        "  def right_view(cur: Optional[TreeNode], cur_depth: int):\n",
        "    if not cur:\n",
        "      return\n",
        "\n",
        "    if cur_depth == len(res):\n",
        "      res.append(cur.val)\n",
        "\n",
        "    right_view(cur.right, cur_depth+1)\n",
        "    right_view(cur.left, cur_depth+1)\n",
        "\n",
        "  right_view(root, 0)\n",
        "  return res"
      ],
      "metadata": {
        "id": "Nt1suNmbbZ5h"
      },
      "execution_count": null,
      "outputs": []
    }
  ]
}